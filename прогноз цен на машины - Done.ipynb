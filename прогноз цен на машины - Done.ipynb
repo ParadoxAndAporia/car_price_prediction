{
 "cells": [
  {
   "cell_type": "markdown",
   "metadata": {},
   "source": [
    "# Определение стоимости автомобилей"
   ]
  },
  {
   "cell_type": "markdown",
   "metadata": {},
   "source": [
    "Сервис по продаже автомобилей с пробегом «Не бит, не крашен» разрабатывает приложение для привлечения новых клиентов. В нём можно быстро узнать рыночную стоимость своего автомобиля. В вашем распоряжении исторические данные: технические характеристики, комплектации и цены автомобилей. Вам нужно построить модель для определения стоимости. \n",
    "\n",
    "Заказчику важны:\n",
    "\n",
    "- качество предсказания;\n",
    "- скорость предсказания;\n",
    "- время обучения."
   ]
  },
  {
   "cell_type": "markdown",
   "metadata": {},
   "source": [
    "## Подготовка данных"
   ]
  },
  {
   "cell_type": "code",
   "execution_count": 1,
   "metadata": {},
   "outputs": [],
   "source": [
    "import pandas as pd\n",
    "import numpy as np\n",
    "import matplotlib.pyplot as plt\n",
    "import seaborn as sns\n",
    "\n",
    "from catboost import CatBoostRegressor, Pool\n",
    "from sklearn.model_selection import train_test_split\n",
    "from sklearn.metrics import mean_squared_error\n",
    "from sklearn.ensemble import RandomForestRegressor\n",
    "from sklearn.model_selection import GridSearchCV\n",
    "from sklearn.preprocessing import OrdinalEncoder\n",
    "import lightgbm as lgb\n",
    "from lightgbm import LGBMRegressor\n",
    "\n",
    "import warnings\n",
    "warnings.filterwarnings('ignore')\n",
    "\n",
    "from IPython.display import Audio\n",
    "wave = np.sin(2*np.pi*400*np.arange(10000*2)/10000)\n",
    "\n",
    "\n",
    "\n",
    "\n"
   ]
  },
  {
   "cell_type": "markdown",
   "metadata": {},
   "source": [
    "\n",
    "### Загрузка данных"
   ]
  },
  {
   "cell_type": "code",
   "execution_count": 2,
   "metadata": {},
   "outputs": [],
   "source": [
    "df = pd.read_csv('/datasets/autos.csv')"
   ]
  },
  {
   "cell_type": "code",
   "execution_count": 3,
   "metadata": {},
   "outputs": [
    {
     "data": {
      "text/html": [
       "<div>\n",
       "<style scoped>\n",
       "    .dataframe tbody tr th:only-of-type {\n",
       "        vertical-align: middle;\n",
       "    }\n",
       "\n",
       "    .dataframe tbody tr th {\n",
       "        vertical-align: top;\n",
       "    }\n",
       "\n",
       "    .dataframe thead th {\n",
       "        text-align: right;\n",
       "    }\n",
       "</style>\n",
       "<table border=\"1\" class=\"dataframe\">\n",
       "  <thead>\n",
       "    <tr style=\"text-align: right;\">\n",
       "      <th></th>\n",
       "      <th>DateCrawled</th>\n",
       "      <th>Price</th>\n",
       "      <th>VehicleType</th>\n",
       "      <th>RegistrationYear</th>\n",
       "      <th>Gearbox</th>\n",
       "      <th>Power</th>\n",
       "      <th>Model</th>\n",
       "      <th>Kilometer</th>\n",
       "      <th>RegistrationMonth</th>\n",
       "      <th>FuelType</th>\n",
       "      <th>Brand</th>\n",
       "      <th>Repaired</th>\n",
       "      <th>DateCreated</th>\n",
       "      <th>NumberOfPictures</th>\n",
       "      <th>PostalCode</th>\n",
       "      <th>LastSeen</th>\n",
       "    </tr>\n",
       "  </thead>\n",
       "  <tbody>\n",
       "    <tr>\n",
       "      <th>0</th>\n",
       "      <td>2016-03-24 11:52:17</td>\n",
       "      <td>480</td>\n",
       "      <td>NaN</td>\n",
       "      <td>1993</td>\n",
       "      <td>manual</td>\n",
       "      <td>0</td>\n",
       "      <td>golf</td>\n",
       "      <td>150000</td>\n",
       "      <td>0</td>\n",
       "      <td>petrol</td>\n",
       "      <td>volkswagen</td>\n",
       "      <td>NaN</td>\n",
       "      <td>2016-03-24 00:00:00</td>\n",
       "      <td>0</td>\n",
       "      <td>70435</td>\n",
       "      <td>2016-04-07 03:16:57</td>\n",
       "    </tr>\n",
       "    <tr>\n",
       "      <th>1</th>\n",
       "      <td>2016-03-24 10:58:45</td>\n",
       "      <td>18300</td>\n",
       "      <td>coupe</td>\n",
       "      <td>2011</td>\n",
       "      <td>manual</td>\n",
       "      <td>190</td>\n",
       "      <td>NaN</td>\n",
       "      <td>125000</td>\n",
       "      <td>5</td>\n",
       "      <td>gasoline</td>\n",
       "      <td>audi</td>\n",
       "      <td>yes</td>\n",
       "      <td>2016-03-24 00:00:00</td>\n",
       "      <td>0</td>\n",
       "      <td>66954</td>\n",
       "      <td>2016-04-07 01:46:50</td>\n",
       "    </tr>\n",
       "    <tr>\n",
       "      <th>2</th>\n",
       "      <td>2016-03-14 12:52:21</td>\n",
       "      <td>9800</td>\n",
       "      <td>suv</td>\n",
       "      <td>2004</td>\n",
       "      <td>auto</td>\n",
       "      <td>163</td>\n",
       "      <td>grand</td>\n",
       "      <td>125000</td>\n",
       "      <td>8</td>\n",
       "      <td>gasoline</td>\n",
       "      <td>jeep</td>\n",
       "      <td>NaN</td>\n",
       "      <td>2016-03-14 00:00:00</td>\n",
       "      <td>0</td>\n",
       "      <td>90480</td>\n",
       "      <td>2016-04-05 12:47:46</td>\n",
       "    </tr>\n",
       "    <tr>\n",
       "      <th>3</th>\n",
       "      <td>2016-03-17 16:54:04</td>\n",
       "      <td>1500</td>\n",
       "      <td>small</td>\n",
       "      <td>2001</td>\n",
       "      <td>manual</td>\n",
       "      <td>75</td>\n",
       "      <td>golf</td>\n",
       "      <td>150000</td>\n",
       "      <td>6</td>\n",
       "      <td>petrol</td>\n",
       "      <td>volkswagen</td>\n",
       "      <td>no</td>\n",
       "      <td>2016-03-17 00:00:00</td>\n",
       "      <td>0</td>\n",
       "      <td>91074</td>\n",
       "      <td>2016-03-17 17:40:17</td>\n",
       "    </tr>\n",
       "    <tr>\n",
       "      <th>4</th>\n",
       "      <td>2016-03-31 17:25:20</td>\n",
       "      <td>3600</td>\n",
       "      <td>small</td>\n",
       "      <td>2008</td>\n",
       "      <td>manual</td>\n",
       "      <td>69</td>\n",
       "      <td>fabia</td>\n",
       "      <td>90000</td>\n",
       "      <td>7</td>\n",
       "      <td>gasoline</td>\n",
       "      <td>skoda</td>\n",
       "      <td>no</td>\n",
       "      <td>2016-03-31 00:00:00</td>\n",
       "      <td>0</td>\n",
       "      <td>60437</td>\n",
       "      <td>2016-04-06 10:17:21</td>\n",
       "    </tr>\n",
       "  </tbody>\n",
       "</table>\n",
       "</div>"
      ],
      "text/plain": [
       "           DateCrawled  Price VehicleType  RegistrationYear Gearbox  Power  \\\n",
       "0  2016-03-24 11:52:17    480         NaN              1993  manual      0   \n",
       "1  2016-03-24 10:58:45  18300       coupe              2011  manual    190   \n",
       "2  2016-03-14 12:52:21   9800         suv              2004    auto    163   \n",
       "3  2016-03-17 16:54:04   1500       small              2001  manual     75   \n",
       "4  2016-03-31 17:25:20   3600       small              2008  manual     69   \n",
       "\n",
       "   Model  Kilometer  RegistrationMonth  FuelType       Brand Repaired  \\\n",
       "0   golf     150000                  0    petrol  volkswagen      NaN   \n",
       "1    NaN     125000                  5  gasoline        audi      yes   \n",
       "2  grand     125000                  8  gasoline        jeep      NaN   \n",
       "3   golf     150000                  6    petrol  volkswagen       no   \n",
       "4  fabia      90000                  7  gasoline       skoda       no   \n",
       "\n",
       "           DateCreated  NumberOfPictures  PostalCode             LastSeen  \n",
       "0  2016-03-24 00:00:00                 0       70435  2016-04-07 03:16:57  \n",
       "1  2016-03-24 00:00:00                 0       66954  2016-04-07 01:46:50  \n",
       "2  2016-03-14 00:00:00                 0       90480  2016-04-05 12:47:46  \n",
       "3  2016-03-17 00:00:00                 0       91074  2016-03-17 17:40:17  \n",
       "4  2016-03-31 00:00:00                 0       60437  2016-04-06 10:17:21  "
      ]
     },
     "execution_count": 3,
     "metadata": {},
     "output_type": "execute_result"
    }
   ],
   "source": [
    "df.head()"
   ]
  },
  {
   "cell_type": "markdown",
   "metadata": {},
   "source": [
    "### Легенда:\n",
    "   "
   ]
  },
  {
   "cell_type": "markdown",
   "metadata": {},
   "source": [
    "**Признаки:**\n",
    "\n",
    "* DateCrawled — дата скачивания анкеты из базы\n",
    "* VehicleType — тип автомобильного кузова\n",
    "* RegistrationYear — год регистрации автомобиля\n",
    "* Gearbox — тип коробки передач\n",
    "* Power — мощность (л. с.)\n",
    "* Model — модель автомобиля\n",
    "* Kilometer — пробег (км)\n",
    "* RegistrationMonth — месяц регистрации автомобиля\n",
    "* FuelType — тип топлива\n",
    "* Brand — марка автомобиля\n",
    "* NotRepaired — была машина в ремонте или нет\n",
    "* DateCreated — дата создания анкеты\n",
    "* NumberOfPictures — количество фотографий автомобиля\n",
    "* PostalCode — почтовый индекс владельца анкеты (пользователя)\n",
    "* LastSeen — дата последней активности пользователя\n",
    "\n",
    "**Целевой признак:**\n",
    "\n",
    "* Price — цена (евро)"
   ]
  },
  {
   "cell_type": "code",
   "execution_count": 4,
   "metadata": {},
   "outputs": [
    {
     "name": "stdout",
     "output_type": "stream",
     "text": [
      "<class 'pandas.core.frame.DataFrame'>\n",
      "RangeIndex: 354369 entries, 0 to 354368\n",
      "Data columns (total 16 columns):\n",
      " #   Column             Non-Null Count   Dtype \n",
      "---  ------             --------------   ----- \n",
      " 0   DateCrawled        354369 non-null  object\n",
      " 1   Price              354369 non-null  int64 \n",
      " 2   VehicleType        316879 non-null  object\n",
      " 3   RegistrationYear   354369 non-null  int64 \n",
      " 4   Gearbox            334536 non-null  object\n",
      " 5   Power              354369 non-null  int64 \n",
      " 6   Model              334664 non-null  object\n",
      " 7   Kilometer          354369 non-null  int64 \n",
      " 8   RegistrationMonth  354369 non-null  int64 \n",
      " 9   FuelType           321474 non-null  object\n",
      " 10  Brand              354369 non-null  object\n",
      " 11  Repaired           283215 non-null  object\n",
      " 12  DateCreated        354369 non-null  object\n",
      " 13  NumberOfPictures   354369 non-null  int64 \n",
      " 14  PostalCode         354369 non-null  int64 \n",
      " 15  LastSeen           354369 non-null  object\n",
      "dtypes: int64(7), object(9)\n",
      "memory usage: 43.3+ MB\n"
     ]
    }
   ],
   "source": [
    "df.info()"
   ]
  },
  {
   "cell_type": "code",
   "execution_count": 5,
   "metadata": {
    "scrolled": true
   },
   "outputs": [
    {
     "data": {
      "text/html": [
       "<div>\n",
       "<style scoped>\n",
       "    .dataframe tbody tr th:only-of-type {\n",
       "        vertical-align: middle;\n",
       "    }\n",
       "\n",
       "    .dataframe tbody tr th {\n",
       "        vertical-align: top;\n",
       "    }\n",
       "\n",
       "    .dataframe thead th {\n",
       "        text-align: right;\n",
       "    }\n",
       "</style>\n",
       "<table border=\"1\" class=\"dataframe\">\n",
       "  <thead>\n",
       "    <tr style=\"text-align: right;\">\n",
       "      <th></th>\n",
       "      <th>DateCrawled</th>\n",
       "      <th>Price</th>\n",
       "      <th>VehicleType</th>\n",
       "      <th>RegistrationYear</th>\n",
       "      <th>Gearbox</th>\n",
       "      <th>Power</th>\n",
       "      <th>Model</th>\n",
       "      <th>Kilometer</th>\n",
       "      <th>RegistrationMonth</th>\n",
       "      <th>FuelType</th>\n",
       "      <th>Brand</th>\n",
       "      <th>Repaired</th>\n",
       "      <th>DateCreated</th>\n",
       "      <th>NumberOfPictures</th>\n",
       "      <th>PostalCode</th>\n",
       "      <th>LastSeen</th>\n",
       "    </tr>\n",
       "  </thead>\n",
       "  <tbody>\n",
       "    <tr>\n",
       "      <th>41529</th>\n",
       "      <td>2016-03-18 18:46:15</td>\n",
       "      <td>1999</td>\n",
       "      <td>wagon</td>\n",
       "      <td>2001</td>\n",
       "      <td>manual</td>\n",
       "      <td>131</td>\n",
       "      <td>passat</td>\n",
       "      <td>150000</td>\n",
       "      <td>7</td>\n",
       "      <td>gasoline</td>\n",
       "      <td>volkswagen</td>\n",
       "      <td>no</td>\n",
       "      <td>2016-03-18 00:00:00</td>\n",
       "      <td>0</td>\n",
       "      <td>36391</td>\n",
       "      <td>2016-03-18 18:46:15</td>\n",
       "    </tr>\n",
       "    <tr>\n",
       "      <th>88087</th>\n",
       "      <td>2016-03-08 18:42:48</td>\n",
       "      <td>1799</td>\n",
       "      <td>coupe</td>\n",
       "      <td>1999</td>\n",
       "      <td>auto</td>\n",
       "      <td>193</td>\n",
       "      <td>clk</td>\n",
       "      <td>20000</td>\n",
       "      <td>7</td>\n",
       "      <td>petrol</td>\n",
       "      <td>mercedes_benz</td>\n",
       "      <td>no</td>\n",
       "      <td>2016-03-08 00:00:00</td>\n",
       "      <td>0</td>\n",
       "      <td>89518</td>\n",
       "      <td>2016-03-09 09:46:57</td>\n",
       "    </tr>\n",
       "    <tr>\n",
       "      <th>90964</th>\n",
       "      <td>2016-03-28 00:56:10</td>\n",
       "      <td>1000</td>\n",
       "      <td>small</td>\n",
       "      <td>2002</td>\n",
       "      <td>manual</td>\n",
       "      <td>83</td>\n",
       "      <td>other</td>\n",
       "      <td>150000</td>\n",
       "      <td>1</td>\n",
       "      <td>petrol</td>\n",
       "      <td>suzuki</td>\n",
       "      <td>no</td>\n",
       "      <td>2016-03-28 00:00:00</td>\n",
       "      <td>0</td>\n",
       "      <td>66589</td>\n",
       "      <td>2016-03-28 08:46:21</td>\n",
       "    </tr>\n",
       "    <tr>\n",
       "      <th>171088</th>\n",
       "      <td>2016-03-08 18:42:48</td>\n",
       "      <td>1799</td>\n",
       "      <td>coupe</td>\n",
       "      <td>1999</td>\n",
       "      <td>auto</td>\n",
       "      <td>193</td>\n",
       "      <td>clk</td>\n",
       "      <td>20000</td>\n",
       "      <td>7</td>\n",
       "      <td>petrol</td>\n",
       "      <td>mercedes_benz</td>\n",
       "      <td>no</td>\n",
       "      <td>2016-03-08 00:00:00</td>\n",
       "      <td>0</td>\n",
       "      <td>89518</td>\n",
       "      <td>2016-03-09 09:46:57</td>\n",
       "    </tr>\n",
       "    <tr>\n",
       "      <th>187735</th>\n",
       "      <td>2016-04-03 09:01:15</td>\n",
       "      <td>4699</td>\n",
       "      <td>coupe</td>\n",
       "      <td>2003</td>\n",
       "      <td>auto</td>\n",
       "      <td>218</td>\n",
       "      <td>clk</td>\n",
       "      <td>125000</td>\n",
       "      <td>6</td>\n",
       "      <td>petrol</td>\n",
       "      <td>mercedes_benz</td>\n",
       "      <td>yes</td>\n",
       "      <td>2016-04-03 00:00:00</td>\n",
       "      <td>0</td>\n",
       "      <td>75196</td>\n",
       "      <td>2016-04-07 09:44:54</td>\n",
       "    </tr>\n",
       "    <tr>\n",
       "      <th>231258</th>\n",
       "      <td>2016-03-28 00:56:10</td>\n",
       "      <td>1000</td>\n",
       "      <td>small</td>\n",
       "      <td>2002</td>\n",
       "      <td>manual</td>\n",
       "      <td>83</td>\n",
       "      <td>other</td>\n",
       "      <td>150000</td>\n",
       "      <td>1</td>\n",
       "      <td>petrol</td>\n",
       "      <td>suzuki</td>\n",
       "      <td>no</td>\n",
       "      <td>2016-03-28 00:00:00</td>\n",
       "      <td>0</td>\n",
       "      <td>66589</td>\n",
       "      <td>2016-03-28 08:46:21</td>\n",
       "    </tr>\n",
       "    <tr>\n",
       "      <th>258109</th>\n",
       "      <td>2016-04-03 09:01:15</td>\n",
       "      <td>4699</td>\n",
       "      <td>coupe</td>\n",
       "      <td>2003</td>\n",
       "      <td>auto</td>\n",
       "      <td>218</td>\n",
       "      <td>clk</td>\n",
       "      <td>125000</td>\n",
       "      <td>6</td>\n",
       "      <td>petrol</td>\n",
       "      <td>mercedes_benz</td>\n",
       "      <td>yes</td>\n",
       "      <td>2016-04-03 00:00:00</td>\n",
       "      <td>0</td>\n",
       "      <td>75196</td>\n",
       "      <td>2016-04-07 09:44:54</td>\n",
       "    </tr>\n",
       "    <tr>\n",
       "      <th>325651</th>\n",
       "      <td>2016-03-18 18:46:15</td>\n",
       "      <td>1999</td>\n",
       "      <td>wagon</td>\n",
       "      <td>2001</td>\n",
       "      <td>manual</td>\n",
       "      <td>131</td>\n",
       "      <td>passat</td>\n",
       "      <td>150000</td>\n",
       "      <td>7</td>\n",
       "      <td>gasoline</td>\n",
       "      <td>volkswagen</td>\n",
       "      <td>no</td>\n",
       "      <td>2016-03-18 00:00:00</td>\n",
       "      <td>0</td>\n",
       "      <td>36391</td>\n",
       "      <td>2016-03-18 18:46:15</td>\n",
       "    </tr>\n",
       "  </tbody>\n",
       "</table>\n",
       "</div>"
      ],
      "text/plain": [
       "                DateCrawled  Price VehicleType  RegistrationYear Gearbox  \\\n",
       "41529   2016-03-18 18:46:15   1999       wagon              2001  manual   \n",
       "88087   2016-03-08 18:42:48   1799       coupe              1999    auto   \n",
       "90964   2016-03-28 00:56:10   1000       small              2002  manual   \n",
       "171088  2016-03-08 18:42:48   1799       coupe              1999    auto   \n",
       "187735  2016-04-03 09:01:15   4699       coupe              2003    auto   \n",
       "231258  2016-03-28 00:56:10   1000       small              2002  manual   \n",
       "258109  2016-04-03 09:01:15   4699       coupe              2003    auto   \n",
       "325651  2016-03-18 18:46:15   1999       wagon              2001  manual   \n",
       "\n",
       "        Power   Model  Kilometer  RegistrationMonth  FuelType          Brand  \\\n",
       "41529     131  passat     150000                  7  gasoline     volkswagen   \n",
       "88087     193     clk      20000                  7    petrol  mercedes_benz   \n",
       "90964      83   other     150000                  1    petrol         suzuki   \n",
       "171088    193     clk      20000                  7    petrol  mercedes_benz   \n",
       "187735    218     clk     125000                  6    petrol  mercedes_benz   \n",
       "231258     83   other     150000                  1    petrol         suzuki   \n",
       "258109    218     clk     125000                  6    petrol  mercedes_benz   \n",
       "325651    131  passat     150000                  7  gasoline     volkswagen   \n",
       "\n",
       "       Repaired          DateCreated  NumberOfPictures  PostalCode  \\\n",
       "41529        no  2016-03-18 00:00:00                 0       36391   \n",
       "88087        no  2016-03-08 00:00:00                 0       89518   \n",
       "90964        no  2016-03-28 00:00:00                 0       66589   \n",
       "171088       no  2016-03-08 00:00:00                 0       89518   \n",
       "187735      yes  2016-04-03 00:00:00                 0       75196   \n",
       "231258       no  2016-03-28 00:00:00                 0       66589   \n",
       "258109      yes  2016-04-03 00:00:00                 0       75196   \n",
       "325651       no  2016-03-18 00:00:00                 0       36391   \n",
       "\n",
       "                   LastSeen  \n",
       "41529   2016-03-18 18:46:15  \n",
       "88087   2016-03-09 09:46:57  \n",
       "90964   2016-03-28 08:46:21  \n",
       "171088  2016-03-09 09:46:57  \n",
       "187735  2016-04-07 09:44:54  \n",
       "231258  2016-03-28 08:46:21  \n",
       "258109  2016-04-07 09:44:54  \n",
       "325651  2016-03-18 18:46:15  "
      ]
     },
     "execution_count": 5,
     "metadata": {},
     "output_type": "execute_result"
    }
   ],
   "source": [
    "df[df.duplicated(keep=False)]"
   ]
  },
  {
   "cell_type": "code",
   "execution_count": 6,
   "metadata": {},
   "outputs": [
    {
     "data": {
      "text/html": [
       "<div>\n",
       "<style scoped>\n",
       "    .dataframe tbody tr th:only-of-type {\n",
       "        vertical-align: middle;\n",
       "    }\n",
       "\n",
       "    .dataframe tbody tr th {\n",
       "        vertical-align: top;\n",
       "    }\n",
       "\n",
       "    .dataframe thead th {\n",
       "        text-align: right;\n",
       "    }\n",
       "</style>\n",
       "<table border=\"1\" class=\"dataframe\">\n",
       "  <thead>\n",
       "    <tr style=\"text-align: right;\">\n",
       "      <th></th>\n",
       "      <th>Price</th>\n",
       "      <th>RegistrationYear</th>\n",
       "      <th>Power</th>\n",
       "      <th>Kilometer</th>\n",
       "      <th>RegistrationMonth</th>\n",
       "      <th>NumberOfPictures</th>\n",
       "      <th>PostalCode</th>\n",
       "    </tr>\n",
       "  </thead>\n",
       "  <tbody>\n",
       "    <tr>\n",
       "      <th>count</th>\n",
       "      <td>354369.000000</td>\n",
       "      <td>354369.000000</td>\n",
       "      <td>354369.000000</td>\n",
       "      <td>354369.000000</td>\n",
       "      <td>354369.000000</td>\n",
       "      <td>354369.0</td>\n",
       "      <td>354369.000000</td>\n",
       "    </tr>\n",
       "    <tr>\n",
       "      <th>mean</th>\n",
       "      <td>4416.656776</td>\n",
       "      <td>2004.234448</td>\n",
       "      <td>110.094337</td>\n",
       "      <td>128211.172535</td>\n",
       "      <td>5.714645</td>\n",
       "      <td>0.0</td>\n",
       "      <td>50508.689087</td>\n",
       "    </tr>\n",
       "    <tr>\n",
       "      <th>std</th>\n",
       "      <td>4514.158514</td>\n",
       "      <td>90.227958</td>\n",
       "      <td>189.850405</td>\n",
       "      <td>37905.341530</td>\n",
       "      <td>3.726421</td>\n",
       "      <td>0.0</td>\n",
       "      <td>25783.096248</td>\n",
       "    </tr>\n",
       "    <tr>\n",
       "      <th>min</th>\n",
       "      <td>0.000000</td>\n",
       "      <td>1000.000000</td>\n",
       "      <td>0.000000</td>\n",
       "      <td>5000.000000</td>\n",
       "      <td>0.000000</td>\n",
       "      <td>0.0</td>\n",
       "      <td>1067.000000</td>\n",
       "    </tr>\n",
       "    <tr>\n",
       "      <th>25%</th>\n",
       "      <td>1050.000000</td>\n",
       "      <td>1999.000000</td>\n",
       "      <td>69.000000</td>\n",
       "      <td>125000.000000</td>\n",
       "      <td>3.000000</td>\n",
       "      <td>0.0</td>\n",
       "      <td>30165.000000</td>\n",
       "    </tr>\n",
       "    <tr>\n",
       "      <th>50%</th>\n",
       "      <td>2700.000000</td>\n",
       "      <td>2003.000000</td>\n",
       "      <td>105.000000</td>\n",
       "      <td>150000.000000</td>\n",
       "      <td>6.000000</td>\n",
       "      <td>0.0</td>\n",
       "      <td>49413.000000</td>\n",
       "    </tr>\n",
       "    <tr>\n",
       "      <th>75%</th>\n",
       "      <td>6400.000000</td>\n",
       "      <td>2008.000000</td>\n",
       "      <td>143.000000</td>\n",
       "      <td>150000.000000</td>\n",
       "      <td>9.000000</td>\n",
       "      <td>0.0</td>\n",
       "      <td>71083.000000</td>\n",
       "    </tr>\n",
       "    <tr>\n",
       "      <th>max</th>\n",
       "      <td>20000.000000</td>\n",
       "      <td>9999.000000</td>\n",
       "      <td>20000.000000</td>\n",
       "      <td>150000.000000</td>\n",
       "      <td>12.000000</td>\n",
       "      <td>0.0</td>\n",
       "      <td>99998.000000</td>\n",
       "    </tr>\n",
       "  </tbody>\n",
       "</table>\n",
       "</div>"
      ],
      "text/plain": [
       "               Price  RegistrationYear          Power      Kilometer  \\\n",
       "count  354369.000000     354369.000000  354369.000000  354369.000000   \n",
       "mean     4416.656776       2004.234448     110.094337  128211.172535   \n",
       "std      4514.158514         90.227958     189.850405   37905.341530   \n",
       "min         0.000000       1000.000000       0.000000    5000.000000   \n",
       "25%      1050.000000       1999.000000      69.000000  125000.000000   \n",
       "50%      2700.000000       2003.000000     105.000000  150000.000000   \n",
       "75%      6400.000000       2008.000000     143.000000  150000.000000   \n",
       "max     20000.000000       9999.000000   20000.000000  150000.000000   \n",
       "\n",
       "       RegistrationMonth  NumberOfPictures     PostalCode  \n",
       "count      354369.000000          354369.0  354369.000000  \n",
       "mean            5.714645               0.0   50508.689087  \n",
       "std             3.726421               0.0   25783.096248  \n",
       "min             0.000000               0.0    1067.000000  \n",
       "25%             3.000000               0.0   30165.000000  \n",
       "50%             6.000000               0.0   49413.000000  \n",
       "75%             9.000000               0.0   71083.000000  \n",
       "max            12.000000               0.0   99998.000000  "
      ]
     },
     "execution_count": 6,
     "metadata": {},
     "output_type": "execute_result"
    }
   ],
   "source": [
    "df.describe()"
   ]
  },
  {
   "cell_type": "markdown",
   "metadata": {},
   "source": [
    "**Выделим  важные признаки**\n",
    "\n",
    "VehicleType, Gearbox, Power, Kilometer, FuelType, Brand, NotRepaired, RegistrationYear, Model.\n",
    "\n",
    "Признаки NumberOfPictures, DateCreated, PostalCode, DateCrawled, RegistrationMonth, LastSeen не несут полезной информации, их можно удалить.\n",
    "\n",
    "\n"
   ]
  },
  {
   "cell_type": "markdown",
   "metadata": {},
   "source": [
    "### Предобработка данных\n"
   ]
  },
  {
   "cell_type": "markdown",
   "metadata": {},
   "source": [
    "Проверим целевой признак **price** на нулевые значения:\n"
   ]
  },
  {
   "cell_type": "code",
   "execution_count": 7,
   "metadata": {},
   "outputs": [
    {
     "name": "stdout",
     "output_type": "stream",
     "text": [
      "Колличество объявлений с нулевой ценой: 10772\n"
     ]
    }
   ],
   "source": [
    "print(\"Колличество объявлений с нулевой ценой:\",len(df.loc[df['Price'] == 0]))"
   ]
  },
  {
   "cell_type": "code",
   "execution_count": 8,
   "metadata": {},
   "outputs": [],
   "source": [
    "df = df.loc[df['Price'] != 0]\n"
   ]
  },
  {
   "cell_type": "code",
   "execution_count": 9,
   "metadata": {
    "scrolled": false
   },
   "outputs": [
    {
     "data": {
      "image/png": "[encoded data removed]",
      "text/plain": [
       "<Figure size 720x1080 with 1 Axes>"
      ]
     },
     "metadata": {
      "needs_background": "light"
     },
     "output_type": "display_data"
    },
    {
     "name": "stdout",
     "output_type": "stream",
     "text": [
      "Колличество объявлений с ценой меньше 300 долларов: 12391\n"
     ]
    },
    {
     "data": {
      "image/png": "[encoded data removed]",
      "text/plain": [
       "<Figure size 1080x576 with 1 Axes>"
      ]
     },
     "metadata": {
      "needs_background": "light"
     },
     "output_type": "display_data"
    }
   ],
   "source": [
    "df_clear=df.loc[(df['Price']<1050)]\n",
    "df_clear[\"Price\"].plot(kind = 'box', figsize = (10, 15), label ='Price')\n",
    "plt.show()\n",
    "\n",
    "\n",
    "plt.figure(figsize=(15,8))\n",
    "sns.distplot(df_clear[\"Price\"])\n",
    "plt.title('Распределение значений стоимости автомобиля Дешевле 1050 долларов', fontsize=12)\n",
    "\n",
    "print(\"Колличество объявлений с ценой меньше 300 долларов:\",len(df_clear.loc[df['Price'] < 300]))\n"
   ]
  },
  {
   "cell_type": "markdown",
   "metadata": {},
   "source": [
    "На графике видны всплески в районе круглых значений, что свойственно людям, а также круглое значение + ~20 долларов, которые затем обычно сбрасывают при торге, продавая, в итоге, за круглые значения. Таким образом, в большинстве своем, скорее всего это не аномалии. Однако, согласно современным данным <a href=\"https://www.ooyyo.com/united+states/used-cars-for-sale/c=CDA31D7114D3854F111BF66FAA652D53EDA2/\">американского сайта с 1 317 971 объявлением о продаже б\\у автомобилей</a> автомобили дешевле 400$ - редкость. Но поскольку у нас менее свежая база - проведем границу в районе 300 долларов.\n"
   ]
  },
  {
   "cell_type": "code",
   "execution_count": 10,
   "metadata": {},
   "outputs": [],
   "source": [
    "df = df.loc[df['Price']> 299]"
   ]
  },
  {
   "cell_type": "markdown",
   "metadata": {},
   "source": [
    "Заодно проверим на дубликаты:"
   ]
  },
  {
   "cell_type": "code",
   "execution_count": 11,
   "metadata": {},
   "outputs": [
    {
     "data": {
      "text/plain": [
       "4"
      ]
     },
     "execution_count": 11,
     "metadata": {},
     "output_type": "execute_result"
    }
   ],
   "source": [
    "df.duplicated().sum()"
   ]
  },
  {
   "cell_type": "code",
   "execution_count": 12,
   "metadata": {},
   "outputs": [
    {
     "data": {
      "text/plain": [
       "0"
      ]
     },
     "execution_count": 12,
     "metadata": {},
     "output_type": "execute_result"
    }
   ],
   "source": [
    "df = df.drop_duplicates()\n",
    "df.duplicated().sum()\n"
   ]
  },
  {
   "cell_type": "markdown",
   "metadata": {},
   "source": [
    "* В **VehicleType** пропусков около 10 процентов, это слишком много чтобы просто их удалить. \n",
    "* Замена на среднюю тоже не годиться, т.к. существенно скажется на точности предсказания.\n",
    "* Заменим пропущенные значения на unknown\n",
    "<br><br>\n",
    "* Справка: A vehicle (from Latin: vehiculum) is a machine that transports people or cargo. Vehicles include wagons, bicycles, motor vehicles (motorcycles, cars, trucks, buses, mobility scooters for disabled people), railed vehicles (trains, trams), watercraft (ships, boats, underwater vehicles), amphibious vehicles (screw-propelled vehicles, hovercraft), aircraft (airplanes, helicopters, aerostats) and spacecraft.\n"
   ]
  },
  {
   "cell_type": "code",
   "execution_count": 13,
   "metadata": {},
   "outputs": [
    {
     "name": "stdout",
     "output_type": "stream",
     "text": [
      "Колличество объявлений с незаполненным типом кузова: 29935\n"
     ]
    }
   ],
   "source": [
    "print(\"Колличество объявлений с незаполненным типом кузова:\", len(df.loc[df['VehicleType'].isna()]))\n"
   ]
  },
  {
   "cell_type": "code",
   "execution_count": 14,
   "metadata": {},
   "outputs": [],
   "source": [
    "df['VehicleType'] = df['VehicleType'].fillna('unknown')"
   ]
  },
  {
   "cell_type": "markdown",
   "metadata": {},
   "source": [
    "\n",
    "Количество явно некорректных данных **RegistrationYear** незначительно. Удалим."
   ]
  },
  {
   "cell_type": "code",
   "execution_count": 15,
   "metadata": {},
   "outputs": [
    {
     "name": "stdout",
     "output_type": "stream",
     "text": [
      "Колличество объявлений с некорректной датой: 97\n"
     ]
    }
   ],
   "source": [
    "print(\"Колличество объявлений с некорректной датой:\",len(df.loc[(df['RegistrationYear'] > 2022) | (df['RegistrationYear'] < 1900)]))\n"
   ]
  },
  {
   "cell_type": "code",
   "execution_count": 16,
   "metadata": {},
   "outputs": [],
   "source": [
    "df = df.loc[(df['RegistrationYear'] <= 2022) & (df['RegistrationYear'] >= 1900)]\n",
    "\n"
   ]
  },
  {
   "cell_type": "code",
   "execution_count": 17,
   "metadata": {},
   "outputs": [],
   "source": [
    "df['DateCreated'] = pd.to_datetime(df['DateCreated'])\n",
    "df['DateCreated'] = pd.DatetimeIndex(df['DateCreated']).year"
   ]
  },
  {
   "cell_type": "code",
   "execution_count": 18,
   "metadata": {
    "scrolled": true
   },
   "outputs": [
    {
     "data": {
      "text/html": [
       "<div>\n",
       "<style scoped>\n",
       "    .dataframe tbody tr th:only-of-type {\n",
       "        vertical-align: middle;\n",
       "    }\n",
       "\n",
       "    .dataframe tbody tr th {\n",
       "        vertical-align: top;\n",
       "    }\n",
       "\n",
       "    .dataframe thead th {\n",
       "        text-align: right;\n",
       "    }\n",
       "</style>\n",
       "<table border=\"1\" class=\"dataframe\">\n",
       "  <thead>\n",
       "    <tr style=\"text-align: right;\">\n",
       "      <th></th>\n",
       "      <th>DateCrawled</th>\n",
       "      <th>Price</th>\n",
       "      <th>VehicleType</th>\n",
       "      <th>RegistrationYear</th>\n",
       "      <th>Gearbox</th>\n",
       "      <th>Power</th>\n",
       "      <th>Model</th>\n",
       "      <th>Kilometer</th>\n",
       "      <th>RegistrationMonth</th>\n",
       "      <th>FuelType</th>\n",
       "      <th>Brand</th>\n",
       "      <th>Repaired</th>\n",
       "      <th>DateCreated</th>\n",
       "      <th>NumberOfPictures</th>\n",
       "      <th>PostalCode</th>\n",
       "      <th>LastSeen</th>\n",
       "    </tr>\n",
       "  </thead>\n",
       "  <tbody>\n",
       "    <tr>\n",
       "      <th>22</th>\n",
       "      <td>2016-03-23 14:52:51</td>\n",
       "      <td>2900</td>\n",
       "      <td>unknown</td>\n",
       "      <td>2018</td>\n",
       "      <td>manual</td>\n",
       "      <td>90</td>\n",
       "      <td>meriva</td>\n",
       "      <td>150000</td>\n",
       "      <td>5</td>\n",
       "      <td>petrol</td>\n",
       "      <td>opel</td>\n",
       "      <td>no</td>\n",
       "      <td>2016</td>\n",
       "      <td>0</td>\n",
       "      <td>49716</td>\n",
       "      <td>2016-03-31 01:16:33</td>\n",
       "    </tr>\n",
       "    <tr>\n",
       "      <th>26</th>\n",
       "      <td>2016-03-10 19:38:18</td>\n",
       "      <td>5555</td>\n",
       "      <td>unknown</td>\n",
       "      <td>2017</td>\n",
       "      <td>manual</td>\n",
       "      <td>125</td>\n",
       "      <td>c4</td>\n",
       "      <td>125000</td>\n",
       "      <td>4</td>\n",
       "      <td>NaN</td>\n",
       "      <td>citroen</td>\n",
       "      <td>no</td>\n",
       "      <td>2016</td>\n",
       "      <td>0</td>\n",
       "      <td>31139</td>\n",
       "      <td>2016-03-16 09:16:46</td>\n",
       "    </tr>\n",
       "    <tr>\n",
       "      <th>48</th>\n",
       "      <td>2016-03-25 14:40:12</td>\n",
       "      <td>7750</td>\n",
       "      <td>unknown</td>\n",
       "      <td>2017</td>\n",
       "      <td>manual</td>\n",
       "      <td>80</td>\n",
       "      <td>golf</td>\n",
       "      <td>100000</td>\n",
       "      <td>1</td>\n",
       "      <td>petrol</td>\n",
       "      <td>volkswagen</td>\n",
       "      <td>NaN</td>\n",
       "      <td>2016</td>\n",
       "      <td>0</td>\n",
       "      <td>48499</td>\n",
       "      <td>2016-03-31 21:47:44</td>\n",
       "    </tr>\n",
       "    <tr>\n",
       "      <th>51</th>\n",
       "      <td>2016-03-07 18:57:08</td>\n",
       "      <td>2000</td>\n",
       "      <td>unknown</td>\n",
       "      <td>2017</td>\n",
       "      <td>manual</td>\n",
       "      <td>90</td>\n",
       "      <td>punto</td>\n",
       "      <td>150000</td>\n",
       "      <td>11</td>\n",
       "      <td>gasoline</td>\n",
       "      <td>fiat</td>\n",
       "      <td>yes</td>\n",
       "      <td>2016</td>\n",
       "      <td>0</td>\n",
       "      <td>66115</td>\n",
       "      <td>2016-03-07 18:57:08</td>\n",
       "    </tr>\n",
       "    <tr>\n",
       "      <th>57</th>\n",
       "      <td>2016-03-10 20:53:19</td>\n",
       "      <td>2399</td>\n",
       "      <td>unknown</td>\n",
       "      <td>2018</td>\n",
       "      <td>manual</td>\n",
       "      <td>64</td>\n",
       "      <td>other</td>\n",
       "      <td>125000</td>\n",
       "      <td>3</td>\n",
       "      <td>NaN</td>\n",
       "      <td>seat</td>\n",
       "      <td>no</td>\n",
       "      <td>2016</td>\n",
       "      <td>0</td>\n",
       "      <td>33397</td>\n",
       "      <td>2016-03-25 10:17:37</td>\n",
       "    </tr>\n",
       "  </tbody>\n",
       "</table>\n",
       "</div>"
      ],
      "text/plain": [
       "            DateCrawled  Price VehicleType  RegistrationYear Gearbox  Power  \\\n",
       "22  2016-03-23 14:52:51   2900     unknown              2018  manual     90   \n",
       "26  2016-03-10 19:38:18   5555     unknown              2017  manual    125   \n",
       "48  2016-03-25 14:40:12   7750     unknown              2017  manual     80   \n",
       "51  2016-03-07 18:57:08   2000     unknown              2017  manual     90   \n",
       "57  2016-03-10 20:53:19   2399     unknown              2018  manual     64   \n",
       "\n",
       "     Model  Kilometer  RegistrationMonth  FuelType       Brand Repaired  \\\n",
       "22  meriva     150000                  5    petrol        opel       no   \n",
       "26      c4     125000                  4       NaN     citroen       no   \n",
       "48    golf     100000                  1    petrol  volkswagen      NaN   \n",
       "51   punto     150000                 11  gasoline        fiat      yes   \n",
       "57   other     125000                  3       NaN        seat       no   \n",
       "\n",
       "    DateCreated  NumberOfPictures  PostalCode             LastSeen  \n",
       "22         2016                 0       49716  2016-03-31 01:16:33  \n",
       "26         2016                 0       31139  2016-03-16 09:16:46  \n",
       "48         2016                 0       48499  2016-03-31 21:47:44  \n",
       "51         2016                 0       66115  2016-03-07 18:57:08  \n",
       "57         2016                 0       33397  2016-03-25 10:17:37  "
      ]
     },
     "execution_count": 18,
     "metadata": {},
     "output_type": "execute_result"
    }
   ],
   "source": [
    "df.loc[df['RegistrationYear'] > df['DateCreated']].head()\n",
    "                  "
   ]
  },
  {
   "cell_type": "code",
   "execution_count": 19,
   "metadata": {
    "scrolled": false
   },
   "outputs": [
    {
     "name": "stdout",
     "output_type": "stream",
     "text": [
      "Количество объявлений с датой регистрации автомобиля более поздней, чем дата объявления : 13427  - Удалим их.\n"
     ]
    }
   ],
   "source": [
    "print(\"Количество объявлений с датой регистрации автомобиля более поздней, чем дата объявления :\", len(df.loc[df['RegistrationYear'] > df['DateCreated']]), \" - Удалим их.\" )"
   ]
  },
  {
   "cell_type": "code",
   "execution_count": 20,
   "metadata": {},
   "outputs": [],
   "source": [
    "df = df.loc[df['RegistrationYear'] < df['DateCreated']]\n"
   ]
  },
  {
   "cell_type": "markdown",
   "metadata": {},
   "source": [
    "Имеются пропуски в **Model**. Удалим их."
   ]
  },
  {
   "cell_type": "code",
   "execution_count": 21,
   "metadata": {
    "scrolled": true
   },
   "outputs": [
    {
     "name": "stdout",
     "output_type": "stream",
     "text": [
      "Колличество объявлений с пропущенной моделью: 13064\n"
     ]
    }
   ],
   "source": [
    "print(\"Колличество объявлений с пропущенной моделью:\", len(df.loc[df['Model'].isna()]))\n"
   ]
  },
  {
   "cell_type": "code",
   "execution_count": 22,
   "metadata": {},
   "outputs": [],
   "source": [
    "df = df.loc[~df['Model'].isna()]"
   ]
  },
  {
   "cell_type": "markdown",
   "metadata": {},
   "source": [
    "Большое колличество пропусков в **Gearbox**. Заменим на наиболее встречающийся тип коробки."
   ]
  },
  {
   "cell_type": "code",
   "execution_count": 23,
   "metadata": {
    "scrolled": false
   },
   "outputs": [
    {
     "name": "stdout",
     "output_type": "stream",
     "text": [
      "Колличество объявлений с незаполненным типом коробки: 10166\n"
     ]
    }
   ],
   "source": [
    "print(\"Колличество объявлений с незаполненным типом коробки:\", len(df.loc[df['Gearbox'].isna()]))\n"
   ]
  },
  {
   "cell_type": "code",
   "execution_count": 24,
   "metadata": {},
   "outputs": [],
   "source": [
    "df[\"Gearbox\"] = df[\"Gearbox\"].fillna(df[\"Gearbox\"].mode().values[0])"
   ]
  },
  {
   "cell_type": "markdown",
   "metadata": {},
   "source": [
    "Имеются значения **Power** равные 0 и больше 1000, что являеться некорректным. Заменим их на медиану по модели."
   ]
  },
  {
   "cell_type": "code",
   "execution_count": 25,
   "metadata": {},
   "outputs": [
    {
     "name": "stdout",
     "output_type": "stream",
     "text": [
      "Колличество объявлений с некорректной мощностью: 23368\n"
     ]
    }
   ],
   "source": [
    "print(\"Колличество объявлений с некорректной мощностью:\", len(df.loc[(df['Power'] > 1000) | (df['Power'] <= 0)]))\n"
   ]
  },
  {
   "cell_type": "code",
   "execution_count": 26,
   "metadata": {},
   "outputs": [],
   "source": [
    "df.loc[(df['Power'] > 1000) | (df['Power'] <= 0), 'Power'] = None\n",
    "df['Power'] = df['Power'].fillna(df.groupby('Model')['Power'].transform('median'))\n",
    "df = df.loc[~df['Power'].isna()]\n",
    "df['Power'] = df['Power'].astype('int64')"
   ]
  },
  {
   "cell_type": "code",
   "execution_count": 27,
   "metadata": {
    "scrolled": false
   },
   "outputs": [
    {
     "data": {
      "image/png": "[encoded data removed]",
      "text/plain": [
       "<Figure size 720x1080 with 1 Axes>"
      ]
     },
     "metadata": {
      "needs_background": "light"
     },
     "output_type": "display_data"
    },
    {
     "name": "stdout",
     "output_type": "stream",
     "text": [
      "Колличество объявлений с мощностью меньше 80 лошадинных сил: 72061\n",
      "Колличество объявлений с мощностью меньше 35 лошадинных сил: 856\n"
     ]
    },
    {
     "data": {
      "image/png": "[encoded data removed]",
      "text/plain": [
       "<Figure size 1080x576 with 1 Axes>"
      ]
     },
     "metadata": {
      "needs_background": "light"
     },
     "output_type": "display_data"
    }
   ],
   "source": [
    "df_clear=df.loc[(df['Power']<80)]\n",
    "df_clear[\"Power\"].plot(kind = 'box', figsize = (10, 15), label ='Power')\n",
    "plt.show()\n",
    "\n",
    "\n",
    "plt.figure(figsize=(15,8))\n",
    "sns.distplot(df_clear[\"Power\"])\n",
    "plt.title('Распределение значений мощности автомобиля меньше 80 лошадинных сил', fontsize=12)\n",
    "\n",
    "print(\"Колличество объявлений с мощностью меньше 80 лошадинных сил:\", len(df_clear.loc[df['Power'] < 80]))\n",
    "print(\"Колличество объявлений с мощностью меньше 35 лошадинных сил:\", len(df_clear.loc[df['Power'] < 35]))\n"
   ]
  },
  {
   "cell_type": "markdown",
   "metadata": {},
   "source": [
    "По ящику с усами видим выборосы на значениях **Power** ниже 35.  Заменим их на медиану по модели."
   ]
  },
  {
   "cell_type": "code",
   "execution_count": 28,
   "metadata": {},
   "outputs": [],
   "source": [
    "df.loc[df['Power'] < 35] = None\n",
    "df['Power'] = df['Power'].fillna(df.groupby('Model')['Power'].transform('median'))\n",
    "df = df.loc[~df['Power'].isna()]\n",
    "df['Power'] = df['Power'].astype('int64')\n",
    "\n",
    "\n"
   ]
  },
  {
   "cell_type": "markdown",
   "metadata": {},
   "source": [
    "Пропуски в **FuelType** заменим на наиболее распротраненный тип по моделям."
   ]
  },
  {
   "cell_type": "code",
   "execution_count": 29,
   "metadata": {},
   "outputs": [],
   "source": [
    "df['FuelType'] = df['FuelType'].fillna(df.groupby('Model')['FuelType'].transform(lambda x: x.value_counts().idxmax()))\n"
   ]
  },
  {
   "cell_type": "markdown",
   "metadata": {},
   "source": [
    "* Большие пропуски в **Repaired**. \n",
    "* Скорее всего, если автомобиль не ремонтировался - этот параметр просто не заполнялся. \n",
    "* Заменим пропуски на no, как значение по умолчанию."
   ]
  },
  {
   "cell_type": "code",
   "execution_count": 30,
   "metadata": {},
   "outputs": [],
   "source": [
    "df[\"Repaired\"].fillna(\"no\", inplace=True)"
   ]
  },
  {
   "cell_type": "markdown",
   "metadata": {},
   "source": [
    "Удалим ненужные признаки **NumberOfPictures**, **DateCreated**, **PostalCode**, **DateCrawled**, **RegistrationMonth**, **LastSeen**:"
   ]
  },
  {
   "cell_type": "code",
   "execution_count": 31,
   "metadata": {},
   "outputs": [],
   "source": [
    "df = df.drop(['NumberOfPictures', 'DateCreated', 'PostalCode', 'DateCrawled', 'RegistrationMonth', 'LastSeen'], axis=1)\n",
    "df = df.reset_index(drop=True)"
   ]
  },
  {
   "cell_type": "code",
   "execution_count": 32,
   "metadata": {
    "scrolled": true
   },
   "outputs": [
    {
     "name": "stdout",
     "output_type": "stream",
     "text": [
      "<class 'pandas.core.frame.DataFrame'>\n",
      "RangeIndex: 295741 entries, 0 to 295740\n",
      "Data columns (total 10 columns):\n",
      " #   Column            Non-Null Count   Dtype  \n",
      "---  ------            --------------   -----  \n",
      " 0   Price             295741 non-null  float64\n",
      " 1   VehicleType       295741 non-null  object \n",
      " 2   RegistrationYear  295741 non-null  float64\n",
      " 3   Gearbox           295741 non-null  object \n",
      " 4   Power             295741 non-null  int64  \n",
      " 5   Model             295741 non-null  object \n",
      " 6   Kilometer         295741 non-null  float64\n",
      " 7   FuelType          295741 non-null  object \n",
      " 8   Brand             295741 non-null  object \n",
      " 9   Repaired          295741 non-null  object \n",
      "dtypes: float64(3), int64(1), object(6)\n",
      "memory usage: 22.6+ MB\n"
     ]
    }
   ],
   "source": [
    "df.info()"
   ]
  },
  {
   "cell_type": "code",
   "execution_count": 33,
   "metadata": {
    "scrolled": true
   },
   "outputs": [
    {
     "data": {
      "text/html": [
       "<div>\n",
       "<style scoped>\n",
       "    .dataframe tbody tr th:only-of-type {\n",
       "        vertical-align: middle;\n",
       "    }\n",
       "\n",
       "    .dataframe tbody tr th {\n",
       "        vertical-align: top;\n",
       "    }\n",
       "\n",
       "    .dataframe thead th {\n",
       "        text-align: right;\n",
       "    }\n",
       "</style>\n",
       "<table border=\"1\" class=\"dataframe\">\n",
       "  <thead>\n",
       "    <tr style=\"text-align: right;\">\n",
       "      <th></th>\n",
       "      <th>Price</th>\n",
       "      <th>RegistrationYear</th>\n",
       "      <th>Power</th>\n",
       "      <th>Kilometer</th>\n",
       "    </tr>\n",
       "  </thead>\n",
       "  <tbody>\n",
       "    <tr>\n",
       "      <th>count</th>\n",
       "      <td>295741.000000</td>\n",
       "      <td>295741.000000</td>\n",
       "      <td>295741.000000</td>\n",
       "      <td>295741.000000</td>\n",
       "    </tr>\n",
       "    <tr>\n",
       "      <th>mean</th>\n",
       "      <td>4886.089474</td>\n",
       "      <td>2002.631515</td>\n",
       "      <td>121.560396</td>\n",
       "      <td>128383.856144</td>\n",
       "    </tr>\n",
       "    <tr>\n",
       "      <th>std</th>\n",
       "      <td>4573.130967</td>\n",
       "      <td>6.183588</td>\n",
       "      <td>53.162446</td>\n",
       "      <td>36673.660682</td>\n",
       "    </tr>\n",
       "    <tr>\n",
       "      <th>min</th>\n",
       "      <td>300.000000</td>\n",
       "      <td>1910.000000</td>\n",
       "      <td>35.000000</td>\n",
       "      <td>5000.000000</td>\n",
       "    </tr>\n",
       "    <tr>\n",
       "      <th>25%</th>\n",
       "      <td>1400.000000</td>\n",
       "      <td>1999.000000</td>\n",
       "      <td>80.000000</td>\n",
       "      <td>125000.000000</td>\n",
       "    </tr>\n",
       "    <tr>\n",
       "      <th>50%</th>\n",
       "      <td>3200.000000</td>\n",
       "      <td>2003.000000</td>\n",
       "      <td>115.000000</td>\n",
       "      <td>150000.000000</td>\n",
       "    </tr>\n",
       "    <tr>\n",
       "      <th>75%</th>\n",
       "      <td>6990.000000</td>\n",
       "      <td>2007.000000</td>\n",
       "      <td>150.000000</td>\n",
       "      <td>150000.000000</td>\n",
       "    </tr>\n",
       "    <tr>\n",
       "      <th>max</th>\n",
       "      <td>20000.000000</td>\n",
       "      <td>2015.000000</td>\n",
       "      <td>1000.000000</td>\n",
       "      <td>150000.000000</td>\n",
       "    </tr>\n",
       "  </tbody>\n",
       "</table>\n",
       "</div>"
      ],
      "text/plain": [
       "               Price  RegistrationYear          Power      Kilometer\n",
       "count  295741.000000     295741.000000  295741.000000  295741.000000\n",
       "mean     4886.089474       2002.631515     121.560396  128383.856144\n",
       "std      4573.130967          6.183588      53.162446   36673.660682\n",
       "min       300.000000       1910.000000      35.000000    5000.000000\n",
       "25%      1400.000000       1999.000000      80.000000  125000.000000\n",
       "50%      3200.000000       2003.000000     115.000000  150000.000000\n",
       "75%      6990.000000       2007.000000     150.000000  150000.000000\n",
       "max     20000.000000       2015.000000    1000.000000  150000.000000"
      ]
     },
     "execution_count": 33,
     "metadata": {},
     "output_type": "execute_result"
    }
   ],
   "source": [
    "df.describe()"
   ]
  },
  {
   "cell_type": "markdown",
   "metadata": {},
   "source": [
    "## Обучение моделей"
   ]
  },
  {
   "cell_type": "markdown",
   "metadata": {},
   "source": [
    "### Разделим данные на выборки\n",
    "\n"
   ]
  },
  {
   "cell_type": "code",
   "execution_count": 34,
   "metadata": {
    "scrolled": true
   },
   "outputs": [],
   "source": [
    "df_ohe = df.copy()\n",
    "df_ohe = pd.get_dummies(df_ohe, drop_first=True)\n",
    "\n",
    "df_light = df.copy()\n",
    "df_light = df_light.astype({\"VehicleType\":'category',\n",
    "                                  \"Gearbox\":'category',\n",
    "                                  \"Model\":'category',\n",
    "                                  \"FuelType\":'category',\n",
    "                                  \"Brand\":'category',\n",
    "                                  \"Repaired\":'category'})\n"
   ]
  },
  {
   "cell_type": "code",
   "execution_count": null,
   "metadata": {},
   "outputs": [],
   "source": [
    "#КОД РЕВЬЮЕРА\n",
    "\n",
    "cat = list(features_train.select_dtypes('object').columns) #категориальные признаки\n",
    "num = list(features_train.select_dtypes(exclude='object').columns) #количественные признаки\n",
    "\n",
    "#МАСШТАБИРУЕМ\n",
    "\n",
    "scaler = StandardScaler()\n",
    "features_train_scaled = pd.DataFrame(scaler.fit_transform(features_train[num]), columns=[num], index=features_train.index)\n",
    "features_test_scaled = pd.DataFrame(scaler.transform(features_test[num]), columns=[num], index=features_test.index)\n",
    "\n",
    "#обрати внимание, что в features_train_scaled и features_test_scaled отсутствую категориальные признаки \n",
    "\n",
    "#КОДИРОВАНИЕ OHE\n",
    "\n",
    "from sklearn.preprocessing import OneHotEncoder\n",
    "\n",
    "enc = OneHotEncoder(handle_unknown='ignore')\n",
    "\n",
    "features_train_ohe = enc.fit_transform(features_train[cat]) #а тут нет количественных признаков, только категориальные\n",
    "features_test_ohe = enc.transform(features_test[cat]) #аналогично\n",
    "\n",
    "#ОБЪЕДИНЯЕМ МАСШТАБИРОВАННЫЕ КОЛИЧЕСТВЕННЫЕ И КАТЕГОРИАЛЬНЫЕ ЗАКОДИРОВАННЫЕ ПРИЗНАКИ В ЕДИНУЮ ВЫБОРКУ\n",
    "\n",
    "features_train_lr = pd.concat([features_train_scaled, pd.DataFrame(features_train_ohe.toarray(), index=features_train.index)], axis=1)\n",
    "features_test_lr = pd.concat([features_test_scaled, pd.DataFrame(features_test_ohe.toarray(), index=features_test.index)], axis=1)\n",
    "\n",
    "features_train_lr.head(3)\n",
    "\n",
    "#ВЫБОРКИ ГОТОВЫ К РАБОТЕ (В ТВОЕМ СЛУЧАЕ ЭТО НАДО КОРРЕКТИРОВАТЬ, ЧТОБЫ ЕЩЕ VALID ВЫБОРКУ ТАКЖЕ ИЗМЕНИТЬ, добавятся 3 строчки)"
   ]
  },
  {
   "cell_type": "markdown",
   "metadata": {},
   "source": [
    "Разделим данные на выборки"
   ]
  },
  {
   "cell_type": "code",
   "execution_count": 35,
   "metadata": {},
   "outputs": [],
   "source": [
    "trainX,testX,trainY,testY = train_test_split(df_ohe.drop(\"Price\",axis = 1),\n",
    "                                             df_ohe[\"Price\"],\n",
    "                                             test_size = 0.25,\n",
    "                                             random_state = 42)\n",
    "\n",
    "trainX_wo_ohe,testX_wo_ohe,trainY_wo_ohe,testY_wo_ohe = train_test_split(df.drop(\"Price\",axis = 1),\n",
    "                                             df[\"Price\"],\n",
    "                                             test_size = 0.25,\n",
    "                                             random_state = 42)\n",
    "(trainX_wo_ohe_light,\n",
    " testX_wo_ohe_light,\n",
    " trainY_wo_ohe_light,\n",
    " testY_wo_ohe_light) = train_test_split(df_light.drop(\"Price\",axis = 1),\n",
    "                                             df_light[\"Price\"],\n",
    "                                             test_size = 0.25,\n",
    "                                             random_state = 42)\n"
   ]
  },
  {
   "cell_type": "markdown",
   "metadata": {},
   "source": [
    "### Обучение моделей"
   ]
  },
  {
   "cell_type": "markdown",
   "metadata": {},
   "source": [
    "#### Catboost"
   ]
  },
  {
   "cell_type": "code",
   "execution_count": 39,
   "metadata": {},
   "outputs": [
    {
     "name": "stderr",
     "output_type": "stream",
     "text": [
      "Custom logger is already specified. Specify more than one logger at same time is not thread safe."
     ]
    },
    {
     "name": "stdout",
     "output_type": "stream",
     "text": [
      "0:\tlearn: 6113.5019364\ttest: 6111.6954466\tbest: 6111.6954466 (0)\ttotal: 380ms\tremaining: 6m 19s\n",
      "1:\tlearn: 5596.5350689\ttest: 5594.4796964\tbest: 5594.4796964 (1)\ttotal: 767ms\tremaining: 6m 22s\n",
      "2:\tlearn: 5140.7398545\ttest: 5139.1207480\tbest: 5139.1207480 (2)\ttotal: 1.18s\tremaining: 6m 31s\n",
      "3:\tlearn: 4734.1131162\ttest: 4733.3952886\tbest: 4733.3952886 (3)\ttotal: 1.45s\tremaining: 6m 1s\n",
      "4:\tlearn: 4364.9169155\ttest: 4366.5046007\tbest: 4366.5046007 (4)\ttotal: 1.75s\tremaining: 5m 48s\n",
      "5:\tlearn: 4040.2779058\ttest: 4043.7861513\tbest: 4043.7861513 (5)\ttotal: 2.11s\tremaining: 5m 49s\n",
      "6:\tlearn: 3753.6962144\ttest: 3758.5144810\tbest: 3758.5144810 (6)\ttotal: 2.37s\tremaining: 5m 36s\n",
      "7:\tlearn: 3501.7711421\ttest: 3508.0581420\tbest: 3508.0581420 (7)\ttotal: 2.64s\tremaining: 5m 27s\n",
      "8:\tlearn: 3277.3933221\ttest: 3283.8794226\tbest: 3283.8794226 (8)\ttotal: 2.93s\tremaining: 5m 23s\n",
      "9:\tlearn: 3075.3488012\ttest: 3082.4083792\tbest: 3082.4083792 (9)\ttotal: 3.25s\tremaining: 5m 21s\n",
      "10:\tlearn: 2897.0123139\ttest: 2903.8150009\tbest: 2903.8150009 (10)\ttotal: 3.51s\tremaining: 5m 15s\n",
      "11:\tlearn: 2740.5456640\ttest: 2747.8255569\tbest: 2747.8255569 (11)\ttotal: 3.87s\tremaining: 5m 18s\n",
      "12:\tlearn: 2606.8534814\ttest: 2613.6088275\tbest: 2613.6088275 (12)\ttotal: 4.16s\tremaining: 5m 15s\n",
      "13:\tlearn: 2490.4865905\ttest: 2496.6460554\tbest: 2496.6460554 (13)\ttotal: 4.47s\tremaining: 5m 15s\n",
      "14:\tlearn: 2388.7336959\ttest: 2395.2847759\tbest: 2395.2847759 (14)\ttotal: 4.75s\tremaining: 5m 12s\n",
      "15:\tlearn: 2303.5166283\ttest: 2309.7273338\tbest: 2309.7273338 (15)\ttotal: 5.02s\tremaining: 5m 8s\n",
      "16:\tlearn: 2227.9704844\ttest: 2233.9876661\tbest: 2233.9876661 (16)\ttotal: 5.34s\tremaining: 5m 8s\n",
      "17:\tlearn: 2163.0667213\ttest: 2169.5174912\tbest: 2169.5174912 (17)\ttotal: 5.67s\tremaining: 5m 9s\n",
      "18:\tlearn: 2107.5629238\ttest: 2114.3102391\tbest: 2114.3102391 (18)\ttotal: 5.99s\tremaining: 5m 9s\n",
      "19:\tlearn: 2060.0515391\ttest: 2067.0828455\tbest: 2067.0828455 (19)\ttotal: 6.31s\tremaining: 5m 9s\n",
      "20:\tlearn: 2019.5604472\ttest: 2027.0519877\tbest: 2027.0519877 (20)\ttotal: 6.62s\tremaining: 5m 8s\n",
      "21:\tlearn: 1982.6433808\ttest: 1989.7574679\tbest: 1989.7574679 (21)\ttotal: 6.81s\tremaining: 5m 2s\n",
      "22:\tlearn: 1952.4546699\ttest: 1960.3988586\tbest: 1960.3988586 (22)\ttotal: 7.19s\tremaining: 5m 5s\n",
      "23:\tlearn: 1926.4783670\ttest: 1934.3364414\tbest: 1934.3364414 (23)\ttotal: 7.58s\tremaining: 5m 8s\n",
      "24:\tlearn: 1903.8497282\ttest: 1912.3993332\tbest: 1912.3993332 (24)\ttotal: 7.85s\tremaining: 5m 6s\n",
      "25:\tlearn: 1884.7752530\ttest: 1893.4509303\tbest: 1893.4509303 (25)\ttotal: 8.13s\tremaining: 5m 4s\n",
      "26:\tlearn: 1867.2839145\ttest: 1876.1057933\tbest: 1876.1057933 (26)\ttotal: 8.41s\tremaining: 5m 3s\n",
      "27:\tlearn: 1848.0977589\ttest: 1856.7294600\tbest: 1856.7294600 (27)\ttotal: 8.7s\tremaining: 5m 2s\n",
      "28:\tlearn: 1830.6819091\ttest: 1838.8765231\tbest: 1838.8765231 (28)\ttotal: 9s\tremaining: 5m 1s\n",
      "29:\tlearn: 1815.4625763\ttest: 1824.4677589\tbest: 1824.4677589 (29)\ttotal: 9.25s\tremaining: 4m 59s\n",
      "30:\tlearn: 1803.2963758\ttest: 1813.1337408\tbest: 1813.1337408 (30)\ttotal: 9.53s\tremaining: 4m 57s\n",
      "31:\tlearn: 1793.7005986\ttest: 1804.1945785\tbest: 1804.1945785 (31)\ttotal: 9.82s\tremaining: 4m 56s\n",
      "32:\tlearn: 1784.7144465\ttest: 1795.8714062\tbest: 1795.8714062 (32)\ttotal: 10s\tremaining: 4m 54s\n",
      "33:\tlearn: 1775.1137625\ttest: 1785.6034151\tbest: 1785.6034151 (33)\ttotal: 10.3s\tremaining: 4m 52s\n",
      "34:\tlearn: 1766.8266271\ttest: 1777.5969160\tbest: 1777.5969160 (34)\ttotal: 10.6s\tremaining: 4m 52s\n",
      "35:\tlearn: 1760.8365187\ttest: 1772.0548999\tbest: 1772.0548999 (35)\ttotal: 10.9s\tremaining: 4m 51s\n",
      "36:\tlearn: 1754.1682040\ttest: 1766.0449358\tbest: 1766.0449358 (36)\ttotal: 11.2s\tremaining: 4m 52s\n",
      "37:\tlearn: 1749.2173654\ttest: 1761.4508624\tbest: 1761.4508624 (37)\ttotal: 11.5s\tremaining: 4m 50s\n",
      "38:\tlearn: 1744.3217004\ttest: 1756.9243070\tbest: 1756.9243070 (38)\ttotal: 11.8s\tremaining: 4m 50s\n",
      "39:\tlearn: 1735.5328170\ttest: 1748.2158272\tbest: 1748.2158272 (39)\ttotal: 12.1s\tremaining: 4m 50s\n",
      "40:\tlearn: 1728.9548458\ttest: 1741.8930974\tbest: 1741.8930974 (40)\ttotal: 12.4s\tremaining: 4m 49s\n",
      "41:\tlearn: 1724.6441158\ttest: 1737.7820979\tbest: 1737.7820979 (41)\ttotal: 12.6s\tremaining: 4m 47s\n",
      "42:\tlearn: 1719.5458202\ttest: 1732.9513370\tbest: 1732.9513370 (42)\ttotal: 12.8s\tremaining: 4m 46s\n",
      "43:\tlearn: 1716.1809631\ttest: 1729.9691455\tbest: 1729.9691455 (43)\ttotal: 13.1s\tremaining: 4m 45s\n",
      "44:\tlearn: 1711.2498275\ttest: 1725.2105682\tbest: 1725.2105682 (44)\ttotal: 13.4s\tremaining: 4m 44s\n",
      "45:\tlearn: 1706.1918148\ttest: 1720.4523549\tbest: 1720.4523549 (45)\ttotal: 13.7s\tremaining: 4m 43s\n",
      "46:\tlearn: 1703.2329523\ttest: 1717.9869315\tbest: 1717.9869315 (46)\ttotal: 13.9s\tremaining: 4m 42s\n",
      "47:\tlearn: 1698.8998562\ttest: 1713.6132029\tbest: 1713.6132029 (47)\ttotal: 14.2s\tremaining: 4m 40s\n",
      "48:\tlearn: 1694.6161422\ttest: 1709.8687475\tbest: 1709.8687475 (48)\ttotal: 14.4s\tremaining: 4m 39s\n",
      "49:\tlearn: 1692.4824775\ttest: 1708.4036868\tbest: 1708.4036868 (49)\ttotal: 14.7s\tremaining: 4m 39s\n",
      "50:\tlearn: 1689.5889596\ttest: 1706.3862923\tbest: 1706.3862923 (50)\ttotal: 15s\tremaining: 4m 39s\n",
      "51:\tlearn: 1687.3427344\ttest: 1704.3981723\tbest: 1704.3981723 (51)\ttotal: 15.3s\tremaining: 4m 38s\n",
      "52:\tlearn: 1683.0352856\ttest: 1700.3913819\tbest: 1700.3913819 (52)\ttotal: 15.6s\tremaining: 4m 38s\n",
      "53:\tlearn: 1680.1243898\ttest: 1697.7124127\tbest: 1697.7124127 (53)\ttotal: 15.9s\tremaining: 4m 39s\n",
      "54:\tlearn: 1678.6096927\ttest: 1696.6402854\tbest: 1696.6402854 (54)\ttotal: 16.2s\tremaining: 4m 38s\n",
      "55:\tlearn: 1676.8465112\ttest: 1695.0497337\tbest: 1695.0497337 (55)\ttotal: 16.5s\tremaining: 4m 38s\n",
      "56:\tlearn: 1673.9419955\ttest: 1692.8077018\tbest: 1692.8077018 (56)\ttotal: 16.8s\tremaining: 4m 37s\n",
      "57:\tlearn: 1670.1148946\ttest: 1689.5117121\tbest: 1689.5117121 (57)\ttotal: 17.1s\tremaining: 4m 38s\n",
      "58:\tlearn: 1668.0479220\ttest: 1687.9396676\tbest: 1687.9396676 (58)\ttotal: 17.4s\tremaining: 4m 37s\n",
      "59:\tlearn: 1664.5158413\ttest: 1684.9141566\tbest: 1684.9141566 (59)\ttotal: 17.7s\tremaining: 4m 37s\n",
      "60:\tlearn: 1661.2602584\ttest: 1682.2949860\tbest: 1682.2949860 (60)\ttotal: 17.9s\tremaining: 4m 36s\n",
      "61:\tlearn: 1658.5881708\ttest: 1680.1605357\tbest: 1680.1605357 (61)\ttotal: 18.3s\tremaining: 4m 37s\n",
      "62:\tlearn: 1655.6836246\ttest: 1677.6260527\tbest: 1677.6260527 (62)\ttotal: 18.6s\tremaining: 4m 36s\n",
      "63:\tlearn: 1654.0485220\ttest: 1676.3847541\tbest: 1676.3847541 (63)\ttotal: 18.9s\tremaining: 4m 36s\n",
      "64:\tlearn: 1651.7358241\ttest: 1674.4294766\tbest: 1674.4294766 (64)\ttotal: 19.2s\tremaining: 4m 35s\n",
      "65:\tlearn: 1648.9186339\ttest: 1672.6133166\tbest: 1672.6133166 (65)\ttotal: 19.5s\tremaining: 4m 35s\n",
      "66:\tlearn: 1645.2222566\ttest: 1669.4919133\tbest: 1669.4919133 (66)\ttotal: 19.7s\tremaining: 4m 34s\n",
      "67:\tlearn: 1642.3693077\ttest: 1666.9613512\tbest: 1666.9613512 (67)\ttotal: 20s\tremaining: 4m 34s\n",
      "68:\tlearn: 1639.9064740\ttest: 1665.3097017\tbest: 1665.3097017 (68)\ttotal: 20.3s\tremaining: 4m 33s\n",
      "69:\tlearn: 1637.7187059\ttest: 1663.7524574\tbest: 1663.7524574 (69)\ttotal: 20.6s\tremaining: 4m 33s\n",
      "70:\tlearn: 1636.7030243\ttest: 1663.0499144\tbest: 1663.0499144 (70)\ttotal: 20.9s\tremaining: 4m 33s\n",
      "71:\tlearn: 1635.8355149\ttest: 1662.4413113\tbest: 1662.4413113 (71)\ttotal: 21.3s\tremaining: 4m 34s\n",
      "72:\tlearn: 1634.4561271\ttest: 1661.5076970\tbest: 1661.5076970 (72)\ttotal: 21.6s\tremaining: 4m 34s\n",
      "73:\tlearn: 1633.0017204\ttest: 1660.4802635\tbest: 1660.4802635 (73)\ttotal: 21.8s\tremaining: 4m 33s\n",
      "74:\tlearn: 1631.8823849\ttest: 1659.6111964\tbest: 1659.6111964 (74)\ttotal: 22.1s\tremaining: 4m 32s\n",
      "75:\tlearn: 1630.3464396\ttest: 1658.2444146\tbest: 1658.2444146 (75)\ttotal: 22.4s\tremaining: 4m 32s\n",
      "76:\tlearn: 1628.6172693\ttest: 1657.1529167\tbest: 1657.1529167 (76)\ttotal: 22.6s\tremaining: 4m 31s\n",
      "77:\tlearn: 1626.6478856\ttest: 1655.7367305\tbest: 1655.7367305 (77)\ttotal: 22.9s\tremaining: 4m 30s\n",
      "78:\tlearn: 1625.3828371\ttest: 1654.7818757\tbest: 1654.7818757 (78)\ttotal: 23.2s\tremaining: 4m 30s\n",
      "79:\tlearn: 1623.5758977\ttest: 1653.1909926\tbest: 1653.1909926 (79)\ttotal: 23.5s\tremaining: 4m 30s\n",
      "80:\tlearn: 1621.5850674\ttest: 1651.3728587\tbest: 1651.3728587 (80)\ttotal: 23.7s\tremaining: 4m 29s\n",
      "81:\tlearn: 1619.4737746\ttest: 1649.3562679\tbest: 1649.3562679 (81)\ttotal: 24s\tremaining: 4m 28s\n",
      "82:\tlearn: 1617.9479490\ttest: 1648.3936359\tbest: 1648.3936359 (82)\ttotal: 24.2s\tremaining: 4m 27s\n",
      "83:\tlearn: 1615.7199737\ttest: 1646.6223665\tbest: 1646.6223665 (83)\ttotal: 24.5s\tremaining: 4m 27s\n",
      "84:\tlearn: 1614.4082920\ttest: 1645.8309155\tbest: 1645.8309155 (84)\ttotal: 24.7s\tremaining: 4m 26s\n",
      "85:\tlearn: 1611.5316851\ttest: 1643.8247081\tbest: 1643.8247081 (85)\ttotal: 25s\tremaining: 4m 25s\n",
      "86:\tlearn: 1610.7891318\ttest: 1643.3676983\tbest: 1643.3676983 (86)\ttotal: 25.3s\tremaining: 4m 25s\n",
      "87:\tlearn: 1609.2192343\ttest: 1641.8664301\tbest: 1641.8664301 (87)\ttotal: 25.5s\tremaining: 4m 24s\n",
      "88:\tlearn: 1607.3454076\ttest: 1640.8503213\tbest: 1640.8503213 (88)\ttotal: 25.8s\tremaining: 4m 24s\n",
      "89:\tlearn: 1604.8393377\ttest: 1638.6326903\tbest: 1638.6326903 (89)\ttotal: 26.1s\tremaining: 4m 23s\n",
      "90:\tlearn: 1603.3318682\ttest: 1637.5097150\tbest: 1637.5097150 (90)\ttotal: 26.3s\tremaining: 4m 22s\n",
      "91:\tlearn: 1602.3038434\ttest: 1636.7904776\tbest: 1636.7904776 (91)\ttotal: 26.6s\tremaining: 4m 22s\n",
      "92:\tlearn: 1601.3100798\ttest: 1636.0082968\tbest: 1636.0082968 (92)\ttotal: 26.9s\tremaining: 4m 22s\n",
      "93:\tlearn: 1600.0448011\ttest: 1635.2981426\tbest: 1635.2981426 (93)\ttotal: 27.1s\tremaining: 4m 21s\n",
      "94:\tlearn: 1598.2544667\ttest: 1634.0547576\tbest: 1634.0547576 (94)\ttotal: 27.4s\tremaining: 4m 20s\n",
      "95:\tlearn: 1597.3151328\ttest: 1633.4701550\tbest: 1633.4701550 (95)\ttotal: 27.6s\tremaining: 4m 20s\n",
      "96:\tlearn: 1596.3996903\ttest: 1632.9458842\tbest: 1632.9458842 (96)\ttotal: 27.9s\tremaining: 4m 19s\n",
      "97:\tlearn: 1595.0165733\ttest: 1631.6960880\tbest: 1631.6960880 (97)\ttotal: 28.1s\tremaining: 4m 19s\n",
      "98:\tlearn: 1594.4671550\ttest: 1631.4245727\tbest: 1631.4245727 (98)\ttotal: 28.4s\tremaining: 4m 18s\n",
      "99:\tlearn: 1593.3401448\ttest: 1630.6816357\tbest: 1630.6816357 (99)\ttotal: 28.7s\tremaining: 4m 18s\n",
      "100:\tlearn: 1593.0309045\ttest: 1630.5090587\tbest: 1630.5090587 (100)\ttotal: 29s\tremaining: 4m 18s\n",
      "101:\tlearn: 1591.6503644\ttest: 1629.6069152\tbest: 1629.6069152 (101)\ttotal: 29.3s\tremaining: 4m 18s\n",
      "102:\tlearn: 1590.4725362\ttest: 1628.8971301\tbest: 1628.8971301 (102)\ttotal: 29.6s\tremaining: 4m 18s\n",
      "103:\tlearn: 1589.4653605\ttest: 1628.4448247\tbest: 1628.4448247 (103)\ttotal: 29.9s\tremaining: 4m 17s\n",
      "104:\tlearn: 1588.4341117\ttest: 1628.0008370\tbest: 1628.0008370 (104)\ttotal: 30.1s\tremaining: 4m 17s\n",
      "105:\tlearn: 1586.8588143\ttest: 1626.5926099\tbest: 1626.5926099 (105)\ttotal: 30.4s\tremaining: 4m 16s\n",
      "106:\tlearn: 1585.5690922\ttest: 1625.9969835\tbest: 1625.9969835 (106)\ttotal: 30.7s\tremaining: 4m 16s\n",
      "107:\tlearn: 1584.2999816\ttest: 1625.3272094\tbest: 1625.3272094 (107)\ttotal: 30.9s\tremaining: 4m 15s\n",
      "108:\tlearn: 1582.8671670\ttest: 1624.3086229\tbest: 1624.3086229 (108)\ttotal: 31.2s\tremaining: 4m 15s\n",
      "109:\tlearn: 1580.6790013\ttest: 1622.8715173\tbest: 1622.8715173 (109)\ttotal: 31.5s\tremaining: 4m 15s\n",
      "110:\tlearn: 1580.1301360\ttest: 1622.4678412\tbest: 1622.4678412 (110)\ttotal: 31.8s\tremaining: 4m 14s\n",
      "111:\tlearn: 1579.4856746\ttest: 1622.2005247\tbest: 1622.2005247 (111)\ttotal: 32s\tremaining: 4m 13s\n",
      "112:\tlearn: 1578.8250550\ttest: 1621.6725770\tbest: 1621.6725770 (112)\ttotal: 32.3s\tremaining: 4m 13s\n",
      "113:\tlearn: 1578.3401380\ttest: 1621.2875910\tbest: 1621.2875910 (113)\ttotal: 32.5s\tremaining: 4m 12s\n",
      "114:\tlearn: 1576.3801284\ttest: 1619.7716063\tbest: 1619.7716063 (114)\ttotal: 32.8s\tremaining: 4m 12s\n",
      "115:\tlearn: 1575.9776051\ttest: 1619.5766566\tbest: 1619.5766566 (115)\ttotal: 33.1s\tremaining: 4m 12s\n",
      "116:\tlearn: 1574.3974572\ttest: 1618.5441820\tbest: 1618.5441820 (116)\ttotal: 33.4s\tremaining: 4m 11s\n",
      "117:\tlearn: 1573.8193577\ttest: 1618.4210674\tbest: 1618.4210674 (117)\ttotal: 33.7s\tremaining: 4m 11s\n",
      "118:\tlearn: 1572.9333796\ttest: 1617.7447196\tbest: 1617.7447196 (118)\ttotal: 34s\tremaining: 4m 11s\n",
      "119:\tlearn: 1572.1542145\ttest: 1617.3531340\tbest: 1617.3531340 (119)\ttotal: 34.3s\tremaining: 4m 11s\n",
      "120:\tlearn: 1570.9361280\ttest: 1616.6986240\tbest: 1616.6986240 (120)\ttotal: 34.5s\tremaining: 4m 10s\n",
      "121:\tlearn: 1569.5188952\ttest: 1615.9235542\tbest: 1615.9235542 (121)\ttotal: 34.8s\tremaining: 4m 10s\n",
      "122:\tlearn: 1569.0884189\ttest: 1615.7181811\tbest: 1615.7181811 (122)\ttotal: 35.1s\tremaining: 4m 10s\n",
      "123:\tlearn: 1568.5770349\ttest: 1615.2899660\tbest: 1615.2899660 (123)\ttotal: 35.4s\tremaining: 4m 9s\n",
      "124:\tlearn: 1568.2784338\ttest: 1615.1896318\tbest: 1615.1896318 (124)\ttotal: 35.6s\tremaining: 4m 9s\n",
      "125:\tlearn: 1567.5808934\ttest: 1614.7387184\tbest: 1614.7387184 (125)\ttotal: 35.9s\tremaining: 4m 9s\n",
      "126:\tlearn: 1566.7965481\ttest: 1614.2937524\tbest: 1614.2937524 (126)\ttotal: 36.2s\tremaining: 4m 8s\n",
      "127:\tlearn: 1565.5061297\ttest: 1613.5540666\tbest: 1613.5540666 (127)\ttotal: 36.5s\tremaining: 4m 8s\n",
      "128:\tlearn: 1563.9863936\ttest: 1612.8287832\tbest: 1612.8287832 (128)\ttotal: 36.7s\tremaining: 4m 7s\n",
      "129:\tlearn: 1563.1345925\ttest: 1612.1360368\tbest: 1612.1360368 (129)\ttotal: 37s\tremaining: 4m 7s\n",
      "130:\tlearn: 1562.1197894\ttest: 1611.4409953\tbest: 1611.4409953 (130)\ttotal: 37.3s\tremaining: 4m 7s\n",
      "131:\tlearn: 1560.7779217\ttest: 1610.4355309\tbest: 1610.4355309 (131)\ttotal: 37.6s\tremaining: 4m 7s\n",
      "132:\tlearn: 1560.2660796\ttest: 1610.2031510\tbest: 1610.2031510 (132)\ttotal: 38s\tremaining: 4m 7s\n",
      "133:\tlearn: 1559.3949140\ttest: 1609.7228355\tbest: 1609.7228355 (133)\ttotal: 38.3s\tremaining: 4m 7s\n",
      "134:\tlearn: 1558.2040007\ttest: 1609.0455249\tbest: 1609.0455249 (134)\ttotal: 38.6s\tremaining: 4m 7s\n",
      "135:\tlearn: 1557.4989663\ttest: 1608.4024445\tbest: 1608.4024445 (135)\ttotal: 38.9s\tremaining: 4m 7s\n",
      "136:\tlearn: 1556.7841552\ttest: 1607.9985636\tbest: 1607.9985636 (136)\ttotal: 39.2s\tremaining: 4m 6s\n",
      "137:\tlearn: 1556.2475840\ttest: 1607.6330542\tbest: 1607.6330542 (137)\ttotal: 39.5s\tremaining: 4m 6s\n",
      "138:\tlearn: 1555.5129497\ttest: 1607.1699469\tbest: 1607.1699469 (138)\ttotal: 39.8s\tremaining: 4m 6s\n",
      "139:\tlearn: 1554.8537575\ttest: 1606.7108294\tbest: 1606.7108294 (139)\ttotal: 40.1s\tremaining: 4m 6s\n",
      "140:\tlearn: 1554.2056075\ttest: 1606.3320365\tbest: 1606.3320365 (140)\ttotal: 40.4s\tremaining: 4m 6s\n",
      "141:\tlearn: 1553.7759004\ttest: 1605.9761143\tbest: 1605.9761143 (141)\ttotal: 40.7s\tremaining: 4m 5s\n",
      "142:\tlearn: 1553.0811836\ttest: 1605.4698657\tbest: 1605.4698657 (142)\ttotal: 41s\tremaining: 4m 6s\n",
      "143:\tlearn: 1551.8591221\ttest: 1604.6384160\tbest: 1604.6384160 (143)\ttotal: 41.3s\tremaining: 4m 5s\n",
      "144:\tlearn: 1550.5441918\ttest: 1603.9296077\tbest: 1603.9296077 (144)\ttotal: 41.6s\tremaining: 4m 5s\n",
      "145:\tlearn: 1549.9858034\ttest: 1603.5605700\tbest: 1603.5605700 (145)\ttotal: 42s\tremaining: 4m 5s\n",
      "146:\tlearn: 1548.8809045\ttest: 1602.7252478\tbest: 1602.7252478 (146)\ttotal: 42.3s\tremaining: 4m 5s\n",
      "147:\tlearn: 1548.4646787\ttest: 1602.4901654\tbest: 1602.4901654 (147)\ttotal: 42.6s\tremaining: 4m 5s\n",
      "148:\tlearn: 1548.2046594\ttest: 1602.1581801\tbest: 1602.1581801 (148)\ttotal: 42.9s\tremaining: 4m 4s\n",
      "149:\tlearn: 1547.8789704\ttest: 1601.9802802\tbest: 1601.9802802 (149)\ttotal: 43.2s\tremaining: 4m 4s\n",
      "150:\tlearn: 1547.0150488\ttest: 1601.4082950\tbest: 1601.4082950 (150)\ttotal: 43.5s\tremaining: 4m 4s\n",
      "151:\tlearn: 1546.7374506\ttest: 1601.2716755\tbest: 1601.2716755 (151)\ttotal: 43.7s\tremaining: 4m 3s\n",
      "152:\tlearn: 1545.9552639\ttest: 1600.7601833\tbest: 1600.7601833 (152)\ttotal: 44.1s\tremaining: 4m 3s\n",
      "153:\tlearn: 1544.8355971\ttest: 1600.3475265\tbest: 1600.3475265 (153)\ttotal: 44.3s\tremaining: 4m 3s\n",
      "154:\tlearn: 1544.3770150\ttest: 1600.1284477\tbest: 1600.1284477 (154)\ttotal: 44.6s\tremaining: 4m 3s\n",
      "155:\tlearn: 1542.5349649\ttest: 1599.0184848\tbest: 1599.0184848 (155)\ttotal: 44.9s\tremaining: 4m 2s\n",
      "156:\tlearn: 1541.8051376\ttest: 1598.5366940\tbest: 1598.5366940 (156)\ttotal: 45.2s\tremaining: 4m 2s\n",
      "157:\tlearn: 1540.9301790\ttest: 1598.1584221\tbest: 1598.1584221 (157)\ttotal: 45.5s\tremaining: 4m 2s\n",
      "158:\tlearn: 1540.6985154\ttest: 1597.9167296\tbest: 1597.9167296 (158)\ttotal: 45.8s\tremaining: 4m 2s\n",
      "159:\tlearn: 1539.2293197\ttest: 1596.8278222\tbest: 1596.8278222 (159)\ttotal: 46.1s\tremaining: 4m 1s\n",
      "160:\tlearn: 1538.4592995\ttest: 1596.2230220\tbest: 1596.2230220 (160)\ttotal: 46.4s\tremaining: 4m 1s\n",
      "161:\tlearn: 1538.1785853\ttest: 1596.1384743\tbest: 1596.1384743 (161)\ttotal: 46.7s\tremaining: 4m 1s\n",
      "162:\tlearn: 1537.5686535\ttest: 1595.9032602\tbest: 1595.9032602 (162)\ttotal: 47s\tremaining: 4m 1s\n",
      "163:\tlearn: 1537.3173649\ttest: 1595.8669627\tbest: 1595.8669627 (163)\ttotal: 47.3s\tremaining: 4m 1s\n",
      "164:\tlearn: 1536.7933681\ttest: 1595.7358819\tbest: 1595.7358819 (164)\ttotal: 47.6s\tremaining: 4m\n",
      "165:\tlearn: 1536.5381984\ttest: 1595.6992376\tbest: 1595.6992376 (165)\ttotal: 47.7s\tremaining: 3m 59s\n",
      "166:\tlearn: 1536.0348643\ttest: 1595.3089563\tbest: 1595.3089563 (166)\ttotal: 48s\tremaining: 3m 59s\n",
      "167:\tlearn: 1535.9344389\ttest: 1595.2887615\tbest: 1595.2887615 (167)\ttotal: 48.3s\tremaining: 3m 59s\n",
      "168:\tlearn: 1535.0961885\ttest: 1594.7485745\tbest: 1594.7485745 (168)\ttotal: 48.6s\tremaining: 3m 59s\n",
      "169:\tlearn: 1534.3097442\ttest: 1594.3549896\tbest: 1594.3549896 (169)\ttotal: 48.9s\tremaining: 3m 58s\n",
      "170:\tlearn: 1533.6744119\ttest: 1594.0656405\tbest: 1594.0656405 (170)\ttotal: 49.3s\tremaining: 3m 58s\n",
      "171:\tlearn: 1532.6500312\ttest: 1593.4109563\tbest: 1593.4109563 (171)\ttotal: 49.6s\tremaining: 3m 58s\n",
      "172:\tlearn: 1532.5047615\ttest: 1593.3948240\tbest: 1593.3948240 (172)\ttotal: 49.9s\tremaining: 3m 58s\n",
      "173:\tlearn: 1531.5961178\ttest: 1592.9517140\tbest: 1592.9517140 (173)\ttotal: 50.2s\tremaining: 3m 58s\n",
      "174:\tlearn: 1530.9502854\ttest: 1592.5946696\tbest: 1592.5946696 (174)\ttotal: 50.5s\tremaining: 3m 57s\n",
      "175:\tlearn: 1530.2087953\ttest: 1592.3390804\tbest: 1592.3390804 (175)\ttotal: 50.7s\tremaining: 3m 57s\n",
      "176:\tlearn: 1530.1056990\ttest: 1592.2720099\tbest: 1592.2720099 (176)\ttotal: 51.1s\tremaining: 3m 57s\n",
      "177:\tlearn: 1529.9756211\ttest: 1592.0872104\tbest: 1592.0872104 (177)\ttotal: 51.4s\tremaining: 3m 57s\n",
      "178:\tlearn: 1529.0158531\ttest: 1591.4476294\tbest: 1591.4476294 (178)\ttotal: 51.6s\tremaining: 3m 56s\n",
      "179:\tlearn: 1528.6980506\ttest: 1591.2066864\tbest: 1591.2066864 (179)\ttotal: 51.9s\tremaining: 3m 56s\n",
      "180:\tlearn: 1527.9526636\ttest: 1590.7481309\tbest: 1590.7481309 (180)\ttotal: 52.3s\tremaining: 3m 56s\n",
      "181:\tlearn: 1527.1277309\ttest: 1590.0870338\tbest: 1590.0870338 (181)\ttotal: 52.6s\tremaining: 3m 56s\n",
      "182:\tlearn: 1526.7926078\ttest: 1589.9915200\tbest: 1589.9915200 (182)\ttotal: 52.9s\tremaining: 3m 56s\n",
      "183:\tlearn: 1526.2170683\ttest: 1589.7578741\tbest: 1589.7578741 (183)\ttotal: 53.2s\tremaining: 3m 56s\n",
      "184:\tlearn: 1525.5063755\ttest: 1589.1892044\tbest: 1589.1892044 (184)\ttotal: 53.6s\tremaining: 3m 55s\n",
      "185:\tlearn: 1524.8022098\ttest: 1588.6331385\tbest: 1588.6331385 (185)\ttotal: 53.8s\tremaining: 3m 55s\n",
      "186:\tlearn: 1523.6309330\ttest: 1587.7609103\tbest: 1587.7609103 (186)\ttotal: 54.1s\tremaining: 3m 55s\n",
      "187:\tlearn: 1522.7016892\ttest: 1587.4221870\tbest: 1587.4221870 (187)\ttotal: 54.5s\tremaining: 3m 55s\n",
      "188:\tlearn: 1521.9223278\ttest: 1587.0518838\tbest: 1587.0518838 (188)\ttotal: 54.7s\tremaining: 3m 54s\n",
      "189:\tlearn: 1521.2467666\ttest: 1586.8070468\tbest: 1586.8070468 (189)\ttotal: 55s\tremaining: 3m 54s\n",
      "190:\tlearn: 1520.4300480\ttest: 1586.4826665\tbest: 1586.4826665 (190)\ttotal: 55.3s\tremaining: 3m 54s\n",
      "191:\tlearn: 1519.8251582\ttest: 1586.0823314\tbest: 1586.0823314 (191)\ttotal: 55.6s\tremaining: 3m 53s\n",
      "192:\tlearn: 1519.3845951\ttest: 1585.8983331\tbest: 1585.8983331 (192)\ttotal: 55.9s\tremaining: 3m 53s\n",
      "193:\tlearn: 1518.0667605\ttest: 1584.7334884\tbest: 1584.7334884 (193)\ttotal: 56.2s\tremaining: 3m 53s\n",
      "194:\tlearn: 1517.8669755\ttest: 1584.6245243\tbest: 1584.6245243 (194)\ttotal: 56.5s\tremaining: 3m 53s\n",
      "195:\tlearn: 1517.0922780\ttest: 1584.2363814\tbest: 1584.2363814 (195)\ttotal: 56.8s\tremaining: 3m 52s\n",
      "196:\tlearn: 1516.6686498\ttest: 1584.0563977\tbest: 1584.0563977 (196)\ttotal: 57.1s\tremaining: 3m 52s\n",
      "197:\tlearn: 1516.2833018\ttest: 1583.8172232\tbest: 1583.8172232 (197)\ttotal: 57.4s\tremaining: 3m 52s\n",
      "198:\tlearn: 1515.9052630\ttest: 1583.7798638\tbest: 1583.7798638 (198)\ttotal: 57.7s\tremaining: 3m 52s\n",
      "199:\tlearn: 1515.3623435\ttest: 1583.6535085\tbest: 1583.6535085 (199)\ttotal: 58.1s\tremaining: 3m 52s\n",
      "200:\tlearn: 1514.8103729\ttest: 1583.3266162\tbest: 1583.3266162 (200)\ttotal: 58.4s\tremaining: 3m 52s\n",
      "201:\tlearn: 1514.5799925\ttest: 1583.1027537\tbest: 1583.1027537 (201)\ttotal: 58.7s\tremaining: 3m 52s\n",
      "202:\tlearn: 1513.9468007\ttest: 1582.6307055\tbest: 1582.6307055 (202)\ttotal: 59.1s\tremaining: 3m 52s\n",
      "203:\tlearn: 1513.0944283\ttest: 1582.2327439\tbest: 1582.2327439 (203)\ttotal: 59.4s\tremaining: 3m 51s\n",
      "204:\tlearn: 1512.5468948\ttest: 1581.9269563\tbest: 1581.9269563 (204)\ttotal: 59.7s\tremaining: 3m 51s\n",
      "205:\tlearn: 1512.0156718\ttest: 1581.6657218\tbest: 1581.6657218 (205)\ttotal: 1m\tremaining: 3m 51s\n",
      "206:\tlearn: 1511.6456938\ttest: 1581.6519658\tbest: 1581.6519658 (206)\ttotal: 1m\tremaining: 3m 50s\n",
      "207:\tlearn: 1510.9535926\ttest: 1581.3838997\tbest: 1581.3838997 (207)\ttotal: 1m\tremaining: 3m 50s\n",
      "208:\tlearn: 1509.7835342\ttest: 1580.6513151\tbest: 1580.6513151 (208)\ttotal: 1m\tremaining: 3m 50s\n",
      "209:\tlearn: 1509.3670710\ttest: 1580.4973144\tbest: 1580.4973144 (209)\ttotal: 1m 1s\tremaining: 3m 50s\n",
      "210:\tlearn: 1508.3743061\ttest: 1580.0545683\tbest: 1580.0545683 (210)\ttotal: 1m 1s\tremaining: 3m 50s\n",
      "211:\tlearn: 1507.7285902\ttest: 1579.8832635\tbest: 1579.8832635 (211)\ttotal: 1m 1s\tremaining: 3m 50s\n",
      "212:\tlearn: 1507.4649268\ttest: 1579.7532498\tbest: 1579.7532498 (212)\ttotal: 1m 2s\tremaining: 3m 49s\n",
      "213:\tlearn: 1506.7032738\ttest: 1579.3490472\tbest: 1579.3490472 (213)\ttotal: 1m 2s\tremaining: 3m 49s\n",
      "214:\tlearn: 1505.3559991\ttest: 1578.6462217\tbest: 1578.6462217 (214)\ttotal: 1m 2s\tremaining: 3m 49s\n",
      "215:\tlearn: 1504.5111557\ttest: 1578.3692356\tbest: 1578.3692356 (215)\ttotal: 1m 3s\tremaining: 3m 49s\n",
      "216:\tlearn: 1503.8252507\ttest: 1578.0598205\tbest: 1578.0598205 (216)\ttotal: 1m 3s\tremaining: 3m 48s\n",
      "217:\tlearn: 1503.1082481\ttest: 1577.5958855\tbest: 1577.5958855 (217)\ttotal: 1m 3s\tremaining: 3m 48s\n",
      "218:\tlearn: 1502.3379728\ttest: 1577.1178450\tbest: 1577.1178450 (218)\ttotal: 1m 4s\tremaining: 3m 48s\n",
      "219:\tlearn: 1501.7927192\ttest: 1576.8417418\tbest: 1576.8417418 (219)\ttotal: 1m 4s\tremaining: 3m 48s\n",
      "220:\tlearn: 1500.9287343\ttest: 1576.3894208\tbest: 1576.3894208 (220)\ttotal: 1m 4s\tremaining: 3m 47s\n",
      "221:\tlearn: 1500.3946689\ttest: 1576.0520116\tbest: 1576.0520116 (221)\ttotal: 1m 4s\tremaining: 3m 47s\n",
      "222:\tlearn: 1499.6252383\ttest: 1575.4600556\tbest: 1575.4600556 (222)\ttotal: 1m 5s\tremaining: 3m 47s\n",
      "223:\tlearn: 1498.8642143\ttest: 1575.1382469\tbest: 1575.1382469 (223)\ttotal: 1m 5s\tremaining: 3m 46s\n",
      "224:\tlearn: 1498.4642817\ttest: 1574.9281496\tbest: 1574.9281496 (224)\ttotal: 1m 5s\tremaining: 3m 46s\n",
      "225:\tlearn: 1498.2271367\ttest: 1574.7980632\tbest: 1574.7980632 (225)\ttotal: 1m 5s\tremaining: 3m 45s\n",
      "226:\tlearn: 1498.0858027\ttest: 1574.7778188\tbest: 1574.7778188 (226)\ttotal: 1m 6s\tremaining: 3m 45s\n",
      "227:\tlearn: 1497.8487001\ttest: 1574.6764364\tbest: 1574.6764364 (227)\ttotal: 1m 6s\tremaining: 3m 45s\n",
      "228:\tlearn: 1497.6721220\ttest: 1574.6765359\tbest: 1574.6764364 (227)\ttotal: 1m 6s\tremaining: 3m 45s\n",
      "229:\tlearn: 1497.6166809\ttest: 1574.6489096\tbest: 1574.6489096 (229)\ttotal: 1m 7s\tremaining: 3m 44s\n",
      "230:\tlearn: 1497.0298957\ttest: 1574.3146429\tbest: 1574.3146429 (230)\ttotal: 1m 7s\tremaining: 3m 44s\n",
      "231:\tlearn: 1496.4675188\ttest: 1574.0617271\tbest: 1574.0617271 (231)\ttotal: 1m 7s\tremaining: 3m 44s\n",
      "232:\tlearn: 1495.9380126\ttest: 1573.9039604\tbest: 1573.9039604 (232)\ttotal: 1m 8s\tremaining: 3m 44s\n",
      "233:\tlearn: 1494.3811152\ttest: 1573.1315063\tbest: 1573.1315063 (233)\ttotal: 1m 8s\tremaining: 3m 43s\n",
      "234:\tlearn: 1493.8556207\ttest: 1572.8104425\tbest: 1572.8104425 (234)\ttotal: 1m 8s\tremaining: 3m 43s\n",
      "235:\tlearn: 1493.1918968\ttest: 1572.2570335\tbest: 1572.2570335 (235)\ttotal: 1m 9s\tremaining: 3m 43s\n",
      "236:\tlearn: 1492.6856688\ttest: 1571.9285614\tbest: 1571.9285614 (236)\ttotal: 1m 9s\tremaining: 3m 43s\n",
      "237:\tlearn: 1492.3797149\ttest: 1571.8028085\tbest: 1571.8028085 (237)\ttotal: 1m 9s\tremaining: 3m 42s\n",
      "238:\tlearn: 1491.7328648\ttest: 1571.2946069\tbest: 1571.2946069 (238)\ttotal: 1m 9s\tremaining: 3m 42s\n",
      "239:\tlearn: 1490.7366565\ttest: 1570.8438198\tbest: 1570.8438198 (239)\ttotal: 1m 10s\tremaining: 3m 42s\n",
      "240:\tlearn: 1489.9410518\ttest: 1570.5234977\tbest: 1570.5234977 (240)\ttotal: 1m 10s\tremaining: 3m 41s\n",
      "241:\tlearn: 1489.7547232\ttest: 1570.4821939\tbest: 1570.4821939 (241)\ttotal: 1m 10s\tremaining: 3m 41s\n",
      "242:\tlearn: 1489.4422336\ttest: 1570.4957532\tbest: 1570.4821939 (241)\ttotal: 1m 11s\tremaining: 3m 41s\n",
      "243:\tlearn: 1488.6276105\ttest: 1570.1112502\tbest: 1570.1112502 (243)\ttotal: 1m 11s\tremaining: 3m 41s\n",
      "244:\tlearn: 1488.2372677\ttest: 1569.9481839\tbest: 1569.9481839 (244)\ttotal: 1m 11s\tremaining: 3m 41s\n",
      "245:\tlearn: 1487.1943624\ttest: 1569.4387005\tbest: 1569.4387005 (245)\ttotal: 1m 12s\tremaining: 3m 41s\n",
      "246:\tlearn: 1486.6872160\ttest: 1569.1188208\tbest: 1569.1188208 (246)\ttotal: 1m 12s\tremaining: 3m 40s\n",
      "247:\tlearn: 1486.2444891\ttest: 1569.0162260\tbest: 1569.0162260 (247)\ttotal: 1m 12s\tremaining: 3m 40s\n",
      "248:\tlearn: 1485.6049710\ttest: 1568.5522038\tbest: 1568.5522038 (248)\ttotal: 1m 13s\tremaining: 3m 40s\n",
      "249:\tlearn: 1485.1054669\ttest: 1568.2948510\tbest: 1568.2948510 (249)\ttotal: 1m 13s\tremaining: 3m 40s\n",
      "250:\tlearn: 1484.7641898\ttest: 1568.1891257\tbest: 1568.1891257 (250)\ttotal: 1m 13s\tremaining: 3m 40s\n",
      "251:\tlearn: 1483.7774035\ttest: 1567.8216406\tbest: 1567.8216406 (251)\ttotal: 1m 14s\tremaining: 3m 39s\n",
      "252:\tlearn: 1483.6831890\ttest: 1567.7969934\tbest: 1567.7969934 (252)\ttotal: 1m 14s\tremaining: 3m 39s\n",
      "253:\tlearn: 1483.1052702\ttest: 1567.5035867\tbest: 1567.5035867 (253)\ttotal: 1m 14s\tremaining: 3m 39s\n",
      "254:\tlearn: 1482.6016930\ttest: 1567.2337705\tbest: 1567.2337705 (254)\ttotal: 1m 15s\tremaining: 3m 39s\n",
      "255:\tlearn: 1482.0747870\ttest: 1567.0110607\tbest: 1567.0110607 (255)\ttotal: 1m 15s\tremaining: 3m 38s\n",
      "256:\tlearn: 1481.4408372\ttest: 1566.7665383\tbest: 1566.7665383 (256)\ttotal: 1m 15s\tremaining: 3m 38s\n",
      "257:\tlearn: 1481.1188650\ttest: 1566.5615110\tbest: 1566.5615110 (257)\ttotal: 1m 15s\tremaining: 3m 38s\n",
      "258:\tlearn: 1480.7476396\ttest: 1566.3097976\tbest: 1566.3097976 (258)\ttotal: 1m 16s\tremaining: 3m 38s\n",
      "259:\tlearn: 1480.3125189\ttest: 1566.2458346\tbest: 1566.2458346 (259)\ttotal: 1m 16s\tremaining: 3m 37s\n",
      "260:\tlearn: 1479.9242447\ttest: 1565.8771225\tbest: 1565.8771225 (260)\ttotal: 1m 16s\tremaining: 3m 37s\n",
      "261:\tlearn: 1478.9301442\ttest: 1565.4059059\tbest: 1565.4059059 (261)\ttotal: 1m 17s\tremaining: 3m 37s\n",
      "262:\tlearn: 1478.5508365\ttest: 1565.1644705\tbest: 1565.1644705 (262)\ttotal: 1m 17s\tremaining: 3m 37s\n",
      "263:\tlearn: 1477.9310199\ttest: 1564.9529411\tbest: 1564.9529411 (263)\ttotal: 1m 17s\tremaining: 3m 36s\n",
      "264:\tlearn: 1477.6178392\ttest: 1564.8747257\tbest: 1564.8747257 (264)\ttotal: 1m 17s\tremaining: 3m 36s\n",
      "265:\tlearn: 1477.5700790\ttest: 1564.8834279\tbest: 1564.8747257 (264)\ttotal: 1m 18s\tremaining: 3m 36s\n",
      "266:\tlearn: 1476.6704498\ttest: 1564.4939919\tbest: 1564.4939919 (266)\ttotal: 1m 18s\tremaining: 3m 35s\n",
      "267:\tlearn: 1476.6108992\ttest: 1564.4597589\tbest: 1564.4597589 (267)\ttotal: 1m 18s\tremaining: 3m 35s\n",
      "268:\tlearn: 1475.4202118\ttest: 1563.6994684\tbest: 1563.6994684 (268)\ttotal: 1m 19s\tremaining: 3m 35s\n",
      "269:\tlearn: 1474.6432410\ttest: 1563.0929686\tbest: 1563.0929686 (269)\ttotal: 1m 19s\tremaining: 3m 35s\n",
      "270:\tlearn: 1474.4269064\ttest: 1563.0053942\tbest: 1563.0053942 (270)\ttotal: 1m 19s\tremaining: 3m 34s\n",
      "271:\tlearn: 1473.9350479\ttest: 1562.9858151\tbest: 1562.9858151 (271)\ttotal: 1m 20s\tremaining: 3m 34s\n",
      "272:\tlearn: 1473.3221103\ttest: 1562.5395019\tbest: 1562.5395019 (272)\ttotal: 1m 20s\tremaining: 3m 34s\n",
      "273:\tlearn: 1473.0944416\ttest: 1562.5282743\tbest: 1562.5282743 (273)\ttotal: 1m 20s\tremaining: 3m 34s\n",
      "274:\tlearn: 1472.3735627\ttest: 1562.2844922\tbest: 1562.2844922 (274)\ttotal: 1m 21s\tremaining: 3m 34s\n",
      "275:\tlearn: 1471.2824161\ttest: 1562.0301890\tbest: 1562.0301890 (275)\ttotal: 1m 21s\tremaining: 3m 33s\n",
      "276:\tlearn: 1471.2633464\ttest: 1561.9982935\tbest: 1561.9982935 (276)\ttotal: 1m 21s\tremaining: 3m 32s\n",
      "277:\tlearn: 1470.5282523\ttest: 1561.5601780\tbest: 1561.5601780 (277)\ttotal: 1m 21s\tremaining: 3m 32s\n",
      "278:\tlearn: 1470.0326747\ttest: 1561.3574452\tbest: 1561.3574452 (278)\ttotal: 1m 22s\tremaining: 3m 32s\n",
      "279:\tlearn: 1469.5323494\ttest: 1561.1865061\tbest: 1561.1865061 (279)\ttotal: 1m 22s\tremaining: 3m 32s\n",
      "280:\tlearn: 1469.3816423\ttest: 1561.1342864\tbest: 1561.1342864 (280)\ttotal: 1m 22s\tremaining: 3m 31s\n",
      "281:\tlearn: 1468.8664936\ttest: 1560.9747014\tbest: 1560.9747014 (281)\ttotal: 1m 23s\tremaining: 3m 31s\n",
      "282:\tlearn: 1468.3828252\ttest: 1560.8425073\tbest: 1560.8425073 (282)\ttotal: 1m 23s\tremaining: 3m 31s\n",
      "283:\tlearn: 1467.9852048\ttest: 1560.5680508\tbest: 1560.5680508 (283)\ttotal: 1m 23s\tremaining: 3m 30s\n",
      "284:\tlearn: 1467.5227774\ttest: 1560.3091058\tbest: 1560.3091058 (284)\ttotal: 1m 23s\tremaining: 3m 30s\n",
      "285:\tlearn: 1467.0958769\ttest: 1560.1675321\tbest: 1560.1675321 (285)\ttotal: 1m 24s\tremaining: 3m 30s\n",
      "286:\tlearn: 1466.5119462\ttest: 1560.0090810\tbest: 1560.0090810 (286)\ttotal: 1m 24s\tremaining: 3m 29s\n",
      "287:\tlearn: 1466.0651119\ttest: 1559.8747453\tbest: 1559.8747453 (287)\ttotal: 1m 24s\tremaining: 3m 29s\n",
      "288:\tlearn: 1465.6760453\ttest: 1559.7647570\tbest: 1559.7647570 (288)\ttotal: 1m 25s\tremaining: 3m 29s\n",
      "289:\tlearn: 1465.2963169\ttest: 1559.5644303\tbest: 1559.5644303 (289)\ttotal: 1m 25s\tremaining: 3m 29s\n",
      "290:\tlearn: 1464.2461805\ttest: 1558.9403080\tbest: 1558.9403080 (290)\ttotal: 1m 25s\tremaining: 3m 28s\n",
      "291:\tlearn: 1463.4545960\ttest: 1558.4800609\tbest: 1558.4800609 (291)\ttotal: 1m 25s\tremaining: 3m 28s\n",
      "292:\tlearn: 1462.7997756\ttest: 1558.0096076\tbest: 1558.0096076 (292)\ttotal: 1m 26s\tremaining: 3m 28s\n",
      "293:\tlearn: 1462.6248704\ttest: 1557.9505973\tbest: 1557.9505973 (293)\ttotal: 1m 26s\tremaining: 3m 27s\n",
      "294:\tlearn: 1462.3680765\ttest: 1557.9151723\tbest: 1557.9151723 (294)\ttotal: 1m 26s\tremaining: 3m 27s\n",
      "295:\tlearn: 1462.1736845\ttest: 1557.8600783\tbest: 1557.8600783 (295)\ttotal: 1m 27s\tremaining: 3m 27s\n",
      "296:\tlearn: 1461.5542684\ttest: 1557.9584212\tbest: 1557.8600783 (295)\ttotal: 1m 27s\tremaining: 3m 26s\n",
      "297:\tlearn: 1461.5412789\ttest: 1557.9554771\tbest: 1557.8600783 (295)\ttotal: 1m 27s\tremaining: 3m 26s\n",
      "298:\tlearn: 1461.2725187\ttest: 1557.9098322\tbest: 1557.8600783 (295)\ttotal: 1m 27s\tremaining: 3m 26s\n",
      "299:\tlearn: 1460.5826376\ttest: 1557.4740101\tbest: 1557.4740101 (299)\ttotal: 1m 28s\tremaining: 3m 26s\n",
      "300:\tlearn: 1460.0912073\ttest: 1557.2063417\tbest: 1557.2063417 (300)\ttotal: 1m 28s\tremaining: 3m 25s\n",
      "301:\tlearn: 1459.6899210\ttest: 1557.1144185\tbest: 1557.1144185 (301)\ttotal: 1m 28s\tremaining: 3m 25s\n",
      "302:\tlearn: 1459.3089402\ttest: 1557.0759318\tbest: 1557.0759318 (302)\ttotal: 1m 29s\tremaining: 3m 25s\n",
      "303:\tlearn: 1459.1667207\ttest: 1557.0347011\tbest: 1557.0347011 (303)\ttotal: 1m 29s\tremaining: 3m 24s\n",
      "304:\tlearn: 1458.7216653\ttest: 1556.9165892\tbest: 1556.9165892 (304)\ttotal: 1m 29s\tremaining: 3m 24s\n",
      "305:\tlearn: 1458.4238447\ttest: 1556.6997489\tbest: 1556.6997489 (305)\ttotal: 1m 29s\tremaining: 3m 23s\n",
      "306:\tlearn: 1458.1467778\ttest: 1556.6309706\tbest: 1556.6309706 (306)\ttotal: 1m 30s\tremaining: 3m 23s\n",
      "307:\tlearn: 1457.5467521\ttest: 1556.4029937\tbest: 1556.4029937 (307)\ttotal: 1m 30s\tremaining: 3m 23s\n",
      "308:\tlearn: 1457.0709989\ttest: 1556.3166444\tbest: 1556.3166444 (308)\ttotal: 1m 30s\tremaining: 3m 23s\n",
      "309:\tlearn: 1456.5761587\ttest: 1556.1881424\tbest: 1556.1881424 (309)\ttotal: 1m 31s\tremaining: 3m 23s\n",
      "310:\tlearn: 1456.0083658\ttest: 1555.8070477\tbest: 1555.8070477 (310)\ttotal: 1m 31s\tremaining: 3m 22s\n",
      "311:\tlearn: 1455.7129142\ttest: 1555.7199464\tbest: 1555.7199464 (311)\ttotal: 1m 31s\tremaining: 3m 22s\n",
      "312:\tlearn: 1455.5725577\ttest: 1555.6294795\tbest: 1555.6294795 (312)\ttotal: 1m 32s\tremaining: 3m 22s\n",
      "313:\tlearn: 1455.2501371\ttest: 1555.4996515\tbest: 1555.4996515 (313)\ttotal: 1m 32s\tremaining: 3m 21s\n",
      "314:\tlearn: 1454.9302647\ttest: 1555.4357606\tbest: 1555.4357606 (314)\ttotal: 1m 32s\tremaining: 3m 21s\n",
      "315:\tlearn: 1454.4521589\ttest: 1555.0610224\tbest: 1555.0610224 (315)\ttotal: 1m 33s\tremaining: 3m 21s\n",
      "316:\tlearn: 1454.2085276\ttest: 1554.9858913\tbest: 1554.9858913 (316)\ttotal: 1m 33s\tremaining: 3m 20s\n",
      "317:\tlearn: 1453.6264713\ttest: 1554.6846288\tbest: 1554.6846288 (317)\ttotal: 1m 33s\tremaining: 3m 20s\n",
      "318:\tlearn: 1453.4001611\ttest: 1554.6490280\tbest: 1554.6490280 (318)\ttotal: 1m 33s\tremaining: 3m 20s\n",
      "319:\tlearn: 1452.9251009\ttest: 1554.4467053\tbest: 1554.4467053 (319)\ttotal: 1m 34s\tremaining: 3m 19s\n",
      "320:\tlearn: 1452.7269522\ttest: 1554.4140099\tbest: 1554.4140099 (320)\ttotal: 1m 34s\tremaining: 3m 19s\n",
      "321:\tlearn: 1452.3464562\ttest: 1554.5283800\tbest: 1554.4140099 (320)\ttotal: 1m 34s\tremaining: 3m 19s\n",
      "322:\tlearn: 1451.8803104\ttest: 1554.4329414\tbest: 1554.4140099 (320)\ttotal: 1m 34s\tremaining: 3m 18s\n",
      "323:\tlearn: 1451.4024559\ttest: 1554.3411167\tbest: 1554.3411167 (323)\ttotal: 1m 35s\tremaining: 3m 18s\n",
      "324:\tlearn: 1450.3507676\ttest: 1553.6548552\tbest: 1553.6548552 (324)\ttotal: 1m 35s\tremaining: 3m 18s\n",
      "325:\tlearn: 1449.8838303\ttest: 1553.6447869\tbest: 1553.6447869 (325)\ttotal: 1m 35s\tremaining: 3m 18s\n",
      "326:\tlearn: 1449.4389231\ttest: 1553.3775902\tbest: 1553.3775902 (326)\ttotal: 1m 36s\tremaining: 3m 17s\n",
      "327:\tlearn: 1448.5423269\ttest: 1553.1126913\tbest: 1553.1126913 (327)\ttotal: 1m 36s\tremaining: 3m 17s\n",
      "328:\tlearn: 1448.3338814\ttest: 1553.0659117\tbest: 1553.0659117 (328)\ttotal: 1m 36s\tremaining: 3m 17s\n",
      "329:\tlearn: 1447.7295659\ttest: 1552.8502748\tbest: 1552.8502748 (329)\ttotal: 1m 36s\tremaining: 3m 16s\n",
      "330:\tlearn: 1447.6173156\ttest: 1552.8230784\tbest: 1552.8230784 (330)\ttotal: 1m 37s\tremaining: 3m 16s\n",
      "331:\tlearn: 1447.1391724\ttest: 1552.6121681\tbest: 1552.6121681 (331)\ttotal: 1m 37s\tremaining: 3m 16s\n",
      "332:\tlearn: 1446.8369116\ttest: 1552.5471144\tbest: 1552.5471144 (332)\ttotal: 1m 37s\tremaining: 3m 15s\n",
      "333:\tlearn: 1446.6234057\ttest: 1552.5358770\tbest: 1552.5358770 (333)\ttotal: 1m 38s\tremaining: 3m 15s\n",
      "334:\tlearn: 1446.2960434\ttest: 1552.3133166\tbest: 1552.3133166 (334)\ttotal: 1m 38s\tremaining: 3m 15s\n",
      "335:\tlearn: 1445.9195215\ttest: 1552.1796679\tbest: 1552.1796679 (335)\ttotal: 1m 38s\tremaining: 3m 15s\n",
      "336:\tlearn: 1445.6189429\ttest: 1552.0878051\tbest: 1552.0878051 (336)\ttotal: 1m 38s\tremaining: 3m 14s\n",
      "337:\tlearn: 1445.3843584\ttest: 1552.1125509\tbest: 1552.0878051 (336)\ttotal: 1m 39s\tremaining: 3m 14s\n",
      "338:\tlearn: 1445.2576776\ttest: 1552.0398883\tbest: 1552.0398883 (338)\ttotal: 1m 39s\tremaining: 3m 14s\n",
      "339:\tlearn: 1444.8731950\ttest: 1552.0056536\tbest: 1552.0056536 (339)\ttotal: 1m 39s\tremaining: 3m 13s\n",
      "340:\tlearn: 1444.5469678\ttest: 1551.8063670\tbest: 1551.8063670 (340)\ttotal: 1m 40s\tremaining: 3m 13s\n",
      "341:\tlearn: 1444.1253367\ttest: 1551.6893135\tbest: 1551.6893135 (341)\ttotal: 1m 40s\tremaining: 3m 13s\n",
      "342:\tlearn: 1443.8093984\ttest: 1551.6192944\tbest: 1551.6192944 (342)\ttotal: 1m 40s\tremaining: 3m 13s\n",
      "343:\tlearn: 1443.2582880\ttest: 1551.3120735\tbest: 1551.3120735 (343)\ttotal: 1m 41s\tremaining: 3m 13s\n",
      "344:\tlearn: 1442.8638623\ttest: 1551.0670298\tbest: 1551.0670298 (344)\ttotal: 1m 41s\tremaining: 3m 12s\n",
      "345:\tlearn: 1442.3821974\ttest: 1550.8619085\tbest: 1550.8619085 (345)\ttotal: 1m 41s\tremaining: 3m 12s\n",
      "346:\tlearn: 1442.1544673\ttest: 1550.7753652\tbest: 1550.7753652 (346)\ttotal: 1m 42s\tremaining: 3m 12s\n",
      "347:\tlearn: 1441.9572853\ttest: 1550.6964325\tbest: 1550.6964325 (347)\ttotal: 1m 42s\tremaining: 3m 12s\n",
      "348:\tlearn: 1441.8027722\ttest: 1550.6562966\tbest: 1550.6562966 (348)\ttotal: 1m 42s\tremaining: 3m 11s\n",
      "349:\tlearn: 1441.4706502\ttest: 1550.5596614\tbest: 1550.5596614 (349)\ttotal: 1m 43s\tremaining: 3m 11s\n",
      "350:\tlearn: 1441.4024698\ttest: 1550.5423008\tbest: 1550.5423008 (350)\ttotal: 1m 43s\tremaining: 3m 11s\n",
      "351:\tlearn: 1440.7858092\ttest: 1550.2917017\tbest: 1550.2917017 (351)\ttotal: 1m 43s\tremaining: 3m 10s\n",
      "352:\tlearn: 1440.5612517\ttest: 1550.3936529\tbest: 1550.2917017 (351)\ttotal: 1m 44s\tremaining: 3m 10s\n",
      "353:\tlearn: 1439.7208580\ttest: 1549.9952638\tbest: 1549.9952638 (353)\ttotal: 1m 44s\tremaining: 3m 10s\n",
      "354:\tlearn: 1439.3055238\ttest: 1549.8079046\tbest: 1549.8079046 (354)\ttotal: 1m 44s\tremaining: 3m 10s\n",
      "355:\tlearn: 1439.0004447\ttest: 1549.6396668\tbest: 1549.6396668 (355)\ttotal: 1m 44s\tremaining: 3m 9s\n",
      "356:\tlearn: 1438.8466164\ttest: 1549.6210226\tbest: 1549.6210226 (356)\ttotal: 1m 45s\tremaining: 3m 9s\n",
      "357:\tlearn: 1438.3502697\ttest: 1549.3231992\tbest: 1549.3231992 (357)\ttotal: 1m 45s\tremaining: 3m 9s\n",
      "358:\tlearn: 1437.8050298\ttest: 1549.2350220\tbest: 1549.2350220 (358)\ttotal: 1m 45s\tremaining: 3m 9s\n",
      "359:\tlearn: 1437.6186326\ttest: 1549.2204684\tbest: 1549.2204684 (359)\ttotal: 1m 46s\tremaining: 3m 8s\n",
      "360:\tlearn: 1437.2460813\ttest: 1549.1480582\tbest: 1549.1480582 (360)\ttotal: 1m 46s\tremaining: 3m 8s\n",
      "361:\tlearn: 1436.4401193\ttest: 1548.7966889\tbest: 1548.7966889 (361)\ttotal: 1m 46s\tremaining: 3m 8s\n",
      "362:\tlearn: 1436.2552665\ttest: 1548.6851473\tbest: 1548.6851473 (362)\ttotal: 1m 47s\tremaining: 3m 7s\n",
      "363:\tlearn: 1436.1171737\ttest: 1548.6100650\tbest: 1548.6100650 (363)\ttotal: 1m 47s\tremaining: 3m 7s\n",
      "364:\tlearn: 1435.2631843\ttest: 1548.2799459\tbest: 1548.2799459 (364)\ttotal: 1m 47s\tremaining: 3m 7s\n",
      "365:\tlearn: 1434.8926696\ttest: 1548.1703585\tbest: 1548.1703585 (365)\ttotal: 1m 47s\tremaining: 3m 7s\n",
      "366:\tlearn: 1434.6148025\ttest: 1548.1491545\tbest: 1548.1491545 (366)\ttotal: 1m 48s\tremaining: 3m 6s\n",
      "367:\tlearn: 1434.2884797\ttest: 1548.0054408\tbest: 1548.0054408 (367)\ttotal: 1m 48s\tremaining: 3m 6s\n",
      "368:\tlearn: 1433.8989627\ttest: 1547.8615694\tbest: 1547.8615694 (368)\ttotal: 1m 49s\tremaining: 3m 6s\n",
      "369:\tlearn: 1433.3908756\ttest: 1547.8086186\tbest: 1547.8086186 (369)\ttotal: 1m 49s\tremaining: 3m 6s\n",
      "370:\tlearn: 1433.0848668\ttest: 1547.6105058\tbest: 1547.6105058 (370)\ttotal: 1m 49s\tremaining: 3m 6s\n",
      "371:\tlearn: 1432.7415471\ttest: 1547.5042682\tbest: 1547.5042682 (371)\ttotal: 1m 50s\tremaining: 3m 5s\n",
      "372:\tlearn: 1432.2513766\ttest: 1547.2086901\tbest: 1547.2086901 (372)\ttotal: 1m 50s\tremaining: 3m 5s\n",
      "373:\tlearn: 1431.8264406\ttest: 1547.0050546\tbest: 1547.0050546 (373)\ttotal: 1m 50s\tremaining: 3m 5s\n",
      "374:\tlearn: 1431.4257413\ttest: 1546.9056571\tbest: 1546.9056571 (374)\ttotal: 1m 51s\tremaining: 3m 5s\n",
      "375:\tlearn: 1431.2670265\ttest: 1546.9388765\tbest: 1546.9056571 (374)\ttotal: 1m 51s\tremaining: 3m 5s\n",
      "376:\tlearn: 1431.0936864\ttest: 1546.8940665\tbest: 1546.8940665 (376)\ttotal: 1m 51s\tremaining: 3m 4s\n",
      "377:\tlearn: 1430.4957424\ttest: 1546.5352183\tbest: 1546.5352183 (377)\ttotal: 1m 52s\tremaining: 3m 4s\n",
      "378:\tlearn: 1430.2859268\ttest: 1546.5759445\tbest: 1546.5352183 (377)\ttotal: 1m 52s\tremaining: 3m 4s\n",
      "379:\tlearn: 1430.0974671\ttest: 1546.5305701\tbest: 1546.5305701 (379)\ttotal: 1m 52s\tremaining: 3m 3s\n",
      "380:\tlearn: 1429.9828297\ttest: 1546.4995281\tbest: 1546.4995281 (380)\ttotal: 1m 52s\tremaining: 3m 3s\n",
      "381:\tlearn: 1429.6281877\ttest: 1546.2784720\tbest: 1546.2784720 (381)\ttotal: 1m 53s\tremaining: 3m 3s\n",
      "382:\tlearn: 1429.0845270\ttest: 1546.1544275\tbest: 1546.1544275 (382)\ttotal: 1m 53s\tremaining: 3m 2s\n",
      "383:\tlearn: 1428.8705273\ttest: 1546.1238119\tbest: 1546.1238119 (383)\ttotal: 1m 53s\tremaining: 3m 2s\n",
      "384:\tlearn: 1428.6173178\ttest: 1546.0829981\tbest: 1546.0829981 (384)\ttotal: 1m 54s\tremaining: 3m 2s\n",
      "385:\tlearn: 1428.0507091\ttest: 1545.7700838\tbest: 1545.7700838 (385)\ttotal: 1m 54s\tremaining: 3m 2s\n",
      "386:\tlearn: 1427.7951210\ttest: 1545.6799342\tbest: 1545.6799342 (386)\ttotal: 1m 54s\tremaining: 3m 1s\n",
      "387:\tlearn: 1427.4288259\ttest: 1545.5470829\tbest: 1545.5470829 (387)\ttotal: 1m 55s\tremaining: 3m 1s\n",
      "388:\tlearn: 1427.2393362\ttest: 1545.4388791\tbest: 1545.4388791 (388)\ttotal: 1m 55s\tremaining: 3m 1s\n",
      "389:\tlearn: 1426.8306532\ttest: 1545.2295938\tbest: 1545.2295938 (389)\ttotal: 1m 55s\tremaining: 3m 1s\n",
      "390:\tlearn: 1426.6876196\ttest: 1545.2201799\tbest: 1545.2201799 (390)\ttotal: 1m 56s\tremaining: 3m\n",
      "391:\tlearn: 1426.5791950\ttest: 1545.1840884\tbest: 1545.1840884 (391)\ttotal: 1m 56s\tremaining: 3m\n",
      "392:\tlearn: 1426.2924947\ttest: 1545.1024862\tbest: 1545.1024862 (392)\ttotal: 1m 56s\tremaining: 3m\n",
      "393:\tlearn: 1426.1188985\ttest: 1545.0405564\tbest: 1545.0405564 (393)\ttotal: 1m 56s\tremaining: 2m 59s\n",
      "394:\tlearn: 1425.9839598\ttest: 1544.9576269\tbest: 1544.9576269 (394)\ttotal: 1m 57s\tremaining: 2m 59s\n",
      "395:\tlearn: 1425.6505661\ttest: 1544.8454730\tbest: 1544.8454730 (395)\ttotal: 1m 57s\tremaining: 2m 59s\n",
      "396:\tlearn: 1425.3297504\ttest: 1544.6623262\tbest: 1544.6623262 (396)\ttotal: 1m 57s\tremaining: 2m 58s\n",
      "397:\tlearn: 1425.1650820\ttest: 1544.5585261\tbest: 1544.5585261 (397)\ttotal: 1m 58s\tremaining: 2m 58s\n",
      "398:\tlearn: 1424.8845261\ttest: 1544.3857084\tbest: 1544.3857084 (398)\ttotal: 1m 58s\tremaining: 2m 58s\n",
      "399:\tlearn: 1424.6381335\ttest: 1544.4681179\tbest: 1544.3857084 (398)\ttotal: 1m 58s\tremaining: 2m 58s\n",
      "400:\tlearn: 1424.3055897\ttest: 1544.4090422\tbest: 1544.3857084 (398)\ttotal: 1m 59s\tremaining: 2m 57s\n",
      "401:\tlearn: 1424.1378977\ttest: 1544.3132152\tbest: 1544.3132152 (401)\ttotal: 1m 59s\tremaining: 2m 57s\n",
      "402:\tlearn: 1423.9392385\ttest: 1544.2887843\tbest: 1544.2887843 (402)\ttotal: 1m 59s\tremaining: 2m 57s\n",
      "403:\tlearn: 1423.4424209\ttest: 1544.1270554\tbest: 1544.1270554 (403)\ttotal: 1m 59s\tremaining: 2m 56s\n",
      "404:\tlearn: 1423.2988020\ttest: 1544.0483151\tbest: 1544.0483151 (404)\ttotal: 2m\tremaining: 2m 56s\n",
      "405:\tlearn: 1422.8496830\ttest: 1543.8108285\tbest: 1543.8108285 (405)\ttotal: 2m\tremaining: 2m 56s\n",
      "406:\tlearn: 1422.1686605\ttest: 1543.4729162\tbest: 1543.4729162 (406)\ttotal: 2m\tremaining: 2m 56s\n",
      "407:\tlearn: 1421.8583994\ttest: 1543.3466056\tbest: 1543.3466056 (407)\ttotal: 2m 1s\tremaining: 2m 55s\n",
      "408:\tlearn: 1421.1782904\ttest: 1542.8678196\tbest: 1542.8678196 (408)\ttotal: 2m 1s\tremaining: 2m 55s\n",
      "409:\tlearn: 1420.9299869\ttest: 1542.8691050\tbest: 1542.8678196 (408)\ttotal: 2m 1s\tremaining: 2m 55s\n",
      "410:\tlearn: 1420.6721005\ttest: 1542.7985119\tbest: 1542.7985119 (410)\ttotal: 2m 2s\tremaining: 2m 55s\n",
      "411:\tlearn: 1420.2958808\ttest: 1542.6267823\tbest: 1542.6267823 (411)\ttotal: 2m 2s\tremaining: 2m 54s\n",
      "412:\tlearn: 1420.0255382\ttest: 1542.6397293\tbest: 1542.6267823 (411)\ttotal: 2m 2s\tremaining: 2m 54s\n",
      "413:\tlearn: 1419.8556083\ttest: 1542.5890532\tbest: 1542.5890532 (413)\ttotal: 2m 3s\tremaining: 2m 54s\n",
      "414:\tlearn: 1419.4300084\ttest: 1542.3910771\tbest: 1542.3910771 (414)\ttotal: 2m 3s\tremaining: 2m 54s\n",
      "415:\tlearn: 1419.0680260\ttest: 1542.3349007\tbest: 1542.3349007 (415)\ttotal: 2m 3s\tremaining: 2m 53s\n",
      "416:\tlearn: 1418.5990803\ttest: 1542.2370696\tbest: 1542.2370696 (416)\ttotal: 2m 4s\tremaining: 2m 53s\n",
      "417:\tlearn: 1418.4262344\ttest: 1542.2138150\tbest: 1542.2138150 (417)\ttotal: 2m 4s\tremaining: 2m 53s\n",
      "418:\tlearn: 1418.1517654\ttest: 1542.1562528\tbest: 1542.1562528 (418)\ttotal: 2m 4s\tremaining: 2m 53s\n",
      "419:\tlearn: 1417.6353790\ttest: 1542.0094880\tbest: 1542.0094880 (419)\ttotal: 2m 5s\tremaining: 2m 52s\n",
      "420:\tlearn: 1417.4125199\ttest: 1542.0628028\tbest: 1542.0094880 (419)\ttotal: 2m 5s\tremaining: 2m 52s\n",
      "421:\tlearn: 1417.1708270\ttest: 1541.9541609\tbest: 1541.9541609 (421)\ttotal: 2m 5s\tremaining: 2m 52s\n",
      "422:\tlearn: 1416.5731126\ttest: 1541.6597348\tbest: 1541.6597348 (422)\ttotal: 2m 6s\tremaining: 2m 51s\n",
      "423:\tlearn: 1416.4629834\ttest: 1541.6073247\tbest: 1541.6073247 (423)\ttotal: 2m 6s\tremaining: 2m 51s\n",
      "424:\tlearn: 1416.1554995\ttest: 1541.4912562\tbest: 1541.4912562 (424)\ttotal: 2m 6s\tremaining: 2m 51s\n",
      "425:\tlearn: 1415.9417450\ttest: 1541.4427198\tbest: 1541.4427198 (425)\ttotal: 2m 6s\tremaining: 2m 50s\n",
      "426:\tlearn: 1415.5908764\ttest: 1541.2183696\tbest: 1541.2183696 (426)\ttotal: 2m 7s\tremaining: 2m 50s\n",
      "427:\tlearn: 1415.1008498\ttest: 1541.0090639\tbest: 1541.0090639 (427)\ttotal: 2m 7s\tremaining: 2m 50s\n",
      "428:\tlearn: 1414.9714476\ttest: 1540.9320333\tbest: 1540.9320333 (428)\ttotal: 2m 7s\tremaining: 2m 50s\n",
      "429:\tlearn: 1413.9311596\ttest: 1540.3194656\tbest: 1540.3194656 (429)\ttotal: 2m 8s\tremaining: 2m 49s\n",
      "430:\tlearn: 1413.3318799\ttest: 1540.0124555\tbest: 1540.0124555 (430)\ttotal: 2m 8s\tremaining: 2m 49s\n",
      "431:\tlearn: 1413.0353519\ttest: 1539.8679835\tbest: 1539.8679835 (431)\ttotal: 2m 8s\tremaining: 2m 49s\n",
      "432:\tlearn: 1412.5777186\ttest: 1539.6401748\tbest: 1539.6401748 (432)\ttotal: 2m 9s\tremaining: 2m 49s\n",
      "433:\tlearn: 1412.2122315\ttest: 1539.5195421\tbest: 1539.5195421 (433)\ttotal: 2m 9s\tremaining: 2m 48s\n",
      "434:\tlearn: 1412.0366484\ttest: 1539.4542378\tbest: 1539.4542378 (434)\ttotal: 2m 9s\tremaining: 2m 48s\n",
      "435:\tlearn: 1411.6954958\ttest: 1539.3235017\tbest: 1539.3235017 (435)\ttotal: 2m 9s\tremaining: 2m 48s\n",
      "436:\tlearn: 1411.4891332\ttest: 1539.3028469\tbest: 1539.3028469 (436)\ttotal: 2m 10s\tremaining: 2m 47s\n",
      "437:\tlearn: 1411.3520830\ttest: 1539.2916858\tbest: 1539.2916858 (437)\ttotal: 2m 10s\tremaining: 2m 47s\n",
      "438:\tlearn: 1411.0507296\ttest: 1539.2582957\tbest: 1539.2582957 (438)\ttotal: 2m 10s\tremaining: 2m 47s\n",
      "439:\tlearn: 1410.7290091\ttest: 1539.1439731\tbest: 1539.1439731 (439)\ttotal: 2m 11s\tremaining: 2m 46s\n",
      "440:\tlearn: 1410.5209530\ttest: 1538.9470222\tbest: 1538.9470222 (440)\ttotal: 2m 11s\tremaining: 2m 46s\n",
      "441:\tlearn: 1410.5098408\ttest: 1538.9450775\tbest: 1538.9450775 (441)\ttotal: 2m 11s\tremaining: 2m 46s\n",
      "442:\tlearn: 1410.2442376\ttest: 1538.8982713\tbest: 1538.8982713 (442)\ttotal: 2m 12s\tremaining: 2m 46s\n",
      "443:\tlearn: 1409.4967007\ttest: 1538.4478507\tbest: 1538.4478507 (443)\ttotal: 2m 12s\tremaining: 2m 45s\n",
      "444:\tlearn: 1408.9628052\ttest: 1538.2072468\tbest: 1538.2072468 (444)\ttotal: 2m 12s\tremaining: 2m 45s\n",
      "445:\tlearn: 1408.6816657\ttest: 1538.1195101\tbest: 1538.1195101 (445)\ttotal: 2m 13s\tremaining: 2m 45s\n",
      "446:\tlearn: 1408.4349436\ttest: 1538.0359566\tbest: 1538.0359566 (446)\ttotal: 2m 13s\tremaining: 2m 45s\n",
      "447:\tlearn: 1408.0614372\ttest: 1537.9805356\tbest: 1537.9805356 (447)\ttotal: 2m 13s\tremaining: 2m 44s\n",
      "448:\tlearn: 1407.8068590\ttest: 1537.8510127\tbest: 1537.8510127 (448)\ttotal: 2m 14s\tremaining: 2m 44s\n",
      "449:\tlearn: 1407.3663042\ttest: 1537.6033112\tbest: 1537.6033112 (449)\ttotal: 2m 14s\tremaining: 2m 44s\n",
      "450:\tlearn: 1407.2130480\ttest: 1537.5872620\tbest: 1537.5872620 (450)\ttotal: 2m 14s\tremaining: 2m 43s\n",
      "451:\tlearn: 1406.9160456\ttest: 1537.6218408\tbest: 1537.5872620 (450)\ttotal: 2m 15s\tremaining: 2m 43s\n",
      "452:\tlearn: 1406.5982945\ttest: 1537.5632889\tbest: 1537.5632889 (452)\ttotal: 2m 15s\tremaining: 2m 43s\n",
      "453:\tlearn: 1406.1792676\ttest: 1537.5298918\tbest: 1537.5298918 (453)\ttotal: 2m 15s\tremaining: 2m 43s\n",
      "454:\tlearn: 1405.8253707\ttest: 1537.4972599\tbest: 1537.4972599 (454)\ttotal: 2m 15s\tremaining: 2m 42s\n",
      "455:\tlearn: 1405.0922103\ttest: 1537.2548785\tbest: 1537.2548785 (455)\ttotal: 2m 16s\tremaining: 2m 42s\n",
      "456:\tlearn: 1404.8857465\ttest: 1537.2730013\tbest: 1537.2548785 (455)\ttotal: 2m 16s\tremaining: 2m 42s\n",
      "457:\tlearn: 1404.5116722\ttest: 1537.2078767\tbest: 1537.2078767 (457)\ttotal: 2m 16s\tremaining: 2m 42s\n",
      "458:\tlearn: 1404.1196566\ttest: 1537.0980336\tbest: 1537.0980336 (458)\ttotal: 2m 17s\tremaining: 2m 41s\n",
      "459:\tlearn: 1403.8407936\ttest: 1536.9814636\tbest: 1536.9814636 (459)\ttotal: 2m 17s\tremaining: 2m 41s\n",
      "460:\tlearn: 1403.4395560\ttest: 1536.8094918\tbest: 1536.8094918 (460)\ttotal: 2m 17s\tremaining: 2m 41s\n",
      "461:\tlearn: 1403.2886561\ttest: 1536.7665946\tbest: 1536.7665946 (461)\ttotal: 2m 18s\tremaining: 2m 40s\n",
      "462:\tlearn: 1403.1931878\ttest: 1536.7551198\tbest: 1536.7551198 (462)\ttotal: 2m 18s\tremaining: 2m 40s\n",
      "463:\tlearn: 1402.8386857\ttest: 1536.6312064\tbest: 1536.6312064 (463)\ttotal: 2m 18s\tremaining: 2m 40s\n",
      "464:\tlearn: 1402.6551538\ttest: 1536.6492512\tbest: 1536.6312064 (463)\ttotal: 2m 19s\tremaining: 2m 40s\n",
      "465:\tlearn: 1402.3061189\ttest: 1536.4463270\tbest: 1536.4463270 (465)\ttotal: 2m 19s\tremaining: 2m 39s\n",
      "466:\tlearn: 1402.1129612\ttest: 1536.3886051\tbest: 1536.3886051 (466)\ttotal: 2m 19s\tremaining: 2m 39s\n",
      "467:\tlearn: 1401.9969559\ttest: 1536.4093193\tbest: 1536.3886051 (466)\ttotal: 2m 20s\tremaining: 2m 39s\n",
      "468:\tlearn: 1401.8200780\ttest: 1536.4323239\tbest: 1536.3886051 (466)\ttotal: 2m 20s\tremaining: 2m 38s\n",
      "469:\tlearn: 1401.5137148\ttest: 1536.2785962\tbest: 1536.2785962 (469)\ttotal: 2m 20s\tremaining: 2m 38s\n",
      "470:\tlearn: 1401.3219033\ttest: 1536.1898734\tbest: 1536.1898734 (470)\ttotal: 2m 20s\tremaining: 2m 38s\n",
      "471:\tlearn: 1400.5736266\ttest: 1535.9440343\tbest: 1535.9440343 (471)\ttotal: 2m 21s\tremaining: 2m 38s\n",
      "472:\tlearn: 1400.4019090\ttest: 1536.1018856\tbest: 1535.9440343 (471)\ttotal: 2m 21s\tremaining: 2m 37s\n",
      "473:\tlearn: 1400.2796170\ttest: 1536.0732924\tbest: 1535.9440343 (471)\ttotal: 2m 22s\tremaining: 2m 37s\n",
      "474:\tlearn: 1399.9950608\ttest: 1535.9945584\tbest: 1535.9440343 (471)\ttotal: 2m 22s\tremaining: 2m 37s\n",
      "475:\tlearn: 1399.9115326\ttest: 1535.9685217\tbest: 1535.9440343 (471)\ttotal: 2m 22s\tremaining: 2m 37s\n",
      "476:\tlearn: 1399.4025450\ttest: 1535.9654536\tbest: 1535.9440343 (471)\ttotal: 2m 23s\tremaining: 2m 36s\n",
      "477:\tlearn: 1398.8913496\ttest: 1535.8088161\tbest: 1535.8088161 (477)\ttotal: 2m 23s\tremaining: 2m 36s\n",
      "478:\tlearn: 1398.6289907\ttest: 1535.8161741\tbest: 1535.8088161 (477)\ttotal: 2m 23s\tremaining: 2m 36s\n",
      "479:\tlearn: 1398.6114678\ttest: 1535.8154592\tbest: 1535.8088161 (477)\ttotal: 2m 24s\tremaining: 2m 36s\n",
      "480:\tlearn: 1398.2840654\ttest: 1535.6748477\tbest: 1535.6748477 (480)\ttotal: 2m 24s\tremaining: 2m 35s\n",
      "481:\tlearn: 1398.1334826\ttest: 1535.5988368\tbest: 1535.5988368 (481)\ttotal: 2m 24s\tremaining: 2m 35s\n",
      "482:\tlearn: 1397.9811682\ttest: 1535.5655942\tbest: 1535.5655942 (482)\ttotal: 2m 24s\tremaining: 2m 34s\n",
      "483:\tlearn: 1397.6723489\ttest: 1535.4844647\tbest: 1535.4844647 (483)\ttotal: 2m 25s\tremaining: 2m 34s\n",
      "484:\tlearn: 1397.5789049\ttest: 1535.4727657\tbest: 1535.4727657 (484)\ttotal: 2m 25s\tremaining: 2m 34s\n",
      "485:\tlearn: 1397.3179408\ttest: 1535.3979494\tbest: 1535.3979494 (485)\ttotal: 2m 25s\tremaining: 2m 34s\n",
      "486:\tlearn: 1397.1205588\ttest: 1535.3726549\tbest: 1535.3726549 (486)\ttotal: 2m 26s\tremaining: 2m 33s\n",
      "487:\tlearn: 1396.5896189\ttest: 1535.1717249\tbest: 1535.1717249 (487)\ttotal: 2m 26s\tremaining: 2m 33s\n",
      "488:\tlearn: 1396.2561927\ttest: 1535.2079876\tbest: 1535.1717249 (487)\ttotal: 2m 26s\tremaining: 2m 33s\n",
      "489:\tlearn: 1395.9255179\ttest: 1535.0514132\tbest: 1535.0514132 (489)\ttotal: 2m 27s\tremaining: 2m 33s\n",
      "490:\tlearn: 1395.8017217\ttest: 1535.0418766\tbest: 1535.0418766 (490)\ttotal: 2m 27s\tremaining: 2m 32s\n",
      "491:\tlearn: 1395.3410846\ttest: 1534.9205247\tbest: 1534.9205247 (491)\ttotal: 2m 27s\tremaining: 2m 32s\n",
      "492:\tlearn: 1395.2322616\ttest: 1534.9316759\tbest: 1534.9205247 (491)\ttotal: 2m 28s\tremaining: 2m 32s\n",
      "493:\tlearn: 1395.0725344\ttest: 1534.8668450\tbest: 1534.8668450 (493)\ttotal: 2m 28s\tremaining: 2m 32s\n",
      "494:\tlearn: 1394.6848623\ttest: 1534.7145240\tbest: 1534.7145240 (494)\ttotal: 2m 28s\tremaining: 2m 31s\n",
      "495:\tlearn: 1394.5968480\ttest: 1534.6847405\tbest: 1534.6847405 (495)\ttotal: 2m 29s\tremaining: 2m 31s\n",
      "496:\tlearn: 1394.4617302\ttest: 1534.6846582\tbest: 1534.6846582 (496)\ttotal: 2m 29s\tremaining: 2m 31s\n",
      "497:\tlearn: 1394.2117632\ttest: 1534.6438507\tbest: 1534.6438507 (497)\ttotal: 2m 29s\tremaining: 2m 30s\n",
      "498:\tlearn: 1393.8789861\ttest: 1534.5075437\tbest: 1534.5075437 (498)\ttotal: 2m 29s\tremaining: 2m 30s\n",
      "499:\tlearn: 1393.6222314\ttest: 1534.4000521\tbest: 1534.4000521 (499)\ttotal: 2m 30s\tremaining: 2m 30s\n",
      "500:\tlearn: 1393.3450200\ttest: 1534.2471503\tbest: 1534.2471503 (500)\ttotal: 2m 30s\tremaining: 2m 29s\n",
      "501:\tlearn: 1393.1811526\ttest: 1534.3292063\tbest: 1534.2471503 (500)\ttotal: 2m 30s\tremaining: 2m 29s\n",
      "502:\tlearn: 1392.9801918\ttest: 1534.3511428\tbest: 1534.2471503 (500)\ttotal: 2m 31s\tremaining: 2m 29s\n",
      "503:\tlearn: 1392.5778987\ttest: 1534.2208084\tbest: 1534.2208084 (503)\ttotal: 2m 31s\tremaining: 2m 29s\n",
      "504:\tlearn: 1392.1648287\ttest: 1533.9373740\tbest: 1533.9373740 (504)\ttotal: 2m 31s\tremaining: 2m 28s\n",
      "505:\tlearn: 1391.9905541\ttest: 1533.8761311\tbest: 1533.8761311 (505)\ttotal: 2m 32s\tremaining: 2m 28s\n",
      "506:\tlearn: 1391.8185026\ttest: 1533.8531600\tbest: 1533.8531600 (506)\ttotal: 2m 32s\tremaining: 2m 28s\n",
      "507:\tlearn: 1391.7932007\ttest: 1533.8513657\tbest: 1533.8513657 (507)\ttotal: 2m 32s\tremaining: 2m 27s\n",
      "508:\tlearn: 1391.6557536\ttest: 1533.7879756\tbest: 1533.7879756 (508)\ttotal: 2m 33s\tremaining: 2m 27s\n",
      "509:\tlearn: 1391.5261143\ttest: 1533.6515950\tbest: 1533.6515950 (509)\ttotal: 2m 33s\tremaining: 2m 27s\n",
      "510:\tlearn: 1391.3082331\ttest: 1533.6269397\tbest: 1533.6269397 (510)\ttotal: 2m 33s\tremaining: 2m 26s\n",
      "511:\tlearn: 1391.0803133\ttest: 1533.6404045\tbest: 1533.6269397 (510)\ttotal: 2m 33s\tremaining: 2m 26s\n",
      "512:\tlearn: 1390.8495283\ttest: 1533.5548229\tbest: 1533.5548229 (512)\ttotal: 2m 34s\tremaining: 2m 26s\n",
      "513:\tlearn: 1390.7299792\ttest: 1533.5539064\tbest: 1533.5539064 (513)\ttotal: 2m 34s\tremaining: 2m 26s\n",
      "514:\tlearn: 1390.2844789\ttest: 1533.3173651\tbest: 1533.3173651 (514)\ttotal: 2m 34s\tremaining: 2m 25s\n",
      "515:\tlearn: 1390.0415978\ttest: 1533.2048948\tbest: 1533.2048948 (515)\ttotal: 2m 35s\tremaining: 2m 25s\n",
      "516:\tlearn: 1389.7795859\ttest: 1533.2390249\tbest: 1533.2048948 (515)\ttotal: 2m 35s\tremaining: 2m 25s\n",
      "517:\tlearn: 1389.6364819\ttest: 1533.2094475\tbest: 1533.2048948 (515)\ttotal: 2m 35s\tremaining: 2m 24s\n",
      "518:\tlearn: 1389.3605023\ttest: 1533.1806474\tbest: 1533.1806474 (518)\ttotal: 2m 36s\tremaining: 2m 24s\n",
      "519:\tlearn: 1389.0407932\ttest: 1532.9774171\tbest: 1532.9774171 (519)\ttotal: 2m 36s\tremaining: 2m 24s\n",
      "520:\tlearn: 1388.9247943\ttest: 1532.9774888\tbest: 1532.9774171 (519)\ttotal: 2m 36s\tremaining: 2m 23s\n",
      "521:\tlearn: 1388.7498012\ttest: 1532.9199914\tbest: 1532.9199914 (521)\ttotal: 2m 36s\tremaining: 2m 23s\n",
      "522:\tlearn: 1388.5850471\ttest: 1532.8233171\tbest: 1532.8233171 (522)\ttotal: 2m 37s\tremaining: 2m 23s\n",
      "523:\tlearn: 1388.4952797\ttest: 1532.7756915\tbest: 1532.7756915 (523)\ttotal: 2m 37s\tremaining: 2m 23s\n",
      "524:\tlearn: 1388.4756475\ttest: 1532.7604656\tbest: 1532.7604656 (524)\ttotal: 2m 37s\tremaining: 2m 22s\n",
      "525:\tlearn: 1388.2730423\ttest: 1532.7967391\tbest: 1532.7604656 (524)\ttotal: 2m 38s\tremaining: 2m 22s\n",
      "526:\tlearn: 1387.9748776\ttest: 1532.8266846\tbest: 1532.7604656 (524)\ttotal: 2m 38s\tremaining: 2m 22s\n",
      "527:\tlearn: 1387.7896632\ttest: 1532.8274730\tbest: 1532.7604656 (524)\ttotal: 2m 38s\tremaining: 2m 22s\n",
      "528:\tlearn: 1387.6031863\ttest: 1532.7747755\tbest: 1532.7604656 (524)\ttotal: 2m 39s\tremaining: 2m 21s\n",
      "529:\tlearn: 1386.9512290\ttest: 1532.5684637\tbest: 1532.5684637 (529)\ttotal: 2m 39s\tremaining: 2m 21s\n",
      "530:\tlearn: 1386.5491212\ttest: 1532.3288369\tbest: 1532.3288369 (530)\ttotal: 2m 39s\tremaining: 2m 21s\n",
      "531:\tlearn: 1386.2536652\ttest: 1532.1946838\tbest: 1532.1946838 (531)\ttotal: 2m 40s\tremaining: 2m 20s\n",
      "532:\tlearn: 1386.1176016\ttest: 1532.2170588\tbest: 1532.1946838 (531)\ttotal: 2m 40s\tremaining: 2m 20s\n",
      "533:\tlearn: 1385.8667930\ttest: 1532.1571508\tbest: 1532.1571508 (533)\ttotal: 2m 40s\tremaining: 2m 20s\n",
      "534:\tlearn: 1385.6734249\ttest: 1532.1749303\tbest: 1532.1571508 (533)\ttotal: 2m 41s\tremaining: 2m 20s\n",
      "535:\tlearn: 1385.4746982\ttest: 1532.0929139\tbest: 1532.0929139 (535)\ttotal: 2m 41s\tremaining: 2m 19s\n",
      "536:\tlearn: 1385.4428186\ttest: 1532.0536402\tbest: 1532.0536402 (536)\ttotal: 2m 41s\tremaining: 2m 19s\n",
      "537:\tlearn: 1385.2684776\ttest: 1532.0951160\tbest: 1532.0536402 (536)\ttotal: 2m 42s\tremaining: 2m 19s\n",
      "538:\tlearn: 1384.7976193\ttest: 1531.9150143\tbest: 1531.9150143 (538)\ttotal: 2m 42s\tremaining: 2m 19s\n",
      "539:\tlearn: 1384.5977231\ttest: 1531.9563366\tbest: 1531.9150143 (538)\ttotal: 2m 42s\tremaining: 2m 18s\n",
      "540:\tlearn: 1384.4711593\ttest: 1531.9265938\tbest: 1531.9150143 (538)\ttotal: 2m 43s\tremaining: 2m 18s\n",
      "541:\tlearn: 1384.3095112\ttest: 1531.9211834\tbest: 1531.9150143 (538)\ttotal: 2m 43s\tremaining: 2m 18s\n",
      "542:\tlearn: 1384.0140374\ttest: 1531.7506424\tbest: 1531.7506424 (542)\ttotal: 2m 43s\tremaining: 2m 17s\n",
      "543:\tlearn: 1383.8846465\ttest: 1531.7209407\tbest: 1531.7209407 (543)\ttotal: 2m 44s\tremaining: 2m 17s\n",
      "544:\tlearn: 1383.6790890\ttest: 1531.5706858\tbest: 1531.5706858 (544)\ttotal: 2m 44s\tremaining: 2m 17s\n",
      "545:\tlearn: 1383.4298722\ttest: 1531.4767779\tbest: 1531.4767779 (545)\ttotal: 2m 44s\tremaining: 2m 17s\n",
      "546:\tlearn: 1383.0545229\ttest: 1531.5185264\tbest: 1531.4767779 (545)\ttotal: 2m 45s\tremaining: 2m 16s\n",
      "547:\tlearn: 1382.6498469\ttest: 1531.2865155\tbest: 1531.2865155 (547)\ttotal: 2m 45s\tremaining: 2m 16s\n",
      "548:\tlearn: 1382.3643626\ttest: 1531.1913388\tbest: 1531.1913388 (548)\ttotal: 2m 45s\tremaining: 2m 16s\n",
      "549:\tlearn: 1381.9155829\ttest: 1530.9880562\tbest: 1530.9880562 (549)\ttotal: 2m 46s\tremaining: 2m 15s\n",
      "550:\tlearn: 1381.5021940\ttest: 1530.9576513\tbest: 1530.9576513 (550)\ttotal: 2m 46s\tremaining: 2m 15s\n",
      "551:\tlearn: 1381.4981733\ttest: 1530.9519299\tbest: 1530.9519299 (551)\ttotal: 2m 46s\tremaining: 2m 15s\n",
      "552:\tlearn: 1381.2693530\ttest: 1530.8690510\tbest: 1530.8690510 (552)\ttotal: 2m 47s\tremaining: 2m 15s\n",
      "553:\tlearn: 1381.0944602\ttest: 1530.8704163\tbest: 1530.8690510 (552)\ttotal: 2m 47s\tremaining: 2m 14s\n",
      "554:\tlearn: 1380.9820688\ttest: 1530.8872257\tbest: 1530.8690510 (552)\ttotal: 2m 47s\tremaining: 2m 14s\n",
      "555:\tlearn: 1380.7647048\ttest: 1530.8457959\tbest: 1530.8457959 (555)\ttotal: 2m 48s\tremaining: 2m 14s\n",
      "556:\tlearn: 1380.3881531\ttest: 1530.5773422\tbest: 1530.5773422 (556)\ttotal: 2m 48s\tremaining: 2m 13s\n",
      "557:\tlearn: 1380.2317753\ttest: 1530.5775577\tbest: 1530.5773422 (556)\ttotal: 2m 48s\tremaining: 2m 13s\n",
      "558:\tlearn: 1380.1847148\ttest: 1530.5687881\tbest: 1530.5687881 (558)\ttotal: 2m 49s\tremaining: 2m 13s\n",
      "559:\tlearn: 1380.0379382\ttest: 1530.4790118\tbest: 1530.4790118 (559)\ttotal: 2m 49s\tremaining: 2m 13s\n",
      "560:\tlearn: 1380.0029463\ttest: 1530.4627893\tbest: 1530.4627893 (560)\ttotal: 2m 49s\tremaining: 2m 12s\n",
      "561:\tlearn: 1379.7959938\ttest: 1530.3636197\tbest: 1530.3636197 (561)\ttotal: 2m 49s\tremaining: 2m 12s\n",
      "562:\tlearn: 1379.2495172\ttest: 1530.0842180\tbest: 1530.0842180 (562)\ttotal: 2m 50s\tremaining: 2m 12s\n",
      "563:\tlearn: 1379.1384110\ttest: 1530.0732045\tbest: 1530.0732045 (563)\ttotal: 2m 50s\tremaining: 2m 11s\n",
      "564:\tlearn: 1379.1078685\ttest: 1530.1014169\tbest: 1530.0732045 (563)\ttotal: 2m 50s\tremaining: 2m 11s\n",
      "565:\tlearn: 1378.9269888\ttest: 1530.0965271\tbest: 1530.0732045 (563)\ttotal: 2m 51s\tremaining: 2m 11s\n",
      "566:\tlearn: 1378.9119093\ttest: 1530.1064130\tbest: 1530.0732045 (563)\ttotal: 2m 51s\tremaining: 2m 10s\n",
      "567:\tlearn: 1378.6574200\ttest: 1530.1764362\tbest: 1530.0732045 (563)\ttotal: 2m 51s\tremaining: 2m 10s\n",
      "568:\tlearn: 1378.5406645\ttest: 1530.1924340\tbest: 1530.0732045 (563)\ttotal: 2m 52s\tremaining: 2m 10s\n",
      "569:\tlearn: 1378.3503330\ttest: 1530.1004301\tbest: 1530.0732045 (563)\ttotal: 2m 52s\tremaining: 2m 10s\n",
      "570:\tlearn: 1378.2062070\ttest: 1530.0849404\tbest: 1530.0732045 (563)\ttotal: 2m 52s\tremaining: 2m 9s\n",
      "571:\tlearn: 1377.9576565\ttest: 1530.0962242\tbest: 1530.0732045 (563)\ttotal: 2m 53s\tremaining: 2m 9s\n",
      "572:\tlearn: 1377.7647167\ttest: 1530.0750765\tbest: 1530.0732045 (563)\ttotal: 2m 53s\tremaining: 2m 9s\n",
      "573:\tlearn: 1377.6513393\ttest: 1530.0937620\tbest: 1530.0732045 (563)\ttotal: 2m 53s\tremaining: 2m 8s\n",
      "574:\tlearn: 1377.5184530\ttest: 1530.0629431\tbest: 1530.0629431 (574)\ttotal: 2m 54s\tremaining: 2m 8s\n",
      "575:\tlearn: 1377.2788885\ttest: 1530.0243024\tbest: 1530.0243024 (575)\ttotal: 2m 54s\tremaining: 2m 8s\n",
      "576:\tlearn: 1377.1353467\ttest: 1529.9623423\tbest: 1529.9623423 (576)\ttotal: 2m 54s\tremaining: 2m 8s\n",
      "577:\tlearn: 1376.8642270\ttest: 1529.7737769\tbest: 1529.7737769 (577)\ttotal: 2m 54s\tremaining: 2m 7s\n",
      "578:\tlearn: 1376.7252710\ttest: 1529.7196950\tbest: 1529.7196950 (578)\ttotal: 2m 55s\tremaining: 2m 7s\n",
      "579:\tlearn: 1376.4515293\ttest: 1529.7575196\tbest: 1529.7196950 (578)\ttotal: 2m 55s\tremaining: 2m 7s\n",
      "580:\tlearn: 1376.3948998\ttest: 1529.7687043\tbest: 1529.7196950 (578)\ttotal: 2m 55s\tremaining: 2m 6s\n",
      "581:\tlearn: 1375.9049861\ttest: 1529.5223283\tbest: 1529.5223283 (581)\ttotal: 2m 56s\tremaining: 2m 6s\n",
      "582:\tlearn: 1375.6695750\ttest: 1529.5119306\tbest: 1529.5119306 (582)\ttotal: 2m 56s\tremaining: 2m 6s\n",
      "583:\tlearn: 1375.5174393\ttest: 1529.4722938\tbest: 1529.4722938 (583)\ttotal: 2m 56s\tremaining: 2m 5s\n",
      "584:\tlearn: 1375.4451332\ttest: 1529.4513123\tbest: 1529.4513123 (584)\ttotal: 2m 57s\tremaining: 2m 5s\n",
      "585:\tlearn: 1375.2608724\ttest: 1529.4011630\tbest: 1529.4011630 (585)\ttotal: 2m 57s\tremaining: 2m 5s\n",
      "586:\tlearn: 1374.9531548\ttest: 1529.3134352\tbest: 1529.3134352 (586)\ttotal: 2m 57s\tremaining: 2m 4s\n",
      "587:\tlearn: 1374.4872738\ttest: 1529.1900731\tbest: 1529.1900731 (587)\ttotal: 2m 57s\tremaining: 2m 4s\n",
      "588:\tlearn: 1374.4057245\ttest: 1529.1638194\tbest: 1529.1638194 (588)\ttotal: 2m 58s\tremaining: 2m 4s\n",
      "589:\tlearn: 1374.2151369\ttest: 1529.1394900\tbest: 1529.1394900 (589)\ttotal: 2m 58s\tremaining: 2m 4s\n",
      "590:\tlearn: 1373.7940219\ttest: 1529.0236064\tbest: 1529.0236064 (590)\ttotal: 2m 58s\tremaining: 2m 3s\n",
      "591:\tlearn: 1373.6752622\ttest: 1529.0649310\tbest: 1529.0236064 (590)\ttotal: 2m 59s\tremaining: 2m 3s\n",
      "592:\tlearn: 1373.5410822\ttest: 1529.0530448\tbest: 1529.0236064 (590)\ttotal: 2m 59s\tremaining: 2m 3s\n",
      "593:\tlearn: 1373.3419654\ttest: 1529.0552948\tbest: 1529.0236064 (590)\ttotal: 2m 59s\tremaining: 2m 2s\n",
      "594:\tlearn: 1373.1090309\ttest: 1529.0186169\tbest: 1529.0186169 (594)\ttotal: 3m\tremaining: 2m 2s\n",
      "595:\tlearn: 1372.9480657\ttest: 1528.9837541\tbest: 1528.9837541 (595)\ttotal: 3m\tremaining: 2m 2s\n",
      "596:\tlearn: 1372.6380709\ttest: 1528.9010588\tbest: 1528.9010588 (596)\ttotal: 3m\tremaining: 2m 2s\n",
      "597:\tlearn: 1371.8876423\ttest: 1528.4796184\tbest: 1528.4796184 (597)\ttotal: 3m 1s\tremaining: 2m 1s\n",
      "598:\tlearn: 1371.6766135\ttest: 1528.3725559\tbest: 1528.3725559 (598)\ttotal: 3m 1s\tremaining: 2m 1s\n",
      "599:\tlearn: 1371.4341601\ttest: 1528.1996859\tbest: 1528.1996859 (599)\ttotal: 3m 1s\tremaining: 2m 1s\n",
      "600:\tlearn: 1371.2186400\ttest: 1528.0774117\tbest: 1528.0774117 (600)\ttotal: 3m 2s\tremaining: 2m\n",
      "601:\tlearn: 1371.1228908\ttest: 1528.0450339\tbest: 1528.0450339 (601)\ttotal: 3m 2s\tremaining: 2m\n",
      "602:\tlearn: 1370.7924394\ttest: 1527.9386227\tbest: 1527.9386227 (602)\ttotal: 3m 2s\tremaining: 2m\n",
      "603:\tlearn: 1370.6464411\ttest: 1527.8595763\tbest: 1527.8595763 (603)\ttotal: 3m 2s\tremaining: 1m 59s\n",
      "604:\tlearn: 1370.1569607\ttest: 1527.6820461\tbest: 1527.6820461 (604)\ttotal: 3m 3s\tremaining: 1m 59s\n",
      "605:\tlearn: 1369.9230235\ttest: 1527.6247004\tbest: 1527.6247004 (605)\ttotal: 3m 3s\tremaining: 1m 59s\n",
      "606:\tlearn: 1369.7717825\ttest: 1527.6320865\tbest: 1527.6247004 (605)\ttotal: 3m 3s\tremaining: 1m 59s\n",
      "607:\tlearn: 1369.6114462\ttest: 1527.6886705\tbest: 1527.6247004 (605)\ttotal: 3m 4s\tremaining: 1m 58s\n",
      "608:\tlearn: 1369.3250777\ttest: 1527.6297026\tbest: 1527.6247004 (605)\ttotal: 3m 4s\tremaining: 1m 58s\n",
      "609:\tlearn: 1369.2688179\ttest: 1527.6021806\tbest: 1527.6021806 (609)\ttotal: 3m 4s\tremaining: 1m 58s\n",
      "610:\tlearn: 1368.8206012\ttest: 1527.5176404\tbest: 1527.5176404 (610)\ttotal: 3m 5s\tremaining: 1m 57s\n",
      "611:\tlearn: 1368.4586706\ttest: 1527.3311607\tbest: 1527.3311607 (611)\ttotal: 3m 5s\tremaining: 1m 57s\n",
      "612:\tlearn: 1368.3196049\ttest: 1527.2763439\tbest: 1527.2763439 (612)\ttotal: 3m 5s\tremaining: 1m 57s\n",
      "613:\tlearn: 1368.2035649\ttest: 1527.3455753\tbest: 1527.2763439 (612)\ttotal: 3m 6s\tremaining: 1m 57s\n",
      "614:\tlearn: 1368.0539661\ttest: 1527.3726603\tbest: 1527.2763439 (612)\ttotal: 3m 6s\tremaining: 1m 56s\n",
      "615:\tlearn: 1367.7337527\ttest: 1527.3085389\tbest: 1527.2763439 (612)\ttotal: 3m 6s\tremaining: 1m 56s\n",
      "616:\tlearn: 1367.6268674\ttest: 1527.2616714\tbest: 1527.2616714 (616)\ttotal: 3m 7s\tremaining: 1m 56s\n",
      "617:\tlearn: 1367.5001473\ttest: 1527.2624371\tbest: 1527.2616714 (616)\ttotal: 3m 7s\tremaining: 1m 55s\n",
      "618:\tlearn: 1367.1777478\ttest: 1527.1536452\tbest: 1527.1536452 (618)\ttotal: 3m 7s\tremaining: 1m 55s\n",
      "619:\tlearn: 1366.9574079\ttest: 1527.1789036\tbest: 1527.1536452 (618)\ttotal: 3m 7s\tremaining: 1m 55s\n",
      "620:\tlearn: 1366.7313961\ttest: 1527.0852739\tbest: 1527.0852739 (620)\ttotal: 3m 8s\tremaining: 1m 54s\n",
      "621:\tlearn: 1366.6302315\ttest: 1527.0826398\tbest: 1527.0826398 (621)\ttotal: 3m 8s\tremaining: 1m 54s\n",
      "622:\tlearn: 1366.2789154\ttest: 1526.9820454\tbest: 1526.9820454 (622)\ttotal: 3m 8s\tremaining: 1m 54s\n",
      "623:\tlearn: 1366.1551155\ttest: 1526.9959638\tbest: 1526.9820454 (622)\ttotal: 3m 9s\tremaining: 1m 53s\n",
      "624:\tlearn: 1365.9284432\ttest: 1526.8903923\tbest: 1526.8903923 (624)\ttotal: 3m 9s\tremaining: 1m 53s\n",
      "625:\tlearn: 1365.6524410\ttest: 1526.9664640\tbest: 1526.8903923 (624)\ttotal: 3m 9s\tremaining: 1m 53s\n",
      "626:\tlearn: 1365.3751107\ttest: 1526.8050511\tbest: 1526.8050511 (626)\ttotal: 3m 9s\tremaining: 1m 52s\n",
      "627:\tlearn: 1365.0823063\ttest: 1526.5902707\tbest: 1526.5902707 (627)\ttotal: 3m 10s\tremaining: 1m 52s\n",
      "628:\tlearn: 1365.0373941\ttest: 1526.5757892\tbest: 1526.5757892 (628)\ttotal: 3m 10s\tremaining: 1m 52s\n",
      "629:\tlearn: 1364.8364713\ttest: 1526.4762943\tbest: 1526.4762943 (629)\ttotal: 3m 10s\tremaining: 1m 52s\n",
      "630:\tlearn: 1364.7114439\ttest: 1526.4565004\tbest: 1526.4565004 (630)\ttotal: 3m 11s\tremaining: 1m 51s\n",
      "631:\tlearn: 1364.4556775\ttest: 1526.3527930\tbest: 1526.3527930 (631)\ttotal: 3m 11s\tremaining: 1m 51s\n",
      "632:\tlearn: 1364.0662108\ttest: 1526.3005479\tbest: 1526.3005479 (632)\ttotal: 3m 11s\tremaining: 1m 51s\n",
      "633:\tlearn: 1363.8210830\ttest: 1526.3002988\tbest: 1526.3002988 (633)\ttotal: 3m 12s\tremaining: 1m 50s\n",
      "634:\tlearn: 1363.5036673\ttest: 1526.1202762\tbest: 1526.1202762 (634)\ttotal: 3m 12s\tremaining: 1m 50s\n",
      "635:\tlearn: 1363.3846811\ttest: 1526.0570193\tbest: 1526.0570193 (635)\ttotal: 3m 12s\tremaining: 1m 50s\n",
      "636:\tlearn: 1363.1864344\ttest: 1525.9802358\tbest: 1525.9802358 (636)\ttotal: 3m 12s\tremaining: 1m 49s\n",
      "637:\tlearn: 1363.1110888\ttest: 1525.9931833\tbest: 1525.9802358 (636)\ttotal: 3m 13s\tremaining: 1m 49s\n",
      "638:\tlearn: 1362.9939257\ttest: 1525.9600150\tbest: 1525.9600150 (638)\ttotal: 3m 13s\tremaining: 1m 49s\n",
      "639:\tlearn: 1362.9035336\ttest: 1525.9771287\tbest: 1525.9600150 (638)\ttotal: 3m 13s\tremaining: 1m 48s\n",
      "640:\tlearn: 1362.8719692\ttest: 1525.9732394\tbest: 1525.9600150 (638)\ttotal: 3m 14s\tremaining: 1m 48s\n",
      "641:\tlearn: 1362.6953274\ttest: 1525.9243525\tbest: 1525.9243525 (641)\ttotal: 3m 14s\tremaining: 1m 48s\n",
      "642:\tlearn: 1362.4336937\ttest: 1525.8487313\tbest: 1525.8487313 (642)\ttotal: 3m 14s\tremaining: 1m 48s\n",
      "643:\tlearn: 1362.2734006\ttest: 1525.7697335\tbest: 1525.7697335 (643)\ttotal: 3m 14s\tremaining: 1m 47s\n",
      "644:\tlearn: 1362.2069542\ttest: 1525.7580249\tbest: 1525.7580249 (644)\ttotal: 3m 15s\tremaining: 1m 47s\n",
      "645:\tlearn: 1361.9936183\ttest: 1525.6236990\tbest: 1525.6236990 (645)\ttotal: 3m 15s\tremaining: 1m 47s\n",
      "646:\tlearn: 1361.8032384\ttest: 1525.5226953\tbest: 1525.5226953 (646)\ttotal: 3m 15s\tremaining: 1m 46s\n",
      "647:\tlearn: 1361.6975610\ttest: 1525.5252775\tbest: 1525.5226953 (646)\ttotal: 3m 16s\tremaining: 1m 46s\n",
      "648:\tlearn: 1361.6105088\ttest: 1525.5514172\tbest: 1525.5226953 (646)\ttotal: 3m 16s\tremaining: 1m 46s\n",
      "649:\tlearn: 1361.2999887\ttest: 1525.4601838\tbest: 1525.4601838 (649)\ttotal: 3m 16s\tremaining: 1m 45s\n",
      "650:\tlearn: 1361.1824584\ttest: 1525.4535836\tbest: 1525.4535836 (650)\ttotal: 3m 17s\tremaining: 1m 45s\n",
      "651:\tlearn: 1360.8404862\ttest: 1525.3770312\tbest: 1525.3770312 (651)\ttotal: 3m 17s\tremaining: 1m 45s\n",
      "652:\tlearn: 1360.5446594\ttest: 1525.3828068\tbest: 1525.3770312 (651)\ttotal: 3m 17s\tremaining: 1m 45s\n",
      "653:\tlearn: 1360.3729533\ttest: 1525.3929663\tbest: 1525.3770312 (651)\ttotal: 3m 18s\tremaining: 1m 44s\n",
      "654:\tlearn: 1360.0581155\ttest: 1525.2905672\tbest: 1525.2905672 (654)\ttotal: 3m 18s\tremaining: 1m 44s\n",
      "655:\tlearn: 1359.9297474\ttest: 1525.2748614\tbest: 1525.2748614 (655)\ttotal: 3m 18s\tremaining: 1m 44s\n",
      "656:\tlearn: 1359.7702386\ttest: 1525.2683172\tbest: 1525.2683172 (656)\ttotal: 3m 18s\tremaining: 1m 43s\n",
      "657:\tlearn: 1359.4762183\ttest: 1525.1430516\tbest: 1525.1430516 (657)\ttotal: 3m 19s\tremaining: 1m 43s\n",
      "658:\tlearn: 1359.3661398\ttest: 1525.1675538\tbest: 1525.1430516 (657)\ttotal: 3m 19s\tremaining: 1m 43s\n",
      "659:\tlearn: 1359.2938957\ttest: 1525.1976763\tbest: 1525.1430516 (657)\ttotal: 3m 19s\tremaining: 1m 42s\n",
      "660:\tlearn: 1359.0211141\ttest: 1525.1340249\tbest: 1525.1340249 (660)\ttotal: 3m 20s\tremaining: 1m 42s\n",
      "661:\tlearn: 1358.9130710\ttest: 1525.1818466\tbest: 1525.1340249 (660)\ttotal: 3m 20s\tremaining: 1m 42s\n",
      "662:\tlearn: 1358.7608806\ttest: 1525.1184394\tbest: 1525.1184394 (662)\ttotal: 3m 20s\tremaining: 1m 41s\n",
      "663:\tlearn: 1358.6846654\ttest: 1525.1421750\tbest: 1525.1184394 (662)\ttotal: 3m 20s\tremaining: 1m 41s\n",
      "664:\tlearn: 1358.5527327\ttest: 1525.1148316\tbest: 1525.1148316 (664)\ttotal: 3m 21s\tremaining: 1m 41s\n",
      "665:\tlearn: 1358.3849967\ttest: 1525.1494122\tbest: 1525.1148316 (664)\ttotal: 3m 21s\tremaining: 1m 41s\n",
      "666:\tlearn: 1357.9599940\ttest: 1524.9613933\tbest: 1524.9613933 (666)\ttotal: 3m 21s\tremaining: 1m 40s\n",
      "667:\tlearn: 1357.5969226\ttest: 1524.9342214\tbest: 1524.9342214 (667)\ttotal: 3m 22s\tremaining: 1m 40s\n",
      "668:\tlearn: 1357.3798679\ttest: 1524.8027868\tbest: 1524.8027868 (668)\ttotal: 3m 22s\tremaining: 1m 40s\n",
      "669:\tlearn: 1357.2834468\ttest: 1524.7651932\tbest: 1524.7651932 (669)\ttotal: 3m 22s\tremaining: 1m 39s\n",
      "670:\tlearn: 1357.1163469\ttest: 1524.7280882\tbest: 1524.7280882 (670)\ttotal: 3m 23s\tremaining: 1m 39s\n",
      "671:\tlearn: 1357.0303444\ttest: 1524.7499247\tbest: 1524.7280882 (670)\ttotal: 3m 23s\tremaining: 1m 39s\n",
      "672:\tlearn: 1356.7819661\ttest: 1524.4939053\tbest: 1524.4939053 (672)\ttotal: 3m 23s\tremaining: 1m 38s\n",
      "673:\tlearn: 1356.3283846\ttest: 1524.3339178\tbest: 1524.3339178 (673)\ttotal: 3m 23s\tremaining: 1m 38s\n",
      "674:\tlearn: 1355.7608804\ttest: 1524.0796240\tbest: 1524.0796240 (674)\ttotal: 3m 24s\tremaining: 1m 38s\n",
      "675:\tlearn: 1355.3664715\ttest: 1523.9425995\tbest: 1523.9425995 (675)\ttotal: 3m 24s\tremaining: 1m 38s\n",
      "676:\tlearn: 1355.1574668\ttest: 1523.9495469\tbest: 1523.9425995 (675)\ttotal: 3m 24s\tremaining: 1m 37s\n",
      "677:\tlearn: 1354.7460886\ttest: 1523.8025227\tbest: 1523.8025227 (677)\ttotal: 3m 25s\tremaining: 1m 37s\n",
      "678:\tlearn: 1354.6073556\ttest: 1523.7995304\tbest: 1523.7995304 (678)\ttotal: 3m 25s\tremaining: 1m 37s\n",
      "679:\tlearn: 1354.4501858\ttest: 1523.7897134\tbest: 1523.7897134 (679)\ttotal: 3m 25s\tremaining: 1m 36s\n",
      "680:\tlearn: 1354.0427001\ttest: 1523.6616104\tbest: 1523.6616104 (680)\ttotal: 3m 25s\tremaining: 1m 36s\n",
      "681:\tlearn: 1353.8259279\ttest: 1523.6429727\tbest: 1523.6429727 (681)\ttotal: 3m 26s\tremaining: 1m 36s\n",
      "682:\tlearn: 1353.6730975\ttest: 1523.6246532\tbest: 1523.6246532 (682)\ttotal: 3m 26s\tremaining: 1m 35s\n",
      "683:\tlearn: 1353.6327264\ttest: 1523.6273905\tbest: 1523.6246532 (682)\ttotal: 3m 26s\tremaining: 1m 35s\n",
      "684:\tlearn: 1353.3466321\ttest: 1523.4658347\tbest: 1523.4658347 (684)\ttotal: 3m 27s\tremaining: 1m 35s\n",
      "685:\tlearn: 1353.2839434\ttest: 1523.4496717\tbest: 1523.4496717 (685)\ttotal: 3m 27s\tremaining: 1m 34s\n",
      "686:\tlearn: 1352.8998250\ttest: 1523.3363424\tbest: 1523.3363424 (686)\ttotal: 3m 27s\tremaining: 1m 34s\n",
      "687:\tlearn: 1352.7805550\ttest: 1523.3185901\tbest: 1523.3185901 (687)\ttotal: 3m 28s\tremaining: 1m 34s\n",
      "688:\tlearn: 1352.7107006\ttest: 1523.3298967\tbest: 1523.3185901 (687)\ttotal: 3m 28s\tremaining: 1m 34s\n",
      "689:\tlearn: 1352.6361061\ttest: 1523.3000543\tbest: 1523.3000543 (689)\ttotal: 3m 28s\tremaining: 1m 33s\n",
      "690:\tlearn: 1352.4432383\ttest: 1523.2394716\tbest: 1523.2394716 (690)\ttotal: 3m 29s\tremaining: 1m 33s\n",
      "691:\tlearn: 1352.2938649\ttest: 1523.1930446\tbest: 1523.1930446 (691)\ttotal: 3m 29s\tremaining: 1m 33s\n",
      "692:\tlearn: 1352.2278636\ttest: 1523.1499375\tbest: 1523.1499375 (692)\ttotal: 3m 29s\tremaining: 1m 32s\n",
      "693:\tlearn: 1352.2025813\ttest: 1523.1647904\tbest: 1523.1499375 (692)\ttotal: 3m 30s\tremaining: 1m 32s\n",
      "694:\tlearn: 1352.1848329\ttest: 1523.1469722\tbest: 1523.1469722 (694)\ttotal: 3m 30s\tremaining: 1m 32s\n",
      "695:\tlearn: 1352.0560942\ttest: 1523.1411529\tbest: 1523.1411529 (695)\ttotal: 3m 30s\tremaining: 1m 32s\n",
      "696:\tlearn: 1351.7813450\ttest: 1523.0416718\tbest: 1523.0416718 (696)\ttotal: 3m 30s\tremaining: 1m 31s\n",
      "697:\tlearn: 1351.6459224\ttest: 1523.0026211\tbest: 1523.0026211 (697)\ttotal: 3m 31s\tremaining: 1m 31s\n",
      "698:\tlearn: 1351.4286381\ttest: 1523.0409913\tbest: 1523.0026211 (697)\ttotal: 3m 31s\tremaining: 1m 31s\n",
      "699:\tlearn: 1351.3091468\ttest: 1523.0515134\tbest: 1523.0026211 (697)\ttotal: 3m 31s\tremaining: 1m 30s\n",
      "700:\tlearn: 1351.1974681\ttest: 1522.9993684\tbest: 1522.9993684 (700)\ttotal: 3m 32s\tremaining: 1m 30s\n",
      "701:\tlearn: 1350.8462888\ttest: 1522.9417559\tbest: 1522.9417559 (701)\ttotal: 3m 32s\tremaining: 1m 30s\n",
      "702:\tlearn: 1350.3089129\ttest: 1522.8259001\tbest: 1522.8259001 (702)\ttotal: 3m 32s\tremaining: 1m 29s\n",
      "703:\tlearn: 1350.1498456\ttest: 1522.7911963\tbest: 1522.7911963 (703)\ttotal: 3m 33s\tremaining: 1m 29s\n",
      "704:\tlearn: 1349.7162207\ttest: 1522.6803220\tbest: 1522.6803220 (704)\ttotal: 3m 33s\tremaining: 1m 29s\n",
      "705:\tlearn: 1349.5441498\ttest: 1522.6710149\tbest: 1522.6710149 (705)\ttotal: 3m 33s\tremaining: 1m 28s\n",
      "706:\tlearn: 1349.2843390\ttest: 1522.6006354\tbest: 1522.6006354 (706)\ttotal: 3m 33s\tremaining: 1m 28s\n",
      "707:\tlearn: 1349.0874568\ttest: 1522.5720967\tbest: 1522.5720967 (707)\ttotal: 3m 34s\tremaining: 1m 28s\n",
      "708:\tlearn: 1348.8965969\ttest: 1522.6140644\tbest: 1522.5720967 (707)\ttotal: 3m 34s\tremaining: 1m 28s\n",
      "709:\tlearn: 1348.7683505\ttest: 1522.6468365\tbest: 1522.5720967 (707)\ttotal: 3m 34s\tremaining: 1m 27s\n",
      "710:\tlearn: 1348.6553496\ttest: 1522.6302693\tbest: 1522.5720967 (707)\ttotal: 3m 35s\tremaining: 1m 27s\n",
      "711:\tlearn: 1348.5784298\ttest: 1522.6441899\tbest: 1522.5720967 (707)\ttotal: 3m 35s\tremaining: 1m 27s\n",
      "712:\tlearn: 1348.3190717\ttest: 1522.5148842\tbest: 1522.5148842 (712)\ttotal: 3m 35s\tremaining: 1m 26s\n",
      "713:\tlearn: 1348.2419471\ttest: 1522.4802111\tbest: 1522.4802111 (713)\ttotal: 3m 36s\tremaining: 1m 26s\n",
      "714:\tlearn: 1348.1467931\ttest: 1522.4665461\tbest: 1522.4665461 (714)\ttotal: 3m 36s\tremaining: 1m 26s\n",
      "715:\tlearn: 1347.9273077\ttest: 1522.4034701\tbest: 1522.4034701 (715)\ttotal: 3m 36s\tremaining: 1m 25s\n",
      "716:\tlearn: 1347.8047280\ttest: 1522.4517857\tbest: 1522.4034701 (715)\ttotal: 3m 36s\tremaining: 1m 25s\n",
      "717:\tlearn: 1347.7837451\ttest: 1522.4437204\tbest: 1522.4034701 (715)\ttotal: 3m 37s\tremaining: 1m 25s\n",
      "718:\tlearn: 1347.3573383\ttest: 1522.4578268\tbest: 1522.4034701 (715)\ttotal: 3m 37s\tremaining: 1m 25s\n",
      "719:\tlearn: 1347.2003971\ttest: 1522.3711392\tbest: 1522.3711392 (719)\ttotal: 3m 37s\tremaining: 1m 24s\n",
      "720:\tlearn: 1347.1564083\ttest: 1522.3703588\tbest: 1522.3703588 (720)\ttotal: 3m 38s\tremaining: 1m 24s\n",
      "721:\tlearn: 1346.4245878\ttest: 1522.0658946\tbest: 1522.0658946 (721)\ttotal: 3m 38s\tremaining: 1m 24s\n",
      "722:\tlearn: 1346.2764066\ttest: 1522.0864397\tbest: 1522.0658946 (721)\ttotal: 3m 38s\tremaining: 1m 23s\n",
      "723:\tlearn: 1346.1958322\ttest: 1522.0652499\tbest: 1522.0652499 (723)\ttotal: 3m 39s\tremaining: 1m 23s\n",
      "724:\tlearn: 1346.0481128\ttest: 1522.0917533\tbest: 1522.0652499 (723)\ttotal: 3m 39s\tremaining: 1m 23s\n",
      "725:\tlearn: 1345.8502635\ttest: 1522.0193866\tbest: 1522.0193866 (725)\ttotal: 3m 39s\tremaining: 1m 22s\n",
      "726:\tlearn: 1345.6460064\ttest: 1521.9496389\tbest: 1521.9496389 (726)\ttotal: 3m 40s\tremaining: 1m 22s\n",
      "727:\tlearn: 1345.5795871\ttest: 1521.9382216\tbest: 1521.9382216 (727)\ttotal: 3m 40s\tremaining: 1m 22s\n",
      "728:\tlearn: 1345.3790465\ttest: 1521.8768821\tbest: 1521.8768821 (728)\ttotal: 3m 40s\tremaining: 1m 22s\n",
      "729:\tlearn: 1345.3173346\ttest: 1521.8480842\tbest: 1521.8480842 (729)\ttotal: 3m 40s\tremaining: 1m 21s\n",
      "730:\tlearn: 1345.2180353\ttest: 1521.8931666\tbest: 1521.8480842 (729)\ttotal: 3m 41s\tremaining: 1m 21s\n",
      "731:\tlearn: 1345.0758055\ttest: 1521.8567988\tbest: 1521.8480842 (729)\ttotal: 3m 41s\tremaining: 1m 21s\n",
      "732:\tlearn: 1344.8201201\ttest: 1521.7880862\tbest: 1521.7880862 (732)\ttotal: 3m 41s\tremaining: 1m 20s\n",
      "733:\tlearn: 1344.6049793\ttest: 1521.7601781\tbest: 1521.7601781 (733)\ttotal: 3m 42s\tremaining: 1m 20s\n",
      "734:\tlearn: 1344.3271365\ttest: 1521.5749003\tbest: 1521.5749003 (734)\ttotal: 3m 42s\tremaining: 1m 20s\n",
      "735:\tlearn: 1344.1887357\ttest: 1521.6174056\tbest: 1521.5749003 (734)\ttotal: 3m 42s\tremaining: 1m 19s\n",
      "736:\tlearn: 1343.8436741\ttest: 1521.4653533\tbest: 1521.4653533 (736)\ttotal: 3m 43s\tremaining: 1m 19s\n",
      "737:\tlearn: 1343.6807759\ttest: 1521.3976196\tbest: 1521.3976196 (737)\ttotal: 3m 43s\tremaining: 1m 19s\n",
      "738:\tlearn: 1343.0086354\ttest: 1521.1821345\tbest: 1521.1821345 (738)\ttotal: 3m 43s\tremaining: 1m 19s\n",
      "739:\tlearn: 1342.8929084\ttest: 1521.1021331\tbest: 1521.1021331 (739)\ttotal: 3m 44s\tremaining: 1m 18s\n",
      "740:\tlearn: 1342.5186093\ttest: 1520.8664107\tbest: 1520.8664107 (740)\ttotal: 3m 44s\tremaining: 1m 18s\n",
      "741:\tlearn: 1342.3299670\ttest: 1520.8125382\tbest: 1520.8125382 (741)\ttotal: 3m 44s\tremaining: 1m 18s\n",
      "742:\tlearn: 1342.0805309\ttest: 1520.7405899\tbest: 1520.7405899 (742)\ttotal: 3m 45s\tremaining: 1m 17s\n",
      "743:\tlearn: 1341.3689197\ttest: 1520.5177085\tbest: 1520.5177085 (743)\ttotal: 3m 45s\tremaining: 1m 17s\n",
      "744:\tlearn: 1341.2214312\ttest: 1520.5240138\tbest: 1520.5177085 (743)\ttotal: 3m 45s\tremaining: 1m 17s\n",
      "745:\tlearn: 1340.9377115\ttest: 1520.4349501\tbest: 1520.4349501 (745)\ttotal: 3m 46s\tremaining: 1m 16s\n",
      "746:\tlearn: 1340.8567128\ttest: 1520.3760968\tbest: 1520.3760968 (746)\ttotal: 3m 46s\tremaining: 1m 16s\n",
      "747:\tlearn: 1340.7085043\ttest: 1520.3856722\tbest: 1520.3760968 (746)\ttotal: 3m 46s\tremaining: 1m 16s\n",
      "748:\tlearn: 1340.4880188\ttest: 1520.3829375\tbest: 1520.3760968 (746)\ttotal: 3m 46s\tremaining: 1m 16s\n",
      "749:\tlearn: 1340.1742426\ttest: 1520.3116481\tbest: 1520.3116481 (749)\ttotal: 3m 47s\tremaining: 1m 15s\n",
      "750:\tlearn: 1340.0008172\ttest: 1520.2976621\tbest: 1520.2976621 (750)\ttotal: 3m 47s\tremaining: 1m 15s\n",
      "751:\tlearn: 1339.8851664\ttest: 1520.2658425\tbest: 1520.2658425 (751)\ttotal: 3m 47s\tremaining: 1m 15s\n",
      "752:\tlearn: 1339.6204308\ttest: 1520.2023784\tbest: 1520.2023784 (752)\ttotal: 3m 48s\tremaining: 1m 14s\n",
      "753:\tlearn: 1339.4153888\ttest: 1520.2827900\tbest: 1520.2023784 (752)\ttotal: 3m 48s\tremaining: 1m 14s\n",
      "754:\tlearn: 1339.3324580\ttest: 1520.2553333\tbest: 1520.2023784 (752)\ttotal: 3m 49s\tremaining: 1m 14s\n",
      "755:\tlearn: 1339.1181527\ttest: 1520.1966492\tbest: 1520.1966492 (755)\ttotal: 3m 49s\tremaining: 1m 14s\n",
      "756:\tlearn: 1338.6887628\ttest: 1520.0740686\tbest: 1520.0740686 (756)\ttotal: 3m 49s\tremaining: 1m 13s\n",
      "757:\tlearn: 1338.5369553\ttest: 1520.0436021\tbest: 1520.0436021 (757)\ttotal: 3m 49s\tremaining: 1m 13s\n",
      "758:\tlearn: 1338.3864690\ttest: 1520.0177684\tbest: 1520.0177684 (758)\ttotal: 3m 50s\tremaining: 1m 13s\n",
      "759:\tlearn: 1338.1173562\ttest: 1519.8742949\tbest: 1519.8742949 (759)\ttotal: 3m 50s\tremaining: 1m 12s\n",
      "760:\tlearn: 1337.9296224\ttest: 1519.8322260\tbest: 1519.8322260 (760)\ttotal: 3m 50s\tremaining: 1m 12s\n",
      "761:\tlearn: 1337.8259019\ttest: 1519.8685740\tbest: 1519.8322260 (760)\ttotal: 3m 51s\tremaining: 1m 12s\n",
      "762:\tlearn: 1337.7255786\ttest: 1519.8569481\tbest: 1519.8322260 (760)\ttotal: 3m 51s\tremaining: 1m 11s\n",
      "763:\tlearn: 1337.4895281\ttest: 1519.8717140\tbest: 1519.8322260 (760)\ttotal: 3m 51s\tremaining: 1m 11s\n",
      "764:\tlearn: 1337.3570825\ttest: 1519.8817914\tbest: 1519.8322260 (760)\ttotal: 3m 51s\tremaining: 1m 11s\n",
      "765:\tlearn: 1336.9728038\ttest: 1519.7535607\tbest: 1519.7535607 (765)\ttotal: 3m 52s\tremaining: 1m 10s\n",
      "766:\tlearn: 1336.8135940\ttest: 1519.7090959\tbest: 1519.7090959 (766)\ttotal: 3m 52s\tremaining: 1m 10s\n",
      "767:\tlearn: 1336.7484257\ttest: 1519.7457418\tbest: 1519.7090959 (766)\ttotal: 3m 52s\tremaining: 1m 10s\n",
      "768:\tlearn: 1336.6267414\ttest: 1519.6932572\tbest: 1519.6932572 (768)\ttotal: 3m 53s\tremaining: 1m 10s\n",
      "769:\tlearn: 1336.4250417\ttest: 1519.7269303\tbest: 1519.6932572 (768)\ttotal: 3m 53s\tremaining: 1m 9s\n",
      "770:\tlearn: 1336.3045027\ttest: 1519.7473328\tbest: 1519.6932572 (768)\ttotal: 3m 53s\tremaining: 1m 9s\n",
      "771:\tlearn: 1335.8995928\ttest: 1519.7400442\tbest: 1519.6932572 (768)\ttotal: 3m 54s\tremaining: 1m 9s\n",
      "772:\tlearn: 1335.7276312\ttest: 1519.7565794\tbest: 1519.6932572 (768)\ttotal: 3m 54s\tremaining: 1m 8s\n",
      "773:\tlearn: 1335.5939009\ttest: 1519.7073358\tbest: 1519.6932572 (768)\ttotal: 3m 54s\tremaining: 1m 8s\n",
      "774:\tlearn: 1335.2979805\ttest: 1519.6668291\tbest: 1519.6668291 (774)\ttotal: 3m 55s\tremaining: 1m 8s\n",
      "775:\tlearn: 1335.1709486\ttest: 1519.6423842\tbest: 1519.6423842 (775)\ttotal: 3m 55s\tremaining: 1m 7s\n",
      "776:\tlearn: 1334.9917620\ttest: 1519.6025116\tbest: 1519.6025116 (776)\ttotal: 3m 55s\tremaining: 1m 7s\n",
      "777:\tlearn: 1334.7918745\ttest: 1519.5662003\tbest: 1519.5662003 (777)\ttotal: 3m 55s\tremaining: 1m 7s\n",
      "778:\tlearn: 1334.5376325\ttest: 1519.5553886\tbest: 1519.5553886 (778)\ttotal: 3m 56s\tremaining: 1m 6s\n",
      "779:\tlearn: 1334.4442676\ttest: 1519.5280267\tbest: 1519.5280267 (779)\ttotal: 3m 56s\tremaining: 1m 6s\n",
      "780:\tlearn: 1334.2319157\ttest: 1519.4643911\tbest: 1519.4643911 (780)\ttotal: 3m 56s\tremaining: 1m 6s\n",
      "781:\tlearn: 1334.0667002\ttest: 1519.5816532\tbest: 1519.4643911 (780)\ttotal: 3m 57s\tremaining: 1m 6s\n",
      "782:\tlearn: 1334.0580592\ttest: 1519.5787140\tbest: 1519.4643911 (780)\ttotal: 3m 57s\tremaining: 1m 5s\n",
      "783:\tlearn: 1333.9966828\ttest: 1519.6039408\tbest: 1519.4643911 (780)\ttotal: 3m 57s\tremaining: 1m 5s\n",
      "784:\tlearn: 1333.9304269\ttest: 1519.6319731\tbest: 1519.4643911 (780)\ttotal: 3m 57s\tremaining: 1m 5s\n",
      "785:\tlearn: 1333.8465838\ttest: 1519.6437805\tbest: 1519.4643911 (780)\ttotal: 3m 58s\tremaining: 1m 4s\n",
      "786:\tlearn: 1333.7546043\ttest: 1519.6164789\tbest: 1519.4643911 (780)\ttotal: 3m 58s\tremaining: 1m 4s\n",
      "787:\tlearn: 1333.7013278\ttest: 1519.5564172\tbest: 1519.4643911 (780)\ttotal: 3m 58s\tremaining: 1m 4s\n",
      "788:\tlearn: 1333.4466038\ttest: 1519.4566057\tbest: 1519.4566057 (788)\ttotal: 3m 59s\tremaining: 1m 3s\n",
      "789:\tlearn: 1333.0375532\ttest: 1519.3061736\tbest: 1519.3061736 (789)\ttotal: 3m 59s\tremaining: 1m 3s\n",
      "790:\tlearn: 1332.9405690\ttest: 1519.2996474\tbest: 1519.2996474 (790)\ttotal: 3m 59s\tremaining: 1m 3s\n",
      "791:\tlearn: 1332.5917051\ttest: 1519.1458897\tbest: 1519.1458897 (791)\ttotal: 4m\tremaining: 1m 3s\n",
      "792:\tlearn: 1332.3379575\ttest: 1519.2296634\tbest: 1519.1458897 (791)\ttotal: 4m\tremaining: 1m 2s\n",
      "793:\tlearn: 1332.1158753\ttest: 1519.2248998\tbest: 1519.1458897 (791)\ttotal: 4m\tremaining: 1m 2s\n",
      "794:\tlearn: 1331.9777167\ttest: 1519.1343078\tbest: 1519.1343078 (794)\ttotal: 4m 1s\tremaining: 1m 2s\n",
      "795:\tlearn: 1331.8881039\ttest: 1519.1125096\tbest: 1519.1125096 (795)\ttotal: 4m 1s\tremaining: 1m 1s\n",
      "796:\tlearn: 1331.5414450\ttest: 1519.0114375\tbest: 1519.0114375 (796)\ttotal: 4m 1s\tremaining: 1m 1s\n",
      "797:\tlearn: 1331.5016725\ttest: 1519.0058209\tbest: 1519.0058209 (797)\ttotal: 4m 1s\tremaining: 1m 1s\n",
      "798:\tlearn: 1331.4989934\ttest: 1519.0023550\tbest: 1519.0023550 (798)\ttotal: 4m 2s\tremaining: 1m\n",
      "799:\tlearn: 1331.4280127\ttest: 1518.9917046\tbest: 1518.9917046 (799)\ttotal: 4m 2s\tremaining: 1m\n",
      "800:\tlearn: 1331.2669134\ttest: 1519.0101173\tbest: 1518.9917046 (799)\ttotal: 4m 2s\tremaining: 1m\n",
      "801:\tlearn: 1330.9381632\ttest: 1518.9388832\tbest: 1518.9388832 (801)\ttotal: 4m 3s\tremaining: 1m\n",
      "802:\tlearn: 1330.8559154\ttest: 1519.0421854\tbest: 1518.9388832 (801)\ttotal: 4m 3s\tremaining: 59.7s\n",
      "803:\tlearn: 1330.6894042\ttest: 1518.9372515\tbest: 1518.9372515 (803)\ttotal: 4m 3s\tremaining: 59.4s\n",
      "804:\tlearn: 1330.4924463\ttest: 1518.8676563\tbest: 1518.8676563 (804)\ttotal: 4m 4s\tremaining: 59.1s\n",
      "805:\tlearn: 1330.3705948\ttest: 1518.8545955\tbest: 1518.8545955 (805)\ttotal: 4m 4s\tremaining: 58.8s\n",
      "806:\tlearn: 1330.2866580\ttest: 1518.8510338\tbest: 1518.8510338 (806)\ttotal: 4m 4s\tremaining: 58.5s\n",
      "807:\tlearn: 1330.1615655\ttest: 1518.8217981\tbest: 1518.8217981 (807)\ttotal: 4m 4s\tremaining: 58.2s\n",
      "808:\tlearn: 1330.0969788\ttest: 1518.7492407\tbest: 1518.7492407 (808)\ttotal: 4m 5s\tremaining: 57.9s\n",
      "809:\tlearn: 1329.9552141\ttest: 1518.7846552\tbest: 1518.7492407 (808)\ttotal: 4m 5s\tremaining: 57.6s\n",
      "810:\tlearn: 1329.8427529\ttest: 1518.7888381\tbest: 1518.7492407 (808)\ttotal: 4m 5s\tremaining: 57.3s\n",
      "811:\tlearn: 1329.5853698\ttest: 1518.8021808\tbest: 1518.7492407 (808)\ttotal: 4m 6s\tremaining: 57s\n",
      "812:\tlearn: 1329.3514888\ttest: 1518.6522007\tbest: 1518.6522007 (812)\ttotal: 4m 6s\tremaining: 56.7s\n",
      "813:\tlearn: 1329.0641527\ttest: 1518.5654947\tbest: 1518.5654947 (813)\ttotal: 4m 6s\tremaining: 56.4s\n",
      "814:\tlearn: 1328.8999604\ttest: 1518.5308577\tbest: 1518.5308577 (814)\ttotal: 4m 7s\tremaining: 56.1s\n",
      "815:\tlearn: 1328.7814907\ttest: 1518.4924922\tbest: 1518.4924922 (815)\ttotal: 4m 7s\tremaining: 55.8s\n",
      "816:\tlearn: 1328.6162147\ttest: 1518.4854645\tbest: 1518.4854645 (816)\ttotal: 4m 7s\tremaining: 55.5s\n",
      "817:\tlearn: 1328.5033890\ttest: 1518.4698381\tbest: 1518.4698381 (817)\ttotal: 4m 7s\tremaining: 55.2s\n",
      "818:\tlearn: 1328.3703473\ttest: 1518.5055545\tbest: 1518.4698381 (817)\ttotal: 4m 8s\tremaining: 54.9s\n",
      "819:\tlearn: 1328.3109320\ttest: 1518.4943294\tbest: 1518.4698381 (817)\ttotal: 4m 8s\tremaining: 54.6s\n",
      "820:\tlearn: 1328.1868846\ttest: 1518.4652607\tbest: 1518.4652607 (820)\ttotal: 4m 8s\tremaining: 54.3s\n",
      "821:\tlearn: 1328.0987075\ttest: 1518.4389648\tbest: 1518.4389648 (821)\ttotal: 4m 9s\tremaining: 54s\n",
      "822:\tlearn: 1327.9439495\ttest: 1518.4697794\tbest: 1518.4389648 (821)\ttotal: 4m 9s\tremaining: 53.6s\n",
      "823:\tlearn: 1327.8132486\ttest: 1518.3695960\tbest: 1518.3695960 (823)\ttotal: 4m 9s\tremaining: 53.3s\n",
      "824:\tlearn: 1327.6438548\ttest: 1518.3445866\tbest: 1518.3445866 (824)\ttotal: 4m 9s\tremaining: 53s\n",
      "825:\tlearn: 1327.5897213\ttest: 1518.3452505\tbest: 1518.3445866 (824)\ttotal: 4m 10s\tremaining: 52.7s\n",
      "826:\tlearn: 1327.4822125\ttest: 1518.3754763\tbest: 1518.3445866 (824)\ttotal: 4m 10s\tremaining: 52.4s\n",
      "827:\tlearn: 1327.3791546\ttest: 1518.3801848\tbest: 1518.3445866 (824)\ttotal: 4m 10s\tremaining: 52.1s\n",
      "828:\tlearn: 1327.3753587\ttest: 1518.3791520\tbest: 1518.3445866 (824)\ttotal: 4m 11s\tremaining: 51.8s\n",
      "829:\tlearn: 1327.1380794\ttest: 1518.2671285\tbest: 1518.2671285 (829)\ttotal: 4m 11s\tremaining: 51.5s\n",
      "830:\tlearn: 1326.9891056\ttest: 1518.1920743\tbest: 1518.1920743 (830)\ttotal: 4m 11s\tremaining: 51.2s\n",
      "831:\tlearn: 1326.7073732\ttest: 1518.1490729\tbest: 1518.1490729 (831)\ttotal: 4m 12s\tremaining: 50.9s\n",
      "832:\tlearn: 1326.5763960\ttest: 1518.1710051\tbest: 1518.1490729 (831)\ttotal: 4m 12s\tremaining: 50.6s\n",
      "833:\tlearn: 1326.4293034\ttest: 1518.1431729\tbest: 1518.1431729 (833)\ttotal: 4m 12s\tremaining: 50.3s\n",
      "834:\tlearn: 1326.2270263\ttest: 1518.1450288\tbest: 1518.1431729 (833)\ttotal: 4m 13s\tremaining: 50s\n",
      "835:\tlearn: 1326.1896871\ttest: 1518.1598144\tbest: 1518.1431729 (833)\ttotal: 4m 13s\tremaining: 49.7s\n",
      "836:\tlearn: 1326.1821274\ttest: 1518.1682049\tbest: 1518.1431729 (833)\ttotal: 4m 13s\tremaining: 49.4s\n",
      "837:\tlearn: 1326.0880702\ttest: 1518.1368397\tbest: 1518.1368397 (837)\ttotal: 4m 13s\tremaining: 49.1s\n",
      "838:\tlearn: 1325.9885752\ttest: 1518.1628438\tbest: 1518.1368397 (837)\ttotal: 4m 14s\tremaining: 48.8s\n",
      "839:\tlearn: 1325.7041406\ttest: 1518.1093641\tbest: 1518.1093641 (839)\ttotal: 4m 14s\tremaining: 48.5s\n",
      "840:\tlearn: 1325.6435943\ttest: 1518.1086577\tbest: 1518.1086577 (840)\ttotal: 4m 14s\tremaining: 48.2s\n",
      "841:\tlearn: 1325.6287231\ttest: 1518.1201108\tbest: 1518.1086577 (840)\ttotal: 4m 14s\tremaining: 47.8s\n",
      "842:\tlearn: 1325.6113012\ttest: 1518.0992017\tbest: 1518.0992017 (842)\ttotal: 4m 15s\tremaining: 47.5s\n",
      "843:\tlearn: 1325.4570989\ttest: 1518.1380147\tbest: 1518.0992017 (842)\ttotal: 4m 15s\tremaining: 47.2s\n",
      "844:\tlearn: 1325.3723769\ttest: 1518.1539203\tbest: 1518.0992017 (842)\ttotal: 4m 15s\tremaining: 46.9s\n",
      "845:\tlearn: 1325.2776187\ttest: 1518.1353690\tbest: 1518.0992017 (842)\ttotal: 4m 16s\tremaining: 46.7s\n",
      "846:\tlearn: 1325.1307238\ttest: 1518.1043361\tbest: 1518.0992017 (842)\ttotal: 4m 16s\tremaining: 46.4s\n",
      "847:\tlearn: 1325.0951037\ttest: 1518.0577308\tbest: 1518.0577308 (847)\ttotal: 4m 16s\tremaining: 46.1s\n",
      "848:\tlearn: 1324.9815348\ttest: 1518.0469774\tbest: 1518.0469774 (848)\ttotal: 4m 17s\tremaining: 45.8s\n",
      "849:\tlearn: 1324.8738626\ttest: 1517.9545583\tbest: 1517.9545583 (849)\ttotal: 4m 17s\tremaining: 45.5s\n",
      "850:\tlearn: 1324.7317964\ttest: 1517.9810931\tbest: 1517.9545583 (849)\ttotal: 4m 17s\tremaining: 45.2s\n",
      "851:\tlearn: 1324.5571092\ttest: 1518.0375604\tbest: 1517.9545583 (849)\ttotal: 4m 18s\tremaining: 44.9s\n",
      "852:\tlearn: 1324.3910533\ttest: 1517.9741341\tbest: 1517.9545583 (849)\ttotal: 4m 18s\tremaining: 44.6s\n",
      "853:\tlearn: 1324.2342716\ttest: 1517.9053552\tbest: 1517.9053552 (853)\ttotal: 4m 18s\tremaining: 44.3s\n",
      "854:\tlearn: 1324.1310164\ttest: 1517.9208762\tbest: 1517.9053552 (853)\ttotal: 4m 19s\tremaining: 44s\n",
      "855:\tlearn: 1324.0394558\ttest: 1517.9712618\tbest: 1517.9053552 (853)\ttotal: 4m 19s\tremaining: 43.7s\n",
      "856:\tlearn: 1323.7152952\ttest: 1517.8914168\tbest: 1517.8914168 (856)\ttotal: 4m 19s\tremaining: 43.4s\n",
      "857:\tlearn: 1323.4928565\ttest: 1517.8603530\tbest: 1517.8603530 (857)\ttotal: 4m 20s\tremaining: 43.1s\n",
      "858:\tlearn: 1323.3351285\ttest: 1517.8829397\tbest: 1517.8603530 (857)\ttotal: 4m 20s\tremaining: 42.8s\n",
      "859:\tlearn: 1323.0217493\ttest: 1517.7964333\tbest: 1517.7964333 (859)\ttotal: 4m 20s\tremaining: 42.5s\n",
      "860:\tlearn: 1322.7820655\ttest: 1517.7041838\tbest: 1517.7041838 (860)\ttotal: 4m 21s\tremaining: 42.2s\n",
      "861:\tlearn: 1322.7742993\ttest: 1517.7062604\tbest: 1517.7041838 (860)\ttotal: 4m 21s\tremaining: 41.9s\n",
      "862:\tlearn: 1322.7271700\ttest: 1517.6995153\tbest: 1517.6995153 (862)\ttotal: 4m 21s\tremaining: 41.6s\n",
      "863:\tlearn: 1322.4140281\ttest: 1517.5723849\tbest: 1517.5723849 (863)\ttotal: 4m 22s\tremaining: 41.3s\n",
      "864:\tlearn: 1322.3155816\ttest: 1517.5552491\tbest: 1517.5552491 (864)\ttotal: 4m 22s\tremaining: 41s\n",
      "865:\tlearn: 1322.1001238\ttest: 1517.5104501\tbest: 1517.5104501 (865)\ttotal: 4m 22s\tremaining: 40.7s\n",
      "866:\tlearn: 1321.9441234\ttest: 1517.4929815\tbest: 1517.4929815 (866)\ttotal: 4m 23s\tremaining: 40.4s\n",
      "867:\tlearn: 1321.6882432\ttest: 1517.4508451\tbest: 1517.4508451 (867)\ttotal: 4m 23s\tremaining: 40.1s\n",
      "868:\tlearn: 1321.5949303\ttest: 1517.4572172\tbest: 1517.4508451 (867)\ttotal: 4m 23s\tremaining: 39.8s\n",
      "869:\tlearn: 1321.4871329\ttest: 1517.4434223\tbest: 1517.4434223 (869)\ttotal: 4m 24s\tremaining: 39.5s\n",
      "870:\tlearn: 1320.9616246\ttest: 1517.3366204\tbest: 1517.3366204 (870)\ttotal: 4m 24s\tremaining: 39.2s\n",
      "871:\tlearn: 1320.7640008\ttest: 1517.2711359\tbest: 1517.2711359 (871)\ttotal: 4m 24s\tremaining: 38.9s\n",
      "872:\tlearn: 1320.7145789\ttest: 1517.2627435\tbest: 1517.2627435 (872)\ttotal: 4m 25s\tremaining: 38.6s\n",
      "873:\tlearn: 1320.6658989\ttest: 1517.2517521\tbest: 1517.2517521 (873)\ttotal: 4m 25s\tremaining: 38.3s\n",
      "874:\tlearn: 1320.5294347\ttest: 1517.2052021\tbest: 1517.2052021 (874)\ttotal: 4m 25s\tremaining: 38s\n",
      "875:\tlearn: 1320.3052827\ttest: 1517.1606065\tbest: 1517.1606065 (875)\ttotal: 4m 26s\tremaining: 37.7s\n",
      "876:\tlearn: 1320.2143802\ttest: 1517.1203324\tbest: 1517.1203324 (876)\ttotal: 4m 26s\tremaining: 37.4s\n",
      "877:\tlearn: 1320.0671769\ttest: 1517.0572507\tbest: 1517.0572507 (877)\ttotal: 4m 26s\tremaining: 37.1s\n",
      "878:\tlearn: 1319.9167031\ttest: 1517.0018090\tbest: 1517.0018090 (878)\ttotal: 4m 26s\tremaining: 36.8s\n",
      "879:\tlearn: 1319.9153023\ttest: 1517.0018247\tbest: 1517.0018090 (878)\ttotal: 4m 27s\tremaining: 36.4s\n",
      "880:\tlearn: 1319.9008449\ttest: 1516.9992455\tbest: 1516.9992455 (880)\ttotal: 4m 27s\tremaining: 36.1s\n",
      "881:\tlearn: 1319.7742191\ttest: 1516.9938559\tbest: 1516.9938559 (881)\ttotal: 4m 27s\tremaining: 35.8s\n",
      "882:\tlearn: 1319.5627147\ttest: 1516.9066456\tbest: 1516.9066456 (882)\ttotal: 4m 28s\tremaining: 35.5s\n",
      "883:\tlearn: 1319.4813713\ttest: 1516.8792094\tbest: 1516.8792094 (883)\ttotal: 4m 28s\tremaining: 35.2s\n",
      "884:\tlearn: 1319.3236753\ttest: 1516.9233653\tbest: 1516.8792094 (883)\ttotal: 4m 28s\tremaining: 34.9s\n",
      "885:\tlearn: 1319.1159704\ttest: 1516.8237830\tbest: 1516.8237830 (885)\ttotal: 4m 29s\tremaining: 34.6s\n",
      "886:\tlearn: 1318.8515761\ttest: 1516.7665226\tbest: 1516.7665226 (886)\ttotal: 4m 29s\tremaining: 34.4s\n",
      "887:\tlearn: 1318.8287705\ttest: 1516.7846306\tbest: 1516.7665226 (886)\ttotal: 4m 30s\tremaining: 34.1s\n",
      "888:\tlearn: 1318.6038785\ttest: 1516.6079990\tbest: 1516.6079990 (888)\ttotal: 4m 30s\tremaining: 33.8s\n",
      "889:\tlearn: 1318.5035559\ttest: 1516.5791368\tbest: 1516.5791368 (889)\ttotal: 4m 30s\tremaining: 33.5s\n",
      "890:\tlearn: 1318.2591264\ttest: 1516.5076999\tbest: 1516.5076999 (890)\ttotal: 4m 31s\tremaining: 33.2s\n",
      "891:\tlearn: 1318.0691125\ttest: 1516.4593652\tbest: 1516.4593652 (891)\ttotal: 4m 31s\tremaining: 32.9s\n",
      "892:\tlearn: 1317.8774220\ttest: 1516.3821028\tbest: 1516.3821028 (892)\ttotal: 4m 31s\tremaining: 32.6s\n",
      "893:\tlearn: 1317.8315670\ttest: 1516.4187152\tbest: 1516.3821028 (892)\ttotal: 4m 32s\tremaining: 32.3s\n",
      "894:\tlearn: 1317.5952077\ttest: 1516.3930139\tbest: 1516.3821028 (892)\ttotal: 4m 32s\tremaining: 32s\n",
      "895:\tlearn: 1317.3802086\ttest: 1516.2548546\tbest: 1516.2548546 (895)\ttotal: 4m 32s\tremaining: 31.7s\n",
      "896:\tlearn: 1317.2868069\ttest: 1516.2498552\tbest: 1516.2498552 (896)\ttotal: 4m 33s\tremaining: 31.4s\n",
      "897:\tlearn: 1316.9195782\ttest: 1516.1970303\tbest: 1516.1970303 (897)\ttotal: 4m 33s\tremaining: 31.1s\n",
      "898:\tlearn: 1316.7808690\ttest: 1516.2052689\tbest: 1516.1970303 (897)\ttotal: 4m 33s\tremaining: 30.8s\n",
      "899:\tlearn: 1316.5062174\ttest: 1516.1797656\tbest: 1516.1797656 (899)\ttotal: 4m 33s\tremaining: 30.4s\n",
      "900:\tlearn: 1316.3223461\ttest: 1516.1411760\tbest: 1516.1411760 (900)\ttotal: 4m 34s\tremaining: 30.1s\n",
      "901:\tlearn: 1316.2554597\ttest: 1516.1074799\tbest: 1516.1074799 (901)\ttotal: 4m 34s\tremaining: 29.9s\n",
      "902:\tlearn: 1316.1262236\ttest: 1516.1151335\tbest: 1516.1074799 (901)\ttotal: 4m 35s\tremaining: 29.5s\n",
      "903:\tlearn: 1316.0035806\ttest: 1516.1286055\tbest: 1516.1074799 (901)\ttotal: 4m 35s\tremaining: 29.2s\n",
      "904:\tlearn: 1315.9141860\ttest: 1516.1401083\tbest: 1516.1074799 (901)\ttotal: 4m 35s\tremaining: 28.9s\n",
      "905:\tlearn: 1315.8649618\ttest: 1516.1778997\tbest: 1516.1074799 (901)\ttotal: 4m 35s\tremaining: 28.6s\n",
      "906:\tlearn: 1315.8015894\ttest: 1516.1695931\tbest: 1516.1074799 (901)\ttotal: 4m 36s\tremaining: 28.3s\n",
      "907:\tlearn: 1315.5193295\ttest: 1516.0594248\tbest: 1516.0594248 (907)\ttotal: 4m 36s\tremaining: 28s\n",
      "908:\tlearn: 1315.3880642\ttest: 1516.0797976\tbest: 1516.0594248 (907)\ttotal: 4m 36s\tremaining: 27.7s\n",
      "909:\tlearn: 1314.9821716\ttest: 1515.8636138\tbest: 1515.8636138 (909)\ttotal: 4m 37s\tremaining: 27.4s\n",
      "910:\tlearn: 1314.8984891\ttest: 1515.8412429\tbest: 1515.8412429 (910)\ttotal: 4m 37s\tremaining: 27.1s\n",
      "911:\tlearn: 1314.7702294\ttest: 1515.8125954\tbest: 1515.8125954 (911)\ttotal: 4m 37s\tremaining: 26.8s\n",
      "912:\tlearn: 1314.5806046\ttest: 1515.8295352\tbest: 1515.8125954 (911)\ttotal: 4m 38s\tremaining: 26.5s\n",
      "913:\tlearn: 1314.5008205\ttest: 1515.8183055\tbest: 1515.8125954 (911)\ttotal: 4m 38s\tremaining: 26.2s\n",
      "914:\tlearn: 1314.3831351\ttest: 1515.8017396\tbest: 1515.8017396 (914)\ttotal: 4m 38s\tremaining: 25.9s\n",
      "915:\tlearn: 1314.1791212\ttest: 1515.7815369\tbest: 1515.7815369 (915)\ttotal: 4m 39s\tremaining: 25.6s\n",
      "916:\tlearn: 1313.9576899\ttest: 1515.7097964\tbest: 1515.7097964 (916)\ttotal: 4m 39s\tremaining: 25.3s\n",
      "917:\tlearn: 1313.7389167\ttest: 1515.6936748\tbest: 1515.6936748 (917)\ttotal: 4m 39s\tremaining: 25s\n",
      "918:\tlearn: 1313.6005187\ttest: 1515.7098833\tbest: 1515.6936748 (917)\ttotal: 4m 40s\tremaining: 24.7s\n",
      "919:\tlearn: 1313.5625995\ttest: 1515.6997797\tbest: 1515.6936748 (917)\ttotal: 4m 40s\tremaining: 24.4s\n",
      "920:\tlearn: 1313.3217760\ttest: 1515.7267706\tbest: 1515.6936748 (917)\ttotal: 4m 40s\tremaining: 24.1s\n",
      "921:\tlearn: 1313.2447963\ttest: 1515.7022426\tbest: 1515.6936748 (917)\ttotal: 4m 41s\tremaining: 23.8s\n",
      "922:\tlearn: 1313.1545059\ttest: 1515.6245177\tbest: 1515.6245177 (922)\ttotal: 4m 41s\tremaining: 23.5s\n",
      "923:\tlearn: 1313.1341686\ttest: 1515.6165062\tbest: 1515.6165062 (923)\ttotal: 4m 41s\tremaining: 23.2s\n",
      "924:\tlearn: 1312.9163588\ttest: 1515.5499568\tbest: 1515.5499568 (924)\ttotal: 4m 42s\tremaining: 22.9s\n",
      "925:\tlearn: 1312.7977508\ttest: 1515.5678273\tbest: 1515.5499568 (924)\ttotal: 4m 42s\tremaining: 22.6s\n",
      "926:\tlearn: 1312.6707798\ttest: 1515.5422917\tbest: 1515.5422917 (926)\ttotal: 4m 42s\tremaining: 22.3s\n",
      "927:\tlearn: 1312.5892894\ttest: 1515.5296978\tbest: 1515.5296978 (927)\ttotal: 4m 42s\tremaining: 22s\n",
      "928:\tlearn: 1312.5598771\ttest: 1515.5429646\tbest: 1515.5296978 (927)\ttotal: 4m 43s\tremaining: 21.6s\n",
      "929:\tlearn: 1312.4698061\ttest: 1515.5035634\tbest: 1515.5035634 (929)\ttotal: 4m 43s\tremaining: 21.3s\n",
      "930:\tlearn: 1312.3988546\ttest: 1515.5073479\tbest: 1515.5035634 (929)\ttotal: 4m 43s\tremaining: 21s\n",
      "931:\tlearn: 1312.2944847\ttest: 1515.4834940\tbest: 1515.4834940 (931)\ttotal: 4m 44s\tremaining: 20.7s\n",
      "932:\tlearn: 1312.1253178\ttest: 1515.4000538\tbest: 1515.4000538 (932)\ttotal: 4m 44s\tremaining: 20.4s\n",
      "933:\tlearn: 1311.8844369\ttest: 1515.3077686\tbest: 1515.3077686 (933)\ttotal: 4m 44s\tremaining: 20.1s\n",
      "934:\tlearn: 1311.8045615\ttest: 1515.2813437\tbest: 1515.2813437 (934)\ttotal: 4m 44s\tremaining: 19.8s\n",
      "935:\tlearn: 1311.6085100\ttest: 1515.2749331\tbest: 1515.2749331 (935)\ttotal: 4m 45s\tremaining: 19.5s\n",
      "936:\tlearn: 1311.5282300\ttest: 1515.2839316\tbest: 1515.2749331 (935)\ttotal: 4m 45s\tremaining: 19.2s\n",
      "937:\tlearn: 1311.2809625\ttest: 1515.2951687\tbest: 1515.2749331 (935)\ttotal: 4m 45s\tremaining: 18.9s\n",
      "938:\tlearn: 1311.1607175\ttest: 1515.2976703\tbest: 1515.2749331 (935)\ttotal: 4m 46s\tremaining: 18.6s\n",
      "939:\tlearn: 1311.0204446\ttest: 1515.2770088\tbest: 1515.2749331 (935)\ttotal: 4m 46s\tremaining: 18.3s\n",
      "940:\tlearn: 1310.8486218\ttest: 1515.2139867\tbest: 1515.2139867 (940)\ttotal: 4m 46s\tremaining: 18s\n",
      "941:\tlearn: 1310.6685794\ttest: 1515.1603901\tbest: 1515.1603901 (941)\ttotal: 4m 47s\tremaining: 17.7s\n",
      "942:\tlearn: 1310.3650771\ttest: 1515.0285167\tbest: 1515.0285167 (942)\ttotal: 4m 47s\tremaining: 17.4s\n",
      "943:\tlearn: 1310.3253664\ttest: 1515.0470061\tbest: 1515.0285167 (942)\ttotal: 4m 47s\tremaining: 17.1s\n",
      "944:\tlearn: 1310.2949765\ttest: 1515.0467211\tbest: 1515.0285167 (942)\ttotal: 4m 48s\tremaining: 16.8s\n",
      "945:\tlearn: 1310.2492533\ttest: 1515.0329276\tbest: 1515.0285167 (942)\ttotal: 4m 48s\tremaining: 16.5s\n",
      "946:\tlearn: 1310.1483661\ttest: 1515.0276598\tbest: 1515.0276598 (946)\ttotal: 4m 48s\tremaining: 16.2s\n",
      "947:\tlearn: 1309.9957878\ttest: 1514.9716925\tbest: 1514.9716925 (947)\ttotal: 4m 49s\tremaining: 15.9s\n",
      "948:\tlearn: 1309.8288686\ttest: 1515.0146119\tbest: 1514.9716925 (947)\ttotal: 4m 49s\tremaining: 15.6s\n",
      "949:\tlearn: 1309.6763203\ttest: 1514.9966127\tbest: 1514.9716925 (947)\ttotal: 4m 49s\tremaining: 15.3s\n",
      "950:\tlearn: 1309.5887903\ttest: 1514.9768911\tbest: 1514.9716925 (947)\ttotal: 4m 50s\tremaining: 14.9s\n",
      "951:\tlearn: 1309.4251083\ttest: 1514.9157586\tbest: 1514.9157586 (951)\ttotal: 4m 50s\tremaining: 14.6s\n",
      "952:\tlearn: 1309.2174369\ttest: 1514.8330159\tbest: 1514.8330159 (952)\ttotal: 4m 50s\tremaining: 14.3s\n",
      "953:\tlearn: 1308.7891387\ttest: 1514.7560047\tbest: 1514.7560047 (953)\ttotal: 4m 50s\tremaining: 14s\n",
      "954:\tlearn: 1308.5855323\ttest: 1514.6348493\tbest: 1514.6348493 (954)\ttotal: 4m 51s\tremaining: 13.7s\n",
      "955:\tlearn: 1308.4607894\ttest: 1514.5846962\tbest: 1514.5846962 (955)\ttotal: 4m 51s\tremaining: 13.4s\n",
      "956:\tlearn: 1308.3501100\ttest: 1514.5273407\tbest: 1514.5273407 (956)\ttotal: 4m 51s\tremaining: 13.1s\n",
      "957:\tlearn: 1308.3061788\ttest: 1514.5355164\tbest: 1514.5273407 (956)\ttotal: 4m 52s\tremaining: 12.8s\n",
      "958:\tlearn: 1308.2115776\ttest: 1514.4899187\tbest: 1514.4899187 (958)\ttotal: 4m 52s\tremaining: 12.5s\n",
      "959:\tlearn: 1308.0028140\ttest: 1514.4630203\tbest: 1514.4630203 (959)\ttotal: 4m 52s\tremaining: 12.2s\n",
      "960:\tlearn: 1307.9198954\ttest: 1514.4568989\tbest: 1514.4568989 (960)\ttotal: 4m 53s\tremaining: 11.9s\n",
      "961:\tlearn: 1307.5165594\ttest: 1514.3232352\tbest: 1514.3232352 (961)\ttotal: 4m 53s\tremaining: 11.6s\n",
      "962:\tlearn: 1307.3021852\ttest: 1514.2778509\tbest: 1514.2778509 (962)\ttotal: 4m 53s\tremaining: 11.3s\n",
      "963:\tlearn: 1307.2177906\ttest: 1514.3000383\tbest: 1514.2778509 (962)\ttotal: 4m 53s\tremaining: 11s\n",
      "964:\tlearn: 1307.0796569\ttest: 1514.2889634\tbest: 1514.2778509 (962)\ttotal: 4m 54s\tremaining: 10.7s\n",
      "965:\tlearn: 1306.9324412\ttest: 1514.2649848\tbest: 1514.2649848 (965)\ttotal: 4m 54s\tremaining: 10.4s\n",
      "966:\tlearn: 1306.8753773\ttest: 1514.2727663\tbest: 1514.2649848 (965)\ttotal: 4m 54s\tremaining: 10.1s\n",
      "967:\tlearn: 1306.7494965\ttest: 1514.2445395\tbest: 1514.2445395 (967)\ttotal: 4m 55s\tremaining: 9.76s\n",
      "968:\tlearn: 1306.7103016\ttest: 1514.2537110\tbest: 1514.2445395 (967)\ttotal: 4m 55s\tremaining: 9.45s\n",
      "969:\tlearn: 1306.6370741\ttest: 1514.2508205\tbest: 1514.2445395 (967)\ttotal: 4m 55s\tremaining: 9.15s\n",
      "970:\tlearn: 1306.4983801\ttest: 1514.2196977\tbest: 1514.2196977 (970)\ttotal: 4m 56s\tremaining: 8.84s\n",
      "971:\tlearn: 1306.2532709\ttest: 1514.2094945\tbest: 1514.2094945 (971)\ttotal: 4m 56s\tremaining: 8.54s\n",
      "972:\tlearn: 1306.2321402\ttest: 1514.1768799\tbest: 1514.1768799 (972)\ttotal: 4m 56s\tremaining: 8.23s\n",
      "973:\tlearn: 1306.0471825\ttest: 1514.1517650\tbest: 1514.1517650 (973)\ttotal: 4m 57s\tremaining: 7.93s\n",
      "974:\tlearn: 1305.9547101\ttest: 1514.1709217\tbest: 1514.1517650 (973)\ttotal: 4m 57s\tremaining: 7.63s\n",
      "975:\tlearn: 1305.9044386\ttest: 1514.1800178\tbest: 1514.1517650 (973)\ttotal: 4m 57s\tremaining: 7.32s\n",
      "976:\tlearn: 1305.8244692\ttest: 1514.2020085\tbest: 1514.1517650 (973)\ttotal: 4m 58s\tremaining: 7.02s\n",
      "977:\tlearn: 1305.6975997\ttest: 1514.2098496\tbest: 1514.1517650 (973)\ttotal: 4m 58s\tremaining: 6.71s\n",
      "978:\tlearn: 1305.6227912\ttest: 1514.1987197\tbest: 1514.1517650 (973)\ttotal: 4m 58s\tremaining: 6.41s\n",
      "979:\tlearn: 1305.4223019\ttest: 1514.1567473\tbest: 1514.1517650 (973)\ttotal: 4m 58s\tremaining: 6.1s\n",
      "980:\tlearn: 1305.3171854\ttest: 1514.1179155\tbest: 1514.1179155 (980)\ttotal: 4m 59s\tremaining: 5.79s\n",
      "981:\tlearn: 1305.2391665\ttest: 1514.0781508\tbest: 1514.0781508 (981)\ttotal: 4m 59s\tremaining: 5.49s\n",
      "982:\tlearn: 1304.9946596\ttest: 1514.0176948\tbest: 1514.0176948 (982)\ttotal: 4m 59s\tremaining: 5.18s\n",
      "983:\tlearn: 1304.9176361\ttest: 1513.9753042\tbest: 1513.9753042 (983)\ttotal: 5m\tremaining: 4.88s\n",
      "984:\tlearn: 1304.8927369\ttest: 1513.9803853\tbest: 1513.9753042 (983)\ttotal: 5m\tremaining: 4.58s\n",
      "985:\tlearn: 1304.7246903\ttest: 1513.9944666\tbest: 1513.9753042 (983)\ttotal: 5m\tremaining: 4.27s\n",
      "986:\tlearn: 1304.5918050\ttest: 1513.9939020\tbest: 1513.9753042 (983)\ttotal: 5m 1s\tremaining: 3.97s\n",
      "987:\tlearn: 1304.4562069\ttest: 1513.9994368\tbest: 1513.9753042 (983)\ttotal: 5m 1s\tremaining: 3.66s\n",
      "988:\tlearn: 1304.1606865\ttest: 1513.8805125\tbest: 1513.8805125 (988)\ttotal: 5m 1s\tremaining: 3.36s\n",
      "989:\tlearn: 1303.9709452\ttest: 1513.8093266\tbest: 1513.8093266 (989)\ttotal: 5m 2s\tremaining: 3.05s\n",
      "990:\tlearn: 1303.9364654\ttest: 1513.8217372\tbest: 1513.8093266 (989)\ttotal: 5m 2s\tremaining: 2.75s\n",
      "991:\tlearn: 1303.8122154\ttest: 1513.8162746\tbest: 1513.8093266 (989)\ttotal: 5m 2s\tremaining: 2.44s\n",
      "992:\tlearn: 1303.6249161\ttest: 1513.7728015\tbest: 1513.7728015 (992)\ttotal: 5m 2s\tremaining: 2.13s\n",
      "993:\tlearn: 1303.5921035\ttest: 1513.7356191\tbest: 1513.7356191 (993)\ttotal: 5m 3s\tremaining: 1.83s\n",
      "994:\tlearn: 1303.4513164\ttest: 1513.6818048\tbest: 1513.6818048 (994)\ttotal: 5m 3s\tremaining: 1.52s\n",
      "995:\tlearn: 1302.9612947\ttest: 1513.6229060\tbest: 1513.6229060 (995)\ttotal: 5m 3s\tremaining: 1.22s\n",
      "996:\tlearn: 1302.9122028\ttest: 1513.6406336\tbest: 1513.6229060 (995)\ttotal: 5m 3s\tremaining: 915ms\n",
      "997:\tlearn: 1302.8640320\ttest: 1513.6039270\tbest: 1513.6039270 (997)\ttotal: 5m 4s\tremaining: 610ms\n",
      "998:\tlearn: 1302.7425556\ttest: 1513.5710756\tbest: 1513.5710756 (998)\ttotal: 5m 4s\tremaining: 305ms\n",
      "999:\tlearn: 1302.3367994\ttest: 1513.4376975\tbest: 1513.4376975 (999)\ttotal: 5m 4s\tremaining: 0us\n",
      "\n",
      "bestTest = 1513.437698\n",
      "bestIteration = 999\n",
      "\n",
      "0:\tloss: 1513.4376975\tbest: 1513.4376975 (0)\ttotal: 5m 5s\tremaining: 0us\n",
      "Estimating final quality...\n",
      "Training on fold [0/3]\n",
      "0:\tlearn: 6112.7622875\ttest: 6127.8142935\tbest: 6127.8142935 (0)\ttotal: 303ms\tremaining: 5m 2s\n",
      "1:\tlearn: 5597.6512393\ttest: 5607.9879119\tbest: 5607.9879119 (1)\ttotal: 574ms\tremaining: 4m 46s\n",
      "2:\tlearn: 5143.4194944\ttest: 5155.1337953\tbest: 5155.1337953 (2)\ttotal: 801ms\tremaining: 4m 26s\n",
      "3:\tlearn: 4731.4743667\ttest: 4744.7190472\tbest: 4744.7190472 (3)\ttotal: 1.1s\tremaining: 4m 33s\n",
      "4:\tlearn: 4365.5112611\ttest: 4379.1434498\tbest: 4379.1434498 (4)\ttotal: 1.38s\tremaining: 4m 35s\n",
      "5:\tlearn: 4039.0359833\ttest: 4052.8515405\tbest: 4052.8515405 (5)\ttotal: 1.72s\tremaining: 4m 44s\n",
      "6:\tlearn: 3749.5976656\ttest: 3763.3171663\tbest: 3763.3171663 (6)\ttotal: 1.96s\tremaining: 4m 38s\n",
      "7:\tlearn: 3489.5495873\ttest: 3500.8371836\tbest: 3500.8371836 (7)\ttotal: 2.28s\tremaining: 4m 42s\n",
      "8:\tlearn: 3262.4281212\ttest: 3274.8932015\tbest: 3274.8932015 (8)\ttotal: 2.54s\tremaining: 4m 39s\n",
      "9:\tlearn: 3067.4339819\ttest: 3080.8690324\tbest: 3080.8690324 (9)\ttotal: 2.76s\tremaining: 4m 33s\n",
      "10:\tlearn: 2894.5294121\ttest: 2908.6048882\tbest: 2908.6048882 (10)\ttotal: 3s\tremaining: 4m 29s\n",
      "11:\tlearn: 2742.4370438\ttest: 2755.9578094\tbest: 2755.9578094 (11)\ttotal: 3.29s\tremaining: 4m 30s\n",
      "12:\tlearn: 2610.2263078\ttest: 2621.9175532\tbest: 2621.9175532 (12)\ttotal: 3.56s\tremaining: 4m 30s\n",
      "13:\tlearn: 2493.2448205\ttest: 2504.8188921\tbest: 2504.8188921 (13)\ttotal: 3.81s\tremaining: 4m 28s\n",
      "14:\tlearn: 2395.4260775\ttest: 2406.5705174\tbest: 2406.5705174 (14)\ttotal: 4.03s\tremaining: 4m 24s\n",
      "15:\tlearn: 2308.3004971\ttest: 2318.2769624\tbest: 2318.2769624 (15)\ttotal: 4.24s\tremaining: 4m 21s\n",
      "16:\tlearn: 2235.9369764\ttest: 2246.0951602\tbest: 2246.0951602 (16)\ttotal: 4.45s\tremaining: 4m 17s\n",
      "17:\tlearn: 2171.6824142\ttest: 2181.6826805\tbest: 2181.6826805 (17)\ttotal: 4.74s\tremaining: 4m 18s\n",
      "18:\tlearn: 2117.2858138\ttest: 2127.1456708\tbest: 2127.1456708 (18)\ttotal: 5.03s\tremaining: 4m 19s\n",
      "19:\tlearn: 2070.3781255\ttest: 2079.6553973\tbest: 2079.6553973 (19)\ttotal: 5.3s\tremaining: 4m 19s\n",
      "20:\tlearn: 2029.8427466\ttest: 2039.2560638\tbest: 2039.2560638 (20)\ttotal: 5.67s\tremaining: 4m 24s\n",
      "21:\tlearn: 1995.0713658\ttest: 2004.4815646\tbest: 2004.4815646 (21)\ttotal: 5.94s\tremaining: 4m 24s\n",
      "22:\tlearn: 1966.1958985\ttest: 1975.5350148\tbest: 1975.5350148 (22)\ttotal: 6.21s\tremaining: 4m 24s\n",
      "23:\tlearn: 1939.8042565\ttest: 1949.1268573\tbest: 1949.1268573 (23)\ttotal: 6.42s\tremaining: 4m 21s\n",
      "24:\tlearn: 1914.5227334\ttest: 1923.4350332\tbest: 1923.4350332 (24)\ttotal: 6.71s\tremaining: 4m 21s\n",
      "25:\tlearn: 1894.7622429\ttest: 1903.8615200\tbest: 1903.8615200 (25)\ttotal: 6.93s\tremaining: 4m 19s\n",
      "26:\tlearn: 1873.8582692\ttest: 1883.1891090\tbest: 1883.1891090 (26)\ttotal: 7.14s\tremaining: 4m 17s\n",
      "27:\tlearn: 1853.9393876\ttest: 1863.6844517\tbest: 1863.6844517 (27)\ttotal: 7.33s\tremaining: 4m 14s\n",
      "28:\tlearn: 1839.7814041\ttest: 1849.4746470\tbest: 1849.4746470 (28)\ttotal: 7.57s\tremaining: 4m 13s\n",
      "29:\tlearn: 1822.7200924\ttest: 1833.0432861\tbest: 1833.0432861 (29)\ttotal: 7.84s\tremaining: 4m 13s\n",
      "30:\tlearn: 1810.1324871\ttest: 1819.8985942\tbest: 1819.8985942 (30)\ttotal: 8.05s\tremaining: 4m 11s\n",
      "31:\tlearn: 1797.3436855\ttest: 1807.7669733\tbest: 1807.7669733 (31)\ttotal: 8.32s\tremaining: 4m 11s\n",
      "32:\tlearn: 1787.7422362\ttest: 1798.3261644\tbest: 1798.3261644 (32)\ttotal: 8.58s\tremaining: 4m 11s\n",
      "33:\tlearn: 1779.1754164\ttest: 1790.3133559\tbest: 1790.3133559 (33)\ttotal: 8.83s\tremaining: 4m 10s\n",
      "34:\tlearn: 1767.5896839\ttest: 1778.8701546\tbest: 1778.8701546 (34)\ttotal: 9.06s\tremaining: 4m 9s\n",
      "35:\tlearn: 1758.6867079\ttest: 1769.4711805\tbest: 1769.4711805 (35)\ttotal: 9.27s\tremaining: 4m 8s\n",
      "36:\tlearn: 1753.0626841\ttest: 1763.8720006\tbest: 1763.8720006 (36)\ttotal: 9.54s\tremaining: 4m 8s\n",
      "37:\tlearn: 1747.2960314\ttest: 1758.4531546\tbest: 1758.4531546 (37)\ttotal: 9.78s\tremaining: 4m 7s\n",
      "38:\tlearn: 1742.7336219\ttest: 1753.8896566\tbest: 1753.8896566 (38)\ttotal: 10s\tremaining: 4m 7s\n",
      "39:\tlearn: 1735.9882286\ttest: 1747.5268356\tbest: 1747.5268356 (39)\ttotal: 10.3s\tremaining: 4m 6s\n",
      "40:\tlearn: 1729.5422822\ttest: 1741.5225889\tbest: 1741.5225889 (40)\ttotal: 10.5s\tremaining: 4m 5s\n",
      "41:\tlearn: 1725.3960755\ttest: 1737.9375393\tbest: 1737.9375393 (41)\ttotal: 10.8s\tremaining: 4m 5s\n",
      "42:\tlearn: 1720.0777695\ttest: 1732.9903309\tbest: 1732.9903309 (42)\ttotal: 11s\tremaining: 4m 5s\n",
      "43:\tlearn: 1715.3533906\ttest: 1728.4473769\tbest: 1728.4473769 (43)\ttotal: 11.3s\tremaining: 4m 4s\n",
      "44:\tlearn: 1710.4742207\ttest: 1724.3762894\tbest: 1724.3762894 (44)\ttotal: 11.6s\tremaining: 4m 5s\n",
      "45:\tlearn: 1706.7457625\ttest: 1720.9472932\tbest: 1720.9472932 (45)\ttotal: 11.8s\tremaining: 4m 4s\n",
      "46:\tlearn: 1702.9071955\ttest: 1718.0872430\tbest: 1718.0872430 (46)\ttotal: 12s\tremaining: 4m 3s\n",
      "47:\tlearn: 1699.5173873\ttest: 1715.3599352\tbest: 1715.3599352 (47)\ttotal: 12.3s\tremaining: 4m 3s\n",
      "48:\tlearn: 1695.3873248\ttest: 1712.1957573\tbest: 1712.1957573 (48)\ttotal: 12.5s\tremaining: 4m 2s\n",
      "49:\tlearn: 1691.8474131\ttest: 1709.6418997\tbest: 1709.6418997 (49)\ttotal: 12.7s\tremaining: 4m 1s\n",
      "50:\tlearn: 1688.2469386\ttest: 1706.5185797\tbest: 1706.5185797 (50)\ttotal: 12.9s\tremaining: 4m\n",
      "51:\tlearn: 1684.9141245\ttest: 1703.8427674\tbest: 1703.8427674 (51)\ttotal: 13.1s\tremaining: 3m 59s\n",
      "52:\tlearn: 1681.2758417\ttest: 1701.0111004\tbest: 1701.0111004 (52)\ttotal: 13.4s\tremaining: 3m 59s\n",
      "53:\tlearn: 1678.8534074\ttest: 1698.9383092\tbest: 1698.9383092 (53)\ttotal: 13.7s\tremaining: 3m 59s\n",
      "54:\tlearn: 1675.0947531\ttest: 1695.7594023\tbest: 1695.7594023 (54)\ttotal: 13.9s\tremaining: 3m 59s\n",
      "55:\tlearn: 1671.7842411\ttest: 1693.3012134\tbest: 1693.3012134 (55)\ttotal: 14.1s\tremaining: 3m 58s\n",
      "56:\tlearn: 1667.7033560\ttest: 1690.5619306\tbest: 1690.5619306 (56)\ttotal: 14.4s\tremaining: 3m 58s\n",
      "57:\tlearn: 1664.9934939\ttest: 1688.8128587\tbest: 1688.8128587 (57)\ttotal: 14.7s\tremaining: 3m 58s\n",
      "58:\tlearn: 1662.3549631\ttest: 1686.9387838\tbest: 1686.9387838 (58)\ttotal: 15s\tremaining: 3m 58s\n",
      "59:\tlearn: 1660.7754694\ttest: 1685.6376120\tbest: 1685.6376120 (59)\ttotal: 15.2s\tremaining: 3m 58s\n",
      "60:\tlearn: 1658.7745916\ttest: 1684.2504980\tbest: 1684.2504980 (60)\ttotal: 15.5s\tremaining: 3m 58s\n",
      "61:\tlearn: 1657.4877546\ttest: 1683.2365039\tbest: 1683.2365039 (61)\ttotal: 15.8s\tremaining: 3m 58s\n",
      "62:\tlearn: 1654.5906999\ttest: 1681.0251524\tbest: 1681.0251524 (62)\ttotal: 16s\tremaining: 3m 58s\n",
      "63:\tlearn: 1651.0533433\ttest: 1678.7619218\tbest: 1678.7619218 (63)\ttotal: 16.3s\tremaining: 3m 57s\n",
      "64:\tlearn: 1649.9323543\ttest: 1678.0498421\tbest: 1678.0498421 (64)\ttotal: 16.4s\tremaining: 3m 56s\n",
      "65:\tlearn: 1648.4328434\ttest: 1677.0606654\tbest: 1677.0606654 (65)\ttotal: 16.7s\tremaining: 3m 55s\n",
      "66:\tlearn: 1646.5784058\ttest: 1675.9566048\tbest: 1675.9566048 (66)\ttotal: 16.9s\tremaining: 3m 55s\n",
      "67:\tlearn: 1645.1237663\ttest: 1674.7511023\tbest: 1674.7511023 (67)\ttotal: 17.1s\tremaining: 3m 54s\n",
      "68:\tlearn: 1643.7520470\ttest: 1673.7495917\tbest: 1673.7495917 (68)\ttotal: 17.3s\tremaining: 3m 54s\n",
      "69:\tlearn: 1641.6108890\ttest: 1672.5593656\tbest: 1672.5593656 (69)\ttotal: 17.6s\tremaining: 3m 53s\n",
      "70:\tlearn: 1639.8780206\ttest: 1671.0368576\tbest: 1671.0368576 (70)\ttotal: 17.9s\tremaining: 3m 53s\n",
      "71:\tlearn: 1639.0249574\ttest: 1670.1393324\tbest: 1670.1393324 (71)\ttotal: 18.1s\tremaining: 3m 53s\n",
      "72:\tlearn: 1636.6933431\ttest: 1668.6957872\tbest: 1668.6957872 (72)\ttotal: 18.3s\tremaining: 3m 52s\n",
      "73:\tlearn: 1634.9527889\ttest: 1667.3904679\tbest: 1667.3904679 (73)\ttotal: 18.6s\tremaining: 3m 52s\n",
      "74:\tlearn: 1633.3041014\ttest: 1666.5596059\tbest: 1666.5596059 (74)\ttotal: 18.8s\tremaining: 3m 51s\n",
      "75:\tlearn: 1630.2876595\ttest: 1664.6963911\tbest: 1664.6963911 (75)\ttotal: 19s\tremaining: 3m 51s\n",
      "76:\tlearn: 1628.8099781\ttest: 1663.6713368\tbest: 1663.6713368 (76)\ttotal: 19.3s\tremaining: 3m 50s\n",
      "77:\tlearn: 1626.6743662\ttest: 1662.0493962\tbest: 1662.0493962 (77)\ttotal: 19.4s\tremaining: 3m 49s\n",
      "78:\tlearn: 1625.2615079\ttest: 1660.9223941\tbest: 1660.9223941 (78)\ttotal: 19.7s\tremaining: 3m 49s\n",
      "79:\tlearn: 1624.2223793\ttest: 1660.0122852\tbest: 1660.0122852 (79)\ttotal: 19.9s\tremaining: 3m 49s\n",
      "80:\tlearn: 1621.5347901\ttest: 1658.1628747\tbest: 1658.1628747 (80)\ttotal: 20.2s\tremaining: 3m 49s\n",
      "81:\tlearn: 1620.4850193\ttest: 1657.2716688\tbest: 1657.2716688 (81)\ttotal: 20.5s\tremaining: 3m 49s\n",
      "82:\tlearn: 1618.7245878\ttest: 1656.2346929\tbest: 1656.2346929 (82)\ttotal: 20.7s\tremaining: 3m 48s\n",
      "83:\tlearn: 1617.1944088\ttest: 1654.8154992\tbest: 1654.8154992 (83)\ttotal: 20.9s\tremaining: 3m 48s\n",
      "84:\tlearn: 1616.1462540\ttest: 1654.0217792\tbest: 1654.0217792 (84)\ttotal: 21.1s\tremaining: 3m 47s\n",
      "85:\tlearn: 1614.0582157\ttest: 1652.5563660\tbest: 1652.5563660 (85)\ttotal: 21.4s\tremaining: 3m 47s\n",
      "86:\tlearn: 1612.1556917\ttest: 1651.2488164\tbest: 1651.2488164 (86)\ttotal: 21.7s\tremaining: 3m 47s\n",
      "87:\tlearn: 1611.1190304\ttest: 1650.7182949\tbest: 1650.7182949 (87)\ttotal: 22s\tremaining: 3m 47s\n",
      "88:\tlearn: 1610.4747827\ttest: 1650.4757273\tbest: 1650.4757273 (88)\ttotal: 22.3s\tremaining: 3m 47s\n",
      "89:\tlearn: 1608.0587607\ttest: 1648.7323202\tbest: 1648.7323202 (89)\ttotal: 22.5s\tremaining: 3m 47s\n",
      "90:\tlearn: 1605.7836949\ttest: 1647.1997300\tbest: 1647.1997300 (90)\ttotal: 22.8s\tremaining: 3m 47s\n",
      "91:\tlearn: 1604.0903027\ttest: 1646.0994363\tbest: 1646.0994363 (91)\ttotal: 23s\tremaining: 3m 47s\n",
      "92:\tlearn: 1603.3361728\ttest: 1645.6504298\tbest: 1645.6504298 (92)\ttotal: 23.2s\tremaining: 3m 46s\n",
      "93:\tlearn: 1602.7093962\ttest: 1645.1486730\tbest: 1645.1486730 (93)\ttotal: 23.5s\tremaining: 3m 46s\n",
      "94:\tlearn: 1601.9233547\ttest: 1644.6387179\tbest: 1644.6387179 (94)\ttotal: 23.7s\tremaining: 3m 45s\n",
      "95:\tlearn: 1600.3152529\ttest: 1643.4743173\tbest: 1643.4743173 (95)\ttotal: 23.9s\tremaining: 3m 45s\n",
      "96:\tlearn: 1598.3533726\ttest: 1642.1964133\tbest: 1642.1964133 (96)\ttotal: 24.2s\tremaining: 3m 45s\n",
      "97:\tlearn: 1597.3507292\ttest: 1641.6442573\tbest: 1641.6442573 (97)\ttotal: 24.4s\tremaining: 3m 44s\n",
      "98:\tlearn: 1596.0199656\ttest: 1640.9073697\tbest: 1640.9073697 (98)\ttotal: 24.7s\tremaining: 3m 44s\n",
      "99:\tlearn: 1594.8377843\ttest: 1640.4067309\tbest: 1640.4067309 (99)\ttotal: 24.9s\tremaining: 3m 44s\n",
      "100:\tlearn: 1593.7983015\ttest: 1639.6289104\tbest: 1639.6289104 (100)\ttotal: 25.2s\tremaining: 3m 44s\n",
      "101:\tlearn: 1591.6530801\ttest: 1637.9154628\tbest: 1637.9154628 (101)\ttotal: 25.6s\tremaining: 3m 45s\n",
      "102:\tlearn: 1590.3638270\ttest: 1637.0709370\tbest: 1637.0709370 (102)\ttotal: 25.8s\tremaining: 3m 44s\n",
      "103:\tlearn: 1589.1916509\ttest: 1636.3289749\tbest: 1636.3289749 (103)\ttotal: 26s\tremaining: 3m 44s\n",
      "104:\tlearn: 1587.7500698\ttest: 1635.2975193\tbest: 1635.2975193 (104)\ttotal: 26.3s\tremaining: 3m 43s\n",
      "105:\tlearn: 1586.5949185\ttest: 1634.7386681\tbest: 1634.7386681 (105)\ttotal: 26.5s\tremaining: 3m 43s\n",
      "106:\tlearn: 1585.2857445\ttest: 1633.9859812\tbest: 1633.9859812 (106)\ttotal: 26.8s\tremaining: 3m 43s\n",
      "107:\tlearn: 1584.4793745\ttest: 1633.5158481\tbest: 1633.5158481 (107)\ttotal: 27s\tremaining: 3m 43s\n",
      "108:\tlearn: 1583.1596216\ttest: 1632.8689728\tbest: 1632.8689728 (108)\ttotal: 27.3s\tremaining: 3m 42s\n",
      "109:\tlearn: 1581.5206841\ttest: 1631.9671038\tbest: 1631.9671038 (109)\ttotal: 27.5s\tremaining: 3m 42s\n",
      "110:\tlearn: 1579.9755791\ttest: 1631.0511605\tbest: 1631.0511605 (110)\ttotal: 27.8s\tremaining: 3m 42s\n",
      "111:\tlearn: 1579.0239959\ttest: 1630.5090776\tbest: 1630.5090776 (111)\ttotal: 28.1s\tremaining: 3m 42s\n",
      "112:\tlearn: 1577.6347429\ttest: 1629.6926732\tbest: 1629.6926732 (112)\ttotal: 28.4s\tremaining: 3m 42s\n",
      "113:\tlearn: 1576.4073796\ttest: 1628.6935260\tbest: 1628.6935260 (113)\ttotal: 28.6s\tremaining: 3m 42s\n",
      "114:\tlearn: 1575.4391992\ttest: 1628.0824750\tbest: 1628.0824750 (114)\ttotal: 28.9s\tremaining: 3m 42s\n",
      "115:\tlearn: 1575.1051500\ttest: 1627.9679457\tbest: 1627.9679457 (115)\ttotal: 29.1s\tremaining: 3m 41s\n",
      "116:\tlearn: 1573.5227076\ttest: 1626.9235389\tbest: 1626.9235389 (116)\ttotal: 29.4s\tremaining: 3m 41s\n",
      "117:\tlearn: 1572.9606612\ttest: 1626.6387756\tbest: 1626.6387756 (117)\ttotal: 29.7s\tremaining: 3m 41s\n",
      "118:\tlearn: 1572.3126941\ttest: 1626.2913914\tbest: 1626.2913914 (118)\ttotal: 29.9s\tremaining: 3m 41s\n",
      "119:\tlearn: 1571.1441682\ttest: 1625.6187700\tbest: 1625.6187700 (119)\ttotal: 30.2s\tremaining: 3m 41s\n",
      "120:\tlearn: 1570.5297822\ttest: 1625.3227969\tbest: 1625.3227969 (120)\ttotal: 30.5s\tremaining: 3m 41s\n",
      "121:\tlearn: 1568.2905477\ttest: 1623.6008256\tbest: 1623.6008256 (121)\ttotal: 30.8s\tremaining: 3m 41s\n",
      "122:\tlearn: 1567.9669773\ttest: 1623.3901447\tbest: 1623.3901447 (122)\ttotal: 31.1s\tremaining: 3m 41s\n",
      "123:\tlearn: 1565.9478504\ttest: 1621.8057233\tbest: 1621.8057233 (123)\ttotal: 31.4s\tremaining: 3m 41s\n",
      "124:\tlearn: 1564.9143609\ttest: 1621.3248379\tbest: 1621.3248379 (124)\ttotal: 31.6s\tremaining: 3m 41s\n",
      "125:\tlearn: 1564.3484495\ttest: 1621.1202178\tbest: 1621.1202178 (125)\ttotal: 31.9s\tremaining: 3m 41s\n",
      "126:\tlearn: 1563.2086342\ttest: 1620.4732214\tbest: 1620.4732214 (126)\ttotal: 32.1s\tremaining: 3m 40s\n",
      "127:\tlearn: 1562.0582212\ttest: 1619.4146899\tbest: 1619.4146899 (127)\ttotal: 32.4s\tremaining: 3m 40s\n",
      "128:\tlearn: 1560.5341365\ttest: 1618.2765935\tbest: 1618.2765935 (128)\ttotal: 32.7s\tremaining: 3m 40s\n",
      "129:\tlearn: 1559.0516870\ttest: 1617.0469711\tbest: 1617.0469711 (129)\ttotal: 33s\tremaining: 3m 40s\n",
      "130:\tlearn: 1558.3646361\ttest: 1616.6073435\tbest: 1616.6073435 (130)\ttotal: 33.2s\tremaining: 3m 40s\n",
      "131:\tlearn: 1557.3497169\ttest: 1615.9208599\tbest: 1615.9208599 (131)\ttotal: 33.5s\tremaining: 3m 40s\n",
      "132:\tlearn: 1556.6073385\ttest: 1615.5318441\tbest: 1615.5318441 (132)\ttotal: 33.7s\tremaining: 3m 39s\n",
      "133:\tlearn: 1555.8703448\ttest: 1614.8968234\tbest: 1614.8968234 (133)\ttotal: 34s\tremaining: 3m 39s\n",
      "134:\tlearn: 1555.2694798\ttest: 1614.7143963\tbest: 1614.7143963 (134)\ttotal: 34.2s\tremaining: 3m 39s\n",
      "135:\tlearn: 1554.6561344\ttest: 1614.3078074\tbest: 1614.3078074 (135)\ttotal: 34.5s\tremaining: 3m 39s\n",
      "136:\tlearn: 1553.4129472\ttest: 1613.6674566\tbest: 1613.6674566 (136)\ttotal: 34.7s\tremaining: 3m 38s\n",
      "137:\tlearn: 1552.3175952\ttest: 1613.2271189\tbest: 1613.2271189 (137)\ttotal: 35.1s\tremaining: 3m 38s\n",
      "138:\tlearn: 1551.0235921\ttest: 1612.3419881\tbest: 1612.3419881 (138)\ttotal: 35.3s\tremaining: 3m 38s\n",
      "139:\tlearn: 1549.7247758\ttest: 1611.6140840\tbest: 1611.6140840 (139)\ttotal: 35.6s\tremaining: 3m 38s\n",
      "140:\tlearn: 1548.6575625\ttest: 1610.9251380\tbest: 1610.9251380 (140)\ttotal: 35.8s\tremaining: 3m 38s\n",
      "141:\tlearn: 1548.2713128\ttest: 1610.8457925\tbest: 1610.8457925 (141)\ttotal: 36.1s\tremaining: 3m 37s\n",
      "142:\tlearn: 1547.3787012\ttest: 1610.2388857\tbest: 1610.2388857 (142)\ttotal: 36.3s\tremaining: 3m 37s\n",
      "143:\tlearn: 1546.0415689\ttest: 1609.5390808\tbest: 1609.5390808 (143)\ttotal: 36.5s\tremaining: 3m 37s\n",
      "144:\tlearn: 1545.1016605\ttest: 1609.0155902\tbest: 1609.0155902 (144)\ttotal: 36.8s\tremaining: 3m 37s\n",
      "145:\tlearn: 1544.6745812\ttest: 1608.8635367\tbest: 1608.8635367 (145)\ttotal: 37.1s\tremaining: 3m 36s\n",
      "146:\tlearn: 1543.6947443\ttest: 1608.3339562\tbest: 1608.3339562 (146)\ttotal: 37.3s\tremaining: 3m 36s\n",
      "147:\tlearn: 1543.1292656\ttest: 1608.2712429\tbest: 1608.2712429 (147)\ttotal: 37.6s\tremaining: 3m 36s\n",
      "148:\tlearn: 1542.1971819\ttest: 1607.7983852\tbest: 1607.7983852 (148)\ttotal: 37.8s\tremaining: 3m 35s\n",
      "149:\tlearn: 1541.4958057\ttest: 1607.4264841\tbest: 1607.4264841 (149)\ttotal: 38.1s\tremaining: 3m 35s\n",
      "150:\tlearn: 1540.6093718\ttest: 1606.9609866\tbest: 1606.9609866 (150)\ttotal: 38.4s\tremaining: 3m 35s\n",
      "151:\tlearn: 1539.2979981\ttest: 1606.2746633\tbest: 1606.2746633 (151)\ttotal: 38.7s\tremaining: 3m 35s\n",
      "152:\tlearn: 1538.1255884\ttest: 1605.5374206\tbest: 1605.5374206 (152)\ttotal: 38.9s\tremaining: 3m 35s\n",
      "153:\tlearn: 1537.5112728\ttest: 1605.2541772\tbest: 1605.2541772 (153)\ttotal: 39.2s\tremaining: 3m 35s\n",
      "154:\tlearn: 1536.7367205\ttest: 1604.7531241\tbest: 1604.7531241 (154)\ttotal: 39.4s\tremaining: 3m 34s\n",
      "155:\tlearn: 1536.5376136\ttest: 1604.7500470\tbest: 1604.7500470 (155)\ttotal: 39.7s\tremaining: 3m 34s\n",
      "156:\tlearn: 1535.2879479\ttest: 1603.9394340\tbest: 1603.9394340 (156)\ttotal: 39.9s\tremaining: 3m 34s\n",
      "157:\tlearn: 1534.7766011\ttest: 1603.7123112\tbest: 1603.7123112 (157)\ttotal: 40.2s\tremaining: 3m 34s\n",
      "158:\tlearn: 1534.1415254\ttest: 1603.4728057\tbest: 1603.4728057 (158)\ttotal: 40.5s\tremaining: 3m 34s\n",
      "159:\tlearn: 1533.7847921\ttest: 1603.2769412\tbest: 1603.2769412 (159)\ttotal: 40.8s\tremaining: 3m 34s\n",
      "160:\tlearn: 1532.4868038\ttest: 1602.6097550\tbest: 1602.6097550 (160)\ttotal: 41.1s\tremaining: 3m 34s\n",
      "161:\tlearn: 1531.4058412\ttest: 1601.7813623\tbest: 1601.7813623 (161)\ttotal: 41.4s\tremaining: 3m 34s\n",
      "162:\tlearn: 1530.8684414\ttest: 1601.7179162\tbest: 1601.7179162 (162)\ttotal: 41.7s\tremaining: 3m 34s\n",
      "163:\tlearn: 1530.2281310\ttest: 1601.4242145\tbest: 1601.4242145 (163)\ttotal: 42s\tremaining: 3m 33s\n",
      "164:\tlearn: 1529.4155755\ttest: 1601.1618192\tbest: 1601.1618192 (164)\ttotal: 42.2s\tremaining: 3m 33s\n",
      "165:\tlearn: 1528.8219014\ttest: 1600.7508797\tbest: 1600.7508797 (165)\ttotal: 42.5s\tremaining: 3m 33s\n",
      "166:\tlearn: 1528.7053514\ttest: 1600.7168373\tbest: 1600.7168373 (166)\ttotal: 42.8s\tremaining: 3m 33s\n",
      "167:\tlearn: 1527.5082083\ttest: 1600.0891118\tbest: 1600.0891118 (167)\ttotal: 43.1s\tremaining: 3m 33s\n",
      "168:\tlearn: 1526.4285508\ttest: 1599.2029919\tbest: 1599.2029919 (168)\ttotal: 43.4s\tremaining: 3m 33s\n",
      "169:\tlearn: 1525.5559997\ttest: 1598.6730172\tbest: 1598.6730172 (169)\ttotal: 43.6s\tremaining: 3m 33s\n",
      "170:\tlearn: 1524.9737045\ttest: 1598.5317530\tbest: 1598.5317530 (170)\ttotal: 43.9s\tremaining: 3m 32s\n",
      "171:\tlearn: 1524.4763377\ttest: 1598.4057394\tbest: 1598.4057394 (171)\ttotal: 44.2s\tremaining: 3m 32s\n",
      "172:\tlearn: 1523.3982195\ttest: 1597.8157419\tbest: 1597.8157419 (172)\ttotal: 44.5s\tremaining: 3m 32s\n",
      "173:\tlearn: 1522.7059378\ttest: 1597.7086550\tbest: 1597.7086550 (173)\ttotal: 44.8s\tremaining: 3m 32s\n",
      "174:\tlearn: 1521.7193861\ttest: 1597.3960004\tbest: 1597.3960004 (174)\ttotal: 45s\tremaining: 3m 32s\n",
      "175:\tlearn: 1521.2084864\ttest: 1597.4390155\tbest: 1597.3960004 (174)\ttotal: 45.3s\tremaining: 3m 32s\n",
      "176:\tlearn: 1520.7615291\ttest: 1597.1351734\tbest: 1597.1351734 (176)\ttotal: 45.6s\tremaining: 3m 32s\n",
      "177:\tlearn: 1520.0208276\ttest: 1597.0263939\tbest: 1597.0263939 (177)\ttotal: 45.9s\tremaining: 3m 32s\n",
      "178:\tlearn: 1519.2916431\ttest: 1596.7807767\tbest: 1596.7807767 (178)\ttotal: 46.2s\tremaining: 3m 31s\n",
      "179:\tlearn: 1518.7935887\ttest: 1596.5712331\tbest: 1596.5712331 (179)\ttotal: 46.5s\tremaining: 3m 31s\n",
      "180:\tlearn: 1518.0168346\ttest: 1596.0944788\tbest: 1596.0944788 (180)\ttotal: 46.8s\tremaining: 3m 31s\n",
      "181:\tlearn: 1517.4534890\ttest: 1595.8480651\tbest: 1595.8480651 (181)\ttotal: 47s\tremaining: 3m 31s\n",
      "182:\tlearn: 1516.5856926\ttest: 1595.4943523\tbest: 1595.4943523 (182)\ttotal: 47.3s\tremaining: 3m 31s\n",
      "183:\tlearn: 1516.4044594\ttest: 1595.4033376\tbest: 1595.4033376 (183)\ttotal: 47.5s\tremaining: 3m 30s\n",
      "184:\tlearn: 1515.3542860\ttest: 1594.9306143\tbest: 1594.9306143 (184)\ttotal: 47.8s\tremaining: 3m 30s\n",
      "185:\tlearn: 1514.7696661\ttest: 1594.6422421\tbest: 1594.6422421 (185)\ttotal: 48.1s\tremaining: 3m 30s\n",
      "186:\tlearn: 1514.4502186\ttest: 1594.5466803\tbest: 1594.5466803 (186)\ttotal: 48.3s\tremaining: 3m 30s\n",
      "187:\tlearn: 1513.2036380\ttest: 1593.8838897\tbest: 1593.8838897 (187)\ttotal: 48.6s\tremaining: 3m 29s\n",
      "188:\tlearn: 1512.9114541\ttest: 1593.7652017\tbest: 1593.7652017 (188)\ttotal: 48.9s\tremaining: 3m 29s\n",
      "189:\tlearn: 1511.2907199\ttest: 1592.5572050\tbest: 1592.5572050 (189)\ttotal: 49.1s\tremaining: 3m 29s\n",
      "190:\tlearn: 1510.2949251\ttest: 1592.3012168\tbest: 1592.3012168 (190)\ttotal: 49.3s\tremaining: 3m 28s\n",
      "191:\tlearn: 1509.9863877\ttest: 1592.2058359\tbest: 1592.2058359 (191)\ttotal: 49.5s\tremaining: 3m 28s\n",
      "192:\tlearn: 1508.9902001\ttest: 1591.6622261\tbest: 1591.6622261 (192)\ttotal: 49.8s\tremaining: 3m 28s\n",
      "193:\tlearn: 1508.5412391\ttest: 1591.5980975\tbest: 1591.5980975 (193)\ttotal: 50s\tremaining: 3m 27s\n",
      "194:\tlearn: 1508.0850211\ttest: 1591.2949955\tbest: 1591.2949955 (194)\ttotal: 50.3s\tremaining: 3m 27s\n",
      "195:\tlearn: 1507.6609534\ttest: 1591.0560986\tbest: 1591.0560986 (195)\ttotal: 50.6s\tremaining: 3m 27s\n",
      "196:\tlearn: 1507.0244040\ttest: 1590.8531999\tbest: 1590.8531999 (196)\ttotal: 50.8s\tremaining: 3m 27s\n",
      "197:\tlearn: 1505.7978592\ttest: 1590.3765543\tbest: 1590.3765543 (197)\ttotal: 51s\tremaining: 3m 26s\n",
      "198:\tlearn: 1505.0905602\ttest: 1590.2244947\tbest: 1590.2244947 (198)\ttotal: 51.3s\tremaining: 3m 26s\n",
      "199:\tlearn: 1503.5332577\ttest: 1589.1888875\tbest: 1589.1888875 (199)\ttotal: 51.6s\tremaining: 3m 26s\n",
      "200:\tlearn: 1503.2473673\ttest: 1589.0345651\tbest: 1589.0345651 (200)\ttotal: 51.8s\tremaining: 3m 26s\n",
      "201:\tlearn: 1502.6593394\ttest: 1588.8507995\tbest: 1588.8507995 (201)\ttotal: 52.1s\tremaining: 3m 25s\n",
      "202:\tlearn: 1501.3549928\ttest: 1588.1082268\tbest: 1588.1082268 (202)\ttotal: 52.3s\tremaining: 3m 25s\n",
      "203:\tlearn: 1500.9029337\ttest: 1587.9501556\tbest: 1587.9501556 (203)\ttotal: 52.6s\tremaining: 3m 25s\n",
      "204:\tlearn: 1500.2259917\ttest: 1587.6251348\tbest: 1587.6251348 (204)\ttotal: 52.9s\tremaining: 3m 25s\n",
      "205:\tlearn: 1499.6082385\ttest: 1587.2160856\tbest: 1587.2160856 (205)\ttotal: 53.1s\tremaining: 3m 24s\n",
      "206:\tlearn: 1499.0782874\ttest: 1586.9089887\tbest: 1586.9089887 (206)\ttotal: 53.4s\tremaining: 3m 24s\n",
      "207:\tlearn: 1498.6360288\ttest: 1586.6844864\tbest: 1586.6844864 (207)\ttotal: 53.6s\tremaining: 3m 24s\n",
      "208:\tlearn: 1498.4251084\ttest: 1586.6598002\tbest: 1586.6598002 (208)\ttotal: 53.9s\tremaining: 3m 23s\n",
      "209:\tlearn: 1497.7457439\ttest: 1586.5249783\tbest: 1586.5249783 (209)\ttotal: 54.1s\tremaining: 3m 23s\n",
      "210:\tlearn: 1497.2048688\ttest: 1586.2737724\tbest: 1586.2737724 (210)\ttotal: 54.4s\tremaining: 3m 23s\n",
      "211:\tlearn: 1496.7785680\ttest: 1586.0860708\tbest: 1586.0860708 (211)\ttotal: 54.7s\tremaining: 3m 23s\n",
      "212:\tlearn: 1496.3654269\ttest: 1585.9927179\tbest: 1585.9927179 (212)\ttotal: 54.9s\tremaining: 3m 22s\n",
      "213:\tlearn: 1495.9834509\ttest: 1585.9459522\tbest: 1585.9459522 (213)\ttotal: 55.2s\tremaining: 3m 22s\n",
      "214:\tlearn: 1495.1453943\ttest: 1585.6364221\tbest: 1585.6364221 (214)\ttotal: 55.4s\tremaining: 3m 22s\n",
      "215:\tlearn: 1494.3921969\ttest: 1585.3123348\tbest: 1585.3123348 (215)\ttotal: 55.7s\tremaining: 3m 22s\n",
      "216:\tlearn: 1493.7761877\ttest: 1585.1774277\tbest: 1585.1774277 (216)\ttotal: 56s\tremaining: 3m 21s\n",
      "217:\tlearn: 1493.0493813\ttest: 1584.8693900\tbest: 1584.8693900 (217)\ttotal: 56.2s\tremaining: 3m 21s\n",
      "218:\tlearn: 1492.5695831\ttest: 1584.6619588\tbest: 1584.6619588 (218)\ttotal: 56.5s\tremaining: 3m 21s\n",
      "219:\tlearn: 1491.5238474\ttest: 1584.0427000\tbest: 1584.0427000 (219)\ttotal: 56.7s\tremaining: 3m 21s\n",
      "220:\tlearn: 1490.3446674\ttest: 1583.6854130\tbest: 1583.6854130 (220)\ttotal: 57s\tremaining: 3m 20s\n",
      "221:\tlearn: 1489.9211352\ttest: 1583.6298486\tbest: 1583.6298486 (221)\ttotal: 57.2s\tremaining: 3m 20s\n",
      "222:\tlearn: 1488.8762019\ttest: 1583.0597432\tbest: 1583.0597432 (222)\ttotal: 57.5s\tremaining: 3m 20s\n",
      "223:\tlearn: 1488.5415343\ttest: 1582.9879605\tbest: 1582.9879605 (223)\ttotal: 57.7s\tremaining: 3m 20s\n",
      "224:\tlearn: 1488.2326397\ttest: 1582.7909110\tbest: 1582.7909110 (224)\ttotal: 58s\tremaining: 3m 19s\n",
      "225:\tlearn: 1487.9235576\ttest: 1582.6629798\tbest: 1582.6629798 (225)\ttotal: 58.3s\tremaining: 3m 19s\n",
      "226:\tlearn: 1487.5759249\ttest: 1582.5768096\tbest: 1582.5768096 (226)\ttotal: 58.6s\tremaining: 3m 19s\n",
      "227:\tlearn: 1486.9514841\ttest: 1582.4022215\tbest: 1582.4022215 (227)\ttotal: 58.8s\tremaining: 3m 19s\n",
      "228:\tlearn: 1486.5423376\ttest: 1582.2841555\tbest: 1582.2841555 (228)\ttotal: 59s\tremaining: 3m 18s\n",
      "229:\tlearn: 1485.9040606\ttest: 1582.1545902\tbest: 1582.1545902 (229)\ttotal: 59.3s\tremaining: 3m 18s\n",
      "230:\tlearn: 1485.0196923\ttest: 1581.6425636\tbest: 1581.6425636 (230)\ttotal: 59.6s\tremaining: 3m 18s\n",
      "231:\tlearn: 1484.0749175\ttest: 1581.0911082\tbest: 1581.0911082 (231)\ttotal: 59.8s\tremaining: 3m 17s\n",
      "232:\tlearn: 1483.3680613\ttest: 1580.9374150\tbest: 1580.9374150 (232)\ttotal: 1m\tremaining: 3m 17s\n",
      "233:\tlearn: 1482.8674161\ttest: 1580.6688551\tbest: 1580.6688551 (233)\ttotal: 1m\tremaining: 3m 17s\n",
      "234:\tlearn: 1482.4584329\ttest: 1580.5068603\tbest: 1580.5068603 (234)\ttotal: 1m\tremaining: 3m 17s\n",
      "235:\tlearn: 1481.6687589\ttest: 1580.1644119\tbest: 1580.1644119 (235)\ttotal: 1m\tremaining: 3m 16s\n",
      "236:\tlearn: 1481.1158302\ttest: 1580.0309260\tbest: 1580.0309260 (236)\ttotal: 1m\tremaining: 3m 16s\n",
      "237:\tlearn: 1480.5533478\ttest: 1579.8391181\tbest: 1579.8391181 (237)\ttotal: 1m 1s\tremaining: 3m 16s\n",
      "238:\tlearn: 1479.4070978\ttest: 1579.2908456\tbest: 1579.2908456 (238)\ttotal: 1m 1s\tremaining: 3m 15s\n",
      "239:\tlearn: 1479.1074109\ttest: 1579.3946994\tbest: 1579.2908456 (238)\ttotal: 1m 1s\tremaining: 3m 15s\n",
      "240:\tlearn: 1478.7957698\ttest: 1579.3787246\tbest: 1579.2908456 (238)\ttotal: 1m 1s\tremaining: 3m 14s\n",
      "241:\tlearn: 1478.5828706\ttest: 1579.2747720\tbest: 1579.2747720 (241)\ttotal: 1m 2s\tremaining: 3m 14s\n",
      "242:\tlearn: 1477.8548443\ttest: 1579.0002344\tbest: 1579.0002344 (242)\ttotal: 1m 2s\tremaining: 3m 14s\n",
      "243:\tlearn: 1477.3930823\ttest: 1578.8291190\tbest: 1578.8291190 (243)\ttotal: 1m 2s\tremaining: 3m 14s\n",
      "244:\tlearn: 1477.0349413\ttest: 1578.6377145\tbest: 1578.6377145 (244)\ttotal: 1m 2s\tremaining: 3m 13s\n",
      "245:\tlearn: 1476.6405143\ttest: 1578.5793383\tbest: 1578.5793383 (245)\ttotal: 1m 3s\tremaining: 3m 13s\n",
      "246:\tlearn: 1475.6492477\ttest: 1578.0255126\tbest: 1578.0255126 (246)\ttotal: 1m 3s\tremaining: 3m 13s\n",
      "247:\tlearn: 1475.4918130\ttest: 1577.9686663\tbest: 1577.9686663 (247)\ttotal: 1m 3s\tremaining: 3m 13s\n",
      "248:\tlearn: 1475.0636743\ttest: 1577.7319585\tbest: 1577.7319585 (248)\ttotal: 1m 4s\tremaining: 3m 13s\n",
      "249:\tlearn: 1473.9286459\ttest: 1577.2848075\tbest: 1577.2848075 (249)\ttotal: 1m 4s\tremaining: 3m 12s\n",
      "250:\tlearn: 1473.7333316\ttest: 1577.1776497\tbest: 1577.1776497 (250)\ttotal: 1m 4s\tremaining: 3m 12s\n",
      "251:\tlearn: 1473.2106632\ttest: 1576.9682958\tbest: 1576.9682958 (251)\ttotal: 1m 4s\tremaining: 3m 12s\n",
      "252:\tlearn: 1472.4553564\ttest: 1576.8106262\tbest: 1576.8106262 (252)\ttotal: 1m 5s\tremaining: 3m 12s\n",
      "253:\tlearn: 1472.0430314\ttest: 1576.5743069\tbest: 1576.5743069 (253)\ttotal: 1m 5s\tremaining: 3m 11s\n",
      "254:\tlearn: 1471.4237969\ttest: 1576.2745584\tbest: 1576.2745584 (254)\ttotal: 1m 5s\tremaining: 3m 11s\n",
      "255:\tlearn: 1470.5382008\ttest: 1575.9101464\tbest: 1575.9101464 (255)\ttotal: 1m 5s\tremaining: 3m 11s\n",
      "256:\tlearn: 1469.9844361\ttest: 1575.7953334\tbest: 1575.7953334 (256)\ttotal: 1m 6s\tremaining: 3m 11s\n",
      "257:\tlearn: 1469.8594114\ttest: 1575.7992212\tbest: 1575.7953334 (256)\ttotal: 1m 6s\tremaining: 3m 10s\n",
      "258:\tlearn: 1469.6690381\ttest: 1575.7912445\tbest: 1575.7912445 (258)\ttotal: 1m 6s\tremaining: 3m 10s\n",
      "259:\tlearn: 1469.5287423\ttest: 1575.6865311\tbest: 1575.6865311 (259)\ttotal: 1m 6s\tremaining: 3m 10s\n",
      "260:\tlearn: 1468.9771435\ttest: 1575.3306275\tbest: 1575.3306275 (260)\ttotal: 1m 7s\tremaining: 3m 9s\n",
      "261:\tlearn: 1468.6127305\ttest: 1575.2991385\tbest: 1575.2991385 (261)\ttotal: 1m 7s\tremaining: 3m 9s\n",
      "262:\tlearn: 1468.2075521\ttest: 1575.1766992\tbest: 1575.1766992 (262)\ttotal: 1m 7s\tremaining: 3m 9s\n",
      "263:\tlearn: 1468.0243824\ttest: 1575.0600448\tbest: 1575.0600448 (263)\ttotal: 1m 7s\tremaining: 3m 9s\n",
      "264:\tlearn: 1467.5568987\ttest: 1574.7610280\tbest: 1574.7610280 (264)\ttotal: 1m 8s\tremaining: 3m 8s\n",
      "265:\tlearn: 1466.6682268\ttest: 1574.1427753\tbest: 1574.1427753 (265)\ttotal: 1m 8s\tremaining: 3m 8s\n",
      "266:\tlearn: 1465.9639511\ttest: 1573.8061363\tbest: 1573.8061363 (266)\ttotal: 1m 8s\tremaining: 3m 8s\n",
      "267:\tlearn: 1465.5750381\ttest: 1573.8122876\tbest: 1573.8061363 (266)\ttotal: 1m 8s\tremaining: 3m 8s\n",
      "268:\tlearn: 1465.1751086\ttest: 1573.6960467\tbest: 1573.6960467 (268)\ttotal: 1m 9s\tremaining: 3m 7s\n",
      "269:\tlearn: 1464.8793223\ttest: 1573.6259921\tbest: 1573.6259921 (269)\ttotal: 1m 9s\tremaining: 3m 7s\n",
      "270:\tlearn: 1464.5590594\ttest: 1573.6525789\tbest: 1573.6259921 (269)\ttotal: 1m 9s\tremaining: 3m 7s\n",
      "271:\tlearn: 1463.7785809\ttest: 1573.1943363\tbest: 1573.1943363 (271)\ttotal: 1m 9s\tremaining: 3m 6s\n",
      "272:\tlearn: 1463.4446689\ttest: 1573.1283312\tbest: 1573.1283312 (272)\ttotal: 1m 10s\tremaining: 3m 6s\n",
      "273:\tlearn: 1462.6335700\ttest: 1572.8427780\tbest: 1572.8427780 (273)\ttotal: 1m 10s\tremaining: 3m 6s\n",
      "274:\tlearn: 1462.0152190\ttest: 1572.7664402\tbest: 1572.7664402 (274)\ttotal: 1m 10s\tremaining: 3m 5s\n",
      "275:\tlearn: 1461.6783287\ttest: 1572.6176837\tbest: 1572.6176837 (275)\ttotal: 1m 10s\tremaining: 3m 5s\n",
      "276:\tlearn: 1460.9912439\ttest: 1572.3181967\tbest: 1572.3181967 (276)\ttotal: 1m 11s\tremaining: 3m 5s\n",
      "277:\tlearn: 1460.6944404\ttest: 1572.2119609\tbest: 1572.2119609 (277)\ttotal: 1m 11s\tremaining: 3m 5s\n",
      "278:\tlearn: 1460.3286505\ttest: 1572.1437886\tbest: 1572.1437886 (278)\ttotal: 1m 11s\tremaining: 3m 5s\n",
      "279:\tlearn: 1459.2975875\ttest: 1571.6329147\tbest: 1571.6329147 (279)\ttotal: 1m 12s\tremaining: 3m 5s\n",
      "280:\tlearn: 1458.8932401\ttest: 1571.4143075\tbest: 1571.4143075 (280)\ttotal: 1m 12s\tremaining: 3m 5s\n",
      "281:\tlearn: 1457.9048564\ttest: 1571.0394946\tbest: 1571.0394946 (281)\ttotal: 1m 12s\tremaining: 3m 4s\n",
      "282:\tlearn: 1457.4551982\ttest: 1570.9586104\tbest: 1570.9586104 (282)\ttotal: 1m 12s\tremaining: 3m 4s\n",
      "283:\tlearn: 1457.1935914\ttest: 1570.9223602\tbest: 1570.9223602 (283)\ttotal: 1m 13s\tremaining: 3m 4s\n",
      "284:\tlearn: 1456.7847019\ttest: 1570.8460589\tbest: 1570.8460589 (284)\ttotal: 1m 13s\tremaining: 3m 4s\n",
      "285:\tlearn: 1456.0512984\ttest: 1570.5168319\tbest: 1570.5168319 (285)\ttotal: 1m 13s\tremaining: 3m 4s\n",
      "286:\tlearn: 1455.8570976\ttest: 1570.4048873\tbest: 1570.4048873 (286)\ttotal: 1m 14s\tremaining: 3m 4s\n",
      "287:\tlearn: 1455.1657294\ttest: 1570.0608985\tbest: 1570.0608985 (287)\ttotal: 1m 14s\tremaining: 3m 3s\n",
      "288:\tlearn: 1454.5226699\ttest: 1569.9072917\tbest: 1569.9072917 (288)\ttotal: 1m 14s\tremaining: 3m 3s\n",
      "289:\tlearn: 1454.0711090\ttest: 1569.6403341\tbest: 1569.6403341 (289)\ttotal: 1m 14s\tremaining: 3m 3s\n",
      "290:\tlearn: 1453.6404547\ttest: 1569.4707799\tbest: 1569.4707799 (290)\ttotal: 1m 15s\tremaining: 3m 3s\n",
      "291:\tlearn: 1453.2490767\ttest: 1569.3253709\tbest: 1569.3253709 (291)\ttotal: 1m 15s\tremaining: 3m 3s\n",
      "292:\tlearn: 1452.5502684\ttest: 1569.0940110\tbest: 1569.0940110 (292)\ttotal: 1m 15s\tremaining: 3m 2s\n",
      "293:\tlearn: 1452.3313651\ttest: 1569.0254575\tbest: 1569.0254575 (293)\ttotal: 1m 16s\tremaining: 3m 2s\n",
      "294:\tlearn: 1451.8159469\ttest: 1568.8314713\tbest: 1568.8314713 (294)\ttotal: 1m 16s\tremaining: 3m 2s\n",
      "295:\tlearn: 1451.2150929\ttest: 1568.4652882\tbest: 1568.4652882 (295)\ttotal: 1m 16s\tremaining: 3m 1s\n",
      "296:\tlearn: 1450.9559960\ttest: 1568.3968089\tbest: 1568.3968089 (296)\ttotal: 1m 16s\tremaining: 3m 1s\n",
      "297:\tlearn: 1450.6325767\ttest: 1568.3045494\tbest: 1568.3045494 (297)\ttotal: 1m 17s\tremaining: 3m 1s\n",
      "298:\tlearn: 1450.3032992\ttest: 1568.1979992\tbest: 1568.1979992 (298)\ttotal: 1m 17s\tremaining: 3m 1s\n",
      "299:\tlearn: 1449.7794558\ttest: 1567.8831179\tbest: 1567.8831179 (299)\ttotal: 1m 17s\tremaining: 3m\n",
      "300:\tlearn: 1449.7117257\ttest: 1567.8941452\tbest: 1567.8831179 (299)\ttotal: 1m 17s\tremaining: 3m\n",
      "301:\tlearn: 1449.3505061\ttest: 1567.7018689\tbest: 1567.7018689 (301)\ttotal: 1m 17s\tremaining: 3m\n",
      "302:\tlearn: 1448.8432441\ttest: 1567.4180744\tbest: 1567.4180744 (302)\ttotal: 1m 18s\tremaining: 2m 59s\n",
      "303:\tlearn: 1448.3066070\ttest: 1567.0775766\tbest: 1567.0775766 (303)\ttotal: 1m 18s\tremaining: 2m 59s\n",
      "304:\tlearn: 1447.9104438\ttest: 1567.1869632\tbest: 1567.0775766 (303)\ttotal: 1m 18s\tremaining: 2m 59s\n",
      "305:\tlearn: 1447.3262389\ttest: 1566.8567571\tbest: 1566.8567571 (305)\ttotal: 1m 19s\tremaining: 2m 59s\n",
      "306:\tlearn: 1446.8711333\ttest: 1566.6761058\tbest: 1566.6761058 (306)\ttotal: 1m 19s\tremaining: 2m 58s\n",
      "307:\tlearn: 1446.5121812\ttest: 1566.5859608\tbest: 1566.5859608 (307)\ttotal: 1m 19s\tremaining: 2m 58s\n",
      "308:\tlearn: 1446.2759303\ttest: 1566.5894542\tbest: 1566.5859608 (307)\ttotal: 1m 19s\tremaining: 2m 58s\n",
      "309:\tlearn: 1445.8585076\ttest: 1566.4971130\tbest: 1566.4971130 (309)\ttotal: 1m 20s\tremaining: 2m 58s\n",
      "310:\tlearn: 1445.6297966\ttest: 1566.4422358\tbest: 1566.4422358 (310)\ttotal: 1m 20s\tremaining: 2m 57s\n",
      "311:\tlearn: 1444.8061733\ttest: 1566.3217336\tbest: 1566.3217336 (311)\ttotal: 1m 20s\tremaining: 2m 57s\n",
      "312:\tlearn: 1444.5015806\ttest: 1566.2346052\tbest: 1566.2346052 (312)\ttotal: 1m 20s\tremaining: 2m 57s\n",
      "313:\tlearn: 1444.0791433\ttest: 1565.8992772\tbest: 1565.8992772 (313)\ttotal: 1m 21s\tremaining: 2m 57s\n",
      "314:\tlearn: 1443.8169890\ttest: 1565.8691826\tbest: 1565.8691826 (314)\ttotal: 1m 21s\tremaining: 2m 57s\n",
      "315:\tlearn: 1443.7087834\ttest: 1565.8229095\tbest: 1565.8229095 (315)\ttotal: 1m 21s\tremaining: 2m 56s\n",
      "316:\tlearn: 1443.3282925\ttest: 1565.6968492\tbest: 1565.6968492 (316)\ttotal: 1m 22s\tremaining: 2m 56s\n",
      "317:\tlearn: 1443.0690216\ttest: 1565.7359579\tbest: 1565.6968492 (316)\ttotal: 1m 22s\tremaining: 2m 56s\n",
      "318:\tlearn: 1442.7423614\ttest: 1565.5915715\tbest: 1565.5915715 (318)\ttotal: 1m 22s\tremaining: 2m 56s\n",
      "319:\tlearn: 1442.3986602\ttest: 1565.4438538\tbest: 1565.4438538 (319)\ttotal: 1m 22s\tremaining: 2m 55s\n",
      "320:\tlearn: 1441.8885026\ttest: 1565.3006664\tbest: 1565.3006664 (320)\ttotal: 1m 23s\tremaining: 2m 55s\n",
      "321:\tlearn: 1441.5067066\ttest: 1565.3031673\tbest: 1565.3006664 (320)\ttotal: 1m 23s\tremaining: 2m 55s\n",
      "322:\tlearn: 1441.2002326\ttest: 1565.2770182\tbest: 1565.2770182 (322)\ttotal: 1m 23s\tremaining: 2m 55s\n",
      "323:\tlearn: 1440.5094540\ttest: 1565.0872607\tbest: 1565.0872607 (323)\ttotal: 1m 23s\tremaining: 2m 55s\n",
      "324:\tlearn: 1440.3257468\ttest: 1565.0219654\tbest: 1565.0219654 (324)\ttotal: 1m 24s\tremaining: 2m 54s\n",
      "325:\tlearn: 1439.9838719\ttest: 1564.9870173\tbest: 1564.9870173 (325)\ttotal: 1m 24s\tremaining: 2m 54s\n",
      "326:\tlearn: 1439.2598534\ttest: 1564.5876122\tbest: 1564.5876122 (326)\ttotal: 1m 24s\tremaining: 2m 54s\n",
      "327:\tlearn: 1438.6175954\ttest: 1564.4785697\tbest: 1564.4785697 (327)\ttotal: 1m 24s\tremaining: 2m 54s\n",
      "328:\tlearn: 1438.3965471\ttest: 1564.3090324\tbest: 1564.3090324 (328)\ttotal: 1m 25s\tremaining: 2m 53s\n",
      "329:\tlearn: 1438.0373977\ttest: 1564.2660460\tbest: 1564.2660460 (329)\ttotal: 1m 25s\tremaining: 2m 53s\n",
      "330:\tlearn: 1437.8945592\ttest: 1564.2059698\tbest: 1564.2059698 (330)\ttotal: 1m 25s\tremaining: 2m 53s\n",
      "331:\tlearn: 1437.3074354\ttest: 1564.0402881\tbest: 1564.0402881 (331)\ttotal: 1m 25s\tremaining: 2m 52s\n",
      "332:\tlearn: 1437.1097719\ttest: 1563.9535718\tbest: 1563.9535718 (332)\ttotal: 1m 26s\tremaining: 2m 52s\n",
      "333:\tlearn: 1436.4494450\ttest: 1563.6744329\tbest: 1563.6744329 (333)\ttotal: 1m 26s\tremaining: 2m 52s\n",
      "334:\tlearn: 1436.3310853\ttest: 1563.6323558\tbest: 1563.6323558 (334)\ttotal: 1m 26s\tremaining: 2m 52s\n",
      "335:\tlearn: 1435.9953791\ttest: 1563.5308706\tbest: 1563.5308706 (335)\ttotal: 1m 27s\tremaining: 2m 51s\n",
      "336:\tlearn: 1435.8058155\ttest: 1563.3987692\tbest: 1563.3987692 (336)\ttotal: 1m 27s\tremaining: 2m 51s\n",
      "337:\tlearn: 1435.4083992\ttest: 1563.3179585\tbest: 1563.3179585 (337)\ttotal: 1m 27s\tremaining: 2m 51s\n",
      "338:\tlearn: 1435.1001613\ttest: 1563.1809546\tbest: 1563.1809546 (338)\ttotal: 1m 27s\tremaining: 2m 51s\n",
      "339:\tlearn: 1434.9271622\ttest: 1563.1238222\tbest: 1563.1238222 (339)\ttotal: 1m 28s\tremaining: 2m 50s\n",
      "340:\tlearn: 1434.4046010\ttest: 1562.8116608\tbest: 1562.8116608 (340)\ttotal: 1m 28s\tremaining: 2m 50s\n",
      "341:\tlearn: 1434.0399720\ttest: 1562.7133080\tbest: 1562.7133080 (341)\ttotal: 1m 28s\tremaining: 2m 50s\n",
      "342:\tlearn: 1433.8387427\ttest: 1562.6323465\tbest: 1562.6323465 (342)\ttotal: 1m 28s\tremaining: 2m 50s\n",
      "343:\tlearn: 1433.3780772\ttest: 1562.3682490\tbest: 1562.3682490 (343)\ttotal: 1m 28s\tremaining: 2m 49s\n",
      "344:\tlearn: 1432.9279853\ttest: 1562.2852874\tbest: 1562.2852874 (344)\ttotal: 1m 29s\tremaining: 2m 49s\n",
      "345:\tlearn: 1432.7544302\ttest: 1562.2496829\tbest: 1562.2496829 (345)\ttotal: 1m 29s\tremaining: 2m 49s\n",
      "346:\tlearn: 1432.3043759\ttest: 1562.0109847\tbest: 1562.0109847 (346)\ttotal: 1m 29s\tremaining: 2m 48s\n",
      "347:\tlearn: 1431.7917867\ttest: 1561.8727906\tbest: 1561.8727906 (347)\ttotal: 1m 29s\tremaining: 2m 48s\n",
      "348:\tlearn: 1431.2083301\ttest: 1561.6470400\tbest: 1561.6470400 (348)\ttotal: 1m 30s\tremaining: 2m 48s\n",
      "349:\tlearn: 1430.7935143\ttest: 1561.5271403\tbest: 1561.5271403 (349)\ttotal: 1m 30s\tremaining: 2m 48s\n",
      "350:\tlearn: 1430.6026417\ttest: 1561.4792229\tbest: 1561.4792229 (350)\ttotal: 1m 30s\tremaining: 2m 47s\n",
      "351:\tlearn: 1430.1522543\ttest: 1561.3335400\tbest: 1561.3335400 (351)\ttotal: 1m 31s\tremaining: 2m 47s\n",
      "352:\tlearn: 1429.8848418\ttest: 1561.2551134\tbest: 1561.2551134 (352)\ttotal: 1m 31s\tremaining: 2m 47s\n",
      "353:\tlearn: 1429.4772228\ttest: 1561.1538878\tbest: 1561.1538878 (353)\ttotal: 1m 31s\tremaining: 2m 47s\n",
      "354:\tlearn: 1429.1462174\ttest: 1561.0707146\tbest: 1561.0707146 (354)\ttotal: 1m 31s\tremaining: 2m 47s\n",
      "355:\tlearn: 1428.7451271\ttest: 1560.9838786\tbest: 1560.9838786 (355)\ttotal: 1m 32s\tremaining: 2m 46s\n",
      "356:\tlearn: 1428.5968928\ttest: 1560.9842434\tbest: 1560.9838786 (355)\ttotal: 1m 32s\tremaining: 2m 46s\n",
      "357:\tlearn: 1428.3877480\ttest: 1560.9348463\tbest: 1560.9348463 (357)\ttotal: 1m 32s\tremaining: 2m 46s\n",
      "358:\tlearn: 1427.7495287\ttest: 1560.6381929\tbest: 1560.6381929 (358)\ttotal: 1m 33s\tremaining: 2m 46s\n",
      "359:\tlearn: 1427.5504052\ttest: 1560.6250779\tbest: 1560.6250779 (359)\ttotal: 1m 33s\tremaining: 2m 45s\n",
      "360:\tlearn: 1426.9754872\ttest: 1560.4883852\tbest: 1560.4883852 (360)\ttotal: 1m 33s\tremaining: 2m 45s\n",
      "361:\tlearn: 1426.4504670\ttest: 1560.3359909\tbest: 1560.3359909 (361)\ttotal: 1m 33s\tremaining: 2m 45s\n",
      "362:\tlearn: 1425.8895574\ttest: 1559.9966545\tbest: 1559.9966545 (362)\ttotal: 1m 34s\tremaining: 2m 45s\n",
      "363:\tlearn: 1425.5940398\ttest: 1559.8021019\tbest: 1559.8021019 (363)\ttotal: 1m 34s\tremaining: 2m 44s\n",
      "364:\tlearn: 1425.4471168\ttest: 1559.7300652\tbest: 1559.7300652 (364)\ttotal: 1m 34s\tremaining: 2m 44s\n",
      "365:\tlearn: 1424.7549652\ttest: 1559.3537060\tbest: 1559.3537060 (365)\ttotal: 1m 34s\tremaining: 2m 44s\n",
      "366:\tlearn: 1424.1981955\ttest: 1559.3345205\tbest: 1559.3345205 (366)\ttotal: 1m 35s\tremaining: 2m 44s\n",
      "367:\tlearn: 1423.9997162\ttest: 1559.2935576\tbest: 1559.2935576 (367)\ttotal: 1m 35s\tremaining: 2m 44s\n",
      "368:\tlearn: 1423.3503757\ttest: 1559.0680232\tbest: 1559.0680232 (368)\ttotal: 1m 35s\tremaining: 2m 43s\n",
      "369:\tlearn: 1423.1186100\ttest: 1559.0685264\tbest: 1559.0680232 (368)\ttotal: 1m 35s\tremaining: 2m 43s\n",
      "370:\tlearn: 1422.9277465\ttest: 1559.0426489\tbest: 1559.0426489 (370)\ttotal: 1m 36s\tremaining: 2m 43s\n",
      "371:\tlearn: 1422.5701656\ttest: 1558.9108904\tbest: 1558.9108904 (371)\ttotal: 1m 36s\tremaining: 2m 42s\n",
      "372:\tlearn: 1422.4823420\ttest: 1558.8855183\tbest: 1558.8855183 (372)\ttotal: 1m 36s\tremaining: 2m 42s\n",
      "373:\tlearn: 1421.7832406\ttest: 1558.3853383\tbest: 1558.3853383 (373)\ttotal: 1m 36s\tremaining: 2m 42s\n",
      "374:\tlearn: 1421.4566129\ttest: 1558.2929686\tbest: 1558.2929686 (374)\ttotal: 1m 37s\tremaining: 2m 41s\n",
      "375:\tlearn: 1421.2382110\ttest: 1558.2335340\tbest: 1558.2335340 (375)\ttotal: 1m 37s\tremaining: 2m 41s\n",
      "376:\tlearn: 1420.6096969\ttest: 1557.9082695\tbest: 1557.9082695 (376)\ttotal: 1m 37s\tremaining: 2m 41s\n",
      "377:\tlearn: 1420.2210313\ttest: 1557.8301313\tbest: 1557.8301313 (377)\ttotal: 1m 37s\tremaining: 2m 41s\n",
      "378:\tlearn: 1419.6231105\ttest: 1557.5288042\tbest: 1557.5288042 (378)\ttotal: 1m 38s\tremaining: 2m 40s\n",
      "379:\tlearn: 1419.2429255\ttest: 1557.5179606\tbest: 1557.5179606 (379)\ttotal: 1m 38s\tremaining: 2m 40s\n",
      "380:\tlearn: 1419.0006209\ttest: 1557.3467212\tbest: 1557.3467212 (380)\ttotal: 1m 38s\tremaining: 2m 40s\n",
      "381:\tlearn: 1418.7458035\ttest: 1557.2074205\tbest: 1557.2074205 (381)\ttotal: 1m 38s\tremaining: 2m 39s\n",
      "382:\tlearn: 1418.1735255\ttest: 1557.0762895\tbest: 1557.0762895 (382)\ttotal: 1m 39s\tremaining: 2m 39s\n",
      "383:\tlearn: 1418.0191906\ttest: 1557.0683873\tbest: 1557.0683873 (383)\ttotal: 1m 39s\tremaining: 2m 39s\n",
      "384:\tlearn: 1417.5423171\ttest: 1556.9116562\tbest: 1556.9116562 (384)\ttotal: 1m 39s\tremaining: 2m 38s\n",
      "385:\tlearn: 1417.2690929\ttest: 1556.9047792\tbest: 1556.9047792 (385)\ttotal: 1m 39s\tremaining: 2m 38s\n",
      "386:\tlearn: 1417.0649073\ttest: 1556.8629213\tbest: 1556.8629213 (386)\ttotal: 1m 39s\tremaining: 2m 38s\n",
      "387:\tlearn: 1416.5738038\ttest: 1556.7450511\tbest: 1556.7450511 (387)\ttotal: 1m 40s\tremaining: 2m 38s\n",
      "388:\tlearn: 1416.3715328\ttest: 1556.6586565\tbest: 1556.6586565 (388)\ttotal: 1m 40s\tremaining: 2m 37s\n",
      "389:\tlearn: 1416.1846331\ttest: 1556.6301121\tbest: 1556.6301121 (389)\ttotal: 1m 40s\tremaining: 2m 37s\n",
      "390:\tlearn: 1415.4265527\ttest: 1556.3131104\tbest: 1556.3131104 (390)\ttotal: 1m 40s\tremaining: 2m 37s\n",
      "391:\tlearn: 1414.8086335\ttest: 1556.0821616\tbest: 1556.0821616 (391)\ttotal: 1m 41s\tremaining: 2m 36s\n",
      "392:\tlearn: 1414.7184188\ttest: 1556.0910003\tbest: 1556.0821616 (391)\ttotal: 1m 41s\tremaining: 2m 36s\n",
      "393:\tlearn: 1414.5058838\ttest: 1556.0134460\tbest: 1556.0134460 (393)\ttotal: 1m 41s\tremaining: 2m 36s\n",
      "394:\tlearn: 1414.4423259\ttest: 1555.9879775\tbest: 1555.9879775 (394)\ttotal: 1m 41s\tremaining: 2m 35s\n",
      "395:\tlearn: 1414.2136728\ttest: 1555.8812594\tbest: 1555.8812594 (395)\ttotal: 1m 42s\tremaining: 2m 35s\n",
      "396:\tlearn: 1414.0199759\ttest: 1555.7295897\tbest: 1555.7295897 (396)\ttotal: 1m 42s\tremaining: 2m 35s\n",
      "397:\tlearn: 1413.5134630\ttest: 1555.4981612\tbest: 1555.4981612 (397)\ttotal: 1m 42s\tremaining: 2m 35s\n",
      "398:\tlearn: 1413.2363895\ttest: 1555.3980756\tbest: 1555.3980756 (398)\ttotal: 1m 42s\tremaining: 2m 34s\n",
      "399:\tlearn: 1412.9085949\ttest: 1555.2450314\tbest: 1555.2450314 (399)\ttotal: 1m 43s\tremaining: 2m 34s\n",
      "400:\tlearn: 1412.5404840\ttest: 1555.1964507\tbest: 1555.1964507 (400)\ttotal: 1m 43s\tremaining: 2m 34s\n",
      "401:\tlearn: 1412.2768716\ttest: 1555.2001110\tbest: 1555.1964507 (400)\ttotal: 1m 43s\tremaining: 2m 34s\n",
      "402:\tlearn: 1412.1860762\ttest: 1555.1563879\tbest: 1555.1563879 (402)\ttotal: 1m 43s\tremaining: 2m 33s\n",
      "403:\tlearn: 1411.7988132\ttest: 1554.9944367\tbest: 1554.9944367 (403)\ttotal: 1m 44s\tremaining: 2m 33s\n",
      "404:\tlearn: 1411.6263826\ttest: 1554.9518031\tbest: 1554.9518031 (404)\ttotal: 1m 44s\tremaining: 2m 33s\n",
      "405:\tlearn: 1410.8466258\ttest: 1554.6869654\tbest: 1554.6869654 (405)\ttotal: 1m 44s\tremaining: 2m 33s\n",
      "406:\tlearn: 1410.5955031\ttest: 1554.6285072\tbest: 1554.6285072 (406)\ttotal: 1m 44s\tremaining: 2m 32s\n",
      "407:\tlearn: 1410.3281829\ttest: 1554.6256814\tbest: 1554.6256814 (407)\ttotal: 1m 45s\tremaining: 2m 32s\n",
      "408:\tlearn: 1409.8106720\ttest: 1554.4946269\tbest: 1554.4946269 (408)\ttotal: 1m 45s\tremaining: 2m 32s\n",
      "409:\tlearn: 1409.5763193\ttest: 1554.3724590\tbest: 1554.3724590 (409)\ttotal: 1m 45s\tremaining: 2m 32s\n",
      "410:\tlearn: 1409.3946570\ttest: 1554.3145363\tbest: 1554.3145363 (410)\ttotal: 1m 45s\tremaining: 2m 31s\n",
      "411:\tlearn: 1408.9849777\ttest: 1554.3478988\tbest: 1554.3145363 (410)\ttotal: 1m 46s\tremaining: 2m 31s\n",
      "412:\tlearn: 1408.9132826\ttest: 1554.3379131\tbest: 1554.3145363 (410)\ttotal: 1m 46s\tremaining: 2m 31s\n",
      "413:\tlearn: 1408.5871480\ttest: 1554.2286119\tbest: 1554.2286119 (413)\ttotal: 1m 46s\tremaining: 2m 30s\n",
      "414:\tlearn: 1408.4844613\ttest: 1554.2195829\tbest: 1554.2195829 (414)\ttotal: 1m 46s\tremaining: 2m 30s\n",
      "415:\tlearn: 1407.9671976\ttest: 1553.9225796\tbest: 1553.9225796 (415)\ttotal: 1m 47s\tremaining: 2m 30s\n",
      "416:\tlearn: 1407.8297092\ttest: 1553.8432939\tbest: 1553.8432939 (416)\ttotal: 1m 47s\tremaining: 2m 30s\n",
      "417:\tlearn: 1407.6823834\ttest: 1553.7622064\tbest: 1553.7622064 (417)\ttotal: 1m 47s\tremaining: 2m 29s\n",
      "418:\tlearn: 1407.5220578\ttest: 1553.7442323\tbest: 1553.7442323 (418)\ttotal: 1m 47s\tremaining: 2m 29s\n",
      "419:\tlearn: 1406.9096219\ttest: 1553.7967407\tbest: 1553.7442323 (418)\ttotal: 1m 48s\tremaining: 2m 29s\n",
      "420:\tlearn: 1406.5613817\ttest: 1553.7063183\tbest: 1553.7063183 (420)\ttotal: 1m 48s\tremaining: 2m 29s\n",
      "421:\tlearn: 1406.4198011\ttest: 1553.7246389\tbest: 1553.7063183 (420)\ttotal: 1m 48s\tremaining: 2m 28s\n",
      "422:\tlearn: 1406.1290162\ttest: 1553.6241770\tbest: 1553.6241770 (422)\ttotal: 1m 48s\tremaining: 2m 28s\n",
      "423:\tlearn: 1405.8838873\ttest: 1553.5791225\tbest: 1553.5791225 (423)\ttotal: 1m 49s\tremaining: 2m 28s\n",
      "424:\tlearn: 1405.6451286\ttest: 1553.4905284\tbest: 1553.4905284 (424)\ttotal: 1m 49s\tremaining: 2m 28s\n",
      "425:\tlearn: 1405.4646493\ttest: 1553.4570902\tbest: 1553.4570902 (425)\ttotal: 1m 49s\tremaining: 2m 27s\n",
      "426:\tlearn: 1405.2823764\ttest: 1553.4064420\tbest: 1553.4064420 (426)\ttotal: 1m 50s\tremaining: 2m 27s\n",
      "427:\tlearn: 1404.8027105\ttest: 1553.4033180\tbest: 1553.4033180 (427)\ttotal: 1m 50s\tremaining: 2m 27s\n",
      "428:\tlearn: 1404.6623999\ttest: 1553.3374131\tbest: 1553.3374131 (428)\ttotal: 1m 50s\tremaining: 2m 27s\n",
      "429:\tlearn: 1404.2104031\ttest: 1553.1522713\tbest: 1553.1522713 (429)\ttotal: 1m 50s\tremaining: 2m 26s\n",
      "430:\tlearn: 1404.0027518\ttest: 1553.1551077\tbest: 1553.1522713 (429)\ttotal: 1m 51s\tremaining: 2m 26s\n",
      "431:\tlearn: 1403.3978334\ttest: 1552.9904141\tbest: 1552.9904141 (431)\ttotal: 1m 51s\tremaining: 2m 26s\n",
      "432:\tlearn: 1402.9792587\ttest: 1552.9686463\tbest: 1552.9686463 (432)\ttotal: 1m 51s\tremaining: 2m 26s\n",
      "433:\tlearn: 1402.5318650\ttest: 1552.9365495\tbest: 1552.9365495 (433)\ttotal: 1m 51s\tremaining: 2m 25s\n",
      "434:\tlearn: 1402.1817092\ttest: 1552.8271940\tbest: 1552.8271940 (434)\ttotal: 1m 52s\tremaining: 2m 25s\n",
      "435:\tlearn: 1402.0092553\ttest: 1552.7861115\tbest: 1552.7861115 (435)\ttotal: 1m 52s\tremaining: 2m 25s\n",
      "436:\tlearn: 1401.8599026\ttest: 1552.7122763\tbest: 1552.7122763 (436)\ttotal: 1m 52s\tremaining: 2m 24s\n",
      "437:\tlearn: 1401.6427673\ttest: 1552.7578050\tbest: 1552.7122763 (436)\ttotal: 1m 52s\tremaining: 2m 24s\n",
      "438:\tlearn: 1401.2440008\ttest: 1552.5831425\tbest: 1552.5831425 (438)\ttotal: 1m 52s\tremaining: 2m 24s\n",
      "439:\tlearn: 1401.0539150\ttest: 1552.4596974\tbest: 1552.4596974 (439)\ttotal: 1m 53s\tremaining: 2m 24s\n",
      "440:\tlearn: 1400.6224096\ttest: 1552.3431780\tbest: 1552.3431780 (440)\ttotal: 1m 53s\tremaining: 2m 23s\n",
      "441:\tlearn: 1400.3532074\ttest: 1552.1747733\tbest: 1552.1747733 (441)\ttotal: 1m 53s\tremaining: 2m 23s\n",
      "442:\tlearn: 1400.1808833\ttest: 1552.0638523\tbest: 1552.0638523 (442)\ttotal: 1m 54s\tremaining: 2m 23s\n",
      "443:\tlearn: 1399.9090540\ttest: 1551.9129822\tbest: 1551.9129822 (443)\ttotal: 1m 54s\tremaining: 2m 23s\n",
      "444:\tlearn: 1399.4186599\ttest: 1551.8052342\tbest: 1551.8052342 (444)\ttotal: 1m 54s\tremaining: 2m 22s\n",
      "445:\tlearn: 1399.1585142\ttest: 1551.7620171\tbest: 1551.7620171 (445)\ttotal: 1m 54s\tremaining: 2m 22s\n",
      "446:\tlearn: 1398.8445598\ttest: 1551.6231586\tbest: 1551.6231586 (446)\ttotal: 1m 55s\tremaining: 2m 22s\n",
      "447:\tlearn: 1398.3648368\ttest: 1551.4754577\tbest: 1551.4754577 (447)\ttotal: 1m 55s\tremaining: 2m 22s\n",
      "448:\tlearn: 1398.0474367\ttest: 1551.4240920\tbest: 1551.4240920 (448)\ttotal: 1m 55s\tremaining: 2m 21s\n",
      "449:\tlearn: 1397.9287523\ttest: 1551.4293394\tbest: 1551.4240920 (448)\ttotal: 1m 55s\tremaining: 2m 21s\n",
      "450:\tlearn: 1397.6509191\ttest: 1551.3976342\tbest: 1551.3976342 (450)\ttotal: 1m 56s\tremaining: 2m 21s\n",
      "451:\tlearn: 1397.4071201\ttest: 1551.4065311\tbest: 1551.3976342 (450)\ttotal: 1m 56s\tremaining: 2m 21s\n",
      "452:\tlearn: 1396.7977238\ttest: 1551.1782400\tbest: 1551.1782400 (452)\ttotal: 1m 56s\tremaining: 2m 20s\n",
      "453:\tlearn: 1396.5951950\ttest: 1551.1490776\tbest: 1551.1490776 (453)\ttotal: 1m 56s\tremaining: 2m 20s\n",
      "454:\tlearn: 1396.5070676\ttest: 1551.1266914\tbest: 1551.1266914 (454)\ttotal: 1m 57s\tremaining: 2m 20s\n",
      "455:\tlearn: 1396.2900090\ttest: 1551.0983178\tbest: 1551.0983178 (455)\ttotal: 1m 57s\tremaining: 2m 20s\n",
      "456:\tlearn: 1396.0257703\ttest: 1551.1635315\tbest: 1551.0983178 (455)\ttotal: 1m 57s\tremaining: 2m 19s\n",
      "457:\tlearn: 1395.9199408\ttest: 1551.1476524\tbest: 1551.0983178 (455)\ttotal: 1m 57s\tremaining: 2m 19s\n",
      "458:\tlearn: 1395.6560266\ttest: 1551.1336829\tbest: 1551.0983178 (455)\ttotal: 1m 58s\tremaining: 2m 19s\n",
      "459:\tlearn: 1395.5942368\ttest: 1551.1171024\tbest: 1551.0983178 (455)\ttotal: 1m 58s\tremaining: 2m 19s\n",
      "460:\tlearn: 1395.4142455\ttest: 1551.1669735\tbest: 1551.0983178 (455)\ttotal: 1m 58s\tremaining: 2m 18s\n",
      "461:\tlearn: 1395.2212358\ttest: 1551.1012232\tbest: 1551.0983178 (455)\ttotal: 1m 58s\tremaining: 2m 18s\n",
      "462:\tlearn: 1394.8618098\ttest: 1551.0840842\tbest: 1551.0840842 (462)\ttotal: 1m 59s\tremaining: 2m 18s\n",
      "463:\tlearn: 1394.4700107\ttest: 1551.0287497\tbest: 1551.0287497 (463)\ttotal: 1m 59s\tremaining: 2m 18s\n",
      "464:\tlearn: 1394.1034802\ttest: 1550.7771694\tbest: 1550.7771694 (464)\ttotal: 1m 59s\tremaining: 2m 17s\n",
      "465:\tlearn: 1393.7868126\ttest: 1550.6866847\tbest: 1550.6866847 (465)\ttotal: 2m\tremaining: 2m 17s\n",
      "466:\tlearn: 1393.3930846\ttest: 1550.4460362\tbest: 1550.4460362 (466)\ttotal: 2m\tremaining: 2m 17s\n",
      "467:\tlearn: 1393.2083425\ttest: 1550.3619601\tbest: 1550.3619601 (467)\ttotal: 2m\tremaining: 2m 17s\n",
      "468:\tlearn: 1393.0283626\ttest: 1550.2299525\tbest: 1550.2299525 (468)\ttotal: 2m\tremaining: 2m 16s\n",
      "469:\tlearn: 1392.6529130\ttest: 1550.1095639\tbest: 1550.1095639 (469)\ttotal: 2m 1s\tremaining: 2m 16s\n",
      "470:\tlearn: 1392.1977226\ttest: 1549.9420642\tbest: 1549.9420642 (470)\ttotal: 2m 1s\tremaining: 2m 16s\n",
      "471:\tlearn: 1391.9668712\ttest: 1549.8935098\tbest: 1549.8935098 (471)\ttotal: 2m 1s\tremaining: 2m 16s\n",
      "472:\tlearn: 1391.5651174\ttest: 1549.8309914\tbest: 1549.8309914 (472)\ttotal: 2m 1s\tremaining: 2m 15s\n",
      "473:\tlearn: 1391.2731231\ttest: 1549.7740836\tbest: 1549.7740836 (473)\ttotal: 2m 2s\tremaining: 2m 15s\n",
      "474:\tlearn: 1390.9527576\ttest: 1549.7890345\tbest: 1549.7740836 (473)\ttotal: 2m 2s\tremaining: 2m 15s\n",
      "475:\tlearn: 1390.5711297\ttest: 1549.5839275\tbest: 1549.5839275 (475)\ttotal: 2m 2s\tremaining: 2m 15s\n",
      "476:\tlearn: 1389.9203566\ttest: 1549.4015014\tbest: 1549.4015014 (476)\ttotal: 2m 3s\tremaining: 2m 14s\n",
      "477:\tlearn: 1389.6106877\ttest: 1549.3889796\tbest: 1549.3889796 (477)\ttotal: 2m 3s\tremaining: 2m 14s\n",
      "478:\tlearn: 1389.4611101\ttest: 1549.3260544\tbest: 1549.3260544 (478)\ttotal: 2m 3s\tremaining: 2m 14s\n",
      "479:\tlearn: 1389.2171943\ttest: 1549.3260763\tbest: 1549.3260544 (478)\ttotal: 2m 3s\tremaining: 2m 14s\n",
      "480:\tlearn: 1388.8159458\ttest: 1549.2290834\tbest: 1549.2290834 (480)\ttotal: 2m 4s\tremaining: 2m 13s\n",
      "481:\tlearn: 1388.6388781\ttest: 1549.2419593\tbest: 1549.2290834 (480)\ttotal: 2m 4s\tremaining: 2m 13s\n",
      "482:\tlearn: 1388.2151553\ttest: 1549.1039631\tbest: 1549.1039631 (482)\ttotal: 2m 4s\tremaining: 2m 13s\n",
      "483:\tlearn: 1387.1720997\ttest: 1548.6398326\tbest: 1548.6398326 (483)\ttotal: 2m 4s\tremaining: 2m 13s\n",
      "484:\tlearn: 1387.0318986\ttest: 1548.5824529\tbest: 1548.5824529 (484)\ttotal: 2m 5s\tremaining: 2m 12s\n",
      "485:\tlearn: 1386.7659992\ttest: 1548.4140196\tbest: 1548.4140196 (485)\ttotal: 2m 5s\tremaining: 2m 12s\n",
      "486:\tlearn: 1386.5990687\ttest: 1548.3385365\tbest: 1548.3385365 (486)\ttotal: 2m 5s\tremaining: 2m 12s\n",
      "487:\tlearn: 1386.3883336\ttest: 1548.2370565\tbest: 1548.2370565 (487)\ttotal: 2m 6s\tremaining: 2m 12s\n",
      "488:\tlearn: 1386.1277085\ttest: 1548.2774239\tbest: 1548.2370565 (487)\ttotal: 2m 6s\tremaining: 2m 11s\n",
      "489:\tlearn: 1385.7743246\ttest: 1548.0944563\tbest: 1548.0944563 (489)\ttotal: 2m 6s\tremaining: 2m 11s\n",
      "490:\tlearn: 1385.7248416\ttest: 1548.1011716\tbest: 1548.0944563 (489)\ttotal: 2m 6s\tremaining: 2m 11s\n",
      "491:\tlearn: 1385.3535047\ttest: 1548.0118661\tbest: 1548.0118661 (491)\ttotal: 2m 6s\tremaining: 2m 11s\n",
      "492:\tlearn: 1385.1697160\ttest: 1547.9932125\tbest: 1547.9932125 (492)\ttotal: 2m 7s\tremaining: 2m 10s\n",
      "493:\tlearn: 1384.7204327\ttest: 1547.9959144\tbest: 1547.9932125 (492)\ttotal: 2m 7s\tremaining: 2m 10s\n",
      "494:\tlearn: 1384.5430407\ttest: 1547.9712191\tbest: 1547.9712191 (494)\ttotal: 2m 7s\tremaining: 2m 10s\n",
      "495:\tlearn: 1384.3243069\ttest: 1547.9233652\tbest: 1547.9233652 (495)\ttotal: 2m 7s\tremaining: 2m 10s\n",
      "496:\tlearn: 1384.0737095\ttest: 1547.9566470\tbest: 1547.9233652 (495)\ttotal: 2m 8s\tremaining: 2m 9s\n",
      "497:\tlearn: 1383.8309836\ttest: 1547.9559882\tbest: 1547.9233652 (495)\ttotal: 2m 8s\tremaining: 2m 9s\n",
      "498:\tlearn: 1383.5036788\ttest: 1547.8103540\tbest: 1547.8103540 (498)\ttotal: 2m 8s\tremaining: 2m 9s\n",
      "499:\tlearn: 1383.1910700\ttest: 1547.6841691\tbest: 1547.6841691 (499)\ttotal: 2m 8s\tremaining: 2m 8s\n",
      "500:\tlearn: 1382.8377932\ttest: 1547.6311710\tbest: 1547.6311710 (500)\ttotal: 2m 9s\tremaining: 2m 8s\n",
      "501:\tlearn: 1382.4698185\ttest: 1547.4288695\tbest: 1547.4288695 (501)\ttotal: 2m 9s\tremaining: 2m 8s\n",
      "502:\tlearn: 1382.3131783\ttest: 1547.3677095\tbest: 1547.3677095 (502)\ttotal: 2m 9s\tremaining: 2m 8s\n",
      "503:\tlearn: 1382.2476922\ttest: 1547.3707644\tbest: 1547.3677095 (502)\ttotal: 2m 9s\tremaining: 2m 7s\n",
      "504:\tlearn: 1382.1602218\ttest: 1547.3560198\tbest: 1547.3560198 (504)\ttotal: 2m 10s\tremaining: 2m 7s\n",
      "505:\tlearn: 1381.7656802\ttest: 1547.2404684\tbest: 1547.2404684 (505)\ttotal: 2m 10s\tremaining: 2m 7s\n",
      "506:\tlearn: 1381.5959870\ttest: 1547.1751707\tbest: 1547.1751707 (506)\ttotal: 2m 10s\tremaining: 2m 7s\n",
      "507:\tlearn: 1381.1557187\ttest: 1547.0796209\tbest: 1547.0796209 (507)\ttotal: 2m 11s\tremaining: 2m 7s\n",
      "508:\tlearn: 1380.8937876\ttest: 1546.9595026\tbest: 1546.9595026 (508)\ttotal: 2m 11s\tremaining: 2m 6s\n",
      "509:\tlearn: 1380.6031611\ttest: 1546.9464715\tbest: 1546.9464715 (509)\ttotal: 2m 11s\tremaining: 2m 6s\n",
      "510:\tlearn: 1380.3574131\ttest: 1546.8441074\tbest: 1546.8441074 (510)\ttotal: 2m 11s\tremaining: 2m 6s\n",
      "511:\tlearn: 1380.2533291\ttest: 1546.8372741\tbest: 1546.8372741 (511)\ttotal: 2m 12s\tremaining: 2m 6s\n",
      "512:\tlearn: 1379.9310883\ttest: 1546.7891439\tbest: 1546.7891439 (512)\ttotal: 2m 12s\tremaining: 2m 5s\n",
      "513:\tlearn: 1379.6539708\ttest: 1546.6873454\tbest: 1546.6873454 (513)\ttotal: 2m 12s\tremaining: 2m 5s\n",
      "514:\tlearn: 1379.5415766\ttest: 1546.6992130\tbest: 1546.6873454 (513)\ttotal: 2m 13s\tremaining: 2m 5s\n",
      "515:\tlearn: 1379.3529948\ttest: 1546.6295788\tbest: 1546.6295788 (515)\ttotal: 2m 13s\tremaining: 2m 5s\n",
      "516:\tlearn: 1378.9040188\ttest: 1546.4382112\tbest: 1546.4382112 (516)\ttotal: 2m 13s\tremaining: 2m 4s\n",
      "517:\tlearn: 1378.5798146\ttest: 1546.2745617\tbest: 1546.2745617 (517)\ttotal: 2m 13s\tremaining: 2m 4s\n",
      "518:\tlearn: 1378.1242673\ttest: 1546.1018578\tbest: 1546.1018578 (518)\ttotal: 2m 14s\tremaining: 2m 4s\n",
      "519:\tlearn: 1377.7697078\ttest: 1545.9732858\tbest: 1545.9732858 (519)\ttotal: 2m 14s\tremaining: 2m 4s\n",
      "520:\tlearn: 1377.3323375\ttest: 1545.9688812\tbest: 1545.9688812 (520)\ttotal: 2m 14s\tremaining: 2m 3s\n",
      "521:\tlearn: 1377.1170333\ttest: 1545.9921800\tbest: 1545.9688812 (520)\ttotal: 2m 15s\tremaining: 2m 3s\n",
      "522:\tlearn: 1376.9463371\ttest: 1546.0266517\tbest: 1545.9688812 (520)\ttotal: 2m 15s\tremaining: 2m 3s\n",
      "523:\tlearn: 1376.7727265\ttest: 1546.0323227\tbest: 1545.9688812 (520)\ttotal: 2m 15s\tremaining: 2m 3s\n",
      "524:\tlearn: 1376.5747611\ttest: 1546.0276927\tbest: 1545.9688812 (520)\ttotal: 2m 15s\tremaining: 2m 2s\n",
      "525:\tlearn: 1376.4654743\ttest: 1545.9852223\tbest: 1545.9688812 (520)\ttotal: 2m 16s\tremaining: 2m 2s\n",
      "526:\tlearn: 1376.1055939\ttest: 1545.8244403\tbest: 1545.8244403 (526)\ttotal: 2m 16s\tremaining: 2m 2s\n",
      "527:\tlearn: 1375.8812051\ttest: 1545.7856183\tbest: 1545.7856183 (527)\ttotal: 2m 16s\tremaining: 2m 2s\n",
      "528:\tlearn: 1375.7178792\ttest: 1545.7854543\tbest: 1545.7854543 (528)\ttotal: 2m 16s\tremaining: 2m 1s\n",
      "529:\tlearn: 1374.5712171\ttest: 1545.2065591\tbest: 1545.2065591 (529)\ttotal: 2m 17s\tremaining: 2m 1s\n",
      "530:\tlearn: 1374.4033421\ttest: 1545.1598965\tbest: 1545.1598965 (530)\ttotal: 2m 17s\tremaining: 2m 1s\n",
      "531:\tlearn: 1374.1576737\ttest: 1545.1330403\tbest: 1545.1330403 (531)\ttotal: 2m 17s\tremaining: 2m 1s\n",
      "532:\tlearn: 1373.8357847\ttest: 1545.1704248\tbest: 1545.1330403 (531)\ttotal: 2m 17s\tremaining: 2m\n",
      "533:\tlearn: 1373.5305381\ttest: 1545.1371979\tbest: 1545.1330403 (531)\ttotal: 2m 18s\tremaining: 2m\n",
      "534:\tlearn: 1373.1662292\ttest: 1545.1082067\tbest: 1545.1082067 (534)\ttotal: 2m 18s\tremaining: 2m\n",
      "535:\tlearn: 1372.4149589\ttest: 1544.8258993\tbest: 1544.8258993 (535)\ttotal: 2m 18s\tremaining: 2m\n",
      "536:\tlearn: 1372.0922617\ttest: 1544.7583634\tbest: 1544.7583634 (536)\ttotal: 2m 18s\tremaining: 1m 59s\n",
      "537:\tlearn: 1371.9224887\ttest: 1544.7162823\tbest: 1544.7162823 (537)\ttotal: 2m 19s\tremaining: 1m 59s\n",
      "538:\tlearn: 1371.7909870\ttest: 1544.7337193\tbest: 1544.7162823 (537)\ttotal: 2m 19s\tremaining: 1m 59s\n",
      "539:\tlearn: 1371.7595962\ttest: 1544.7598390\tbest: 1544.7162823 (537)\ttotal: 2m 19s\tremaining: 1m 59s\n",
      "540:\tlearn: 1371.5378720\ttest: 1544.7405513\tbest: 1544.7162823 (537)\ttotal: 2m 20s\tremaining: 1m 58s\n",
      "541:\tlearn: 1371.4531341\ttest: 1544.7793507\tbest: 1544.7162823 (537)\ttotal: 2m 20s\tremaining: 1m 58s\n",
      "542:\tlearn: 1371.4344927\ttest: 1544.7508594\tbest: 1544.7162823 (537)\ttotal: 2m 20s\tremaining: 1m 58s\n",
      "543:\tlearn: 1371.3643017\ttest: 1544.7373176\tbest: 1544.7162823 (537)\ttotal: 2m 20s\tremaining: 1m 57s\n",
      "544:\tlearn: 1371.0904671\ttest: 1544.6500049\tbest: 1544.6500049 (544)\ttotal: 2m 20s\tremaining: 1m 57s\n",
      "545:\tlearn: 1370.9102236\ttest: 1544.5306567\tbest: 1544.5306567 (545)\ttotal: 2m 21s\tremaining: 1m 57s\n",
      "546:\tlearn: 1370.6776187\ttest: 1544.5235270\tbest: 1544.5235270 (546)\ttotal: 2m 21s\tremaining: 1m 57s\n",
      "547:\tlearn: 1370.5503739\ttest: 1544.5566974\tbest: 1544.5235270 (546)\ttotal: 2m 21s\tremaining: 1m 56s\n",
      "548:\tlearn: 1370.2273448\ttest: 1544.4758522\tbest: 1544.4758522 (548)\ttotal: 2m 22s\tremaining: 1m 56s\n",
      "549:\tlearn: 1369.6265159\ttest: 1544.3986932\tbest: 1544.3986932 (549)\ttotal: 2m 22s\tremaining: 1m 56s\n",
      "550:\tlearn: 1369.4387932\ttest: 1544.3536875\tbest: 1544.3536875 (550)\ttotal: 2m 22s\tremaining: 1m 56s\n",
      "551:\tlearn: 1369.3553751\ttest: 1544.3413042\tbest: 1544.3413042 (551)\ttotal: 2m 22s\tremaining: 1m 55s\n",
      "552:\tlearn: 1369.0043394\ttest: 1544.1388917\tbest: 1544.1388917 (552)\ttotal: 2m 23s\tremaining: 1m 55s\n",
      "553:\tlearn: 1368.9064301\ttest: 1544.1186983\tbest: 1544.1186983 (553)\ttotal: 2m 23s\tremaining: 1m 55s\n",
      "554:\tlearn: 1368.8582951\ttest: 1544.0875603\tbest: 1544.0875603 (554)\ttotal: 2m 23s\tremaining: 1m 55s\n",
      "555:\tlearn: 1368.6141174\ttest: 1543.9783379\tbest: 1543.9783379 (555)\ttotal: 2m 23s\tremaining: 1m 54s\n",
      "556:\tlearn: 1368.3013893\ttest: 1543.9186844\tbest: 1543.9186844 (556)\ttotal: 2m 24s\tremaining: 1m 54s\n",
      "557:\tlearn: 1368.1129188\ttest: 1543.9214990\tbest: 1543.9186844 (556)\ttotal: 2m 24s\tremaining: 1m 54s\n",
      "558:\tlearn: 1367.9890798\ttest: 1543.9571157\tbest: 1543.9186844 (556)\ttotal: 2m 24s\tremaining: 1m 54s\n",
      "559:\tlearn: 1367.8899718\ttest: 1543.9196966\tbest: 1543.9186844 (556)\ttotal: 2m 24s\tremaining: 1m 53s\n",
      "560:\tlearn: 1367.7631630\ttest: 1543.9565313\tbest: 1543.9186844 (556)\ttotal: 2m 25s\tremaining: 1m 53s\n",
      "561:\tlearn: 1367.5437716\ttest: 1543.8935534\tbest: 1543.8935534 (561)\ttotal: 2m 25s\tremaining: 1m 53s\n",
      "562:\tlearn: 1367.1333144\ttest: 1543.7691017\tbest: 1543.7691017 (562)\ttotal: 2m 25s\tremaining: 1m 53s\n",
      "563:\tlearn: 1367.1185504\ttest: 1543.7745251\tbest: 1543.7691017 (562)\ttotal: 2m 25s\tremaining: 1m 52s\n",
      "564:\tlearn: 1366.6333441\ttest: 1543.5757341\tbest: 1543.5757341 (564)\ttotal: 2m 26s\tremaining: 1m 52s\n",
      "565:\tlearn: 1366.2591377\ttest: 1543.4820698\tbest: 1543.4820698 (565)\ttotal: 2m 26s\tremaining: 1m 52s\n",
      "566:\tlearn: 1366.2066069\ttest: 1543.4619802\tbest: 1543.4619802 (566)\ttotal: 2m 26s\tremaining: 1m 52s\n",
      "567:\tlearn: 1366.1666564\ttest: 1543.4676993\tbest: 1543.4619802 (566)\ttotal: 2m 26s\tremaining: 1m 51s\n",
      "568:\tlearn: 1365.9998613\ttest: 1543.4302756\tbest: 1543.4302756 (568)\ttotal: 2m 27s\tremaining: 1m 51s\n",
      "569:\tlearn: 1365.8378417\ttest: 1543.3541958\tbest: 1543.3541958 (569)\ttotal: 2m 27s\tremaining: 1m 51s\n",
      "570:\tlearn: 1365.5617220\ttest: 1543.3349360\tbest: 1543.3349360 (570)\ttotal: 2m 27s\tremaining: 1m 50s\n",
      "571:\tlearn: 1365.3746323\ttest: 1543.3036103\tbest: 1543.3036103 (571)\ttotal: 2m 27s\tremaining: 1m 50s\n",
      "572:\tlearn: 1365.2884060\ttest: 1543.3128376\tbest: 1543.3036103 (571)\ttotal: 2m 28s\tremaining: 1m 50s\n",
      "573:\tlearn: 1365.1743664\ttest: 1543.3222922\tbest: 1543.3036103 (571)\ttotal: 2m 28s\tremaining: 1m 50s\n",
      "574:\tlearn: 1364.2884795\ttest: 1543.0931447\tbest: 1543.0931447 (574)\ttotal: 2m 28s\tremaining: 1m 49s\n",
      "575:\tlearn: 1363.8933430\ttest: 1542.9999722\tbest: 1542.9999722 (575)\ttotal: 2m 28s\tremaining: 1m 49s\n",
      "576:\tlearn: 1363.3861475\ttest: 1542.7812629\tbest: 1542.7812629 (576)\ttotal: 2m 29s\tremaining: 1m 49s\n",
      "577:\tlearn: 1362.9761282\ttest: 1542.6523995\tbest: 1542.6523995 (577)\ttotal: 2m 29s\tremaining: 1m 49s\n",
      "578:\tlearn: 1362.8625819\ttest: 1542.6193639\tbest: 1542.6193639 (578)\ttotal: 2m 29s\tremaining: 1m 48s\n",
      "579:\tlearn: 1362.7499384\ttest: 1542.6050076\tbest: 1542.6050076 (579)\ttotal: 2m 29s\tremaining: 1m 48s\n",
      "580:\tlearn: 1362.5206610\ttest: 1542.6723168\tbest: 1542.6050076 (579)\ttotal: 2m 30s\tremaining: 1m 48s\n",
      "581:\tlearn: 1362.3204364\ttest: 1542.6582728\tbest: 1542.6050076 (579)\ttotal: 2m 30s\tremaining: 1m 48s\n",
      "582:\tlearn: 1361.8466553\ttest: 1542.4462536\tbest: 1542.4462536 (582)\ttotal: 2m 30s\tremaining: 1m 47s\n",
      "583:\tlearn: 1361.6007844\ttest: 1542.4054580\tbest: 1542.4054580 (583)\ttotal: 2m 31s\tremaining: 1m 47s\n",
      "584:\tlearn: 1361.2774338\ttest: 1542.3298985\tbest: 1542.3298985 (584)\ttotal: 2m 31s\tremaining: 1m 47s\n",
      "585:\tlearn: 1361.0518294\ttest: 1542.2660890\tbest: 1542.2660890 (585)\ttotal: 2m 31s\tremaining: 1m 47s\n",
      "586:\tlearn: 1360.8583924\ttest: 1542.2771091\tbest: 1542.2660890 (585)\ttotal: 2m 31s\tremaining: 1m 46s\n",
      "587:\tlearn: 1360.6639067\ttest: 1542.2701032\tbest: 1542.2660890 (585)\ttotal: 2m 32s\tremaining: 1m 46s\n",
      "588:\tlearn: 1360.3805998\ttest: 1542.2252103\tbest: 1542.2252103 (588)\ttotal: 2m 32s\tremaining: 1m 46s\n",
      "589:\tlearn: 1360.1583230\ttest: 1542.2315567\tbest: 1542.2252103 (588)\ttotal: 2m 32s\tremaining: 1m 46s\n",
      "590:\tlearn: 1359.9612779\ttest: 1542.2136651\tbest: 1542.2136651 (590)\ttotal: 2m 32s\tremaining: 1m 45s\n",
      "591:\tlearn: 1359.7394007\ttest: 1542.0815559\tbest: 1542.0815559 (591)\ttotal: 2m 33s\tremaining: 1m 45s\n",
      "592:\tlearn: 1359.5975247\ttest: 1542.1085641\tbest: 1542.0815559 (591)\ttotal: 2m 33s\tremaining: 1m 45s\n",
      "593:\tlearn: 1359.4465669\ttest: 1542.0367494\tbest: 1542.0367494 (593)\ttotal: 2m 33s\tremaining: 1m 45s\n",
      "594:\tlearn: 1359.2867866\ttest: 1542.0215985\tbest: 1542.0215985 (594)\ttotal: 2m 33s\tremaining: 1m 44s\n",
      "595:\tlearn: 1358.9645521\ttest: 1541.8785128\tbest: 1541.8785128 (595)\ttotal: 2m 34s\tremaining: 1m 44s\n",
      "596:\tlearn: 1358.8462537\ttest: 1541.8710965\tbest: 1541.8710965 (596)\ttotal: 2m 34s\tremaining: 1m 44s\n",
      "597:\tlearn: 1358.6745191\ttest: 1541.8244606\tbest: 1541.8244606 (597)\ttotal: 2m 34s\tremaining: 1m 43s\n",
      "598:\tlearn: 1358.4892637\ttest: 1541.8148395\tbest: 1541.8148395 (598)\ttotal: 2m 34s\tremaining: 1m 43s\n",
      "599:\tlearn: 1358.1855660\ttest: 1541.7863657\tbest: 1541.7863657 (599)\ttotal: 2m 35s\tremaining: 1m 43s\n",
      "600:\tlearn: 1358.1221680\ttest: 1541.8202691\tbest: 1541.7863657 (599)\ttotal: 2m 35s\tremaining: 1m 43s\n",
      "601:\tlearn: 1357.9735923\ttest: 1541.7623969\tbest: 1541.7623969 (601)\ttotal: 2m 35s\tremaining: 1m 42s\n",
      "602:\tlearn: 1357.7667219\ttest: 1541.7073789\tbest: 1541.7073789 (602)\ttotal: 2m 36s\tremaining: 1m 42s\n",
      "603:\tlearn: 1357.5533789\ttest: 1541.6658118\tbest: 1541.6658118 (603)\ttotal: 2m 36s\tremaining: 1m 42s\n",
      "604:\tlearn: 1357.3357976\ttest: 1541.6046042\tbest: 1541.6046042 (604)\ttotal: 2m 36s\tremaining: 1m 42s\n",
      "605:\tlearn: 1357.1877756\ttest: 1541.5735770\tbest: 1541.5735770 (605)\ttotal: 2m 36s\tremaining: 1m 41s\n",
      "606:\tlearn: 1356.9287890\ttest: 1541.4591650\tbest: 1541.4591650 (606)\ttotal: 2m 37s\tremaining: 1m 41s\n",
      "607:\tlearn: 1356.5237017\ttest: 1541.3964405\tbest: 1541.3964405 (607)\ttotal: 2m 37s\tremaining: 1m 41s\n",
      "608:\tlearn: 1356.0095808\ttest: 1541.3956359\tbest: 1541.3956359 (608)\ttotal: 2m 37s\tremaining: 1m 41s\n",
      "609:\tlearn: 1355.9544521\ttest: 1541.3750959\tbest: 1541.3750959 (609)\ttotal: 2m 37s\tremaining: 1m 40s\n",
      "610:\tlearn: 1355.8643619\ttest: 1541.3149604\tbest: 1541.3149604 (610)\ttotal: 2m 38s\tremaining: 1m 40s\n",
      "611:\tlearn: 1355.5690196\ttest: 1541.2894683\tbest: 1541.2894683 (611)\ttotal: 2m 38s\tremaining: 1m 40s\n",
      "612:\tlearn: 1355.4694839\ttest: 1541.2337447\tbest: 1541.2337447 (612)\ttotal: 2m 38s\tremaining: 1m 40s\n",
      "613:\tlearn: 1355.3566262\ttest: 1541.2518867\tbest: 1541.2337447 (612)\ttotal: 2m 38s\tremaining: 1m 39s\n",
      "614:\tlearn: 1355.1214153\ttest: 1541.1411681\tbest: 1541.1411681 (614)\ttotal: 2m 39s\tremaining: 1m 39s\n",
      "615:\tlearn: 1354.8466229\ttest: 1541.0308891\tbest: 1541.0308891 (615)\ttotal: 2m 39s\tremaining: 1m 39s\n",
      "616:\tlearn: 1354.4665975\ttest: 1540.7823074\tbest: 1540.7823074 (616)\ttotal: 2m 39s\tremaining: 1m 39s\n",
      "617:\tlearn: 1354.3407052\ttest: 1540.8040910\tbest: 1540.7823074 (616)\ttotal: 2m 39s\tremaining: 1m 38s\n",
      "618:\tlearn: 1354.1653824\ttest: 1540.8418257\tbest: 1540.7823074 (616)\ttotal: 2m 40s\tremaining: 1m 38s\n",
      "619:\tlearn: 1353.9790961\ttest: 1540.7708646\tbest: 1540.7708646 (619)\ttotal: 2m 40s\tremaining: 1m 38s\n",
      "620:\tlearn: 1353.4680695\ttest: 1540.5123862\tbest: 1540.5123862 (620)\ttotal: 2m 40s\tremaining: 1m 38s\n",
      "621:\tlearn: 1353.0033174\ttest: 1540.4440858\tbest: 1540.4440858 (621)\ttotal: 2m 41s\tremaining: 1m 37s\n",
      "622:\tlearn: 1352.9167630\ttest: 1540.4822297\tbest: 1540.4440858 (621)\ttotal: 2m 41s\tremaining: 1m 37s\n",
      "623:\tlearn: 1352.8135960\ttest: 1540.4682052\tbest: 1540.4440858 (621)\ttotal: 2m 41s\tremaining: 1m 37s\n",
      "624:\tlearn: 1352.7311448\ttest: 1540.4225958\tbest: 1540.4225958 (624)\ttotal: 2m 42s\tremaining: 1m 37s\n",
      "625:\tlearn: 1352.6523249\ttest: 1540.4043065\tbest: 1540.4043065 (625)\ttotal: 2m 42s\tremaining: 1m 36s\n",
      "626:\tlearn: 1352.1907374\ttest: 1540.2330945\tbest: 1540.2330945 (626)\ttotal: 2m 42s\tremaining: 1m 36s\n",
      "627:\tlearn: 1351.6810014\ttest: 1539.9276450\tbest: 1539.9276450 (627)\ttotal: 2m 42s\tremaining: 1m 36s\n",
      "628:\tlearn: 1351.3479557\ttest: 1539.8108990\tbest: 1539.8108990 (628)\ttotal: 2m 42s\tremaining: 1m 36s\n",
      "629:\tlearn: 1351.1084604\ttest: 1539.7241400\tbest: 1539.7241400 (629)\ttotal: 2m 43s\tremaining: 1m 35s\n",
      "630:\tlearn: 1350.9385932\ttest: 1539.7825729\tbest: 1539.7241400 (629)\ttotal: 2m 43s\tremaining: 1m 35s\n",
      "631:\tlearn: 1350.8227921\ttest: 1539.7604041\tbest: 1539.7241400 (629)\ttotal: 2m 43s\tremaining: 1m 35s\n",
      "632:\tlearn: 1350.7272301\ttest: 1539.8249632\tbest: 1539.7241400 (629)\ttotal: 2m 44s\tremaining: 1m 35s\n",
      "633:\tlearn: 1350.5225331\ttest: 1539.7771820\tbest: 1539.7241400 (629)\ttotal: 2m 44s\tremaining: 1m 34s\n",
      "634:\tlearn: 1350.4476085\ttest: 1539.7908893\tbest: 1539.7241400 (629)\ttotal: 2m 44s\tremaining: 1m 34s\n",
      "635:\tlearn: 1350.2804470\ttest: 1539.7837826\tbest: 1539.7241400 (629)\ttotal: 2m 44s\tremaining: 1m 34s\n",
      "636:\tlearn: 1350.1396007\ttest: 1539.6986012\tbest: 1539.6986012 (636)\ttotal: 2m 44s\tremaining: 1m 34s\n",
      "637:\tlearn: 1349.9709258\ttest: 1539.6753396\tbest: 1539.6753396 (637)\ttotal: 2m 45s\tremaining: 1m 33s\n",
      "638:\tlearn: 1349.5847634\ttest: 1539.5051185\tbest: 1539.5051185 (638)\ttotal: 2m 45s\tremaining: 1m 33s\n",
      "639:\tlearn: 1349.3709343\ttest: 1539.5062258\tbest: 1539.5051185 (638)\ttotal: 2m 45s\tremaining: 1m 33s\n",
      "640:\tlearn: 1348.9428182\ttest: 1539.3330325\tbest: 1539.3330325 (640)\ttotal: 2m 46s\tremaining: 1m 33s\n",
      "641:\tlearn: 1348.8789408\ttest: 1539.3238530\tbest: 1539.3238530 (641)\ttotal: 2m 46s\tremaining: 1m 32s\n",
      "642:\tlearn: 1348.3655956\ttest: 1539.1631494\tbest: 1539.1631494 (642)\ttotal: 2m 46s\tremaining: 1m 32s\n",
      "643:\tlearn: 1348.2781612\ttest: 1539.1427670\tbest: 1539.1427670 (643)\ttotal: 2m 46s\tremaining: 1m 32s\n",
      "644:\tlearn: 1348.1529628\ttest: 1539.1776065\tbest: 1539.1427670 (643)\ttotal: 2m 47s\tremaining: 1m 31s\n",
      "645:\tlearn: 1348.0356989\ttest: 1539.1764272\tbest: 1539.1427670 (643)\ttotal: 2m 47s\tremaining: 1m 31s\n",
      "646:\tlearn: 1347.9218891\ttest: 1539.2010288\tbest: 1539.1427670 (643)\ttotal: 2m 47s\tremaining: 1m 31s\n",
      "647:\tlearn: 1347.7734081\ttest: 1539.1114974\tbest: 1539.1114974 (647)\ttotal: 2m 47s\tremaining: 1m 31s\n",
      "648:\tlearn: 1347.4961434\ttest: 1539.0980126\tbest: 1539.0980126 (648)\ttotal: 2m 48s\tremaining: 1m 30s\n",
      "649:\tlearn: 1347.2134965\ttest: 1539.0497379\tbest: 1539.0497379 (649)\ttotal: 2m 48s\tremaining: 1m 30s\n",
      "650:\tlearn: 1346.8922202\ttest: 1539.0568162\tbest: 1539.0497379 (649)\ttotal: 2m 48s\tremaining: 1m 30s\n",
      "651:\tlearn: 1346.8261757\ttest: 1539.0443780\tbest: 1539.0443780 (651)\ttotal: 2m 48s\tremaining: 1m 30s\n",
      "652:\tlearn: 1346.5651728\ttest: 1538.9827211\tbest: 1538.9827211 (652)\ttotal: 2m 49s\tremaining: 1m 29s\n",
      "653:\tlearn: 1346.2731352\ttest: 1538.8336858\tbest: 1538.8336858 (653)\ttotal: 2m 49s\tremaining: 1m 29s\n",
      "654:\tlearn: 1345.9850071\ttest: 1538.8404818\tbest: 1538.8336858 (653)\ttotal: 2m 49s\tremaining: 1m 29s\n",
      "655:\tlearn: 1345.9213286\ttest: 1538.8228993\tbest: 1538.8228993 (655)\ttotal: 2m 49s\tremaining: 1m 29s\n",
      "656:\tlearn: 1345.7179412\ttest: 1538.7829346\tbest: 1538.7829346 (656)\ttotal: 2m 50s\tremaining: 1m 28s\n",
      "657:\tlearn: 1345.4154594\ttest: 1538.7584342\tbest: 1538.7584342 (657)\ttotal: 2m 50s\tremaining: 1m 28s\n",
      "658:\tlearn: 1345.1908255\ttest: 1538.7802799\tbest: 1538.7584342 (657)\ttotal: 2m 50s\tremaining: 1m 28s\n",
      "659:\tlearn: 1345.1110313\ttest: 1538.7307411\tbest: 1538.7307411 (659)\ttotal: 2m 51s\tremaining: 1m 28s\n",
      "660:\tlearn: 1345.0674656\ttest: 1538.7527863\tbest: 1538.7307411 (659)\ttotal: 2m 51s\tremaining: 1m 27s\n",
      "661:\tlearn: 1344.9819973\ttest: 1538.7412932\tbest: 1538.7307411 (659)\ttotal: 2m 51s\tremaining: 1m 27s\n",
      "662:\tlearn: 1344.6492257\ttest: 1538.6675619\tbest: 1538.6675619 (662)\ttotal: 2m 51s\tremaining: 1m 27s\n",
      "663:\tlearn: 1344.3174110\ttest: 1538.5744522\tbest: 1538.5744522 (663)\ttotal: 2m 52s\tremaining: 1m 27s\n",
      "664:\tlearn: 1344.1561530\ttest: 1538.5581764\tbest: 1538.5581764 (664)\ttotal: 2m 52s\tremaining: 1m 26s\n",
      "665:\tlearn: 1344.0023062\ttest: 1538.5998489\tbest: 1538.5581764 (664)\ttotal: 2m 52s\tremaining: 1m 26s\n",
      "666:\tlearn: 1343.7099452\ttest: 1538.5576244\tbest: 1538.5576244 (666)\ttotal: 2m 53s\tremaining: 1m 26s\n",
      "667:\tlearn: 1343.4433844\ttest: 1538.4907071\tbest: 1538.4907071 (667)\ttotal: 2m 53s\tremaining: 1m 26s\n",
      "668:\tlearn: 1343.0116147\ttest: 1538.3805441\tbest: 1538.3805441 (668)\ttotal: 2m 53s\tremaining: 1m 25s\n",
      "669:\tlearn: 1342.7658519\ttest: 1538.2456780\tbest: 1538.2456780 (669)\ttotal: 2m 53s\tremaining: 1m 25s\n",
      "670:\tlearn: 1342.7212512\ttest: 1538.2439884\tbest: 1538.2439884 (670)\ttotal: 2m 54s\tremaining: 1m 25s\n",
      "671:\tlearn: 1342.4977958\ttest: 1538.2270434\tbest: 1538.2270434 (671)\ttotal: 2m 54s\tremaining: 1m 25s\n",
      "672:\tlearn: 1342.2816290\ttest: 1538.2365676\tbest: 1538.2270434 (671)\ttotal: 2m 54s\tremaining: 1m 24s\n",
      "673:\tlearn: 1342.2047164\ttest: 1538.2860325\tbest: 1538.2270434 (671)\ttotal: 2m 54s\tremaining: 1m 24s\n",
      "674:\tlearn: 1341.7503600\ttest: 1538.2957145\tbest: 1538.2270434 (671)\ttotal: 2m 55s\tremaining: 1m 24s\n",
      "675:\tlearn: 1341.5913957\ttest: 1538.2480658\tbest: 1538.2270434 (671)\ttotal: 2m 55s\tremaining: 1m 24s\n",
      "676:\tlearn: 1341.4482085\ttest: 1538.2712457\tbest: 1538.2270434 (671)\ttotal: 2m 55s\tremaining: 1m 23s\n",
      "677:\tlearn: 1341.3911089\ttest: 1538.2586168\tbest: 1538.2270434 (671)\ttotal: 2m 56s\tremaining: 1m 23s\n",
      "678:\tlearn: 1340.9939636\ttest: 1538.2554046\tbest: 1538.2270434 (671)\ttotal: 2m 56s\tremaining: 1m 23s\n",
      "679:\tlearn: 1340.6897983\ttest: 1538.0771034\tbest: 1538.0771034 (679)\ttotal: 2m 56s\tremaining: 1m 23s\n",
      "680:\tlearn: 1340.3565369\ttest: 1538.0099482\tbest: 1538.0099482 (680)\ttotal: 2m 56s\tremaining: 1m 22s\n",
      "681:\tlearn: 1339.8663960\ttest: 1537.7542037\tbest: 1537.7542037 (681)\ttotal: 2m 56s\tremaining: 1m 22s\n",
      "682:\tlearn: 1339.6691462\ttest: 1537.7109660\tbest: 1537.7109660 (682)\ttotal: 2m 57s\tremaining: 1m 22s\n",
      "683:\tlearn: 1339.1200764\ttest: 1537.6238380\tbest: 1537.6238380 (683)\ttotal: 2m 57s\tremaining: 1m 21s\n",
      "684:\tlearn: 1338.8372441\ttest: 1537.6257772\tbest: 1537.6238380 (683)\ttotal: 2m 57s\tremaining: 1m 21s\n",
      "685:\tlearn: 1338.6319447\ttest: 1537.5505221\tbest: 1537.5505221 (685)\ttotal: 2m 58s\tremaining: 1m 21s\n",
      "686:\tlearn: 1338.2844026\ttest: 1537.5043511\tbest: 1537.5043511 (686)\ttotal: 2m 58s\tremaining: 1m 21s\n",
      "687:\tlearn: 1338.0234861\ttest: 1537.5402332\tbest: 1537.5043511 (686)\ttotal: 2m 58s\tremaining: 1m 20s\n",
      "688:\tlearn: 1337.8989644\ttest: 1537.4573097\tbest: 1537.4573097 (688)\ttotal: 2m 58s\tremaining: 1m 20s\n",
      "689:\tlearn: 1337.7535868\ttest: 1537.4447124\tbest: 1537.4447124 (689)\ttotal: 2m 58s\tremaining: 1m 20s\n",
      "690:\tlearn: 1337.4706982\ttest: 1537.3554433\tbest: 1537.3554433 (690)\ttotal: 2m 59s\tremaining: 1m 20s\n",
      "691:\tlearn: 1337.2988271\ttest: 1537.3405945\tbest: 1537.3405945 (691)\ttotal: 2m 59s\tremaining: 1m 19s\n",
      "692:\tlearn: 1337.1659326\ttest: 1537.2734940\tbest: 1537.2734940 (692)\ttotal: 2m 59s\tremaining: 1m 19s\n",
      "693:\tlearn: 1336.8293719\ttest: 1537.2275301\tbest: 1537.2275301 (693)\ttotal: 2m 59s\tremaining: 1m 19s\n",
      "694:\tlearn: 1336.6947093\ttest: 1537.2160943\tbest: 1537.2160943 (694)\ttotal: 3m\tremaining: 1m 19s\n",
      "695:\tlearn: 1336.5936575\ttest: 1537.1673163\tbest: 1537.1673163 (695)\ttotal: 3m\tremaining: 1m 18s\n",
      "696:\tlearn: 1336.3902843\ttest: 1537.0086508\tbest: 1537.0086508 (696)\ttotal: 3m\tremaining: 1m 18s\n",
      "697:\tlearn: 1336.2385281\ttest: 1536.9538095\tbest: 1536.9538095 (697)\ttotal: 3m 1s\tremaining: 1m 18s\n",
      "698:\tlearn: 1335.9798450\ttest: 1536.9164466\tbest: 1536.9164466 (698)\ttotal: 3m 1s\tremaining: 1m 18s\n",
      "699:\tlearn: 1335.9356451\ttest: 1536.9197009\tbest: 1536.9164466 (698)\ttotal: 3m 1s\tremaining: 1m 17s\n",
      "700:\tlearn: 1335.8051975\ttest: 1536.9156676\tbest: 1536.9156676 (700)\ttotal: 3m 1s\tremaining: 1m 17s\n",
      "701:\tlearn: 1335.7073291\ttest: 1536.8817032\tbest: 1536.8817032 (701)\ttotal: 3m 2s\tremaining: 1m 17s\n",
      "702:\tlearn: 1335.4656113\ttest: 1536.7326110\tbest: 1536.7326110 (702)\ttotal: 3m 2s\tremaining: 1m 17s\n",
      "703:\tlearn: 1335.4021057\ttest: 1536.7372652\tbest: 1536.7326110 (702)\ttotal: 3m 2s\tremaining: 1m 16s\n",
      "704:\tlearn: 1335.1082113\ttest: 1536.6764399\tbest: 1536.6764399 (704)\ttotal: 3m 2s\tremaining: 1m 16s\n",
      "705:\tlearn: 1334.8748146\ttest: 1536.6636169\tbest: 1536.6636169 (705)\ttotal: 3m 3s\tremaining: 1m 16s\n",
      "706:\tlearn: 1334.7522538\ttest: 1536.6088087\tbest: 1536.6088087 (706)\ttotal: 3m 3s\tremaining: 1m 16s\n",
      "707:\tlearn: 1334.6023815\ttest: 1536.5309230\tbest: 1536.5309230 (707)\ttotal: 3m 3s\tremaining: 1m 15s\n",
      "708:\tlearn: 1334.2911493\ttest: 1536.4061222\tbest: 1536.4061222 (708)\ttotal: 3m 3s\tremaining: 1m 15s\n",
      "709:\tlearn: 1334.1831742\ttest: 1536.3667595\tbest: 1536.3667595 (709)\ttotal: 3m 4s\tremaining: 1m 15s\n",
      "710:\tlearn: 1333.9072789\ttest: 1536.3116102\tbest: 1536.3116102 (710)\ttotal: 3m 4s\tremaining: 1m 14s\n",
      "711:\tlearn: 1333.7912669\ttest: 1536.3338590\tbest: 1536.3116102 (710)\ttotal: 3m 4s\tremaining: 1m 14s\n",
      "712:\tlearn: 1333.5198940\ttest: 1536.3203863\tbest: 1536.3116102 (710)\ttotal: 3m 5s\tremaining: 1m 14s\n",
      "713:\tlearn: 1333.4116727\ttest: 1536.3134820\tbest: 1536.3116102 (710)\ttotal: 3m 5s\tremaining: 1m 14s\n",
      "714:\tlearn: 1333.1883737\ttest: 1536.2842629\tbest: 1536.2842629 (714)\ttotal: 3m 5s\tremaining: 1m 13s\n",
      "715:\tlearn: 1333.0190889\ttest: 1536.2677027\tbest: 1536.2677027 (715)\ttotal: 3m 5s\tremaining: 1m 13s\n",
      "716:\tlearn: 1332.7383385\ttest: 1536.1778210\tbest: 1536.1778210 (716)\ttotal: 3m 6s\tremaining: 1m 13s\n",
      "717:\tlearn: 1332.6305081\ttest: 1536.1466257\tbest: 1536.1466257 (717)\ttotal: 3m 6s\tremaining: 1m 13s\n",
      "718:\tlearn: 1332.5487783\ttest: 1536.1524599\tbest: 1536.1466257 (717)\ttotal: 3m 6s\tremaining: 1m 12s\n",
      "719:\tlearn: 1332.3331839\ttest: 1536.1438680\tbest: 1536.1438680 (719)\ttotal: 3m 7s\tremaining: 1m 12s\n",
      "720:\tlearn: 1332.0795392\ttest: 1536.1245771\tbest: 1536.1245771 (720)\ttotal: 3m 7s\tremaining: 1m 12s\n",
      "721:\tlearn: 1331.8859689\ttest: 1536.1395441\tbest: 1536.1245771 (720)\ttotal: 3m 7s\tremaining: 1m 12s\n",
      "722:\tlearn: 1331.5839703\ttest: 1536.0993325\tbest: 1536.0993325 (722)\ttotal: 3m 7s\tremaining: 1m 11s\n",
      "723:\tlearn: 1331.3114963\ttest: 1535.9824696\tbest: 1535.9824696 (723)\ttotal: 3m 8s\tremaining: 1m 11s\n",
      "724:\tlearn: 1331.2264111\ttest: 1535.9506212\tbest: 1535.9506212 (724)\ttotal: 3m 8s\tremaining: 1m 11s\n",
      "725:\tlearn: 1331.1118838\ttest: 1535.8740855\tbest: 1535.8740855 (725)\ttotal: 3m 8s\tremaining: 1m 11s\n",
      "726:\tlearn: 1330.9680398\ttest: 1535.8245862\tbest: 1535.8245862 (726)\ttotal: 3m 8s\tremaining: 1m 10s\n",
      "727:\tlearn: 1330.8567691\ttest: 1535.8547762\tbest: 1535.8245862 (726)\ttotal: 3m 9s\tremaining: 1m 10s\n",
      "728:\tlearn: 1330.2541091\ttest: 1535.7893348\tbest: 1535.7893348 (728)\ttotal: 3m 9s\tremaining: 1m 10s\n",
      "729:\tlearn: 1330.1308244\ttest: 1535.7258260\tbest: 1535.7258260 (729)\ttotal: 3m 9s\tremaining: 1m 10s\n",
      "730:\tlearn: 1329.8543092\ttest: 1535.6058504\tbest: 1535.6058504 (730)\ttotal: 3m 10s\tremaining: 1m 9s\n",
      "731:\tlearn: 1329.6891322\ttest: 1535.6174646\tbest: 1535.6058504 (730)\ttotal: 3m 10s\tremaining: 1m 9s\n",
      "732:\tlearn: 1329.4812941\ttest: 1535.6257184\tbest: 1535.6058504 (730)\ttotal: 3m 10s\tremaining: 1m 9s\n",
      "733:\tlearn: 1329.4083743\ttest: 1535.5921398\tbest: 1535.5921398 (733)\ttotal: 3m 10s\tremaining: 1m 9s\n",
      "734:\tlearn: 1329.3361552\ttest: 1535.5746800\tbest: 1535.5746800 (734)\ttotal: 3m 11s\tremaining: 1m 8s\n",
      "735:\tlearn: 1329.0675868\ttest: 1535.4472246\tbest: 1535.4472246 (735)\ttotal: 3m 11s\tremaining: 1m 8s\n",
      "736:\tlearn: 1328.9528618\ttest: 1535.4138771\tbest: 1535.4138771 (736)\ttotal: 3m 11s\tremaining: 1m 8s\n",
      "737:\tlearn: 1328.7354836\ttest: 1535.4324165\tbest: 1535.4138771 (736)\ttotal: 3m 12s\tremaining: 1m 8s\n",
      "738:\tlearn: 1328.5465517\ttest: 1535.4557525\tbest: 1535.4138771 (736)\ttotal: 3m 12s\tremaining: 1m 7s\n",
      "739:\tlearn: 1328.4063386\ttest: 1535.4454414\tbest: 1535.4138771 (736)\ttotal: 3m 12s\tremaining: 1m 7s\n",
      "740:\tlearn: 1328.2891722\ttest: 1535.4450633\tbest: 1535.4138771 (736)\ttotal: 3m 12s\tremaining: 1m 7s\n",
      "741:\tlearn: 1328.1404450\ttest: 1535.3950143\tbest: 1535.3950143 (741)\ttotal: 3m 13s\tremaining: 1m 7s\n",
      "742:\tlearn: 1328.0906770\ttest: 1535.4150699\tbest: 1535.3950143 (741)\ttotal: 3m 13s\tremaining: 1m 6s\n",
      "743:\tlearn: 1327.9668643\ttest: 1535.4435327\tbest: 1535.3950143 (741)\ttotal: 3m 13s\tremaining: 1m 6s\n",
      "744:\tlearn: 1327.8807801\ttest: 1535.4172730\tbest: 1535.3950143 (741)\ttotal: 3m 14s\tremaining: 1m 6s\n",
      "745:\tlearn: 1327.7807257\ttest: 1535.3980380\tbest: 1535.3950143 (741)\ttotal: 3m 14s\tremaining: 1m 6s\n",
      "746:\tlearn: 1327.5948049\ttest: 1535.3775822\tbest: 1535.3775822 (746)\ttotal: 3m 14s\tremaining: 1m 5s\n",
      "747:\tlearn: 1327.5439079\ttest: 1535.4045215\tbest: 1535.3775822 (746)\ttotal: 3m 14s\tremaining: 1m 5s\n",
      "748:\tlearn: 1327.4436662\ttest: 1535.3907855\tbest: 1535.3775822 (746)\ttotal: 3m 15s\tremaining: 1m 5s\n",
      "749:\tlearn: 1327.1506292\ttest: 1535.2780550\tbest: 1535.2780550 (749)\ttotal: 3m 15s\tremaining: 1m 5s\n",
      "750:\tlearn: 1327.0692975\ttest: 1535.2614563\tbest: 1535.2614563 (750)\ttotal: 3m 15s\tremaining: 1m 4s\n",
      "751:\tlearn: 1326.9470543\ttest: 1535.2333654\tbest: 1535.2333654 (751)\ttotal: 3m 15s\tremaining: 1m 4s\n",
      "752:\tlearn: 1326.7714929\ttest: 1535.2275361\tbest: 1535.2275361 (752)\ttotal: 3m 16s\tremaining: 1m 4s\n",
      "753:\tlearn: 1326.6181797\ttest: 1535.1809143\tbest: 1535.1809143 (753)\ttotal: 3m 16s\tremaining: 1m 4s\n",
      "754:\tlearn: 1326.4716262\ttest: 1535.1349926\tbest: 1535.1349926 (754)\ttotal: 3m 16s\tremaining: 1m 3s\n",
      "755:\tlearn: 1326.3402962\ttest: 1535.1395735\tbest: 1535.1349926 (754)\ttotal: 3m 17s\tremaining: 1m 3s\n",
      "756:\tlearn: 1326.2353544\ttest: 1535.1405086\tbest: 1535.1349926 (754)\ttotal: 3m 17s\tremaining: 1m 3s\n",
      "757:\tlearn: 1326.2211932\ttest: 1535.1309594\tbest: 1535.1309594 (757)\ttotal: 3m 17s\tremaining: 1m 3s\n",
      "758:\tlearn: 1326.1499335\ttest: 1535.1334600\tbest: 1535.1309594 (757)\ttotal: 3m 17s\tremaining: 1m 2s\n",
      "759:\tlearn: 1326.0062565\ttest: 1535.1052188\tbest: 1535.1052188 (759)\ttotal: 3m 18s\tremaining: 1m 2s\n",
      "760:\tlearn: 1325.5677508\ttest: 1535.0975507\tbest: 1535.0975507 (760)\ttotal: 3m 18s\tremaining: 1m 2s\n",
      "761:\tlearn: 1325.4429988\ttest: 1535.0850726\tbest: 1535.0850726 (761)\ttotal: 3m 18s\tremaining: 1m 2s\n",
      "762:\tlearn: 1325.2051783\ttest: 1535.0728929\tbest: 1535.0728929 (762)\ttotal: 3m 18s\tremaining: 1m 1s\n",
      "763:\tlearn: 1325.0407034\ttest: 1535.1387736\tbest: 1535.0728929 (762)\ttotal: 3m 19s\tremaining: 1m 1s\n",
      "764:\tlearn: 1324.8484876\ttest: 1535.1228724\tbest: 1535.0728929 (762)\ttotal: 3m 19s\tremaining: 1m 1s\n",
      "765:\tlearn: 1324.6416095\ttest: 1535.0972146\tbest: 1535.0728929 (762)\ttotal: 3m 19s\tremaining: 1m\n",
      "766:\tlearn: 1324.3618625\ttest: 1534.9660193\tbest: 1534.9660193 (766)\ttotal: 3m 19s\tremaining: 1m\n",
      "767:\tlearn: 1324.2969694\ttest: 1534.9751391\tbest: 1534.9660193 (766)\ttotal: 3m 20s\tremaining: 1m\n",
      "768:\tlearn: 1324.1514632\ttest: 1534.9201027\tbest: 1534.9201027 (768)\ttotal: 3m 20s\tremaining: 1m\n",
      "769:\tlearn: 1323.9134515\ttest: 1534.8921331\tbest: 1534.8921331 (769)\ttotal: 3m 20s\tremaining: 60s\n",
      "770:\tlearn: 1323.5174107\ttest: 1534.8140969\tbest: 1534.8140969 (770)\ttotal: 3m 20s\tremaining: 59.7s\n",
      "771:\tlearn: 1323.4146212\ttest: 1534.8154467\tbest: 1534.8140969 (770)\ttotal: 3m 21s\tremaining: 59.5s\n",
      "772:\tlearn: 1323.3166639\ttest: 1534.8213767\tbest: 1534.8140969 (770)\ttotal: 3m 21s\tremaining: 59.2s\n",
      "773:\tlearn: 1322.8497786\ttest: 1534.6938240\tbest: 1534.6938240 (773)\ttotal: 3m 21s\tremaining: 58.9s\n",
      "774:\tlearn: 1322.6151434\ttest: 1534.6940783\tbest: 1534.6938240 (773)\ttotal: 3m 22s\tremaining: 58.7s\n",
      "775:\tlearn: 1322.2604372\ttest: 1534.6540724\tbest: 1534.6540724 (775)\ttotal: 3m 22s\tremaining: 58.4s\n",
      "776:\tlearn: 1322.1549996\ttest: 1534.6323425\tbest: 1534.6323425 (776)\ttotal: 3m 22s\tremaining: 58.2s\n",
      "777:\tlearn: 1322.0854137\ttest: 1534.6266243\tbest: 1534.6266243 (777)\ttotal: 3m 23s\tremaining: 57.9s\n",
      "778:\tlearn: 1321.7634650\ttest: 1534.5314748\tbest: 1534.5314748 (778)\ttotal: 3m 23s\tremaining: 57.7s\n",
      "779:\tlearn: 1321.6951805\ttest: 1534.5718783\tbest: 1534.5314748 (778)\ttotal: 3m 23s\tremaining: 57.4s\n",
      "780:\tlearn: 1321.5050160\ttest: 1534.5700724\tbest: 1534.5314748 (778)\ttotal: 3m 23s\tremaining: 57.2s\n",
      "781:\tlearn: 1321.1335106\ttest: 1534.5067627\tbest: 1534.5067627 (781)\ttotal: 3m 24s\tremaining: 56.9s\n",
      "782:\tlearn: 1321.0751596\ttest: 1534.4686629\tbest: 1534.4686629 (782)\ttotal: 3m 24s\tremaining: 56.6s\n",
      "783:\tlearn: 1320.9657388\ttest: 1534.4396299\tbest: 1534.4396299 (783)\ttotal: 3m 24s\tremaining: 56.4s\n",
      "784:\tlearn: 1320.8774430\ttest: 1534.4449116\tbest: 1534.4396299 (783)\ttotal: 3m 24s\tremaining: 56.1s\n",
      "785:\tlearn: 1320.7512227\ttest: 1534.4614386\tbest: 1534.4396299 (783)\ttotal: 3m 25s\tremaining: 55.8s\n",
      "786:\tlearn: 1320.5933664\ttest: 1534.5017259\tbest: 1534.4396299 (783)\ttotal: 3m 25s\tremaining: 55.6s\n",
      "787:\tlearn: 1320.5454128\ttest: 1534.4910519\tbest: 1534.4396299 (783)\ttotal: 3m 25s\tremaining: 55.3s\n",
      "788:\tlearn: 1320.3173257\ttest: 1534.4641651\tbest: 1534.4396299 (783)\ttotal: 3m 25s\tremaining: 55.1s\n",
      "789:\tlearn: 1320.1632288\ttest: 1534.4487755\tbest: 1534.4396299 (783)\ttotal: 3m 26s\tremaining: 54.8s\n",
      "790:\tlearn: 1319.9533772\ttest: 1534.3558501\tbest: 1534.3558501 (790)\ttotal: 3m 26s\tremaining: 54.5s\n",
      "791:\tlearn: 1319.8002282\ttest: 1534.3543464\tbest: 1534.3543464 (791)\ttotal: 3m 26s\tremaining: 54.3s\n",
      "792:\tlearn: 1319.6879525\ttest: 1534.3743771\tbest: 1534.3543464 (791)\ttotal: 3m 26s\tremaining: 54s\n",
      "793:\tlearn: 1319.4956730\ttest: 1534.2695123\tbest: 1534.2695123 (793)\ttotal: 3m 27s\tremaining: 53.8s\n",
      "794:\tlearn: 1319.3531548\ttest: 1534.2466354\tbest: 1534.2466354 (794)\ttotal: 3m 27s\tremaining: 53.5s\n",
      "795:\tlearn: 1319.2583555\ttest: 1534.2224879\tbest: 1534.2224879 (795)\ttotal: 3m 27s\tremaining: 53.2s\n",
      "796:\tlearn: 1319.2083693\ttest: 1534.2160155\tbest: 1534.2160155 (796)\ttotal: 3m 27s\tremaining: 53s\n",
      "797:\tlearn: 1319.1003766\ttest: 1534.2190905\tbest: 1534.2160155 (796)\ttotal: 3m 28s\tremaining: 52.7s\n",
      "798:\tlearn: 1318.9262175\ttest: 1534.1869828\tbest: 1534.1869828 (798)\ttotal: 3m 28s\tremaining: 52.4s\n",
      "799:\tlearn: 1318.7467404\ttest: 1534.1234699\tbest: 1534.1234699 (799)\ttotal: 3m 28s\tremaining: 52.2s\n",
      "800:\tlearn: 1318.5647668\ttest: 1534.1036245\tbest: 1534.1036245 (800)\ttotal: 3m 28s\tremaining: 51.9s\n",
      "801:\tlearn: 1318.4323417\ttest: 1534.0975908\tbest: 1534.0975908 (801)\ttotal: 3m 29s\tremaining: 51.7s\n",
      "802:\tlearn: 1318.1143295\ttest: 1533.9702062\tbest: 1533.9702062 (802)\ttotal: 3m 29s\tremaining: 51.4s\n",
      "803:\tlearn: 1318.0847373\ttest: 1533.9655334\tbest: 1533.9655334 (803)\ttotal: 3m 29s\tremaining: 51.1s\n",
      "804:\tlearn: 1318.0016030\ttest: 1533.9374890\tbest: 1533.9374890 (804)\ttotal: 3m 30s\tremaining: 50.9s\n",
      "805:\tlearn: 1317.7560337\ttest: 1533.8286857\tbest: 1533.8286857 (805)\ttotal: 3m 30s\tremaining: 50.6s\n",
      "806:\tlearn: 1317.4788858\ttest: 1533.8269017\tbest: 1533.8269017 (806)\ttotal: 3m 30s\tremaining: 50.3s\n",
      "807:\tlearn: 1317.4620962\ttest: 1533.8312262\tbest: 1533.8269017 (806)\ttotal: 3m 30s\tremaining: 50.1s\n",
      "808:\tlearn: 1317.3227574\ttest: 1533.8220862\tbest: 1533.8220862 (808)\ttotal: 3m 30s\tremaining: 49.8s\n",
      "809:\tlearn: 1317.0570589\ttest: 1533.7744927\tbest: 1533.7744927 (809)\ttotal: 3m 31s\tremaining: 49.6s\n",
      "810:\tlearn: 1316.9545335\ttest: 1533.7654408\tbest: 1533.7654408 (810)\ttotal: 3m 31s\tremaining: 49.3s\n",
      "811:\tlearn: 1316.7732148\ttest: 1533.7310732\tbest: 1533.7310732 (811)\ttotal: 3m 31s\tremaining: 49s\n",
      "812:\tlearn: 1316.5150266\ttest: 1533.6446176\tbest: 1533.6446176 (812)\ttotal: 3m 32s\tremaining: 48.8s\n",
      "813:\tlearn: 1316.2207664\ttest: 1533.5556786\tbest: 1533.5556786 (813)\ttotal: 3m 32s\tremaining: 48.5s\n",
      "814:\tlearn: 1316.0833337\ttest: 1533.5235618\tbest: 1533.5235618 (814)\ttotal: 3m 32s\tremaining: 48.3s\n",
      "815:\tlearn: 1315.8893410\ttest: 1533.5358464\tbest: 1533.5235618 (814)\ttotal: 3m 32s\tremaining: 48s\n",
      "816:\tlearn: 1315.4064998\ttest: 1533.3829019\tbest: 1533.3829019 (816)\ttotal: 3m 33s\tremaining: 47.7s\n",
      "817:\tlearn: 1315.1560803\ttest: 1533.3512380\tbest: 1533.3512380 (817)\ttotal: 3m 33s\tremaining: 47.5s\n",
      "818:\tlearn: 1315.0013455\ttest: 1533.3471752\tbest: 1533.3471752 (818)\ttotal: 3m 33s\tremaining: 47.2s\n",
      "819:\tlearn: 1314.8892281\ttest: 1533.3386734\tbest: 1533.3386734 (819)\ttotal: 3m 34s\tremaining: 47s\n",
      "820:\tlearn: 1314.7402377\ttest: 1533.3959136\tbest: 1533.3386734 (819)\ttotal: 3m 34s\tremaining: 46.7s\n",
      "821:\tlearn: 1314.3459189\ttest: 1533.3170169\tbest: 1533.3170169 (821)\ttotal: 3m 34s\tremaining: 46.5s\n",
      "822:\tlearn: 1314.0498021\ttest: 1533.2229365\tbest: 1533.2229365 (822)\ttotal: 3m 34s\tremaining: 46.2s\n",
      "823:\tlearn: 1313.9157571\ttest: 1533.2207556\tbest: 1533.2207556 (823)\ttotal: 3m 35s\tremaining: 45.9s\n",
      "824:\tlearn: 1313.7952040\ttest: 1533.2190327\tbest: 1533.2190327 (824)\ttotal: 3m 35s\tremaining: 45.7s\n",
      "825:\tlearn: 1313.5559877\ttest: 1533.1666232\tbest: 1533.1666232 (825)\ttotal: 3m 35s\tremaining: 45.4s\n",
      "826:\tlearn: 1313.4129727\ttest: 1533.1227537\tbest: 1533.1227537 (826)\ttotal: 3m 35s\tremaining: 45.2s\n",
      "827:\tlearn: 1313.3885015\ttest: 1533.1237389\tbest: 1533.1227537 (826)\ttotal: 3m 36s\tremaining: 44.9s\n",
      "828:\tlearn: 1313.2991064\ttest: 1533.1019098\tbest: 1533.1019098 (828)\ttotal: 3m 36s\tremaining: 44.6s\n",
      "829:\tlearn: 1313.1622352\ttest: 1533.0872898\tbest: 1533.0872898 (829)\ttotal: 3m 36s\tremaining: 44.4s\n",
      "830:\tlearn: 1312.9281165\ttest: 1533.0742525\tbest: 1533.0742525 (830)\ttotal: 3m 36s\tremaining: 44.1s\n",
      "831:\tlearn: 1312.6863081\ttest: 1533.0430362\tbest: 1533.0430362 (831)\ttotal: 3m 37s\tremaining: 43.8s\n",
      "832:\tlearn: 1312.5847274\ttest: 1533.0297026\tbest: 1533.0297026 (832)\ttotal: 3m 37s\tremaining: 43.6s\n",
      "833:\tlearn: 1312.4593409\ttest: 1533.0381368\tbest: 1533.0297026 (832)\ttotal: 3m 37s\tremaining: 43.3s\n",
      "834:\tlearn: 1312.3780115\ttest: 1533.0689110\tbest: 1533.0297026 (832)\ttotal: 3m 37s\tremaining: 43.1s\n",
      "835:\tlearn: 1312.2784530\ttest: 1533.0574044\tbest: 1533.0297026 (832)\ttotal: 3m 38s\tremaining: 42.8s\n",
      "836:\tlearn: 1312.1561139\ttest: 1533.0562500\tbest: 1533.0297026 (832)\ttotal: 3m 38s\tremaining: 42.5s\n",
      "837:\tlearn: 1312.0927392\ttest: 1533.0885286\tbest: 1533.0297026 (832)\ttotal: 3m 38s\tremaining: 42.3s\n",
      "838:\tlearn: 1311.9675479\ttest: 1533.0697664\tbest: 1533.0297026 (832)\ttotal: 3m 38s\tremaining: 42s\n",
      "839:\tlearn: 1311.8028049\ttest: 1533.0690086\tbest: 1533.0297026 (832)\ttotal: 3m 39s\tremaining: 41.7s\n",
      "840:\tlearn: 1311.5396663\ttest: 1533.0214010\tbest: 1533.0214010 (840)\ttotal: 3m 39s\tremaining: 41.5s\n",
      "841:\tlearn: 1311.4954748\ttest: 1533.0183335\tbest: 1533.0183335 (841)\ttotal: 3m 39s\tremaining: 41.2s\n",
      "842:\tlearn: 1311.3713147\ttest: 1533.0084026\tbest: 1533.0084026 (842)\ttotal: 3m 39s\tremaining: 40.9s\n",
      "843:\tlearn: 1311.2368875\ttest: 1533.0136573\tbest: 1533.0084026 (842)\ttotal: 3m 40s\tremaining: 40.7s\n",
      "844:\tlearn: 1311.1532634\ttest: 1533.0017958\tbest: 1533.0017958 (844)\ttotal: 3m 40s\tremaining: 40.4s\n",
      "845:\tlearn: 1310.9853195\ttest: 1533.0180137\tbest: 1533.0017958 (844)\ttotal: 3m 40s\tremaining: 40.2s\n",
      "846:\tlearn: 1310.7550791\ttest: 1532.9719577\tbest: 1532.9719577 (846)\ttotal: 3m 40s\tremaining: 39.9s\n",
      "847:\tlearn: 1310.6616960\ttest: 1532.9047587\tbest: 1532.9047587 (847)\ttotal: 3m 41s\tremaining: 39.6s\n",
      "848:\tlearn: 1310.5761106\ttest: 1532.9377800\tbest: 1532.9047587 (847)\ttotal: 3m 41s\tremaining: 39.4s\n",
      "849:\tlearn: 1310.2636801\ttest: 1532.9574291\tbest: 1532.9047587 (847)\ttotal: 3m 41s\tremaining: 39.1s\n",
      "850:\tlearn: 1310.1261711\ttest: 1532.9658807\tbest: 1532.9047587 (847)\ttotal: 3m 42s\tremaining: 38.9s\n",
      "851:\tlearn: 1310.0309858\ttest: 1532.9882619\tbest: 1532.9047587 (847)\ttotal: 3m 42s\tremaining: 38.6s\n",
      "852:\tlearn: 1309.8914423\ttest: 1533.0112175\tbest: 1532.9047587 (847)\ttotal: 3m 42s\tremaining: 38.4s\n",
      "853:\tlearn: 1309.7077224\ttest: 1532.9772155\tbest: 1532.9047587 (847)\ttotal: 3m 42s\tremaining: 38.1s\n",
      "854:\tlearn: 1309.5294197\ttest: 1532.9225268\tbest: 1532.9047587 (847)\ttotal: 3m 43s\tremaining: 37.9s\n",
      "855:\tlearn: 1309.3085856\ttest: 1532.8492291\tbest: 1532.8492291 (855)\ttotal: 3m 43s\tremaining: 37.6s\n",
      "856:\tlearn: 1309.0214705\ttest: 1532.7713717\tbest: 1532.7713717 (856)\ttotal: 3m 43s\tremaining: 37.3s\n",
      "857:\tlearn: 1308.8686853\ttest: 1532.7560405\tbest: 1532.7560405 (857)\ttotal: 3m 44s\tremaining: 37.1s\n",
      "858:\tlearn: 1308.7491351\ttest: 1532.7510167\tbest: 1532.7510167 (858)\ttotal: 3m 44s\tremaining: 36.8s\n",
      "859:\tlearn: 1308.5889260\ttest: 1532.7288654\tbest: 1532.7288654 (859)\ttotal: 3m 44s\tremaining: 36.6s\n",
      "860:\tlearn: 1308.4118660\ttest: 1532.7314817\tbest: 1532.7288654 (859)\ttotal: 3m 44s\tremaining: 36.3s\n",
      "861:\tlearn: 1308.1804554\ttest: 1532.6378033\tbest: 1532.6378033 (861)\ttotal: 3m 45s\tremaining: 36s\n",
      "862:\tlearn: 1308.1137148\ttest: 1532.5928868\tbest: 1532.5928868 (862)\ttotal: 3m 45s\tremaining: 35.8s\n",
      "863:\tlearn: 1307.8761427\ttest: 1532.4951552\tbest: 1532.4951552 (863)\ttotal: 3m 45s\tremaining: 35.5s\n",
      "864:\tlearn: 1307.4818541\ttest: 1532.3828336\tbest: 1532.3828336 (864)\ttotal: 3m 45s\tremaining: 35.3s\n",
      "865:\tlearn: 1307.2068905\ttest: 1532.3622576\tbest: 1532.3622576 (865)\ttotal: 3m 46s\tremaining: 35s\n",
      "866:\tlearn: 1307.1080566\ttest: 1532.3398915\tbest: 1532.3398915 (866)\ttotal: 3m 46s\tremaining: 34.7s\n",
      "867:\tlearn: 1306.7435224\ttest: 1532.2641475\tbest: 1532.2641475 (867)\ttotal: 3m 46s\tremaining: 34.5s\n",
      "868:\tlearn: 1306.4949595\ttest: 1532.2189984\tbest: 1532.2189984 (868)\ttotal: 3m 46s\tremaining: 34.2s\n",
      "869:\tlearn: 1306.4347569\ttest: 1532.2274109\tbest: 1532.2189984 (868)\ttotal: 3m 47s\tremaining: 33.9s\n",
      "870:\tlearn: 1306.2957078\ttest: 1532.2281402\tbest: 1532.2189984 (868)\ttotal: 3m 47s\tremaining: 33.7s\n",
      "871:\tlearn: 1306.1523513\ttest: 1532.2526771\tbest: 1532.2189984 (868)\ttotal: 3m 47s\tremaining: 33.4s\n",
      "872:\tlearn: 1305.9522463\ttest: 1532.2038198\tbest: 1532.2038198 (872)\ttotal: 3m 47s\tremaining: 33.2s\n",
      "873:\tlearn: 1305.7287485\ttest: 1532.1701874\tbest: 1532.1701874 (873)\ttotal: 3m 48s\tremaining: 32.9s\n",
      "874:\tlearn: 1305.6635089\ttest: 1532.1267887\tbest: 1532.1267887 (874)\ttotal: 3m 48s\tremaining: 32.6s\n",
      "875:\tlearn: 1305.4141450\ttest: 1532.0731461\tbest: 1532.0731461 (875)\ttotal: 3m 48s\tremaining: 32.4s\n",
      "876:\tlearn: 1305.2928786\ttest: 1532.0567445\tbest: 1532.0567445 (876)\ttotal: 3m 48s\tremaining: 32.1s\n",
      "877:\tlearn: 1305.1006608\ttest: 1532.0613696\tbest: 1532.0567445 (876)\ttotal: 3m 49s\tremaining: 31.9s\n",
      "878:\tlearn: 1305.0984052\ttest: 1532.0633644\tbest: 1532.0567445 (876)\ttotal: 3m 49s\tremaining: 31.6s\n",
      "879:\tlearn: 1304.9420341\ttest: 1532.0768159\tbest: 1532.0567445 (876)\ttotal: 3m 49s\tremaining: 31.3s\n",
      "880:\tlearn: 1304.6018022\ttest: 1532.0333496\tbest: 1532.0333496 (880)\ttotal: 3m 49s\tremaining: 31.1s\n",
      "881:\tlearn: 1304.4799698\ttest: 1532.0155331\tbest: 1532.0155331 (881)\ttotal: 3m 50s\tremaining: 30.8s\n",
      "882:\tlearn: 1304.2639648\ttest: 1531.9536965\tbest: 1531.9536965 (882)\ttotal: 3m 50s\tremaining: 30.5s\n",
      "883:\tlearn: 1304.1946953\ttest: 1531.9365239\tbest: 1531.9365239 (883)\ttotal: 3m 50s\tremaining: 30.3s\n",
      "884:\tlearn: 1303.8379264\ttest: 1531.9400396\tbest: 1531.9365239 (883)\ttotal: 3m 50s\tremaining: 30s\n",
      "885:\tlearn: 1303.6689113\ttest: 1531.9157822\tbest: 1531.9157822 (885)\ttotal: 3m 51s\tremaining: 29.8s\n",
      "886:\tlearn: 1303.3777089\ttest: 1531.8610726\tbest: 1531.8610726 (886)\ttotal: 3m 51s\tremaining: 29.5s\n",
      "887:\tlearn: 1303.0896923\ttest: 1531.8071492\tbest: 1531.8071492 (887)\ttotal: 3m 51s\tremaining: 29.2s\n",
      "888:\tlearn: 1303.0427687\ttest: 1531.7973700\tbest: 1531.7973700 (888)\ttotal: 3m 52s\tremaining: 29s\n",
      "889:\tlearn: 1302.9710644\ttest: 1531.7886001\tbest: 1531.7886001 (889)\ttotal: 3m 52s\tremaining: 28.7s\n",
      "890:\tlearn: 1302.8526733\ttest: 1531.7968623\tbest: 1531.7886001 (889)\ttotal: 3m 52s\tremaining: 28.5s\n",
      "891:\tlearn: 1302.7298099\ttest: 1531.7629990\tbest: 1531.7629990 (891)\ttotal: 3m 52s\tremaining: 28.2s\n",
      "892:\tlearn: 1302.6678167\ttest: 1531.7760321\tbest: 1531.7629990 (891)\ttotal: 3m 53s\tremaining: 27.9s\n",
      "893:\tlearn: 1302.2435871\ttest: 1531.6269227\tbest: 1531.6269227 (893)\ttotal: 3m 53s\tremaining: 27.7s\n",
      "894:\tlearn: 1302.1053588\ttest: 1531.5757940\tbest: 1531.5757940 (894)\ttotal: 3m 53s\tremaining: 27.4s\n",
      "895:\tlearn: 1301.9555942\ttest: 1531.5308240\tbest: 1531.5308240 (895)\ttotal: 3m 54s\tremaining: 27.2s\n",
      "896:\tlearn: 1301.8700881\ttest: 1531.5314184\tbest: 1531.5308240 (895)\ttotal: 3m 54s\tremaining: 26.9s\n",
      "897:\tlearn: 1301.3930918\ttest: 1531.5313310\tbest: 1531.5308240 (895)\ttotal: 3m 54s\tremaining: 26.6s\n",
      "898:\tlearn: 1301.2667539\ttest: 1531.5271907\tbest: 1531.5271907 (898)\ttotal: 3m 54s\tremaining: 26.4s\n",
      "899:\tlearn: 1301.1518482\ttest: 1531.5041455\tbest: 1531.5041455 (899)\ttotal: 3m 55s\tremaining: 26.1s\n",
      "900:\tlearn: 1300.9019653\ttest: 1531.4468505\tbest: 1531.4468505 (900)\ttotal: 3m 55s\tremaining: 25.9s\n",
      "901:\tlearn: 1300.7377246\ttest: 1531.4061949\tbest: 1531.4061949 (901)\ttotal: 3m 55s\tremaining: 25.6s\n",
      "902:\tlearn: 1300.6844066\ttest: 1531.4156399\tbest: 1531.4061949 (901)\ttotal: 3m 55s\tremaining: 25.3s\n",
      "903:\tlearn: 1300.4346273\ttest: 1531.3820565\tbest: 1531.3820565 (903)\ttotal: 3m 56s\tremaining: 25.1s\n",
      "904:\tlearn: 1300.3695951\ttest: 1531.3727464\tbest: 1531.3727464 (904)\ttotal: 3m 56s\tremaining: 24.8s\n",
      "905:\tlearn: 1300.1758527\ttest: 1531.3752853\tbest: 1531.3727464 (904)\ttotal: 3m 56s\tremaining: 24.6s\n",
      "906:\tlearn: 1299.9519600\ttest: 1531.3426483\tbest: 1531.3426483 (906)\ttotal: 3m 57s\tremaining: 24.3s\n",
      "907:\tlearn: 1299.5194254\ttest: 1531.2536067\tbest: 1531.2536067 (907)\ttotal: 3m 57s\tremaining: 24s\n",
      "908:\tlearn: 1299.3357523\ttest: 1531.2154650\tbest: 1531.2154650 (908)\ttotal: 3m 57s\tremaining: 23.8s\n",
      "909:\tlearn: 1299.2699874\ttest: 1531.2347976\tbest: 1531.2154650 (908)\ttotal: 3m 57s\tremaining: 23.5s\n",
      "910:\tlearn: 1299.2056079\ttest: 1531.3078517\tbest: 1531.2154650 (908)\ttotal: 3m 58s\tremaining: 23.3s\n",
      "911:\tlearn: 1299.0959764\ttest: 1531.2775601\tbest: 1531.2154650 (908)\ttotal: 3m 58s\tremaining: 23s\n",
      "912:\tlearn: 1299.0006530\ttest: 1531.2969540\tbest: 1531.2154650 (908)\ttotal: 3m 58s\tremaining: 22.7s\n",
      "913:\tlearn: 1298.1812853\ttest: 1530.9172235\tbest: 1530.9172235 (913)\ttotal: 3m 59s\tremaining: 22.5s\n",
      "914:\tlearn: 1298.1206362\ttest: 1530.9328329\tbest: 1530.9172235 (913)\ttotal: 3m 59s\tremaining: 22.2s\n",
      "915:\tlearn: 1297.8155589\ttest: 1530.9073893\tbest: 1530.9073893 (915)\ttotal: 3m 59s\tremaining: 22s\n",
      "916:\tlearn: 1297.6887144\ttest: 1530.8793432\tbest: 1530.8793432 (916)\ttotal: 3m 59s\tremaining: 21.7s\n",
      "917:\tlearn: 1297.6335528\ttest: 1530.8671170\tbest: 1530.8671170 (917)\ttotal: 4m\tremaining: 21.5s\n",
      "918:\tlearn: 1297.5594109\ttest: 1530.8485023\tbest: 1530.8485023 (918)\ttotal: 4m\tremaining: 21.2s\n",
      "919:\tlearn: 1297.1635614\ttest: 1530.7951675\tbest: 1530.7951675 (919)\ttotal: 4m\tremaining: 20.9s\n",
      "920:\tlearn: 1296.9145199\ttest: 1530.7562062\tbest: 1530.7562062 (920)\ttotal: 4m 1s\tremaining: 20.7s\n",
      "921:\tlearn: 1296.7531845\ttest: 1530.7055533\tbest: 1530.7055533 (921)\ttotal: 4m 1s\tremaining: 20.4s\n",
      "922:\tlearn: 1296.4507000\ttest: 1530.5030850\tbest: 1530.5030850 (922)\ttotal: 4m 1s\tremaining: 20.2s\n",
      "923:\tlearn: 1296.1635060\ttest: 1530.4100141\tbest: 1530.4100141 (923)\ttotal: 4m 1s\tremaining: 19.9s\n",
      "924:\tlearn: 1296.0020564\ttest: 1530.3464058\tbest: 1530.3464058 (924)\ttotal: 4m 2s\tremaining: 19.6s\n",
      "925:\tlearn: 1295.9058926\ttest: 1530.3563572\tbest: 1530.3464058 (924)\ttotal: 4m 2s\tremaining: 19.4s\n",
      "926:\tlearn: 1295.6352571\ttest: 1530.2938152\tbest: 1530.2938152 (926)\ttotal: 4m 2s\tremaining: 19.1s\n",
      "927:\tlearn: 1295.4517863\ttest: 1530.2972672\tbest: 1530.2938152 (926)\ttotal: 4m 2s\tremaining: 18.8s\n",
      "928:\tlearn: 1295.2935695\ttest: 1530.1996935\tbest: 1530.1996935 (928)\ttotal: 4m 3s\tremaining: 18.6s\n",
      "929:\tlearn: 1295.2167528\ttest: 1530.1938231\tbest: 1530.1938231 (929)\ttotal: 4m 3s\tremaining: 18.3s\n",
      "930:\tlearn: 1295.0717871\ttest: 1530.2104332\tbest: 1530.1938231 (929)\ttotal: 4m 3s\tremaining: 18.1s\n",
      "931:\tlearn: 1294.9154043\ttest: 1530.2339139\tbest: 1530.1938231 (929)\ttotal: 4m 3s\tremaining: 17.8s\n",
      "932:\tlearn: 1294.6410380\ttest: 1530.2345235\tbest: 1530.1938231 (929)\ttotal: 4m 4s\tremaining: 17.5s\n",
      "933:\tlearn: 1294.5639916\ttest: 1530.1763820\tbest: 1530.1763820 (933)\ttotal: 4m 4s\tremaining: 17.3s\n",
      "934:\tlearn: 1294.2033293\ttest: 1530.0794971\tbest: 1530.0794971 (934)\ttotal: 4m 4s\tremaining: 17s\n",
      "935:\tlearn: 1294.1084273\ttest: 1530.0568021\tbest: 1530.0568021 (935)\ttotal: 4m 5s\tremaining: 16.8s\n",
      "936:\tlearn: 1294.0106762\ttest: 1530.0419043\tbest: 1530.0419043 (936)\ttotal: 4m 5s\tremaining: 16.5s\n",
      "937:\tlearn: 1293.9212969\ttest: 1530.0027792\tbest: 1530.0027792 (937)\ttotal: 4m 5s\tremaining: 16.2s\n",
      "938:\tlearn: 1293.7090290\ttest: 1529.9685801\tbest: 1529.9685801 (938)\ttotal: 4m 5s\tremaining: 16s\n",
      "939:\tlearn: 1293.6013369\ttest: 1529.9180882\tbest: 1529.9180882 (939)\ttotal: 4m 6s\tremaining: 15.7s\n",
      "940:\tlearn: 1293.3498382\ttest: 1529.8997565\tbest: 1529.8997565 (940)\ttotal: 4m 6s\tremaining: 15.5s\n",
      "941:\tlearn: 1293.2368010\ttest: 1529.9228605\tbest: 1529.8997565 (940)\ttotal: 4m 6s\tremaining: 15.2s\n",
      "942:\tlearn: 1292.9445930\ttest: 1529.9283718\tbest: 1529.8997565 (940)\ttotal: 4m 7s\tremaining: 14.9s\n",
      "943:\tlearn: 1292.7862461\ttest: 1529.9002741\tbest: 1529.8997565 (940)\ttotal: 4m 7s\tremaining: 14.7s\n",
      "944:\tlearn: 1292.6761282\ttest: 1529.8777514\tbest: 1529.8777514 (944)\ttotal: 4m 7s\tremaining: 14.4s\n",
      "945:\tlearn: 1292.4960261\ttest: 1529.7298929\tbest: 1529.7298929 (945)\ttotal: 4m 7s\tremaining: 14.2s\n",
      "946:\tlearn: 1292.3758162\ttest: 1529.6787292\tbest: 1529.6787292 (946)\ttotal: 4m 8s\tremaining: 13.9s\n",
      "947:\tlearn: 1292.2016379\ttest: 1529.5734990\tbest: 1529.5734990 (947)\ttotal: 4m 8s\tremaining: 13.6s\n",
      "948:\tlearn: 1292.0947986\ttest: 1529.5777414\tbest: 1529.5734990 (947)\ttotal: 4m 8s\tremaining: 13.4s\n",
      "949:\tlearn: 1292.0079383\ttest: 1529.5561452\tbest: 1529.5561452 (949)\ttotal: 4m 9s\tremaining: 13.1s\n",
      "950:\tlearn: 1291.9208442\ttest: 1529.5494866\tbest: 1529.5494866 (950)\ttotal: 4m 9s\tremaining: 12.8s\n",
      "951:\tlearn: 1291.6453661\ttest: 1529.5016928\tbest: 1529.5016928 (951)\ttotal: 4m 9s\tremaining: 12.6s\n",
      "952:\tlearn: 1291.5787420\ttest: 1529.5291243\tbest: 1529.5016928 (951)\ttotal: 4m 9s\tremaining: 12.3s\n",
      "953:\tlearn: 1291.4918421\ttest: 1529.5079846\tbest: 1529.5016928 (951)\ttotal: 4m 10s\tremaining: 12.1s\n",
      "954:\tlearn: 1291.3972386\ttest: 1529.5094506\tbest: 1529.5016928 (951)\ttotal: 4m 10s\tremaining: 11.8s\n",
      "955:\tlearn: 1291.2768942\ttest: 1529.5002145\tbest: 1529.5002145 (955)\ttotal: 4m 10s\tremaining: 11.5s\n",
      "956:\tlearn: 1291.1586848\ttest: 1529.4948735\tbest: 1529.4948735 (956)\ttotal: 4m 10s\tremaining: 11.3s\n",
      "957:\tlearn: 1291.0192011\ttest: 1529.5039306\tbest: 1529.4948735 (956)\ttotal: 4m 11s\tremaining: 11s\n",
      "958:\tlearn: 1290.9493565\ttest: 1529.5061288\tbest: 1529.4948735 (956)\ttotal: 4m 11s\tremaining: 10.7s\n",
      "959:\tlearn: 1290.8715909\ttest: 1529.5103607\tbest: 1529.4948735 (956)\ttotal: 4m 11s\tremaining: 10.5s\n",
      "960:\tlearn: 1290.6897889\ttest: 1529.4960270\tbest: 1529.4948735 (956)\ttotal: 4m 11s\tremaining: 10.2s\n",
      "961:\tlearn: 1290.6710865\ttest: 1529.5015882\tbest: 1529.4948735 (956)\ttotal: 4m 12s\tremaining: 9.96s\n",
      "962:\tlearn: 1290.4518048\ttest: 1529.5051891\tbest: 1529.4948735 (956)\ttotal: 4m 12s\tremaining: 9.7s\n",
      "963:\tlearn: 1290.3200408\ttest: 1529.4839718\tbest: 1529.4839718 (963)\ttotal: 4m 12s\tremaining: 9.44s\n",
      "964:\tlearn: 1290.2388404\ttest: 1529.4720668\tbest: 1529.4720668 (964)\ttotal: 4m 12s\tremaining: 9.17s\n",
      "965:\tlearn: 1290.0818836\ttest: 1529.5059396\tbest: 1529.4720668 (964)\ttotal: 4m 13s\tremaining: 8.91s\n",
      "966:\tlearn: 1289.9300322\ttest: 1529.4392969\tbest: 1529.4392969 (966)\ttotal: 4m 13s\tremaining: 8.65s\n",
      "967:\tlearn: 1289.8527545\ttest: 1529.4453061\tbest: 1529.4392969 (966)\ttotal: 4m 13s\tremaining: 8.39s\n",
      "968:\tlearn: 1289.6261829\ttest: 1529.4347779\tbest: 1529.4347779 (968)\ttotal: 4m 14s\tremaining: 8.13s\n",
      "969:\tlearn: 1289.5520873\ttest: 1529.5069350\tbest: 1529.4347779 (968)\ttotal: 4m 14s\tremaining: 7.87s\n",
      "970:\tlearn: 1289.3343839\ttest: 1529.4521834\tbest: 1529.4347779 (968)\ttotal: 4m 14s\tremaining: 7.6s\n",
      "971:\tlearn: 1289.2329178\ttest: 1529.4513632\tbest: 1529.4347779 (968)\ttotal: 4m 14s\tremaining: 7.34s\n",
      "972:\tlearn: 1289.2014290\ttest: 1529.4355842\tbest: 1529.4347779 (968)\ttotal: 4m 15s\tremaining: 7.08s\n",
      "973:\tlearn: 1289.0131254\ttest: 1529.4364323\tbest: 1529.4347779 (968)\ttotal: 4m 15s\tremaining: 6.82s\n",
      "974:\tlearn: 1288.9219703\ttest: 1529.4311559\tbest: 1529.4311559 (974)\ttotal: 4m 15s\tremaining: 6.56s\n",
      "975:\tlearn: 1288.7437205\ttest: 1529.4548352\tbest: 1529.4311559 (974)\ttotal: 4m 16s\tremaining: 6.3s\n",
      "976:\tlearn: 1288.5818965\ttest: 1529.4061871\tbest: 1529.4061871 (976)\ttotal: 4m 16s\tremaining: 6.03s\n",
      "977:\tlearn: 1288.3739240\ttest: 1529.3392707\tbest: 1529.3392707 (977)\ttotal: 4m 16s\tremaining: 5.77s\n",
      "978:\tlearn: 1288.0502978\ttest: 1529.2496107\tbest: 1529.2496107 (978)\ttotal: 4m 16s\tremaining: 5.51s\n",
      "979:\tlearn: 1287.6648336\ttest: 1529.2719437\tbest: 1529.2496107 (978)\ttotal: 4m 17s\tremaining: 5.25s\n",
      "980:\tlearn: 1287.5522641\ttest: 1529.3230092\tbest: 1529.2496107 (978)\ttotal: 4m 17s\tremaining: 4.99s\n",
      "981:\tlearn: 1287.3863301\ttest: 1529.2768431\tbest: 1529.2496107 (978)\ttotal: 4m 17s\tremaining: 4.72s\n",
      "982:\tlearn: 1287.2344304\ttest: 1529.2984499\tbest: 1529.2496107 (978)\ttotal: 4m 18s\tremaining: 4.46s\n",
      "983:\tlearn: 1287.1419092\ttest: 1529.2561329\tbest: 1529.2496107 (978)\ttotal: 4m 18s\tremaining: 4.2s\n",
      "984:\tlearn: 1287.0237303\ttest: 1529.2154080\tbest: 1529.2154080 (984)\ttotal: 4m 18s\tremaining: 3.94s\n",
      "985:\tlearn: 1286.7967657\ttest: 1529.1830488\tbest: 1529.1830488 (985)\ttotal: 4m 18s\tremaining: 3.67s\n",
      "986:\tlearn: 1286.6416528\ttest: 1529.1033350\tbest: 1529.1033350 (986)\ttotal: 4m 19s\tremaining: 3.41s\n",
      "987:\tlearn: 1286.5218218\ttest: 1529.1071619\tbest: 1529.1033350 (986)\ttotal: 4m 19s\tremaining: 3.15s\n",
      "988:\tlearn: 1286.1413398\ttest: 1529.0092094\tbest: 1529.0092094 (988)\ttotal: 4m 19s\tremaining: 2.89s\n",
      "989:\tlearn: 1286.0716782\ttest: 1529.0064893\tbest: 1529.0064893 (989)\ttotal: 4m 19s\tremaining: 2.63s\n",
      "990:\tlearn: 1286.0407942\ttest: 1529.0045163\tbest: 1529.0045163 (990)\ttotal: 4m 20s\tremaining: 2.36s\n",
      "991:\tlearn: 1285.7778189\ttest: 1528.9912598\tbest: 1528.9912598 (991)\ttotal: 4m 20s\tremaining: 2.1s\n",
      "992:\tlearn: 1285.5275264\ttest: 1529.0034340\tbest: 1528.9912598 (991)\ttotal: 4m 20s\tremaining: 1.84s\n",
      "993:\tlearn: 1285.4274870\ttest: 1528.9846197\tbest: 1528.9846197 (993)\ttotal: 4m 20s\tremaining: 1.57s\n",
      "994:\tlearn: 1285.2476298\ttest: 1528.9430027\tbest: 1528.9430027 (994)\ttotal: 4m 21s\tremaining: 1.31s\n",
      "995:\tlearn: 1285.0618981\ttest: 1528.8600288\tbest: 1528.8600288 (995)\ttotal: 4m 21s\tremaining: 1.05s\n",
      "996:\tlearn: 1284.7873459\ttest: 1528.8087326\tbest: 1528.8087326 (996)\ttotal: 4m 21s\tremaining: 788ms\n",
      "997:\tlearn: 1284.7103201\ttest: 1528.7983064\tbest: 1528.7983064 (997)\ttotal: 4m 22s\tremaining: 525ms\n",
      "998:\tlearn: 1284.6858368\ttest: 1528.8119800\tbest: 1528.7983064 (997)\ttotal: 4m 22s\tremaining: 263ms\n",
      "999:\tlearn: 1284.4256007\ttest: 1528.7650073\tbest: 1528.7650073 (999)\ttotal: 4m 22s\tremaining: 0us\n",
      "\n",
      "bestTest = 1528.765007\n",
      "bestIteration = 999\n",
      "\n",
      "Training on fold [1/3]\n",
      "0:\tlearn: 6121.2330362\ttest: 6105.3184415\tbest: 6105.3184415 (0)\ttotal: 314ms\tremaining: 5m 13s\n",
      "1:\tlearn: 5606.5892348\ttest: 5595.9393841\tbest: 5595.9393841 (1)\ttotal: 634ms\tremaining: 5m 16s\n",
      "2:\tlearn: 5147.5521940\ttest: 5138.4169927\tbest: 5138.4169927 (2)\ttotal: 945ms\tremaining: 5m 14s\n",
      "3:\tlearn: 4732.9174080\ttest: 4726.4207104\tbest: 4726.4207104 (3)\ttotal: 1.23s\tremaining: 5m 7s\n",
      "4:\tlearn: 4362.7987113\ttest: 4363.0086090\tbest: 4363.0086090 (4)\ttotal: 1.54s\tremaining: 5m 6s\n",
      "5:\tlearn: 4033.8877464\ttest: 4035.4500771\tbest: 4035.4500771 (5)\ttotal: 1.83s\tremaining: 5m 4s\n",
      "6:\tlearn: 3739.0883497\ttest: 3741.0729635\tbest: 3741.0729635 (6)\ttotal: 2.17s\tremaining: 5m 8s\n",
      "7:\tlearn: 3478.9453758\ttest: 3486.0810171\tbest: 3486.0810171 (7)\ttotal: 2.5s\tremaining: 5m 9s\n",
      "8:\tlearn: 3253.6827637\ttest: 3261.7513803\tbest: 3261.7513803 (8)\ttotal: 2.85s\tremaining: 5m 13s\n",
      "9:\tlearn: 3056.2468095\ttest: 3065.2214995\tbest: 3065.2214995 (9)\ttotal: 3.12s\tremaining: 5m 8s\n",
      "10:\tlearn: 2880.8076578\ttest: 2890.5086117\tbest: 2890.5086117 (10)\ttotal: 3.41s\tremaining: 5m 6s\n",
      "11:\tlearn: 2729.8422032\ttest: 2740.6303736\tbest: 2740.6303736 (11)\ttotal: 3.67s\tremaining: 5m 2s\n",
      "12:\tlearn: 2600.5487979\ttest: 2614.1010789\tbest: 2614.1010789 (12)\ttotal: 3.93s\tremaining: 4m 58s\n",
      "13:\tlearn: 2488.5503586\ttest: 2502.9303717\tbest: 2502.9303717 (13)\ttotal: 4.14s\tremaining: 4m 51s\n",
      "14:\tlearn: 2387.6413897\ttest: 2402.2990285\tbest: 2402.2990285 (14)\ttotal: 4.42s\tremaining: 4m 50s\n",
      "15:\tlearn: 2303.9582387\ttest: 2320.2611357\tbest: 2320.2611357 (15)\ttotal: 4.65s\tremaining: 4m 46s\n",
      "16:\tlearn: 2229.7432624\ttest: 2247.1401420\tbest: 2247.1401420 (16)\ttotal: 4.88s\tremaining: 4m 42s\n",
      "17:\tlearn: 2165.7182105\ttest: 2183.7741478\tbest: 2183.7741478 (17)\ttotal: 5.11s\tremaining: 4m 38s\n",
      "18:\tlearn: 2110.3427558\ttest: 2128.5113543\tbest: 2128.5113543 (18)\ttotal: 5.42s\tremaining: 4m 39s\n",
      "19:\tlearn: 2064.2385708\ttest: 2083.5149996\tbest: 2083.5149996 (19)\ttotal: 5.67s\tremaining: 4m 37s\n",
      "20:\tlearn: 2022.6542884\ttest: 2043.0954691\tbest: 2043.0954691 (20)\ttotal: 5.93s\tremaining: 4m 36s\n",
      "21:\tlearn: 1986.6767012\ttest: 2008.1312960\tbest: 2008.1312960 (21)\ttotal: 6.18s\tremaining: 4m 34s\n",
      "22:\tlearn: 1955.7781476\ttest: 1977.7963987\tbest: 1977.7963987 (22)\ttotal: 6.43s\tremaining: 4m 32s\n",
      "23:\tlearn: 1929.2797892\ttest: 1951.3902205\tbest: 1951.3902205 (23)\ttotal: 6.71s\tremaining: 4m 32s\n",
      "24:\tlearn: 1907.4660246\ttest: 1929.9763818\tbest: 1929.9763818 (24)\ttotal: 6.96s\tremaining: 4m 31s\n",
      "25:\tlearn: 1886.9892512\ttest: 1911.1402391\tbest: 1911.1402391 (25)\ttotal: 7.21s\tremaining: 4m 30s\n",
      "26:\tlearn: 1867.6261370\ttest: 1891.9423225\tbest: 1891.9423225 (26)\ttotal: 7.5s\tremaining: 4m 30s\n",
      "27:\tlearn: 1847.7223459\ttest: 1872.9718650\tbest: 1872.9718650 (27)\ttotal: 7.77s\tremaining: 4m 29s\n",
      "28:\tlearn: 1830.1753836\ttest: 1855.2403623\tbest: 1855.2403623 (28)\ttotal: 8.02s\tremaining: 4m 28s\n",
      "29:\tlearn: 1813.9983042\ttest: 1839.5164983\tbest: 1839.5164983 (29)\ttotal: 8.25s\tremaining: 4m 26s\n",
      "30:\tlearn: 1799.1965992\ttest: 1825.2563114\tbest: 1825.2563114 (30)\ttotal: 8.49s\tremaining: 4m 25s\n",
      "31:\tlearn: 1787.3469417\ttest: 1813.8258485\tbest: 1813.8258485 (31)\ttotal: 8.71s\tremaining: 4m 23s\n",
      "32:\tlearn: 1775.1865760\ttest: 1802.8532129\tbest: 1802.8532129 (32)\ttotal: 8.94s\tremaining: 4m 22s\n",
      "33:\tlearn: 1764.1200236\ttest: 1791.8945482\tbest: 1791.8945482 (33)\ttotal: 9.16s\tremaining: 4m 20s\n",
      "34:\tlearn: 1754.4579592\ttest: 1783.1269651\tbest: 1783.1269651 (34)\ttotal: 9.37s\tremaining: 4m 18s\n",
      "35:\tlearn: 1746.8121762\ttest: 1775.8486440\tbest: 1775.8486440 (35)\ttotal: 9.58s\tremaining: 4m 16s\n",
      "36:\tlearn: 1741.3684253\ttest: 1770.8514965\tbest: 1770.8514965 (36)\ttotal: 9.79s\tremaining: 4m 14s\n",
      "37:\tlearn: 1735.1683715\ttest: 1765.4839292\tbest: 1765.4839292 (37)\ttotal: 10s\tremaining: 4m 14s\n",
      "38:\tlearn: 1726.0560648\ttest: 1757.0094931\tbest: 1757.0094931 (38)\ttotal: 10.3s\tremaining: 4m 14s\n",
      "39:\tlearn: 1720.5336523\ttest: 1751.7284543\tbest: 1751.7284543 (39)\ttotal: 10.6s\tremaining: 4m 13s\n",
      "40:\tlearn: 1715.8623333\ttest: 1747.5395991\tbest: 1747.5395991 (40)\ttotal: 10.8s\tremaining: 4m 13s\n",
      "41:\tlearn: 1712.1587600\ttest: 1744.1035306\tbest: 1744.1035306 (41)\ttotal: 11.1s\tremaining: 4m 12s\n",
      "42:\tlearn: 1707.9956308\ttest: 1740.9378972\tbest: 1740.9378972 (42)\ttotal: 11.3s\tremaining: 4m 11s\n",
      "43:\tlearn: 1703.7305188\ttest: 1737.1308416\tbest: 1737.1308416 (43)\ttotal: 11.6s\tremaining: 4m 12s\n",
      "44:\tlearn: 1699.0279802\ttest: 1733.8268609\tbest: 1733.8268609 (44)\ttotal: 11.9s\tremaining: 4m 11s\n",
      "45:\tlearn: 1694.2669216\ttest: 1729.4614452\tbest: 1729.4614452 (45)\ttotal: 12.1s\tremaining: 4m 11s\n",
      "46:\tlearn: 1691.6274787\ttest: 1727.0894380\tbest: 1727.0894380 (46)\ttotal: 12.3s\tremaining: 4m 9s\n",
      "47:\tlearn: 1688.4662215\ttest: 1724.3218198\tbest: 1724.3218198 (47)\ttotal: 12.6s\tremaining: 4m 10s\n",
      "48:\tlearn: 1685.3304711\ttest: 1722.0672157\tbest: 1722.0672157 (48)\ttotal: 12.9s\tremaining: 4m 9s\n",
      "49:\tlearn: 1682.5299725\ttest: 1719.4749204\tbest: 1719.4749204 (49)\ttotal: 13.1s\tremaining: 4m 8s\n",
      "50:\tlearn: 1678.7967055\ttest: 1715.7635149\tbest: 1715.7635149 (50)\ttotal: 13.4s\tremaining: 4m 9s\n",
      "51:\tlearn: 1675.1605211\ttest: 1712.8445194\tbest: 1712.8445194 (51)\ttotal: 13.6s\tremaining: 4m 7s\n",
      "52:\tlearn: 1672.2318149\ttest: 1710.1444241\tbest: 1710.1444241 (52)\ttotal: 13.8s\tremaining: 4m 6s\n",
      "53:\tlearn: 1669.3311265\ttest: 1707.9431470\tbest: 1707.9431470 (53)\ttotal: 14.1s\tremaining: 4m 6s\n",
      "54:\tlearn: 1666.4941444\ttest: 1705.9762828\tbest: 1705.9762828 (54)\ttotal: 14.3s\tremaining: 4m 5s\n",
      "55:\tlearn: 1664.6835885\ttest: 1704.7211231\tbest: 1704.7211231 (55)\ttotal: 14.6s\tremaining: 4m 5s\n",
      "56:\tlearn: 1662.3575914\ttest: 1703.1257430\tbest: 1703.1257430 (56)\ttotal: 14.8s\tremaining: 4m 4s\n",
      "57:\tlearn: 1659.4902813\ttest: 1700.7973406\tbest: 1700.7973406 (57)\ttotal: 15.1s\tremaining: 4m 5s\n",
      "58:\tlearn: 1656.7153290\ttest: 1698.9019451\tbest: 1698.9019451 (58)\ttotal: 15.3s\tremaining: 4m 4s\n",
      "59:\tlearn: 1654.5837425\ttest: 1697.3775455\tbest: 1697.3775455 (59)\ttotal: 15.6s\tremaining: 4m 4s\n",
      "60:\tlearn: 1651.3728922\ttest: 1695.3541706\tbest: 1695.3541706 (60)\ttotal: 15.8s\tremaining: 4m 3s\n",
      "61:\tlearn: 1649.7142493\ttest: 1694.3671187\tbest: 1694.3671187 (61)\ttotal: 16.1s\tremaining: 4m 3s\n",
      "62:\tlearn: 1647.6391468\ttest: 1692.6622091\tbest: 1692.6622091 (62)\ttotal: 16.4s\tremaining: 4m 3s\n",
      "63:\tlearn: 1645.9479873\ttest: 1691.7774562\tbest: 1691.7774562 (63)\ttotal: 16.6s\tremaining: 4m 2s\n",
      "64:\tlearn: 1644.7709236\ttest: 1690.8301762\tbest: 1690.8301762 (64)\ttotal: 16.8s\tremaining: 4m 1s\n",
      "65:\tlearn: 1642.8073993\ttest: 1689.4850174\tbest: 1689.4850174 (65)\ttotal: 17.1s\tremaining: 4m 1s\n",
      "66:\tlearn: 1641.0336023\ttest: 1688.1332969\tbest: 1688.1332969 (66)\ttotal: 17.3s\tremaining: 4m\n",
      "67:\tlearn: 1638.2665778\ttest: 1686.3604094\tbest: 1686.3604094 (67)\ttotal: 17.5s\tremaining: 3m 59s\n",
      "68:\tlearn: 1636.3620444\ttest: 1684.8047502\tbest: 1684.8047502 (68)\ttotal: 17.7s\tremaining: 3m 59s\n",
      "69:\tlearn: 1633.5032665\ttest: 1682.7974187\tbest: 1682.7974187 (69)\ttotal: 18s\tremaining: 3m 59s\n",
      "70:\tlearn: 1630.6182153\ttest: 1680.6634519\tbest: 1680.6634519 (70)\ttotal: 18.3s\tremaining: 3m 59s\n",
      "71:\tlearn: 1628.9950647\ttest: 1679.7265273\tbest: 1679.7265273 (71)\ttotal: 18.5s\tremaining: 3m 58s\n",
      "72:\tlearn: 1626.9868587\ttest: 1678.1521484\tbest: 1678.1521484 (72)\ttotal: 18.8s\tremaining: 3m 58s\n",
      "73:\tlearn: 1626.0619971\ttest: 1677.6563821\tbest: 1677.6563821 (73)\ttotal: 19s\tremaining: 3m 58s\n",
      "74:\tlearn: 1624.2030287\ttest: 1676.5338876\tbest: 1676.5338876 (74)\ttotal: 19.3s\tremaining: 3m 57s\n",
      "75:\tlearn: 1622.5809706\ttest: 1675.5359847\tbest: 1675.5359847 (75)\ttotal: 19.5s\tremaining: 3m 57s\n",
      "76:\tlearn: 1620.6354385\ttest: 1673.8762338\tbest: 1673.8762338 (76)\ttotal: 19.8s\tremaining: 3m 57s\n",
      "77:\tlearn: 1618.7227821\ttest: 1672.3496762\tbest: 1672.3496762 (77)\ttotal: 20s\tremaining: 3m 56s\n",
      "78:\tlearn: 1617.5254944\ttest: 1671.5610789\tbest: 1671.5610789 (78)\ttotal: 20.3s\tremaining: 3m 56s\n",
      "79:\tlearn: 1616.1343993\ttest: 1670.4498312\tbest: 1670.4498312 (79)\ttotal: 20.5s\tremaining: 3m 56s\n",
      "80:\tlearn: 1615.0118800\ttest: 1669.8712433\tbest: 1669.8712433 (80)\ttotal: 20.8s\tremaining: 3m 55s\n",
      "81:\tlearn: 1613.5286678\ttest: 1668.9790248\tbest: 1668.9790248 (81)\ttotal: 21s\tremaining: 3m 55s\n",
      "82:\tlearn: 1610.9476285\ttest: 1667.1509784\tbest: 1667.1509784 (82)\ttotal: 21.3s\tremaining: 3m 54s\n",
      "83:\tlearn: 1609.4100852\ttest: 1666.1460996\tbest: 1666.1460996 (83)\ttotal: 21.5s\tremaining: 3m 54s\n",
      "84:\tlearn: 1607.1724167\ttest: 1664.9025153\tbest: 1664.9025153 (84)\ttotal: 21.7s\tremaining: 3m 54s\n",
      "85:\tlearn: 1605.7917681\ttest: 1663.9962634\tbest: 1663.9962634 (85)\ttotal: 21.9s\tremaining: 3m 52s\n",
      "86:\tlearn: 1604.0563587\ttest: 1663.1191141\tbest: 1663.1191141 (86)\ttotal: 22.2s\tremaining: 3m 52s\n",
      "87:\tlearn: 1601.9213177\ttest: 1661.3433350\tbest: 1661.3433350 (87)\ttotal: 22.5s\tremaining: 3m 53s\n",
      "88:\tlearn: 1600.7630968\ttest: 1660.7740203\tbest: 1660.7740203 (88)\ttotal: 22.7s\tremaining: 3m 52s\n",
      "89:\tlearn: 1599.6524906\ttest: 1659.9125148\tbest: 1659.9125148 (89)\ttotal: 23s\tremaining: 3m 52s\n",
      "90:\tlearn: 1598.8707735\ttest: 1659.5044978\tbest: 1659.5044978 (90)\ttotal: 23.2s\tremaining: 3m 51s\n",
      "91:\tlearn: 1596.5759791\ttest: 1657.7410034\tbest: 1657.7410034 (91)\ttotal: 23.4s\tremaining: 3m 51s\n",
      "92:\tlearn: 1595.0655880\ttest: 1656.8617738\tbest: 1656.8617738 (92)\ttotal: 23.7s\tremaining: 3m 50s\n",
      "93:\tlearn: 1594.2071011\ttest: 1656.1473619\tbest: 1656.1473619 (93)\ttotal: 23.9s\tremaining: 3m 50s\n",
      "94:\tlearn: 1593.1571610\ttest: 1655.3708192\tbest: 1655.3708192 (94)\ttotal: 24.1s\tremaining: 3m 49s\n",
      "95:\tlearn: 1591.6369134\ttest: 1654.3167086\tbest: 1654.3167086 (95)\ttotal: 24.3s\tremaining: 3m 48s\n",
      "96:\tlearn: 1590.2820910\ttest: 1653.5848920\tbest: 1653.5848920 (96)\ttotal: 24.5s\tremaining: 3m 48s\n",
      "97:\tlearn: 1588.4629716\ttest: 1652.4103256\tbest: 1652.4103256 (97)\ttotal: 24.7s\tremaining: 3m 47s\n",
      "98:\tlearn: 1586.6079093\ttest: 1651.1987189\tbest: 1651.1987189 (98)\ttotal: 24.9s\tremaining: 3m 46s\n",
      "99:\tlearn: 1585.3940698\ttest: 1650.3916233\tbest: 1650.3916233 (99)\ttotal: 25.2s\tremaining: 3m 46s\n",
      "100:\tlearn: 1584.0084465\ttest: 1649.2992540\tbest: 1649.2992540 (100)\ttotal: 25.4s\tremaining: 3m 46s\n",
      "101:\tlearn: 1582.5697116\ttest: 1648.2978455\tbest: 1648.2978455 (101)\ttotal: 25.7s\tremaining: 3m 46s\n",
      "102:\tlearn: 1581.0679859\ttest: 1647.1837270\tbest: 1647.1837270 (102)\ttotal: 25.9s\tremaining: 3m 45s\n",
      "103:\tlearn: 1579.3344363\ttest: 1645.9835943\tbest: 1645.9835943 (103)\ttotal: 26.2s\tremaining: 3m 45s\n",
      "104:\tlearn: 1577.9968670\ttest: 1645.3238665\tbest: 1645.3238665 (104)\ttotal: 26.4s\tremaining: 3m 44s\n",
      "105:\tlearn: 1577.1189547\ttest: 1644.9459891\tbest: 1644.9459891 (105)\ttotal: 26.7s\tremaining: 3m 44s\n",
      "106:\tlearn: 1576.5735996\ttest: 1644.8922783\tbest: 1644.8922783 (106)\ttotal: 26.9s\tremaining: 3m 44s\n",
      "107:\tlearn: 1575.3603198\ttest: 1644.1404156\tbest: 1644.1404156 (107)\ttotal: 27.1s\tremaining: 3m 44s\n",
      "108:\tlearn: 1574.3254807\ttest: 1643.6784162\tbest: 1643.6784162 (108)\ttotal: 27.4s\tremaining: 3m 43s\n",
      "109:\tlearn: 1573.6265743\ttest: 1643.1323549\tbest: 1643.1323549 (109)\ttotal: 27.6s\tremaining: 3m 43s\n",
      "110:\tlearn: 1571.7656433\ttest: 1641.5424600\tbest: 1641.5424600 (110)\ttotal: 27.8s\tremaining: 3m 42s\n",
      "111:\tlearn: 1570.2786503\ttest: 1640.4555912\tbest: 1640.4555912 (111)\ttotal: 28s\tremaining: 3m 41s\n",
      "112:\tlearn: 1569.4517882\ttest: 1640.1603258\tbest: 1640.1603258 (112)\ttotal: 28.3s\tremaining: 3m 41s\n",
      "113:\tlearn: 1568.7510312\ttest: 1639.6836376\tbest: 1639.6836376 (113)\ttotal: 28.5s\tremaining: 3m 41s\n",
      "114:\tlearn: 1568.0927164\ttest: 1639.1570132\tbest: 1639.1570132 (114)\ttotal: 28.7s\tremaining: 3m 41s\n",
      "115:\tlearn: 1566.4128955\ttest: 1638.1036522\tbest: 1638.1036522 (115)\ttotal: 29s\tremaining: 3m 40s\n",
      "116:\tlearn: 1565.6447321\ttest: 1637.5836419\tbest: 1637.5836419 (116)\ttotal: 29.2s\tremaining: 3m 40s\n",
      "117:\tlearn: 1565.1859073\ttest: 1637.3444364\tbest: 1637.3444364 (117)\ttotal: 29.4s\tremaining: 3m 39s\n",
      "118:\tlearn: 1563.8486665\ttest: 1636.3735775\tbest: 1636.3735775 (118)\ttotal: 29.6s\tremaining: 3m 39s\n",
      "119:\tlearn: 1562.7232950\ttest: 1635.8096104\tbest: 1635.8096104 (119)\ttotal: 29.9s\tremaining: 3m 39s\n",
      "120:\tlearn: 1561.2590795\ttest: 1634.9359988\tbest: 1634.9359988 (120)\ttotal: 30.2s\tremaining: 3m 39s\n",
      "121:\tlearn: 1560.4695058\ttest: 1634.4740592\tbest: 1634.4740592 (121)\ttotal: 30.4s\tremaining: 3m 38s\n",
      "122:\tlearn: 1559.2364941\ttest: 1633.7560759\tbest: 1633.7560759 (122)\ttotal: 30.7s\tremaining: 3m 39s\n",
      "123:\tlearn: 1558.2546553\ttest: 1633.1159615\tbest: 1633.1159615 (123)\ttotal: 31s\tremaining: 3m 38s\n",
      "124:\tlearn: 1557.8913735\ttest: 1632.9657301\tbest: 1632.9657301 (124)\ttotal: 31.3s\tremaining: 3m 38s\n",
      "125:\tlearn: 1557.1761510\ttest: 1632.4082970\tbest: 1632.4082970 (125)\ttotal: 31.6s\tremaining: 3m 39s\n",
      "126:\tlearn: 1556.5922115\ttest: 1632.0626517\tbest: 1632.0626517 (126)\ttotal: 31.8s\tremaining: 3m 38s\n",
      "127:\tlearn: 1555.0727317\ttest: 1631.1822658\tbest: 1631.1822658 (127)\ttotal: 32.1s\tremaining: 3m 38s\n",
      "128:\tlearn: 1554.0843117\ttest: 1630.6584772\tbest: 1630.6584772 (128)\ttotal: 32.5s\tremaining: 3m 39s\n",
      "129:\tlearn: 1552.1059044\ttest: 1629.5335089\tbest: 1629.5335089 (129)\ttotal: 32.8s\tremaining: 3m 39s\n",
      "130:\tlearn: 1551.6623960\ttest: 1629.2706142\tbest: 1629.2706142 (130)\ttotal: 33s\tremaining: 3m 38s\n",
      "131:\tlearn: 1551.5733340\ttest: 1629.2218161\tbest: 1629.2218161 (131)\ttotal: 33.2s\tremaining: 3m 38s\n",
      "132:\tlearn: 1550.3661866\ttest: 1628.2147891\tbest: 1628.2147891 (132)\ttotal: 33.5s\tremaining: 3m 38s\n",
      "133:\tlearn: 1547.9752811\ttest: 1626.4656779\tbest: 1626.4656779 (133)\ttotal: 33.8s\tremaining: 3m 38s\n",
      "134:\tlearn: 1546.8631996\ttest: 1625.8177104\tbest: 1625.8177104 (134)\ttotal: 34.1s\tremaining: 3m 38s\n",
      "135:\tlearn: 1545.5214673\ttest: 1625.1217987\tbest: 1625.1217987 (135)\ttotal: 34.4s\tremaining: 3m 38s\n",
      "136:\tlearn: 1544.6168283\ttest: 1624.8077024\tbest: 1624.8077024 (136)\ttotal: 34.6s\tremaining: 3m 38s\n",
      "137:\tlearn: 1543.8977286\ttest: 1624.4524085\tbest: 1624.4524085 (137)\ttotal: 34.9s\tremaining: 3m 37s\n",
      "138:\tlearn: 1543.1709783\ttest: 1624.1283932\tbest: 1624.1283932 (138)\ttotal: 35.1s\tremaining: 3m 37s\n",
      "139:\tlearn: 1542.8892022\ttest: 1623.8105545\tbest: 1623.8105545 (139)\ttotal: 35.3s\tremaining: 3m 37s\n",
      "140:\tlearn: 1541.3988091\ttest: 1622.9685583\tbest: 1622.9685583 (140)\ttotal: 35.6s\tremaining: 3m 36s\n",
      "141:\tlearn: 1540.4038190\ttest: 1622.3676002\tbest: 1622.3676002 (141)\ttotal: 35.8s\tremaining: 3m 36s\n",
      "142:\tlearn: 1539.3295935\ttest: 1621.7269540\tbest: 1621.7269540 (142)\ttotal: 36.1s\tremaining: 3m 36s\n",
      "143:\tlearn: 1538.5415325\ttest: 1621.3748796\tbest: 1621.3748796 (143)\ttotal: 36.4s\tremaining: 3m 36s\n",
      "144:\tlearn: 1537.5374887\ttest: 1620.7327846\tbest: 1620.7327846 (144)\ttotal: 36.7s\tremaining: 3m 36s\n",
      "145:\tlearn: 1537.3592253\ttest: 1620.6295068\tbest: 1620.6295068 (145)\ttotal: 36.9s\tremaining: 3m 36s\n",
      "146:\tlearn: 1535.5740958\ttest: 1619.4793716\tbest: 1619.4793716 (146)\ttotal: 37.2s\tremaining: 3m 36s\n",
      "147:\tlearn: 1534.7389821\ttest: 1618.9265775\tbest: 1618.9265775 (147)\ttotal: 37.6s\tremaining: 3m 36s\n",
      "148:\tlearn: 1533.5635898\ttest: 1618.3160203\tbest: 1618.3160203 (148)\ttotal: 37.8s\tremaining: 3m 36s\n",
      "149:\tlearn: 1532.1273805\ttest: 1617.3565778\tbest: 1617.3565778 (149)\ttotal: 38s\tremaining: 3m 35s\n",
      "150:\tlearn: 1531.8454526\ttest: 1617.3030793\tbest: 1617.3030793 (150)\ttotal: 38.3s\tremaining: 3m 35s\n",
      "151:\tlearn: 1531.0497996\ttest: 1616.8850180\tbest: 1616.8850180 (151)\ttotal: 38.6s\tremaining: 3m 35s\n",
      "152:\tlearn: 1530.3404270\ttest: 1616.5277893\tbest: 1616.5277893 (152)\ttotal: 38.9s\tremaining: 3m 35s\n",
      "153:\tlearn: 1529.8847719\ttest: 1616.5091102\tbest: 1616.5091102 (153)\ttotal: 39.2s\tremaining: 3m 35s\n",
      "154:\tlearn: 1528.6583183\ttest: 1615.9072364\tbest: 1615.9072364 (154)\ttotal: 39.4s\tremaining: 3m 35s\n",
      "155:\tlearn: 1527.8306300\ttest: 1615.4145938\tbest: 1615.4145938 (155)\ttotal: 39.7s\tremaining: 3m 34s\n",
      "156:\tlearn: 1527.2158467\ttest: 1615.0383616\tbest: 1615.0383616 (156)\ttotal: 40s\tremaining: 3m 34s\n",
      "157:\tlearn: 1525.7639430\ttest: 1614.3678291\tbest: 1614.3678291 (157)\ttotal: 40.2s\tremaining: 3m 34s\n",
      "158:\tlearn: 1524.7249026\ttest: 1613.7266034\tbest: 1613.7266034 (158)\ttotal: 40.5s\tremaining: 3m 34s\n",
      "159:\tlearn: 1523.6876794\ttest: 1612.9817592\tbest: 1612.9817592 (159)\ttotal: 40.7s\tremaining: 3m 33s\n",
      "160:\tlearn: 1523.1094546\ttest: 1612.5187674\tbest: 1612.5187674 (160)\ttotal: 41s\tremaining: 3m 33s\n",
      "161:\tlearn: 1522.3524861\ttest: 1612.0317980\tbest: 1612.0317980 (161)\ttotal: 41.3s\tremaining: 3m 33s\n",
      "162:\tlearn: 1521.2996757\ttest: 1611.6452747\tbest: 1611.6452747 (162)\ttotal: 41.6s\tremaining: 3m 33s\n",
      "163:\tlearn: 1521.0366623\ttest: 1611.6101320\tbest: 1611.6101320 (163)\ttotal: 41.9s\tremaining: 3m 33s\n",
      "164:\tlearn: 1520.5451377\ttest: 1611.3966311\tbest: 1611.3966311 (164)\ttotal: 42.2s\tremaining: 3m 33s\n",
      "165:\tlearn: 1519.4191879\ttest: 1611.0636975\tbest: 1611.0636975 (165)\ttotal: 42.6s\tremaining: 3m 33s\n",
      "166:\tlearn: 1518.4517976\ttest: 1610.4826939\tbest: 1610.4826939 (166)\ttotal: 42.8s\tremaining: 3m 33s\n",
      "167:\tlearn: 1518.1407208\ttest: 1610.3443573\tbest: 1610.3443573 (167)\ttotal: 43.1s\tremaining: 3m 33s\n",
      "168:\tlearn: 1517.0417085\ttest: 1609.8059562\tbest: 1609.8059562 (168)\ttotal: 43.3s\tremaining: 3m 32s\n",
      "169:\tlearn: 1516.5949860\ttest: 1609.8034196\tbest: 1609.8034196 (169)\ttotal: 43.6s\tremaining: 3m 32s\n",
      "170:\tlearn: 1515.9460792\ttest: 1609.3550418\tbest: 1609.3550418 (170)\ttotal: 43.8s\tremaining: 3m 32s\n",
      "171:\tlearn: 1515.4526032\ttest: 1609.0453031\tbest: 1609.0453031 (171)\ttotal: 44.1s\tremaining: 3m 32s\n",
      "172:\tlearn: 1515.0397125\ttest: 1608.8500500\tbest: 1608.8500500 (172)\ttotal: 44.4s\tremaining: 3m 32s\n",
      "173:\tlearn: 1513.3731510\ttest: 1607.9550267\tbest: 1607.9550267 (173)\ttotal: 44.7s\tremaining: 3m 32s\n",
      "174:\tlearn: 1512.3401014\ttest: 1607.3283448\tbest: 1607.3283448 (174)\ttotal: 44.9s\tremaining: 3m 31s\n",
      "175:\tlearn: 1511.7359340\ttest: 1607.1631358\tbest: 1607.1631358 (175)\ttotal: 45.1s\tremaining: 3m 31s\n",
      "176:\tlearn: 1511.1755776\ttest: 1606.8389554\tbest: 1606.8389554 (176)\ttotal: 45.4s\tremaining: 3m 31s\n",
      "177:\tlearn: 1510.0352726\ttest: 1606.3827210\tbest: 1606.3827210 (177)\ttotal: 45.7s\tremaining: 3m 31s\n",
      "178:\tlearn: 1509.1867935\ttest: 1606.0178147\tbest: 1606.0178147 (178)\ttotal: 46s\tremaining: 3m 30s\n",
      "179:\tlearn: 1507.8436533\ttest: 1605.3103959\tbest: 1605.3103959 (179)\ttotal: 46.3s\tremaining: 3m 30s\n",
      "180:\tlearn: 1507.5924929\ttest: 1605.2742747\tbest: 1605.2742747 (180)\ttotal: 46.5s\tremaining: 3m 30s\n",
      "181:\tlearn: 1506.7770743\ttest: 1604.6750255\tbest: 1604.6750255 (181)\ttotal: 46.8s\tremaining: 3m 30s\n",
      "182:\tlearn: 1506.3435130\ttest: 1604.6153906\tbest: 1604.6153906 (182)\ttotal: 47s\tremaining: 3m 30s\n",
      "183:\tlearn: 1505.8340500\ttest: 1604.5375373\tbest: 1604.5375373 (183)\ttotal: 47.3s\tremaining: 3m 29s\n",
      "184:\tlearn: 1504.9984863\ttest: 1604.2756547\tbest: 1604.2756547 (184)\ttotal: 47.6s\tremaining: 3m 29s\n",
      "185:\tlearn: 1504.6135016\ttest: 1604.1146809\tbest: 1604.1146809 (185)\ttotal: 47.8s\tremaining: 3m 29s\n",
      "186:\tlearn: 1504.1450036\ttest: 1604.0118253\tbest: 1604.0118253 (186)\ttotal: 48.2s\tremaining: 3m 29s\n",
      "187:\tlearn: 1503.1053491\ttest: 1603.6129023\tbest: 1603.6129023 (187)\ttotal: 48.5s\tremaining: 3m 29s\n",
      "188:\tlearn: 1501.5932963\ttest: 1602.7275719\tbest: 1602.7275719 (188)\ttotal: 48.8s\tremaining: 3m 29s\n",
      "189:\tlearn: 1501.2449145\ttest: 1602.4774710\tbest: 1602.4774710 (189)\ttotal: 49.1s\tremaining: 3m 29s\n",
      "190:\tlearn: 1499.8298731\ttest: 1601.8887609\tbest: 1601.8887609 (190)\ttotal: 49.4s\tremaining: 3m 29s\n",
      "191:\tlearn: 1499.6951671\ttest: 1601.8672588\tbest: 1601.8672588 (191)\ttotal: 49.7s\tremaining: 3m 29s\n",
      "192:\tlearn: 1499.1689097\ttest: 1601.7093675\tbest: 1601.7093675 (192)\ttotal: 50s\tremaining: 3m 29s\n",
      "193:\tlearn: 1498.0848316\ttest: 1601.2814708\tbest: 1601.2814708 (193)\ttotal: 50.2s\tremaining: 3m 28s\n",
      "194:\tlearn: 1497.5032717\ttest: 1601.0439975\tbest: 1601.0439975 (194)\ttotal: 50.6s\tremaining: 3m 28s\n",
      "195:\tlearn: 1496.8396634\ttest: 1600.6974353\tbest: 1600.6974353 (195)\ttotal: 51s\tremaining: 3m 29s\n",
      "196:\tlearn: 1496.3900193\ttest: 1600.6371733\tbest: 1600.6371733 (196)\ttotal: 51.2s\tremaining: 3m 28s\n",
      "197:\tlearn: 1495.0717584\ttest: 1599.7215229\tbest: 1599.7215229 (197)\ttotal: 51.4s\tremaining: 3m 28s\n",
      "198:\tlearn: 1494.1483827\ttest: 1599.1202664\tbest: 1599.1202664 (198)\ttotal: 51.7s\tremaining: 3m 28s\n",
      "199:\tlearn: 1493.7307736\ttest: 1598.7783096\tbest: 1598.7783096 (199)\ttotal: 51.9s\tremaining: 3m 27s\n",
      "200:\tlearn: 1492.9847542\ttest: 1598.3907544\tbest: 1598.3907544 (200)\ttotal: 52.1s\tremaining: 3m 27s\n",
      "201:\tlearn: 1492.6786900\ttest: 1598.3571875\tbest: 1598.3571875 (201)\ttotal: 52.3s\tremaining: 3m 26s\n",
      "202:\tlearn: 1491.1224294\ttest: 1597.4431736\tbest: 1597.4431736 (202)\ttotal: 52.6s\tremaining: 3m 26s\n",
      "203:\tlearn: 1490.9531525\ttest: 1597.3821104\tbest: 1597.3821104 (203)\ttotal: 52.9s\tremaining: 3m 26s\n",
      "204:\tlearn: 1490.1584876\ttest: 1597.0830933\tbest: 1597.0830933 (204)\ttotal: 53.2s\tremaining: 3m 26s\n",
      "205:\tlearn: 1489.6168505\ttest: 1596.9595272\tbest: 1596.9595272 (205)\ttotal: 53.4s\tremaining: 3m 25s\n",
      "206:\tlearn: 1489.3769150\ttest: 1596.9067575\tbest: 1596.9067575 (206)\ttotal: 53.6s\tremaining: 3m 25s\n",
      "207:\tlearn: 1488.7326306\ttest: 1596.6253651\tbest: 1596.6253651 (207)\ttotal: 54s\tremaining: 3m 25s\n",
      "208:\tlearn: 1488.1065693\ttest: 1596.3686717\tbest: 1596.3686717 (208)\ttotal: 54.3s\tremaining: 3m 25s\n",
      "209:\tlearn: 1487.8687546\ttest: 1596.3328061\tbest: 1596.3328061 (209)\ttotal: 54.5s\tremaining: 3m 25s\n",
      "210:\tlearn: 1487.2603197\ttest: 1595.9468946\tbest: 1595.9468946 (210)\ttotal: 54.8s\tremaining: 3m 24s\n",
      "211:\tlearn: 1486.3094795\ttest: 1595.3780740\tbest: 1595.3780740 (211)\ttotal: 55s\tremaining: 3m 24s\n",
      "212:\tlearn: 1485.6976624\ttest: 1595.0097212\tbest: 1595.0097212 (212)\ttotal: 55.3s\tremaining: 3m 24s\n",
      "213:\tlearn: 1485.3979661\ttest: 1594.8997581\tbest: 1594.8997581 (213)\ttotal: 55.5s\tremaining: 3m 24s\n",
      "214:\tlearn: 1484.5984956\ttest: 1594.4831632\tbest: 1594.4831632 (214)\ttotal: 55.8s\tremaining: 3m 23s\n",
      "215:\tlearn: 1483.5404383\ttest: 1593.8274377\tbest: 1593.8274377 (215)\ttotal: 56s\tremaining: 3m 23s\n",
      "216:\tlearn: 1483.0609836\ttest: 1593.6819374\tbest: 1593.6819374 (216)\ttotal: 56.3s\tremaining: 3m 23s\n",
      "217:\tlearn: 1482.7735582\ttest: 1593.6035165\tbest: 1593.6035165 (217)\ttotal: 56.5s\tremaining: 3m 22s\n",
      "218:\tlearn: 1482.0558057\ttest: 1593.2286907\tbest: 1593.2286907 (218)\ttotal: 56.9s\tremaining: 3m 22s\n",
      "219:\tlearn: 1481.6795393\ttest: 1593.0801759\tbest: 1593.0801759 (219)\ttotal: 57.1s\tremaining: 3m 22s\n",
      "220:\tlearn: 1480.8318183\ttest: 1592.7370750\tbest: 1592.7370750 (220)\ttotal: 57.4s\tremaining: 3m 22s\n",
      "221:\tlearn: 1480.2175356\ttest: 1592.5042134\tbest: 1592.5042134 (221)\ttotal: 57.6s\tremaining: 3m 21s\n",
      "222:\tlearn: 1479.7391335\ttest: 1592.2328105\tbest: 1592.2328105 (222)\ttotal: 57.8s\tremaining: 3m 21s\n",
      "223:\tlearn: 1479.1538007\ttest: 1592.0751227\tbest: 1592.0751227 (223)\ttotal: 58.2s\tremaining: 3m 21s\n",
      "224:\tlearn: 1478.9429814\ttest: 1591.9491648\tbest: 1591.9491648 (224)\ttotal: 58.5s\tremaining: 3m 21s\n",
      "225:\tlearn: 1478.4362781\ttest: 1591.7915715\tbest: 1591.7915715 (225)\ttotal: 58.8s\tremaining: 3m 21s\n",
      "226:\tlearn: 1478.1469210\ttest: 1591.7568526\tbest: 1591.7568526 (226)\ttotal: 59.1s\tremaining: 3m 21s\n",
      "227:\tlearn: 1477.4341272\ttest: 1591.6913402\tbest: 1591.6913402 (227)\ttotal: 59.4s\tremaining: 3m 21s\n",
      "228:\tlearn: 1477.0348837\ttest: 1591.5858426\tbest: 1591.5858426 (228)\ttotal: 59.6s\tremaining: 3m 20s\n",
      "229:\tlearn: 1476.6086156\ttest: 1591.4530508\tbest: 1591.4530508 (229)\ttotal: 59.9s\tremaining: 3m 20s\n",
      "230:\tlearn: 1475.3882410\ttest: 1590.7075770\tbest: 1590.7075770 (230)\ttotal: 1m\tremaining: 3m 20s\n",
      "231:\tlearn: 1474.7133122\ttest: 1590.1889021\tbest: 1590.1889021 (231)\ttotal: 1m\tremaining: 3m 19s\n",
      "232:\tlearn: 1474.3504871\ttest: 1590.0658853\tbest: 1590.0658853 (232)\ttotal: 1m\tremaining: 3m 19s\n",
      "233:\tlearn: 1473.7719212\ttest: 1589.7219142\tbest: 1589.7219142 (233)\ttotal: 1m\tremaining: 3m 19s\n",
      "234:\tlearn: 1473.1258736\ttest: 1589.3090166\tbest: 1589.3090166 (234)\ttotal: 1m 1s\tremaining: 3m 19s\n",
      "235:\tlearn: 1472.4318777\ttest: 1589.0938794\tbest: 1589.0938794 (235)\ttotal: 1m 1s\tremaining: 3m 19s\n",
      "236:\tlearn: 1472.3869894\ttest: 1589.0760390\tbest: 1589.0760390 (236)\ttotal: 1m 1s\tremaining: 3m 18s\n",
      "237:\tlearn: 1472.0595048\ttest: 1589.1128877\tbest: 1589.0760390 (236)\ttotal: 1m 1s\tremaining: 3m 18s\n",
      "238:\tlearn: 1471.5997295\ttest: 1588.9249482\tbest: 1588.9249482 (238)\ttotal: 1m 2s\tremaining: 3m 18s\n",
      "239:\tlearn: 1470.7351485\ttest: 1588.4899604\tbest: 1588.4899604 (239)\ttotal: 1m 2s\tremaining: 3m 18s\n",
      "240:\tlearn: 1470.0507774\ttest: 1588.3196596\tbest: 1588.3196596 (240)\ttotal: 1m 2s\tremaining: 3m 18s\n",
      "241:\tlearn: 1469.4162229\ttest: 1587.9409861\tbest: 1587.9409861 (241)\ttotal: 1m 3s\tremaining: 3m 17s\n",
      "242:\tlearn: 1468.9697561\ttest: 1587.8434520\tbest: 1587.8434520 (242)\ttotal: 1m 3s\tremaining: 3m 17s\n",
      "243:\tlearn: 1468.5541253\ttest: 1587.6699027\tbest: 1587.6699027 (243)\ttotal: 1m 3s\tremaining: 3m 17s\n",
      "244:\tlearn: 1467.7091413\ttest: 1587.2805567\tbest: 1587.2805567 (244)\ttotal: 1m 3s\tremaining: 3m 16s\n",
      "245:\tlearn: 1467.3320077\ttest: 1587.1002049\tbest: 1587.1002049 (245)\ttotal: 1m 4s\tremaining: 3m 16s\n",
      "246:\tlearn: 1467.1607891\ttest: 1587.0385064\tbest: 1587.0385064 (246)\ttotal: 1m 4s\tremaining: 3m 16s\n",
      "247:\tlearn: 1466.6105936\ttest: 1586.6652170\tbest: 1586.6652170 (247)\ttotal: 1m 4s\tremaining: 3m 16s\n",
      "248:\tlearn: 1466.4626033\ttest: 1586.5624736\tbest: 1586.5624736 (248)\ttotal: 1m 4s\tremaining: 3m 15s\n",
      "249:\tlearn: 1466.0487603\ttest: 1586.5443896\tbest: 1586.5443896 (249)\ttotal: 1m 5s\tremaining: 3m 15s\n",
      "250:\tlearn: 1465.6897090\ttest: 1586.3855564\tbest: 1586.3855564 (250)\ttotal: 1m 5s\tremaining: 3m 15s\n",
      "251:\tlearn: 1465.5121834\ttest: 1586.3388557\tbest: 1586.3388557 (251)\ttotal: 1m 5s\tremaining: 3m 15s\n",
      "252:\tlearn: 1465.3509009\ttest: 1586.2594545\tbest: 1586.2594545 (252)\ttotal: 1m 6s\tremaining: 3m 14s\n",
      "253:\tlearn: 1465.2727116\ttest: 1586.2651604\tbest: 1586.2594545 (252)\ttotal: 1m 6s\tremaining: 3m 14s\n",
      "254:\tlearn: 1464.9076507\ttest: 1586.0534737\tbest: 1586.0534737 (254)\ttotal: 1m 6s\tremaining: 3m 14s\n",
      "255:\tlearn: 1464.7311689\ttest: 1585.9843320\tbest: 1585.9843320 (255)\ttotal: 1m 6s\tremaining: 3m 14s\n",
      "256:\tlearn: 1464.2998784\ttest: 1585.8860138\tbest: 1585.8860138 (256)\ttotal: 1m 7s\tremaining: 3m 14s\n",
      "257:\tlearn: 1464.0844010\ttest: 1585.7992034\tbest: 1585.7992034 (257)\ttotal: 1m 7s\tremaining: 3m 13s\n",
      "258:\tlearn: 1463.4467985\ttest: 1585.4929535\tbest: 1585.4929535 (258)\ttotal: 1m 7s\tremaining: 3m 13s\n",
      "259:\tlearn: 1463.2008076\ttest: 1585.4485127\tbest: 1585.4485127 (259)\ttotal: 1m 8s\tremaining: 3m 13s\n",
      "260:\tlearn: 1463.0390008\ttest: 1585.4748070\tbest: 1585.4485127 (259)\ttotal: 1m 8s\tremaining: 3m 13s\n",
      "261:\tlearn: 1462.6101750\ttest: 1585.3733133\tbest: 1585.3733133 (261)\ttotal: 1m 8s\tremaining: 3m 13s\n",
      "262:\tlearn: 1462.2739848\ttest: 1585.1010401\tbest: 1585.1010401 (262)\ttotal: 1m 8s\tremaining: 3m 12s\n",
      "263:\tlearn: 1461.7944819\ttest: 1584.8314584\tbest: 1584.8314584 (263)\ttotal: 1m 9s\tremaining: 3m 12s\n",
      "264:\tlearn: 1461.4204280\ttest: 1584.7661787\tbest: 1584.7661787 (264)\ttotal: 1m 9s\tremaining: 3m 12s\n",
      "265:\tlearn: 1461.1966390\ttest: 1584.6579312\tbest: 1584.6579312 (265)\ttotal: 1m 9s\tremaining: 3m 12s\n",
      "266:\tlearn: 1461.0855474\ttest: 1584.6712665\tbest: 1584.6579312 (265)\ttotal: 1m 9s\tremaining: 3m 11s\n",
      "267:\tlearn: 1460.4427878\ttest: 1584.5023771\tbest: 1584.5023771 (267)\ttotal: 1m 10s\tremaining: 3m 11s\n",
      "268:\tlearn: 1460.0722092\ttest: 1584.3330205\tbest: 1584.3330205 (268)\ttotal: 1m 10s\tremaining: 3m 11s\n",
      "269:\tlearn: 1459.0411414\ttest: 1583.8862114\tbest: 1583.8862114 (269)\ttotal: 1m 10s\tremaining: 3m 10s\n",
      "270:\tlearn: 1458.7627078\ttest: 1583.7332530\tbest: 1583.7332530 (270)\ttotal: 1m 10s\tremaining: 3m 10s\n",
      "271:\tlearn: 1458.4676776\ttest: 1583.7221183\tbest: 1583.7221183 (271)\ttotal: 1m 11s\tremaining: 3m 10s\n",
      "272:\tlearn: 1458.3045816\ttest: 1583.7134176\tbest: 1583.7134176 (272)\ttotal: 1m 11s\tremaining: 3m 10s\n",
      "273:\tlearn: 1457.5906648\ttest: 1583.2006149\tbest: 1583.2006149 (273)\ttotal: 1m 11s\tremaining: 3m 10s\n",
      "274:\tlearn: 1457.3507143\ttest: 1583.0665967\tbest: 1583.0665967 (274)\ttotal: 1m 12s\tremaining: 3m 9s\n",
      "275:\tlearn: 1456.8792859\ttest: 1582.9481347\tbest: 1582.9481347 (275)\ttotal: 1m 12s\tremaining: 3m 10s\n",
      "276:\tlearn: 1455.9684470\ttest: 1582.8912311\tbest: 1582.8912311 (276)\ttotal: 1m 12s\tremaining: 3m 9s\n",
      "277:\tlearn: 1455.7122043\ttest: 1582.7962144\tbest: 1582.7962144 (277)\ttotal: 1m 12s\tremaining: 3m 9s\n",
      "278:\tlearn: 1455.3265470\ttest: 1582.7495115\tbest: 1582.7495115 (278)\ttotal: 1m 13s\tremaining: 3m 9s\n",
      "279:\tlearn: 1454.5548776\ttest: 1582.5317764\tbest: 1582.5317764 (279)\ttotal: 1m 13s\tremaining: 3m 8s\n",
      "280:\tlearn: 1454.4657942\ttest: 1582.4977157\tbest: 1582.4977157 (280)\ttotal: 1m 13s\tremaining: 3m 8s\n",
      "281:\tlearn: 1454.1913727\ttest: 1582.3807132\tbest: 1582.3807132 (281)\ttotal: 1m 13s\tremaining: 3m 8s\n",
      "282:\tlearn: 1453.4001021\ttest: 1581.9716874\tbest: 1581.9716874 (282)\ttotal: 1m 14s\tremaining: 3m 7s\n",
      "283:\tlearn: 1452.7867046\ttest: 1581.8345269\tbest: 1581.8345269 (283)\ttotal: 1m 14s\tremaining: 3m 7s\n",
      "284:\tlearn: 1452.5400613\ttest: 1581.7789847\tbest: 1581.7789847 (284)\ttotal: 1m 14s\tremaining: 3m 7s\n",
      "285:\tlearn: 1452.0311092\ttest: 1581.6346236\tbest: 1581.6346236 (285)\ttotal: 1m 14s\tremaining: 3m 7s\n",
      "286:\tlearn: 1451.3260076\ttest: 1581.4009169\tbest: 1581.4009169 (286)\ttotal: 1m 15s\tremaining: 3m 6s\n",
      "287:\tlearn: 1450.7906073\ttest: 1581.1435143\tbest: 1581.1435143 (287)\ttotal: 1m 15s\tremaining: 3m 6s\n",
      "288:\tlearn: 1450.6040107\ttest: 1581.0664065\tbest: 1581.0664065 (288)\ttotal: 1m 15s\tremaining: 3m 6s\n",
      "289:\tlearn: 1449.9069313\ttest: 1580.7684145\tbest: 1580.7684145 (289)\ttotal: 1m 15s\tremaining: 3m 5s\n",
      "290:\tlearn: 1449.7962472\ttest: 1580.7247996\tbest: 1580.7247996 (290)\ttotal: 1m 16s\tremaining: 3m 5s\n",
      "291:\tlearn: 1449.3757940\ttest: 1580.5598488\tbest: 1580.5598488 (291)\ttotal: 1m 16s\tremaining: 3m 5s\n",
      "292:\tlearn: 1449.2164749\ttest: 1580.5144316\tbest: 1580.5144316 (292)\ttotal: 1m 16s\tremaining: 3m 5s\n",
      "293:\tlearn: 1448.9628659\ttest: 1580.4724340\tbest: 1580.4724340 (293)\ttotal: 1m 17s\tremaining: 3m 4s\n",
      "294:\tlearn: 1448.2857938\ttest: 1580.1966743\tbest: 1580.1966743 (294)\ttotal: 1m 17s\tremaining: 3m 4s\n",
      "295:\tlearn: 1447.8458040\ttest: 1580.1287397\tbest: 1580.1287397 (295)\ttotal: 1m 17s\tremaining: 3m 4s\n",
      "296:\tlearn: 1447.3449582\ttest: 1579.8931613\tbest: 1579.8931613 (296)\ttotal: 1m 17s\tremaining: 3m 4s\n",
      "297:\tlearn: 1446.7502409\ttest: 1579.6959882\tbest: 1579.6959882 (297)\ttotal: 1m 18s\tremaining: 3m 3s\n",
      "298:\tlearn: 1446.6194778\ttest: 1579.6785034\tbest: 1579.6785034 (298)\ttotal: 1m 18s\tremaining: 3m 3s\n",
      "299:\tlearn: 1446.5308711\ttest: 1579.6326889\tbest: 1579.6326889 (299)\ttotal: 1m 18s\tremaining: 3m 3s\n",
      "300:\tlearn: 1446.0998824\ttest: 1579.5075847\tbest: 1579.5075847 (300)\ttotal: 1m 18s\tremaining: 3m 3s\n",
      "301:\tlearn: 1445.9680546\ttest: 1579.4808340\tbest: 1579.4808340 (301)\ttotal: 1m 19s\tremaining: 3m 2s\n",
      "302:\tlearn: 1445.8153131\ttest: 1579.6091324\tbest: 1579.4808340 (301)\ttotal: 1m 19s\tremaining: 3m 2s\n",
      "303:\tlearn: 1445.5303888\ttest: 1579.5159822\tbest: 1579.4808340 (301)\ttotal: 1m 19s\tremaining: 3m 2s\n",
      "304:\tlearn: 1445.3836554\ttest: 1579.4893188\tbest: 1579.4808340 (301)\ttotal: 1m 19s\tremaining: 3m 1s\n",
      "305:\tlearn: 1444.8417606\ttest: 1579.3066360\tbest: 1579.3066360 (305)\ttotal: 1m 20s\tremaining: 3m 1s\n",
      "306:\tlearn: 1444.6085220\ttest: 1579.2655312\tbest: 1579.2655312 (306)\ttotal: 1m 20s\tremaining: 3m 1s\n",
      "307:\tlearn: 1443.8797773\ttest: 1578.8419850\tbest: 1578.8419850 (307)\ttotal: 1m 20s\tremaining: 3m\n",
      "308:\tlearn: 1443.7828423\ttest: 1578.7790687\tbest: 1578.7790687 (308)\ttotal: 1m 20s\tremaining: 3m\n",
      "309:\tlearn: 1443.5658805\ttest: 1578.7233216\tbest: 1578.7233216 (309)\ttotal: 1m 21s\tremaining: 3m\n",
      "310:\tlearn: 1442.7619300\ttest: 1578.3525545\tbest: 1578.3525545 (310)\ttotal: 1m 21s\tremaining: 3m\n",
      "311:\tlearn: 1442.4474722\ttest: 1578.2954846\tbest: 1578.2954846 (311)\ttotal: 1m 21s\tremaining: 2m 59s\n",
      "312:\tlearn: 1441.7846325\ttest: 1578.1381282\tbest: 1578.1381282 (312)\ttotal: 1m 21s\tremaining: 2m 59s\n",
      "313:\tlearn: 1441.2194018\ttest: 1577.9237163\tbest: 1577.9237163 (313)\ttotal: 1m 22s\tremaining: 2m 59s\n",
      "314:\tlearn: 1440.8746083\ttest: 1577.9836099\tbest: 1577.9237163 (313)\ttotal: 1m 22s\tremaining: 2m 59s\n",
      "315:\tlearn: 1440.6872501\ttest: 1577.9252744\tbest: 1577.9237163 (313)\ttotal: 1m 22s\tremaining: 2m 59s\n",
      "316:\tlearn: 1440.2092954\ttest: 1577.7354107\tbest: 1577.7354107 (316)\ttotal: 1m 23s\tremaining: 2m 58s\n",
      "317:\tlearn: 1439.7912406\ttest: 1577.6729044\tbest: 1577.6729044 (317)\ttotal: 1m 23s\tremaining: 2m 58s\n",
      "318:\tlearn: 1439.5063234\ttest: 1577.5788886\tbest: 1577.5788886 (318)\ttotal: 1m 23s\tremaining: 2m 58s\n",
      "319:\tlearn: 1439.2607763\ttest: 1577.5880931\tbest: 1577.5788886 (318)\ttotal: 1m 23s\tremaining: 2m 57s\n",
      "320:\tlearn: 1438.9616352\ttest: 1577.4610839\tbest: 1577.4610839 (320)\ttotal: 1m 24s\tremaining: 2m 57s\n",
      "321:\tlearn: 1438.6323730\ttest: 1577.2409642\tbest: 1577.2409642 (321)\ttotal: 1m 24s\tremaining: 2m 57s\n",
      "322:\tlearn: 1438.3229400\ttest: 1577.1048255\tbest: 1577.1048255 (322)\ttotal: 1m 24s\tremaining: 2m 57s\n",
      "323:\tlearn: 1437.9027257\ttest: 1576.9713771\tbest: 1576.9713771 (323)\ttotal: 1m 24s\tremaining: 2m 57s\n",
      "324:\tlearn: 1437.4931547\ttest: 1576.9767397\tbest: 1576.9713771 (323)\ttotal: 1m 25s\tremaining: 2m 56s\n",
      "325:\tlearn: 1437.0629930\ttest: 1576.7688673\tbest: 1576.7688673 (325)\ttotal: 1m 25s\tremaining: 2m 56s\n",
      "326:\tlearn: 1436.7057262\ttest: 1576.7450669\tbest: 1576.7450669 (326)\ttotal: 1m 25s\tremaining: 2m 56s\n",
      "327:\tlearn: 1436.2343633\ttest: 1576.4753360\tbest: 1576.4753360 (327)\ttotal: 1m 25s\tremaining: 2m 55s\n",
      "328:\tlearn: 1435.7752795\ttest: 1576.2809008\tbest: 1576.2809008 (328)\ttotal: 1m 26s\tremaining: 2m 55s\n",
      "329:\tlearn: 1435.4209411\ttest: 1576.3091530\tbest: 1576.2809008 (328)\ttotal: 1m 26s\tremaining: 2m 55s\n",
      "330:\tlearn: 1435.1509081\ttest: 1576.1902172\tbest: 1576.1902172 (330)\ttotal: 1m 26s\tremaining: 2m 55s\n",
      "331:\tlearn: 1434.6265689\ttest: 1576.0240921\tbest: 1576.0240921 (331)\ttotal: 1m 26s\tremaining: 2m 54s\n",
      "332:\tlearn: 1434.3686417\ttest: 1575.9603950\tbest: 1575.9603950 (332)\ttotal: 1m 27s\tremaining: 2m 54s\n",
      "333:\tlearn: 1433.9301368\ttest: 1575.8505756\tbest: 1575.8505756 (333)\ttotal: 1m 27s\tremaining: 2m 53s\n",
      "334:\tlearn: 1433.4067954\ttest: 1575.6512948\tbest: 1575.6512948 (334)\ttotal: 1m 27s\tremaining: 2m 53s\n",
      "335:\tlearn: 1433.0889873\ttest: 1575.5790709\tbest: 1575.5790709 (335)\ttotal: 1m 27s\tremaining: 2m 53s\n",
      "336:\tlearn: 1432.2912376\ttest: 1575.0547449\tbest: 1575.0547449 (336)\ttotal: 1m 28s\tremaining: 2m 53s\n",
      "337:\tlearn: 1431.7829345\ttest: 1574.9334234\tbest: 1574.9334234 (337)\ttotal: 1m 28s\tremaining: 2m 53s\n",
      "338:\tlearn: 1431.2128360\ttest: 1574.7878813\tbest: 1574.7878813 (338)\ttotal: 1m 28s\tremaining: 2m 52s\n",
      "339:\tlearn: 1430.8087329\ttest: 1574.7659883\tbest: 1574.7659883 (339)\ttotal: 1m 28s\tremaining: 2m 52s\n",
      "340:\tlearn: 1430.4160534\ttest: 1574.6041245\tbest: 1574.6041245 (340)\ttotal: 1m 29s\tremaining: 2m 52s\n",
      "341:\tlearn: 1430.1581855\ttest: 1574.5471499\tbest: 1574.5471499 (341)\ttotal: 1m 29s\tremaining: 2m 51s\n",
      "342:\tlearn: 1429.5079220\ttest: 1574.3183777\tbest: 1574.3183777 (342)\ttotal: 1m 29s\tremaining: 2m 51s\n",
      "343:\tlearn: 1428.9759391\ttest: 1574.0916441\tbest: 1574.0916441 (343)\ttotal: 1m 29s\tremaining: 2m 51s\n",
      "344:\tlearn: 1428.7542514\ttest: 1574.0411281\tbest: 1574.0411281 (344)\ttotal: 1m 30s\tremaining: 2m 50s\n",
      "345:\tlearn: 1428.4706538\ttest: 1574.0150278\tbest: 1574.0150278 (345)\ttotal: 1m 30s\tremaining: 2m 50s\n",
      "346:\tlearn: 1428.1137913\ttest: 1573.9034842\tbest: 1573.9034842 (346)\ttotal: 1m 30s\tremaining: 2m 50s\n",
      "347:\tlearn: 1427.7164552\ttest: 1573.8506387\tbest: 1573.8506387 (347)\ttotal: 1m 30s\tremaining: 2m 50s\n",
      "348:\tlearn: 1427.2566899\ttest: 1573.7025459\tbest: 1573.7025459 (348)\ttotal: 1m 31s\tremaining: 2m 49s\n",
      "349:\tlearn: 1427.0012943\ttest: 1573.6154385\tbest: 1573.6154385 (349)\ttotal: 1m 31s\tremaining: 2m 49s\n",
      "350:\tlearn: 1426.5234745\ttest: 1573.6139421\tbest: 1573.6139421 (350)\ttotal: 1m 31s\tremaining: 2m 49s\n",
      "351:\tlearn: 1426.3434606\ttest: 1573.6324007\tbest: 1573.6139421 (350)\ttotal: 1m 31s\tremaining: 2m 49s\n",
      "352:\tlearn: 1426.1190176\ttest: 1573.4638774\tbest: 1573.4638774 (352)\ttotal: 1m 32s\tremaining: 2m 48s\n",
      "353:\tlearn: 1425.8223955\ttest: 1573.3392300\tbest: 1573.3392300 (353)\ttotal: 1m 32s\tremaining: 2m 48s\n",
      "354:\tlearn: 1425.6769535\ttest: 1573.3638876\tbest: 1573.3392300 (353)\ttotal: 1m 32s\tremaining: 2m 48s\n",
      "355:\tlearn: 1425.2501297\ttest: 1573.1567363\tbest: 1573.1567363 (355)\ttotal: 1m 32s\tremaining: 2m 48s\n",
      "356:\tlearn: 1424.5960365\ttest: 1572.8811131\tbest: 1572.8811131 (356)\ttotal: 1m 33s\tremaining: 2m 47s\n",
      "357:\tlearn: 1424.1694315\ttest: 1572.6665930\tbest: 1572.6665930 (357)\ttotal: 1m 33s\tremaining: 2m 47s\n",
      "358:\tlearn: 1424.0267985\ttest: 1572.6572757\tbest: 1572.6572757 (358)\ttotal: 1m 33s\tremaining: 2m 47s\n",
      "359:\tlearn: 1423.5870750\ttest: 1572.4893360\tbest: 1572.4893360 (359)\ttotal: 1m 33s\tremaining: 2m 47s\n",
      "360:\tlearn: 1422.9762919\ttest: 1572.2107188\tbest: 1572.2107188 (360)\ttotal: 1m 34s\tremaining: 2m 46s\n",
      "361:\tlearn: 1422.8725087\ttest: 1572.1489095\tbest: 1572.1489095 (361)\ttotal: 1m 34s\tremaining: 2m 46s\n",
      "362:\tlearn: 1422.2823369\ttest: 1572.0439595\tbest: 1572.0439595 (362)\ttotal: 1m 34s\tremaining: 2m 46s\n",
      "363:\tlearn: 1421.8521607\ttest: 1571.9212249\tbest: 1571.9212249 (363)\ttotal: 1m 35s\tremaining: 2m 46s\n",
      "364:\tlearn: 1421.4888539\ttest: 1571.7742225\tbest: 1571.7742225 (364)\ttotal: 1m 35s\tremaining: 2m 45s\n",
      "365:\tlearn: 1421.0647384\ttest: 1571.7406039\tbest: 1571.7406039 (365)\ttotal: 1m 35s\tremaining: 2m 45s\n",
      "366:\tlearn: 1420.9671967\ttest: 1571.7220749\tbest: 1571.7220749 (366)\ttotal: 1m 35s\tremaining: 2m 45s\n",
      "367:\tlearn: 1420.3009642\ttest: 1571.3121079\tbest: 1571.3121079 (367)\ttotal: 1m 36s\tremaining: 2m 45s\n",
      "368:\tlearn: 1420.0265983\ttest: 1571.2752717\tbest: 1571.2752717 (368)\ttotal: 1m 36s\tremaining: 2m 44s\n",
      "369:\tlearn: 1419.6567454\ttest: 1571.0754293\tbest: 1571.0754293 (369)\ttotal: 1m 36s\tremaining: 2m 44s\n",
      "370:\tlearn: 1419.2437694\ttest: 1570.9907262\tbest: 1570.9907262 (370)\ttotal: 1m 36s\tremaining: 2m 44s\n",
      "371:\tlearn: 1418.8213663\ttest: 1570.9367991\tbest: 1570.9367991 (371)\ttotal: 1m 37s\tremaining: 2m 44s\n",
      "372:\tlearn: 1418.3034775\ttest: 1570.8424094\tbest: 1570.8424094 (372)\ttotal: 1m 37s\tremaining: 2m 43s\n",
      "373:\tlearn: 1418.1415246\ttest: 1570.7296057\tbest: 1570.7296057 (373)\ttotal: 1m 37s\tremaining: 2m 43s\n",
      "374:\tlearn: 1417.7349390\ttest: 1570.7005921\tbest: 1570.7005921 (374)\ttotal: 1m 38s\tremaining: 2m 43s\n",
      "375:\tlearn: 1417.4209548\ttest: 1570.4941278\tbest: 1570.4941278 (375)\ttotal: 1m 38s\tremaining: 2m 43s\n",
      "376:\tlearn: 1417.0095173\ttest: 1570.3654283\tbest: 1570.3654283 (376)\ttotal: 1m 38s\tremaining: 2m 43s\n",
      "377:\tlearn: 1416.7877010\ttest: 1570.2530582\tbest: 1570.2530582 (377)\ttotal: 1m 38s\tremaining: 2m 42s\n",
      "378:\tlearn: 1416.6053540\ttest: 1570.2124712\tbest: 1570.2124712 (378)\ttotal: 1m 39s\tremaining: 2m 42s\n",
      "379:\tlearn: 1416.2363219\ttest: 1570.0446237\tbest: 1570.0446237 (379)\ttotal: 1m 39s\tremaining: 2m 42s\n",
      "380:\tlearn: 1415.9418114\ttest: 1569.9420565\tbest: 1569.9420565 (380)\ttotal: 1m 39s\tremaining: 2m 41s\n",
      "381:\tlearn: 1415.8114355\ttest: 1569.9525739\tbest: 1569.9420565 (380)\ttotal: 1m 39s\tremaining: 2m 41s\n",
      "382:\tlearn: 1415.5534746\ttest: 1569.9610786\tbest: 1569.9420565 (380)\ttotal: 1m 40s\tremaining: 2m 41s\n",
      "383:\tlearn: 1415.0798120\ttest: 1569.9396013\tbest: 1569.9396013 (383)\ttotal: 1m 40s\tremaining: 2m 41s\n",
      "384:\tlearn: 1414.4550128\ttest: 1569.5992570\tbest: 1569.5992570 (384)\ttotal: 1m 40s\tremaining: 2m 40s\n",
      "385:\tlearn: 1413.9425534\ttest: 1569.4542956\tbest: 1569.4542956 (385)\ttotal: 1m 41s\tremaining: 2m 40s\n",
      "386:\tlearn: 1413.6624212\ttest: 1569.4371502\tbest: 1569.4371502 (386)\ttotal: 1m 41s\tremaining: 2m 40s\n",
      "387:\tlearn: 1413.6097370\ttest: 1569.4439513\tbest: 1569.4371502 (386)\ttotal: 1m 41s\tremaining: 2m 40s\n",
      "388:\tlearn: 1413.0966673\ttest: 1569.1880794\tbest: 1569.1880794 (388)\ttotal: 1m 41s\tremaining: 2m 40s\n",
      "389:\tlearn: 1412.7970302\ttest: 1569.1182899\tbest: 1569.1182899 (389)\ttotal: 1m 42s\tremaining: 2m 39s\n",
      "390:\tlearn: 1412.6585618\ttest: 1569.0399799\tbest: 1569.0399799 (390)\ttotal: 1m 42s\tremaining: 2m 39s\n",
      "391:\tlearn: 1412.4386970\ttest: 1569.0029538\tbest: 1569.0029538 (391)\ttotal: 1m 42s\tremaining: 2m 39s\n",
      "392:\tlearn: 1411.9485036\ttest: 1568.8257882\tbest: 1568.8257882 (392)\ttotal: 1m 43s\tremaining: 2m 39s\n",
      "393:\tlearn: 1411.6863016\ttest: 1568.7608231\tbest: 1568.7608231 (393)\ttotal: 1m 43s\tremaining: 2m 38s\n",
      "394:\tlearn: 1411.5367481\ttest: 1568.7273351\tbest: 1568.7273351 (394)\ttotal: 1m 43s\tremaining: 2m 38s\n",
      "395:\tlearn: 1411.1825995\ttest: 1568.5708523\tbest: 1568.5708523 (395)\ttotal: 1m 43s\tremaining: 2m 38s\n",
      "396:\tlearn: 1411.0249046\ttest: 1568.5206931\tbest: 1568.5206931 (396)\ttotal: 1m 44s\tremaining: 2m 38s\n",
      "397:\tlearn: 1410.8345742\ttest: 1568.4185234\tbest: 1568.4185234 (397)\ttotal: 1m 44s\tremaining: 2m 37s\n",
      "398:\tlearn: 1410.7426469\ttest: 1568.4422460\tbest: 1568.4185234 (397)\ttotal: 1m 44s\tremaining: 2m 37s\n",
      "399:\tlearn: 1410.5840563\ttest: 1568.4445601\tbest: 1568.4185234 (397)\ttotal: 1m 44s\tremaining: 2m 37s\n",
      "400:\tlearn: 1410.3268571\ttest: 1568.4593922\tbest: 1568.4185234 (397)\ttotal: 1m 45s\tremaining: 2m 37s\n",
      "401:\tlearn: 1409.6730928\ttest: 1568.1091676\tbest: 1568.1091676 (401)\ttotal: 1m 45s\tremaining: 2m 36s\n",
      "402:\tlearn: 1409.1441127\ttest: 1568.0701665\tbest: 1568.0701665 (402)\ttotal: 1m 45s\tremaining: 2m 36s\n",
      "403:\tlearn: 1408.9331316\ttest: 1568.1423375\tbest: 1568.0701665 (402)\ttotal: 1m 45s\tremaining: 2m 36s\n",
      "404:\tlearn: 1408.8335110\ttest: 1568.0768543\tbest: 1568.0701665 (402)\ttotal: 1m 46s\tremaining: 2m 36s\n",
      "405:\tlearn: 1408.6326171\ttest: 1568.0004606\tbest: 1568.0004606 (405)\ttotal: 1m 46s\tremaining: 2m 35s\n",
      "406:\tlearn: 1408.4160035\ttest: 1567.9314893\tbest: 1567.9314893 (406)\ttotal: 1m 46s\tremaining: 2m 35s\n",
      "407:\tlearn: 1408.2542835\ttest: 1567.9209307\tbest: 1567.9209307 (407)\ttotal: 1m 47s\tremaining: 2m 35s\n",
      "408:\tlearn: 1408.2442895\ttest: 1567.9209602\tbest: 1567.9209307 (407)\ttotal: 1m 47s\tremaining: 2m 35s\n",
      "409:\tlearn: 1407.2743840\ttest: 1567.5317056\tbest: 1567.5317056 (409)\ttotal: 1m 47s\tremaining: 2m 35s\n",
      "410:\tlearn: 1406.7606082\ttest: 1567.3753613\tbest: 1567.3753613 (410)\ttotal: 1m 48s\tremaining: 2m 34s\n",
      "411:\tlearn: 1406.5851415\ttest: 1567.3287018\tbest: 1567.3287018 (411)\ttotal: 1m 48s\tremaining: 2m 34s\n",
      "412:\tlearn: 1406.3659467\ttest: 1567.2821822\tbest: 1567.2821822 (412)\ttotal: 1m 48s\tremaining: 2m 34s\n",
      "413:\tlearn: 1406.1289328\ttest: 1567.2331154\tbest: 1567.2331154 (413)\ttotal: 1m 48s\tremaining: 2m 34s\n",
      "414:\tlearn: 1405.8611212\ttest: 1567.1877695\tbest: 1567.1877695 (414)\ttotal: 1m 49s\tremaining: 2m 34s\n",
      "415:\tlearn: 1405.5126047\ttest: 1567.1569738\tbest: 1567.1569738 (415)\ttotal: 1m 49s\tremaining: 2m 33s\n",
      "416:\tlearn: 1405.2399098\ttest: 1567.0269962\tbest: 1567.0269962 (416)\ttotal: 1m 49s\tremaining: 2m 33s\n",
      "417:\tlearn: 1404.7727747\ttest: 1566.8329428\tbest: 1566.8329428 (417)\ttotal: 1m 50s\tremaining: 2m 33s\n",
      "418:\tlearn: 1404.3364123\ttest: 1566.7954717\tbest: 1566.7954717 (418)\ttotal: 1m 50s\tremaining: 2m 33s\n",
      "419:\tlearn: 1404.1813266\ttest: 1566.8031997\tbest: 1566.7954717 (418)\ttotal: 1m 50s\tremaining: 2m 32s\n",
      "420:\tlearn: 1403.8411712\ttest: 1566.6516554\tbest: 1566.6516554 (420)\ttotal: 1m 50s\tremaining: 2m 32s\n",
      "421:\tlearn: 1403.5399397\ttest: 1566.6740581\tbest: 1566.6516554 (420)\ttotal: 1m 51s\tremaining: 2m 32s\n",
      "422:\tlearn: 1403.4583977\ttest: 1566.6550425\tbest: 1566.6516554 (420)\ttotal: 1m 51s\tremaining: 2m 32s\n",
      "423:\tlearn: 1402.9910336\ttest: 1566.5331250\tbest: 1566.5331250 (423)\ttotal: 1m 51s\tremaining: 2m 31s\n",
      "424:\tlearn: 1402.8084617\ttest: 1566.4402012\tbest: 1566.4402012 (424)\ttotal: 1m 51s\tremaining: 2m 31s\n",
      "425:\tlearn: 1402.4759494\ttest: 1566.3092606\tbest: 1566.3092606 (425)\ttotal: 1m 52s\tremaining: 2m 31s\n",
      "426:\tlearn: 1402.2010188\ttest: 1566.2421260\tbest: 1566.2421260 (426)\ttotal: 1m 52s\tremaining: 2m 31s\n",
      "427:\tlearn: 1401.3540640\ttest: 1566.0535446\tbest: 1566.0535446 (427)\ttotal: 1m 52s\tremaining: 2m 30s\n",
      "428:\tlearn: 1401.0771946\ttest: 1565.9084658\tbest: 1565.9084658 (428)\ttotal: 1m 53s\tremaining: 2m 30s\n",
      "429:\tlearn: 1400.9832096\ttest: 1565.8660551\tbest: 1565.8660551 (429)\ttotal: 1m 53s\tremaining: 2m 30s\n",
      "430:\tlearn: 1400.4319044\ttest: 1565.6678914\tbest: 1565.6678914 (430)\ttotal: 1m 53s\tremaining: 2m 30s\n",
      "431:\tlearn: 1400.1144342\ttest: 1565.5207325\tbest: 1565.5207325 (431)\ttotal: 1m 53s\tremaining: 2m 29s\n",
      "432:\tlearn: 1399.8260162\ttest: 1565.3532619\tbest: 1565.3532619 (432)\ttotal: 1m 54s\tremaining: 2m 29s\n",
      "433:\tlearn: 1399.5390236\ttest: 1565.2901930\tbest: 1565.2901930 (433)\ttotal: 1m 54s\tremaining: 2m 29s\n",
      "434:\tlearn: 1399.1751803\ttest: 1565.0720451\tbest: 1565.0720451 (434)\ttotal: 1m 54s\tremaining: 2m 29s\n",
      "435:\tlearn: 1398.7962127\ttest: 1564.8979573\tbest: 1564.8979573 (435)\ttotal: 1m 55s\tremaining: 2m 28s\n",
      "436:\tlearn: 1398.6881036\ttest: 1564.8543621\tbest: 1564.8543621 (436)\ttotal: 1m 55s\tremaining: 2m 28s\n",
      "437:\tlearn: 1398.3976048\ttest: 1564.7283004\tbest: 1564.7283004 (437)\ttotal: 1m 55s\tremaining: 2m 28s\n",
      "438:\tlearn: 1397.7330220\ttest: 1564.3376196\tbest: 1564.3376196 (438)\ttotal: 1m 55s\tremaining: 2m 27s\n",
      "439:\tlearn: 1397.6468762\ttest: 1564.3071309\tbest: 1564.3071309 (439)\ttotal: 1m 55s\tremaining: 2m 27s\n",
      "440:\tlearn: 1397.5059333\ttest: 1564.2396524\tbest: 1564.2396524 (440)\ttotal: 1m 56s\tremaining: 2m 27s\n",
      "441:\tlearn: 1396.9406432\ttest: 1563.8149377\tbest: 1563.8149377 (441)\ttotal: 1m 56s\tremaining: 2m 27s\n",
      "442:\tlearn: 1396.4320134\ttest: 1563.7139471\tbest: 1563.7139471 (442)\ttotal: 1m 56s\tremaining: 2m 26s\n",
      "443:\tlearn: 1396.0894766\ttest: 1563.5347784\tbest: 1563.5347784 (443)\ttotal: 1m 57s\tremaining: 2m 26s\n",
      "444:\tlearn: 1395.4588539\ttest: 1563.3486216\tbest: 1563.3486216 (444)\ttotal: 1m 57s\tremaining: 2m 26s\n",
      "445:\tlearn: 1395.1719849\ttest: 1563.2301075\tbest: 1563.2301075 (445)\ttotal: 1m 57s\tremaining: 2m 26s\n",
      "446:\tlearn: 1394.7895331\ttest: 1563.0143655\tbest: 1563.0143655 (446)\ttotal: 1m 57s\tremaining: 2m 25s\n",
      "447:\tlearn: 1394.3082754\ttest: 1562.8827913\tbest: 1562.8827913 (447)\ttotal: 1m 58s\tremaining: 2m 25s\n",
      "448:\tlearn: 1394.2648501\ttest: 1562.8713196\tbest: 1562.8713196 (448)\ttotal: 1m 58s\tremaining: 2m 25s\n",
      "449:\tlearn: 1394.1494070\ttest: 1562.8524234\tbest: 1562.8524234 (449)\ttotal: 1m 58s\tremaining: 2m 24s\n",
      "450:\tlearn: 1393.7463084\ttest: 1562.8758881\tbest: 1562.8524234 (449)\ttotal: 1m 58s\tremaining: 2m 24s\n",
      "451:\tlearn: 1393.5158623\ttest: 1562.8181545\tbest: 1562.8181545 (451)\ttotal: 1m 59s\tremaining: 2m 24s\n",
      "452:\tlearn: 1393.2558191\ttest: 1562.6958346\tbest: 1562.6958346 (452)\ttotal: 1m 59s\tremaining: 2m 24s\n",
      "453:\tlearn: 1393.1474343\ttest: 1562.6416781\tbest: 1562.6416781 (453)\ttotal: 1m 59s\tremaining: 2m 24s\n",
      "454:\tlearn: 1393.1370050\ttest: 1562.6473583\tbest: 1562.6416781 (453)\ttotal: 2m\tremaining: 2m 23s\n",
      "455:\tlearn: 1392.7998985\ttest: 1562.5814555\tbest: 1562.5814555 (455)\ttotal: 2m\tremaining: 2m 23s\n",
      "456:\tlearn: 1392.5305805\ttest: 1562.5830147\tbest: 1562.5814555 (455)\ttotal: 2m\tremaining: 2m 23s\n",
      "457:\tlearn: 1392.2544324\ttest: 1562.4471399\tbest: 1562.4471399 (457)\ttotal: 2m\tremaining: 2m 22s\n",
      "458:\tlearn: 1391.6761717\ttest: 1562.2625000\tbest: 1562.2625000 (458)\ttotal: 2m 1s\tremaining: 2m 22s\n",
      "459:\tlearn: 1391.3704805\ttest: 1562.1763197\tbest: 1562.1763197 (459)\ttotal: 2m 1s\tremaining: 2m 22s\n",
      "460:\tlearn: 1390.8914404\ttest: 1562.0612640\tbest: 1562.0612640 (460)\ttotal: 2m 1s\tremaining: 2m 22s\n",
      "461:\tlearn: 1390.7094989\ttest: 1561.9957854\tbest: 1561.9957854 (461)\ttotal: 2m 1s\tremaining: 2m 22s\n",
      "462:\tlearn: 1390.3726825\ttest: 1561.8968517\tbest: 1561.8968517 (462)\ttotal: 2m 2s\tremaining: 2m 21s\n",
      "463:\tlearn: 1390.0287245\ttest: 1561.8759233\tbest: 1561.8759233 (463)\ttotal: 2m 2s\tremaining: 2m 21s\n",
      "464:\tlearn: 1389.8632723\ttest: 1561.7934794\tbest: 1561.7934794 (464)\ttotal: 2m 2s\tremaining: 2m 21s\n",
      "465:\tlearn: 1389.8023810\ttest: 1561.7855982\tbest: 1561.7855982 (465)\ttotal: 2m 3s\tremaining: 2m 21s\n",
      "466:\tlearn: 1389.5951301\ttest: 1561.6992884\tbest: 1561.6992884 (466)\ttotal: 2m 3s\tremaining: 2m 20s\n",
      "467:\tlearn: 1389.2522530\ttest: 1561.5651973\tbest: 1561.5651973 (467)\ttotal: 2m 3s\tremaining: 2m 20s\n",
      "468:\tlearn: 1389.0299744\ttest: 1561.5364729\tbest: 1561.5364729 (468)\ttotal: 2m 3s\tremaining: 2m 20s\n",
      "469:\tlearn: 1388.5054573\ttest: 1561.4009223\tbest: 1561.4009223 (469)\ttotal: 2m 4s\tremaining: 2m 19s\n",
      "470:\tlearn: 1388.2918705\ttest: 1561.3614624\tbest: 1561.3614624 (470)\ttotal: 2m 4s\tremaining: 2m 19s\n",
      "471:\tlearn: 1388.0081859\ttest: 1561.3787330\tbest: 1561.3614624 (470)\ttotal: 2m 4s\tremaining: 2m 19s\n",
      "472:\tlearn: 1387.6225844\ttest: 1561.2830981\tbest: 1561.2830981 (472)\ttotal: 2m 4s\tremaining: 2m 18s\n",
      "473:\tlearn: 1387.3254242\ttest: 1561.2337449\tbest: 1561.2337449 (473)\ttotal: 2m 4s\tremaining: 2m 18s\n",
      "474:\tlearn: 1387.3066437\ttest: 1561.2264946\tbest: 1561.2264946 (474)\ttotal: 2m 5s\tremaining: 2m 18s\n",
      "475:\tlearn: 1387.2507991\ttest: 1561.1901064\tbest: 1561.1901064 (475)\ttotal: 2m 5s\tremaining: 2m 18s\n",
      "476:\tlearn: 1386.9755229\ttest: 1561.1404167\tbest: 1561.1404167 (476)\ttotal: 2m 5s\tremaining: 2m 17s\n",
      "477:\tlearn: 1386.8632017\ttest: 1561.1216587\tbest: 1561.1216587 (477)\ttotal: 2m 6s\tremaining: 2m 17s\n",
      "478:\tlearn: 1386.3531877\ttest: 1560.9459806\tbest: 1560.9459806 (478)\ttotal: 2m 6s\tremaining: 2m 17s\n",
      "479:\tlearn: 1386.0749929\ttest: 1560.9137452\tbest: 1560.9137452 (479)\ttotal: 2m 6s\tremaining: 2m 17s\n",
      "480:\tlearn: 1385.8137013\ttest: 1560.8390667\tbest: 1560.8390667 (480)\ttotal: 2m 6s\tremaining: 2m 16s\n",
      "481:\tlearn: 1385.5007488\ttest: 1560.8106398\tbest: 1560.8106398 (481)\ttotal: 2m 7s\tremaining: 2m 16s\n",
      "482:\tlearn: 1385.1825998\ttest: 1560.7009682\tbest: 1560.7009682 (482)\ttotal: 2m 7s\tremaining: 2m 16s\n",
      "483:\tlearn: 1385.1274597\ttest: 1560.6923906\tbest: 1560.6923906 (483)\ttotal: 2m 7s\tremaining: 2m 16s\n",
      "484:\tlearn: 1384.8204579\ttest: 1560.5804867\tbest: 1560.5804867 (484)\ttotal: 2m 7s\tremaining: 2m 15s\n",
      "485:\tlearn: 1384.6472387\ttest: 1560.5418453\tbest: 1560.5418453 (485)\ttotal: 2m 8s\tremaining: 2m 15s\n",
      "486:\tlearn: 1384.5117902\ttest: 1560.5355385\tbest: 1560.5355385 (486)\ttotal: 2m 8s\tremaining: 2m 15s\n",
      "487:\tlearn: 1384.3960632\ttest: 1560.5611552\tbest: 1560.5355385 (486)\ttotal: 2m 8s\tremaining: 2m 15s\n",
      "488:\tlearn: 1384.0848160\ttest: 1560.5272996\tbest: 1560.5272996 (488)\ttotal: 2m 8s\tremaining: 2m 14s\n",
      "489:\tlearn: 1383.8057153\ttest: 1560.5288633\tbest: 1560.5272996 (488)\ttotal: 2m 9s\tremaining: 2m 14s\n",
      "490:\tlearn: 1383.4891438\ttest: 1560.5085487\tbest: 1560.5085487 (490)\ttotal: 2m 9s\tremaining: 2m 14s\n",
      "491:\tlearn: 1383.3990193\ttest: 1560.5085651\tbest: 1560.5085487 (490)\ttotal: 2m 9s\tremaining: 2m 14s\n",
      "492:\tlearn: 1383.2659630\ttest: 1560.4536529\tbest: 1560.4536529 (492)\ttotal: 2m 10s\tremaining: 2m 13s\n",
      "493:\tlearn: 1382.9916195\ttest: 1560.3264218\tbest: 1560.3264218 (493)\ttotal: 2m 10s\tremaining: 2m 13s\n",
      "494:\tlearn: 1382.9472836\ttest: 1560.3065053\tbest: 1560.3065053 (494)\ttotal: 2m 10s\tremaining: 2m 13s\n",
      "495:\tlearn: 1382.7513191\ttest: 1560.2703983\tbest: 1560.2703983 (495)\ttotal: 2m 10s\tremaining: 2m 13s\n",
      "496:\tlearn: 1382.5365401\ttest: 1560.1771909\tbest: 1560.1771909 (496)\ttotal: 2m 11s\tremaining: 2m 12s\n",
      "497:\tlearn: 1382.3265552\ttest: 1560.1319810\tbest: 1560.1319810 (497)\ttotal: 2m 11s\tremaining: 2m 12s\n",
      "498:\tlearn: 1382.1442709\ttest: 1560.1008453\tbest: 1560.1008453 (498)\ttotal: 2m 11s\tremaining: 2m 12s\n",
      "499:\tlearn: 1382.0021200\ttest: 1560.0831059\tbest: 1560.0831059 (499)\ttotal: 2m 12s\tremaining: 2m 12s\n",
      "500:\tlearn: 1381.4628307\ttest: 1560.0250768\tbest: 1560.0250768 (500)\ttotal: 2m 12s\tremaining: 2m 11s\n",
      "501:\tlearn: 1381.0476401\ttest: 1559.8567099\tbest: 1559.8567099 (501)\ttotal: 2m 12s\tremaining: 2m 11s\n",
      "502:\tlearn: 1380.7812043\ttest: 1559.7865583\tbest: 1559.7865583 (502)\ttotal: 2m 12s\tremaining: 2m 11s\n",
      "503:\tlearn: 1380.4048046\ttest: 1559.6357882\tbest: 1559.6357882 (503)\ttotal: 2m 13s\tremaining: 2m 11s\n",
      "504:\tlearn: 1380.1613346\ttest: 1559.5431493\tbest: 1559.5431493 (504)\ttotal: 2m 13s\tremaining: 2m 10s\n",
      "505:\tlearn: 1379.9564729\ttest: 1559.5589901\tbest: 1559.5431493 (504)\ttotal: 2m 13s\tremaining: 2m 10s\n",
      "506:\tlearn: 1379.7479296\ttest: 1559.5319137\tbest: 1559.5319137 (506)\ttotal: 2m 14s\tremaining: 2m 10s\n",
      "507:\tlearn: 1379.5520257\ttest: 1559.4608494\tbest: 1559.4608494 (507)\ttotal: 2m 14s\tremaining: 2m 10s\n",
      "508:\tlearn: 1379.1441503\ttest: 1559.3268490\tbest: 1559.3268490 (508)\ttotal: 2m 14s\tremaining: 2m 9s\n",
      "509:\tlearn: 1378.9909056\ttest: 1559.2868599\tbest: 1559.2868599 (509)\ttotal: 2m 14s\tremaining: 2m 9s\n",
      "510:\tlearn: 1378.7841831\ttest: 1559.2608328\tbest: 1559.2608328 (510)\ttotal: 2m 15s\tremaining: 2m 9s\n",
      "511:\tlearn: 1378.6004164\ttest: 1559.2419279\tbest: 1559.2419279 (511)\ttotal: 2m 15s\tremaining: 2m 9s\n",
      "512:\tlearn: 1378.2293211\ttest: 1559.0396168\tbest: 1559.0396168 (512)\ttotal: 2m 15s\tremaining: 2m 8s\n",
      "513:\tlearn: 1377.7706905\ttest: 1558.8320009\tbest: 1558.8320009 (513)\ttotal: 2m 16s\tremaining: 2m 8s\n",
      "514:\tlearn: 1377.5457020\ttest: 1558.7958010\tbest: 1558.7958010 (514)\ttotal: 2m 16s\tremaining: 2m 8s\n",
      "515:\tlearn: 1377.1622652\ttest: 1558.6495070\tbest: 1558.6495070 (515)\ttotal: 2m 16s\tremaining: 2m 8s\n",
      "516:\tlearn: 1376.5181715\ttest: 1558.4848917\tbest: 1558.4848917 (516)\ttotal: 2m 16s\tremaining: 2m 7s\n",
      "517:\tlearn: 1376.3992698\ttest: 1558.4491280\tbest: 1558.4491280 (517)\ttotal: 2m 17s\tremaining: 2m 7s\n",
      "518:\tlearn: 1376.1475796\ttest: 1558.4036696\tbest: 1558.4036696 (518)\ttotal: 2m 17s\tremaining: 2m 7s\n",
      "519:\tlearn: 1375.8150889\ttest: 1558.3081647\tbest: 1558.3081647 (519)\ttotal: 2m 17s\tremaining: 2m 7s\n",
      "520:\tlearn: 1375.4379879\ttest: 1558.2025201\tbest: 1558.2025201 (520)\ttotal: 2m 18s\tremaining: 2m 6s\n",
      "521:\tlearn: 1374.7525339\ttest: 1558.1748048\tbest: 1558.1748048 (521)\ttotal: 2m 18s\tremaining: 2m 6s\n",
      "522:\tlearn: 1374.3492976\ttest: 1558.0224249\tbest: 1558.0224249 (522)\ttotal: 2m 18s\tremaining: 2m 6s\n",
      "523:\tlearn: 1373.9849248\ttest: 1557.9944393\tbest: 1557.9944393 (523)\ttotal: 2m 18s\tremaining: 2m 6s\n",
      "524:\tlearn: 1373.6132355\ttest: 1557.8120303\tbest: 1557.8120303 (524)\ttotal: 2m 19s\tremaining: 2m 5s\n",
      "525:\tlearn: 1373.1447433\ttest: 1557.6215981\tbest: 1557.6215981 (525)\ttotal: 2m 19s\tremaining: 2m 5s\n",
      "526:\tlearn: 1372.8506176\ttest: 1557.4923373\tbest: 1557.4923373 (526)\ttotal: 2m 19s\tremaining: 2m 5s\n",
      "527:\tlearn: 1372.6404649\ttest: 1557.4018186\tbest: 1557.4018186 (527)\ttotal: 2m 19s\tremaining: 2m 5s\n",
      "528:\tlearn: 1372.5055322\ttest: 1557.3756012\tbest: 1557.3756012 (528)\ttotal: 2m 20s\tremaining: 2m 4s\n",
      "529:\tlearn: 1372.3037583\ttest: 1557.3491330\tbest: 1557.3491330 (529)\ttotal: 2m 20s\tremaining: 2m 4s\n",
      "530:\tlearn: 1372.0822069\ttest: 1557.3254228\tbest: 1557.3254228 (530)\ttotal: 2m 20s\tremaining: 2m 4s\n",
      "531:\tlearn: 1371.9097686\ttest: 1557.2877882\tbest: 1557.2877882 (531)\ttotal: 2m 20s\tremaining: 2m 4s\n",
      "532:\tlearn: 1371.7493241\ttest: 1557.2393212\tbest: 1557.2393212 (532)\ttotal: 2m 21s\tremaining: 2m 3s\n",
      "533:\tlearn: 1371.3443474\ttest: 1557.1423457\tbest: 1557.1423457 (533)\ttotal: 2m 21s\tremaining: 2m 3s\n",
      "534:\tlearn: 1370.9885155\ttest: 1557.0409590\tbest: 1557.0409590 (534)\ttotal: 2m 21s\tremaining: 2m 3s\n",
      "535:\tlearn: 1370.4944459\ttest: 1556.9286435\tbest: 1556.9286435 (535)\ttotal: 2m 22s\tremaining: 2m 3s\n",
      "536:\tlearn: 1370.2296389\ttest: 1556.8934418\tbest: 1556.8934418 (536)\ttotal: 2m 22s\tremaining: 2m 2s\n",
      "537:\tlearn: 1369.6972621\ttest: 1556.6782139\tbest: 1556.6782139 (537)\ttotal: 2m 22s\tremaining: 2m 2s\n",
      "538:\tlearn: 1369.4887472\ttest: 1556.6322843\tbest: 1556.6322843 (538)\ttotal: 2m 22s\tremaining: 2m 2s\n",
      "539:\tlearn: 1369.4796059\ttest: 1556.6179534\tbest: 1556.6179534 (539)\ttotal: 2m 23s\tremaining: 2m 1s\n",
      "540:\tlearn: 1369.2703432\ttest: 1556.5503846\tbest: 1556.5503846 (540)\ttotal: 2m 23s\tremaining: 2m 1s\n",
      "541:\tlearn: 1369.1101498\ttest: 1556.5211300\tbest: 1556.5211300 (541)\ttotal: 2m 23s\tremaining: 2m 1s\n",
      "542:\tlearn: 1368.7181479\ttest: 1556.5033391\tbest: 1556.5033391 (542)\ttotal: 2m 23s\tremaining: 2m 1s\n",
      "543:\tlearn: 1368.5448543\ttest: 1556.4245858\tbest: 1556.4245858 (543)\ttotal: 2m 24s\tremaining: 2m\n",
      "544:\tlearn: 1368.3639296\ttest: 1556.4184020\tbest: 1556.4184020 (544)\ttotal: 2m 24s\tremaining: 2m\n",
      "545:\tlearn: 1368.1321313\ttest: 1556.3203002\tbest: 1556.3203002 (545)\ttotal: 2m 24s\tremaining: 2m\n",
      "546:\tlearn: 1367.7181044\ttest: 1556.1625475\tbest: 1556.1625475 (546)\ttotal: 2m 24s\tremaining: 2m\n",
      "547:\tlearn: 1367.5357761\ttest: 1556.1315811\tbest: 1556.1315811 (547)\ttotal: 2m 25s\tremaining: 1m 59s\n",
      "548:\tlearn: 1367.3642158\ttest: 1556.0550914\tbest: 1556.0550914 (548)\ttotal: 2m 25s\tremaining: 1m 59s\n",
      "549:\tlearn: 1367.3514047\ttest: 1556.0509685\tbest: 1556.0509685 (549)\ttotal: 2m 25s\tremaining: 1m 59s\n",
      "550:\tlearn: 1367.2480272\ttest: 1556.0282930\tbest: 1556.0282930 (550)\ttotal: 2m 25s\tremaining: 1m 58s\n",
      "551:\tlearn: 1366.8956900\ttest: 1555.8432585\tbest: 1555.8432585 (551)\ttotal: 2m 26s\tremaining: 1m 58s\n",
      "552:\tlearn: 1366.8741383\ttest: 1555.8650961\tbest: 1555.8432585 (551)\ttotal: 2m 26s\tremaining: 1m 58s\n",
      "553:\tlearn: 1366.7770349\ttest: 1555.8335257\tbest: 1555.8335257 (553)\ttotal: 2m 26s\tremaining: 1m 58s\n",
      "554:\tlearn: 1366.7356239\ttest: 1555.8255383\tbest: 1555.8255383 (554)\ttotal: 2m 26s\tremaining: 1m 57s\n",
      "555:\tlearn: 1366.5127977\ttest: 1555.7501431\tbest: 1555.7501431 (555)\ttotal: 2m 27s\tremaining: 1m 57s\n",
      "556:\tlearn: 1366.2645241\ttest: 1555.6957757\tbest: 1555.6957757 (556)\ttotal: 2m 27s\tremaining: 1m 57s\n",
      "557:\tlearn: 1366.1693418\ttest: 1555.6079120\tbest: 1555.6079120 (557)\ttotal: 2m 27s\tremaining: 1m 56s\n",
      "558:\tlearn: 1365.9219163\ttest: 1555.5175999\tbest: 1555.5175999 (558)\ttotal: 2m 27s\tremaining: 1m 56s\n",
      "559:\tlearn: 1365.8312171\ttest: 1555.5298150\tbest: 1555.5175999 (558)\ttotal: 2m 28s\tremaining: 1m 56s\n",
      "560:\tlearn: 1365.8224938\ttest: 1555.5340939\tbest: 1555.5175999 (558)\ttotal: 2m 28s\tremaining: 1m 56s\n",
      "561:\tlearn: 1365.2199724\ttest: 1555.3822350\tbest: 1555.3822350 (561)\ttotal: 2m 28s\tremaining: 1m 55s\n",
      "562:\tlearn: 1365.0192100\ttest: 1555.3585103\tbest: 1555.3585103 (562)\ttotal: 2m 28s\tremaining: 1m 55s\n",
      "563:\tlearn: 1364.8224391\ttest: 1555.2841149\tbest: 1555.2841149 (563)\ttotal: 2m 29s\tremaining: 1m 55s\n",
      "564:\tlearn: 1364.4413124\ttest: 1555.1085306\tbest: 1555.1085306 (564)\ttotal: 2m 29s\tremaining: 1m 55s\n",
      "565:\tlearn: 1363.6511279\ttest: 1554.7586064\tbest: 1554.7586064 (565)\ttotal: 2m 29s\tremaining: 1m 54s\n",
      "566:\tlearn: 1363.3276310\ttest: 1554.7189736\tbest: 1554.7189736 (566)\ttotal: 2m 30s\tremaining: 1m 54s\n",
      "567:\tlearn: 1363.1658793\ttest: 1554.7423882\tbest: 1554.7189736 (566)\ttotal: 2m 30s\tremaining: 1m 54s\n",
      "568:\tlearn: 1363.0041780\ttest: 1554.7485076\tbest: 1554.7189736 (566)\ttotal: 2m 30s\tremaining: 1m 54s\n",
      "569:\tlearn: 1362.8099221\ttest: 1554.6540297\tbest: 1554.6540297 (569)\ttotal: 2m 30s\tremaining: 1m 53s\n",
      "570:\tlearn: 1362.6702257\ttest: 1554.6381052\tbest: 1554.6381052 (570)\ttotal: 2m 31s\tremaining: 1m 53s\n",
      "571:\tlearn: 1362.4377313\ttest: 1554.6106121\tbest: 1554.6106121 (571)\ttotal: 2m 31s\tremaining: 1m 53s\n",
      "572:\tlearn: 1362.2852522\ttest: 1554.6351850\tbest: 1554.6106121 (571)\ttotal: 2m 31s\tremaining: 1m 52s\n",
      "573:\tlearn: 1362.0613469\ttest: 1554.6953018\tbest: 1554.6106121 (571)\ttotal: 2m 31s\tremaining: 1m 52s\n",
      "574:\tlearn: 1361.8201485\ttest: 1554.7217992\tbest: 1554.6106121 (571)\ttotal: 2m 32s\tremaining: 1m 52s\n",
      "575:\tlearn: 1361.2364197\ttest: 1554.5458550\tbest: 1554.5458550 (575)\ttotal: 2m 32s\tremaining: 1m 52s\n",
      "576:\tlearn: 1360.6989777\ttest: 1554.3587474\tbest: 1554.3587474 (576)\ttotal: 2m 32s\tremaining: 1m 51s\n",
      "577:\tlearn: 1360.5408111\ttest: 1554.3670695\tbest: 1554.3587474 (576)\ttotal: 2m 32s\tremaining: 1m 51s\n",
      "578:\tlearn: 1360.2203085\ttest: 1554.3839169\tbest: 1554.3587474 (576)\ttotal: 2m 33s\tremaining: 1m 51s\n",
      "579:\tlearn: 1359.9985615\ttest: 1554.3184730\tbest: 1554.3184730 (579)\ttotal: 2m 33s\tremaining: 1m 51s\n",
      "580:\tlearn: 1359.8741744\ttest: 1554.3103417\tbest: 1554.3103417 (580)\ttotal: 2m 33s\tremaining: 1m 50s\n",
      "581:\tlearn: 1359.6932484\ttest: 1554.3106131\tbest: 1554.3103417 (580)\ttotal: 2m 34s\tremaining: 1m 50s\n",
      "582:\tlearn: 1359.3475139\ttest: 1554.2047786\tbest: 1554.2047786 (582)\ttotal: 2m 34s\tremaining: 1m 50s\n",
      "583:\tlearn: 1359.0776350\ttest: 1554.2377215\tbest: 1554.2047786 (582)\ttotal: 2m 34s\tremaining: 1m 50s\n",
      "584:\tlearn: 1358.9292284\ttest: 1554.1983716\tbest: 1554.1983716 (584)\ttotal: 2m 34s\tremaining: 1m 49s\n",
      "585:\tlearn: 1358.7824789\ttest: 1554.1913734\tbest: 1554.1913734 (585)\ttotal: 2m 35s\tremaining: 1m 49s\n",
      "586:\tlearn: 1358.6456285\ttest: 1554.1819636\tbest: 1554.1819636 (586)\ttotal: 2m 35s\tremaining: 1m 49s\n",
      "587:\tlearn: 1358.1237844\ttest: 1553.9831323\tbest: 1553.9831323 (587)\ttotal: 2m 35s\tremaining: 1m 49s\n",
      "588:\tlearn: 1357.8282831\ttest: 1553.8812984\tbest: 1553.8812984 (588)\ttotal: 2m 35s\tremaining: 1m 48s\n",
      "589:\tlearn: 1357.7330076\ttest: 1553.8646024\tbest: 1553.8646024 (589)\ttotal: 2m 36s\tremaining: 1m 48s\n",
      "590:\tlearn: 1357.3563848\ttest: 1553.7545640\tbest: 1553.7545640 (590)\ttotal: 2m 36s\tremaining: 1m 48s\n",
      "591:\tlearn: 1357.1720925\ttest: 1553.7391749\tbest: 1553.7391749 (591)\ttotal: 2m 36s\tremaining: 1m 48s\n",
      "592:\tlearn: 1356.8808416\ttest: 1553.7201592\tbest: 1553.7201592 (592)\ttotal: 2m 37s\tremaining: 1m 47s\n",
      "593:\tlearn: 1356.7180258\ttest: 1553.7288258\tbest: 1553.7201592 (592)\ttotal: 2m 37s\tremaining: 1m 47s\n",
      "594:\tlearn: 1356.1534446\ttest: 1553.4946107\tbest: 1553.4946107 (594)\ttotal: 2m 37s\tremaining: 1m 47s\n",
      "595:\tlearn: 1356.0163636\ttest: 1553.4845210\tbest: 1553.4845210 (595)\ttotal: 2m 37s\tremaining: 1m 47s\n",
      "596:\tlearn: 1355.5748314\ttest: 1553.3554630\tbest: 1553.3554630 (596)\ttotal: 2m 38s\tremaining: 1m 46s\n",
      "597:\tlearn: 1355.2479204\ttest: 1553.3010569\tbest: 1553.3010569 (597)\ttotal: 2m 38s\tremaining: 1m 46s\n",
      "598:\tlearn: 1355.1340239\ttest: 1553.2192253\tbest: 1553.2192253 (598)\ttotal: 2m 38s\tremaining: 1m 46s\n",
      "599:\tlearn: 1354.7801882\ttest: 1553.2572625\tbest: 1553.2192253 (598)\ttotal: 2m 39s\tremaining: 1m 46s\n",
      "600:\tlearn: 1354.7288587\ttest: 1553.2560680\tbest: 1553.2192253 (598)\ttotal: 2m 39s\tremaining: 1m 45s\n",
      "601:\tlearn: 1354.6188927\ttest: 1553.2704316\tbest: 1553.2192253 (598)\ttotal: 2m 39s\tremaining: 1m 45s\n",
      "602:\tlearn: 1354.3326773\ttest: 1553.2440876\tbest: 1553.2192253 (598)\ttotal: 2m 39s\tremaining: 1m 45s\n",
      "603:\tlearn: 1354.0221246\ttest: 1553.2376356\tbest: 1553.2192253 (598)\ttotal: 2m 40s\tremaining: 1m 44s\n",
      "604:\tlearn: 1354.0166973\ttest: 1553.2304457\tbest: 1553.2192253 (598)\ttotal: 2m 40s\tremaining: 1m 44s\n",
      "605:\tlearn: 1353.8974674\ttest: 1553.1765593\tbest: 1553.1765593 (605)\ttotal: 2m 40s\tremaining: 1m 44s\n",
      "606:\tlearn: 1353.6959675\ttest: 1553.1128316\tbest: 1553.1128316 (606)\ttotal: 2m 40s\tremaining: 1m 44s\n",
      "607:\tlearn: 1353.6903847\ttest: 1553.1137987\tbest: 1553.1128316 (606)\ttotal: 2m 40s\tremaining: 1m 43s\n",
      "608:\tlearn: 1353.5448784\ttest: 1553.1203513\tbest: 1553.1128316 (606)\ttotal: 2m 41s\tremaining: 1m 43s\n",
      "609:\tlearn: 1353.2812319\ttest: 1552.9945043\tbest: 1552.9945043 (609)\ttotal: 2m 41s\tremaining: 1m 43s\n",
      "610:\tlearn: 1353.0323218\ttest: 1553.0368354\tbest: 1552.9945043 (609)\ttotal: 2m 41s\tremaining: 1m 42s\n",
      "611:\tlearn: 1352.9397983\ttest: 1553.0772081\tbest: 1552.9945043 (609)\ttotal: 2m 41s\tremaining: 1m 42s\n",
      "612:\tlearn: 1352.7625035\ttest: 1553.1018662\tbest: 1552.9945043 (609)\ttotal: 2m 42s\tremaining: 1m 42s\n",
      "613:\tlearn: 1352.5706632\ttest: 1553.0471315\tbest: 1552.9945043 (609)\ttotal: 2m 42s\tremaining: 1m 42s\n",
      "614:\tlearn: 1351.9014843\ttest: 1552.7970181\tbest: 1552.7970181 (614)\ttotal: 2m 42s\tremaining: 1m 41s\n",
      "615:\tlearn: 1351.6723816\ttest: 1552.6833149\tbest: 1552.6833149 (615)\ttotal: 2m 43s\tremaining: 1m 41s\n",
      "616:\tlearn: 1351.5078098\ttest: 1552.7130283\tbest: 1552.6833149 (615)\ttotal: 2m 43s\tremaining: 1m 41s\n",
      "617:\tlearn: 1351.3827386\ttest: 1552.6609359\tbest: 1552.6609359 (617)\ttotal: 2m 43s\tremaining: 1m 41s\n",
      "618:\tlearn: 1350.9918168\ttest: 1552.5478982\tbest: 1552.5478982 (618)\ttotal: 2m 44s\tremaining: 1m 40s\n",
      "619:\tlearn: 1350.8892199\ttest: 1552.5662967\tbest: 1552.5478982 (618)\ttotal: 2m 44s\tremaining: 1m 40s\n",
      "620:\tlearn: 1350.7883818\ttest: 1552.5473084\tbest: 1552.5473084 (620)\ttotal: 2m 44s\tremaining: 1m 40s\n",
      "621:\tlearn: 1350.5933524\ttest: 1552.5299703\tbest: 1552.5299703 (621)\ttotal: 2m 44s\tremaining: 1m 40s\n",
      "622:\tlearn: 1350.2718679\ttest: 1552.3070822\tbest: 1552.3070822 (622)\ttotal: 2m 45s\tremaining: 1m 39s\n",
      "623:\tlearn: 1350.1683392\ttest: 1552.3094461\tbest: 1552.3070822 (622)\ttotal: 2m 45s\tremaining: 1m 39s\n",
      "624:\tlearn: 1350.0655750\ttest: 1552.3007920\tbest: 1552.3007920 (624)\ttotal: 2m 45s\tremaining: 1m 39s\n",
      "625:\tlearn: 1349.8642873\ttest: 1552.2043320\tbest: 1552.2043320 (625)\ttotal: 2m 45s\tremaining: 1m 39s\n",
      "626:\tlearn: 1349.8566939\ttest: 1552.2072202\tbest: 1552.2043320 (625)\ttotal: 2m 46s\tremaining: 1m 38s\n",
      "627:\tlearn: 1349.5478197\ttest: 1552.1172947\tbest: 1552.1172947 (627)\ttotal: 2m 46s\tremaining: 1m 38s\n",
      "628:\tlearn: 1349.0200031\ttest: 1552.0620771\tbest: 1552.0620771 (628)\ttotal: 2m 46s\tremaining: 1m 38s\n",
      "629:\tlearn: 1348.6665527\ttest: 1552.0477007\tbest: 1552.0477007 (629)\ttotal: 2m 47s\tremaining: 1m 38s\n",
      "630:\tlearn: 1348.5602072\ttest: 1552.0044448\tbest: 1552.0044448 (630)\ttotal: 2m 47s\tremaining: 1m 37s\n",
      "631:\tlearn: 1348.3754565\ttest: 1551.9668067\tbest: 1551.9668067 (631)\ttotal: 2m 47s\tremaining: 1m 37s\n",
      "632:\tlearn: 1348.3723220\ttest: 1551.9652323\tbest: 1551.9652323 (632)\ttotal: 2m 47s\tremaining: 1m 37s\n",
      "633:\tlearn: 1347.6255364\ttest: 1551.7813616\tbest: 1551.7813616 (633)\ttotal: 2m 48s\tremaining: 1m 37s\n",
      "634:\tlearn: 1347.5579799\ttest: 1551.7505538\tbest: 1551.7505538 (634)\ttotal: 2m 48s\tremaining: 1m 36s\n",
      "635:\tlearn: 1347.3852659\ttest: 1551.7690039\tbest: 1551.7505538 (634)\ttotal: 2m 48s\tremaining: 1m 36s\n",
      "636:\tlearn: 1347.1668832\ttest: 1551.7146185\tbest: 1551.7146185 (636)\ttotal: 2m 49s\tremaining: 1m 36s\n",
      "637:\tlearn: 1347.0056840\ttest: 1551.6541379\tbest: 1551.6541379 (637)\ttotal: 2m 49s\tremaining: 1m 36s\n",
      "638:\tlearn: 1346.5801340\ttest: 1551.4911686\tbest: 1551.4911686 (638)\ttotal: 2m 49s\tremaining: 1m 35s\n",
      "639:\tlearn: 1346.2796895\ttest: 1551.2834908\tbest: 1551.2834908 (639)\ttotal: 2m 49s\tremaining: 1m 35s\n",
      "640:\tlearn: 1346.2347598\ttest: 1551.2941042\tbest: 1551.2834908 (639)\ttotal: 2m 50s\tremaining: 1m 35s\n",
      "641:\tlearn: 1346.0924920\ttest: 1551.2834592\tbest: 1551.2834592 (641)\ttotal: 2m 50s\tremaining: 1m 35s\n",
      "642:\tlearn: 1346.0633144\ttest: 1551.2757140\tbest: 1551.2757140 (642)\ttotal: 2m 50s\tremaining: 1m 34s\n",
      "643:\tlearn: 1345.8917329\ttest: 1551.2535837\tbest: 1551.2535837 (643)\ttotal: 2m 51s\tremaining: 1m 34s\n",
      "644:\tlearn: 1345.6872011\ttest: 1551.1712973\tbest: 1551.1712973 (644)\ttotal: 2m 51s\tremaining: 1m 34s\n",
      "645:\tlearn: 1345.5973445\ttest: 1551.1366877\tbest: 1551.1366877 (645)\ttotal: 2m 51s\tremaining: 1m 34s\n",
      "646:\tlearn: 1345.4587888\ttest: 1551.0814476\tbest: 1551.0814476 (646)\ttotal: 2m 52s\tremaining: 1m 33s\n",
      "647:\tlearn: 1345.4009095\ttest: 1551.0610089\tbest: 1551.0610089 (647)\ttotal: 2m 52s\tremaining: 1m 33s\n",
      "648:\tlearn: 1345.1706419\ttest: 1550.9661023\tbest: 1550.9661023 (648)\ttotal: 2m 52s\tremaining: 1m 33s\n",
      "649:\tlearn: 1345.0560994\ttest: 1550.9721386\tbest: 1550.9661023 (648)\ttotal: 2m 52s\tremaining: 1m 33s\n",
      "650:\tlearn: 1344.8422015\ttest: 1550.9392334\tbest: 1550.9392334 (650)\ttotal: 2m 53s\tremaining: 1m 32s\n",
      "651:\tlearn: 1344.5367152\ttest: 1550.8791026\tbest: 1550.8791026 (651)\ttotal: 2m 53s\tremaining: 1m 32s\n",
      "652:\tlearn: 1344.1746170\ttest: 1550.8233130\tbest: 1550.8233130 (652)\ttotal: 2m 53s\tremaining: 1m 32s\n",
      "653:\tlearn: 1343.8676573\ttest: 1550.8469056\tbest: 1550.8233130 (652)\ttotal: 2m 54s\tremaining: 1m 32s\n",
      "654:\tlearn: 1343.7351948\ttest: 1550.8042234\tbest: 1550.8042234 (654)\ttotal: 2m 54s\tremaining: 1m 31s\n",
      "655:\tlearn: 1343.6019791\ttest: 1550.8079645\tbest: 1550.8042234 (654)\ttotal: 2m 54s\tremaining: 1m 31s\n",
      "656:\tlearn: 1343.4033915\ttest: 1550.7436648\tbest: 1550.7436648 (656)\ttotal: 2m 54s\tremaining: 1m 31s\n",
      "657:\tlearn: 1343.1987813\ttest: 1550.6966704\tbest: 1550.6966704 (657)\ttotal: 2m 55s\tremaining: 1m 31s\n",
      "658:\tlearn: 1342.9870149\ttest: 1550.6252277\tbest: 1550.6252277 (658)\ttotal: 2m 55s\tremaining: 1m 30s\n",
      "659:\tlearn: 1342.9572899\ttest: 1550.6150668\tbest: 1550.6150668 (659)\ttotal: 2m 55s\tremaining: 1m 30s\n",
      "660:\tlearn: 1342.9362310\ttest: 1550.6210914\tbest: 1550.6150668 (659)\ttotal: 2m 55s\tremaining: 1m 30s\n",
      "661:\tlearn: 1342.7104750\ttest: 1550.5612138\tbest: 1550.5612138 (661)\ttotal: 2m 56s\tremaining: 1m 30s\n",
      "662:\tlearn: 1342.5855789\ttest: 1550.5403939\tbest: 1550.5403939 (662)\ttotal: 2m 56s\tremaining: 1m 29s\n",
      "663:\tlearn: 1342.2047193\ttest: 1550.4648491\tbest: 1550.4648491 (663)\ttotal: 2m 56s\tremaining: 1m 29s\n",
      "664:\tlearn: 1341.9622304\ttest: 1550.4219042\tbest: 1550.4219042 (664)\ttotal: 2m 57s\tremaining: 1m 29s\n",
      "665:\tlearn: 1341.7487809\ttest: 1550.4437502\tbest: 1550.4219042 (664)\ttotal: 2m 57s\tremaining: 1m 29s\n",
      "666:\tlearn: 1341.3688816\ttest: 1550.2993518\tbest: 1550.2993518 (666)\ttotal: 2m 57s\tremaining: 1m 28s\n",
      "667:\tlearn: 1341.3299739\ttest: 1550.3050988\tbest: 1550.2993518 (666)\ttotal: 2m 58s\tremaining: 1m 28s\n",
      "668:\tlearn: 1341.1796382\ttest: 1550.1690649\tbest: 1550.1690649 (668)\ttotal: 2m 58s\tremaining: 1m 28s\n",
      "669:\tlearn: 1340.8491826\ttest: 1550.1962636\tbest: 1550.1690649 (668)\ttotal: 2m 58s\tremaining: 1m 28s\n",
      "670:\tlearn: 1340.7498622\ttest: 1550.1146771\tbest: 1550.1146771 (670)\ttotal: 2m 59s\tremaining: 1m 27s\n",
      "671:\tlearn: 1340.5011237\ttest: 1550.0255238\tbest: 1550.0255238 (671)\ttotal: 2m 59s\tremaining: 1m 27s\n",
      "672:\tlearn: 1340.2874316\ttest: 1550.0082851\tbest: 1550.0082851 (672)\ttotal: 2m 59s\tremaining: 1m 27s\n",
      "673:\tlearn: 1340.2600276\ttest: 1549.9897705\tbest: 1549.9897705 (673)\ttotal: 2m 59s\tremaining: 1m 26s\n",
      "674:\tlearn: 1340.1018947\ttest: 1549.9428970\tbest: 1549.9428970 (674)\ttotal: 2m 59s\tremaining: 1m 26s\n",
      "675:\tlearn: 1339.8775422\ttest: 1549.8581149\tbest: 1549.8581149 (675)\ttotal: 3m\tremaining: 1m 26s\n",
      "676:\tlearn: 1339.7823390\ttest: 1549.8888835\tbest: 1549.8581149 (675)\ttotal: 3m\tremaining: 1m 26s\n",
      "677:\tlearn: 1339.5476576\ttest: 1549.7695153\tbest: 1549.7695153 (677)\ttotal: 3m\tremaining: 1m 25s\n",
      "678:\tlearn: 1339.2570086\ttest: 1549.7142755\tbest: 1549.7142755 (678)\ttotal: 3m 1s\tremaining: 1m 25s\n",
      "679:\tlearn: 1339.2040023\ttest: 1549.7185717\tbest: 1549.7142755 (678)\ttotal: 3m 1s\tremaining: 1m 25s\n",
      "680:\tlearn: 1339.0900042\ttest: 1549.7183884\tbest: 1549.7142755 (678)\ttotal: 3m 1s\tremaining: 1m 25s\n",
      "681:\tlearn: 1338.9313041\ttest: 1549.6494723\tbest: 1549.6494723 (681)\ttotal: 3m 1s\tremaining: 1m 24s\n",
      "682:\tlearn: 1338.9287989\ttest: 1549.6476189\tbest: 1549.6476189 (682)\ttotal: 3m 2s\tremaining: 1m 24s\n",
      "683:\tlearn: 1338.5921300\ttest: 1549.4579790\tbest: 1549.4579790 (683)\ttotal: 3m 2s\tremaining: 1m 24s\n",
      "684:\tlearn: 1338.2043540\ttest: 1549.3419639\tbest: 1549.3419639 (684)\ttotal: 3m 2s\tremaining: 1m 24s\n",
      "685:\tlearn: 1338.1042432\ttest: 1549.3010735\tbest: 1549.3010735 (685)\ttotal: 3m 3s\tremaining: 1m 23s\n",
      "686:\tlearn: 1337.9545845\ttest: 1549.3228815\tbest: 1549.3010735 (685)\ttotal: 3m 3s\tremaining: 1m 23s\n",
      "687:\tlearn: 1337.6583115\ttest: 1549.2418090\tbest: 1549.2418090 (687)\ttotal: 3m 3s\tremaining: 1m 23s\n",
      "688:\tlearn: 1337.4305930\ttest: 1549.1743867\tbest: 1549.1743867 (688)\ttotal: 3m 4s\tremaining: 1m 23s\n",
      "689:\tlearn: 1337.2775880\ttest: 1549.1467731\tbest: 1549.1467731 (689)\ttotal: 3m 4s\tremaining: 1m 22s\n",
      "690:\tlearn: 1336.9233613\ttest: 1549.0668744\tbest: 1549.0668744 (690)\ttotal: 3m 4s\tremaining: 1m 22s\n",
      "691:\tlearn: 1336.7018812\ttest: 1549.0593838\tbest: 1549.0593838 (691)\ttotal: 3m 4s\tremaining: 1m 22s\n",
      "692:\tlearn: 1336.4947705\ttest: 1549.0896682\tbest: 1549.0593838 (691)\ttotal: 3m 5s\tremaining: 1m 22s\n",
      "693:\tlearn: 1336.2605770\ttest: 1549.0556406\tbest: 1549.0556406 (693)\ttotal: 3m 5s\tremaining: 1m 21s\n",
      "694:\tlearn: 1336.1992258\ttest: 1549.0095135\tbest: 1549.0095135 (694)\ttotal: 3m 5s\tremaining: 1m 21s\n",
      "695:\tlearn: 1336.0179748\ttest: 1548.9351806\tbest: 1548.9351806 (695)\ttotal: 3m 5s\tremaining: 1m 21s\n",
      "696:\tlearn: 1335.8353445\ttest: 1548.9206026\tbest: 1548.9206026 (696)\ttotal: 3m 6s\tremaining: 1m 20s\n",
      "697:\tlearn: 1335.4517149\ttest: 1548.7941442\tbest: 1548.7941442 (697)\ttotal: 3m 6s\tremaining: 1m 20s\n",
      "698:\tlearn: 1335.2267255\ttest: 1548.7996237\tbest: 1548.7941442 (697)\ttotal: 3m 6s\tremaining: 1m 20s\n",
      "699:\tlearn: 1335.0846920\ttest: 1548.8008965\tbest: 1548.7941442 (697)\ttotal: 3m 7s\tremaining: 1m 20s\n",
      "700:\tlearn: 1334.5183516\ttest: 1548.6558587\tbest: 1548.6558587 (700)\ttotal: 3m 7s\tremaining: 1m 19s\n",
      "701:\tlearn: 1334.1153414\ttest: 1548.4914228\tbest: 1548.4914228 (701)\ttotal: 3m 7s\tremaining: 1m 19s\n",
      "702:\tlearn: 1333.9311224\ttest: 1548.4578718\tbest: 1548.4578718 (702)\ttotal: 3m 7s\tremaining: 1m 19s\n",
      "703:\tlearn: 1333.7609173\ttest: 1548.3640427\tbest: 1548.3640427 (703)\ttotal: 3m 8s\tremaining: 1m 19s\n",
      "704:\tlearn: 1333.5510025\ttest: 1548.3397265\tbest: 1548.3397265 (704)\ttotal: 3m 8s\tremaining: 1m 18s\n",
      "705:\tlearn: 1333.4353543\ttest: 1548.2943506\tbest: 1548.2943506 (705)\ttotal: 3m 8s\tremaining: 1m 18s\n",
      "706:\tlearn: 1333.2761796\ttest: 1548.2834928\tbest: 1548.2834928 (706)\ttotal: 3m 9s\tremaining: 1m 18s\n",
      "707:\tlearn: 1333.2604582\ttest: 1548.2988961\tbest: 1548.2834928 (706)\ttotal: 3m 9s\tremaining: 1m 18s\n",
      "708:\tlearn: 1333.2288009\ttest: 1548.3040034\tbest: 1548.2834928 (706)\ttotal: 3m 9s\tremaining: 1m 17s\n",
      "709:\tlearn: 1332.9665686\ttest: 1548.1871951\tbest: 1548.1871951 (709)\ttotal: 3m 9s\tremaining: 1m 17s\n",
      "710:\tlearn: 1332.8853157\ttest: 1548.2086708\tbest: 1548.1871951 (709)\ttotal: 3m 10s\tremaining: 1m 17s\n",
      "711:\tlearn: 1332.7023136\ttest: 1548.1498125\tbest: 1548.1498125 (711)\ttotal: 3m 10s\tremaining: 1m 17s\n",
      "712:\tlearn: 1332.4337033\ttest: 1548.0787283\tbest: 1548.0787283 (712)\ttotal: 3m 10s\tremaining: 1m 16s\n",
      "713:\tlearn: 1332.3349421\ttest: 1547.9579482\tbest: 1547.9579482 (713)\ttotal: 3m 11s\tremaining: 1m 16s\n",
      "714:\tlearn: 1332.2527308\ttest: 1547.9141954\tbest: 1547.9141954 (714)\ttotal: 3m 11s\tremaining: 1m 16s\n",
      "715:\tlearn: 1331.9203464\ttest: 1547.7485564\tbest: 1547.7485564 (715)\ttotal: 3m 11s\tremaining: 1m 16s\n",
      "716:\tlearn: 1331.7671980\ttest: 1547.6738353\tbest: 1547.6738353 (716)\ttotal: 3m 12s\tremaining: 1m 15s\n",
      "717:\tlearn: 1331.7218585\ttest: 1547.6466173\tbest: 1547.6466173 (717)\ttotal: 3m 12s\tremaining: 1m 15s\n",
      "718:\tlearn: 1331.4752673\ttest: 1547.6084673\tbest: 1547.6084673 (718)\ttotal: 3m 12s\tremaining: 1m 15s\n",
      "719:\tlearn: 1331.2890679\ttest: 1547.6659536\tbest: 1547.6084673 (718)\ttotal: 3m 12s\tremaining: 1m 15s\n",
      "720:\tlearn: 1331.1570943\ttest: 1547.6422892\tbest: 1547.6084673 (718)\ttotal: 3m 13s\tremaining: 1m 14s\n",
      "721:\tlearn: 1331.1158695\ttest: 1547.6289353\tbest: 1547.6084673 (718)\ttotal: 3m 13s\tremaining: 1m 14s\n",
      "722:\tlearn: 1330.8786985\ttest: 1547.5049022\tbest: 1547.5049022 (722)\ttotal: 3m 13s\tremaining: 1m 14s\n",
      "723:\tlearn: 1330.7968390\ttest: 1547.4965249\tbest: 1547.4965249 (723)\ttotal: 3m 14s\tremaining: 1m 13s\n",
      "724:\tlearn: 1330.5515988\ttest: 1547.4578942\tbest: 1547.4578942 (724)\ttotal: 3m 14s\tremaining: 1m 13s\n",
      "725:\tlearn: 1330.4324341\ttest: 1547.4345922\tbest: 1547.4345922 (725)\ttotal: 3m 14s\tremaining: 1m 13s\n",
      "726:\tlearn: 1330.2982164\ttest: 1547.4042337\tbest: 1547.4042337 (726)\ttotal: 3m 14s\tremaining: 1m 13s\n",
      "727:\tlearn: 1330.2895892\ttest: 1547.4049117\tbest: 1547.4042337 (726)\ttotal: 3m 15s\tremaining: 1m 12s\n",
      "728:\tlearn: 1330.2279685\ttest: 1547.4234197\tbest: 1547.4042337 (726)\ttotal: 3m 15s\tremaining: 1m 12s\n",
      "729:\tlearn: 1330.0315995\ttest: 1547.4155549\tbest: 1547.4042337 (726)\ttotal: 3m 15s\tremaining: 1m 12s\n",
      "730:\tlearn: 1329.8168508\ttest: 1547.4794474\tbest: 1547.4042337 (726)\ttotal: 3m 16s\tremaining: 1m 12s\n",
      "731:\tlearn: 1329.6472776\ttest: 1547.4391101\tbest: 1547.4042337 (726)\ttotal: 3m 16s\tremaining: 1m 11s\n",
      "732:\tlearn: 1329.4044934\ttest: 1547.3667100\tbest: 1547.3667100 (732)\ttotal: 3m 16s\tremaining: 1m 11s\n",
      "733:\tlearn: 1329.3900553\ttest: 1547.3671041\tbest: 1547.3667100 (732)\ttotal: 3m 16s\tremaining: 1m 11s\n",
      "734:\tlearn: 1329.3190311\ttest: 1547.3421398\tbest: 1547.3421398 (734)\ttotal: 3m 17s\tremaining: 1m 11s\n",
      "735:\tlearn: 1328.7789177\ttest: 1547.2506936\tbest: 1547.2506936 (735)\ttotal: 3m 17s\tremaining: 1m 10s\n",
      "736:\tlearn: 1328.7139796\ttest: 1547.2235488\tbest: 1547.2235488 (736)\ttotal: 3m 17s\tremaining: 1m 10s\n",
      "737:\tlearn: 1328.6312557\ttest: 1547.2758510\tbest: 1547.2235488 (736)\ttotal: 3m 18s\tremaining: 1m 10s\n",
      "738:\tlearn: 1328.1668498\ttest: 1547.1038384\tbest: 1547.1038384 (738)\ttotal: 3m 18s\tremaining: 1m 10s\n",
      "739:\tlearn: 1328.1117317\ttest: 1547.1215742\tbest: 1547.1038384 (738)\ttotal: 3m 18s\tremaining: 1m 9s\n",
      "740:\tlearn: 1327.9416306\ttest: 1547.0958882\tbest: 1547.0958882 (740)\ttotal: 3m 19s\tremaining: 1m 9s\n",
      "741:\tlearn: 1327.7227716\ttest: 1547.0561873\tbest: 1547.0561873 (741)\ttotal: 3m 19s\tremaining: 1m 9s\n",
      "742:\tlearn: 1327.5178771\ttest: 1547.0548256\tbest: 1547.0548256 (742)\ttotal: 3m 19s\tremaining: 1m 9s\n",
      "743:\tlearn: 1327.3764499\ttest: 1547.0189501\tbest: 1547.0189501 (743)\ttotal: 3m 19s\tremaining: 1m 8s\n",
      "744:\tlearn: 1327.3161913\ttest: 1547.0571343\tbest: 1547.0189501 (743)\ttotal: 3m 19s\tremaining: 1m 8s\n",
      "745:\tlearn: 1327.0142978\ttest: 1546.9484986\tbest: 1546.9484986 (745)\ttotal: 3m 20s\tremaining: 1m 8s\n",
      "746:\tlearn: 1326.7985395\ttest: 1547.0165812\tbest: 1546.9484986 (745)\ttotal: 3m 20s\tremaining: 1m 7s\n",
      "747:\tlearn: 1326.7601120\ttest: 1546.9987333\tbest: 1546.9484986 (745)\ttotal: 3m 20s\tremaining: 1m 7s\n",
      "748:\tlearn: 1326.7279603\ttest: 1547.0151673\tbest: 1546.9484986 (745)\ttotal: 3m 21s\tremaining: 1m 7s\n",
      "749:\tlearn: 1326.2946612\ttest: 1547.0021164\tbest: 1546.9484986 (745)\ttotal: 3m 21s\tremaining: 1m 7s\n",
      "750:\tlearn: 1326.1081245\ttest: 1546.9925763\tbest: 1546.9484986 (745)\ttotal: 3m 21s\tremaining: 1m 6s\n",
      "751:\tlearn: 1326.0263860\ttest: 1547.0061780\tbest: 1546.9484986 (745)\ttotal: 3m 22s\tremaining: 1m 6s\n",
      "752:\tlearn: 1325.8634597\ttest: 1547.0302757\tbest: 1546.9484986 (745)\ttotal: 3m 22s\tremaining: 1m 6s\n",
      "753:\tlearn: 1325.6697368\ttest: 1547.0992921\tbest: 1546.9484986 (745)\ttotal: 3m 22s\tremaining: 1m 6s\n",
      "754:\tlearn: 1325.4856220\ttest: 1547.0304976\tbest: 1546.9484986 (745)\ttotal: 3m 22s\tremaining: 1m 5s\n",
      "755:\tlearn: 1325.3978004\ttest: 1547.0138839\tbest: 1546.9484986 (745)\ttotal: 3m 23s\tremaining: 1m 5s\n",
      "756:\tlearn: 1325.0566596\ttest: 1546.9795640\tbest: 1546.9484986 (745)\ttotal: 3m 23s\tremaining: 1m 5s\n",
      "757:\tlearn: 1324.8399159\ttest: 1546.8898508\tbest: 1546.8898508 (757)\ttotal: 3m 23s\tremaining: 1m 5s\n",
      "758:\tlearn: 1324.6815635\ttest: 1546.8448765\tbest: 1546.8448765 (758)\ttotal: 3m 24s\tremaining: 1m 4s\n",
      "759:\tlearn: 1324.4786418\ttest: 1546.8028803\tbest: 1546.8028803 (759)\ttotal: 3m 24s\tremaining: 1m 4s\n",
      "760:\tlearn: 1324.3966352\ttest: 1546.7927238\tbest: 1546.7927238 (760)\ttotal: 3m 24s\tremaining: 1m 4s\n",
      "761:\tlearn: 1324.3055860\ttest: 1546.7802935\tbest: 1546.7802935 (761)\ttotal: 3m 24s\tremaining: 1m 3s\n",
      "762:\tlearn: 1323.9022353\ttest: 1546.7332199\tbest: 1546.7332199 (762)\ttotal: 3m 25s\tremaining: 1m 3s\n",
      "763:\tlearn: 1323.5390201\ttest: 1546.7013718\tbest: 1546.7013718 (763)\ttotal: 3m 25s\tremaining: 1m 3s\n",
      "764:\tlearn: 1323.4095276\ttest: 1546.6535402\tbest: 1546.6535402 (764)\ttotal: 3m 25s\tremaining: 1m 3s\n",
      "765:\tlearn: 1323.3522906\ttest: 1546.6186673\tbest: 1546.6186673 (765)\ttotal: 3m 25s\tremaining: 1m 2s\n",
      "766:\tlearn: 1323.2965696\ttest: 1546.5856421\tbest: 1546.5856421 (766)\ttotal: 3m 26s\tremaining: 1m 2s\n",
      "767:\tlearn: 1322.9544848\ttest: 1546.6119648\tbest: 1546.5856421 (766)\ttotal: 3m 26s\tremaining: 1m 2s\n",
      "768:\tlearn: 1322.8336075\ttest: 1546.5646095\tbest: 1546.5646095 (768)\ttotal: 3m 26s\tremaining: 1m 2s\n",
      "769:\tlearn: 1322.8040243\ttest: 1546.5634475\tbest: 1546.5634475 (769)\ttotal: 3m 26s\tremaining: 1m 1s\n",
      "770:\tlearn: 1322.6316204\ttest: 1546.5108617\tbest: 1546.5108617 (770)\ttotal: 3m 27s\tremaining: 1m 1s\n",
      "771:\tlearn: 1322.0925322\ttest: 1546.3537255\tbest: 1546.3537255 (771)\ttotal: 3m 27s\tremaining: 1m 1s\n",
      "772:\tlearn: 1321.8503369\ttest: 1546.3272865\tbest: 1546.3272865 (772)\ttotal: 3m 27s\tremaining: 1m 1s\n",
      "773:\tlearn: 1321.6315974\ttest: 1546.3482972\tbest: 1546.3272865 (772)\ttotal: 3m 28s\tremaining: 1m\n",
      "774:\tlearn: 1321.4612299\ttest: 1546.2614360\tbest: 1546.2614360 (774)\ttotal: 3m 28s\tremaining: 1m\n",
      "775:\tlearn: 1321.0293658\ttest: 1546.1393219\tbest: 1546.1393219 (775)\ttotal: 3m 28s\tremaining: 1m\n",
      "776:\tlearn: 1320.4981192\ttest: 1546.0600524\tbest: 1546.0600524 (776)\ttotal: 3m 28s\tremaining: 60s\n",
      "777:\tlearn: 1320.4304065\ttest: 1546.0557934\tbest: 1546.0557934 (777)\ttotal: 3m 29s\tremaining: 59.7s\n",
      "778:\tlearn: 1320.3927020\ttest: 1546.0292563\tbest: 1546.0292563 (778)\ttotal: 3m 29s\tremaining: 59.4s\n",
      "779:\tlearn: 1320.0843994\ttest: 1545.9998928\tbest: 1545.9998928 (779)\ttotal: 3m 29s\tremaining: 59.2s\n",
      "780:\tlearn: 1320.0745877\ttest: 1546.0031004\tbest: 1545.9998928 (779)\ttotal: 3m 30s\tremaining: 58.9s\n",
      "781:\tlearn: 1319.8808002\ttest: 1545.9769319\tbest: 1545.9769319 (781)\ttotal: 3m 30s\tremaining: 58.6s\n",
      "782:\tlearn: 1319.7792121\ttest: 1545.8995382\tbest: 1545.8995382 (782)\ttotal: 3m 30s\tremaining: 58.4s\n",
      "783:\tlearn: 1319.6535364\ttest: 1545.8781187\tbest: 1545.8781187 (783)\ttotal: 3m 30s\tremaining: 58.1s\n",
      "784:\tlearn: 1319.4756470\ttest: 1545.8588072\tbest: 1545.8588072 (784)\ttotal: 3m 31s\tremaining: 57.9s\n",
      "785:\tlearn: 1319.2879486\ttest: 1545.7993423\tbest: 1545.7993423 (785)\ttotal: 3m 31s\tremaining: 57.6s\n",
      "786:\tlearn: 1319.1180411\ttest: 1545.7602690\tbest: 1545.7602690 (786)\ttotal: 3m 31s\tremaining: 57.3s\n",
      "787:\tlearn: 1319.0044463\ttest: 1545.6799983\tbest: 1545.6799983 (787)\ttotal: 3m 32s\tremaining: 57.1s\n",
      "788:\tlearn: 1318.9527688\ttest: 1545.6793408\tbest: 1545.6793408 (788)\ttotal: 3m 32s\tremaining: 56.8s\n",
      "789:\tlearn: 1318.8415203\ttest: 1545.6364517\tbest: 1545.6364517 (789)\ttotal: 3m 32s\tremaining: 56.5s\n",
      "790:\tlearn: 1318.5447029\ttest: 1545.6200234\tbest: 1545.6200234 (790)\ttotal: 3m 32s\tremaining: 56.3s\n",
      "791:\tlearn: 1318.4492133\ttest: 1545.6482029\tbest: 1545.6200234 (790)\ttotal: 3m 33s\tremaining: 56s\n",
      "792:\tlearn: 1318.3911674\ttest: 1545.6622838\tbest: 1545.6200234 (790)\ttotal: 3m 33s\tremaining: 55.7s\n",
      "793:\tlearn: 1318.1973870\ttest: 1545.6395625\tbest: 1545.6200234 (790)\ttotal: 3m 33s\tremaining: 55.4s\n",
      "794:\tlearn: 1318.1718573\ttest: 1545.6402486\tbest: 1545.6200234 (790)\ttotal: 3m 33s\tremaining: 55.2s\n",
      "795:\tlearn: 1317.9142059\ttest: 1545.6466475\tbest: 1545.6200234 (790)\ttotal: 3m 34s\tremaining: 54.9s\n",
      "796:\tlearn: 1317.8235706\ttest: 1545.6096615\tbest: 1545.6096615 (796)\ttotal: 3m 34s\tremaining: 54.6s\n",
      "797:\tlearn: 1317.7500039\ttest: 1545.6173526\tbest: 1545.6096615 (796)\ttotal: 3m 34s\tremaining: 54.4s\n",
      "798:\tlearn: 1317.6141169\ttest: 1545.6024678\tbest: 1545.6024678 (798)\ttotal: 3m 35s\tremaining: 54.1s\n",
      "799:\tlearn: 1317.5251854\ttest: 1545.6041174\tbest: 1545.6024678 (798)\ttotal: 3m 35s\tremaining: 53.8s\n",
      "800:\tlearn: 1317.3759517\ttest: 1545.5943013\tbest: 1545.5943013 (800)\ttotal: 3m 35s\tremaining: 53.5s\n",
      "801:\tlearn: 1317.0705251\ttest: 1545.4583743\tbest: 1545.4583743 (801)\ttotal: 3m 35s\tremaining: 53.3s\n",
      "802:\tlearn: 1316.8734631\ttest: 1545.5089756\tbest: 1545.4583743 (801)\ttotal: 3m 36s\tremaining: 53s\n",
      "803:\tlearn: 1316.7637712\ttest: 1545.4900631\tbest: 1545.4583743 (801)\ttotal: 3m 36s\tremaining: 52.8s\n",
      "804:\tlearn: 1316.6780115\ttest: 1545.5003857\tbest: 1545.4583743 (801)\ttotal: 3m 36s\tremaining: 52.5s\n",
      "805:\tlearn: 1316.5688175\ttest: 1545.5165550\tbest: 1545.4583743 (801)\ttotal: 3m 37s\tremaining: 52.2s\n",
      "806:\tlearn: 1316.5057700\ttest: 1545.5085516\tbest: 1545.4583743 (801)\ttotal: 3m 37s\tremaining: 52s\n",
      "807:\tlearn: 1316.4468459\ttest: 1545.5269749\tbest: 1545.4583743 (801)\ttotal: 3m 37s\tremaining: 51.7s\n",
      "808:\tlearn: 1316.1907482\ttest: 1545.4797503\tbest: 1545.4583743 (801)\ttotal: 3m 37s\tremaining: 51.5s\n",
      "809:\tlearn: 1315.8078958\ttest: 1545.2542874\tbest: 1545.2542874 (809)\ttotal: 3m 38s\tremaining: 51.2s\n",
      "810:\tlearn: 1315.7469108\ttest: 1545.1269220\tbest: 1545.1269220 (810)\ttotal: 3m 38s\tremaining: 50.9s\n",
      "811:\tlearn: 1315.6478108\ttest: 1545.1003627\tbest: 1545.1003627 (811)\ttotal: 3m 38s\tremaining: 50.7s\n",
      "812:\tlearn: 1315.5187881\ttest: 1545.1239740\tbest: 1545.1003627 (811)\ttotal: 3m 39s\tremaining: 50.4s\n",
      "813:\tlearn: 1315.4182191\ttest: 1545.1031897\tbest: 1545.1003627 (811)\ttotal: 3m 39s\tremaining: 50.2s\n",
      "814:\tlearn: 1315.0789866\ttest: 1545.1594866\tbest: 1545.1003627 (811)\ttotal: 3m 39s\tremaining: 49.9s\n",
      "815:\tlearn: 1314.9290885\ttest: 1545.1549258\tbest: 1545.1003627 (811)\ttotal: 3m 40s\tremaining: 49.6s\n",
      "816:\tlearn: 1314.8056529\ttest: 1545.1281393\tbest: 1545.1003627 (811)\ttotal: 3m 40s\tremaining: 49.4s\n",
      "817:\tlearn: 1314.5681397\ttest: 1545.0707723\tbest: 1545.0707723 (817)\ttotal: 3m 40s\tremaining: 49.1s\n",
      "818:\tlearn: 1314.3423964\ttest: 1545.0079690\tbest: 1545.0079690 (818)\ttotal: 3m 41s\tremaining: 48.9s\n",
      "819:\tlearn: 1314.2963846\ttest: 1545.0012390\tbest: 1545.0012390 (819)\ttotal: 3m 41s\tremaining: 48.6s\n",
      "820:\tlearn: 1313.8724104\ttest: 1544.9213496\tbest: 1544.9213496 (820)\ttotal: 3m 41s\tremaining: 48.4s\n",
      "821:\tlearn: 1313.7922920\ttest: 1544.8734313\tbest: 1544.8734313 (821)\ttotal: 3m 42s\tremaining: 48.1s\n",
      "822:\tlearn: 1313.6753441\ttest: 1544.8215292\tbest: 1544.8215292 (822)\ttotal: 3m 42s\tremaining: 47.8s\n",
      "823:\tlearn: 1313.5898834\ttest: 1544.7948207\tbest: 1544.7948207 (823)\ttotal: 3m 42s\tremaining: 47.6s\n",
      "824:\tlearn: 1313.5300369\ttest: 1544.7993743\tbest: 1544.7948207 (823)\ttotal: 3m 42s\tremaining: 47.3s\n",
      "825:\tlearn: 1312.9980192\ttest: 1544.5504836\tbest: 1544.5504836 (825)\ttotal: 3m 43s\tremaining: 47s\n",
      "826:\tlearn: 1312.9276292\ttest: 1544.5671349\tbest: 1544.5504836 (825)\ttotal: 3m 43s\tremaining: 46.8s\n",
      "827:\tlearn: 1312.6729538\ttest: 1544.5687895\tbest: 1544.5504836 (825)\ttotal: 3m 43s\tremaining: 46.5s\n",
      "828:\tlearn: 1312.3161888\ttest: 1544.4535991\tbest: 1544.4535991 (828)\ttotal: 3m 44s\tremaining: 46.2s\n",
      "829:\tlearn: 1312.0412905\ttest: 1544.3563532\tbest: 1544.3563532 (829)\ttotal: 3m 44s\tremaining: 46s\n",
      "830:\tlearn: 1311.8533132\ttest: 1544.3259281\tbest: 1544.3259281 (830)\ttotal: 3m 44s\tremaining: 45.7s\n",
      "831:\tlearn: 1311.6654400\ttest: 1544.2740152\tbest: 1544.2740152 (831)\ttotal: 3m 45s\tremaining: 45.5s\n",
      "832:\tlearn: 1311.4958113\ttest: 1544.2704761\tbest: 1544.2704761 (832)\ttotal: 3m 45s\tremaining: 45.2s\n",
      "833:\tlearn: 1311.2725038\ttest: 1544.2692950\tbest: 1544.2692950 (833)\ttotal: 3m 45s\tremaining: 44.9s\n",
      "834:\tlearn: 1311.0909725\ttest: 1544.2139558\tbest: 1544.2139558 (834)\ttotal: 3m 45s\tremaining: 44.6s\n",
      "835:\tlearn: 1311.0112797\ttest: 1544.2027768\tbest: 1544.2027768 (835)\ttotal: 3m 46s\tremaining: 44.4s\n",
      "836:\tlearn: 1310.7465874\ttest: 1544.1450056\tbest: 1544.1450056 (836)\ttotal: 3m 46s\tremaining: 44.1s\n",
      "837:\tlearn: 1310.6373061\ttest: 1544.1402803\tbest: 1544.1402803 (837)\ttotal: 3m 46s\tremaining: 43.8s\n",
      "838:\tlearn: 1310.3797932\ttest: 1544.0904414\tbest: 1544.0904414 (838)\ttotal: 3m 47s\tremaining: 43.6s\n",
      "839:\tlearn: 1310.1175825\ttest: 1544.0793034\tbest: 1544.0793034 (839)\ttotal: 3m 47s\tremaining: 43.3s\n",
      "840:\tlearn: 1309.8662313\ttest: 1543.9766451\tbest: 1543.9766451 (840)\ttotal: 3m 47s\tremaining: 43s\n",
      "841:\tlearn: 1309.5793771\ttest: 1543.9074161\tbest: 1543.9074161 (841)\ttotal: 3m 47s\tremaining: 42.8s\n",
      "842:\tlearn: 1309.3053153\ttest: 1543.8432714\tbest: 1543.8432714 (842)\ttotal: 3m 48s\tremaining: 42.5s\n",
      "843:\tlearn: 1309.0928867\ttest: 1543.7894500\tbest: 1543.7894500 (843)\ttotal: 3m 48s\tremaining: 42.2s\n",
      "844:\tlearn: 1308.9163498\ttest: 1543.7465445\tbest: 1543.7465445 (844)\ttotal: 3m 48s\tremaining: 42s\n",
      "845:\tlearn: 1308.8002033\ttest: 1543.6586422\tbest: 1543.6586422 (845)\ttotal: 3m 49s\tremaining: 41.7s\n",
      "846:\tlearn: 1308.6670146\ttest: 1543.6343103\tbest: 1543.6343103 (846)\ttotal: 3m 49s\tremaining: 41.4s\n",
      "847:\tlearn: 1308.6188036\ttest: 1543.6123144\tbest: 1543.6123144 (847)\ttotal: 3m 49s\tremaining: 41.1s\n",
      "848:\tlearn: 1308.5220842\ttest: 1543.5800328\tbest: 1543.5800328 (848)\ttotal: 3m 49s\tremaining: 40.9s\n",
      "849:\tlearn: 1308.3281968\ttest: 1543.5212704\tbest: 1543.5212704 (849)\ttotal: 3m 50s\tremaining: 40.6s\n",
      "850:\tlearn: 1308.1955757\ttest: 1543.4887150\tbest: 1543.4887150 (850)\ttotal: 3m 50s\tremaining: 40.3s\n",
      "851:\tlearn: 1308.0979219\ttest: 1543.5308099\tbest: 1543.4887150 (850)\ttotal: 3m 50s\tremaining: 40.1s\n",
      "852:\tlearn: 1307.9107934\ttest: 1543.5910181\tbest: 1543.4887150 (850)\ttotal: 3m 50s\tremaining: 39.8s\n",
      "853:\tlearn: 1307.7772458\ttest: 1543.6050495\tbest: 1543.4887150 (850)\ttotal: 3m 51s\tremaining: 39.5s\n",
      "854:\tlearn: 1307.5762073\ttest: 1543.5619317\tbest: 1543.4887150 (850)\ttotal: 3m 51s\tremaining: 39.3s\n",
      "855:\tlearn: 1307.4354960\ttest: 1543.6455749\tbest: 1543.4887150 (850)\ttotal: 3m 51s\tremaining: 39s\n",
      "856:\tlearn: 1307.1599495\ttest: 1543.4901502\tbest: 1543.4887150 (850)\ttotal: 3m 52s\tremaining: 38.7s\n",
      "857:\tlearn: 1306.9066917\ttest: 1543.4912313\tbest: 1543.4887150 (850)\ttotal: 3m 52s\tremaining: 38.5s\n",
      "858:\tlearn: 1306.6094172\ttest: 1543.4237443\tbest: 1543.4237443 (858)\ttotal: 3m 52s\tremaining: 38.2s\n",
      "859:\tlearn: 1306.5790081\ttest: 1543.3997297\tbest: 1543.3997297 (859)\ttotal: 3m 53s\tremaining: 37.9s\n",
      "860:\tlearn: 1306.5664832\ttest: 1543.3937964\tbest: 1543.3937964 (860)\ttotal: 3m 53s\tremaining: 37.7s\n",
      "861:\tlearn: 1306.4408837\ttest: 1543.3600816\tbest: 1543.3600816 (861)\ttotal: 3m 53s\tremaining: 37.4s\n",
      "862:\tlearn: 1306.1689364\ttest: 1543.3322944\tbest: 1543.3322944 (862)\ttotal: 3m 53s\tremaining: 37.1s\n",
      "863:\tlearn: 1306.0848867\ttest: 1543.2720924\tbest: 1543.2720924 (863)\ttotal: 3m 54s\tremaining: 36.9s\n",
      "864:\tlearn: 1305.9631705\ttest: 1543.2318912\tbest: 1543.2318912 (864)\ttotal: 3m 54s\tremaining: 36.6s\n",
      "865:\tlearn: 1305.9243552\ttest: 1543.2152402\tbest: 1543.2152402 (865)\ttotal: 3m 54s\tremaining: 36.3s\n",
      "866:\tlearn: 1305.7383599\ttest: 1543.1458540\tbest: 1543.1458540 (866)\ttotal: 3m 55s\tremaining: 36.1s\n",
      "867:\tlearn: 1305.6849389\ttest: 1543.1314693\tbest: 1543.1314693 (867)\ttotal: 3m 55s\tremaining: 35.8s\n",
      "868:\tlearn: 1305.3075575\ttest: 1543.1113083\tbest: 1543.1113083 (868)\ttotal: 3m 55s\tremaining: 35.5s\n",
      "869:\tlearn: 1305.0273473\ttest: 1543.1049506\tbest: 1543.1049506 (869)\ttotal: 3m 56s\tremaining: 35.3s\n",
      "870:\tlearn: 1304.9835351\ttest: 1543.0649981\tbest: 1543.0649981 (870)\ttotal: 3m 56s\tremaining: 35s\n",
      "871:\tlearn: 1304.8236073\ttest: 1543.0703881\tbest: 1543.0649981 (870)\ttotal: 3m 56s\tremaining: 34.7s\n",
      "872:\tlearn: 1304.8045865\ttest: 1543.0733934\tbest: 1543.0649981 (870)\ttotal: 3m 56s\tremaining: 34.5s\n",
      "873:\tlearn: 1304.7734534\ttest: 1543.0665934\tbest: 1543.0649981 (870)\ttotal: 3m 57s\tremaining: 34.2s\n",
      "874:\tlearn: 1304.5386249\ttest: 1543.0126658\tbest: 1543.0126658 (874)\ttotal: 3m 57s\tremaining: 33.9s\n",
      "875:\tlearn: 1304.3775254\ttest: 1542.9940279\tbest: 1542.9940279 (875)\ttotal: 3m 57s\tremaining: 33.6s\n",
      "876:\tlearn: 1304.2688065\ttest: 1542.9807733\tbest: 1542.9807733 (876)\ttotal: 3m 57s\tremaining: 33.4s\n",
      "877:\tlearn: 1304.0659054\ttest: 1542.9556186\tbest: 1542.9556186 (877)\ttotal: 3m 58s\tremaining: 33.1s\n",
      "878:\tlearn: 1303.6948359\ttest: 1542.9124336\tbest: 1542.9124336 (878)\ttotal: 3m 58s\tremaining: 32.8s\n",
      "879:\tlearn: 1303.5877912\ttest: 1542.9739789\tbest: 1542.9124336 (878)\ttotal: 3m 58s\tremaining: 32.6s\n",
      "880:\tlearn: 1303.5201369\ttest: 1542.9384792\tbest: 1542.9124336 (878)\ttotal: 3m 59s\tremaining: 32.3s\n",
      "881:\tlearn: 1303.4716555\ttest: 1542.9667705\tbest: 1542.9124336 (878)\ttotal: 3m 59s\tremaining: 32s\n",
      "882:\tlearn: 1303.4047255\ttest: 1542.9506838\tbest: 1542.9124336 (878)\ttotal: 3m 59s\tremaining: 31.7s\n",
      "883:\tlearn: 1303.3052250\ttest: 1542.9042471\tbest: 1542.9042471 (883)\ttotal: 3m 59s\tremaining: 31.5s\n",
      "884:\tlearn: 1303.0762352\ttest: 1542.8066023\tbest: 1542.8066023 (884)\ttotal: 4m\tremaining: 31.2s\n",
      "885:\tlearn: 1302.5627844\ttest: 1542.5947764\tbest: 1542.5947764 (885)\ttotal: 4m\tremaining: 30.9s\n",
      "886:\tlearn: 1302.3799618\ttest: 1542.6211081\tbest: 1542.5947764 (885)\ttotal: 4m\tremaining: 30.6s\n",
      "887:\tlearn: 1302.2428075\ttest: 1542.5772530\tbest: 1542.5772530 (887)\ttotal: 4m\tremaining: 30.4s\n",
      "888:\tlearn: 1302.0969154\ttest: 1542.5487501\tbest: 1542.5487501 (888)\ttotal: 4m 1s\tremaining: 30.1s\n",
      "889:\tlearn: 1302.0467524\ttest: 1542.5505450\tbest: 1542.5487501 (888)\ttotal: 4m 1s\tremaining: 29.8s\n",
      "890:\tlearn: 1301.8737168\ttest: 1542.5120694\tbest: 1542.5120694 (890)\ttotal: 4m 1s\tremaining: 29.6s\n",
      "891:\tlearn: 1301.6579940\ttest: 1542.5026360\tbest: 1542.5026360 (891)\ttotal: 4m 1s\tremaining: 29.3s\n",
      "892:\tlearn: 1301.5938132\ttest: 1542.4852109\tbest: 1542.4852109 (892)\ttotal: 4m 2s\tremaining: 29s\n",
      "893:\tlearn: 1301.5535261\ttest: 1542.4847014\tbest: 1542.4847014 (893)\ttotal: 4m 2s\tremaining: 28.8s\n",
      "894:\tlearn: 1301.0545707\ttest: 1542.3679443\tbest: 1542.3679443 (894)\ttotal: 4m 2s\tremaining: 28.5s\n",
      "895:\tlearn: 1300.7717183\ttest: 1542.2351676\tbest: 1542.2351676 (895)\ttotal: 4m 3s\tremaining: 28.2s\n",
      "896:\tlearn: 1300.6726440\ttest: 1542.2472271\tbest: 1542.2351676 (895)\ttotal: 4m 3s\tremaining: 28s\n",
      "897:\tlearn: 1300.4673495\ttest: 1542.2302810\tbest: 1542.2302810 (897)\ttotal: 4m 3s\tremaining: 27.7s\n",
      "898:\tlearn: 1300.3655781\ttest: 1542.2217955\tbest: 1542.2217955 (898)\ttotal: 4m 4s\tremaining: 27.4s\n",
      "899:\tlearn: 1300.2374878\ttest: 1542.2068656\tbest: 1542.2068656 (899)\ttotal: 4m 4s\tremaining: 27.1s\n",
      "900:\tlearn: 1300.0714450\ttest: 1542.2271078\tbest: 1542.2068656 (899)\ttotal: 4m 4s\tremaining: 26.9s\n",
      "901:\tlearn: 1299.9543281\ttest: 1542.2036990\tbest: 1542.2036990 (901)\ttotal: 4m 4s\tremaining: 26.6s\n",
      "902:\tlearn: 1299.7991915\ttest: 1542.1135371\tbest: 1542.1135371 (902)\ttotal: 4m 5s\tremaining: 26.3s\n",
      "903:\tlearn: 1299.7707046\ttest: 1542.1068518\tbest: 1542.1068518 (903)\ttotal: 4m 5s\tremaining: 26.1s\n",
      "904:\tlearn: 1299.5677823\ttest: 1542.0949849\tbest: 1542.0949849 (904)\ttotal: 4m 5s\tremaining: 25.8s\n",
      "905:\tlearn: 1299.4267268\ttest: 1542.1013177\tbest: 1542.0949849 (904)\ttotal: 4m 5s\tremaining: 25.5s\n",
      "906:\tlearn: 1299.3414293\ttest: 1542.1127835\tbest: 1542.0949849 (904)\ttotal: 4m 6s\tremaining: 25.2s\n",
      "907:\tlearn: 1299.1871682\ttest: 1542.0740720\tbest: 1542.0740720 (907)\ttotal: 4m 6s\tremaining: 25s\n",
      "908:\tlearn: 1299.1320214\ttest: 1542.0628955\tbest: 1542.0628955 (908)\ttotal: 4m 6s\tremaining: 24.7s\n",
      "909:\tlearn: 1298.9548710\ttest: 1542.0272467\tbest: 1542.0272467 (909)\ttotal: 4m 7s\tremaining: 24.4s\n",
      "910:\tlearn: 1298.7777879\ttest: 1542.0156161\tbest: 1542.0156161 (910)\ttotal: 4m 7s\tremaining: 24.2s\n",
      "911:\tlearn: 1298.7097381\ttest: 1541.9941026\tbest: 1541.9941026 (911)\ttotal: 4m 7s\tremaining: 23.9s\n",
      "912:\tlearn: 1298.6188436\ttest: 1542.0252505\tbest: 1541.9941026 (911)\ttotal: 4m 7s\tremaining: 23.6s\n",
      "913:\tlearn: 1298.5095557\ttest: 1541.9980054\tbest: 1541.9941026 (911)\ttotal: 4m 8s\tremaining: 23.4s\n",
      "914:\tlearn: 1298.2766299\ttest: 1541.9663736\tbest: 1541.9663736 (914)\ttotal: 4m 8s\tremaining: 23.1s\n",
      "915:\tlearn: 1298.1376782\ttest: 1541.9523442\tbest: 1541.9523442 (915)\ttotal: 4m 8s\tremaining: 22.8s\n",
      "916:\tlearn: 1298.0676911\ttest: 1541.9265376\tbest: 1541.9265376 (916)\ttotal: 4m 9s\tremaining: 22.5s\n",
      "917:\tlearn: 1297.9084985\ttest: 1541.8578925\tbest: 1541.8578925 (917)\ttotal: 4m 9s\tremaining: 22.3s\n",
      "918:\tlearn: 1297.7783531\ttest: 1541.8317757\tbest: 1541.8317757 (918)\ttotal: 4m 9s\tremaining: 22s\n",
      "919:\tlearn: 1297.7184370\ttest: 1541.8389479\tbest: 1541.8317757 (918)\ttotal: 4m 9s\tremaining: 21.7s\n",
      "920:\tlearn: 1297.6428253\ttest: 1541.7858552\tbest: 1541.7858552 (920)\ttotal: 4m 10s\tremaining: 21.5s\n",
      "921:\tlearn: 1297.4219285\ttest: 1541.7338585\tbest: 1541.7338585 (921)\ttotal: 4m 10s\tremaining: 21.2s\n",
      "922:\tlearn: 1297.1312889\ttest: 1541.6493529\tbest: 1541.6493529 (922)\ttotal: 4m 10s\tremaining: 20.9s\n",
      "923:\tlearn: 1296.8907337\ttest: 1541.5488680\tbest: 1541.5488680 (923)\ttotal: 4m 10s\tremaining: 20.6s\n",
      "924:\tlearn: 1296.5801910\ttest: 1541.4376103\tbest: 1541.4376103 (924)\ttotal: 4m 11s\tremaining: 20.4s\n",
      "925:\tlearn: 1296.3602827\ttest: 1541.4158466\tbest: 1541.4158466 (925)\ttotal: 4m 11s\tremaining: 20.1s\n",
      "926:\tlearn: 1296.1707146\ttest: 1541.3366110\tbest: 1541.3366110 (926)\ttotal: 4m 11s\tremaining: 19.8s\n",
      "927:\tlearn: 1296.0953065\ttest: 1541.3072225\tbest: 1541.3072225 (927)\ttotal: 4m 12s\tremaining: 19.6s\n",
      "928:\tlearn: 1295.7985676\ttest: 1541.2286512\tbest: 1541.2286512 (928)\ttotal: 4m 12s\tremaining: 19.3s\n",
      "929:\tlearn: 1295.7835159\ttest: 1541.2197374\tbest: 1541.2197374 (929)\ttotal: 4m 12s\tremaining: 19s\n",
      "930:\tlearn: 1295.5729828\ttest: 1541.1627720\tbest: 1541.1627720 (930)\ttotal: 4m 12s\tremaining: 18.7s\n",
      "931:\tlearn: 1295.3060287\ttest: 1541.1265532\tbest: 1541.1265532 (931)\ttotal: 4m 13s\tremaining: 18.5s\n",
      "932:\tlearn: 1295.1360452\ttest: 1541.0533817\tbest: 1541.0533817 (932)\ttotal: 4m 13s\tremaining: 18.2s\n",
      "933:\tlearn: 1295.0065087\ttest: 1541.0031799\tbest: 1541.0031799 (933)\ttotal: 4m 13s\tremaining: 17.9s\n",
      "934:\tlearn: 1294.8036670\ttest: 1540.9334784\tbest: 1540.9334784 (934)\ttotal: 4m 13s\tremaining: 17.6s\n",
      "935:\tlearn: 1294.7926404\ttest: 1540.9343403\tbest: 1540.9334784 (934)\ttotal: 4m 14s\tremaining: 17.4s\n",
      "936:\tlearn: 1294.6156781\ttest: 1540.9043739\tbest: 1540.9043739 (936)\ttotal: 4m 14s\tremaining: 17.1s\n",
      "937:\tlearn: 1294.4291592\ttest: 1540.9771602\tbest: 1540.9043739 (936)\ttotal: 4m 14s\tremaining: 16.8s\n",
      "938:\tlearn: 1294.2649694\ttest: 1540.9793431\tbest: 1540.9043739 (936)\ttotal: 4m 14s\tremaining: 16.6s\n",
      "939:\tlearn: 1294.1401791\ttest: 1540.9714791\tbest: 1540.9043739 (936)\ttotal: 4m 15s\tremaining: 16.3s\n",
      "940:\tlearn: 1293.6749375\ttest: 1540.9552922\tbest: 1540.9043739 (936)\ttotal: 4m 15s\tremaining: 16s\n",
      "941:\tlearn: 1293.6044676\ttest: 1540.9160864\tbest: 1540.9043739 (936)\ttotal: 4m 15s\tremaining: 15.7s\n",
      "942:\tlearn: 1293.5589329\ttest: 1540.9020682\tbest: 1540.9020682 (942)\ttotal: 4m 16s\tremaining: 15.5s\n",
      "943:\tlearn: 1293.4995815\ttest: 1540.9010740\tbest: 1540.9010740 (943)\ttotal: 4m 16s\tremaining: 15.2s\n",
      "944:\tlearn: 1293.4600481\ttest: 1540.8676143\tbest: 1540.8676143 (944)\ttotal: 4m 16s\tremaining: 14.9s\n",
      "945:\tlearn: 1293.3167262\ttest: 1540.9157283\tbest: 1540.8676143 (944)\ttotal: 4m 16s\tremaining: 14.7s\n",
      "946:\tlearn: 1293.1534536\ttest: 1540.8570887\tbest: 1540.8570887 (946)\ttotal: 4m 17s\tremaining: 14.4s\n",
      "947:\tlearn: 1292.9340096\ttest: 1540.8172756\tbest: 1540.8172756 (947)\ttotal: 4m 17s\tremaining: 14.1s\n",
      "948:\tlearn: 1292.6996909\ttest: 1540.8057504\tbest: 1540.8057504 (948)\ttotal: 4m 17s\tremaining: 13.8s\n",
      "949:\tlearn: 1292.6293377\ttest: 1540.7735788\tbest: 1540.7735788 (949)\ttotal: 4m 17s\tremaining: 13.6s\n",
      "950:\tlearn: 1292.3106487\ttest: 1540.8142731\tbest: 1540.7735788 (949)\ttotal: 4m 18s\tremaining: 13.3s\n",
      "951:\tlearn: 1291.9822623\ttest: 1540.7249466\tbest: 1540.7249466 (951)\ttotal: 4m 18s\tremaining: 13s\n",
      "952:\tlearn: 1291.8034619\ttest: 1540.7193868\tbest: 1540.7193868 (952)\ttotal: 4m 18s\tremaining: 12.8s\n",
      "953:\tlearn: 1291.6544424\ttest: 1540.7263163\tbest: 1540.7193868 (952)\ttotal: 4m 19s\tremaining: 12.5s\n",
      "954:\tlearn: 1291.5757131\ttest: 1540.7054806\tbest: 1540.7054806 (954)\ttotal: 4m 19s\tremaining: 12.2s\n",
      "955:\tlearn: 1291.4103990\ttest: 1540.6517762\tbest: 1540.6517762 (955)\ttotal: 4m 19s\tremaining: 11.9s\n",
      "956:\tlearn: 1291.3190433\ttest: 1540.5712486\tbest: 1540.5712486 (956)\ttotal: 4m 19s\tremaining: 11.7s\n",
      "957:\tlearn: 1291.0440955\ttest: 1540.5251155\tbest: 1540.5251155 (957)\ttotal: 4m 20s\tremaining: 11.4s\n",
      "958:\tlearn: 1290.9977447\ttest: 1540.4960897\tbest: 1540.4960897 (958)\ttotal: 4m 20s\tremaining: 11.1s\n",
      "959:\tlearn: 1290.5351361\ttest: 1540.4101923\tbest: 1540.4101923 (959)\ttotal: 4m 20s\tremaining: 10.9s\n",
      "960:\tlearn: 1290.0803133\ttest: 1540.2914755\tbest: 1540.2914755 (960)\ttotal: 4m 20s\tremaining: 10.6s\n",
      "961:\tlearn: 1289.9723384\ttest: 1540.2770791\tbest: 1540.2770791 (961)\ttotal: 4m 21s\tremaining: 10.3s\n",
      "962:\tlearn: 1289.8904241\ttest: 1540.2509339\tbest: 1540.2509339 (962)\ttotal: 4m 21s\tremaining: 10s\n",
      "963:\tlearn: 1289.7402140\ttest: 1540.2442800\tbest: 1540.2442800 (963)\ttotal: 4m 21s\tremaining: 9.77s\n",
      "964:\tlearn: 1289.6089367\ttest: 1540.2105698\tbest: 1540.2105698 (964)\ttotal: 4m 22s\tremaining: 9.5s\n",
      "965:\tlearn: 1289.4934739\ttest: 1540.1789225\tbest: 1540.1789225 (965)\ttotal: 4m 22s\tremaining: 9.23s\n",
      "966:\tlearn: 1289.4730531\ttest: 1540.1850592\tbest: 1540.1789225 (965)\ttotal: 4m 22s\tremaining: 8.96s\n",
      "967:\tlearn: 1289.2610097\ttest: 1540.0995965\tbest: 1540.0995965 (967)\ttotal: 4m 22s\tremaining: 8.69s\n",
      "968:\tlearn: 1289.1752194\ttest: 1540.1145882\tbest: 1540.0995965 (967)\ttotal: 4m 23s\tremaining: 8.42s\n",
      "969:\tlearn: 1289.1231334\ttest: 1540.1403924\tbest: 1540.0995965 (967)\ttotal: 4m 23s\tremaining: 8.15s\n",
      "970:\tlearn: 1289.0108841\ttest: 1540.1460049\tbest: 1540.0995965 (967)\ttotal: 4m 23s\tremaining: 7.88s\n",
      "971:\tlearn: 1288.7908089\ttest: 1540.1325426\tbest: 1540.0995965 (967)\ttotal: 4m 24s\tremaining: 7.61s\n",
      "972:\tlearn: 1288.5230594\ttest: 1540.0971736\tbest: 1540.0971736 (972)\ttotal: 4m 24s\tremaining: 7.34s\n",
      "973:\tlearn: 1288.4392122\ttest: 1540.0712850\tbest: 1540.0712850 (973)\ttotal: 4m 24s\tremaining: 7.06s\n",
      "974:\tlearn: 1288.3343492\ttest: 1540.0138287\tbest: 1540.0138287 (974)\ttotal: 4m 24s\tremaining: 6.79s\n",
      "975:\tlearn: 1287.8524871\ttest: 1539.8152491\tbest: 1539.8152491 (975)\ttotal: 4m 25s\tremaining: 6.52s\n",
      "976:\tlearn: 1287.7041632\ttest: 1539.7696360\tbest: 1539.7696360 (976)\ttotal: 4m 25s\tremaining: 6.25s\n",
      "977:\tlearn: 1287.6063223\ttest: 1539.7854293\tbest: 1539.7696360 (976)\ttotal: 4m 25s\tremaining: 5.97s\n",
      "978:\tlearn: 1287.5393548\ttest: 1539.7687982\tbest: 1539.7687982 (978)\ttotal: 4m 25s\tremaining: 5.7s\n",
      "979:\tlearn: 1287.2689175\ttest: 1539.7797118\tbest: 1539.7687982 (978)\ttotal: 4m 26s\tremaining: 5.43s\n",
      "980:\tlearn: 1287.0039915\ttest: 1539.7304775\tbest: 1539.7304775 (980)\ttotal: 4m 26s\tremaining: 5.16s\n",
      "981:\tlearn: 1286.9232936\ttest: 1539.7057031\tbest: 1539.7057031 (981)\ttotal: 4m 26s\tremaining: 4.89s\n",
      "982:\tlearn: 1286.8923974\ttest: 1539.7094989\tbest: 1539.7057031 (981)\ttotal: 4m 27s\tremaining: 4.62s\n",
      "983:\tlearn: 1286.6877484\ttest: 1539.7084813\tbest: 1539.7057031 (981)\ttotal: 4m 27s\tremaining: 4.34s\n",
      "984:\tlearn: 1286.6828112\ttest: 1539.7051146\tbest: 1539.7051146 (984)\ttotal: 4m 27s\tremaining: 4.07s\n",
      "985:\tlearn: 1286.6740871\ttest: 1539.7072279\tbest: 1539.7051146 (984)\ttotal: 4m 27s\tremaining: 3.8s\n",
      "986:\tlearn: 1286.6333527\ttest: 1539.6970162\tbest: 1539.6970162 (986)\ttotal: 4m 28s\tremaining: 3.53s\n",
      "987:\tlearn: 1286.4538605\ttest: 1539.6543405\tbest: 1539.6543405 (987)\ttotal: 4m 28s\tremaining: 3.26s\n",
      "988:\tlearn: 1286.3437407\ttest: 1539.6409204\tbest: 1539.6409204 (988)\ttotal: 4m 28s\tremaining: 2.99s\n",
      "989:\tlearn: 1286.3428706\ttest: 1539.6397051\tbest: 1539.6397051 (989)\ttotal: 4m 28s\tremaining: 2.71s\n",
      "990:\tlearn: 1286.2515780\ttest: 1539.6367226\tbest: 1539.6367226 (990)\ttotal: 4m 28s\tremaining: 2.44s\n",
      "991:\tlearn: 1286.1180830\ttest: 1539.5952091\tbest: 1539.5952091 (991)\ttotal: 4m 29s\tremaining: 2.17s\n",
      "992:\tlearn: 1286.0452569\ttest: 1539.5745611\tbest: 1539.5745611 (992)\ttotal: 4m 29s\tremaining: 1.9s\n",
      "993:\tlearn: 1285.7965749\ttest: 1539.5249320\tbest: 1539.5249320 (993)\ttotal: 4m 29s\tremaining: 1.63s\n",
      "994:\tlearn: 1285.6955631\ttest: 1539.5143491\tbest: 1539.5143491 (994)\ttotal: 4m 29s\tremaining: 1.36s\n",
      "995:\tlearn: 1285.5553625\ttest: 1539.5559659\tbest: 1539.5143491 (994)\ttotal: 4m 30s\tremaining: 1.08s\n",
      "996:\tlearn: 1285.4204572\ttest: 1539.5364359\tbest: 1539.5143491 (994)\ttotal: 4m 30s\tremaining: 814ms\n",
      "997:\tlearn: 1285.3209694\ttest: 1539.5198589\tbest: 1539.5143491 (994)\ttotal: 4m 30s\tremaining: 543ms\n",
      "998:\tlearn: 1285.2480888\ttest: 1539.5055792\tbest: 1539.5055792 (998)\ttotal: 4m 31s\tremaining: 271ms\n",
      "999:\tlearn: 1285.1075141\ttest: 1539.4484243\tbest: 1539.4484243 (999)\ttotal: 4m 31s\tremaining: 0us\n",
      "\n",
      "bestTest = 1539.448424\n",
      "bestIteration = 999\n",
      "\n",
      "Training on fold [2/3]\n",
      "0:\tlearn: 6126.1432311\ttest: 6127.3992623\tbest: 6127.3992623 (0)\ttotal: 277ms\tremaining: 4m 36s\n",
      "1:\tlearn: 5615.8804870\ttest: 5617.9018410\tbest: 5617.9018410 (1)\ttotal: 562ms\tremaining: 4m 40s\n",
      "2:\tlearn: 5149.1447693\ttest: 5156.3643888\tbest: 5156.3643888 (2)\ttotal: 910ms\tremaining: 5m 2s\n",
      "3:\tlearn: 4735.9394253\ttest: 4748.4739711\tbest: 4748.4739711 (3)\ttotal: 1.14s\tremaining: 4m 43s\n",
      "4:\tlearn: 4370.2961443\ttest: 4385.6465324\tbest: 4385.6465324 (4)\ttotal: 1.38s\tremaining: 4m 34s\n",
      "5:\tlearn: 4040.4658036\ttest: 4056.6309353\tbest: 4056.6309353 (5)\ttotal: 1.68s\tremaining: 4m 38s\n",
      "6:\tlearn: 3751.1276258\ttest: 3770.2000827\tbest: 3770.2000827 (6)\ttotal: 1.97s\tremaining: 4m 38s\n",
      "7:\tlearn: 3497.2428171\ttest: 3518.7647152\tbest: 3518.7647152 (7)\ttotal: 2.23s\tremaining: 4m 36s\n",
      "8:\tlearn: 3270.4856550\ttest: 3292.2770862\tbest: 3292.2770862 (8)\ttotal: 2.57s\tremaining: 4m 43s\n",
      "9:\tlearn: 3074.7705228\ttest: 3097.5090847\tbest: 3097.5090847 (9)\ttotal: 2.8s\tremaining: 4m 37s\n",
      "10:\tlearn: 2902.9517340\ttest: 2927.3470965\tbest: 2927.3470965 (10)\ttotal: 3.03s\tremaining: 4m 32s\n",
      "11:\tlearn: 2751.5659065\ttest: 2774.9071524\tbest: 2774.9071524 (11)\ttotal: 3.27s\tremaining: 4m 29s\n",
      "12:\tlearn: 2619.4647345\ttest: 2643.2573482\tbest: 2643.2573482 (12)\ttotal: 3.54s\tremaining: 4m 28s\n",
      "13:\tlearn: 2502.7038406\ttest: 2527.4572301\tbest: 2527.4572301 (13)\ttotal: 3.84s\tremaining: 4m 30s\n",
      "14:\tlearn: 2402.3622940\ttest: 2426.5038025\tbest: 2426.5038025 (14)\ttotal: 4.17s\tremaining: 4m 33s\n",
      "15:\tlearn: 2314.9893812\ttest: 2339.5586075\tbest: 2339.5586075 (15)\ttotal: 4.41s\tremaining: 4m 31s\n",
      "16:\tlearn: 2239.6702129\ttest: 2263.2701112\tbest: 2263.2701112 (16)\ttotal: 4.67s\tremaining: 4m 30s\n",
      "17:\tlearn: 2176.1525114\ttest: 2199.7635569\tbest: 2199.7635569 (17)\ttotal: 4.98s\tremaining: 4m 31s\n",
      "18:\tlearn: 2119.4116149\ttest: 2142.5116410\tbest: 2142.5116410 (18)\ttotal: 5.24s\tremaining: 4m 30s\n",
      "19:\tlearn: 2070.3788753\ttest: 2093.1332802\tbest: 2093.1332802 (19)\ttotal: 5.57s\tremaining: 4m 33s\n",
      "20:\tlearn: 2028.5188399\ttest: 2052.2414793\tbest: 2052.2414793 (20)\ttotal: 5.8s\tremaining: 4m 30s\n",
      "21:\tlearn: 1993.2491787\ttest: 2016.8162036\tbest: 2016.8162036 (21)\ttotal: 6.12s\tremaining: 4m 32s\n",
      "22:\tlearn: 1962.2947063\ttest: 1985.5606513\tbest: 1985.5606513 (22)\ttotal: 6.34s\tremaining: 4m 29s\n",
      "23:\tlearn: 1937.9522773\ttest: 1960.8501292\tbest: 1960.8501292 (23)\ttotal: 6.67s\tremaining: 4m 31s\n",
      "24:\tlearn: 1914.7271485\ttest: 1936.9529095\tbest: 1936.9529095 (24)\ttotal: 6.99s\tremaining: 4m 32s\n",
      "25:\tlearn: 1893.8076997\ttest: 1916.3509155\tbest: 1916.3509155 (25)\ttotal: 7.22s\tremaining: 4m 30s\n",
      "26:\tlearn: 1876.9171863\ttest: 1899.3081255\tbest: 1899.3081255 (26)\ttotal: 7.5s\tremaining: 4m 30s\n",
      "27:\tlearn: 1860.2932170\ttest: 1882.4812580\tbest: 1882.4812580 (27)\ttotal: 7.73s\tremaining: 4m 28s\n",
      "28:\tlearn: 1844.2995486\ttest: 1866.9420899\tbest: 1866.9420899 (28)\ttotal: 8.01s\tremaining: 4m 28s\n",
      "29:\tlearn: 1826.2652392\ttest: 1849.7033172\tbest: 1849.7033172 (29)\ttotal: 8.26s\tremaining: 4m 26s\n",
      "30:\tlearn: 1811.0760732\ttest: 1834.7909375\tbest: 1834.7909375 (30)\ttotal: 8.49s\tremaining: 4m 25s\n",
      "31:\tlearn: 1798.9040560\ttest: 1822.1582924\tbest: 1822.1582924 (31)\ttotal: 8.72s\tremaining: 4m 23s\n",
      "32:\tlearn: 1789.8425718\ttest: 1813.7533511\tbest: 1813.7533511 (32)\ttotal: 8.99s\tremaining: 4m 23s\n",
      "33:\tlearn: 1777.7112962\ttest: 1802.4161609\tbest: 1802.4161609 (33)\ttotal: 9.21s\tremaining: 4m 21s\n",
      "34:\tlearn: 1767.2467461\ttest: 1792.5113324\tbest: 1792.5113324 (34)\ttotal: 9.41s\tremaining: 4m 19s\n",
      "35:\tlearn: 1758.6686119\ttest: 1784.3599962\tbest: 1784.3599962 (35)\ttotal: 9.64s\tremaining: 4m 18s\n",
      "36:\tlearn: 1750.6093717\ttest: 1776.6328217\tbest: 1776.6328217 (36)\ttotal: 9.86s\tremaining: 4m 16s\n",
      "37:\tlearn: 1745.2071916\ttest: 1771.6929109\tbest: 1771.6929109 (37)\ttotal: 10.1s\tremaining: 4m 15s\n",
      "38:\tlearn: 1737.3352194\ttest: 1764.0981897\tbest: 1764.0981897 (38)\ttotal: 10.4s\tremaining: 4m 15s\n",
      "39:\tlearn: 1731.9647127\ttest: 1759.1877985\tbest: 1759.1877985 (39)\ttotal: 10.6s\tremaining: 4m 13s\n",
      "40:\tlearn: 1723.2324577\ttest: 1751.4714585\tbest: 1751.4714585 (40)\ttotal: 10.9s\tremaining: 4m 14s\n",
      "41:\tlearn: 1718.5116137\ttest: 1747.1064469\tbest: 1747.1064469 (41)\ttotal: 11.1s\tremaining: 4m 12s\n",
      "42:\tlearn: 1712.1876077\ttest: 1741.4527884\tbest: 1741.4527884 (42)\ttotal: 11.3s\tremaining: 4m 11s\n",
      "43:\tlearn: 1708.9992993\ttest: 1738.6923183\tbest: 1738.6923183 (43)\ttotal: 11.5s\tremaining: 4m 10s\n",
      "44:\tlearn: 1704.5181445\ttest: 1734.7724379\tbest: 1734.7724379 (44)\ttotal: 11.8s\tremaining: 4m 9s\n",
      "45:\tlearn: 1700.4900611\ttest: 1731.6851510\tbest: 1731.6851510 (45)\ttotal: 12s\tremaining: 4m 9s\n",
      "46:\tlearn: 1696.5110341\ttest: 1728.1306541\tbest: 1728.1306541 (46)\ttotal: 12.3s\tremaining: 4m 9s\n",
      "47:\tlearn: 1693.8903069\ttest: 1725.9559279\tbest: 1725.9559279 (47)\ttotal: 12.6s\tremaining: 4m 9s\n",
      "48:\tlearn: 1689.9645462\ttest: 1722.7796427\tbest: 1722.7796427 (48)\ttotal: 12.8s\tremaining: 4m 9s\n",
      "49:\tlearn: 1686.4208812\ttest: 1720.0840065\tbest: 1720.0840065 (49)\ttotal: 13.1s\tremaining: 4m 8s\n",
      "50:\tlearn: 1683.1102630\ttest: 1717.0720563\tbest: 1717.0720563 (50)\ttotal: 13.3s\tremaining: 4m 7s\n",
      "51:\tlearn: 1680.0677857\ttest: 1714.3771262\tbest: 1714.3771262 (51)\ttotal: 13.6s\tremaining: 4m 7s\n",
      "52:\tlearn: 1678.0058320\ttest: 1712.9848478\tbest: 1712.9848478 (52)\ttotal: 13.8s\tremaining: 4m 6s\n",
      "53:\tlearn: 1674.1468365\ttest: 1710.4461970\tbest: 1710.4461970 (53)\ttotal: 14s\tremaining: 4m 5s\n",
      "54:\tlearn: 1670.1262840\ttest: 1707.4670631\tbest: 1707.4670631 (54)\ttotal: 14.3s\tremaining: 4m 5s\n",
      "55:\tlearn: 1667.3746045\ttest: 1704.9209308\tbest: 1704.9209308 (55)\ttotal: 14.5s\tremaining: 4m 4s\n",
      "56:\tlearn: 1665.9278540\ttest: 1703.6943352\tbest: 1703.6943352 (56)\ttotal: 14.8s\tremaining: 4m 4s\n",
      "57:\tlearn: 1661.8387272\ttest: 1700.5084261\tbest: 1700.5084261 (57)\ttotal: 15s\tremaining: 4m 4s\n",
      "58:\tlearn: 1659.8916453\ttest: 1698.8787909\tbest: 1698.8787909 (58)\ttotal: 15.3s\tremaining: 4m 3s\n",
      "59:\tlearn: 1658.1418974\ttest: 1697.5215401\tbest: 1697.5215401 (59)\ttotal: 15.5s\tremaining: 4m 2s\n",
      "60:\tlearn: 1655.8510603\ttest: 1695.7242062\tbest: 1695.7242062 (60)\ttotal: 15.8s\tremaining: 4m 2s\n",
      "61:\tlearn: 1654.4735596\ttest: 1694.8508712\tbest: 1694.8508712 (61)\ttotal: 16.1s\tremaining: 4m 2s\n",
      "62:\tlearn: 1653.0285088\ttest: 1693.5231673\tbest: 1693.5231673 (62)\ttotal: 16.3s\tremaining: 4m 2s\n",
      "63:\tlearn: 1651.5250456\ttest: 1692.1997520\tbest: 1692.1997520 (63)\ttotal: 16.6s\tremaining: 4m 3s\n",
      "64:\tlearn: 1649.5886883\ttest: 1690.9406696\tbest: 1690.9406696 (64)\ttotal: 16.9s\tremaining: 4m 2s\n",
      "65:\tlearn: 1647.6304462\ttest: 1689.3754427\tbest: 1689.3754427 (65)\ttotal: 17.1s\tremaining: 4m 2s\n",
      "66:\tlearn: 1645.7037179\ttest: 1687.9045572\tbest: 1687.9045572 (66)\ttotal: 17.4s\tremaining: 4m 2s\n",
      "67:\tlearn: 1641.8416795\ttest: 1684.8152707\tbest: 1684.8152707 (67)\ttotal: 17.7s\tremaining: 4m 2s\n",
      "68:\tlearn: 1639.5586319\ttest: 1682.8072649\tbest: 1682.8072649 (68)\ttotal: 17.9s\tremaining: 4m 1s\n",
      "69:\tlearn: 1638.2322735\ttest: 1681.6096101\tbest: 1681.6096101 (69)\ttotal: 18.1s\tremaining: 4m 1s\n",
      "70:\tlearn: 1636.7985568\ttest: 1680.6545169\tbest: 1680.6545169 (70)\ttotal: 18.4s\tremaining: 4m\n",
      "71:\tlearn: 1634.1717970\ttest: 1678.6384216\tbest: 1678.6384216 (71)\ttotal: 18.6s\tremaining: 4m\n",
      "72:\tlearn: 1632.0342293\ttest: 1677.5384955\tbest: 1677.5384955 (72)\ttotal: 18.9s\tremaining: 3m 59s\n",
      "73:\tlearn: 1630.6828726\ttest: 1676.3975341\tbest: 1676.3975341 (73)\ttotal: 19.1s\tremaining: 3m 59s\n",
      "74:\tlearn: 1628.3089672\ttest: 1674.6284636\tbest: 1674.6284636 (74)\ttotal: 19.4s\tremaining: 3m 58s\n",
      "75:\tlearn: 1626.7001514\ttest: 1673.6406889\tbest: 1673.6406889 (75)\ttotal: 19.6s\tremaining: 3m 58s\n",
      "76:\tlearn: 1624.1582786\ttest: 1671.6029272\tbest: 1671.6029272 (76)\ttotal: 19.9s\tremaining: 3m 57s\n",
      "77:\tlearn: 1623.1315468\ttest: 1670.6963190\tbest: 1670.6963190 (77)\ttotal: 20.1s\tremaining: 3m 57s\n",
      "78:\tlearn: 1620.1576333\ttest: 1668.2392527\tbest: 1668.2392527 (78)\ttotal: 20.4s\tremaining: 3m 57s\n",
      "79:\tlearn: 1616.7185571\ttest: 1665.7535840\tbest: 1665.7535840 (79)\ttotal: 20.7s\tremaining: 3m 57s\n",
      "80:\tlearn: 1615.0419988\ttest: 1664.5437615\tbest: 1664.5437615 (80)\ttotal: 20.9s\tremaining: 3m 57s\n",
      "81:\tlearn: 1613.4096353\ttest: 1663.3216009\tbest: 1663.3216009 (81)\ttotal: 21.2s\tremaining: 3m 57s\n",
      "82:\tlearn: 1612.0960179\ttest: 1662.5241095\tbest: 1662.5241095 (82)\ttotal: 21.4s\tremaining: 3m 56s\n",
      "83:\tlearn: 1610.5194807\ttest: 1661.2923239\tbest: 1661.2923239 (83)\ttotal: 21.7s\tremaining: 3m 56s\n",
      "84:\tlearn: 1608.1463173\ttest: 1659.6603315\tbest: 1659.6603315 (84)\ttotal: 21.9s\tremaining: 3m 55s\n",
      "85:\tlearn: 1607.1973091\ttest: 1659.1443144\tbest: 1659.1443144 (85)\ttotal: 22.1s\tremaining: 3m 55s\n",
      "86:\tlearn: 1605.4642956\ttest: 1657.8090780\tbest: 1657.8090780 (86)\ttotal: 22.3s\tremaining: 3m 54s\n",
      "87:\tlearn: 1604.5526524\ttest: 1657.0285465\tbest: 1657.0285465 (87)\ttotal: 22.6s\tremaining: 3m 54s\n",
      "88:\tlearn: 1602.3864119\ttest: 1655.4712004\tbest: 1655.4712004 (88)\ttotal: 22.8s\tremaining: 3m 53s\n",
      "89:\tlearn: 1601.1556514\ttest: 1654.4910845\tbest: 1654.4910845 (89)\ttotal: 23s\tremaining: 3m 52s\n",
      "90:\tlearn: 1598.9234216\ttest: 1653.1705673\tbest: 1653.1705673 (90)\ttotal: 23.3s\tremaining: 3m 52s\n",
      "91:\tlearn: 1597.5066680\ttest: 1652.0072276\tbest: 1652.0072276 (91)\ttotal: 23.6s\tremaining: 3m 52s\n",
      "92:\tlearn: 1596.4046801\ttest: 1651.2184244\tbest: 1651.2184244 (92)\ttotal: 23.8s\tremaining: 3m 52s\n",
      "93:\tlearn: 1594.2104042\ttest: 1650.0581225\tbest: 1650.0581225 (93)\ttotal: 24.1s\tremaining: 3m 51s\n",
      "94:\tlearn: 1593.1498864\ttest: 1649.3413149\tbest: 1649.3413149 (94)\ttotal: 24.3s\tremaining: 3m 51s\n",
      "95:\tlearn: 1590.7226287\ttest: 1647.9234758\tbest: 1647.9234758 (95)\ttotal: 24.6s\tremaining: 3m 51s\n",
      "96:\tlearn: 1589.6158575\ttest: 1647.0570172\tbest: 1647.0570172 (96)\ttotal: 24.8s\tremaining: 3m 50s\n",
      "97:\tlearn: 1586.7736966\ttest: 1645.0656230\tbest: 1645.0656230 (97)\ttotal: 25s\tremaining: 3m 50s\n",
      "98:\tlearn: 1586.3696531\ttest: 1644.8526823\tbest: 1644.8526823 (98)\ttotal: 25.3s\tremaining: 3m 50s\n",
      "99:\tlearn: 1584.9293700\ttest: 1643.9550747\tbest: 1643.9550747 (99)\ttotal: 25.5s\tremaining: 3m 49s\n",
      "100:\tlearn: 1583.4871026\ttest: 1642.6774903\tbest: 1642.6774903 (100)\ttotal: 25.8s\tremaining: 3m 49s\n",
      "101:\tlearn: 1582.4772297\ttest: 1641.8365362\tbest: 1641.8365362 (101)\ttotal: 26s\tremaining: 3m 49s\n",
      "102:\tlearn: 1581.8436415\ttest: 1641.7042934\tbest: 1641.7042934 (102)\ttotal: 26.3s\tremaining: 3m 49s\n",
      "103:\tlearn: 1580.0942963\ttest: 1640.3539014\tbest: 1640.3539014 (103)\ttotal: 26.6s\tremaining: 3m 49s\n",
      "104:\tlearn: 1578.4169742\ttest: 1639.3458852\tbest: 1639.3458852 (104)\ttotal: 27s\tremaining: 3m 49s\n",
      "105:\tlearn: 1577.8336650\ttest: 1638.9334525\tbest: 1638.9334525 (105)\ttotal: 27.3s\tremaining: 3m 49s\n",
      "106:\tlearn: 1576.9139342\ttest: 1638.2093531\tbest: 1638.2093531 (106)\ttotal: 27.6s\tremaining: 3m 50s\n",
      "107:\tlearn: 1576.2786748\ttest: 1637.9371174\tbest: 1637.9371174 (107)\ttotal: 27.9s\tremaining: 3m 50s\n",
      "108:\tlearn: 1574.9058216\ttest: 1636.9910271\tbest: 1636.9910271 (108)\ttotal: 28.1s\tremaining: 3m 49s\n",
      "109:\tlearn: 1573.4768664\ttest: 1636.1198703\tbest: 1636.1198703 (109)\ttotal: 28.4s\tremaining: 3m 49s\n",
      "110:\tlearn: 1572.1289765\ttest: 1635.3401106\tbest: 1635.3401106 (110)\ttotal: 28.6s\tremaining: 3m 49s\n",
      "111:\tlearn: 1571.4888499\ttest: 1634.8023968\tbest: 1634.8023968 (111)\ttotal: 28.9s\tremaining: 3m 48s\n",
      "112:\tlearn: 1570.1572041\ttest: 1633.8561945\tbest: 1633.8561945 (112)\ttotal: 29.1s\tremaining: 3m 48s\n",
      "113:\tlearn: 1569.7823782\ttest: 1633.6304308\tbest: 1633.6304308 (113)\ttotal: 29.4s\tremaining: 3m 48s\n",
      "114:\tlearn: 1568.6331158\ttest: 1632.9760298\tbest: 1632.9760298 (114)\ttotal: 29.6s\tremaining: 3m 48s\n",
      "115:\tlearn: 1568.0639222\ttest: 1632.6200109\tbest: 1632.6200109 (115)\ttotal: 29.9s\tremaining: 3m 47s\n",
      "116:\tlearn: 1567.1859895\ttest: 1632.0387390\tbest: 1632.0387390 (116)\ttotal: 30.2s\tremaining: 3m 48s\n",
      "117:\tlearn: 1564.9843503\ttest: 1630.8308062\tbest: 1630.8308062 (117)\ttotal: 30.5s\tremaining: 3m 48s\n",
      "118:\tlearn: 1564.0245428\ttest: 1630.2408208\tbest: 1630.2408208 (118)\ttotal: 30.8s\tremaining: 3m 47s\n",
      "119:\tlearn: 1562.7819777\ttest: 1629.1850815\tbest: 1629.1850815 (119)\ttotal: 31.1s\tremaining: 3m 47s\n",
      "120:\tlearn: 1562.1829686\ttest: 1628.8415846\tbest: 1628.8415846 (120)\ttotal: 31.3s\tremaining: 3m 47s\n",
      "121:\tlearn: 1560.7088724\ttest: 1628.0020586\tbest: 1628.0020586 (121)\ttotal: 31.5s\tremaining: 3m 47s\n",
      "122:\tlearn: 1559.2113240\ttest: 1627.1518748\tbest: 1627.1518748 (122)\ttotal: 31.8s\tremaining: 3m 46s\n",
      "123:\tlearn: 1558.7136463\ttest: 1626.8082061\tbest: 1626.8082061 (123)\ttotal: 32s\tremaining: 3m 46s\n",
      "124:\tlearn: 1557.4960156\ttest: 1626.0974014\tbest: 1626.0974014 (124)\ttotal: 32.3s\tremaining: 3m 46s\n",
      "125:\tlearn: 1556.3174321\ttest: 1625.2062727\tbest: 1625.2062727 (125)\ttotal: 32.6s\tremaining: 3m 46s\n",
      "126:\tlearn: 1555.4392991\ttest: 1624.8180088\tbest: 1624.8180088 (126)\ttotal: 32.9s\tremaining: 3m 46s\n",
      "127:\tlearn: 1554.8026570\ttest: 1624.5598311\tbest: 1624.5598311 (127)\ttotal: 33.1s\tremaining: 3m 45s\n",
      "128:\tlearn: 1553.3248968\ttest: 1623.7159706\tbest: 1623.7159706 (128)\ttotal: 33.4s\tremaining: 3m 45s\n",
      "129:\tlearn: 1552.7262881\ttest: 1623.5884031\tbest: 1623.5884031 (129)\ttotal: 33.6s\tremaining: 3m 44s\n",
      "130:\tlearn: 1551.2589454\ttest: 1622.7184274\tbest: 1622.7184274 (130)\ttotal: 33.8s\tremaining: 3m 44s\n",
      "131:\tlearn: 1550.4391976\ttest: 1622.3456070\tbest: 1622.3456070 (131)\ttotal: 34.1s\tremaining: 3m 44s\n",
      "132:\tlearn: 1549.3879868\ttest: 1621.4370789\tbest: 1621.4370789 (132)\ttotal: 34.4s\tremaining: 3m 44s\n",
      "133:\tlearn: 1548.2826679\ttest: 1620.7709567\tbest: 1620.7709567 (133)\ttotal: 34.7s\tremaining: 3m 44s\n",
      "134:\tlearn: 1547.9233946\ttest: 1620.4825920\tbest: 1620.4825920 (134)\ttotal: 34.9s\tremaining: 3m 43s\n",
      "135:\tlearn: 1547.6064578\ttest: 1620.1671958\tbest: 1620.1671958 (135)\ttotal: 35.2s\tremaining: 3m 43s\n",
      "136:\tlearn: 1546.6300953\ttest: 1619.6369685\tbest: 1619.6369685 (136)\ttotal: 35.4s\tremaining: 3m 43s\n",
      "137:\tlearn: 1545.2265089\ttest: 1618.8713192\tbest: 1618.8713192 (137)\ttotal: 35.7s\tremaining: 3m 43s\n",
      "138:\tlearn: 1544.7448584\ttest: 1618.6177038\tbest: 1618.6177038 (138)\ttotal: 36s\tremaining: 3m 42s\n",
      "139:\tlearn: 1544.4221125\ttest: 1618.4554508\tbest: 1618.4554508 (139)\ttotal: 36.3s\tremaining: 3m 42s\n",
      "140:\tlearn: 1543.9882862\ttest: 1617.9349574\tbest: 1617.9349574 (140)\ttotal: 36.5s\tremaining: 3m 42s\n",
      "141:\tlearn: 1543.7559209\ttest: 1617.8707551\tbest: 1617.8707551 (141)\ttotal: 36.7s\tremaining: 3m 41s\n",
      "142:\tlearn: 1542.3277639\ttest: 1616.7715360\tbest: 1616.7715360 (142)\ttotal: 37s\tremaining: 3m 41s\n",
      "143:\tlearn: 1540.9461365\ttest: 1616.1120543\tbest: 1616.1120543 (143)\ttotal: 37.2s\tremaining: 3m 41s\n",
      "144:\tlearn: 1540.3199640\ttest: 1615.9138261\tbest: 1615.9138261 (144)\ttotal: 37.4s\tremaining: 3m 40s\n",
      "145:\tlearn: 1539.3863811\ttest: 1615.4195857\tbest: 1615.4195857 (145)\ttotal: 37.7s\tremaining: 3m 40s\n",
      "146:\tlearn: 1538.8141899\ttest: 1615.1555833\tbest: 1615.1555833 (146)\ttotal: 38s\tremaining: 3m 40s\n",
      "147:\tlearn: 1537.9849283\ttest: 1614.4472317\tbest: 1614.4472317 (147)\ttotal: 38.3s\tremaining: 3m 40s\n",
      "148:\tlearn: 1537.5362648\ttest: 1614.2212550\tbest: 1614.2212550 (148)\ttotal: 38.7s\tremaining: 3m 40s\n",
      "149:\tlearn: 1535.9926734\ttest: 1613.0788419\tbest: 1613.0788419 (149)\ttotal: 39s\tremaining: 3m 41s\n",
      "150:\tlearn: 1535.1627325\ttest: 1612.7139887\tbest: 1612.7139887 (150)\ttotal: 39.3s\tremaining: 3m 40s\n",
      "151:\tlearn: 1534.9322050\ttest: 1612.6209882\tbest: 1612.6209882 (151)\ttotal: 39.5s\tremaining: 3m 40s\n",
      "152:\tlearn: 1533.7763895\ttest: 1612.1183422\tbest: 1612.1183422 (152)\ttotal: 39.9s\tremaining: 3m 40s\n",
      "153:\tlearn: 1532.9394667\ttest: 1611.7642821\tbest: 1611.7642821 (153)\ttotal: 40.1s\tremaining: 3m 40s\n",
      "154:\tlearn: 1532.1882221\ttest: 1611.4060540\tbest: 1611.4060540 (154)\ttotal: 40.3s\tremaining: 3m 39s\n",
      "155:\tlearn: 1531.1498388\ttest: 1610.9342710\tbest: 1610.9342710 (155)\ttotal: 40.6s\tremaining: 3m 39s\n",
      "156:\tlearn: 1529.1768946\ttest: 1609.8827278\tbest: 1609.8827278 (156)\ttotal: 40.9s\tremaining: 3m 39s\n",
      "157:\tlearn: 1528.3614183\ttest: 1609.5447719\tbest: 1609.5447719 (157)\ttotal: 41.2s\tremaining: 3m 39s\n",
      "158:\tlearn: 1527.7343274\ttest: 1609.3062189\tbest: 1609.3062189 (158)\ttotal: 41.4s\tremaining: 3m 39s\n",
      "159:\tlearn: 1526.6034915\ttest: 1608.8242551\tbest: 1608.8242551 (159)\ttotal: 41.7s\tremaining: 3m 38s\n",
      "160:\tlearn: 1524.7940248\ttest: 1607.7936818\tbest: 1607.7936818 (160)\ttotal: 41.9s\tremaining: 3m 38s\n",
      "161:\tlearn: 1524.1317899\ttest: 1607.5269328\tbest: 1607.5269328 (161)\ttotal: 42.2s\tremaining: 3m 38s\n",
      "162:\tlearn: 1523.5317552\ttest: 1607.4734364\tbest: 1607.4734364 (162)\ttotal: 42.4s\tremaining: 3m 37s\n",
      "163:\tlearn: 1522.5107410\ttest: 1606.8637592\tbest: 1606.8637592 (163)\ttotal: 42.7s\tremaining: 3m 37s\n",
      "164:\tlearn: 1521.6700655\ttest: 1606.4205300\tbest: 1606.4205300 (164)\ttotal: 43s\tremaining: 3m 37s\n",
      "165:\tlearn: 1520.8290898\ttest: 1606.0793024\tbest: 1606.0793024 (165)\ttotal: 43.2s\tremaining: 3m 37s\n",
      "166:\tlearn: 1519.7498144\ttest: 1605.5311349\tbest: 1605.5311349 (166)\ttotal: 43.4s\tremaining: 3m 36s\n",
      "167:\tlearn: 1518.5390921\ttest: 1604.7757146\tbest: 1604.7757146 (167)\ttotal: 43.6s\tremaining: 3m 36s\n",
      "168:\tlearn: 1517.6335820\ttest: 1604.2890375\tbest: 1604.2890375 (168)\ttotal: 44s\tremaining: 3m 36s\n",
      "169:\tlearn: 1516.9962010\ttest: 1603.8714026\tbest: 1603.8714026 (169)\ttotal: 44.3s\tremaining: 3m 36s\n",
      "170:\tlearn: 1515.2931792\ttest: 1603.0583062\tbest: 1603.0583062 (170)\ttotal: 44.5s\tremaining: 3m 35s\n",
      "171:\tlearn: 1514.9038981\ttest: 1602.8558704\tbest: 1602.8558704 (171)\ttotal: 44.8s\tremaining: 3m 35s\n",
      "172:\tlearn: 1514.2234676\ttest: 1602.5197700\tbest: 1602.5197700 (172)\ttotal: 45s\tremaining: 3m 35s\n",
      "173:\tlearn: 1513.3039030\ttest: 1602.0012483\tbest: 1602.0012483 (173)\ttotal: 45.3s\tremaining: 3m 34s\n",
      "174:\tlearn: 1512.7851175\ttest: 1601.7306400\tbest: 1601.7306400 (174)\ttotal: 45.5s\tremaining: 3m 34s\n",
      "175:\tlearn: 1511.7791120\ttest: 1601.2961903\tbest: 1601.2961903 (175)\ttotal: 45.8s\tremaining: 3m 34s\n",
      "176:\tlearn: 1511.1829048\ttest: 1601.1575941\tbest: 1601.1575941 (176)\ttotal: 46s\tremaining: 3m 33s\n",
      "177:\tlearn: 1509.8985473\ttest: 1600.6147474\tbest: 1600.6147474 (177)\ttotal: 46.2s\tremaining: 3m 33s\n",
      "178:\tlearn: 1509.2663441\ttest: 1600.2891245\tbest: 1600.2891245 (178)\ttotal: 46.4s\tremaining: 3m 32s\n",
      "179:\tlearn: 1508.6639259\ttest: 1599.9655673\tbest: 1599.9655673 (179)\ttotal: 46.7s\tremaining: 3m 32s\n",
      "180:\tlearn: 1508.2939817\ttest: 1599.8493159\tbest: 1599.8493159 (180)\ttotal: 47.1s\tremaining: 3m 32s\n",
      "181:\tlearn: 1507.4361310\ttest: 1599.7079581\tbest: 1599.7079581 (181)\ttotal: 47.3s\tremaining: 3m 32s\n",
      "182:\tlearn: 1507.1149152\ttest: 1599.5588589\tbest: 1599.5588589 (182)\ttotal: 47.5s\tremaining: 3m 32s\n",
      "183:\tlearn: 1506.5535976\ttest: 1599.4142629\tbest: 1599.4142629 (183)\ttotal: 47.8s\tremaining: 3m 31s\n",
      "184:\tlearn: 1505.7890154\ttest: 1599.0079831\tbest: 1599.0079831 (184)\ttotal: 48s\tremaining: 3m 31s\n",
      "185:\tlearn: 1505.4722374\ttest: 1598.8261940\tbest: 1598.8261940 (185)\ttotal: 48.3s\tremaining: 3m 31s\n",
      "186:\tlearn: 1505.0181385\ttest: 1598.6456702\tbest: 1598.6456702 (186)\ttotal: 48.6s\tremaining: 3m 31s\n",
      "187:\tlearn: 1504.1821075\ttest: 1598.2960263\tbest: 1598.2960263 (187)\ttotal: 48.8s\tremaining: 3m 30s\n",
      "188:\tlearn: 1503.4305967\ttest: 1597.9052595\tbest: 1597.9052595 (188)\ttotal: 49s\tremaining: 3m 30s\n",
      "189:\tlearn: 1503.2503790\ttest: 1597.7343263\tbest: 1597.7343263 (189)\ttotal: 49.3s\tremaining: 3m 30s\n",
      "190:\tlearn: 1502.3672993\ttest: 1597.3498398\tbest: 1597.3498398 (190)\ttotal: 49.5s\tremaining: 3m 29s\n",
      "191:\tlearn: 1501.9132914\ttest: 1597.2889981\tbest: 1597.2889981 (191)\ttotal: 49.8s\tremaining: 3m 29s\n",
      "192:\tlearn: 1500.7689400\ttest: 1596.6957235\tbest: 1596.6957235 (192)\ttotal: 50.1s\tremaining: 3m 29s\n",
      "193:\tlearn: 1499.5318767\ttest: 1596.3734406\tbest: 1596.3734406 (193)\ttotal: 50.3s\tremaining: 3m 29s\n",
      "194:\tlearn: 1499.0752997\ttest: 1596.3568622\tbest: 1596.3568622 (194)\ttotal: 50.6s\tremaining: 3m 28s\n",
      "195:\tlearn: 1497.4674216\ttest: 1595.4584831\tbest: 1595.4584831 (195)\ttotal: 50.9s\tremaining: 3m 28s\n",
      "196:\tlearn: 1497.0419978\ttest: 1595.3378839\tbest: 1595.3378839 (196)\ttotal: 51.1s\tremaining: 3m 28s\n",
      "197:\tlearn: 1496.3114936\ttest: 1594.9789168\tbest: 1594.9789168 (197)\ttotal: 51.4s\tremaining: 3m 28s\n",
      "198:\tlearn: 1494.9992238\ttest: 1594.2238398\tbest: 1594.2238398 (198)\ttotal: 51.6s\tremaining: 3m 27s\n",
      "199:\tlearn: 1494.0127599\ttest: 1593.6886890\tbest: 1593.6886890 (199)\ttotal: 51.9s\tremaining: 3m 27s\n",
      "200:\tlearn: 1493.4157895\ttest: 1593.5545556\tbest: 1593.5545556 (200)\ttotal: 52.2s\tremaining: 3m 27s\n",
      "201:\tlearn: 1492.7849177\ttest: 1593.3216831\tbest: 1593.3216831 (201)\ttotal: 52.4s\tremaining: 3m 27s\n",
      "202:\tlearn: 1491.3275513\ttest: 1592.5245455\tbest: 1592.5245455 (202)\ttotal: 52.8s\tremaining: 3m 27s\n",
      "203:\tlearn: 1489.6762656\ttest: 1591.6896532\tbest: 1591.6896532 (203)\ttotal: 53s\tremaining: 3m 26s\n",
      "204:\tlearn: 1488.7120086\ttest: 1591.3421489\tbest: 1591.3421489 (204)\ttotal: 53.3s\tremaining: 3m 26s\n",
      "205:\tlearn: 1488.3887443\ttest: 1591.2650289\tbest: 1591.2650289 (205)\ttotal: 53.5s\tremaining: 3m 26s\n",
      "206:\tlearn: 1487.6912578\ttest: 1591.0580295\tbest: 1591.0580295 (206)\ttotal: 53.8s\tremaining: 3m 26s\n",
      "207:\tlearn: 1487.1957400\ttest: 1590.8671738\tbest: 1590.8671738 (207)\ttotal: 54s\tremaining: 3m 25s\n",
      "208:\tlearn: 1486.9179966\ttest: 1590.7796706\tbest: 1590.7796706 (208)\ttotal: 54.3s\tremaining: 3m 25s\n",
      "209:\tlearn: 1486.8422481\ttest: 1590.7168119\tbest: 1590.7168119 (209)\ttotal: 54.4s\tremaining: 3m 24s\n",
      "210:\tlearn: 1486.7325909\ttest: 1590.6876279\tbest: 1590.6876279 (210)\ttotal: 54.6s\tremaining: 3m 24s\n",
      "211:\tlearn: 1486.2613309\ttest: 1590.5841777\tbest: 1590.5841777 (211)\ttotal: 54.8s\tremaining: 3m 23s\n",
      "212:\tlearn: 1485.9430957\ttest: 1590.4589193\tbest: 1590.4589193 (212)\ttotal: 55.1s\tremaining: 3m 23s\n",
      "213:\tlearn: 1485.4632611\ttest: 1590.3042856\tbest: 1590.3042856 (213)\ttotal: 55.4s\tremaining: 3m 23s\n",
      "214:\tlearn: 1484.8825604\ttest: 1590.1035544\tbest: 1590.1035544 (214)\ttotal: 55.7s\tremaining: 3m 23s\n",
      "215:\tlearn: 1484.0189650\ttest: 1589.4807825\tbest: 1589.4807825 (215)\ttotal: 55.9s\tremaining: 3m 23s\n",
      "216:\tlearn: 1483.6284247\ttest: 1589.3177823\tbest: 1589.3177823 (216)\ttotal: 56.2s\tremaining: 3m 22s\n",
      "217:\tlearn: 1483.2190399\ttest: 1589.3544346\tbest: 1589.3177823 (216)\ttotal: 56.5s\tremaining: 3m 22s\n",
      "218:\tlearn: 1482.4237280\ttest: 1589.2300467\tbest: 1589.2300467 (218)\ttotal: 56.8s\tremaining: 3m 22s\n",
      "219:\tlearn: 1481.3232270\ttest: 1588.6961687\tbest: 1588.6961687 (219)\ttotal: 57.1s\tremaining: 3m 22s\n",
      "220:\tlearn: 1480.4268751\ttest: 1588.4382784\tbest: 1588.4382784 (220)\ttotal: 57.4s\tremaining: 3m 22s\n",
      "221:\tlearn: 1479.6882461\ttest: 1588.1776356\tbest: 1588.1776356 (221)\ttotal: 57.6s\tremaining: 3m 21s\n",
      "222:\tlearn: 1478.7514175\ttest: 1587.7303276\tbest: 1587.7303276 (222)\ttotal: 57.9s\tremaining: 3m 21s\n",
      "223:\tlearn: 1478.2107638\ttest: 1587.5254042\tbest: 1587.5254042 (223)\ttotal: 58.1s\tremaining: 3m 21s\n",
      "224:\tlearn: 1477.6226950\ttest: 1587.2308388\tbest: 1587.2308388 (224)\ttotal: 58.3s\tremaining: 3m 20s\n",
      "225:\tlearn: 1477.3304847\ttest: 1587.0969219\tbest: 1587.0969219 (225)\ttotal: 58.6s\tremaining: 3m 20s\n",
      "226:\tlearn: 1476.9098682\ttest: 1586.9705742\tbest: 1586.9705742 (226)\ttotal: 58.8s\tremaining: 3m 20s\n",
      "227:\tlearn: 1476.6653491\ttest: 1586.8288006\tbest: 1586.8288006 (227)\ttotal: 59s\tremaining: 3m 19s\n",
      "228:\tlearn: 1476.1290996\ttest: 1586.7184986\tbest: 1586.7184986 (228)\ttotal: 59.2s\tremaining: 3m 19s\n",
      "229:\tlearn: 1475.8988872\ttest: 1586.7268949\tbest: 1586.7184986 (228)\ttotal: 59.4s\tremaining: 3m 18s\n",
      "230:\tlearn: 1475.4578383\ttest: 1586.5459738\tbest: 1586.5459738 (230)\ttotal: 59.6s\tremaining: 3m 18s\n",
      "231:\tlearn: 1475.1243111\ttest: 1586.4584505\tbest: 1586.4584505 (231)\ttotal: 59.9s\tremaining: 3m 18s\n",
      "232:\tlearn: 1474.8783351\ttest: 1586.3105709\tbest: 1586.3105709 (232)\ttotal: 1m\tremaining: 3m 17s\n",
      "233:\tlearn: 1474.5582703\ttest: 1586.2017497\tbest: 1586.2017497 (233)\ttotal: 1m\tremaining: 3m 17s\n",
      "234:\tlearn: 1474.4920038\ttest: 1586.1995009\tbest: 1586.1995009 (234)\ttotal: 1m\tremaining: 3m 17s\n",
      "235:\tlearn: 1474.2396157\ttest: 1586.1689096\tbest: 1586.1689096 (235)\ttotal: 1m\tremaining: 3m 17s\n",
      "236:\tlearn: 1473.1942849\ttest: 1585.9496569\tbest: 1585.9496569 (236)\ttotal: 1m 1s\tremaining: 3m 17s\n",
      "237:\tlearn: 1472.7671008\ttest: 1585.8132760\tbest: 1585.8132760 (237)\ttotal: 1m 1s\tremaining: 3m 16s\n",
      "238:\tlearn: 1472.3235128\ttest: 1585.5931503\tbest: 1585.5931503 (238)\ttotal: 1m 1s\tremaining: 3m 16s\n",
      "239:\tlearn: 1472.2461065\ttest: 1585.5136907\tbest: 1585.5136907 (239)\ttotal: 1m 1s\tremaining: 3m 16s\n",
      "240:\tlearn: 1471.8316890\ttest: 1585.3757764\tbest: 1585.3757764 (240)\ttotal: 1m 2s\tremaining: 3m 15s\n",
      "241:\tlearn: 1471.1012688\ttest: 1584.9465197\tbest: 1584.9465197 (241)\ttotal: 1m 2s\tremaining: 3m 15s\n",
      "242:\tlearn: 1470.4318697\ttest: 1584.6720472\tbest: 1584.6720472 (242)\ttotal: 1m 2s\tremaining: 3m 15s\n",
      "243:\tlearn: 1469.6992838\ttest: 1584.4102595\tbest: 1584.4102595 (243)\ttotal: 1m 3s\tremaining: 3m 15s\n",
      "244:\tlearn: 1469.2827270\ttest: 1584.2744763\tbest: 1584.2744763 (244)\ttotal: 1m 3s\tremaining: 3m 15s\n",
      "245:\tlearn: 1468.4701375\ttest: 1583.7177646\tbest: 1583.7177646 (245)\ttotal: 1m 3s\tremaining: 3m 15s\n",
      "246:\tlearn: 1468.1939753\ttest: 1583.5495119\tbest: 1583.5495119 (246)\ttotal: 1m 3s\tremaining: 3m 14s\n",
      "247:\tlearn: 1467.8075688\ttest: 1583.3545622\tbest: 1583.3545622 (247)\ttotal: 1m 4s\tremaining: 3m 14s\n",
      "248:\tlearn: 1467.6242521\ttest: 1583.3803134\tbest: 1583.3545622 (247)\ttotal: 1m 4s\tremaining: 3m 14s\n",
      "249:\tlearn: 1467.2423064\ttest: 1583.2915578\tbest: 1583.2915578 (249)\ttotal: 1m 4s\tremaining: 3m 14s\n",
      "250:\tlearn: 1466.7756606\ttest: 1583.1617244\tbest: 1583.1617244 (250)\ttotal: 1m 4s\tremaining: 3m 13s\n",
      "251:\tlearn: 1465.9777635\ttest: 1582.6959581\tbest: 1582.6959581 (251)\ttotal: 1m 5s\tremaining: 3m 13s\n",
      "252:\tlearn: 1465.3113106\ttest: 1582.4631696\tbest: 1582.4631696 (252)\ttotal: 1m 5s\tremaining: 3m 13s\n",
      "253:\tlearn: 1464.8536986\ttest: 1582.3042075\tbest: 1582.3042075 (253)\ttotal: 1m 5s\tremaining: 3m 13s\n",
      "254:\tlearn: 1464.2478807\ttest: 1582.1822656\tbest: 1582.1822656 (254)\ttotal: 1m 6s\tremaining: 3m 12s\n",
      "255:\tlearn: 1463.7229994\ttest: 1582.0423339\tbest: 1582.0423339 (255)\ttotal: 1m 6s\tremaining: 3m 12s\n",
      "256:\tlearn: 1463.2672688\ttest: 1581.8436743\tbest: 1581.8436743 (256)\ttotal: 1m 6s\tremaining: 3m 12s\n",
      "257:\tlearn: 1462.9335853\ttest: 1581.7145966\tbest: 1581.7145966 (257)\ttotal: 1m 6s\tremaining: 3m 12s\n",
      "258:\tlearn: 1462.3828001\ttest: 1581.4999630\tbest: 1581.4999630 (258)\ttotal: 1m 7s\tremaining: 3m 12s\n",
      "259:\tlearn: 1461.7911447\ttest: 1581.2064493\tbest: 1581.2064493 (259)\ttotal: 1m 7s\tremaining: 3m 12s\n",
      "260:\tlearn: 1461.5153945\ttest: 1581.0809273\tbest: 1581.0809273 (260)\ttotal: 1m 7s\tremaining: 3m 11s\n",
      "261:\tlearn: 1461.4458118\ttest: 1581.0084675\tbest: 1581.0084675 (261)\ttotal: 1m 7s\tremaining: 3m 11s\n",
      "262:\tlearn: 1460.6450997\ttest: 1580.5973797\tbest: 1580.5973797 (262)\ttotal: 1m 8s\tremaining: 3m 11s\n",
      "263:\tlearn: 1460.2759880\ttest: 1580.5712913\tbest: 1580.5712913 (263)\ttotal: 1m 8s\tremaining: 3m 10s\n",
      "264:\tlearn: 1459.4501148\ttest: 1580.0162087\tbest: 1580.0162087 (264)\ttotal: 1m 8s\tremaining: 3m 10s\n",
      "265:\tlearn: 1459.0324331\ttest: 1579.9293170\tbest: 1579.9293170 (265)\ttotal: 1m 8s\tremaining: 3m 10s\n",
      "266:\tlearn: 1458.8519911\ttest: 1579.9098788\tbest: 1579.9098788 (266)\ttotal: 1m 9s\tremaining: 3m 9s\n",
      "267:\tlearn: 1458.3021895\ttest: 1579.6629030\tbest: 1579.6629030 (267)\ttotal: 1m 9s\tremaining: 3m 9s\n",
      "268:\tlearn: 1457.7622208\ttest: 1579.2894946\tbest: 1579.2894946 (268)\ttotal: 1m 9s\tremaining: 3m 9s\n",
      "269:\tlearn: 1457.4083756\ttest: 1579.1735303\tbest: 1579.1735303 (269)\ttotal: 1m 9s\tremaining: 3m 8s\n",
      "270:\tlearn: 1456.4961356\ttest: 1578.6995493\tbest: 1578.6995493 (270)\ttotal: 1m 10s\tremaining: 3m 8s\n",
      "271:\tlearn: 1456.1241419\ttest: 1578.5236188\tbest: 1578.5236188 (271)\ttotal: 1m 10s\tremaining: 3m 8s\n",
      "272:\tlearn: 1456.1056968\ttest: 1578.5237614\tbest: 1578.5236188 (271)\ttotal: 1m 10s\tremaining: 3m 8s\n",
      "273:\tlearn: 1455.7663702\ttest: 1578.5083843\tbest: 1578.5083843 (273)\ttotal: 1m 10s\tremaining: 3m 8s\n",
      "274:\tlearn: 1455.2043843\ttest: 1578.2235081\tbest: 1578.2235081 (274)\ttotal: 1m 11s\tremaining: 3m 7s\n",
      "275:\tlearn: 1454.6579611\ttest: 1578.1507079\tbest: 1578.1507079 (275)\ttotal: 1m 11s\tremaining: 3m 7s\n",
      "276:\tlearn: 1454.2716525\ttest: 1578.0250158\tbest: 1578.0250158 (276)\ttotal: 1m 11s\tremaining: 3m 7s\n",
      "277:\tlearn: 1454.1543390\ttest: 1577.9883096\tbest: 1577.9883096 (277)\ttotal: 1m 12s\tremaining: 3m 7s\n",
      "278:\tlearn: 1453.9974883\ttest: 1577.9131381\tbest: 1577.9131381 (278)\ttotal: 1m 12s\tremaining: 3m 6s\n",
      "279:\tlearn: 1453.9081752\ttest: 1577.8910001\tbest: 1577.8910001 (279)\ttotal: 1m 12s\tremaining: 3m 6s\n",
      "280:\tlearn: 1453.5349237\ttest: 1577.7909442\tbest: 1577.7909442 (280)\ttotal: 1m 12s\tremaining: 3m 6s\n",
      "281:\tlearn: 1452.5346298\ttest: 1577.3037288\tbest: 1577.3037288 (281)\ttotal: 1m 13s\tremaining: 3m 5s\n",
      "282:\tlearn: 1452.2169061\ttest: 1577.2212879\tbest: 1577.2212879 (282)\ttotal: 1m 13s\tremaining: 3m 5s\n",
      "283:\tlearn: 1451.9730205\ttest: 1577.1156318\tbest: 1577.1156318 (283)\ttotal: 1m 13s\tremaining: 3m 5s\n",
      "284:\tlearn: 1451.4084200\ttest: 1576.8482903\tbest: 1576.8482903 (284)\ttotal: 1m 13s\tremaining: 3m 5s\n",
      "285:\tlearn: 1451.0374014\ttest: 1576.7653032\tbest: 1576.7653032 (285)\ttotal: 1m 14s\tremaining: 3m 4s\n",
      "286:\tlearn: 1450.4678046\ttest: 1576.6257047\tbest: 1576.6257047 (286)\ttotal: 1m 14s\tremaining: 3m 4s\n",
      "287:\tlearn: 1450.0925869\ttest: 1576.5758353\tbest: 1576.5758353 (287)\ttotal: 1m 14s\tremaining: 3m 4s\n",
      "288:\tlearn: 1449.8015149\ttest: 1576.4922719\tbest: 1576.4922719 (288)\ttotal: 1m 14s\tremaining: 3m 4s\n",
      "289:\tlearn: 1449.4653549\ttest: 1576.4463197\tbest: 1576.4463197 (289)\ttotal: 1m 15s\tremaining: 3m 4s\n",
      "290:\tlearn: 1449.2989832\ttest: 1576.4387797\tbest: 1576.4387797 (290)\ttotal: 1m 15s\tremaining: 3m 3s\n",
      "291:\tlearn: 1448.9170822\ttest: 1576.3911087\tbest: 1576.3911087 (291)\ttotal: 1m 15s\tremaining: 3m 3s\n",
      "292:\tlearn: 1448.2408957\ttest: 1576.1039515\tbest: 1576.1039515 (292)\ttotal: 1m 16s\tremaining: 3m 3s\n",
      "293:\tlearn: 1447.8467886\ttest: 1575.9173843\tbest: 1575.9173843 (293)\ttotal: 1m 16s\tremaining: 3m 3s\n",
      "294:\tlearn: 1447.4120968\ttest: 1575.9276711\tbest: 1575.9173843 (293)\ttotal: 1m 16s\tremaining: 3m 2s\n",
      "295:\tlearn: 1446.9009554\ttest: 1575.6841130\tbest: 1575.6841130 (295)\ttotal: 1m 16s\tremaining: 3m 2s\n",
      "296:\tlearn: 1446.6140023\ttest: 1575.6317665\tbest: 1575.6317665 (296)\ttotal: 1m 16s\tremaining: 3m 2s\n",
      "297:\tlearn: 1446.5973877\ttest: 1575.6288805\tbest: 1575.6288805 (297)\ttotal: 1m 17s\tremaining: 3m 1s\n",
      "298:\tlearn: 1446.3784253\ttest: 1575.5789183\tbest: 1575.5789183 (298)\ttotal: 1m 17s\tremaining: 3m 1s\n",
      "299:\tlearn: 1446.0274609\ttest: 1575.4774297\tbest: 1575.4774297 (299)\ttotal: 1m 17s\tremaining: 3m 1s\n",
      "300:\tlearn: 1445.2923009\ttest: 1574.9811619\tbest: 1574.9811619 (300)\ttotal: 1m 17s\tremaining: 3m\n",
      "301:\tlearn: 1445.0215806\ttest: 1574.9299919\tbest: 1574.9299919 (301)\ttotal: 1m 18s\tremaining: 3m\n",
      "302:\tlearn: 1444.0678208\ttest: 1574.4911265\tbest: 1574.4911265 (302)\ttotal: 1m 18s\tremaining: 3m\n",
      "303:\tlearn: 1443.6986700\ttest: 1574.3913987\tbest: 1574.3913987 (303)\ttotal: 1m 18s\tremaining: 3m\n",
      "304:\tlearn: 1443.3051027\ttest: 1574.3852287\tbest: 1574.3852287 (304)\ttotal: 1m 18s\tremaining: 2m 59s\n",
      "305:\tlearn: 1442.5307059\ttest: 1573.9581414\tbest: 1573.9581414 (305)\ttotal: 1m 19s\tremaining: 2m 59s\n",
      "306:\tlearn: 1441.7000634\ttest: 1573.5049556\tbest: 1573.5049556 (306)\ttotal: 1m 19s\tremaining: 2m 59s\n",
      "307:\tlearn: 1441.1854412\ttest: 1573.4294725\tbest: 1573.4294725 (307)\ttotal: 1m 19s\tremaining: 2m 59s\n",
      "308:\tlearn: 1440.4380644\ttest: 1573.1403604\tbest: 1573.1403604 (308)\ttotal: 1m 19s\tremaining: 2m 58s\n",
      "309:\tlearn: 1440.1785941\ttest: 1573.0855236\tbest: 1573.0855236 (309)\ttotal: 1m 20s\tremaining: 2m 58s\n",
      "310:\tlearn: 1439.6490011\ttest: 1572.9349214\tbest: 1572.9349214 (310)\ttotal: 1m 20s\tremaining: 2m 58s\n",
      "311:\tlearn: 1439.3427989\ttest: 1572.8197636\tbest: 1572.8197636 (311)\ttotal: 1m 20s\tremaining: 2m 58s\n",
      "312:\tlearn: 1438.8172140\ttest: 1572.6390764\tbest: 1572.6390764 (312)\ttotal: 1m 21s\tremaining: 2m 58s\n",
      "313:\tlearn: 1438.4097497\ttest: 1572.5545638\tbest: 1572.5545638 (313)\ttotal: 1m 21s\tremaining: 2m 58s\n",
      "314:\tlearn: 1438.2148849\ttest: 1572.4691911\tbest: 1572.4691911 (314)\ttotal: 1m 21s\tremaining: 2m 57s\n",
      "315:\tlearn: 1437.4277064\ttest: 1572.1070077\tbest: 1572.1070077 (315)\ttotal: 1m 22s\tremaining: 2m 57s\n",
      "316:\tlearn: 1437.1335041\ttest: 1572.1195560\tbest: 1572.1070077 (315)\ttotal: 1m 22s\tremaining: 2m 57s\n",
      "317:\tlearn: 1436.9039977\ttest: 1572.0403847\tbest: 1572.0403847 (317)\ttotal: 1m 22s\tremaining: 2m 57s\n",
      "318:\tlearn: 1436.4781179\ttest: 1571.9159102\tbest: 1571.9159102 (318)\ttotal: 1m 22s\tremaining: 2m 56s\n",
      "319:\tlearn: 1436.3110781\ttest: 1571.8846602\tbest: 1571.8846602 (319)\ttotal: 1m 23s\tremaining: 2m 56s\n",
      "320:\tlearn: 1435.6984500\ttest: 1571.6505271\tbest: 1571.6505271 (320)\ttotal: 1m 23s\tremaining: 2m 56s\n",
      "321:\tlearn: 1434.6745430\ttest: 1571.1958405\tbest: 1571.1958405 (321)\ttotal: 1m 23s\tremaining: 2m 56s\n",
      "322:\tlearn: 1434.3547311\ttest: 1571.0988668\tbest: 1571.0988668 (322)\ttotal: 1m 24s\tremaining: 2m 56s\n",
      "323:\tlearn: 1434.1246966\ttest: 1571.0251053\tbest: 1571.0251053 (323)\ttotal: 1m 24s\tremaining: 2m 56s\n",
      "324:\tlearn: 1433.5880223\ttest: 1570.7965414\tbest: 1570.7965414 (324)\ttotal: 1m 24s\tremaining: 2m 55s\n",
      "325:\tlearn: 1433.3534754\ttest: 1570.7507228\tbest: 1570.7507228 (325)\ttotal: 1m 24s\tremaining: 2m 55s\n",
      "326:\tlearn: 1433.1802206\ttest: 1570.7144426\tbest: 1570.7144426 (326)\ttotal: 1m 25s\tremaining: 2m 55s\n",
      "327:\tlearn: 1432.7430042\ttest: 1570.5471140\tbest: 1570.5471140 (327)\ttotal: 1m 25s\tremaining: 2m 54s\n",
      "328:\tlearn: 1432.3860829\ttest: 1570.4159905\tbest: 1570.4159905 (328)\ttotal: 1m 25s\tremaining: 2m 54s\n",
      "329:\tlearn: 1432.1696438\ttest: 1570.3398198\tbest: 1570.3398198 (329)\ttotal: 1m 25s\tremaining: 2m 54s\n",
      "330:\tlearn: 1431.5222175\ttest: 1570.2118523\tbest: 1570.2118523 (330)\ttotal: 1m 26s\tremaining: 2m 54s\n",
      "331:\tlearn: 1430.8017804\ttest: 1570.0436878\tbest: 1570.0436878 (331)\ttotal: 1m 26s\tremaining: 2m 53s\n",
      "332:\tlearn: 1430.4948605\ttest: 1570.0148522\tbest: 1570.0148522 (332)\ttotal: 1m 26s\tremaining: 2m 53s\n",
      "333:\tlearn: 1429.6869310\ttest: 1569.4972127\tbest: 1569.4972127 (333)\ttotal: 1m 27s\tremaining: 2m 53s\n",
      "334:\tlearn: 1429.3087883\ttest: 1569.3184889\tbest: 1569.3184889 (334)\ttotal: 1m 27s\tremaining: 2m 53s\n",
      "335:\tlearn: 1428.9204431\ttest: 1569.2456300\tbest: 1569.2456300 (335)\ttotal: 1m 27s\tremaining: 2m 53s\n",
      "336:\tlearn: 1428.3822292\ttest: 1569.0301069\tbest: 1569.0301069 (336)\ttotal: 1m 27s\tremaining: 2m 52s\n",
      "337:\tlearn: 1428.1948447\ttest: 1568.9917230\tbest: 1568.9917230 (337)\ttotal: 1m 28s\tremaining: 2m 52s\n",
      "338:\tlearn: 1427.6777925\ttest: 1568.8148975\tbest: 1568.8148975 (338)\ttotal: 1m 28s\tremaining: 2m 52s\n",
      "339:\tlearn: 1427.2987201\ttest: 1568.7647445\tbest: 1568.7647445 (339)\ttotal: 1m 28s\tremaining: 2m 52s\n",
      "340:\tlearn: 1426.6228732\ttest: 1568.4924627\tbest: 1568.4924627 (340)\ttotal: 1m 29s\tremaining: 2m 52s\n",
      "341:\tlearn: 1426.4433905\ttest: 1568.4798070\tbest: 1568.4798070 (341)\ttotal: 1m 29s\tremaining: 2m 51s\n",
      "342:\tlearn: 1426.1134986\ttest: 1568.3557316\tbest: 1568.3557316 (342)\ttotal: 1m 29s\tremaining: 2m 51s\n",
      "343:\tlearn: 1425.6836129\ttest: 1568.2851623\tbest: 1568.2851623 (343)\ttotal: 1m 29s\tremaining: 2m 51s\n",
      "344:\tlearn: 1425.6337848\ttest: 1568.2488017\tbest: 1568.2488017 (344)\ttotal: 1m 30s\tremaining: 2m 50s\n",
      "345:\tlearn: 1424.9817049\ttest: 1567.8922755\tbest: 1567.8922755 (345)\ttotal: 1m 30s\tremaining: 2m 50s\n",
      "346:\tlearn: 1424.5763121\ttest: 1567.7741920\tbest: 1567.7741920 (346)\ttotal: 1m 30s\tremaining: 2m 50s\n",
      "347:\tlearn: 1424.1952575\ttest: 1567.5585293\tbest: 1567.5585293 (347)\ttotal: 1m 30s\tremaining: 2m 50s\n",
      "348:\tlearn: 1423.6421460\ttest: 1567.4403084\tbest: 1567.4403084 (348)\ttotal: 1m 31s\tremaining: 2m 49s\n",
      "349:\tlearn: 1423.3739044\ttest: 1567.3937542\tbest: 1567.3937542 (349)\ttotal: 1m 31s\tremaining: 2m 49s\n",
      "350:\tlearn: 1422.6651711\ttest: 1567.0150604\tbest: 1567.0150604 (350)\ttotal: 1m 31s\tremaining: 2m 49s\n",
      "351:\tlearn: 1422.3112582\ttest: 1566.8183230\tbest: 1566.8183230 (351)\ttotal: 1m 31s\tremaining: 2m 49s\n",
      "352:\tlearn: 1421.7717564\ttest: 1566.5191922\tbest: 1566.5191922 (352)\ttotal: 1m 32s\tremaining: 2m 48s\n",
      "353:\tlearn: 1421.7597540\ttest: 1566.5084765\tbest: 1566.5084765 (353)\ttotal: 1m 32s\tremaining: 2m 48s\n",
      "354:\tlearn: 1421.5122389\ttest: 1566.4931822\tbest: 1566.4931822 (354)\ttotal: 1m 32s\tremaining: 2m 48s\n",
      "355:\tlearn: 1421.4202518\ttest: 1566.4429593\tbest: 1566.4429593 (355)\ttotal: 1m 32s\tremaining: 2m 47s\n",
      "356:\tlearn: 1421.0223547\ttest: 1566.3187006\tbest: 1566.3187006 (356)\ttotal: 1m 33s\tremaining: 2m 47s\n",
      "357:\tlearn: 1420.8077062\ttest: 1566.3437863\tbest: 1566.3187006 (356)\ttotal: 1m 33s\tremaining: 2m 47s\n",
      "358:\tlearn: 1420.3566547\ttest: 1566.2328941\tbest: 1566.2328941 (358)\ttotal: 1m 33s\tremaining: 2m 47s\n",
      "359:\tlearn: 1420.2245686\ttest: 1566.1825770\tbest: 1566.1825770 (359)\ttotal: 1m 33s\tremaining: 2m 47s\n",
      "360:\tlearn: 1420.1141200\ttest: 1566.1838902\tbest: 1566.1825770 (359)\ttotal: 1m 34s\tremaining: 2m 46s\n",
      "361:\tlearn: 1419.9140517\ttest: 1566.1369997\tbest: 1566.1369997 (361)\ttotal: 1m 34s\tremaining: 2m 46s\n",
      "362:\tlearn: 1419.5355481\ttest: 1566.0419940\tbest: 1566.0419940 (362)\ttotal: 1m 34s\tremaining: 2m 46s\n",
      "363:\tlearn: 1419.2545798\ttest: 1566.0180271\tbest: 1566.0180271 (363)\ttotal: 1m 34s\tremaining: 2m 45s\n",
      "364:\tlearn: 1418.7552387\ttest: 1565.8638685\tbest: 1565.8638685 (364)\ttotal: 1m 35s\tremaining: 2m 45s\n",
      "365:\tlearn: 1418.4716095\ttest: 1565.7638651\tbest: 1565.7638651 (365)\ttotal: 1m 35s\tremaining: 2m 45s\n",
      "366:\tlearn: 1418.1959874\ttest: 1565.7146302\tbest: 1565.7146302 (366)\ttotal: 1m 35s\tremaining: 2m 44s\n",
      "367:\tlearn: 1417.7504678\ttest: 1565.6306069\tbest: 1565.6306069 (367)\ttotal: 1m 35s\tremaining: 2m 44s\n",
      "368:\tlearn: 1416.5607682\ttest: 1565.1415744\tbest: 1565.1415744 (368)\ttotal: 1m 36s\tremaining: 2m 44s\n",
      "369:\tlearn: 1416.0404536\ttest: 1565.0637173\tbest: 1565.0637173 (369)\ttotal: 1m 36s\tremaining: 2m 44s\n",
      "370:\tlearn: 1415.8366760\ttest: 1564.9762215\tbest: 1564.9762215 (370)\ttotal: 1m 36s\tremaining: 2m 44s\n",
      "371:\tlearn: 1415.5363753\ttest: 1564.8073630\tbest: 1564.8073630 (371)\ttotal: 1m 37s\tremaining: 2m 44s\n",
      "372:\tlearn: 1414.8155142\ttest: 1564.6221664\tbest: 1564.6221664 (372)\ttotal: 1m 37s\tremaining: 2m 43s\n",
      "373:\tlearn: 1414.6994298\ttest: 1564.5507104\tbest: 1564.5507104 (373)\ttotal: 1m 37s\tremaining: 2m 43s\n",
      "374:\tlearn: 1414.4310110\ttest: 1564.4091329\tbest: 1564.4091329 (374)\ttotal: 1m 37s\tremaining: 2m 43s\n",
      "375:\tlearn: 1413.9568131\ttest: 1564.1134035\tbest: 1564.1134035 (375)\ttotal: 1m 38s\tremaining: 2m 42s\n",
      "376:\tlearn: 1413.8567393\ttest: 1564.0247598\tbest: 1564.0247598 (376)\ttotal: 1m 38s\tremaining: 2m 42s\n",
      "377:\tlearn: 1413.7125872\ttest: 1564.0495269\tbest: 1564.0247598 (376)\ttotal: 1m 38s\tremaining: 2m 42s\n",
      "378:\tlearn: 1413.2683182\ttest: 1563.9987236\tbest: 1563.9987236 (378)\ttotal: 1m 38s\tremaining: 2m 42s\n",
      "379:\tlearn: 1413.0436547\ttest: 1563.9560072\tbest: 1563.9560072 (379)\ttotal: 1m 39s\tremaining: 2m 41s\n",
      "380:\tlearn: 1412.7662652\ttest: 1563.8620495\tbest: 1563.8620495 (380)\ttotal: 1m 39s\tremaining: 2m 41s\n",
      "381:\tlearn: 1412.2502066\ttest: 1563.7503734\tbest: 1563.7503734 (381)\ttotal: 1m 39s\tremaining: 2m 41s\n",
      "382:\tlearn: 1411.8431034\ttest: 1563.6012918\tbest: 1563.6012918 (382)\ttotal: 1m 39s\tremaining: 2m 40s\n",
      "383:\tlearn: 1411.5464633\ttest: 1563.5284776\tbest: 1563.5284776 (383)\ttotal: 1m 40s\tremaining: 2m 40s\n",
      "384:\tlearn: 1411.2655841\ttest: 1563.4771454\tbest: 1563.4771454 (384)\ttotal: 1m 40s\tremaining: 2m 40s\n",
      "385:\tlearn: 1411.1453940\ttest: 1563.4301570\tbest: 1563.4301570 (385)\ttotal: 1m 40s\tremaining: 2m 40s\n",
      "386:\tlearn: 1410.8544147\ttest: 1563.4087230\tbest: 1563.4087230 (386)\ttotal: 1m 41s\tremaining: 2m 40s\n",
      "387:\tlearn: 1410.5134471\ttest: 1563.3987866\tbest: 1563.3987866 (387)\ttotal: 1m 41s\tremaining: 2m 39s\n",
      "388:\tlearn: 1410.3181276\ttest: 1563.3628876\tbest: 1563.3628876 (388)\ttotal: 1m 41s\tremaining: 2m 39s\n",
      "389:\tlearn: 1409.8109296\ttest: 1563.1039782\tbest: 1563.1039782 (389)\ttotal: 1m 41s\tremaining: 2m 39s\n",
      "390:\tlearn: 1409.5647948\ttest: 1562.9672072\tbest: 1562.9672072 (390)\ttotal: 1m 42s\tremaining: 2m 39s\n",
      "391:\tlearn: 1409.4700807\ttest: 1562.9398464\tbest: 1562.9398464 (391)\ttotal: 1m 42s\tremaining: 2m 38s\n",
      "392:\tlearn: 1409.4533784\ttest: 1562.9406973\tbest: 1562.9398464 (391)\ttotal: 1m 42s\tremaining: 2m 38s\n",
      "393:\tlearn: 1409.1422928\ttest: 1562.9981106\tbest: 1562.9398464 (391)\ttotal: 1m 42s\tremaining: 2m 38s\n",
      "394:\tlearn: 1408.7260510\ttest: 1562.8728113\tbest: 1562.8728113 (394)\ttotal: 1m 43s\tremaining: 2m 38s\n",
      "395:\tlearn: 1408.4569011\ttest: 1562.8222669\tbest: 1562.8222669 (395)\ttotal: 1m 43s\tremaining: 2m 37s\n",
      "396:\tlearn: 1408.1856506\ttest: 1562.7526537\tbest: 1562.7526537 (396)\ttotal: 1m 43s\tremaining: 2m 37s\n",
      "397:\tlearn: 1407.7071209\ttest: 1562.5956850\tbest: 1562.5956850 (397)\ttotal: 1m 43s\tremaining: 2m 37s\n",
      "398:\tlearn: 1407.3165187\ttest: 1562.5412753\tbest: 1562.5412753 (398)\ttotal: 1m 44s\tremaining: 2m 36s\n",
      "399:\tlearn: 1406.6994189\ttest: 1562.4013302\tbest: 1562.4013302 (399)\ttotal: 1m 44s\tremaining: 2m 36s\n",
      "400:\tlearn: 1406.3202196\ttest: 1562.2228074\tbest: 1562.2228074 (400)\ttotal: 1m 44s\tremaining: 2m 36s\n",
      "401:\tlearn: 1406.1806286\ttest: 1562.2092739\tbest: 1562.2092739 (401)\ttotal: 1m 44s\tremaining: 2m 36s\n",
      "402:\tlearn: 1405.3431612\ttest: 1561.9692375\tbest: 1561.9692375 (402)\ttotal: 1m 45s\tremaining: 2m 35s\n",
      "403:\tlearn: 1404.9593759\ttest: 1561.8656149\tbest: 1561.8656149 (403)\ttotal: 1m 45s\tremaining: 2m 35s\n",
      "404:\tlearn: 1404.6654478\ttest: 1561.7430166\tbest: 1561.7430166 (404)\ttotal: 1m 45s\tremaining: 2m 35s\n",
      "405:\tlearn: 1404.2140060\ttest: 1561.6446072\tbest: 1561.6446072 (405)\ttotal: 1m 45s\tremaining: 2m 35s\n",
      "406:\tlearn: 1403.8592253\ttest: 1561.5383198\tbest: 1561.5383198 (406)\ttotal: 1m 46s\tremaining: 2m 34s\n",
      "407:\tlearn: 1403.7351395\ttest: 1561.4961537\tbest: 1561.4961537 (407)\ttotal: 1m 46s\tremaining: 2m 34s\n",
      "408:\tlearn: 1403.5066881\ttest: 1561.4584969\tbest: 1561.4584969 (408)\ttotal: 1m 46s\tremaining: 2m 34s\n",
      "409:\tlearn: 1403.1451216\ttest: 1561.3417378\tbest: 1561.3417378 (409)\ttotal: 1m 47s\tremaining: 2m 33s\n",
      "410:\tlearn: 1402.7509831\ttest: 1561.2442750\tbest: 1561.2442750 (410)\ttotal: 1m 47s\tremaining: 2m 33s\n",
      "411:\tlearn: 1402.6191615\ttest: 1561.2460394\tbest: 1561.2442750 (410)\ttotal: 1m 47s\tremaining: 2m 33s\n",
      "412:\tlearn: 1402.2917831\ttest: 1561.1559544\tbest: 1561.1559544 (412)\ttotal: 1m 47s\tremaining: 2m 33s\n",
      "413:\tlearn: 1402.0042960\ttest: 1561.1580588\tbest: 1561.1559544 (412)\ttotal: 1m 48s\tremaining: 2m 32s\n",
      "414:\tlearn: 1401.7241909\ttest: 1561.0861742\tbest: 1561.0861742 (414)\ttotal: 1m 48s\tremaining: 2m 32s\n",
      "415:\tlearn: 1401.4074381\ttest: 1560.9471072\tbest: 1560.9471072 (415)\ttotal: 1m 48s\tremaining: 2m 32s\n",
      "416:\tlearn: 1401.2947154\ttest: 1560.9471885\tbest: 1560.9471072 (415)\ttotal: 1m 48s\tremaining: 2m 32s\n",
      "417:\tlearn: 1401.1580667\ttest: 1560.8913906\tbest: 1560.8913906 (417)\ttotal: 1m 49s\tremaining: 2m 32s\n",
      "418:\tlearn: 1400.6516940\ttest: 1560.7472408\tbest: 1560.7472408 (418)\ttotal: 1m 49s\tremaining: 2m 31s\n",
      "419:\tlearn: 1400.3406474\ttest: 1560.7681128\tbest: 1560.7472408 (418)\ttotal: 1m 49s\tremaining: 2m 31s\n",
      "420:\tlearn: 1399.3936965\ttest: 1560.5442120\tbest: 1560.5442120 (420)\ttotal: 1m 50s\tremaining: 2m 31s\n",
      "421:\tlearn: 1399.2185936\ttest: 1560.5796779\tbest: 1560.5442120 (420)\ttotal: 1m 50s\tremaining: 2m 31s\n",
      "422:\tlearn: 1398.7767465\ttest: 1560.4287254\tbest: 1560.4287254 (422)\ttotal: 1m 50s\tremaining: 2m 30s\n",
      "423:\tlearn: 1398.3513804\ttest: 1560.2199809\tbest: 1560.2199809 (423)\ttotal: 1m 50s\tremaining: 2m 30s\n",
      "424:\tlearn: 1398.1840164\ttest: 1560.1036271\tbest: 1560.1036271 (424)\ttotal: 1m 51s\tremaining: 2m 30s\n",
      "425:\tlearn: 1397.9359143\ttest: 1560.0215566\tbest: 1560.0215566 (425)\ttotal: 1m 51s\tremaining: 2m 30s\n",
      "426:\tlearn: 1397.4364842\ttest: 1559.9382242\tbest: 1559.9382242 (426)\ttotal: 1m 51s\tremaining: 2m 29s\n",
      "427:\tlearn: 1396.9790034\ttest: 1559.7409364\tbest: 1559.7409364 (427)\ttotal: 1m 51s\tremaining: 2m 29s\n",
      "428:\tlearn: 1396.7773648\ttest: 1559.6871406\tbest: 1559.6871406 (428)\ttotal: 1m 52s\tremaining: 2m 29s\n",
      "429:\tlearn: 1396.2940457\ttest: 1559.5784630\tbest: 1559.5784630 (429)\ttotal: 1m 52s\tremaining: 2m 29s\n",
      "430:\tlearn: 1396.0775533\ttest: 1559.5067900\tbest: 1559.5067900 (430)\ttotal: 1m 52s\tremaining: 2m 28s\n",
      "431:\tlearn: 1395.9441254\ttest: 1559.4156898\tbest: 1559.4156898 (431)\ttotal: 1m 53s\tremaining: 2m 28s\n",
      "432:\tlearn: 1395.5058733\ttest: 1559.2505524\tbest: 1559.2505524 (432)\ttotal: 1m 53s\tremaining: 2m 28s\n",
      "433:\tlearn: 1395.4980722\ttest: 1559.2498972\tbest: 1559.2498972 (433)\ttotal: 1m 53s\tremaining: 2m 28s\n",
      "434:\tlearn: 1395.2123722\ttest: 1559.2032199\tbest: 1559.2032199 (434)\ttotal: 1m 53s\tremaining: 2m 27s\n",
      "435:\tlearn: 1394.7561096\ttest: 1559.0582994\tbest: 1559.0582994 (435)\ttotal: 1m 54s\tremaining: 2m 27s\n",
      "436:\tlearn: 1393.8810562\ttest: 1558.7444805\tbest: 1558.7444805 (436)\ttotal: 1m 54s\tremaining: 2m 27s\n",
      "437:\tlearn: 1393.7483637\ttest: 1558.7148679\tbest: 1558.7148679 (437)\ttotal: 1m 54s\tremaining: 2m 27s\n",
      "438:\tlearn: 1393.4316441\ttest: 1558.5811205\tbest: 1558.5811205 (438)\ttotal: 1m 55s\tremaining: 2m 26s\n",
      "439:\tlearn: 1393.2724166\ttest: 1558.5544542\tbest: 1558.5544542 (439)\ttotal: 1m 55s\tremaining: 2m 26s\n",
      "440:\tlearn: 1392.8855124\ttest: 1558.4739105\tbest: 1558.4739105 (440)\ttotal: 1m 55s\tremaining: 2m 26s\n",
      "441:\tlearn: 1392.6520370\ttest: 1558.4292544\tbest: 1558.4292544 (441)\ttotal: 1m 55s\tremaining: 2m 26s\n",
      "442:\tlearn: 1392.5255960\ttest: 1558.4060300\tbest: 1558.4060300 (442)\ttotal: 1m 56s\tremaining: 2m 25s\n",
      "443:\tlearn: 1392.4066790\ttest: 1558.3808911\tbest: 1558.3808911 (443)\ttotal: 1m 56s\tremaining: 2m 25s\n",
      "444:\tlearn: 1392.2414933\ttest: 1558.3528885\tbest: 1558.3528885 (444)\ttotal: 1m 56s\tremaining: 2m 25s\n",
      "445:\tlearn: 1391.8593697\ttest: 1558.3217581\tbest: 1558.3217581 (445)\ttotal: 1m 56s\tremaining: 2m 25s\n",
      "446:\tlearn: 1391.8444400\ttest: 1558.3184334\tbest: 1558.3184334 (446)\ttotal: 1m 56s\tremaining: 2m 24s\n",
      "447:\tlearn: 1391.8236245\ttest: 1558.2916683\tbest: 1558.2916683 (447)\ttotal: 1m 57s\tremaining: 2m 24s\n",
      "448:\tlearn: 1391.6210938\ttest: 1558.1878879\tbest: 1558.1878879 (448)\ttotal: 1m 57s\tremaining: 2m 24s\n",
      "449:\tlearn: 1391.2222090\ttest: 1557.9599299\tbest: 1557.9599299 (449)\ttotal: 1m 57s\tremaining: 2m 23s\n",
      "450:\tlearn: 1391.1406666\ttest: 1557.9124884\tbest: 1557.9124884 (450)\ttotal: 1m 57s\tremaining: 2m 23s\n",
      "451:\tlearn: 1390.9250569\ttest: 1557.9534050\tbest: 1557.9124884 (450)\ttotal: 1m 58s\tremaining: 2m 23s\n",
      "452:\tlearn: 1390.6557850\ttest: 1557.9773557\tbest: 1557.9124884 (450)\ttotal: 1m 58s\tremaining: 2m 23s\n",
      "453:\tlearn: 1390.5748746\ttest: 1557.9562292\tbest: 1557.9124884 (450)\ttotal: 1m 58s\tremaining: 2m 22s\n",
      "454:\tlearn: 1390.0910972\ttest: 1557.8607960\tbest: 1557.8607960 (454)\ttotal: 1m 59s\tremaining: 2m 22s\n",
      "455:\tlearn: 1389.5537692\ttest: 1557.7214236\tbest: 1557.7214236 (455)\ttotal: 1m 59s\tremaining: 2m 22s\n",
      "456:\tlearn: 1389.3921477\ttest: 1557.8001332\tbest: 1557.7214236 (455)\ttotal: 1m 59s\tremaining: 2m 22s\n",
      "457:\tlearn: 1388.8058282\ttest: 1557.5135423\tbest: 1557.5135423 (457)\ttotal: 1m 59s\tremaining: 2m 21s\n",
      "458:\tlearn: 1388.4881542\ttest: 1557.4701376\tbest: 1557.4701376 (458)\ttotal: 2m\tremaining: 2m 21s\n",
      "459:\tlearn: 1387.8048488\ttest: 1557.2934152\tbest: 1557.2934152 (459)\ttotal: 2m\tremaining: 2m 21s\n",
      "460:\tlearn: 1387.5557820\ttest: 1557.2767621\tbest: 1557.2767621 (460)\ttotal: 2m\tremaining: 2m 21s\n",
      "461:\tlearn: 1387.4604834\ttest: 1557.2557342\tbest: 1557.2557342 (461)\ttotal: 2m\tremaining: 2m 20s\n",
      "462:\tlearn: 1387.2124876\ttest: 1557.1935472\tbest: 1557.1935472 (462)\ttotal: 2m 1s\tremaining: 2m 20s\n",
      "463:\tlearn: 1386.8559860\ttest: 1557.1700531\tbest: 1557.1700531 (463)\ttotal: 2m 1s\tremaining: 2m 20s\n",
      "464:\tlearn: 1386.5702562\ttest: 1557.0854821\tbest: 1557.0854821 (464)\ttotal: 2m 1s\tremaining: 2m 19s\n",
      "465:\tlearn: 1386.2750910\ttest: 1557.0490957\tbest: 1557.0490957 (465)\ttotal: 2m 1s\tremaining: 2m 19s\n",
      "466:\tlearn: 1386.1513166\ttest: 1557.0301357\tbest: 1557.0301357 (466)\ttotal: 2m 2s\tremaining: 2m 19s\n",
      "467:\tlearn: 1385.8919523\ttest: 1556.9673778\tbest: 1556.9673778 (467)\ttotal: 2m 2s\tremaining: 2m 19s\n",
      "468:\tlearn: 1385.5144971\ttest: 1556.8356923\tbest: 1556.8356923 (468)\ttotal: 2m 2s\tremaining: 2m 18s\n",
      "469:\tlearn: 1385.2564274\ttest: 1556.8727761\tbest: 1556.8356923 (468)\ttotal: 2m 2s\tremaining: 2m 18s\n",
      "470:\tlearn: 1384.8638622\ttest: 1556.7315567\tbest: 1556.7315567 (470)\ttotal: 2m 3s\tremaining: 2m 18s\n",
      "471:\tlearn: 1384.5106245\ttest: 1556.6628286\tbest: 1556.6628286 (471)\ttotal: 2m 3s\tremaining: 2m 17s\n",
      "472:\tlearn: 1384.2141713\ttest: 1556.5842807\tbest: 1556.5842807 (472)\ttotal: 2m 3s\tremaining: 2m 17s\n",
      "473:\tlearn: 1383.9417214\ttest: 1556.3882980\tbest: 1556.3882980 (473)\ttotal: 2m 3s\tremaining: 2m 17s\n",
      "474:\tlearn: 1383.6440315\ttest: 1556.3516544\tbest: 1556.3516544 (474)\ttotal: 2m 4s\tremaining: 2m 17s\n",
      "475:\tlearn: 1383.3509846\ttest: 1556.2829389\tbest: 1556.2829389 (475)\ttotal: 2m 4s\tremaining: 2m 16s\n",
      "476:\tlearn: 1383.1713043\ttest: 1556.3621093\tbest: 1556.2829389 (475)\ttotal: 2m 4s\tremaining: 2m 16s\n",
      "477:\tlearn: 1382.9124516\ttest: 1556.3749562\tbest: 1556.2829389 (475)\ttotal: 2m 4s\tremaining: 2m 16s\n",
      "478:\tlearn: 1382.5287343\ttest: 1556.1043882\tbest: 1556.1043882 (478)\ttotal: 2m 4s\tremaining: 2m 15s\n",
      "479:\tlearn: 1382.1709385\ttest: 1556.0300002\tbest: 1556.0300002 (479)\ttotal: 2m 5s\tremaining: 2m 15s\n",
      "480:\tlearn: 1381.9170372\ttest: 1555.8940504\tbest: 1555.8940504 (480)\ttotal: 2m 5s\tremaining: 2m 15s\n",
      "481:\tlearn: 1381.7529266\ttest: 1555.9212501\tbest: 1555.8940504 (480)\ttotal: 2m 5s\tremaining: 2m 15s\n",
      "482:\tlearn: 1381.5680108\ttest: 1555.8791880\tbest: 1555.8791880 (482)\ttotal: 2m 6s\tremaining: 2m 14s\n",
      "483:\tlearn: 1381.3347885\ttest: 1555.9122230\tbest: 1555.8791880 (482)\ttotal: 2m 6s\tremaining: 2m 14s\n",
      "484:\tlearn: 1381.2852422\ttest: 1555.8944079\tbest: 1555.8791880 (482)\ttotal: 2m 6s\tremaining: 2m 14s\n",
      "485:\tlearn: 1381.1739179\ttest: 1555.8652913\tbest: 1555.8652913 (485)\ttotal: 2m 6s\tremaining: 2m 14s\n",
      "486:\tlearn: 1381.0370920\ttest: 1555.8375489\tbest: 1555.8375489 (486)\ttotal: 2m 7s\tremaining: 2m 14s\n",
      "487:\tlearn: 1380.7950036\ttest: 1555.7995782\tbest: 1555.7995782 (487)\ttotal: 2m 7s\tremaining: 2m 13s\n",
      "488:\tlearn: 1380.7928529\ttest: 1555.7967820\tbest: 1555.7967820 (488)\ttotal: 2m 7s\tremaining: 2m 13s\n",
      "489:\tlearn: 1380.6628260\ttest: 1555.7488476\tbest: 1555.7488476 (489)\ttotal: 2m 7s\tremaining: 2m 13s\n",
      "490:\tlearn: 1380.4000577\ttest: 1555.6839716\tbest: 1555.6839716 (490)\ttotal: 2m 8s\tremaining: 2m 12s\n",
      "491:\tlearn: 1380.2560611\ttest: 1555.6523448\tbest: 1555.6523448 (491)\ttotal: 2m 8s\tremaining: 2m 12s\n",
      "492:\tlearn: 1379.9809047\ttest: 1555.5664528\tbest: 1555.5664528 (492)\ttotal: 2m 8s\tremaining: 2m 12s\n",
      "493:\tlearn: 1379.8438458\ttest: 1555.5167431\tbest: 1555.5167431 (493)\ttotal: 2m 8s\tremaining: 2m 12s\n",
      "494:\tlearn: 1379.6936264\ttest: 1555.5566918\tbest: 1555.5167431 (493)\ttotal: 2m 9s\tremaining: 2m 11s\n",
      "495:\tlearn: 1379.5463364\ttest: 1555.5144438\tbest: 1555.5144438 (495)\ttotal: 2m 9s\tremaining: 2m 11s\n",
      "496:\tlearn: 1379.2730728\ttest: 1555.4692593\tbest: 1555.4692593 (496)\ttotal: 2m 9s\tremaining: 2m 11s\n",
      "497:\tlearn: 1378.2485656\ttest: 1555.2543444\tbest: 1555.2543444 (497)\ttotal: 2m 10s\tremaining: 2m 11s\n",
      "498:\tlearn: 1378.1114582\ttest: 1555.2517858\tbest: 1555.2517858 (498)\ttotal: 2m 10s\tremaining: 2m 10s\n",
      "499:\tlearn: 1377.9728142\ttest: 1555.2578161\tbest: 1555.2517858 (498)\ttotal: 2m 10s\tremaining: 2m 10s\n",
      "500:\tlearn: 1377.7748793\ttest: 1555.1344204\tbest: 1555.1344204 (500)\ttotal: 2m 10s\tremaining: 2m 10s\n",
      "501:\tlearn: 1377.4054837\ttest: 1555.0383416\tbest: 1555.0383416 (501)\ttotal: 2m 11s\tremaining: 2m 10s\n",
      "502:\tlearn: 1377.2514139\ttest: 1554.9674882\tbest: 1554.9674882 (502)\ttotal: 2m 11s\tremaining: 2m 9s\n",
      "503:\tlearn: 1377.1174274\ttest: 1554.8989728\tbest: 1554.8989728 (503)\ttotal: 2m 11s\tremaining: 2m 9s\n",
      "504:\tlearn: 1376.8877627\ttest: 1554.7941669\tbest: 1554.7941669 (504)\ttotal: 2m 11s\tremaining: 2m 9s\n",
      "505:\tlearn: 1376.6803584\ttest: 1554.6889912\tbest: 1554.6889912 (505)\ttotal: 2m 12s\tremaining: 2m 8s\n",
      "506:\tlearn: 1376.2645643\ttest: 1554.5522133\tbest: 1554.5522133 (506)\ttotal: 2m 12s\tremaining: 2m 8s\n",
      "507:\tlearn: 1376.0308376\ttest: 1554.5666237\tbest: 1554.5522133 (506)\ttotal: 2m 12s\tremaining: 2m 8s\n",
      "508:\tlearn: 1375.7697305\ttest: 1554.5175551\tbest: 1554.5175551 (508)\ttotal: 2m 12s\tremaining: 2m 8s\n",
      "509:\tlearn: 1375.5024626\ttest: 1554.4386319\tbest: 1554.4386319 (509)\ttotal: 2m 13s\tremaining: 2m 7s\n",
      "510:\tlearn: 1375.1536262\ttest: 1554.5192012\tbest: 1554.4386319 (509)\ttotal: 2m 13s\tremaining: 2m 7s\n",
      "511:\tlearn: 1374.5469616\ttest: 1554.4158020\tbest: 1554.4158020 (511)\ttotal: 2m 13s\tremaining: 2m 7s\n",
      "512:\tlearn: 1374.4329265\ttest: 1554.4559081\tbest: 1554.4158020 (511)\ttotal: 2m 14s\tremaining: 2m 7s\n",
      "513:\tlearn: 1374.2844159\ttest: 1554.3919594\tbest: 1554.3919594 (513)\ttotal: 2m 14s\tremaining: 2m 6s\n",
      "514:\tlearn: 1373.7806270\ttest: 1554.1885125\tbest: 1554.1885125 (514)\ttotal: 2m 14s\tremaining: 2m 6s\n",
      "515:\tlearn: 1373.5752076\ttest: 1554.1890013\tbest: 1554.1885125 (514)\ttotal: 2m 14s\tremaining: 2m 6s\n",
      "516:\tlearn: 1373.0376440\ttest: 1554.0085080\tbest: 1554.0085080 (516)\ttotal: 2m 15s\tremaining: 2m 6s\n",
      "517:\tlearn: 1372.9481411\ttest: 1554.0126949\tbest: 1554.0085080 (516)\ttotal: 2m 15s\tremaining: 2m 5s\n",
      "518:\tlearn: 1372.8533803\ttest: 1554.0258680\tbest: 1554.0085080 (516)\ttotal: 2m 15s\tremaining: 2m 5s\n",
      "519:\tlearn: 1372.6474512\ttest: 1554.0893127\tbest: 1554.0085080 (516)\ttotal: 2m 15s\tremaining: 2m 5s\n",
      "520:\tlearn: 1372.3445218\ttest: 1554.0626100\tbest: 1554.0085080 (516)\ttotal: 2m 16s\tremaining: 2m 5s\n",
      "521:\tlearn: 1371.8199335\ttest: 1553.8782403\tbest: 1553.8782403 (521)\ttotal: 2m 16s\tremaining: 2m 4s\n",
      "522:\tlearn: 1371.6759374\ttest: 1553.8305550\tbest: 1553.8305550 (522)\ttotal: 2m 16s\tremaining: 2m 4s\n",
      "523:\tlearn: 1371.6610219\ttest: 1553.8027805\tbest: 1553.8027805 (523)\ttotal: 2m 16s\tremaining: 2m 4s\n",
      "524:\tlearn: 1371.5711824\ttest: 1553.7762897\tbest: 1553.7762897 (524)\ttotal: 2m 17s\tremaining: 2m 4s\n",
      "525:\tlearn: 1371.0086330\ttest: 1553.6060973\tbest: 1553.6060973 (525)\ttotal: 2m 17s\tremaining: 2m 3s\n",
      "526:\tlearn: 1370.8448007\ttest: 1553.5935332\tbest: 1553.5935332 (526)\ttotal: 2m 17s\tremaining: 2m 3s\n",
      "527:\tlearn: 1370.6569342\ttest: 1553.5274886\tbest: 1553.5274886 (527)\ttotal: 2m 18s\tremaining: 2m 3s\n",
      "528:\tlearn: 1370.3561342\ttest: 1553.4253865\tbest: 1553.4253865 (528)\ttotal: 2m 18s\tremaining: 2m 3s\n",
      "529:\tlearn: 1370.2541672\ttest: 1553.4136502\tbest: 1553.4136502 (529)\ttotal: 2m 18s\tremaining: 2m 2s\n",
      "530:\tlearn: 1369.6620820\ttest: 1553.2610206\tbest: 1553.2610206 (530)\ttotal: 2m 18s\tremaining: 2m 2s\n",
      "531:\tlearn: 1369.5117629\ttest: 1553.2516932\tbest: 1553.2516932 (531)\ttotal: 2m 19s\tremaining: 2m 2s\n",
      "532:\tlearn: 1368.9189349\ttest: 1553.0514856\tbest: 1553.0514856 (532)\ttotal: 2m 19s\tremaining: 2m 2s\n",
      "533:\tlearn: 1368.4099049\ttest: 1553.0255427\tbest: 1553.0255427 (533)\ttotal: 2m 19s\tremaining: 2m 1s\n",
      "534:\tlearn: 1367.7782033\ttest: 1552.7564396\tbest: 1552.7564396 (534)\ttotal: 2m 19s\tremaining: 2m 1s\n",
      "535:\tlearn: 1367.6956752\ttest: 1552.7068207\tbest: 1552.7068207 (535)\ttotal: 2m 20s\tremaining: 2m 1s\n",
      "536:\tlearn: 1367.5697041\ttest: 1552.6888522\tbest: 1552.6888522 (536)\ttotal: 2m 20s\tremaining: 2m 1s\n",
      "537:\tlearn: 1367.2956798\ttest: 1552.6063732\tbest: 1552.6063732 (537)\ttotal: 2m 20s\tremaining: 2m 1s\n",
      "538:\tlearn: 1366.8941743\ttest: 1552.4603027\tbest: 1552.4603027 (538)\ttotal: 2m 21s\tremaining: 2m\n",
      "539:\tlearn: 1366.8146738\ttest: 1552.4527979\tbest: 1552.4527979 (539)\ttotal: 2m 21s\tremaining: 2m\n",
      "540:\tlearn: 1366.6298703\ttest: 1552.3809487\tbest: 1552.3809487 (540)\ttotal: 2m 21s\tremaining: 2m\n",
      "541:\tlearn: 1366.5486341\ttest: 1552.3988262\tbest: 1552.3809487 (540)\ttotal: 2m 22s\tremaining: 2m\n",
      "542:\tlearn: 1366.2964238\ttest: 1552.3377571\tbest: 1552.3377571 (542)\ttotal: 2m 22s\tremaining: 1m 59s\n",
      "543:\tlearn: 1366.0099340\ttest: 1552.2631380\tbest: 1552.2631380 (543)\ttotal: 2m 22s\tremaining: 1m 59s\n",
      "544:\tlearn: 1365.8239877\ttest: 1552.2280578\tbest: 1552.2280578 (544)\ttotal: 2m 22s\tremaining: 1m 59s\n",
      "545:\tlearn: 1365.6371509\ttest: 1552.1864382\tbest: 1552.1864382 (545)\ttotal: 2m 23s\tremaining: 1m 59s\n",
      "546:\tlearn: 1364.6622291\ttest: 1551.8949416\tbest: 1551.8949416 (546)\ttotal: 2m 23s\tremaining: 1m 58s\n",
      "547:\tlearn: 1364.5708267\ttest: 1551.9023028\tbest: 1551.8949416 (546)\ttotal: 2m 23s\tremaining: 1m 58s\n",
      "548:\tlearn: 1364.3602312\ttest: 1551.9055235\tbest: 1551.8949416 (546)\ttotal: 2m 23s\tremaining: 1m 58s\n",
      "549:\tlearn: 1363.8155640\ttest: 1551.8001636\tbest: 1551.8001636 (549)\ttotal: 2m 24s\tremaining: 1m 57s\n",
      "550:\tlearn: 1363.7192013\ttest: 1551.8261051\tbest: 1551.8001636 (549)\ttotal: 2m 24s\tremaining: 1m 57s\n",
      "551:\tlearn: 1363.5309614\ttest: 1551.9152502\tbest: 1551.8001636 (549)\ttotal: 2m 24s\tremaining: 1m 57s\n",
      "552:\tlearn: 1363.1524555\ttest: 1551.8303560\tbest: 1551.8001636 (549)\ttotal: 2m 25s\tremaining: 1m 57s\n",
      "553:\tlearn: 1363.0695771\ttest: 1551.8410327\tbest: 1551.8001636 (549)\ttotal: 2m 25s\tremaining: 1m 56s\n",
      "554:\tlearn: 1362.6851803\ttest: 1551.8377687\tbest: 1551.8001636 (549)\ttotal: 2m 25s\tremaining: 1m 56s\n",
      "555:\tlearn: 1362.3755323\ttest: 1551.7468676\tbest: 1551.7468676 (555)\ttotal: 2m 25s\tremaining: 1m 56s\n",
      "556:\tlearn: 1362.2930960\ttest: 1551.7492837\tbest: 1551.7468676 (555)\ttotal: 2m 26s\tremaining: 1m 56s\n",
      "557:\tlearn: 1362.2076884\ttest: 1551.7150615\tbest: 1551.7150615 (557)\ttotal: 2m 26s\tremaining: 1m 55s\n",
      "558:\tlearn: 1362.0013003\ttest: 1551.6179443\tbest: 1551.6179443 (558)\ttotal: 2m 26s\tremaining: 1m 55s\n",
      "559:\tlearn: 1361.7010370\ttest: 1551.4420979\tbest: 1551.4420979 (559)\ttotal: 2m 27s\tremaining: 1m 55s\n",
      "560:\tlearn: 1361.6119649\ttest: 1551.4275598\tbest: 1551.4275598 (560)\ttotal: 2m 27s\tremaining: 1m 55s\n",
      "561:\tlearn: 1361.4693351\ttest: 1551.3925467\tbest: 1551.3925467 (561)\ttotal: 2m 27s\tremaining: 1m 55s\n",
      "562:\tlearn: 1361.4355715\ttest: 1551.3979703\tbest: 1551.3925467 (561)\ttotal: 2m 27s\tremaining: 1m 54s\n",
      "563:\tlearn: 1361.0478963\ttest: 1551.3737854\tbest: 1551.3737854 (563)\ttotal: 2m 28s\tremaining: 1m 54s\n",
      "564:\tlearn: 1360.4100250\ttest: 1551.1898662\tbest: 1551.1898662 (564)\ttotal: 2m 28s\tremaining: 1m 54s\n",
      "565:\tlearn: 1360.0636216\ttest: 1551.2284208\tbest: 1551.1898662 (564)\ttotal: 2m 28s\tremaining: 1m 54s\n",
      "566:\tlearn: 1359.7295506\ttest: 1551.0662942\tbest: 1551.0662942 (566)\ttotal: 2m 28s\tremaining: 1m 53s\n",
      "567:\tlearn: 1359.5031652\ttest: 1551.0352591\tbest: 1551.0352591 (567)\ttotal: 2m 29s\tremaining: 1m 53s\n",
      "568:\tlearn: 1359.3256419\ttest: 1551.0394829\tbest: 1551.0352591 (567)\ttotal: 2m 29s\tremaining: 1m 53s\n",
      "569:\tlearn: 1359.1478511\ttest: 1550.9747898\tbest: 1550.9747898 (569)\ttotal: 2m 29s\tremaining: 1m 52s\n",
      "570:\tlearn: 1358.9496512\ttest: 1550.9831268\tbest: 1550.9747898 (569)\ttotal: 2m 30s\tremaining: 1m 52s\n",
      "571:\tlearn: 1358.8395924\ttest: 1550.9635649\tbest: 1550.9635649 (571)\ttotal: 2m 30s\tremaining: 1m 52s\n",
      "572:\tlearn: 1358.6740329\ttest: 1551.0148008\tbest: 1550.9635649 (571)\ttotal: 2m 30s\tremaining: 1m 52s\n",
      "573:\tlearn: 1358.5083481\ttest: 1550.9318908\tbest: 1550.9318908 (573)\ttotal: 2m 30s\tremaining: 1m 52s\n",
      "574:\tlearn: 1358.3647834\ttest: 1550.9023231\tbest: 1550.9023231 (574)\ttotal: 2m 31s\tremaining: 1m 51s\n",
      "575:\tlearn: 1358.2479254\ttest: 1550.8771640\tbest: 1550.8771640 (575)\ttotal: 2m 31s\tremaining: 1m 51s\n",
      "576:\tlearn: 1357.7198444\ttest: 1550.6994011\tbest: 1550.6994011 (576)\ttotal: 2m 31s\tremaining: 1m 51s\n",
      "577:\tlearn: 1357.5819029\ttest: 1550.6966510\tbest: 1550.6966510 (577)\ttotal: 2m 32s\tremaining: 1m 51s\n",
      "578:\tlearn: 1357.4199830\ttest: 1550.6698312\tbest: 1550.6698312 (578)\ttotal: 2m 32s\tremaining: 1m 50s\n",
      "579:\tlearn: 1357.2703478\ttest: 1550.6718776\tbest: 1550.6698312 (578)\ttotal: 2m 32s\tremaining: 1m 50s\n",
      "580:\tlearn: 1357.0906440\ttest: 1550.6072211\tbest: 1550.6072211 (580)\ttotal: 2m 32s\tremaining: 1m 50s\n",
      "581:\tlearn: 1356.9254444\ttest: 1550.5957866\tbest: 1550.5957866 (581)\ttotal: 2m 33s\tremaining: 1m 49s\n",
      "582:\tlearn: 1356.8050870\ttest: 1550.5254691\tbest: 1550.5254691 (582)\ttotal: 2m 33s\tremaining: 1m 49s\n",
      "583:\tlearn: 1356.7666141\ttest: 1550.5108414\tbest: 1550.5108414 (583)\ttotal: 2m 33s\tremaining: 1m 49s\n",
      "584:\tlearn: 1356.6475897\ttest: 1550.5388871\tbest: 1550.5108414 (583)\ttotal: 2m 33s\tremaining: 1m 49s\n",
      "585:\tlearn: 1356.1733459\ttest: 1550.3491624\tbest: 1550.3491624 (585)\ttotal: 2m 34s\tremaining: 1m 48s\n",
      "586:\tlearn: 1355.9509732\ttest: 1550.2354747\tbest: 1550.2354747 (586)\ttotal: 2m 34s\tremaining: 1m 48s\n",
      "587:\tlearn: 1355.8146108\ttest: 1550.2617194\tbest: 1550.2354747 (586)\ttotal: 2m 34s\tremaining: 1m 48s\n",
      "588:\tlearn: 1355.5300640\ttest: 1550.2277614\tbest: 1550.2277614 (588)\ttotal: 2m 34s\tremaining: 1m 48s\n",
      "589:\tlearn: 1355.2432578\ttest: 1550.1791842\tbest: 1550.1791842 (589)\ttotal: 2m 35s\tremaining: 1m 47s\n",
      "590:\tlearn: 1355.1276493\ttest: 1550.1290339\tbest: 1550.1290339 (590)\ttotal: 2m 35s\tremaining: 1m 47s\n",
      "591:\tlearn: 1354.9293236\ttest: 1550.0786732\tbest: 1550.0786732 (591)\ttotal: 2m 35s\tremaining: 1m 47s\n",
      "592:\tlearn: 1354.7236412\ttest: 1550.0654230\tbest: 1550.0654230 (592)\ttotal: 2m 36s\tremaining: 1m 47s\n",
      "593:\tlearn: 1354.3979781\ttest: 1549.9732035\tbest: 1549.9732035 (593)\ttotal: 2m 36s\tremaining: 1m 46s\n",
      "594:\tlearn: 1354.3290410\ttest: 1549.9839707\tbest: 1549.9732035 (593)\ttotal: 2m 36s\tremaining: 1m 46s\n",
      "595:\tlearn: 1354.2327235\ttest: 1549.9564483\tbest: 1549.9564483 (595)\ttotal: 2m 36s\tremaining: 1m 46s\n",
      "596:\tlearn: 1354.1089782\ttest: 1549.9945418\tbest: 1549.9564483 (595)\ttotal: 2m 37s\tremaining: 1m 46s\n",
      "597:\tlearn: 1353.8777887\ttest: 1549.9027172\tbest: 1549.9027172 (597)\ttotal: 2m 37s\tremaining: 1m 45s\n",
      "598:\tlearn: 1353.7385025\ttest: 1549.9240014\tbest: 1549.9027172 (597)\ttotal: 2m 37s\tremaining: 1m 45s\n",
      "599:\tlearn: 1353.6686836\ttest: 1549.9006572\tbest: 1549.9006572 (599)\ttotal: 2m 38s\tremaining: 1m 45s\n",
      "600:\tlearn: 1353.5039569\ttest: 1549.9203402\tbest: 1549.9006572 (599)\ttotal: 2m 38s\tremaining: 1m 45s\n",
      "601:\tlearn: 1353.5017296\ttest: 1549.9195623\tbest: 1549.9006572 (599)\ttotal: 2m 38s\tremaining: 1m 44s\n",
      "602:\tlearn: 1353.2491986\ttest: 1549.9396280\tbest: 1549.9006572 (599)\ttotal: 2m 38s\tremaining: 1m 44s\n",
      "603:\tlearn: 1352.8611891\ttest: 1549.9664946\tbest: 1549.9006572 (599)\ttotal: 2m 39s\tremaining: 1m 44s\n",
      "604:\tlearn: 1352.4792544\ttest: 1549.7507036\tbest: 1549.7507036 (604)\ttotal: 2m 39s\tremaining: 1m 44s\n",
      "605:\tlearn: 1352.1542767\ttest: 1549.6748334\tbest: 1549.6748334 (605)\ttotal: 2m 39s\tremaining: 1m 43s\n",
      "606:\tlearn: 1351.9311322\ttest: 1549.5980824\tbest: 1549.5980824 (606)\ttotal: 2m 39s\tremaining: 1m 43s\n",
      "607:\tlearn: 1351.8563890\ttest: 1549.5955737\tbest: 1549.5955737 (607)\ttotal: 2m 40s\tremaining: 1m 43s\n",
      "608:\tlearn: 1351.5828327\ttest: 1549.5837543\tbest: 1549.5837543 (608)\ttotal: 2m 40s\tremaining: 1m 42s\n",
      "609:\tlearn: 1351.3848747\ttest: 1549.5384610\tbest: 1549.5384610 (609)\ttotal: 2m 40s\tremaining: 1m 42s\n",
      "610:\tlearn: 1351.2163657\ttest: 1549.5113904\tbest: 1549.5113904 (610)\ttotal: 2m 40s\tremaining: 1m 42s\n",
      "611:\tlearn: 1350.9831529\ttest: 1549.5012554\tbest: 1549.5012554 (611)\ttotal: 2m 41s\tremaining: 1m 42s\n",
      "612:\tlearn: 1350.5860721\ttest: 1549.2746898\tbest: 1549.2746898 (612)\ttotal: 2m 41s\tremaining: 1m 41s\n",
      "613:\tlearn: 1350.4176397\ttest: 1549.2399217\tbest: 1549.2399217 (613)\ttotal: 2m 41s\tremaining: 1m 41s\n",
      "614:\tlearn: 1350.0179736\ttest: 1549.0951886\tbest: 1549.0951886 (614)\ttotal: 2m 41s\tremaining: 1m 41s\n",
      "615:\tlearn: 1349.7750222\ttest: 1549.0260153\tbest: 1549.0260153 (615)\ttotal: 2m 42s\tremaining: 1m 41s\n",
      "616:\tlearn: 1349.5605048\ttest: 1548.9720940\tbest: 1548.9720940 (616)\ttotal: 2m 42s\tremaining: 1m 40s\n",
      "617:\tlearn: 1349.2220971\ttest: 1548.9294599\tbest: 1548.9294599 (617)\ttotal: 2m 42s\tremaining: 1m 40s\n",
      "618:\tlearn: 1349.1423904\ttest: 1548.8920265\tbest: 1548.8920265 (618)\ttotal: 2m 43s\tremaining: 1m 40s\n",
      "619:\tlearn: 1348.9637132\ttest: 1548.8750818\tbest: 1548.8750818 (619)\ttotal: 2m 43s\tremaining: 1m 40s\n",
      "620:\tlearn: 1348.6181467\ttest: 1548.8113574\tbest: 1548.8113574 (620)\ttotal: 2m 43s\tremaining: 1m 39s\n",
      "621:\tlearn: 1348.1537785\ttest: 1548.7301222\tbest: 1548.7301222 (621)\ttotal: 2m 43s\tremaining: 1m 39s\n",
      "622:\tlearn: 1348.0289195\ttest: 1548.7129341\tbest: 1548.7129341 (622)\ttotal: 2m 44s\tremaining: 1m 39s\n",
      "623:\tlearn: 1347.8619106\ttest: 1548.7169631\tbest: 1548.7129341 (622)\ttotal: 2m 44s\tremaining: 1m 39s\n",
      "624:\tlearn: 1347.4220305\ttest: 1548.5243014\tbest: 1548.5243014 (624)\ttotal: 2m 44s\tremaining: 1m 38s\n",
      "625:\tlearn: 1347.2437105\ttest: 1548.5077823\tbest: 1548.5077823 (625)\ttotal: 2m 44s\tremaining: 1m 38s\n",
      "626:\tlearn: 1347.1792491\ttest: 1548.4868325\tbest: 1548.4868325 (626)\ttotal: 2m 45s\tremaining: 1m 38s\n",
      "627:\tlearn: 1346.9194746\ttest: 1548.4684578\tbest: 1548.4684578 (627)\ttotal: 2m 45s\tremaining: 1m 37s\n",
      "628:\tlearn: 1346.6305314\ttest: 1548.3905282\tbest: 1548.3905282 (628)\ttotal: 2m 45s\tremaining: 1m 37s\n",
      "629:\tlearn: 1346.5212916\ttest: 1548.3702341\tbest: 1548.3702341 (629)\ttotal: 2m 45s\tremaining: 1m 37s\n",
      "630:\tlearn: 1346.1488507\ttest: 1548.2693515\tbest: 1548.2693515 (630)\ttotal: 2m 46s\tremaining: 1m 37s\n",
      "631:\tlearn: 1345.6433987\ttest: 1548.1207956\tbest: 1548.1207956 (631)\ttotal: 2m 46s\tremaining: 1m 36s\n",
      "632:\tlearn: 1345.3396171\ttest: 1548.0780128\tbest: 1548.0780128 (632)\ttotal: 2m 46s\tremaining: 1m 36s\n",
      "633:\tlearn: 1345.2218761\ttest: 1548.0404918\tbest: 1548.0404918 (633)\ttotal: 2m 47s\tremaining: 1m 36s\n",
      "634:\tlearn: 1345.1479371\ttest: 1548.0365819\tbest: 1548.0365819 (634)\ttotal: 2m 47s\tremaining: 1m 36s\n",
      "635:\tlearn: 1344.9069682\ttest: 1548.0183741\tbest: 1548.0183741 (635)\ttotal: 2m 47s\tremaining: 1m 35s\n",
      "636:\tlearn: 1344.8020555\ttest: 1547.9944451\tbest: 1547.9944451 (636)\ttotal: 2m 47s\tremaining: 1m 35s\n",
      "637:\tlearn: 1344.6105229\ttest: 1547.9924873\tbest: 1547.9924873 (637)\ttotal: 2m 48s\tremaining: 1m 35s\n",
      "638:\tlearn: 1344.5541438\ttest: 1548.0032414\tbest: 1547.9924873 (637)\ttotal: 2m 48s\tremaining: 1m 35s\n",
      "639:\tlearn: 1344.3502862\ttest: 1547.9245572\tbest: 1547.9245572 (639)\ttotal: 2m 48s\tremaining: 1m 34s\n",
      "640:\tlearn: 1344.2105604\ttest: 1547.7989711\tbest: 1547.7989711 (640)\ttotal: 2m 48s\tremaining: 1m 34s\n",
      "641:\tlearn: 1344.0532924\ttest: 1547.7839956\tbest: 1547.7839956 (641)\ttotal: 2m 49s\tremaining: 1m 34s\n",
      "642:\tlearn: 1343.8734744\ttest: 1547.7550224\tbest: 1547.7550224 (642)\ttotal: 2m 49s\tremaining: 1m 34s\n",
      "643:\tlearn: 1343.7969000\ttest: 1547.7346717\tbest: 1547.7346717 (643)\ttotal: 2m 49s\tremaining: 1m 33s\n",
      "644:\tlearn: 1343.6648554\ttest: 1547.6933920\tbest: 1547.6933920 (644)\ttotal: 2m 49s\tremaining: 1m 33s\n",
      "645:\tlearn: 1343.4939490\ttest: 1547.6245211\tbest: 1547.6245211 (645)\ttotal: 2m 50s\tremaining: 1m 33s\n",
      "646:\tlearn: 1343.3319912\ttest: 1547.5945331\tbest: 1547.5945331 (646)\ttotal: 2m 50s\tremaining: 1m 33s\n",
      "647:\tlearn: 1342.9719584\ttest: 1547.4753530\tbest: 1547.4753530 (647)\ttotal: 2m 50s\tremaining: 1m 32s\n",
      "648:\tlearn: 1342.8180537\ttest: 1547.3963084\tbest: 1547.3963084 (648)\ttotal: 2m 51s\tremaining: 1m 32s\n",
      "649:\tlearn: 1342.6861394\ttest: 1547.4377786\tbest: 1547.3963084 (648)\ttotal: 2m 51s\tremaining: 1m 32s\n",
      "650:\tlearn: 1342.5820699\ttest: 1547.4312090\tbest: 1547.3963084 (648)\ttotal: 2m 51s\tremaining: 1m 31s\n",
      "651:\tlearn: 1342.3540249\ttest: 1547.2906271\tbest: 1547.2906271 (651)\ttotal: 2m 51s\tremaining: 1m 31s\n",
      "652:\tlearn: 1342.2077243\ttest: 1547.3181133\tbest: 1547.2906271 (651)\ttotal: 2m 52s\tremaining: 1m 31s\n",
      "653:\tlearn: 1342.0342734\ttest: 1547.2225978\tbest: 1547.2225978 (653)\ttotal: 2m 52s\tremaining: 1m 31s\n",
      "654:\tlearn: 1341.9347235\ttest: 1547.2399487\tbest: 1547.2225978 (653)\ttotal: 2m 52s\tremaining: 1m 30s\n",
      "655:\tlearn: 1341.7195909\ttest: 1547.2194708\tbest: 1547.2194708 (655)\ttotal: 2m 52s\tremaining: 1m 30s\n",
      "656:\tlearn: 1341.6638702\ttest: 1547.2018520\tbest: 1547.2018520 (656)\ttotal: 2m 53s\tremaining: 1m 30s\n",
      "657:\tlearn: 1341.6417445\ttest: 1547.2061242\tbest: 1547.2018520 (656)\ttotal: 2m 53s\tremaining: 1m 30s\n",
      "658:\tlearn: 1341.5479930\ttest: 1547.1644443\tbest: 1547.1644443 (658)\ttotal: 2m 53s\tremaining: 1m 29s\n",
      "659:\tlearn: 1341.2409535\ttest: 1547.0105310\tbest: 1547.0105310 (659)\ttotal: 2m 54s\tremaining: 1m 29s\n",
      "660:\tlearn: 1341.0071819\ttest: 1546.9170673\tbest: 1546.9170673 (660)\ttotal: 2m 54s\tremaining: 1m 29s\n",
      "661:\tlearn: 1340.7738252\ttest: 1546.8626302\tbest: 1546.8626302 (661)\ttotal: 2m 54s\tremaining: 1m 29s\n",
      "662:\tlearn: 1340.4976906\ttest: 1546.8837897\tbest: 1546.8626302 (661)\ttotal: 2m 54s\tremaining: 1m 28s\n",
      "663:\tlearn: 1340.3286326\ttest: 1546.8153108\tbest: 1546.8153108 (663)\ttotal: 2m 55s\tremaining: 1m 28s\n",
      "664:\tlearn: 1339.9666667\ttest: 1546.7393914\tbest: 1546.7393914 (664)\ttotal: 2m 55s\tremaining: 1m 28s\n",
      "665:\tlearn: 1339.7774447\ttest: 1546.7426589\tbest: 1546.7393914 (664)\ttotal: 2m 55s\tremaining: 1m 28s\n",
      "666:\tlearn: 1339.6596699\ttest: 1546.7286139\tbest: 1546.7286139 (666)\ttotal: 2m 55s\tremaining: 1m 27s\n",
      "667:\tlearn: 1339.4425675\ttest: 1546.6474120\tbest: 1546.6474120 (667)\ttotal: 2m 56s\tremaining: 1m 27s\n",
      "668:\tlearn: 1339.1629280\ttest: 1546.5889010\tbest: 1546.5889010 (668)\ttotal: 2m 56s\tremaining: 1m 27s\n",
      "669:\tlearn: 1338.5839965\ttest: 1546.3426271\tbest: 1546.3426271 (669)\ttotal: 2m 56s\tremaining: 1m 26s\n",
      "670:\tlearn: 1338.4908993\ttest: 1546.3290423\tbest: 1546.3290423 (670)\ttotal: 2m 56s\tremaining: 1m 26s\n",
      "671:\tlearn: 1338.4069581\ttest: 1546.2744293\tbest: 1546.2744293 (671)\ttotal: 2m 57s\tremaining: 1m 26s\n",
      "672:\tlearn: 1338.1094925\ttest: 1546.2900113\tbest: 1546.2744293 (671)\ttotal: 2m 57s\tremaining: 1m 26s\n",
      "673:\tlearn: 1338.0129055\ttest: 1546.2452175\tbest: 1546.2452175 (673)\ttotal: 2m 57s\tremaining: 1m 25s\n",
      "674:\tlearn: 1337.6608871\ttest: 1546.1275754\tbest: 1546.1275754 (674)\ttotal: 2m 57s\tremaining: 1m 25s\n",
      "675:\tlearn: 1337.4157250\ttest: 1546.1362861\tbest: 1546.1275754 (674)\ttotal: 2m 58s\tremaining: 1m 25s\n",
      "676:\tlearn: 1337.2316078\ttest: 1546.0693286\tbest: 1546.0693286 (676)\ttotal: 2m 58s\tremaining: 1m 25s\n",
      "677:\tlearn: 1336.9844219\ttest: 1546.1006299\tbest: 1546.0693286 (676)\ttotal: 2m 58s\tremaining: 1m 24s\n",
      "678:\tlearn: 1336.5840878\ttest: 1546.0702870\tbest: 1546.0693286 (676)\ttotal: 2m 58s\tremaining: 1m 24s\n",
      "679:\tlearn: 1336.3095158\ttest: 1545.9603976\tbest: 1545.9603976 (679)\ttotal: 2m 59s\tremaining: 1m 24s\n",
      "680:\tlearn: 1336.1762452\ttest: 1545.9275664\tbest: 1545.9275664 (680)\ttotal: 2m 59s\tremaining: 1m 24s\n",
      "681:\tlearn: 1335.9995792\ttest: 1545.8752679\tbest: 1545.8752679 (681)\ttotal: 2m 59s\tremaining: 1m 23s\n",
      "682:\tlearn: 1335.8356142\ttest: 1545.9086572\tbest: 1545.8752679 (681)\ttotal: 3m\tremaining: 1m 23s\n",
      "683:\tlearn: 1335.5806256\ttest: 1545.8771539\tbest: 1545.8752679 (681)\ttotal: 3m\tremaining: 1m 23s\n",
      "684:\tlearn: 1335.3652568\ttest: 1545.7962838\tbest: 1545.7962838 (684)\ttotal: 3m\tremaining: 1m 23s\n",
      "685:\tlearn: 1335.2313706\ttest: 1545.7220287\tbest: 1545.7220287 (685)\ttotal: 3m\tremaining: 1m 22s\n",
      "686:\tlearn: 1334.8928421\ttest: 1545.7063125\tbest: 1545.7063125 (686)\ttotal: 3m 1s\tremaining: 1m 22s\n",
      "687:\tlearn: 1334.6641852\ttest: 1545.6679581\tbest: 1545.6679581 (687)\ttotal: 3m 1s\tremaining: 1m 22s\n",
      "688:\tlearn: 1334.4323928\ttest: 1545.6329688\tbest: 1545.6329688 (688)\ttotal: 3m 1s\tremaining: 1m 21s\n",
      "689:\tlearn: 1334.2126258\ttest: 1545.6390508\tbest: 1545.6329688 (688)\ttotal: 3m 1s\tremaining: 1m 21s\n",
      "690:\tlearn: 1334.1182351\ttest: 1545.6417796\tbest: 1545.6329688 (688)\ttotal: 3m 2s\tremaining: 1m 21s\n",
      "691:\tlearn: 1333.8740987\ttest: 1545.6238869\tbest: 1545.6238869 (691)\ttotal: 3m 2s\tremaining: 1m 21s\n",
      "692:\tlearn: 1333.4217568\ttest: 1545.4718510\tbest: 1545.4718510 (692)\ttotal: 3m 2s\tremaining: 1m 20s\n",
      "693:\tlearn: 1333.1737192\ttest: 1545.3954889\tbest: 1545.3954889 (693)\ttotal: 3m 2s\tremaining: 1m 20s\n",
      "694:\tlearn: 1332.9359889\ttest: 1545.3402024\tbest: 1545.3402024 (694)\ttotal: 3m 3s\tremaining: 1m 20s\n",
      "695:\tlearn: 1332.8381712\ttest: 1545.3273246\tbest: 1545.3273246 (695)\ttotal: 3m 3s\tremaining: 1m 20s\n",
      "696:\tlearn: 1332.6973055\ttest: 1545.3409980\tbest: 1545.3273246 (695)\ttotal: 3m 3s\tremaining: 1m 19s\n",
      "697:\tlearn: 1332.4820473\ttest: 1545.3877319\tbest: 1545.3273246 (695)\ttotal: 3m 4s\tremaining: 1m 19s\n",
      "698:\tlearn: 1332.2695497\ttest: 1545.3104186\tbest: 1545.3104186 (698)\ttotal: 3m 4s\tremaining: 1m 19s\n",
      "699:\tlearn: 1332.1763402\ttest: 1545.2801201\tbest: 1545.2801201 (699)\ttotal: 3m 4s\tremaining: 1m 19s\n",
      "700:\tlearn: 1332.1399381\ttest: 1545.3213046\tbest: 1545.2801201 (699)\ttotal: 3m 4s\tremaining: 1m 18s\n",
      "701:\tlearn: 1332.0777623\ttest: 1545.3163569\tbest: 1545.2801201 (699)\ttotal: 3m 4s\tremaining: 1m 18s\n",
      "702:\tlearn: 1331.7983310\ttest: 1545.2353055\tbest: 1545.2353055 (702)\ttotal: 3m 5s\tremaining: 1m 18s\n",
      "703:\tlearn: 1331.5091931\ttest: 1545.0887705\tbest: 1545.0887705 (703)\ttotal: 3m 5s\tremaining: 1m 17s\n",
      "704:\tlearn: 1331.3902229\ttest: 1545.1114062\tbest: 1545.0887705 (703)\ttotal: 3m 5s\tremaining: 1m 17s\n",
      "705:\tlearn: 1331.1338408\ttest: 1545.0780009\tbest: 1545.0780009 (705)\ttotal: 3m 5s\tremaining: 1m 17s\n",
      "706:\tlearn: 1330.7886140\ttest: 1544.9557067\tbest: 1544.9557067 (706)\ttotal: 3m 6s\tremaining: 1m 17s\n",
      "707:\tlearn: 1330.5513869\ttest: 1544.9459584\tbest: 1544.9459584 (707)\ttotal: 3m 6s\tremaining: 1m 16s\n",
      "708:\tlearn: 1330.4489528\ttest: 1544.9480339\tbest: 1544.9459584 (707)\ttotal: 3m 6s\tremaining: 1m 16s\n",
      "709:\tlearn: 1330.3478308\ttest: 1544.9107540\tbest: 1544.9107540 (709)\ttotal: 3m 7s\tremaining: 1m 16s\n",
      "710:\tlearn: 1330.0625721\ttest: 1544.7964040\tbest: 1544.7964040 (710)\ttotal: 3m 7s\tremaining: 1m 16s\n",
      "711:\tlearn: 1330.0334410\ttest: 1544.7884504\tbest: 1544.7884504 (711)\ttotal: 3m 7s\tremaining: 1m 15s\n",
      "712:\tlearn: 1329.7162958\ttest: 1544.7563391\tbest: 1544.7563391 (712)\ttotal: 3m 7s\tremaining: 1m 15s\n",
      "713:\tlearn: 1329.5126068\ttest: 1544.7053311\tbest: 1544.7053311 (713)\ttotal: 3m 7s\tremaining: 1m 15s\n",
      "714:\tlearn: 1329.4307751\ttest: 1544.7031098\tbest: 1544.7031098 (714)\ttotal: 3m 8s\tremaining: 1m 15s\n",
      "715:\tlearn: 1329.2435656\ttest: 1544.6574361\tbest: 1544.6574361 (715)\ttotal: 3m 8s\tremaining: 1m 14s\n",
      "716:\tlearn: 1328.8893312\ttest: 1544.6164948\tbest: 1544.6164948 (716)\ttotal: 3m 8s\tremaining: 1m 14s\n",
      "717:\tlearn: 1328.8287532\ttest: 1544.6152102\tbest: 1544.6152102 (717)\ttotal: 3m 9s\tremaining: 1m 14s\n",
      "718:\tlearn: 1328.7742198\ttest: 1544.6543781\tbest: 1544.6152102 (717)\ttotal: 3m 9s\tremaining: 1m 13s\n",
      "719:\tlearn: 1328.7058507\ttest: 1544.6659068\tbest: 1544.6152102 (717)\ttotal: 3m 9s\tremaining: 1m 13s\n",
      "720:\tlearn: 1328.4760556\ttest: 1544.6433784\tbest: 1544.6152102 (717)\ttotal: 3m 9s\tremaining: 1m 13s\n",
      "721:\tlearn: 1328.4462822\ttest: 1544.6450725\tbest: 1544.6152102 (717)\ttotal: 3m 10s\tremaining: 1m 13s\n",
      "722:\tlearn: 1328.0002710\ttest: 1544.5996576\tbest: 1544.5996576 (722)\ttotal: 3m 10s\tremaining: 1m 12s\n",
      "723:\tlearn: 1327.8838737\ttest: 1544.6032191\tbest: 1544.5996576 (722)\ttotal: 3m 10s\tremaining: 1m 12s\n",
      "724:\tlearn: 1327.7812870\ttest: 1544.5626855\tbest: 1544.5626855 (724)\ttotal: 3m 10s\tremaining: 1m 12s\n",
      "725:\tlearn: 1327.5895532\ttest: 1544.5850674\tbest: 1544.5626855 (724)\ttotal: 3m 11s\tremaining: 1m 12s\n",
      "726:\tlearn: 1327.0953359\ttest: 1544.4189376\tbest: 1544.4189376 (726)\ttotal: 3m 11s\tremaining: 1m 11s\n",
      "727:\tlearn: 1326.5033313\ttest: 1544.1848664\tbest: 1544.1848664 (727)\ttotal: 3m 11s\tremaining: 1m 11s\n",
      "728:\tlearn: 1326.4194440\ttest: 1544.1747483\tbest: 1544.1747483 (728)\ttotal: 3m 11s\tremaining: 1m 11s\n",
      "729:\tlearn: 1326.3702867\ttest: 1544.1677540\tbest: 1544.1677540 (729)\ttotal: 3m 12s\tremaining: 1m 11s\n",
      "730:\tlearn: 1326.0315469\ttest: 1543.9309397\tbest: 1543.9309397 (730)\ttotal: 3m 12s\tremaining: 1m 10s\n",
      "731:\tlearn: 1325.9647341\ttest: 1543.9315926\tbest: 1543.9309397 (730)\ttotal: 3m 12s\tremaining: 1m 10s\n",
      "732:\tlearn: 1325.8611067\ttest: 1543.9540077\tbest: 1543.9309397 (730)\ttotal: 3m 13s\tremaining: 1m 10s\n",
      "733:\tlearn: 1325.6855831\ttest: 1543.9180053\tbest: 1543.9180053 (733)\ttotal: 3m 13s\tremaining: 1m 10s\n",
      "734:\tlearn: 1325.5864091\ttest: 1543.8974879\tbest: 1543.8974879 (734)\ttotal: 3m 13s\tremaining: 1m 9s\n",
      "735:\tlearn: 1325.4782111\ttest: 1543.8854347\tbest: 1543.8854347 (735)\ttotal: 3m 13s\tremaining: 1m 9s\n",
      "736:\tlearn: 1325.3760159\ttest: 1543.8428363\tbest: 1543.8428363 (736)\ttotal: 3m 14s\tremaining: 1m 9s\n",
      "737:\tlearn: 1325.1039592\ttest: 1543.7067413\tbest: 1543.7067413 (737)\ttotal: 3m 14s\tremaining: 1m 9s\n",
      "738:\tlearn: 1324.9412142\ttest: 1543.5979496\tbest: 1543.5979496 (738)\ttotal: 3m 14s\tremaining: 1m 8s\n",
      "739:\tlearn: 1324.8114823\ttest: 1543.4924682\tbest: 1543.4924682 (739)\ttotal: 3m 14s\tremaining: 1m 8s\n",
      "740:\tlearn: 1324.7873273\ttest: 1543.5013205\tbest: 1543.4924682 (739)\ttotal: 3m 15s\tremaining: 1m 8s\n",
      "741:\tlearn: 1324.7516301\ttest: 1543.4998735\tbest: 1543.4924682 (739)\ttotal: 3m 15s\tremaining: 1m 7s\n",
      "742:\tlearn: 1324.4105710\ttest: 1543.4994411\tbest: 1543.4924682 (739)\ttotal: 3m 15s\tremaining: 1m 7s\n",
      "743:\tlearn: 1324.1774712\ttest: 1543.5124670\tbest: 1543.4924682 (739)\ttotal: 3m 15s\tremaining: 1m 7s\n",
      "744:\tlearn: 1324.0966428\ttest: 1543.5305708\tbest: 1543.4924682 (739)\ttotal: 3m 16s\tremaining: 1m 7s\n",
      "745:\tlearn: 1324.0207348\ttest: 1543.5062746\tbest: 1543.4924682 (739)\ttotal: 3m 16s\tremaining: 1m 6s\n",
      "746:\tlearn: 1323.8543811\ttest: 1543.4449868\tbest: 1543.4449868 (746)\ttotal: 3m 16s\tremaining: 1m 6s\n",
      "747:\tlearn: 1323.7207908\ttest: 1543.3998260\tbest: 1543.3998260 (747)\ttotal: 3m 17s\tremaining: 1m 6s\n",
      "748:\tlearn: 1323.6448621\ttest: 1543.3981939\tbest: 1543.3981939 (748)\ttotal: 3m 17s\tremaining: 1m 6s\n",
      "749:\tlearn: 1323.4711905\ttest: 1543.3966693\tbest: 1543.3966693 (749)\ttotal: 3m 17s\tremaining: 1m 5s\n",
      "750:\tlearn: 1323.2866701\ttest: 1543.4103639\tbest: 1543.3966693 (749)\ttotal: 3m 17s\tremaining: 1m 5s\n",
      "751:\tlearn: 1323.1619356\ttest: 1543.3476973\tbest: 1543.3476973 (751)\ttotal: 3m 18s\tremaining: 1m 5s\n",
      "752:\tlearn: 1322.7017559\ttest: 1543.2794777\tbest: 1543.2794777 (752)\ttotal: 3m 18s\tremaining: 1m 5s\n",
      "753:\tlearn: 1322.6205638\ttest: 1543.2906289\tbest: 1543.2794777 (752)\ttotal: 3m 18s\tremaining: 1m 4s\n",
      "754:\tlearn: 1322.5787537\ttest: 1543.2948970\tbest: 1543.2794777 (752)\ttotal: 3m 18s\tremaining: 1m 4s\n",
      "755:\tlearn: 1322.5136447\ttest: 1543.2850043\tbest: 1543.2794777 (752)\ttotal: 3m 19s\tremaining: 1m 4s\n",
      "756:\tlearn: 1322.2672655\ttest: 1543.2966912\tbest: 1543.2794777 (752)\ttotal: 3m 19s\tremaining: 1m 4s\n",
      "757:\tlearn: 1322.1704668\ttest: 1543.2655149\tbest: 1543.2655149 (757)\ttotal: 3m 19s\tremaining: 1m 3s\n",
      "758:\tlearn: 1321.8598173\ttest: 1543.1930669\tbest: 1543.1930669 (758)\ttotal: 3m 20s\tremaining: 1m 3s\n",
      "759:\tlearn: 1321.7800977\ttest: 1543.1739856\tbest: 1543.1739856 (759)\ttotal: 3m 20s\tremaining: 1m 3s\n",
      "760:\tlearn: 1321.5053517\ttest: 1543.2004223\tbest: 1543.1739856 (759)\ttotal: 3m 20s\tremaining: 1m 3s\n",
      "761:\tlearn: 1321.4267363\ttest: 1543.1400641\tbest: 1543.1400641 (761)\ttotal: 3m 21s\tremaining: 1m 2s\n",
      "762:\tlearn: 1321.3396444\ttest: 1543.1561584\tbest: 1543.1400641 (761)\ttotal: 3m 21s\tremaining: 1m 2s\n",
      "763:\tlearn: 1321.2212434\ttest: 1543.1657727\tbest: 1543.1400641 (761)\ttotal: 3m 21s\tremaining: 1m 2s\n",
      "764:\tlearn: 1321.0781834\ttest: 1543.1226409\tbest: 1543.1226409 (764)\ttotal: 3m 21s\tremaining: 1m 1s\n",
      "765:\tlearn: 1320.9881971\ttest: 1543.0988826\tbest: 1543.0988826 (765)\ttotal: 3m 21s\tremaining: 1m 1s\n",
      "766:\tlearn: 1320.8774076\ttest: 1543.0735301\tbest: 1543.0735301 (766)\ttotal: 3m 22s\tremaining: 1m 1s\n",
      "767:\tlearn: 1320.7474207\ttest: 1543.0692022\tbest: 1543.0692022 (767)\ttotal: 3m 22s\tremaining: 1m 1s\n",
      "768:\tlearn: 1320.3848214\ttest: 1542.9934096\tbest: 1542.9934096 (768)\ttotal: 3m 22s\tremaining: 1m\n",
      "769:\tlearn: 1320.1162393\ttest: 1542.8862435\tbest: 1542.8862435 (769)\ttotal: 3m 23s\tremaining: 1m\n",
      "770:\tlearn: 1320.0221154\ttest: 1542.8635263\tbest: 1542.8635263 (770)\ttotal: 3m 23s\tremaining: 1m\n",
      "771:\tlearn: 1319.6784305\ttest: 1542.7279005\tbest: 1542.7279005 (771)\ttotal: 3m 23s\tremaining: 1m\n",
      "772:\tlearn: 1319.4971053\ttest: 1542.6445597\tbest: 1542.6445597 (772)\ttotal: 3m 23s\tremaining: 59.9s\n",
      "773:\tlearn: 1319.1974538\ttest: 1542.5501013\tbest: 1542.5501013 (773)\ttotal: 3m 24s\tremaining: 59.6s\n",
      "774:\tlearn: 1318.9542228\ttest: 1542.4604908\tbest: 1542.4604908 (774)\ttotal: 3m 24s\tremaining: 59.3s\n",
      "775:\tlearn: 1318.8457403\ttest: 1542.4521756\tbest: 1542.4521756 (775)\ttotal: 3m 24s\tremaining: 59s\n",
      "776:\tlearn: 1318.7160367\ttest: 1542.4276080\tbest: 1542.4276080 (776)\ttotal: 3m 24s\tremaining: 58.8s\n",
      "777:\tlearn: 1318.6590539\ttest: 1542.3997934\tbest: 1542.3997934 (777)\ttotal: 3m 25s\tremaining: 58.5s\n",
      "778:\tlearn: 1318.5427622\ttest: 1542.3938634\tbest: 1542.3938634 (778)\ttotal: 3m 25s\tremaining: 58.2s\n",
      "779:\tlearn: 1318.5245840\ttest: 1542.3669151\tbest: 1542.3669151 (779)\ttotal: 3m 25s\tremaining: 58s\n",
      "780:\tlearn: 1318.4470818\ttest: 1542.3733089\tbest: 1542.3669151 (779)\ttotal: 3m 25s\tremaining: 57.7s\n",
      "781:\tlearn: 1318.3548854\ttest: 1542.3419569\tbest: 1542.3419569 (781)\ttotal: 3m 26s\tremaining: 57.4s\n",
      "782:\tlearn: 1318.1641763\ttest: 1542.2609833\tbest: 1542.2609833 (782)\ttotal: 3m 26s\tremaining: 57.2s\n",
      "783:\tlearn: 1317.9142511\ttest: 1542.2326354\tbest: 1542.2326354 (783)\ttotal: 3m 26s\tremaining: 56.9s\n",
      "784:\tlearn: 1317.8611021\ttest: 1542.2090991\tbest: 1542.2090991 (784)\ttotal: 3m 26s\tremaining: 56.6s\n",
      "785:\tlearn: 1317.7477808\ttest: 1542.2240337\tbest: 1542.2090991 (784)\ttotal: 3m 27s\tremaining: 56.4s\n",
      "786:\tlearn: 1317.6261428\ttest: 1542.2305591\tbest: 1542.2090991 (784)\ttotal: 3m 27s\tremaining: 56.1s\n",
      "787:\tlearn: 1317.2539476\ttest: 1542.0678554\tbest: 1542.0678554 (787)\ttotal: 3m 27s\tremaining: 55.9s\n",
      "788:\tlearn: 1316.9359996\ttest: 1541.9977499\tbest: 1541.9977499 (788)\ttotal: 3m 27s\tremaining: 55.6s\n",
      "789:\tlearn: 1316.8273478\ttest: 1542.0289128\tbest: 1541.9977499 (788)\ttotal: 3m 28s\tremaining: 55.3s\n",
      "790:\tlearn: 1316.6851144\ttest: 1542.0052390\tbest: 1541.9977499 (788)\ttotal: 3m 28s\tremaining: 55.1s\n",
      "791:\tlearn: 1316.3729581\ttest: 1542.0043447\tbest: 1541.9977499 (788)\ttotal: 3m 28s\tremaining: 54.8s\n",
      "792:\tlearn: 1316.2552972\ttest: 1542.0051421\tbest: 1541.9977499 (788)\ttotal: 3m 29s\tremaining: 54.6s\n",
      "793:\tlearn: 1316.2034289\ttest: 1541.9896768\tbest: 1541.9896768 (793)\ttotal: 3m 29s\tremaining: 54.3s\n",
      "794:\tlearn: 1315.9710412\ttest: 1541.9753293\tbest: 1541.9753293 (794)\ttotal: 3m 29s\tremaining: 54s\n",
      "795:\tlearn: 1315.6100752\ttest: 1541.8811189\tbest: 1541.8811189 (795)\ttotal: 3m 29s\tremaining: 53.8s\n",
      "796:\tlearn: 1315.4220008\ttest: 1541.8169909\tbest: 1541.8169909 (796)\ttotal: 3m 30s\tremaining: 53.5s\n",
      "797:\tlearn: 1315.1723740\ttest: 1541.6888765\tbest: 1541.6888765 (797)\ttotal: 3m 30s\tremaining: 53.2s\n",
      "798:\tlearn: 1315.1022891\ttest: 1541.6614242\tbest: 1541.6614242 (798)\ttotal: 3m 30s\tremaining: 53s\n",
      "799:\tlearn: 1314.8421081\ttest: 1541.5321126\tbest: 1541.5321126 (799)\ttotal: 3m 30s\tremaining: 52.7s\n",
      "800:\tlearn: 1314.4973985\ttest: 1541.4354449\tbest: 1541.4354449 (800)\ttotal: 3m 31s\tremaining: 52.4s\n",
      "801:\tlearn: 1314.4454296\ttest: 1541.4169011\tbest: 1541.4169011 (801)\ttotal: 3m 31s\tremaining: 52.2s\n",
      "802:\tlearn: 1314.4185231\ttest: 1541.3962039\tbest: 1541.3962039 (802)\ttotal: 3m 31s\tremaining: 51.9s\n",
      "803:\tlearn: 1314.2949445\ttest: 1541.3737654\tbest: 1541.3737654 (803)\ttotal: 3m 31s\tremaining: 51.6s\n",
      "804:\tlearn: 1314.2111169\ttest: 1541.3808782\tbest: 1541.3737654 (803)\ttotal: 3m 32s\tremaining: 51.4s\n",
      "805:\tlearn: 1313.9988640\ttest: 1541.3319748\tbest: 1541.3319748 (805)\ttotal: 3m 32s\tremaining: 51.1s\n",
      "806:\tlearn: 1313.8968152\ttest: 1541.3178433\tbest: 1541.3178433 (806)\ttotal: 3m 32s\tremaining: 50.8s\n",
      "807:\tlearn: 1313.4779746\ttest: 1541.2637218\tbest: 1541.2637218 (807)\ttotal: 3m 32s\tremaining: 50.6s\n",
      "808:\tlearn: 1313.2773795\ttest: 1541.2069084\tbest: 1541.2069084 (808)\ttotal: 3m 33s\tremaining: 50.3s\n",
      "809:\tlearn: 1313.1342415\ttest: 1541.2287999\tbest: 1541.2069084 (808)\ttotal: 3m 33s\tremaining: 50s\n",
      "810:\tlearn: 1312.8872792\ttest: 1541.2157353\tbest: 1541.2069084 (808)\ttotal: 3m 33s\tremaining: 49.8s\n",
      "811:\tlearn: 1312.8149069\ttest: 1541.1933280\tbest: 1541.1933280 (811)\ttotal: 3m 33s\tremaining: 49.5s\n",
      "812:\tlearn: 1312.5013962\ttest: 1541.1082163\tbest: 1541.1082163 (812)\ttotal: 3m 34s\tremaining: 49.3s\n",
      "813:\tlearn: 1312.4275103\ttest: 1541.1136825\tbest: 1541.1082163 (812)\ttotal: 3m 34s\tremaining: 49s\n",
      "814:\tlearn: 1311.9896817\ttest: 1541.0342557\tbest: 1541.0342557 (814)\ttotal: 3m 34s\tremaining: 48.7s\n",
      "815:\tlearn: 1311.7760934\ttest: 1541.0214950\tbest: 1541.0214950 (815)\ttotal: 3m 34s\tremaining: 48.5s\n",
      "816:\tlearn: 1311.6359086\ttest: 1540.9317332\tbest: 1540.9317332 (816)\ttotal: 3m 35s\tremaining: 48.2s\n",
      "817:\tlearn: 1311.2074446\ttest: 1540.7367642\tbest: 1540.7367642 (817)\ttotal: 3m 35s\tremaining: 48s\n",
      "818:\tlearn: 1311.0164195\ttest: 1540.6958014\tbest: 1540.6958014 (818)\ttotal: 3m 35s\tremaining: 47.7s\n",
      "819:\tlearn: 1310.8684152\ttest: 1540.6693777\tbest: 1540.6693777 (819)\ttotal: 3m 36s\tremaining: 47.4s\n",
      "820:\tlearn: 1310.7210766\ttest: 1540.6386145\tbest: 1540.6386145 (820)\ttotal: 3m 36s\tremaining: 47.2s\n",
      "821:\tlearn: 1310.4591513\ttest: 1540.5339363\tbest: 1540.5339363 (821)\ttotal: 3m 36s\tremaining: 46.9s\n",
      "822:\tlearn: 1310.3145150\ttest: 1540.4994013\tbest: 1540.4994013 (822)\ttotal: 3m 36s\tremaining: 46.6s\n",
      "823:\tlearn: 1310.1910600\ttest: 1540.5405238\tbest: 1540.4994013 (822)\ttotal: 3m 37s\tremaining: 46.4s\n",
      "824:\tlearn: 1310.1426401\ttest: 1540.5358949\tbest: 1540.4994013 (822)\ttotal: 3m 37s\tremaining: 46.1s\n",
      "825:\tlearn: 1309.8938898\ttest: 1540.5071184\tbest: 1540.4994013 (822)\ttotal: 3m 37s\tremaining: 45.8s\n",
      "826:\tlearn: 1309.7268820\ttest: 1540.4793375\tbest: 1540.4793375 (826)\ttotal: 3m 37s\tremaining: 45.6s\n",
      "827:\tlearn: 1309.6853174\ttest: 1540.4827124\tbest: 1540.4793375 (826)\ttotal: 3m 37s\tremaining: 45.3s\n",
      "828:\tlearn: 1309.5472558\ttest: 1540.4132256\tbest: 1540.4132256 (828)\ttotal: 3m 38s\tremaining: 45s\n",
      "829:\tlearn: 1309.4262761\ttest: 1540.3958959\tbest: 1540.3958959 (829)\ttotal: 3m 38s\tremaining: 44.8s\n",
      "830:\tlearn: 1309.2033178\ttest: 1540.3617049\tbest: 1540.3617049 (830)\ttotal: 3m 38s\tremaining: 44.5s\n",
      "831:\tlearn: 1309.1155809\ttest: 1540.3369292\tbest: 1540.3369292 (831)\ttotal: 3m 39s\tremaining: 44.2s\n",
      "832:\tlearn: 1309.0400543\ttest: 1540.3203029\tbest: 1540.3203029 (832)\ttotal: 3m 39s\tremaining: 44s\n",
      "833:\tlearn: 1308.8490670\ttest: 1540.3304282\tbest: 1540.3203029 (832)\ttotal: 3m 39s\tremaining: 43.7s\n",
      "834:\tlearn: 1308.7026119\ttest: 1540.2895911\tbest: 1540.2895911 (834)\ttotal: 3m 39s\tremaining: 43.4s\n",
      "835:\tlearn: 1308.3801839\ttest: 1540.2597784\tbest: 1540.2597784 (835)\ttotal: 3m 40s\tremaining: 43.2s\n",
      "836:\tlearn: 1308.3309275\ttest: 1540.2424552\tbest: 1540.2424552 (836)\ttotal: 3m 40s\tremaining: 42.9s\n",
      "837:\tlearn: 1308.0103843\ttest: 1540.1917844\tbest: 1540.1917844 (837)\ttotal: 3m 40s\tremaining: 42.7s\n",
      "838:\tlearn: 1307.9668860\ttest: 1540.1764718\tbest: 1540.1764718 (838)\ttotal: 3m 40s\tremaining: 42.4s\n",
      "839:\tlearn: 1307.8926645\ttest: 1540.1924308\tbest: 1540.1764718 (838)\ttotal: 3m 41s\tremaining: 42.1s\n",
      "840:\tlearn: 1307.7867082\ttest: 1540.2164475\tbest: 1540.1764718 (838)\ttotal: 3m 41s\tremaining: 41.9s\n",
      "841:\tlearn: 1307.6135911\ttest: 1540.1495230\tbest: 1540.1495230 (841)\ttotal: 3m 41s\tremaining: 41.6s\n",
      "842:\tlearn: 1307.4642514\ttest: 1540.0817248\tbest: 1540.0817248 (842)\ttotal: 3m 42s\tremaining: 41.4s\n",
      "843:\tlearn: 1307.2825945\ttest: 1540.0827693\tbest: 1540.0817248 (842)\ttotal: 3m 42s\tremaining: 41.1s\n",
      "844:\tlearn: 1307.2183502\ttest: 1540.1000384\tbest: 1540.0817248 (842)\ttotal: 3m 42s\tremaining: 40.8s\n",
      "845:\tlearn: 1307.1645911\ttest: 1540.0786082\tbest: 1540.0786082 (845)\ttotal: 3m 42s\tremaining: 40.6s\n",
      "846:\tlearn: 1306.8759558\ttest: 1540.0514090\tbest: 1540.0514090 (846)\ttotal: 3m 43s\tremaining: 40.3s\n",
      "847:\tlearn: 1306.5358399\ttest: 1540.0059150\tbest: 1540.0059150 (847)\ttotal: 3m 43s\tremaining: 40.1s\n",
      "848:\tlearn: 1306.4288177\ttest: 1539.9514029\tbest: 1539.9514029 (848)\ttotal: 3m 43s\tremaining: 39.8s\n",
      "849:\tlearn: 1306.4207343\ttest: 1539.9489819\tbest: 1539.9489819 (849)\ttotal: 3m 43s\tremaining: 39.5s\n",
      "850:\tlearn: 1306.3786412\ttest: 1539.9961337\tbest: 1539.9489819 (849)\ttotal: 3m 44s\tremaining: 39.3s\n",
      "851:\tlearn: 1306.2372343\ttest: 1539.9726780\tbest: 1539.9489819 (849)\ttotal: 3m 44s\tremaining: 39s\n",
      "852:\tlearn: 1306.1644444\ttest: 1539.9720733\tbest: 1539.9489819 (849)\ttotal: 3m 44s\tremaining: 38.7s\n",
      "853:\tlearn: 1305.9714419\ttest: 1539.9302532\tbest: 1539.9302532 (853)\ttotal: 3m 45s\tremaining: 38.5s\n",
      "854:\tlearn: 1305.9119186\ttest: 1539.9067436\tbest: 1539.9067436 (854)\ttotal: 3m 45s\tremaining: 38.2s\n",
      "855:\tlearn: 1305.9013480\ttest: 1539.9129618\tbest: 1539.9067436 (854)\ttotal: 3m 45s\tremaining: 38s\n",
      "856:\tlearn: 1305.8210886\ttest: 1539.8764491\tbest: 1539.8764491 (856)\ttotal: 3m 45s\tremaining: 37.7s\n",
      "857:\tlearn: 1305.5337798\ttest: 1539.8414700\tbest: 1539.8414700 (857)\ttotal: 3m 46s\tremaining: 37.4s\n",
      "858:\tlearn: 1305.3636894\ttest: 1539.8365802\tbest: 1539.8365802 (858)\ttotal: 3m 46s\tremaining: 37.1s\n",
      "859:\tlearn: 1305.2231875\ttest: 1539.7997465\tbest: 1539.7997465 (859)\ttotal: 3m 46s\tremaining: 36.9s\n",
      "860:\tlearn: 1305.0428045\ttest: 1539.7573764\tbest: 1539.7573764 (860)\ttotal: 3m 46s\tremaining: 36.6s\n",
      "861:\tlearn: 1304.9684489\ttest: 1539.7531763\tbest: 1539.7531763 (861)\ttotal: 3m 47s\tremaining: 36.4s\n",
      "862:\tlearn: 1304.7392032\ttest: 1539.6493178\tbest: 1539.6493178 (862)\ttotal: 3m 47s\tremaining: 36.1s\n",
      "863:\tlearn: 1304.6746201\ttest: 1539.6217657\tbest: 1539.6217657 (863)\ttotal: 3m 47s\tremaining: 35.9s\n",
      "864:\tlearn: 1304.5051095\ttest: 1539.6383306\tbest: 1539.6217657 (863)\ttotal: 3m 48s\tremaining: 35.6s\n",
      "865:\tlearn: 1304.4149654\ttest: 1539.6158350\tbest: 1539.6158350 (865)\ttotal: 3m 48s\tremaining: 35.3s\n",
      "866:\tlearn: 1304.1447271\ttest: 1539.5178338\tbest: 1539.5178338 (866)\ttotal: 3m 48s\tremaining: 35.1s\n",
      "867:\tlearn: 1303.7821410\ttest: 1539.4489923\tbest: 1539.4489923 (867)\ttotal: 3m 48s\tremaining: 34.8s\n",
      "868:\tlearn: 1303.6436213\ttest: 1539.4243147\tbest: 1539.4243147 (868)\ttotal: 3m 49s\tremaining: 34.5s\n",
      "869:\tlearn: 1303.4466162\ttest: 1539.3677769\tbest: 1539.3677769 (869)\ttotal: 3m 49s\tremaining: 34.3s\n",
      "870:\tlearn: 1303.0230405\ttest: 1539.3789042\tbest: 1539.3677769 (869)\ttotal: 3m 49s\tremaining: 34s\n",
      "871:\tlearn: 1302.7322501\ttest: 1539.3576187\tbest: 1539.3576187 (871)\ttotal: 3m 49s\tremaining: 33.7s\n",
      "872:\tlearn: 1302.6083996\ttest: 1539.4154379\tbest: 1539.3576187 (871)\ttotal: 3m 50s\tremaining: 33.5s\n",
      "873:\tlearn: 1302.5407222\ttest: 1539.4186428\tbest: 1539.3576187 (871)\ttotal: 3m 50s\tremaining: 33.2s\n",
      "874:\tlearn: 1302.4423802\ttest: 1539.3729476\tbest: 1539.3576187 (871)\ttotal: 3m 50s\tremaining: 32.9s\n",
      "875:\tlearn: 1302.1223397\ttest: 1539.3688401\tbest: 1539.3576187 (871)\ttotal: 3m 50s\tremaining: 32.7s\n",
      "876:\tlearn: 1301.9235736\ttest: 1539.4436778\tbest: 1539.3576187 (871)\ttotal: 3m 51s\tremaining: 32.4s\n",
      "877:\tlearn: 1301.5476529\ttest: 1539.3513323\tbest: 1539.3513323 (877)\ttotal: 3m 51s\tremaining: 32.1s\n",
      "878:\tlearn: 1301.4477807\ttest: 1539.3539561\tbest: 1539.3513323 (877)\ttotal: 3m 51s\tremaining: 31.9s\n",
      "879:\tlearn: 1301.3116245\ttest: 1539.3391223\tbest: 1539.3391223 (879)\ttotal: 3m 51s\tremaining: 31.6s\n",
      "880:\tlearn: 1301.1788439\ttest: 1539.3083663\tbest: 1539.3083663 (880)\ttotal: 3m 52s\tremaining: 31.4s\n",
      "881:\tlearn: 1301.0267508\ttest: 1539.2733726\tbest: 1539.2733726 (881)\ttotal: 3m 52s\tremaining: 31.1s\n",
      "882:\tlearn: 1300.8713074\ttest: 1539.2153632\tbest: 1539.2153632 (882)\ttotal: 3m 52s\tremaining: 30.8s\n",
      "883:\tlearn: 1300.7486948\ttest: 1539.2113238\tbest: 1539.2113238 (883)\ttotal: 3m 52s\tremaining: 30.6s\n",
      "884:\tlearn: 1300.6734386\ttest: 1539.1683650\tbest: 1539.1683650 (884)\ttotal: 3m 53s\tremaining: 30.3s\n",
      "885:\tlearn: 1300.5478105\ttest: 1539.2096897\tbest: 1539.1683650 (884)\ttotal: 3m 53s\tremaining: 30.1s\n",
      "886:\tlearn: 1300.3457814\ttest: 1539.1621403\tbest: 1539.1621403 (886)\ttotal: 3m 53s\tremaining: 29.8s\n",
      "887:\tlearn: 1299.9882319\ttest: 1539.0896821\tbest: 1539.0896821 (887)\ttotal: 3m 54s\tremaining: 29.5s\n",
      "888:\tlearn: 1299.8469391\ttest: 1539.0650829\tbest: 1539.0650829 (888)\ttotal: 3m 54s\tremaining: 29.3s\n",
      "889:\tlearn: 1299.7671596\ttest: 1539.0486859\tbest: 1539.0486859 (889)\ttotal: 3m 54s\tremaining: 29s\n",
      "890:\tlearn: 1299.6281788\ttest: 1539.0262626\tbest: 1539.0262626 (890)\ttotal: 3m 54s\tremaining: 28.7s\n",
      "891:\tlearn: 1299.4817001\ttest: 1538.9933242\tbest: 1538.9933242 (891)\ttotal: 3m 55s\tremaining: 28.5s\n",
      "892:\tlearn: 1299.0756825\ttest: 1538.9636249\tbest: 1538.9636249 (892)\ttotal: 3m 55s\tremaining: 28.2s\n",
      "893:\tlearn: 1298.9913344\ttest: 1538.9562534\tbest: 1538.9562534 (893)\ttotal: 3m 55s\tremaining: 27.9s\n",
      "894:\tlearn: 1298.8161696\ttest: 1538.8570799\tbest: 1538.8570799 (894)\ttotal: 3m 56s\tremaining: 27.7s\n",
      "895:\tlearn: 1298.7098378\ttest: 1538.9007099\tbest: 1538.8570799 (894)\ttotal: 3m 56s\tremaining: 27.4s\n",
      "896:\tlearn: 1298.5424050\ttest: 1538.8441855\tbest: 1538.8441855 (896)\ttotal: 3m 56s\tremaining: 27.2s\n",
      "897:\tlearn: 1298.2646655\ttest: 1538.8140552\tbest: 1538.8140552 (897)\ttotal: 3m 56s\tremaining: 26.9s\n",
      "898:\tlearn: 1298.2003122\ttest: 1538.8230013\tbest: 1538.8140552 (897)\ttotal: 3m 57s\tremaining: 26.6s\n",
      "899:\tlearn: 1298.1273944\ttest: 1538.8079569\tbest: 1538.8079569 (899)\ttotal: 3m 57s\tremaining: 26.4s\n",
      "900:\tlearn: 1298.0326266\ttest: 1538.7916895\tbest: 1538.7916895 (900)\ttotal: 3m 57s\tremaining: 26.1s\n",
      "901:\tlearn: 1297.8632205\ttest: 1538.8098804\tbest: 1538.7916895 (900)\ttotal: 3m 57s\tremaining: 25.9s\n",
      "902:\tlearn: 1297.6920233\ttest: 1538.8231928\tbest: 1538.7916895 (900)\ttotal: 3m 58s\tremaining: 25.6s\n",
      "903:\tlearn: 1297.6320264\ttest: 1538.8147490\tbest: 1538.7916895 (900)\ttotal: 3m 58s\tremaining: 25.3s\n",
      "904:\tlearn: 1297.5340088\ttest: 1538.8126300\tbest: 1538.7916895 (900)\ttotal: 3m 58s\tremaining: 25.1s\n",
      "905:\tlearn: 1297.4264850\ttest: 1538.7649749\tbest: 1538.7649749 (905)\ttotal: 3m 59s\tremaining: 24.8s\n",
      "906:\tlearn: 1297.2934981\ttest: 1538.7596924\tbest: 1538.7596924 (906)\ttotal: 3m 59s\tremaining: 24.5s\n",
      "907:\tlearn: 1297.2158503\ttest: 1538.7395100\tbest: 1538.7395100 (907)\ttotal: 3m 59s\tremaining: 24.3s\n",
      "908:\tlearn: 1297.0977657\ttest: 1538.6866373\tbest: 1538.6866373 (908)\ttotal: 3m 59s\tremaining: 24s\n",
      "909:\tlearn: 1297.0038700\ttest: 1538.7157825\tbest: 1538.6866373 (908)\ttotal: 4m\tremaining: 23.8s\n",
      "910:\tlearn: 1296.9593374\ttest: 1538.6985207\tbest: 1538.6866373 (908)\ttotal: 4m\tremaining: 23.5s\n",
      "911:\tlearn: 1296.8024390\ttest: 1538.6924860\tbest: 1538.6866373 (908)\ttotal: 4m\tremaining: 23.2s\n",
      "912:\tlearn: 1296.5741701\ttest: 1538.5528108\tbest: 1538.5528108 (912)\ttotal: 4m 1s\tremaining: 23s\n",
      "913:\tlearn: 1296.2484556\ttest: 1538.4203987\tbest: 1538.4203987 (913)\ttotal: 4m 1s\tremaining: 22.7s\n",
      "914:\tlearn: 1296.1056700\ttest: 1538.4065848\tbest: 1538.4065848 (914)\ttotal: 4m 1s\tremaining: 22.5s\n",
      "915:\tlearn: 1296.0027630\ttest: 1538.4321140\tbest: 1538.4065848 (914)\ttotal: 4m 1s\tremaining: 22.2s\n",
      "916:\tlearn: 1295.8980126\ttest: 1538.4298694\tbest: 1538.4065848 (914)\ttotal: 4m 2s\tremaining: 21.9s\n",
      "917:\tlearn: 1295.8530330\ttest: 1538.4275288\tbest: 1538.4065848 (914)\ttotal: 4m 2s\tremaining: 21.7s\n",
      "918:\tlearn: 1295.7656603\ttest: 1538.4360450\tbest: 1538.4065848 (914)\ttotal: 4m 2s\tremaining: 21.4s\n",
      "919:\tlearn: 1295.6143901\ttest: 1538.4329011\tbest: 1538.4065848 (914)\ttotal: 4m 3s\tremaining: 21.1s\n",
      "920:\tlearn: 1295.3518320\ttest: 1538.3874547\tbest: 1538.3874547 (920)\ttotal: 4m 3s\tremaining: 20.9s\n",
      "921:\tlearn: 1294.9998800\ttest: 1538.3572108\tbest: 1538.3572108 (921)\ttotal: 4m 3s\tremaining: 20.6s\n",
      "922:\tlearn: 1294.8240078\ttest: 1538.3645346\tbest: 1538.3572108 (921)\ttotal: 4m 3s\tremaining: 20.3s\n",
      "923:\tlearn: 1294.5365154\ttest: 1538.2785445\tbest: 1538.2785445 (923)\ttotal: 4m 4s\tremaining: 20.1s\n",
      "924:\tlearn: 1294.3885044\ttest: 1538.2589157\tbest: 1538.2589157 (924)\ttotal: 4m 4s\tremaining: 19.8s\n",
      "925:\tlearn: 1294.1806149\ttest: 1538.3040635\tbest: 1538.2589157 (924)\ttotal: 4m 4s\tremaining: 19.6s\n",
      "926:\tlearn: 1294.0255515\ttest: 1538.2660144\tbest: 1538.2589157 (924)\ttotal: 4m 4s\tremaining: 19.3s\n",
      "927:\tlearn: 1293.8982634\ttest: 1538.2007710\tbest: 1538.2007710 (927)\ttotal: 4m 5s\tremaining: 19s\n",
      "928:\tlearn: 1293.8688035\ttest: 1538.2118098\tbest: 1538.2007710 (927)\ttotal: 4m 5s\tremaining: 18.8s\n",
      "929:\tlearn: 1293.7193312\ttest: 1538.2139339\tbest: 1538.2007710 (927)\ttotal: 4m 5s\tremaining: 18.5s\n",
      "930:\tlearn: 1293.5912527\ttest: 1538.1870413\tbest: 1538.1870413 (930)\ttotal: 4m 6s\tremaining: 18.2s\n",
      "931:\tlearn: 1293.5322146\ttest: 1538.1745114\tbest: 1538.1745114 (931)\ttotal: 4m 6s\tremaining: 18s\n",
      "932:\tlearn: 1293.4108884\ttest: 1538.2163039\tbest: 1538.1745114 (931)\ttotal: 4m 6s\tremaining: 17.7s\n",
      "933:\tlearn: 1293.2834632\ttest: 1538.2159438\tbest: 1538.1745114 (931)\ttotal: 4m 6s\tremaining: 17.5s\n",
      "934:\tlearn: 1293.1902729\ttest: 1538.2470772\tbest: 1538.1745114 (931)\ttotal: 4m 7s\tremaining: 17.2s\n",
      "935:\tlearn: 1293.1166242\ttest: 1538.2658459\tbest: 1538.1745114 (931)\ttotal: 4m 7s\tremaining: 16.9s\n",
      "936:\tlearn: 1293.0630712\ttest: 1538.2519843\tbest: 1538.1745114 (931)\ttotal: 4m 7s\tremaining: 16.7s\n",
      "937:\tlearn: 1293.0198085\ttest: 1538.2346305\tbest: 1538.1745114 (931)\ttotal: 4m 8s\tremaining: 16.4s\n",
      "938:\tlearn: 1292.9302705\ttest: 1538.2052316\tbest: 1538.1745114 (931)\ttotal: 4m 8s\tremaining: 16.1s\n",
      "939:\tlearn: 1292.7337525\ttest: 1538.1673321\tbest: 1538.1673321 (939)\ttotal: 4m 8s\tremaining: 15.9s\n",
      "940:\tlearn: 1292.7070073\ttest: 1538.1852647\tbest: 1538.1673321 (939)\ttotal: 4m 9s\tremaining: 15.6s\n",
      "941:\tlearn: 1292.6476957\ttest: 1538.1742396\tbest: 1538.1673321 (939)\ttotal: 4m 9s\tremaining: 15.3s\n",
      "942:\tlearn: 1292.5627903\ttest: 1538.1687795\tbest: 1538.1673321 (939)\ttotal: 4m 9s\tremaining: 15.1s\n",
      "943:\tlearn: 1292.1362062\ttest: 1538.0448566\tbest: 1538.0448566 (943)\ttotal: 4m 9s\tremaining: 14.8s\n",
      "944:\tlearn: 1291.9341800\ttest: 1538.0624501\tbest: 1538.0448566 (943)\ttotal: 4m 10s\tremaining: 14.6s\n",
      "945:\tlearn: 1291.5028268\ttest: 1537.8918725\tbest: 1537.8918725 (945)\ttotal: 4m 10s\tremaining: 14.3s\n",
      "946:\tlearn: 1291.3446621\ttest: 1537.8519468\tbest: 1537.8519468 (946)\ttotal: 4m 10s\tremaining: 14s\n",
      "947:\tlearn: 1291.1008530\ttest: 1537.7663198\tbest: 1537.7663198 (947)\ttotal: 4m 11s\tremaining: 13.8s\n",
      "948:\tlearn: 1290.9783266\ttest: 1537.7397572\tbest: 1537.7397572 (948)\ttotal: 4m 11s\tremaining: 13.5s\n",
      "949:\tlearn: 1290.8408463\ttest: 1537.7493576\tbest: 1537.7397572 (948)\ttotal: 4m 11s\tremaining: 13.2s\n",
      "950:\tlearn: 1290.7980528\ttest: 1537.7599002\tbest: 1537.7397572 (948)\ttotal: 4m 11s\tremaining: 13s\n",
      "951:\tlearn: 1290.7052848\ttest: 1537.7392577\tbest: 1537.7392577 (951)\ttotal: 4m 12s\tremaining: 12.7s\n",
      "952:\tlearn: 1290.5120948\ttest: 1537.7229965\tbest: 1537.7229965 (952)\ttotal: 4m 12s\tremaining: 12.4s\n",
      "953:\tlearn: 1290.2841836\ttest: 1537.7471312\tbest: 1537.7229965 (952)\ttotal: 4m 12s\tremaining: 12.2s\n",
      "954:\tlearn: 1290.0247738\ttest: 1537.6897096\tbest: 1537.6897096 (954)\ttotal: 4m 12s\tremaining: 11.9s\n",
      "955:\tlearn: 1289.8024011\ttest: 1537.6769462\tbest: 1537.6769462 (955)\ttotal: 4m 13s\tremaining: 11.6s\n",
      "956:\tlearn: 1289.6335643\ttest: 1537.6043359\tbest: 1537.6043359 (956)\ttotal: 4m 13s\tremaining: 11.4s\n",
      "957:\tlearn: 1289.4821748\ttest: 1537.5763864\tbest: 1537.5763864 (957)\ttotal: 4m 13s\tremaining: 11.1s\n",
      "958:\tlearn: 1289.3404045\ttest: 1537.5524153\tbest: 1537.5524153 (958)\ttotal: 4m 13s\tremaining: 10.9s\n",
      "959:\tlearn: 1289.2873140\ttest: 1537.5372838\tbest: 1537.5372838 (959)\ttotal: 4m 14s\tremaining: 10.6s\n",
      "960:\tlearn: 1289.2309949\ttest: 1537.5274024\tbest: 1537.5274024 (960)\ttotal: 4m 14s\tremaining: 10.3s\n",
      "961:\tlearn: 1288.9481523\ttest: 1537.4462646\tbest: 1537.4462646 (961)\ttotal: 4m 14s\tremaining: 10.1s\n",
      "962:\tlearn: 1288.8669836\ttest: 1537.4537967\tbest: 1537.4462646 (961)\ttotal: 4m 14s\tremaining: 9.8s\n",
      "963:\tlearn: 1288.8278953\ttest: 1537.4483332\tbest: 1537.4462646 (961)\ttotal: 4m 15s\tremaining: 9.53s\n",
      "964:\tlearn: 1288.7115047\ttest: 1537.4550988\tbest: 1537.4462646 (961)\ttotal: 4m 15s\tremaining: 9.27s\n",
      "965:\tlearn: 1288.6389564\ttest: 1537.4585636\tbest: 1537.4462646 (961)\ttotal: 4m 15s\tremaining: 9s\n",
      "966:\tlearn: 1288.5071630\ttest: 1537.4511239\tbest: 1537.4462646 (961)\ttotal: 4m 16s\tremaining: 8.74s\n",
      "967:\tlearn: 1288.3979401\ttest: 1537.4017085\tbest: 1537.4017085 (967)\ttotal: 4m 16s\tremaining: 8.48s\n",
      "968:\tlearn: 1288.3508171\ttest: 1537.4157819\tbest: 1537.4017085 (967)\ttotal: 4m 16s\tremaining: 8.21s\n",
      "969:\tlearn: 1288.2842638\ttest: 1537.3650155\tbest: 1537.3650155 (969)\ttotal: 4m 17s\tremaining: 7.95s\n",
      "970:\tlearn: 1287.8502757\ttest: 1537.1441283\tbest: 1537.1441283 (970)\ttotal: 4m 17s\tremaining: 7.68s\n",
      "971:\tlearn: 1287.6788159\ttest: 1537.1337139\tbest: 1537.1337139 (971)\ttotal: 4m 17s\tremaining: 7.42s\n",
      "972:\tlearn: 1287.2995429\ttest: 1537.0502097\tbest: 1537.0502097 (972)\ttotal: 4m 17s\tremaining: 7.15s\n",
      "973:\tlearn: 1287.2082677\ttest: 1537.0558555\tbest: 1537.0502097 (972)\ttotal: 4m 17s\tremaining: 6.88s\n",
      "974:\tlearn: 1287.0827047\ttest: 1537.0314440\tbest: 1537.0314440 (974)\ttotal: 4m 18s\tremaining: 6.62s\n",
      "975:\tlearn: 1287.0653369\ttest: 1537.0311833\tbest: 1537.0311833 (975)\ttotal: 4m 18s\tremaining: 6.36s\n",
      "976:\tlearn: 1287.0583055\ttest: 1537.0240247\tbest: 1537.0240247 (976)\ttotal: 4m 18s\tremaining: 6.09s\n",
      "977:\tlearn: 1286.9584995\ttest: 1537.0456513\tbest: 1537.0240247 (976)\ttotal: 4m 18s\tremaining: 5.83s\n",
      "978:\tlearn: 1286.8747923\ttest: 1537.0215823\tbest: 1537.0215823 (978)\ttotal: 4m 19s\tremaining: 5.56s\n",
      "979:\tlearn: 1286.6694769\ttest: 1537.0329479\tbest: 1537.0215823 (978)\ttotal: 4m 19s\tremaining: 5.29s\n",
      "980:\tlearn: 1286.4064834\ttest: 1537.0053890\tbest: 1537.0053890 (980)\ttotal: 4m 19s\tremaining: 5.03s\n",
      "981:\tlearn: 1286.0671341\ttest: 1536.9057977\tbest: 1536.9057977 (981)\ttotal: 4m 20s\tremaining: 4.76s\n",
      "982:\tlearn: 1285.9920391\ttest: 1536.9140164\tbest: 1536.9057977 (981)\ttotal: 4m 20s\tremaining: 4.5s\n",
      "983:\tlearn: 1285.9206471\ttest: 1536.9248678\tbest: 1536.9057977 (981)\ttotal: 4m 20s\tremaining: 4.24s\n",
      "984:\tlearn: 1285.8671156\ttest: 1536.8940766\tbest: 1536.8940766 (984)\ttotal: 4m 20s\tremaining: 3.97s\n",
      "985:\tlearn: 1285.8273140\ttest: 1536.9158357\tbest: 1536.8940766 (984)\ttotal: 4m 21s\tremaining: 3.71s\n",
      "986:\tlearn: 1285.7716306\ttest: 1536.9600487\tbest: 1536.8940766 (984)\ttotal: 4m 21s\tremaining: 3.44s\n",
      "987:\tlearn: 1285.7574509\ttest: 1536.9510824\tbest: 1536.8940766 (984)\ttotal: 4m 21s\tremaining: 3.18s\n",
      "988:\tlearn: 1285.5016649\ttest: 1536.9879038\tbest: 1536.8940766 (984)\ttotal: 4m 22s\tremaining: 2.91s\n",
      "989:\tlearn: 1285.3627019\ttest: 1536.9181239\tbest: 1536.8940766 (984)\ttotal: 4m 22s\tremaining: 2.65s\n",
      "990:\tlearn: 1285.1806894\ttest: 1536.8864385\tbest: 1536.8864385 (990)\ttotal: 4m 22s\tremaining: 2.38s\n",
      "991:\tlearn: 1285.0660566\ttest: 1536.8738273\tbest: 1536.8738273 (991)\ttotal: 4m 22s\tremaining: 2.12s\n",
      "992:\tlearn: 1284.9942577\ttest: 1536.8577005\tbest: 1536.8577005 (992)\ttotal: 4m 23s\tremaining: 1.85s\n",
      "993:\tlearn: 1284.9640097\ttest: 1536.8656693\tbest: 1536.8577005 (992)\ttotal: 4m 23s\tremaining: 1.59s\n",
      "994:\tlearn: 1284.7499524\ttest: 1536.8278052\tbest: 1536.8278052 (994)\ttotal: 4m 23s\tremaining: 1.32s\n",
      "995:\tlearn: 1284.5366958\ttest: 1536.8057686\tbest: 1536.8057686 (995)\ttotal: 4m 23s\tremaining: 1.06s\n",
      "996:\tlearn: 1284.2668873\ttest: 1536.7368965\tbest: 1536.7368965 (996)\ttotal: 4m 24s\tremaining: 795ms\n",
      "997:\tlearn: 1284.0566215\ttest: 1536.7515003\tbest: 1536.7368965 (996)\ttotal: 4m 24s\tremaining: 530ms\n",
      "998:\tlearn: 1283.8992099\ttest: 1536.6928279\tbest: 1536.6928279 (998)\ttotal: 4m 24s\tremaining: 265ms\n",
      "999:\tlearn: 1283.7553952\ttest: 1536.7071828\tbest: 1536.6928279 (998)\ttotal: 4m 24s\tremaining: 0us\n",
      "\n",
      "bestTest = 1536.692828\n",
      "bestIteration = 998\n",
      "\n",
      "CPU times: user 23min 36s, sys: 16.8 s, total: 23min 53s\n",
      "Wall time: 24min 2s\n"
     ]
    },
    {
     "data": {
      "text/html": [
       "\n",
       "                <audio  controls=\"controls\" autoplay=\"autoplay\">\n",
       "                    <source src=\"data:audio/wav;base64,UklGRmScAABXQVZFZm10IBAAAAABAAEAECcAACBOAAACABAAZGF0YUCcAAAAAOQfyD3KV0hs+Hn+f/p9C3TRYmJLNi8SEO7vytCetC+d9YsGggKACIa4kzaoOMIc4AAA5B/IPcpXSGz4ef5/+n0LdNFiYks2LxIQ7u/K0J60L531iwaCAoAIhriTNqg4whzgAADkH8g9yldIbPh5/n/6fQt00WJiSzYvEhDu78rQnrQvnfWLBoICgAiGuJM2qDjCHOAAAOQfyD3KV0hs+Hn+f/p9C3TRYmJLNi8SEO7vytCetC+d9YsGggKACIa4kzaoOMIc4AAA5B/IPcpXSGz4ef5/+n0LdNFiYks2LxIQ7u/K0J60L531iwaCAoAIhriTNqg4whzgAADkH8g9yldIbPh5/n/6fQt00WJiSzYvEhDu78rQnrQvnfWLBoICgAiGuJM2qDjCHOAAAOQfyD3KV0hs+Hn+f/p9C3TRYmJLNi8SEO7vytCetC+d9YsGggKACIa4kzaoOMIc4AAA5B/IPcpXSGz4ef5/+n0LdNFiYks2LxIQ7u/K0J60L531iwaCAoAIhriTNqg4whzgAADkH8g9yldIbPh5/n/6fQt00WJiSzYvEhDu78rQnrQvnfWLBoICgAiGuJM2qDjCHOAAAOQfyD3KV0hs+Hn+f/p9C3TRYmJLNi8SEO7vytCetC+d9YsGggKACIa4kzaoOMIc4AAA5B/IPcpXSGz4ef5/+n0LdNFiYks2LxIQ7u/K0J60L531iwaCAoAIhriTNqg4whzgAADkH8g9yldIbPh5/n/6fQt00WJiSzYvEhDu78rQnrQvnfWLBoICgAiGuJM2qDjCHOAAAOQfyD3KV0hs+Hn+f/p9C3TRYmJLNi8SEO7vytCetC+d9YsGggKACIa4kzaoOMIc4AAA5B/IPcpXSGz4ef5/+n0LdNFiYks2LxIQ7u/K0J60L531iwaCAoAIhriTNqg4whzgAADkH8g9yldIbPh5/n/6fQt00WJiSzYvEhDu78rQnrQvnfWLBoICgAiGuJM2qDjCHOAAAOQfyD3KV0hs+Hn+f/p9C3TRYmJLNi8SEO7vytCetC+d9YsGggKACIa4kzaoOMIc4AAA5B/IPcpXSGz4ef5/+n0LdNFiYks2LxIQ7u/K0J60L531iwaCAoAIhriTNqg4whzgAADkH8g9yldIbPh5/n/6fQt00WJiSzYvEhDu78rQnrQvnfWLBoICgAiGuJM2qDjCHOAAAOQfyD3KV0hs+Hn+f/p9C3TRYmJLNi8SEO7vytCetC+d9YsGggKACIa4kzaoOMIc4AAA5B/IPcpXSGz4ef5/+n0LdNFiYks2LxIQ7u/K0J60L531iwaCAoAIhriTNqg4whzgAADkH8g9yldIbPh5/n/6fQt00WJiSzYvEhDu78rQnrQvnfWLBoICgAiGuJM2qDjCHOAAAOQfyD3KV0hs+Hn+f/p9C3TRYmJLNi8SEO7vytCetC+d9YsGggKACIa4kzaoOMIc4AAA5B/IPcpXSGz4ef5/+n0LdNFiYks2LxIQ7u/K0J60L531iwaCAoAIhriTNqg4whzgAADkH8g9yldIbPh5/n/6fQt00WJiSzYvEhDu78rQnrQvnfWLBoICgAiGuJM2qDjCHOAAAOQfyD3KV0hs+Hn+f/p9C3TRYmJLNi8SEO7vytCetC+d9YsGggKACIa4kzaoOMIc4AAA5B/IPcpXSGz4ef5/+n0LdNFiYks2LxIQ7u/K0J60L531iwaCAoAIhriTNqg4whzgAADkH8g9yldIbPh5/n/6fQt00WJiSzYvEhDu78rQnrQvnfWLBoICgAiGuJM2qDjCHOAAAOQfyD3KV0hs+Hn+f/p9C3TRYmJLNi8SEO7vytCetC+d9YsGggKACIa4kzaoOMIc4AAA5B/IPcpXSGz4ef5/+n0LdNFiYks2LxIQ7u/K0J60L531iwaCAoAIhriTNqg4whzgAADkH8g9yldIbPh5/n/6fQt00WJiSzYvEhDu78rQnrQvnfWLBoICgAiGuJM2qDjCHOAAAOQfyD3KV0hs+Hn+f/p9C3TRYmJLNi8SEO7vytCetC+d9YsGggKACIa4kzaoOMIc4AAA5B/IPcpXSGz4ef5/+n0LdNFiYks2LxIQ7u/K0J60L531iwaCAoAIhriTNqg4whzgAADkH8g9yldIbPh5/n/6fQt00WJiSzYvEhDu78rQnrQvnfWLBoICgAiGuJM2qDjCHOAAAOQfyD3KV0hs+Hn+f/p9C3TRYmJLNi8SEO7vytCetC+d9YsGggKACIa4kzaoOMIc4AAA5B/IPcpXSGz4ef5/+n0LdNFiYks2LxIQ7u/K0J60L531iwaCAoAIhriTNqg4whzgAADkH8g9yldIbPh5/n/6fQt00WJiSzYvEhDu78rQnrQvnfWLBoICgAiGuJM2qDjCHOAAAOQfyD3KV0hs+Hn+f/p9C3TRYmJLNi8SEO7vytCetC+d9YsGggKACIa4kzaoOMIc4AAA5B/IPcpXSGz4ef5/+n0LdNFiYks2LxIQ7u/K0J60L531iwaCAoAIhriTNqg4whzgAADkH8g9yldIbPh5/n/6fQt00WJiSzYvEhDu78rQnrQvnfWLBoICgAiGuJM2qDjCHOAAAOQfyD3KV0hs+Hn+f/p9C3TRYmJLNi8SEO7vytCetC+d9YsGggKACIa4kzaoOMIc4AAA5B/IPcpXSGz4ef5/+n0LdNFiYks2LxIQ7u/K0J60L531iwaCAoAIhriTNqg4whzgAADkH8g9yldIbPh5/n/6fQt00WJiSzYvEhDu78rQnrQvnfWLBoICgAiGuJM2qDjCHOAAAOQfyD3KV0hs+Hn+f/p9C3TRYmJLNi8SEO7vytCetC+d9YsGggKACIa4kzaoOMIc4AAA5B/IPcpXSGz4ef5/+n0LdNFiYks2LxIQ7u/K0J60L531iwaCAoAIhriTNqg4whzgAADkH8g9yldIbPh5/n/6fQt00WJiSzYvEhDu78rQnrQvnfWLBoICgAiGuJM2qDjCHOAAAOQfyD3KV0hs+Hn+f/p9C3TRYmJLNi8SEO7vytCetC+d9YsGggKACIa4kzaoOMIc4AAA5B/IPcpXSGz4ef5/+n0LdNFiYks2LxIQ7u/K0J60L531iwaCAoAIhriTNqg4whzgAADkH8g9yldIbPh5/n/6fQt00WJiSzYvEhDu78rQnrQvnfWLBoICgAiGuJM2qDjCHOAAAOQfyD3KV0hs+Hn+f/p9C3TRYmJLNi8SEO7vytCetC+d9YsGggKACIa4kzaoOMIc4AAA5B/IPcpXSGz4ef5/+n0LdNFiYks2LxIQ7u/K0J60L531iwaCAoAIhriTNqg4whzgAADkH8g9yldIbPh5/n/6fQt00WJiSzYvEhDu78rQnrQvnfWLBoICgAiGuJM2qDjCHOAAAOQfyD3KV0hs+Hn+f/p9C3TRYmJLNi8SEO7vytCetC+d9YsGggKACIa4kzaoOMIc4AAA5B/IPcpXSGz4ef5/+n0LdNFiYks2LxIQ7u/K0J60L531iwaCAoAIhriTNqg4whzgAADkH8g9yldIbPh5/n/6fQt00WJiSzYvEhDu78rQnrQvnfWLBoICgAiGuJM2qDjCHOAAAOQfyD3KV0hs+Hn+f/p9C3TRYmJLNi8SEO7vytCetC+d9YsGggKACIa4kzaoOMIc4AAA5B/IPcpXSGz4ef5/+n0LdNFiYks2LxIQ7u/K0J60L531iwaCAoAIhriTNqg4whzgAADkH8g9yldIbPh5/n/6fQt00WJiSzYvEhDu78rQnrQvnfWLBoICgAiGuJM2qDjCHOAAAOQfyD3KV0hs+Hn+f/p9C3TRYmJLNi8SEO7vytCetC+d9YsGggKACIa4kzaoOMIc4AAA5B/IPcpXSGz4ef5/+n0LdNFiYks2LxIQ7u/K0J60L531iwaCAoAIhriTNqg4whzgAADkH8g9yldIbPh5/n/6fQt00WJiSzYvEhDu78rQnrQvnfWLBoICgAiGuJM2qDjCHOAAAOQfyD3KV0hs+Hn+f/p9C3TRYmJLNi8SEO7vytCetC+d9YsGggKACIa4kzaoOMIc4AAA5B/IPcpXSGz4ef5/+n0LdNFiYks2LxIQ7u/K0J60L531iwaCAoAIhriTNqg4whzgAADkH8g9yldIbPh5/n/6fQt00WJiSzYvEhDu78rQnrQvnfWLBoICgAiGuJM2qDjCHOAAAOQfyD3KV0hs+Hn+f/p9C3TRYmJLNi8SEO7vytCetC+d9YsGggKACIa4kzaoOMIc4AAA5B/IPcpXSGz4ef5/+n0LdNFiYks2LxIQ7u/K0J60L531iwaCAoAIhriTNqg4whzgAADkH8g9yldIbPh5/n/6fQt00WJiSzYvEhDu78rQnrQvnfWLBoICgAiGuJM2qDjCHOAAAOQfyD3KV0hs+Hn+f/p9C3TRYmJLNi8SEO7vytCetC+d9YsGggKACIa4kzaoOMIc4AAA5B/IPcpXSGz4ef5/+n0LdNFiYks2LxIQ7u/K0J60L531iwaCAoAIhriTNqg4whzgAADkH8g9yldIbPh5/n/6fQt00WJiSzYvEhDu78rQnrQvnfWLBoICgAiGuJM2qDjCHOAAAOQfyD3KV0hs+Hn+f/p9C3TRYmJLNi8SEO7vytCetC+d9YsGggKACIa4kzaoOMIc4AAA5B/IPcpXSGz4ef5/+n0LdNFiYks2LxIQ7u/K0J60L531iwaCAoAIhriTNqg4whzgAADkH8g9yldIbPh5/n/6fQt00WJiSzYvEhDu78rQnrQvnfWLBoICgAiGuJM2qDjCHOAAAOQfyD3KV0hs+Hn+f/p9C3TRYmJLNi8SEO7vytCetC+d9YsGggKACIa4kzaoOMIc4AAA5B/IPcpXSGz4ef5/+n0LdNFiYks2LxIQ7u/K0J60L531iwaCAoAIhriTNqg4whzgAADkH8g9yldIbPh5/n/6fQt00WJiSzYvEhDu78rQnrQvnfWLBoICgAiGuJM2qDjCHOAAAOQfyD3KV0hs+Hn+f/p9C3TRYmJLNi8SEO7vytCetC+d9YsGggKACIa4kzaoOMIc4AAA5B/IPcpXSGz4ef5/+n0LdNFiYks2LxIQ7u/K0J60L531iwaCAoAIhriTNqg4whzgAADkH8g9yldIbPh5/n/6fQt00WJiSzYvEhDu78rQnrQvnfWLBoICgAiGuJM2qDjCHOAAAOQfyD3KV0hs+Hn+f/p9C3TRYmJLNi8SEO7vytCetC+d9YsGggKACIa4kzaoOMIc4AAA5B/IPcpXSGz4ef5/+n0LdNFiYks2LxIQ7u/K0J60L531iwaCAoAIhriTNqg4whzgAADkH8g9yldIbPh5/n/6fQt00WJiSzYvEhDu78rQnrQvnfWLBoICgAiGuJM2qDjCHOAAAOQfyD3KV0hs+Hn+f/p9C3TRYmJLNi8SEO7vytCetC+d9YsGggKACIa4kzaoOMIc4AAA5B/IPcpXSGz4ef5/+n0LdNFiYks2LxIQ7u/K0J60L531iwaCAoAIhriTNqg4whzgAADkH8g9yldIbPh5/n/6fQt00WJiSzYvEhDu78rQnrQvnfWLBoICgAiGuJM2qDjCHOAAAOQfyD3KV0hs+Hn+f/p9C3TRYmJLNi8SEO7vytCetC+d9YsGggKACIa4kzaoOMIc4AAA5B/IPcpXSGz4ef5/+n0LdNFiYks2LxIQ7u/K0J60L531iwaCAoAIhriTNqg4whzgAADkH8g9yldIbPh5/n/6fQt00WJiSzYvEhDu78rQnrQvnfWLBoICgAiGuJM2qDjCHOAAAOQfyD3KV0hs+Hn+f/p9C3TRYmJLNi8SEO7vytCetC+d9YsGggKACIa4kzaoOMIc4AAA5B/IPcpXSGz4ef5/+n0LdNFiYks2LxIQ7u/K0J60L531iwaCAoAIhriTNqg4whzgAADkH8g9yldIbPh5/n/6fQt00WJiSzYvEhDu78rQnrQvnfWLBoICgAiGuJM2qDjCHOAAAOQfyD3KV0hs+Hn+f/p9C3TRYmJLNi8SEO7vytCetC+d9YsGggKACIa4kzaoOMIc4AAA5B/IPcpXSGz4ef5/+n0LdNFiYks2LxIQ7u/K0J60L531iwaCAoAIhriTNqg4whzgAADkH8g9yldIbPh5/n/6fQt00WJiSzYvEhDu78rQnrQvnfWLBoICgAiGuJM2qDjCHOAAAOQfyD3KV0hs+Hn+f/p9C3TRYmJLNi8SEO7vytCetC+d9YsGggKACIa4kzaoOMIc4AAA5B/IPcpXSGz4ef5/+n0LdNFiYks2LxIQ7u/K0J60L531iwaCAoAIhriTNqg4whzgAADkH8g9yldIbPh5/n/6fQt00WJiSzYvEhDu78rQnrQvnfWLBoICgAiGuJM2qDjCHOAAAOQfyD3KV0hs+Hn+f/p9C3TRYmJLNi8SEO7vytCetC+d9YsGggKACIa4kzaoOMIc4AAA5B/IPcpXSGz4ef5/+n0LdNFiYks2LxIQ7u/K0J60L531iwaCAoAIhriTNqg4whzgAADkH8g9yldIbPh5/n/6fQt00WJiSzYvEhDu78rQnrQvnfWLBoICgAiGuJM2qDjCHOAAAOQfyD3KV0hs+Hn+f/p9C3TRYmJLNi8SEO7vytCetC+d9YsGggKACIa4kzaoOMIc4AAA5B/IPcpXSGz4ef5/+n0LdNFiYks2LxIQ7u/K0J60L531iwaCAoAIhriTNqg4whzgAADkH8g9yldIbPh5/n/6fQt00WJiSzYvEhDu78rQnrQvnfWLBoICgAiGuJM2qDjCHOAAAOQfyD3KV0hs+Hn+f/p9C3TRYmJLNi8SEO7vytCetC+d9YsGggKACIa4kzaoOMIc4AAA5B/IPcpXSGz4ef5/+n0LdNFiYks2LxIQ7u/K0J60L531iwaCAoAIhriTNqg4whzgAADkH8g9yldIbPh5/n/6fQt00WJiSzYvEhDu78rQnrQvnfWLBoICgAiGuJM2qDjCHOAAAOQfyD3KV0hs+Hn+f/p9C3TRYmJLNi8SEO7vytCetC+d9YsGggKACIa4kzaoOMIc4AAA5B/IPcpXSGz4ef5/+n0LdNFiYks2LxIQ7u/K0J60L531iwaCAoAIhriTNqg4whzgAADkH8g9yldIbPh5/n/6fQt00WJiSzYvEhDu78rQnrQvnfWLBoICgAiGuJM2qDjCHOAAAOQfyD3KV0hs+Hn+f/p9C3TRYmJLNi8SEO7vytCetC+d9YsGggKACIa4kzaoOMIc4AAA5B/IPcpXSGz4ef5/+n0LdNFiYks2LxIQ7u/K0J60L531iwaCAoAIhriTNqg4whzgAADkH8g9yldIbPh5/n/6fQt00WJiSzYvEhDu78rQnrQvnfWLBoICgAiGuJM2qDjCHOAAAOQfyD3KV0hs+Hn+f/p9C3TRYmJLNi8SEO7vytCetC+d9YsGggKACIa4kzaoOMIc4AAA5B/IPcpXSGz4ef5/+n0LdNFiYks2LxIQ7u/K0J60L531iwaCAoAIhriTNqg4whzgAADkH8g9yldIbPh5/n/6fQt00WJiSzYvEhDu78rQnrQvnfWLBoICgAiGuJM2qDjCHOAAAOQfyD3KV0hs+Hn+f/p9C3TRYmJLNi8SEO7vytCetC+d9YsGggKACIa4kzaoOMIc4AAA5B/IPcpXSGz4ef5/+n0LdNFiYks2LxIQ7u/K0J60L531iwaCAoAIhriTNqg4whzgAADkH8g9yldIbPh5/n/6fQt00WJiSzYvEhDu78rQnrQvnfWLBoICgAiGuJM2qDjCHOAAAOQfyD3KV0hs+Hn+f/p9C3TRYmJLNi8SEO7vytCetC+d9YsGggKACIa4kzaoOMIc4AAA5B/IPcpXSGz4ef5/+n0LdNFiYks2LxIQ7u/K0J60L531iwaCAoAIhriTNqg4whzgAADkH8g9yldIbPh5/n/6fQt00WJiSzYvEhDu78rQnrQvnfWLBoICgAiGuJM2qDjCHOAAAOQfyD3KV0hs+Hn+f/p9C3TRYmJLNi8SEO7vytCetC+d9YsGggKACIa4kzaoOMIc4AAA5B/IPcpXSGz4ef5/+n0LdNFiYks2LxIQ7u/K0J60L531iwaCAoAIhriTNqg4whzgAADkH8g9yldIbPh5/n/6fQt00WJiSzYvEhDu78rQnrQvnfWLBoICgAiGuJM2qDjCHOAAAOQfyD3KV0hs+Hn+f/p9C3TRYmJLNi8SEO7vytCetC+d9YsGggKACIa4kzaoOMIc4AAA5B/IPcpXSGz4ef5/+n0LdNFiYks2LxIQ7u/K0J60L531iwaCAoAIhriTNqg4whzgAADkH8g9yldIbPh5/n/6fQt00WJiSzYvEhDu78rQnrQvnfWLBoICgAiGuJM2qDjCHOAAAOQfyD3KV0hs+Hn+f/p9C3TRYmJLNi8SEO7vytCetC+d9YsGggKACIa4kzaoOMIc4AAA5B/IPcpXSGz4ef5/+n0LdNFiYks2LxIQ7u/K0J60L531iwaCAoAIhriTNqg4whzgAADkH8g9yldIbPh5/n/6fQt00WJiSzYvEhDu78rQnrQvnfWLBoICgAiGuJM2qDjCHOAAAOQfyD3KV0hs+Hn+f/p9C3TRYmJLNi8SEO7vytCetC+d9YsGggKACIa4kzaoOMIc4AAA5B/IPcpXSGz4ef5/+n0LdNFiYks2LxIQ7u/K0J60L531iwaCAoAIhriTNqg4whzgAADkH8g9yldIbPh5/n/6fQt00WJiSzYvEhDu78rQnrQvnfWLBoICgAiGuJM2qDjCHOAAAOQfyD3KV0hs+Hn+f/p9C3TRYmJLNi8SEO7vytCetC+d9YsGggKACIa4kzaoOMIc4AAA5B/IPcpXSGz4ef5/+n0LdNFiYks2LxIQ7u/K0J60L531iwaCAoAIhriTNqg4whzgAADkH8g9yldIbPh5/n/6fQt00WJiSzYvEhDu78rQnrQvnfWLBoICgAiGuJM2qDjCHOAAAOQfyD3KV0hs+Hn+f/p9C3TRYmJLNi8SEO7vytCetC+d9YsGggKACIa4kzaoOMIc4AAA5B/IPcpXSGz4ef5/+n0LdNFiYks2LxIQ7u/K0J60L531iwaCAoAIhriTNqg4whzgAADkH8g9yldIbPh5/n/6fQt00WJiSzYvEhDu78rQnrQvnfWLBoICgAiGuJM2qDjCHOAAAOQfyD3KV0hs+Hn+f/p9C3TRYmJLNi8SEO7vytCetC+d9YsGggKACIa4kzaoOMIc4AAA5B/IPcpXSGz4ef5/+n0LdNFiYks2LxIQ7u/K0J60L531iwaCAoAIhriTNqg4whzgAADkH8g9yldIbPh5/n/6fQt00WJiSzYvEhDu78rQnrQvnfWLBoICgAiGuJM2qDjCHOAAAOQfyD3KV0hs+Hn+f/p9C3TRYmJLNi8SEO7vytCetC+d9YsGggKACIa4kzaoOMIc4AAA5B/IPcpXSGz4ef5/+n0LdNFiYks2LxIQ7u/K0J60L531iwaCAoAIhriTNqg4whzgAADkH8g9yldIbPh5/n/6fQt00WJiSzYvEhDu78rQnrQvnfWLBoICgAiGuJM2qDjCHOAAAOQfyD3KV0hs+Hn+f/p9C3TRYmJLNi8SEO7vytCetC+d9YsGggKACIa4kzaoOMIc4AAA5B/IPcpXSGz4ef5/+n0LdNFiYks2LxIQ7u/K0J60L531iwaCAoAIhriTNqg4whzgAADkH8g9yldIbPh5/n/6fQt00WJiSzYvEhDu78rQnrQvnfWLBoICgAiGuJM2qDjCHOAAAOQfyD3KV0hs+Hn+f/p9C3TRYmJLNi8SEO7vytCetC+d9YsGggKACIa4kzaoOMIc4AAA5B/IPcpXSGz4ef5/+n0LdNFiYks2LxIQ7u/K0J60L531iwaCAoAIhriTNqg4whzgAADkH8g9yldIbPh5/n/6fQt00WJiSzYvEhDu78rQnrQvnfWLBoICgAiGuJM2qDjCHOAAAOQfyD3KV0hs+Hn+f/p9C3TRYmJLNi8SEO7vytCetC+d9YsGggKACIa4kzaoOMIc4AAA5B/IPcpXSGz4ef5/+n0LdNFiYks2LxIQ7u/K0J60L531iwaCAoAIhriTNqg4whzgAADkH8g9yldIbPh5/n/6fQt00WJiSzYvEhDu78rQnrQvnfWLBoICgAiGuJM2qDjCHOAAAOQfyD3KV0hs+Hn+f/p9C3TRYmJLNi8SEO7vytCetC+d9YsGggKACIa4kzaoOMIc4AAA5B/IPcpXSGz4ef5/+n0LdNFiYks2LxIQ7u/K0J60L531iwaCAoAIhriTNqg4whzgAADkH8g9yldIbPh5/n/6fQt00WJiSzYvEhDu78rQnrQvnfWLBoICgAiGuJM2qDjCHOAAAOQfyD3KV0hs+Hn+f/p9C3TRYmJLNi8SEO7vytCetC+d9YsGggKACIa4kzaoOMIc4AAA5B/IPcpXSGz4ef5/+n0LdNFiYks2LxIQ7u/K0J60L531iwaCAoAIhriTNqg4whzgAADkH8g9yldIbPh5/n/6fQt00WJiSzYvEhDu78rQnrQvnfWLBoICgAiGuJM2qDjCHOAAAOQfyD3KV0hs+Hn+f/p9C3TRYmJLNi8SEO7vytCetC+d9YsGggKACIa4kzaoOMIc4AAA5B/IPcpXSGz4ef5/+n0LdNFiYks2LxIQ7u/K0J60L531iwaCAoAIhriTNqg4whzgAADkH8g9yldIbPh5/n/6fQt00WJiSzYvEhDu78rQnrQvnfWLBoICgAiGuJM2qDjCHOAAAOQfyD3KV0hs+Hn+f/p9C3TRYmJLNi8SEO7vytCetC+d9YsGggKACIa4kzaoOMIc4AAA5B/IPcpXSGz4ef5/+n0LdNFiYks2LxIQ7u/K0J60L531iwaCAoAIhriTNqg4whzgAADkH8g9yldIbPh5/n/6fQt00WJiSzYvEhDu78rQnrQvnfWLBoICgAiGuJM2qDjCHOAAAOQfyD3KV0hs+Hn+f/p9C3TRYmJLNi8SEO7vytCetC+d9YsGggKACIa4kzaoOMIc4AAA5B/IPcpXSGz4ef5/+n0LdNFiYks2LxIQ7u/K0J60L531iwaCAoAIhriTNqg4whzgAADkH8g9yldIbPh5/n/6fQt00WJiSzYvEhDu78rQnrQvnfWLBoICgAiGuJM2qDjCHOAAAOQfyD3KV0hs+Hn+f/p9C3TRYmJLNi8SEO7vytCetC+d9YsGggKACIa4kzaoOMIc4AAA5B/IPcpXSGz4ef5/+n0LdNFiYks2LxIQ7u/K0J60L531iwaCAoAIhriTNqg4whzgAADkH8g9yldIbPh5/n/6fQt00WJiSzYvEhDu78rQnrQvnfWLBoICgAiGuJM2qDjCHOAAAOQfyD3KV0hs+Hn+f/p9C3TRYmJLNi8SEO7vytCetC+d9YsGggKACIa4kzaoOMIc4AAA5B/IPcpXSGz4ef5/+n0LdNFiYks2LxIQ7u/K0J60L531iwaCAoAIhriTNqg4whzgAADkH8g9yldIbPh5/n/6fQt00WJiSzYvEhDu78rQnrQvnfWLBoICgAiGuJM2qDjCHOAAAOQfyD3KV0hs+Hn+f/p9C3TRYmJLNi8SEO7vytCetC+d9YsGggKACIa4kzaoOMIc4AAA5B/IPcpXSGz4ef5/+n0LdNFiYks2LxIQ7u/K0J60L531iwaCAoAIhriTNqg4whzgAADkH8g9yldIbPh5/n/6fQt00WJiSzYvEhDu78rQnrQvnfWLBoICgAiGuJM2qDjCHOAAAOQfyD3KV0hs+Hn+f/p9C3TRYmJLNi8SEO7vytCetC+d9YsGggKACIa4kzaoOMIc4AAA5B/IPcpXSGz4ef5/+n0LdNFiYks2LxIQ7u/K0J60L531iwaCAoAIhriTNqg4whzgAADkH8g9yldIbPh5/n/6fQt00WJiSzYvEhDu78rQnrQvnfWLBoICgAiGuJM2qDjCHOAAAOQfyD3KV0hs+Hn+f/p9C3TRYmJLNi8SEO7vytCetC+d9YsGggKACIa4kzaoOMIc4AAA5B/IPcpXSGz4ef5/+n0LdNFiYks2LxIQ7u/K0J60L531iwaCAoAIhriTNqg4whzgAADkH8g9yldIbPh5/n/6fQt00WJiSzYvEhDu78rQnrQvnfWLBoICgAiGuJM2qDjCHOAAAOQfyD3KV0hs+Hn+f/p9C3TRYmJLNi8SEO7vytCetC+d9YsGggKACIa4kzaoOMIc4AAA5B/IPcpXSGz4ef5/+n0LdNFiYks2LxIQ7u/K0J60L531iwaCAoAIhriTNqg4whzgAADkH8g9yldIbPh5/n/6fQt00WJiSzYvEhDu78rQnrQvnfWLBoICgAiGuJM2qDjCHOAAAOQfyD3KV0hs+Hn+f/p9C3TRYmJLNi8SEO7vytCetC+d9YsGggKACIa4kzaoOMIc4AAA5B/IPcpXSGz4ef5/+n0LdNFiYks2LxIQ7u/K0J60L531iwaCAoAIhriTNqg4whzgAADkH8g9yldIbPh5/n/6fQt00WJiSzYvEhDu78rQnrQvnfWLBoICgAiGuJM2qDjCHOAAAOQfyD3KV0hs+Hn+f/p9C3TRYmJLNi8SEO7vytCetC+d9YsGggKACIa4kzaoOMIc4AAA5B/IPcpXSGz4ef5/+n0LdNFiYks2LxIQ7u/K0J60L531iwaCAoAIhriTNqg4whzgAADkH8g9yldIbPh5/n/6fQt00WJiSzYvEhDu78rQnrQvnfWLBoICgAiGuJM2qDjCHOAAAOQfyD3KV0hs+Hn+f/p9C3TRYmJLNi8SEO7vytCetC+d9YsGggKACIa4kzaoOMIc4AAA5B/IPcpXSGz4ef5/+n0LdNFiYks2LxIQ7u/K0J60L531iwaCAoAIhriTNqg4whzgAADkH8g9yldIbPh5/n/6fQt00WJiSzYvEhDu78rQnrQvnfWLBoICgAiGuJM2qDjCHOAAAOQfyD3KV0hs+Hn+f/p9C3TRYmJLNi8SEO7vytCetC+d9YsGggKACIa4kzaoOMIc4AAA5B/IPcpXSGz4ef5/+n0LdNFiYks2LxIQ7u/K0J60L531iwaCAoAIhriTNqg4whzgAADkH8g9yldIbPh5/n/6fQt00WJiSzYvEhDu78rQnrQvnfWLBoICgAiGuJM2qDjCHOAAAOQfyD3KV0hs+Hn+f/p9C3TRYmJLNi8SEO7vytCetC+d9YsGggKACIa4kzaoOMIc4AAA5B/IPcpXSGz4ef5/+n0LdNFiYks2LxIQ7u/K0J60L531iwaCAoAIhriTNqg4whzgAADkH8g9yldIbPh5/n/6fQt00WJiSzYvEhDu78rQnrQvnfWLBoICgAiGuJM2qDjCHOAAAOQfyD3KV0hs+Hn+f/p9C3TRYmJLNi8SEO7vytCetC+d9YsGggKACIa4kzaoOMIc4AAA5B/IPcpXSGz4ef5/+n0LdNFiYks2LxIQ7u/K0J60L531iwaCAoAIhriTNqg4whzgAADkH8g9yldIbPh5/n/6fQt00WJiSzYvEhDu78rQnrQvnfWLBoICgAiGuJM2qDjCHOAAAOQfyD3KV0hs+Hn+f/p9C3TRYmJLNi8SEO7vytCetC+d9YsGggKACIa4kzaoOMIc4AAA5B/IPcpXSGz4ef5/+n0LdNFiYks2LxIQ7u/K0J60L531iwaCAoAIhriTNqg4whzgAADkH8g9yldIbPh5/n/6fQt00WJiSzYvEhDu78rQnrQvnfWLBoICgAiGuJM2qDjCHOAAAOQfyD3KV0hs+Hn+f/p9C3TRYmJLNi8SEO7vytCetC+d9YsGggKACIa4kzaoOMIc4AAA5B/IPcpXSGz4ef5/+n0LdNFiYks2LxIQ7u/K0J60L531iwaCAoAIhriTNqg4whzgAADkH8g9yldIbPh5/n/6fQt00WJiSzYvEhDu78rQnrQvnfWLBoICgAiGuJM2qDjCHOAAAOQfyD3KV0hs+Hn+f/p9C3TRYmJLNi8SEO7vytCetC+d9YsGggKACIa4kzaoOMIc4AAA5B/IPcpXSGz4ef5/+n0LdNFiYks2LxIQ7u/K0J60L531iwaCAoAIhriTNqg4whzgAADkH8g9yldIbPh5/n/6fQt00WJiSzYvEhDu78rQnrQvnfWLBoICgAiGuJM2qDjCHOAAAOQfyD3KV0hs+Hn+f/p9C3TRYmJLNi8SEO7vytCetC+d9YsGggKACIa4kzaoOMIc4AAA5B/IPcpXSGz4ef5/+n0LdNFiYks2LxIQ7u/K0J60L531iwaCAoAIhriTNqg4whzgAADkH8g9yldIbPh5/n/6fQt00WJiSzYvEhDu78rQnrQvnfWLBoICgAiGuJM2qDjCHOAAAOQfyD3KV0hs+Hn+f/p9C3TRYmJLNi8SEO7vytCetC+d9YsGggKACIa4kzaoOMIc4AAA5B/IPcpXSGz4ef5/+n0LdNFiYks2LxIQ7u/K0J60L531iwaCAoAIhriTNqg4whzgAADkH8g9yldIbPh5/n/6fQt00WJiSzYvEhDu78rQnrQvnfWLBoICgAiGuJM2qDjCHOAAAOQfyD3KV0hs+Hn+f/p9C3TRYmJLNi8SEO7vytCetC+d9YsGggKACIa4kzaoOMIc4AAA5B/IPcpXSGz4ef5/+n0LdNFiYks2LxIQ7u/K0J60L531iwaCAoAIhriTNqg4whzgAADkH8g9yldIbPh5/n/6fQt00WJiSzYvEhDu78rQnrQvnfWLBoICgAiGuJM2qDjCHOAAAOQfyD3KV0hs+Hn+f/p9C3TRYmJLNi8SEO7vytCetC+d9YsGggKACIa4kzaoOMIc4AAA5B/IPcpXSGz4ef5/+n0LdNFiYks2LxIQ7u/K0J60L531iwaCAoAIhriTNqg4whzgAADkH8g9yldIbPh5/n/6fQt00WJiSzYvEhDu78rQnrQvnfWLBoICgAiGuJM2qDjCHOAAAOQfyD3KV0hs+Hn+f/p9C3TRYmJLNi8SEO7vytCetC+d9YsGggKACIa4kzaoOMIc4AAA5B/IPcpXSGz4ef5/+n0LdNFiYks2LxIQ7u/K0J60L531iwaCAoAIhriTNqg4whzgAADkH8g9yldIbPh5/n/6fQt00WJiSzYvEhDu78rQnrQvnfWLBoICgAiGuJM2qDjCHOAAAOQfyD3KV0hs+Hn+f/p9C3TRYmJLNi8SEO7vytCetC+d9YsGggKACIa4kzaoOMIc4AAA5B/IPcpXSGz4ef5/+n0LdNFiYks2LxIQ7u/K0J60L531iwaCAoAIhriTNqg4whzgAADkH8g9yldIbPh5/n/6fQt00WJiSzYvEhDu78rQnrQvnfWLBoICgAiGuJM2qDjCHOAAAOQfyD3KV0hs+Hn+f/p9C3TRYmJLNi8SEO7vytCetC+d9YsGggKACIa4kzaoOMIc4AAA5B/IPcpXSGz4ef5/+n0LdNFiYks2LxIQ7u/K0J60L531iwaCAoAIhriTNqg4whzgAADkH8g9yldIbPh5/n/6fQt00WJiSzYvEhDu78rQnrQvnfWLBoICgAiGuJM2qDjCHOAAAOQfyD3KV0hs+Hn+f/p9C3TRYmJLNi8SEO7vytCetC+d9YsGggKACIa4kzaoOMIc4AAA5B/IPcpXSGz4ef5/+n0LdNFiYks2LxIQ7u/K0J60L531iwaCAoAIhriTNqg4whzgAADkH8g9yldIbPh5/n/6fQt00WJiSzYvEhDu78rQnrQvnfWLBoICgAiGuJM2qDjCHOAAAOQfyD3KV0hs+Hn+f/p9C3TRYmJLNi8SEO7vytCetC+d9YsGggKACIa4kzaoOMIc4AAA5B/IPcpXSGz4ef5/+n0LdNFiYks2LxIQ7u/K0J60L531iwaCAoAIhriTNqg4whzgAADkH8g9yldIbPh5/n/6fQt00WJiSzYvEhDu78rQnrQvnfWLBoICgAiGuJM2qDjCHOAAAOQfyD3KV0hs+Hn+f/p9C3TRYmJLNi8SEO7vytCetC+d9YsGggKACIa4kzaoOMIc4AAA5B/IPcpXSGz4ef5/+n0LdNFiYks2LxIQ7u/K0J60L531iwaCAoAIhriTNqg4whzgAADkH8g9yldIbPh5/n/6fQt00WJiSzYvEhDu78rQnrQvnfWLBoICgAiGuJM2qDjCHOAAAOQfyD3KV0hs+Hn+f/p9C3TRYmJLNi8SEO7vytCetC+d9YsGggKACIa4kzaoOMIc4AAA5B/IPcpXSGz4ef5/+n0LdNFiYks2LxIQ7u/K0J60L531iwaCAoAIhriTNqg4whzgAADkH8g9yldIbPh5/n/6fQt00WJiSzYvEhDu78rQnrQvnfWLBoICgAiGuJM2qDjCHOAAAOQfyD3KV0hs+Hn+f/p9C3TRYmJLNi8SEO7vytCetC+d9YsGggKACIa4kzaoOMIc4AAA5B/IPcpXSGz4ef5/+n0LdNFiYks2LxIQ7u/K0J60L531iwaCAoAIhriTNqg4whzgAADkH8g9yldIbPh5/n/6fQt00WJiSzYvEhDu78rQnrQvnfWLBoICgAiGuJM2qDjCHOAAAOQfyD3KV0hs+Hn+f/p9C3TRYmJLNi8SEO7vytCetC+d9YsGggKACIa4kzaoOMIc4AAA5B/IPcpXSGz4ef5/+n0LdNFiYks2LxIQ7u/K0J60L531iwaCAoAIhriTNqg4whzgAADkH8g9yldIbPh5/n/6fQt00WJiSzYvEhDu78rQnrQvnfWLBoICgAiGuJM2qDjCHOAAAOQfyD3KV0hs+Hn+f/p9C3TRYmJLNi8SEO7vytCetC+d9YsGggKACIa4kzaoOMIc4AAA5B/IPcpXSGz4ef5/+n0LdNFiYks2LxIQ7u/K0J60L531iwaCAoAIhriTNqg4whzgAADkH8g9yldIbPh5/n/6fQt00WJiSzYvEhDu78rQnrQvnfWLBoICgAiGuJM2qDjCHOAAAOQfyD3KV0hs+Hn+f/p9C3TRYmJLNi8SEO7vytCetC+d9YsGggKACIa4kzaoOMIc4AAA5B/IPcpXSGz4ef5/+n0LdNFiYks2LxIQ7u/K0J60L531iwaCAoAIhriTNqg4whzgAADkH8g9yldIbPh5/n/6fQt00WJiSzYvEhDu78rQnrQvnfWLBoICgAiGuJM2qDjCHOAAAOQfyD3KV0hs+Hn+f/p9C3TRYmJLNi8SEO7vytCetC+d9YsGggKACIa4kzaoOMIc4AAA5B/IPcpXSGz4ef5/+n0LdNFiYks2LxIQ7u/K0J60L531iwaCAoAIhriTNqg4whzgAADkH8g9yldIbPh5/n/6fQt00WJiSzYvEhDu78rQnrQvnfWLBoICgAiGuJM2qDjCHOAAAOQfyD3KV0hs+Hn+f/p9C3TRYmJLNi8SEO7vytCetC+d9YsGggKACIa4kzaoOMIc4AAA5B/IPcpXSGz4ef5/+n0LdNFiYks2LxIQ7u/K0J60L531iwaCAoAIhriTNqg4whzgAADkH8g9yldIbPh5/n/6fQt00WJiSzYvEhDu78rQnrQvnfWLBoICgAiGuJM2qDjCHOAAAOQfyD3KV0hs+Hn+f/p9C3TRYmJLNi8SEO7vytCetC+d9YsGggKACIa4kzaoOMIc4AAA5B/IPcpXSGz4ef5/+n0LdNFiYks2LxIQ7u/K0J60L531iwaCAoAIhriTNqg4whzgAADkH8g9yldIbPh5/n/6fQt00WJiSzYvEhDu78rQnrQvnfWLBoICgAiGuJM2qDjCHOAAAOQfyD3KV0hs+Hn+f/p9C3TRYmJLNi8SEO7vytCetC+d9YsGggKACIa4kzaoOMIc4AAA5B/IPcpXSGz4ef5/+n0LdNFiYks2LxIQ7u/K0J60L531iwaCAoAIhriTNqg4whzgAADkH8g9yldIbPh5/n/6fQt00WJiSzYvEhDu78rQnrQvnfWLBoICgAiGuJM2qDjCHOAAAOQfyD3KV0hs+Hn+f/p9C3TRYmJLNi8SEO7vytCetC+d9YsGggKACIa4kzaoOMIc4AAA5B/IPcpXSGz4ef5/+n0LdNFiYks2LxIQ7u/K0J60L531iwaCAoAIhriTNqg4whzgAADkH8g9yldIbPh5/n/6fQt00WJiSzYvEhDu78rQnrQvnfWLBoICgAiGuJM2qDjCHOAAAOQfyD3KV0hs+Hn+f/p9C3TRYmJLNi8SEO7vytCetC+d9YsGggKACIa4kzaoOMIc4AAA5B/IPcpXSGz4ef5/+n0LdNFiYks2LxIQ7u/K0J60L531iwaCAoAIhriTNqg4whzgAADkH8g9yldIbPh5/n/6fQt00WJiSzYvEhDu78rQnrQvnfWLBoICgAiGuJM2qDjCHOAAAOQfyD3KV0hs+Hn+f/p9C3TRYmJLNi8SEO7vytCetC+d9YsGggKACIa4kzaoOMIc4AAA5B/IPcpXSGz4ef5/+n0LdNFiYks2LxIQ7u/K0J60L531iwaCAoAIhriTNqg4whzgAADkH8g9yldIbPh5/n/6fQt00WJiSzYvEhDu78rQnrQvnfWLBoICgAiGuJM2qDjCHOAAAOQfyD3KV0hs+Hn+f/p9C3TRYmJLNi8SEO7vytCetC+d9YsGggKACIa4kzaoOMIc4AAA5B/IPcpXSGz4ef5/+n0LdNFiYks2LxIQ7u/K0J60L531iwaCAoAIhriTNqg4whzgAADkH8g9yldIbPh5/n/6fQt00WJiSzYvEhDu78rQnrQvnfWLBoICgAiGuJM2qDjCHOAAAOQfyD3KV0hs+Hn+f/p9C3TRYmJLNi8SEO7vytCetC+d9YsGggKACIa4kzaoOMIc4AAA5B/IPcpXSGz4ef5/+n0LdNFiYks2LxIQ7u/K0J60L531iwaCAoAIhriTNqg4whzgAADkH8g9yldIbPh5/n/6fQt00WJiSzYvEhDu78rQnrQvnfWLBoICgAiGuJM2qDjCHOAAAOQfyD3KV0hs+Hn+f/p9C3TRYmJLNi8SEO7vytCetC+d9YsGggKACIa4kzaoOMIc4AAA5B/IPcpXSGz4ef5/+n0LdNFiYks2LxIQ7u/K0J60L531iwaCAoAIhriTNqg4whzgAADkH8g9yldIbPh5/n/6fQt00WJiSzYvEhDu78rQnrQvnfWLBoICgAiGuJM2qDjCHOAAAOQfyD3KV0hs+Hn+f/p9C3TRYmJLNi8SEO7vytCetC+d9YsGggKACIa4kzaoOMIc4AAA5B/IPcpXSGz4ef5/+n0LdNFiYks2LxIQ7u/K0J60L531iwaCAoAIhriTNqg4whzgAADkH8g9yldIbPh5/n/6fQt00WJiSzYvEhDu78rQnrQvnfWLBoICgAiGuJM2qDjCHOAAAOQfyD3KV0hs+Hn+f/p9C3TRYmJLNi8SEO7vytCetC+d9YsGggKACIa4kzaoOMIc4AAA5B/IPcpXSGz4ef5/+n0LdNFiYks2LxIQ7u/K0J60L531iwaCAoAIhriTNqg4whzgAADkH8g9yldIbPh5/n/6fQt00WJiSzYvEhDu78rQnrQvnfWLBoICgAiGuJM2qDjCHOAAAOQfyD3KV0hs+Hn+f/p9C3TRYmJLNi8SEO7vytCetC+d9YsGggKACIa4kzaoOMIc4AAA5B/IPcpXSGz4ef5/+n0LdNFiYks2LxIQ7u/K0J60L531iwaCAoAIhriTNqg4whzgAADkH8g9yldIbPh5/n/6fQt00WJiSzYvEhDu78rQnrQvnfWLBoICgAiGuJM2qDjCHOAAAOQfyD3KV0hs+Hn+f/p9C3TRYmJLNi8SEO7vytCetC+d9YsGggKACIa4kzaoOMIc4AAA5B/IPcpXSGz4ef5/+n0LdNFiYks2LxIQ7u/K0J60L531iwaCAoAIhriTNqg4whzgAADkH8g9yldIbPh5/n/6fQt00WJiSzYvEhDu78rQnrQvnfWLBoICgAiGuJM2qDjCHOAAAOQfyD3KV0hs+Hn+f/p9C3TRYmJLNi8SEO7vytCetC+d9YsGggKACIa4kzaoOMIc4AAA5B/IPcpXSGz4ef5/+n0LdNFiYks2LxIQ7u/K0J60L531iwaCAoAIhriTNqg4whzgAADkH8g9yldIbPh5/n/6fQt00WJiSzYvEhDu78rQnrQvnfWLBoICgAiGuJM2qDjCHOAAAOQfyD3KV0hs+Hn+f/p9C3TRYmJLNi8SEO7vytCetC+d9YsGggKACIa4kzaoOMIc4AAA5B/IPcpXSGz4ef5/+n0LdNFiYks2LxIQ7u/K0J60L531iwaCAoAIhriTNqg4whzgAADkH8g9yldIbPh5/n/6fQt00WJiSzYvEhDu78rQnrQvnfWLBoICgAiGuJM2qDjCHOAAAOQfyD3KV0hs+Hn+f/p9C3TRYmJLNi8SEO7vytCetC+d9YsGggKACIa4kzaoOMIc4AAA5B/IPcpXSGz4ef5/+n0LdNFiYks2LxIQ7u/K0J60L531iwaCAoAIhriTNqg4whzgAADkH8g9yldIbPh5/n/6fQt00WJiSzYvEhDu78rQnrQvnfWLBoICgAiGuJM2qDjCHOAAAOQfyD3KV0hs+Hn+f/p9C3TRYmJLNi8SEO7vytCetC+d9YsGggKACIa4kzaoOMIc4AAA5B/IPcpXSGz4ef5/+n0LdNFiYks2LxIQ7u/K0J60L531iwaCAoAIhriTNqg4whzgAADkH8g9yldIbPh5/n/6fQt00WJiSzYvEhDu78rQnrQvnfWLBoICgAiGuJM2qDjCHOAAAOQfyD3KV0hs+Hn+f/p9C3TRYmJLNi8SEO7vytCetC+d9YsGggKACIa4kzaoOMIc4AAA5B/IPcpXSGz4ef5/+n0LdNFiYks2LxIQ7u/K0J60L531iwaCAoAIhriTNqg4whzgAADkH8g9yldIbPh5/n/6fQt00WJiSzYvEhDu78rQnrQvnfWLBoICgAiGuJM2qDjCHOAAAOQfyD3KV0hs+Hn+f/p9C3TRYmJLNi8SEO7vytCetC+d9YsGggKACIa4kzaoOMIc4AAA5B/IPcpXSGz4ef5/+n0LdNFiYks2LxIQ7u/K0J60L531iwaCAoAIhriTNqg4whzgAADkH8g9yldIbPh5/n/6fQt00WJiSzYvEhDu78rQnrQvnfWLBoICgAiGuJM2qDjCHOAAAOQfyD3KV0hs+Hn+f/p9C3TRYmJLNi8SEO7vytCetC+d9YsGggKACIa4kzaoOMIc4AAA5B/IPcpXSGz4ef5/+n0LdNFiYks2LxIQ7u/K0J60L531iwaCAoAIhriTNqg4whzgAADkH8g9yldIbPh5/n/6fQt00WJiSzYvEhDu78rQnrQvnfWLBoICgAiGuJM2qDjCHOAAAOQfyD3KV0hs+Hn+f/p9C3TRYmJLNi8SEO7vytCetC+d9YsGggKACIa4kzaoOMIc4AAA5B/IPcpXSGz4ef5/+n0LdNFiYks2LxIQ7u/K0J60L531iwaCAoAIhriTNqg4whzgAADkH8g9yldIbPh5/n/6fQt00WJiSzYvEhDu78rQnrQvnfWLBoICgAiGuJM2qDjCHOAAAOQfyD3KV0hs+Hn+f/p9C3TRYmJLNi8SEO7vytCetC+d9YsGggKACIa4kzaoOMIc4AAA5B/IPcpXSGz4ef5/+n0LdNFiYks2LxIQ7u/K0J60L531iwaCAoAIhriTNqg4whzgAADkH8g9yldIbPh5/n/6fQt00WJiSzYvEhDu78rQnrQvnfWLBoICgAiGuJM2qDjCHOAAAOQfyD3KV0hs+Hn+f/p9C3TRYmJLNi8SEO7vytCetC+d9YsGggKACIa4kzaoOMIc4AAA5B/IPcpXSGz4ef5/+n0LdNFiYks2LxIQ7u/K0J60L531iwaCAoAIhriTNqg4whzgAADkH8g9yldIbPh5/n/6fQt00WJiSzYvEhDu78rQnrQvnfWLBoICgAiGuJM2qDjCHOAAAOQfyD3KV0hs+Hn+f/p9C3TRYmJLNi8SEO7vytCetC+d9YsGggKACIa4kzaoOMIc4AAA5B/IPcpXSGz4ef5/+n0LdNFiYks2LxIQ7u/K0J60L531iwaCAoAIhriTNqg4whzgAADkH8g9yldIbPh5/n/6fQt00WJiSzYvEhDu78rQnrQvnfWLBoICgAiGuJM2qDjCHOAAAOQfyD3KV0hs+Hn+f/p9C3TRYmJLNi8SEO7vytCetC+d9YsGggKACIa4kzaoOMIc4AAA5B/IPcpXSGz4ef5/+n0LdNFiYks2LxIQ7u/K0J60L531iwaCAoAIhriTNqg4whzgAADkH8g9yldIbPh5/n/6fQt00WJiSzYvEhDu78rQnrQvnfWLBoICgAiGuJM2qDjCHOAAAOQfyD3KV0hs+Hn+f/p9C3TRYmJLNi8SEO7vytCetC+d9YsGggKACIa4kzaoOMIc4AAA5B/IPcpXSGz4ef5/+n0LdNFiYks2LxIQ7u/K0J60L531iwaCAoAIhriTNqg4whzgAADkH8g9yldIbPh5/n/6fQt00WJiSzYvEhDu78rQnrQvnfWLBoICgAiGuJM2qDjCHOAAAOQfyD3KV0hs+Hn+f/p9C3TRYmJLNi8SEO7vytCetC+d9YsGggKACIa4kzaoOMIc4AAA5B/IPcpXSGz4ef5/+n0LdNFiYks2LxIQ7u/K0J60L531iwaCAoAIhriTNqg4whzgAADkH8g9yldIbPh5/n/6fQt00WJiSzYvEhDu78rQnrQvnfWLBoICgAiGuJM2qDjCHOAAAOQfyD3KV0hs+Hn+f/p9C3TRYmJLNi8SEO7vytCetC+d9YsGggKACIa4kzaoOMIc4AAA5B/IPcpXSGz4ef5/+n0LdNFiYks2LxIQ7u/K0J60L531iwaCAoAIhriTNqg4whzgAADkH8g9yldIbPh5/n/6fQt00WJiSzYvEhDu78rQnrQvnfWLBoICgAiGuJM2qDjCHOAAAOQfyD3KV0hs+Hn+f/p9C3TRYmJLNi8SEO7vytCetC+d9YsGggKACIa4kzaoOMIc4AAA5B/IPcpXSGz4ef5/+n0LdNFiYks2LxIQ7u/K0J60L531iwaCAoAIhriTNqg4whzgAADkH8g9yldIbPh5/n/6fQt00WJiSzYvEhDu78rQnrQvnfWLBoICgAiGuJM2qDjCHOAAAOQfyD3KV0hs+Hn+f/p9C3TRYmJLNi8SEO7vytCetC+d9YsGggKACIa4kzaoOMIc4AAA5B/IPcpXSGz4ef5/+n0LdNFiYks2LxIQ7u/K0J60L531iwaCAoAIhriTNqg4whzgAADkH8g9yldIbPh5/n/6fQt00WJiSzYvEhDu78rQnrQvnfWLBoICgAiGuJM2qDjCHOAAAOQfyD3KV0hs+Hn+f/p9C3TRYmJLNi8SEO7vytCetC+d9YsGggKACIa4kzaoOMIc4AAA5B/IPcpXSGz4ef5/+n0LdNFiYks2LxIQ7u/K0J60L531iwaCAoAIhriTNqg4whzgAADkH8g9yldIbPh5/n/6fQt00WJiSzYvEhDu78rQnrQvnfWLBoICgAiGuJM2qDjCHOAAAOQfyD3KV0hs+Hn+f/p9C3TRYmJLNi8SEO7vytCetC+d9YsGggKACIa4kzaoOMIc4AAA5B/IPcpXSGz4ef5/+n0LdNFiYks2LxIQ7u/K0J60L531iwaCAoAIhriTNqg4whzgAADkH8g9yldIbPh5/n/6fQt00WJiSzYvEhDu78rQnrQvnfWLBoICgAiGuJM2qDjCHOAAAOQfyD3KV0hs+Hn+f/p9C3TRYmJLNi8SEO7vytCetC+d9YsGggKACIa4kzaoOMIc4AAA5B/IPcpXSGz4ef5/+n0LdNFiYks2LxIQ7u/K0J60L531iwaCAoAIhriTNqg4whzgAADkH8g9yldIbPh5/n/6fQt00WJiSzYvEhDu78rQnrQvnfWLBoICgAiGuJM2qDjCHOAAAOQfyD3KV0hs+Hn+f/p9C3TRYmJLNi8SEO7vytCetC+d9YsGggKACIa4kzaoOMIc4AAA5B/IPcpXSGz4ef5/+n0LdNFiYks2LxIQ7u/K0J60L531iwaCAoAIhriTNqg4whzgAADkH8g9yldIbPh5/n/6fQt00WJiSzYvEhDu78rQnrQvnfWLBoICgAiGuJM2qDjCHOAAAOQfyD3KV0hs+Hn+f/p9C3TRYmJLNi8SEO7vytCetC+d9YsGggKACIa4kzaoOMIc4AAA5B/IPcpXSGz4ef5/+n0LdNFiYks2LxIQ7u/K0J60L531iwaCAoAIhriTNqg4whzgAADkH8g9yldIbPh5/n/6fQt00WJiSzYvEhDu78rQnrQvnfWLBoICgAiGuJM2qDjCHOAAAOQfyD3KV0hs+Hn+f/p9C3TRYmJLNi8SEO7vytCetC+d9YsGggKACIa4kzaoOMIc4AAA5B/IPcpXSGz4ef5/+n0LdNFiYks2LxIQ7u/K0J60L531iwaCAoAIhriTNqg4whzgAADkH8g9yldIbPh5/n/6fQt00WJiSzYvEhDu78rQnrQvnfWLBoICgAiGuJM2qDjCHOAAAOQfyD3KV0hs+Hn+f/p9C3TRYmJLNi8SEO7vytCetC+d9YsGggKACIa4kzaoOMIc4AAA5B/IPcpXSGz4ef5/+n0LdNFiYks2LxIQ7u/K0J60L531iwaCAoAIhriTNqg4whzgAADkH8g9yldIbPh5/n/6fQt00WJiSzYvEhDu78rQnrQvnfWLBoICgAiGuJM2qDjCHOAAAOQfyD3KV0hs+Hn+f/p9C3TRYmJLNi8SEO7vytCetC+d9YsGggKACIa4kzaoOMIc4AAA5B/IPcpXSGz4ef5/+n0LdNFiYks2LxIQ7u/K0J60L531iwaCAoAIhriTNqg4whzgAADkH8g9yldIbPh5/n/6fQt00WJiSzYvEhDu78rQnrQvnfWLBoICgAiGuJM2qDjCHOAAAOQfyD3KV0hs+Hn+f/p9C3TRYmJLNi8SEO7vytCetC+d9YsGggKACIa4kzaoOMIc4AAA5B/IPcpXSGz4ef5/+n0LdNFiYks2LxIQ7u/K0J60L531iwaCAoAIhriTNqg4whzgAADkH8g9yldIbPh5/n/6fQt00WJiSzYvEhDu78rQnrQvnfWLBoICgAiGuJM2qDjCHOAAAOQfyD3KV0hs+Hn+f/p9C3TRYmJLNi8SEO7vytCetC+d9YsGggKACIa4kzaoOMIc4AAA5B/IPcpXSGz4ef5/+n0LdNFiYks2LxIQ7u/K0J60L531iwaCAoAIhriTNqg4whzgAADkH8g9yldIbPh5/n/6fQt00WJiSzYvEhDu78rQnrQvnfWLBoICgAiGuJM2qDjCHOAAAOQfyD3KV0hs+Hn+f/p9C3TRYmJLNi8SEO7vytCetC+d9YsGggKACIa4kzaoOMIc4AAA5B/IPcpXSGz4ef5/+n0LdNFiYks2LxIQ7u/K0J60L531iwaCAoAIhriTNqg4whzgAADkH8g9yldIbPh5/n/6fQt00WJiSzYvEhDu78rQnrQvnfWLBoICgAiGuJM2qDjCHOAAAOQfyD3KV0hs+Hn+f/p9C3TRYmJLNi8SEO7vytCetC+d9YsGggKACIa4kzaoOMIc4AAA5B/IPcpXSGz4ef5/+n0LdNFiYks2LxIQ7u/K0J60L531iwaCAoAIhriTNqg4whzgAADkH8g9yldIbPh5/n/6fQt00WJiSzYvEhDu78rQnrQvnfWLBoICgAiGuJM2qDjCHOAAAOQfyD3KV0hs+Hn+f/p9C3TRYmJLNi8SEO7vytCetC+d9YsGggKACIa4kzaoOMIc4AAA5B/IPcpXSGz4ef5/+n0LdNFiYks2LxIQ7u/K0J60L531iwaCAoAIhriTNqg4whzgAADkH8g9yldIbPh5/n/6fQt00WJiSzYvEhDu78rQnrQvnfWLBoICgAiGuJM2qDjCHOAAAOQfyD3KV0hs+Hn+f/p9C3TRYmJLNi8SEO7vytCetC+d9YsGggKACIa4kzaoOMIc4AAA5B/IPcpXSGz4ef5/+n0LdNFiYks2LxIQ7u/K0J60L531iwaCAoAIhriTNqg4whzgAADkH8g9yldIbPh5/n/6fQt00WJiSzYvEhDu78rQnrQvnfWLBoICgAiGuJM2qDjCHOAAAOQfyD3KV0hs+Hn+f/p9C3TRYmJLNi8SEO7vytCetC+d9YsGggKACIa4kzaoOMIc4AAA5B/IPcpXSGz4ef5/+n0LdNFiYks2LxIQ7u/K0J60L531iwaCAoAIhriTNqg4whzgAADkH8g9yldIbPh5/n/6fQt00WJiSzYvEhDu78rQnrQvnfWLBoICgAiGuJM2qDjCHOAAAOQfyD3KV0hs+Hn+f/p9C3TRYmJLNi8SEO7vytCetC+d9YsGggKACIa4kzaoOMIc4AAA5B/IPcpXSGz4ef5/+n0LdNFiYks2LxIQ7u/K0J60L531iwaCAoAIhriTNqg4whzgAADkH8g9yldIbPh5/n/6fQt00WJiSzYvEhDu78rQnrQvnfWLBoICgAiGuJM2qDjCHOAAAOQfyD3KV0hs+Hn+f/p9C3TRYmJLNi8SEO7vytCetC+d9YsGggKACIa4kzaoOMIc4AAA5B/IPcpXSGz4ef5/+n0LdNFiYks2LxIQ7u/K0J60L531iwaCAoAIhriTNqg4whzgAADkH8g9yldIbPh5/n/6fQt00WJiSzYvEhDu78rQnrQvnfWLBoICgAiGuJM2qDjCHOAAAOQfyD3KV0hs+Hn+f/p9C3TRYmJLNi8SEO7vytCetC+d9YsGggKACIa4kzaoOMIc4AAA5B/IPcpXSGz4ef5/+n0LdNFiYks2LxIQ7u/K0J60L531iwaCAoAIhriTNqg4whzgAADkH8g9yldIbPh5/n/6fQt00WJiSzYvEhDu78rQnrQvnfWLBoICgAiGuJM2qDjCHOAAAOQfyD3KV0hs+Hn+f/p9C3TRYmJLNi8SEO7vytCetC+d9YsGggKACIa4kzaoOMIc4AAA5B/IPcpXSGz4ef5/+n0LdNFiYks2LxIQ7u/K0J60L531iwaCAoAIhriTNqg4whzgAADkH8g9yldIbPh5/n/6fQt00WJiSzYvEhDu78rQnrQvnfWLBoICgAiGuJM2qDjCHOAAAOQfyD3KV0hs+Hn+f/p9C3TRYmJLNi8SEO7vytCetC+d9YsGggKACIa4kzaoOMIc4AAA5B/IPcpXSGz4ef5/+n0LdNFiYks2LxIQ7u/K0J60L531iwaCAoAIhriTNqg4whzgAADkH8g9yldIbPh5/n/6fQt00WJiSzYvEhDu78rQnrQvnfWLBoICgAiGuJM2qDjCHOAAAOQfyD3KV0hs+Hn+f/p9C3TRYmJLNi8SEO7vytCetC+d9YsGggKACIa4kzaoOMIc4AAA5B/IPcpXSGz4ef5/+n0LdNFiYks2LxIQ7u/K0J60L531iwaCAoAIhriTNqg4whzgAADkH8g9yldIbPh5/n/6fQt00WJiSzYvEhDu78rQnrQvnfWLBoICgAiGuJM2qDjCHOAAAOQfyD3KV0hs+Hn+f/p9C3TRYmJLNi8SEO7vytCetC+d9YsGggKACIa4kzaoOMIc4AAA5B/IPcpXSGz4ef5/+n0LdNFiYks2LxIQ7u/K0J60L531iwaCAoAIhriTNqg4whzgAADkH8g9yldIbPh5/n/6fQt00WJiSzYvEhDu78rQnrQvnfWLBoICgAiGuJM2qDjCHOAAAOQfyD3KV0hs+Hn+f/p9C3TRYmJLNi8SEO7vytCetC+d9YsGggKACIa4kzaoOMIc4AAA5B/IPcpXSGz4ef5/+n0LdNFiYks2LxIQ7u/K0J60L531iwaCAoAIhriTNqg4whzgAADkH8g9yldIbPh5/n/6fQt00WJiSzYvEhDu78rQnrQvnfWLBoICgAiGuJM2qDjCHOAAAOQfyD3KV0hs+Hn+f/p9C3TRYmJLNi8SEO7vytCetC+d9YsGggKACIa4kzaoOMIc4AAA5B/IPcpXSGz4ef5/+n0LdNFiYks2LxIQ7u/K0J60L531iwaCAoAIhriTNqg4whzgAADkH8g9yldIbPh5/n/6fQt00WJiSzYvEhDu78rQnrQvnfWLBoICgAiGuJM2qDjCHOAAAOQfyD3KV0hs+Hn+f/p9C3TRYmJLNi8SEO7vytCetC+d9YsGggKACIa4kzaoOMIc4AAA5B/IPcpXSGz4ef5/+n0LdNFiYks2LxIQ7u/K0J60L531iwaCAoAIhriTNqg4whzgAADkH8g9yldIbPh5/n/6fQt00WJiSzYvEhDu78rQnrQvnfWLBoICgAiGuJM2qDjCHOAAAOQfyD3KV0hs+Hn+f/p9C3TRYmJLNi8SEO7vytCetC+d9YsGggKACIa4kzaoOMIc4AAA5B/IPcpXSGz4ef5/+n0LdNFiYks2LxIQ7u/K0J60L531iwaCAoAIhriTNqg4whzgAADkH8g9yldIbPh5/n/6fQt00WJiSzYvEhDu78rQnrQvnfWLBoICgAiGuJM2qDjCHOAAAOQfyD3KV0hs+Hn+f/p9C3TRYmJLNi8SEO7vytCetC+d9YsGggKACIa4kzaoOMIc4AAA5B/IPcpXSGz4ef5/+n0LdNFiYks2LxIQ7u/K0J60L531iwaCAoAIhriTNqg4whzgAADkH8g9yldIbPh5/n/6fQt00WJiSzYvEhDu78rQnrQvnfWLBoICgAiGuJM2qDjCHOAAAOQfyD3KV0hs+Hn+f/p9C3TRYmJLNi8SEO7vytCetC+d9YsGggKACIa4kzaoOMIc4AAA5B/IPcpXSGz4ef5/+n0LdNFiYks2LxIQ7u/K0J60L531iwaCAoAIhriTNqg4whzgAADkH8g9yldIbPh5/n/6fQt00WJiSzYvEhDu78rQnrQvnfWLBoICgAiGuJM2qDjCHOAAAOQfyD3KV0hs+Hn+f/p9C3TRYmJLNi8SEO7vytCetC+d9YsGggKACIa4kzaoOMIc4AAA5B/IPcpXSGz4ef5/+n0LdNFiYks2LxIQ7u/K0J60L531iwaCAoAIhriTNqg4whzgAADkH8g9yldIbPh5/n/6fQt00WJiSzYvEhDu78rQnrQvnfWLBoICgAiGuJM2qDjCHOAAAOQfyD3KV0hs+Hn+f/p9C3TRYmJLNi8SEO7vytCetC+d9YsGggKACIa4kzaoOMIc4AAA5B/IPcpXSGz4ef5/+n0LdNFiYks2LxIQ7u/K0J60L531iwaCAoAIhriTNqg4whzgAADkH8g9yldIbPh5/n/6fQt00WJiSzYvEhDu78rQnrQvnfWLBoICgAiGuJM2qDjCHOAAAOQfyD3KV0hs+Hn+f/p9C3TRYmJLNi8SEO7vytCetC+d9YsGggKACIa4kzaoOMIc4AAA5B/IPcpXSGz4ef5/+n0LdNFiYks2LxIQ7u/K0J60L531iwaCAoAIhriTNqg4whzgAADkH8g9yldIbPh5/n/6fQt00WJiSzYvEhDu78rQnrQvnfWLBoICgAiGuJM2qDjCHOAAAOQfyD3KV0hs+Hn+f/p9C3TRYmJLNi8SEO7vytCetC+d9YsGggKACIa4kzaoOMIc4AAA5B/IPcpXSGz4ef5/+n0LdNFiYks2LxIQ7u/K0J60L531iwaCAoAIhriTNqg4whzgAADkH8g9yldIbPh5/n/6fQt00WJiSzYvEhDu78rQnrQvnfWLBoICgAiGuJM2qDjCHOAAAOQfyD3KV0hs+Hn+f/p9C3TRYmJLNi8SEO7vytCetC+d9YsGggKACIa4kzaoOMIc4AAA5B/IPcpXSGz4ef5/+n0LdNFiYks2LxIQ7u/K0J60L531iwaCAoAIhriTNqg4whzgAADkH8g9yldIbPh5/n/6fQt00WJiSzYvEhDu78rQnrQvnfWLBoICgAiGuJM2qDjCHOAAAOQfyD3KV0hs+Hn+f/p9C3TRYmJLNi8SEO7vytCetC+d9YsGggKACIa4kzaoOMIc4AAA5B/IPcpXSGz4ef5/+n0LdNFiYks2LxIQ7u/K0J60L531iwaCAoAIhriTNqg4whzgAADkH8g9yldIbPh5/n/6fQt00WJiSzYvEhDu78rQnrQvnfWLBoICgAiGuJM2qDjCHOAAAOQfyD3KV0hs+Hn+f/p9C3TRYmJLNi8SEO7vytCetC+d9YsGggKACIa4kzaoOMIc4AAA5B/IPcpXSGz4ef5/+n0LdNFiYks2LxIQ7u/K0J60L531iwaCAoAIhriTNqg4whzgAADkH8g9yldIbPh5/n/6fQt00WJiSzYvEhDu78rQnrQvnfWLBoICgAiGuJM2qDjCHOAAAOQfyD3KV0hs+Hn+f/p9C3TRYmJLNi8SEO7vytCetC+d9YsGggKACIa4kzaoOMIc4AAA5B/IPcpXSGz4ef5/+n0LdNFiYks2LxIQ7u/K0J60L531iwaCAoAIhriTNqg4whzgAADkH8g9yldIbPh5/n/6fQt00WJiSzYvEhDu78rQnrQvnfWLBoICgAiGuJM2qDjCHOAAAOQfyD3KV0hs+Hn+f/p9C3TRYmJLNi8SEO7vytCetC+d9YsGggKACIa4kzaoOMIc4AAA5B/IPcpXSGz4ef5/+n0LdNFiYks2LxIQ7u/K0J60L531iwaCAoAIhriTNqg4whzgAADkH8g9yldIbPh5/n/6fQt00WJiSzYvEhDu78rQnrQvnfWLBoICgAiGuJM2qDjCHOAAAOQfyD3KV0hs+Hn+f/p9C3TRYmJLNi8SEO7vytCetC+d9YsGggKACIa4kzaoOMIc4AAA5B/IPcpXSGz4ef5/+n0LdNFiYks2LxIQ7u/K0J60L531iwaCAoAIhriTNqg4whzgAADkH8g9yldIbPh5/n/6fQt00WJiSzYvEhDu78rQnrQvnfWLBoICgAiGuJM2qDjCHOAAAOQfyD3KV0hs+Hn+f/p9C3TRYmJLNi8SEO7vytCetC+d9YsGggKACIa4kzaoOMIc4AAA5B/IPcpXSGz4ef5/+n0LdNFiYks2LxIQ7u/K0J60L531iwaCAoAIhriTNqg4whzgAADkH8g9yldIbPh5/n/6fQt00WJiSzYvEhDu78rQnrQvnfWLBoICgAiGuJM2qDjCHOAAAOQfyD3KV0hs+Hn+f/p9C3TRYmJLNi8SEO7vytCetC+d9YsGggKACIa4kzaoOMIc4AAA5B/IPcpXSGz4ef5/+n0LdNFiYks2LxIQ7u/K0J60L531iwaCAoAIhriTNqg4whzgAADkH8g9yldIbPh5/n/6fQt00WJiSzYvEhDu78rQnrQvnfWLBoICgAiGuJM2qDjCHOAAAOQfyD3KV0hs+Hn+f/p9C3TRYmJLNi8SEO7vytCetC+d9YsGggKACIa4kzaoOMIc4AAA5B/IPcpXSGz4ef5/+n0LdNFiYks2LxIQ7u/K0J60L531iwaCAoAIhriTNqg4whzgAADkH8g9yldIbPh5/n/6fQt00WJiSzYvEhDu78rQnrQvnfWLBoICgAiGuJM2qDjCHOAAAOQfyD3KV0hs+Hn+f/p9C3TRYmJLNi8SEO7vytCetC+d9YsGggKACIa4kzaoOMIc4AAA5B/IPcpXSGz4ef5/+n0LdNFiYks2LxIQ7u/K0J60L531iwaCAoAIhriTNqg4whzgAADkH8g9yldIbPh5/n/6fQt00WJiSzYvEhDu78rQnrQvnfWLBoICgAiGuJM2qDjCHOAAAOQfyD3KV0hs+Hn+f/p9C3TRYmJLNi8SEO7vytCetC+d9YsGggKACIa4kzaoOMIc4AAA5B/IPcpXSGz4ef5/+n0LdNFiYks2LxIQ7u/K0J60L531iwaCAoAIhriTNqg4whzgAADkH8g9yldIbPh5/n/6fQt00WJiSzYvEhDu78rQnrQvnfWLBoICgAiGuJM2qDjCHOAAAOQfyD3KV0hs+Hn+f/p9C3TRYmJLNi8SEO7vytCetC+d9YsGggKACIa4kzaoOMIc4AAA5B/IPcpXSGz4ef5/+n0LdNFiYks2LxIQ7u/K0J60L531iwaCAoAIhriTNqg4whzgAADkH8g9yldIbPh5/n/6fQt00WJiSzYvEhDu78rQnrQvnfWLBoICgAiGuJM2qDjCHOAAAOQfyD3KV0hs+Hn+f/p9C3TRYmJLNi8SEO7vytCetC+d9YsGggKACIa4kzaoOMIc4AAA5B/IPcpXSGz4ef5/+n0LdNFiYks2LxIQ7u/K0J60L531iwaCAoAIhriTNqg4whzgAADkH8g9yldIbPh5/n/6fQt00WJiSzYvEhDu78rQnrQvnfWLBoICgAiGuJM2qDjCHOAAAOQfyD3KV0hs+Hn+f/p9C3TRYmJLNi8SEO7vytCetC+d9YsGggKACIa4kzaoOMIc4AAA5B/IPcpXSGz4ef5/+n0LdNFiYks2LxIQ7u/K0J60L531iwaCAoAIhriTNqg4whzgAADkH8g9yldIbPh5/n/6fQt00WJiSzYvEhDu78rQnrQvnfWLBoICgAiGuJM2qDjCHOAAAOQfyD3KV0hs+Hn+f/p9C3TRYmJLNi8SEO7vytCetC+d9YsGggKACIa4kzaoOMIc4AAA5B/IPcpXSGz4ef5/+n0LdNFiYks2LxIQ7u/K0J60L531iwaCAoAIhriTNqg4whzgAADkH8g9yldIbPh5/n/6fQt00WJiSzYvEhDu78rQnrQvnfWLBoICgAiGuJM2qDjCHOAAAOQfyD3KV0hs+Hn+f/p9C3TRYmJLNi8SEO7vytCetC+d9YsGggKACIa4kzaoOMIc4AAA5B/IPcpXSGz4ef5/+n0LdNFiYks2LxIQ7u/K0J60L531iwaCAoAIhriTNqg4whzgAADkH8g9yldIbPh5/n/6fQt00WJiSzYvEhDu78rQnrQvnfWLBoICgAiGuJM2qDjCHOAAAOQfyD3KV0hs+Hn+f/p9C3TRYmJLNi8SEO7vytCetC+d9YsGggKACIa4kzaoOMIc4AAA5B/IPcpXSGz4ef5/+n0LdNFiYks2LxIQ7u/K0J60L531iwaCAoAIhriTNqg4whzgAADkH8g9yldIbPh5/n/6fQt00WJiSzYvEhDu78rQnrQvnfWLBoICgAiGuJM2qDjCHOAAAOQfyD3KV0hs+Hn+f/p9C3TRYmJLNi8SEO7vytCetC+d9YsGggKACIa4kzaoOMIc4AAA5B/IPcpXSGz4ef5/+n0LdNFiYks2LxIQ7u/K0J60L531iwaCAoAIhriTNqg4whzgAADkH8g9yldIbPh5/n/6fQt00WJiSzYvEhDu78rQnrQvnfWLBoICgAiGuJM2qDjCHOAAAOQfyD3KV0hs+Hn+f/p9C3TRYmJLNi8SEO7vytCetC+d9YsGggKACIa4kzaoOMIc4AAA5B/IPcpXSGz4ef5/+n0LdNFiYks2LxIQ7u/K0J60L531iwaCAoAIhriTNqg4whzgAADkH8g9yldIbPh5/n/6fQt00WJiSzYvEhDu78rQnrQvnfWLBoICgAiGuJM2qDjCHOAAAOQfyD3KV0hs+Hn+f/p9C3TRYmJLNi8SEO7vytCetC+d9YsGggKACIa4kzaoOMIc4AAA5B/IPcpXSGz4ef5/+n0LdNFiYks2LxIQ7u/K0J60L531iwaCAoAIhriTNqg4whzgAADkH8g9yldIbPh5/n/6fQt00WJiSzYvEhDu78rQnrQvnfWLBoICgAiGuJM2qDjCHOAAAOQfyD3KV0hs+Hn+f/p9C3TRYmJLNi8SEO7vytCetC+d9YsGggKACIa4kzaoOMIc4AAA5B/IPcpXSGz4ef5/+n0LdNFiYks2LxIQ7u/K0J60L531iwaCAoAIhriTNqg4whzgAADkH8g9yldIbPh5/n/6fQt00WJiSzYvEhDu78rQnrQvnfWLBoICgAiGuJM2qDjCHOAAAOQfyD3KV0hs+Hn+f/p9C3TRYmJLNi8SEO7vytCetC+d9YsGggKACIa4kzaoOMIc4AAA5B/IPcpXSGz4ef5/+n0LdNFiYks2LxIQ7u/K0J60L531iwaCAoAIhriTNqg4whzgAADkH8g9yldIbPh5/n/6fQt00WJiSzYvEhDu78rQnrQvnfWLBoICgAiGuJM2qDjCHOAAAOQfyD3KV0hs+Hn+f/p9C3TRYmJLNi8SEO7vytCetC+d9YsGggKACIa4kzaoOMIc4AAA5B/IPcpXSGz4ef5/+n0LdNFiYks2LxIQ7u/K0J60L531iwaCAoAIhriTNqg4whzgAADkH8g9yldIbPh5/n/6fQt00WJiSzYvEhDu78rQnrQvnfWLBoICgAiGuJM2qDjCHOAAAOQfyD3KV0hs+Hn+f/p9C3TRYmJLNi8SEO7vytCetC+d9YsGggKACIa4kzaoOMIc4AAA5B/IPcpXSGz4ef5/+n0LdNFiYks2LxIQ7u/K0J60L531iwaCAoAIhriTNqg4whzgAADkH8g9yldIbPh5/n/6fQt00WJiSzYvEhDu78rQnrQvnfWLBoICgAiGuJM2qDjCHOAAAOQfyD3KV0hs+Hn+f/p9C3TRYmJLNi8SEO7vytCetC+d9YsGggKACIa4kzaoOMIc4AAA5B/IPcpXSGz4ef5/+n0LdNFiYks2LxIQ7u/K0J60L531iwaCAoAIhriTNqg4whzgAADkH8g9yldIbPh5/n/6fQt00WJiSzYvEhDu78rQnrQvnfWLBoICgAiGuJM2qDjCHOAAAOQfyD3KV0hs+Hn+f/p9C3TRYmJLNi8SEO7vytCetC+d9YsGggKACIa4kzaoOMIc4AAA5B/IPcpXSGz4ef5/+n0LdNFiYks2LxIQ7u/K0J60L531iwaCAoAIhriTNqg4whzgAADkH8g9yldIbPh5/n/6fQt00WJiSzYvEhDu78rQnrQvnfWLBoICgAiGuJM2qDjCHOAAAOQfyD3KV0hs+Hn+f/p9C3TRYmJLNi8SEO7vytCetC+d9YsGggKACIa4kzaoOMIc4AAA5B/IPcpXSGz4ef5/+n0LdNFiYks2LxIQ7u/K0J60L531iwaCAoAIhriTNqg4whzgAADkH8g9yldIbPh5/n/6fQt00WJiSzYvEhDu78rQnrQvnfWLBoICgAiGuJM2qDjCHOAAAOQfyD3KV0hs+Hn+f/p9C3TRYmJLNi8SEO7vytCetC+d9YsGggKACIa4kzaoOMIc4AAA5B/IPcpXSGz4ef5/+n0LdNFiYks2LxIQ7u/K0J60L531iwaCAoAIhriTNqg4whzgAADkH8g9yldIbPh5/n/6fQt00WJiSzYvEhDu78rQnrQvnfWLBoICgAiGuJM2qDjCHOAAAOQfyD3KV0hs+Hn+f/p9C3TRYmJLNi8SEO7vytCetC+d9YsGggKACIa4kzaoOMIc4AAA5B/IPcpXSGz4ef5/+n0LdNFiYks2LxIQ7u/K0J60L531iwaCAoAIhriTNqg4whzgAADkH8g9yldIbPh5/n/6fQt00WJiSzYvEhDu78rQnrQvnfWLBoICgAiGuJM2qDjCHOAAAOQfyD3KV0hs+Hn+f/p9C3TRYmJLNi8SEO7vytCetC+d9YsGggKACIa4kzaoOMIc4AAA5B/IPcpXSGz4ef5/+n0LdNFiYks2LxIQ7u/K0J60L531iwaCAoAIhriTNqg4whzgAADkH8g9yldIbPh5/n/6fQt00WJiSzYvEhDu78rQnrQvnfWLBoICgAiGuJM2qDjCHOAAAOQfyD3KV0hs+Hn+f/p9C3TRYmJLNi8SEO7vytCetC+d9YsGggKACIa4kzaoOMIc4AAA5B/IPcpXSGz4ef5/+n0LdNFiYks2LxIQ7u/K0J60L531iwaCAoAIhriTNqg4whzgAADkH8g9yldIbPh5/n/6fQt00WJiSzYvEhDu78rQnrQvnfWLBoICgAiGuJM2qDjCHOAAAOQfyD3KV0hs+Hn+f/p9C3TRYmJLNi8SEO7vytCetC+d9YsGggKACIa4kzaoOMIc4AAA5B/IPcpXSGz4ef5/+n0LdNFiYks2LxIQ7u/K0J60L531iwaCAoAIhriTNqg4whzgAADkH8g9yldIbPh5/n/6fQt00WJiSzYvEhDu78rQnrQvnfWLBoICgAiGuJM2qDjCHOAAAOQfyD3KV0hs+Hn+f/p9C3TRYmJLNi8SEO7vytCetC+d9YsGggKACIa4kzaoOMIc4AAA5B/IPcpXSGz4ef5/+n0LdNFiYks2LxIQ7u/K0J60L531iwaCAoAIhriTNqg4whzgAADkH8g9yldIbPh5/n/6fQt00WJiSzYvEhDu78rQnrQvnfWLBoICgAiGuJM2qDjCHOAAAOQfyD3KV0hs+Hn+f/p9C3TRYmJLNi8SEO7vytCetC+d9YsGggKACIa4kzaoOMIc4AAA5B/IPcpXSGz4ef5/+n0LdNFiYks2LxIQ7u/K0J60L531iwaCAoAIhriTNqg4whzgAADkH8g9yldIbPh5/n/6fQt00WJiSzYvEhDu78rQnrQvnfWLBoICgAiGuJM2qDjCHOAAAOQfyD3KV0hs+Hn+f/p9C3TRYmJLNi8SEO7vytCetC+d9YsGggKACIa4kzaoOMIc4AAA5B/IPcpXSGz4ef5/+n0LdNFiYks2LxIQ7u/K0J60L531iwaCAoAIhriTNqg4whzgAADkH8g9yldIbPh5/n/6fQt00WJiSzYvEhDu78rQnrQvnfWLBoICgAiGuJM2qDjCHOAAAOQfyD3KV0hs+Hn+f/p9C3TRYmJLNi8SEO7vytCetC+d9YsGggKACIa4kzaoOMIc4AAA5B/IPcpXSGz4ef5/+n0LdNFiYks2LxIQ7u/K0J60L531iwaCAoAIhriTNqg4whzgAADkH8g9yldIbPh5/n/6fQt00WJiSzYvEhDu78rQnrQvnfWLBoICgAiGuJM2qDjCHOAAAOQfyD3KV0hs+Hn+f/p9C3TRYmJLNi8SEO7vytCetC+d9YsGggKACIa4kzaoOMIc4AAA5B/IPcpXSGz4ef5/+n0LdNFiYks2LxIQ7u/K0J60L531iwaCAoAIhriTNqg4whzgAADkH8g9yldIbPh5/n/6fQt00WJiSzYvEhDu78rQnrQvnfWLBoICgAiGuJM2qDjCHOAAAOQfyD3KV0hs+Hn+f/p9C3TRYmJLNi8SEO7vytCetC+d9YsGggKACIa4kzaoOMIc4AAA5B/IPcpXSGz4ef5/+n0LdNFiYks2LxIQ7u/K0J60L531iwaCAoAIhriTNqg4whzgAADkH8g9yldIbPh5/n/6fQt00WJiSzYvEhDu78rQnrQvnfWLBoICgAiGuJM2qDjCHOAAAOQfyD3KV0hs+Hn+f/p9C3TRYmJLNi8SEO7vytCetC+d9YsGggKACIa4kzaoOMIc4AAA5B/IPcpXSGz4ef5/+n0LdNFiYks2LxIQ7u/K0J60L531iwaCAoAIhriTNqg4whzgAADkH8g9yldIbPh5/n/6fQt00WJiSzYvEhDu78rQnrQvnfWLBoICgAiGuJM2qDjCHOAAAOQfyD3KV0hs+Hn+f/p9C3TRYmJLNi8SEO7vytCetC+d9YsGggKACIa4kzaoOMIc4AAA5B/IPcpXSGz4ef5/+n0LdNFiYks2LxIQ7u/K0J60L531iwaCAoAIhriTNqg4whzgAADkH8g9yldIbPh5/n/6fQt00WJiSzYvEhDu78rQnrQvnfWLBoICgAiGuJM2qDjCHOAAAOQfyD3KV0hs+Hn+f/p9C3TRYmJLNi8SEO7vytCetC+d9YsGggKACIa4kzaoOMIc4AAA5B/IPcpXSGz4ef5/+n0LdNFiYks2LxIQ7u/K0J60L531iwaCAoAIhriTNqg4whzgAADkH8g9yldIbPh5/n/6fQt00WJiSzYvEhDu78rQnrQvnfWLBoICgAiGuJM2qDjCHOAAAOQfyD3KV0hs+Hn+f/p9C3TRYmJLNi8SEO7vytCetC+d9YsGggKACIa4kzaoOMIc4AAA5B/IPcpXSGz4ef5/+n0LdNFiYks2LxIQ7u/K0J60L531iwaCAoAIhriTNqg4whzgAADkH8g9yldIbPh5/n/6fQt00WJiSzYvEhDu78rQnrQvnfWLBoICgAiGuJM2qDjCHOAAAOQfyD3KV0hs+Hn+f/p9C3TRYmJLNi8SEO7vytCetC+d9YsGggKACIa4kzaoOMIc4AAA5B/IPcpXSGz4ef5/+n0LdNFiYks2LxIQ7u/K0J60L531iwaCAoAIhriTNqg4whzgAADkH8g9yldIbPh5/n/6fQt00WJiSzYvEhDu78rQnrQvnfWLBoICgAiGuJM2qDjCHOAAAOQfyD3KV0hs+Hn+f/p9C3TRYmJLNi8SEO7vytCetC+d9YsGggKACIa4kzaoOMIc4AAA5B/IPcpXSGz4ef5/+n0LdNFiYks2LxIQ7u/K0J60L531iwaCAoAIhriTNqg4whzgAADkH8g9yldIbPh5/n/6fQt00WJiSzYvEhDu78rQnrQvnfWLBoICgAiGuJM2qDjCHOAAAOQfyD3KV0hs+Hn+f/p9C3TRYmJLNi8SEO7vytCetC+d9YsGggKACIa4kzaoOMIc4AAA5B/IPcpXSGz4ef5/+n0LdNFiYks2LxIQ7u/K0J60L531iwaCAoAIhriTNqg4whzgAADkH8g9yldIbPh5/n/6fQt00WJiSzYvEhDu78rQnrQvnfWLBoICgAiGuJM2qDjCHOAAAOQfyD3KV0hs+Hn+f/p9C3TRYmJLNi8SEO7vytCetC+d9YsGggKACIa4kzaoOMIc4AAA5B/IPcpXSGz4ef5/+n0LdNFiYks2LxIQ7u/K0J60L531iwaCAoAIhriTNqg4whzgAADkH8g9yldIbPh5/n/6fQt00WJiSzYvEhDu78rQnrQvnfWLBoICgAiGuJM2qDjCHOAAAOQfyD3KV0hs+Hn+f/p9C3TRYmJLNi8SEO7vytCetC+d9YsGggKACIa4kzaoOMIc4AAA5B/IPcpXSGz4ef5/+n0LdNFiYks2LxIQ7u/K0J60L531iwaCAoAIhriTNqg4whzgAADkH8g9yldIbPh5/n/6fQt00WJiSzYvEhDu78rQnrQvnfWLBoICgAiGuJM2qDjCHOAAAOQfyD3KV0hs+Hn+f/p9C3TRYmJLNi8SEO7vytCetC+d9YsGggKACIa4kzaoOMIc4AAA5B/IPcpXSGz4ef5/+n0LdNFiYks2LxIQ7u/K0J60L531iwaCAoAIhriTNqg4whzgAADkH8g9yldIbPh5/n/6fQt00WJiSzYvEhDu78rQnrQvnfWLBoICgAiGuJM2qDjCHOAAAOQfyD3KV0hs+Hn+f/p9C3TRYmJLNi8SEO7vytCetC+d9YsGggKACIa4kzaoOMIc4AAA5B/IPcpXSGz4ef5/+n0LdNFiYks2LxIQ7u/K0J60L531iwaCAoAIhriTNqg4whzgAADkH8g9yldIbPh5/n/6fQt00WJiSzYvEhDu78rQnrQvnfWLBoICgAiGuJM2qDjCHOAAAOQfyD3KV0hs+Hn+f/p9C3TRYmJLNi8SEO7vytCetC+d9YsGggKACIa4kzaoOMIc4AAA5B/IPcpXSGz4ef5/+n0LdNFiYks2LxIQ7u/K0J60L531iwaCAoAIhriTNqg4whzgAADkH8g9yldIbPh5/n/6fQt00WJiSzYvEhDu78rQnrQvnfWLBoICgAiGuJM2qDjCHOAAAOQfyD3KV0hs+Hn+f/p9C3TRYmJLNi8SEO7vytCetC+d9YsGggKACIa4kzaoOMIc4AAA5B/IPcpXSGz4ef5/+n0LdNFiYks2LxIQ7u/K0J60L531iwaCAoAIhriTNqg4whzgAADkH8g9yldIbPh5/n/6fQt00WJiSzYvEhDu78rQnrQvnfWLBoICgAiGuJM2qDjCHOAAAOQfyD3KV0hs+Hn+f/p9C3TRYmJLNi8SEO7vytCetC+d9YsGggKACIa4kzaoOMIc4AAA5B/IPcpXSGz4ef5/+n0LdNFiYks2LxIQ7u/K0J60L531iwaCAoAIhriTNqg4whzgAADkH8g9yldIbPh5/n/6fQt00WJiSzYvEhDu78rQnrQvnfWLBoICgAiGuJM2qDjCHOAAAOQfyD3KV0hs+Hn+f/p9C3TRYmJLNi8SEO7vytCetC+d9YsGggKACIa4kzaoOMIc4AAA5B/IPcpXSGz4ef5/+n0LdNFiYks2LxIQ7u/K0J60L531iwaCAoAIhriTNqg4whzgAADkH8g9yldIbPh5/n/6fQt00WJiSzYvEhDu78rQnrQvnfWLBoICgAiGuJM2qDjCHOAAAOQfyD3KV0hs+Hn+f/p9C3TRYmJLNi8SEO7vytCetC+d9YsGggKACIa4kzaoOMIc4AAA5B/IPcpXSGz4ef5/+n0LdNFiYks2LxIQ7u/K0J60L531iwaCAoAIhriTNqg4whzgAADkH8g9yldIbPh5/n/6fQt00WJiSzYvEhDu78rQnrQvnfWLBoICgAiGuJM2qDjCHOAAAOQfyD3KV0hs+Hn+f/p9C3TRYmJLNi8SEO7vytCetC+d9YsGggKACIa4kzaoOMIc4AAA5B/IPcpXSGz4ef5/+n0LdNFiYks2LxIQ7u/K0J60L531iwaCAoAIhriTNqg4whzgAADkH8g9yldIbPh5/n/6fQt00WJiSzYvEhDu78rQnrQvnfWLBoICgAiGuJM2qDjCHOAAAOQfyD3KV0hs+Hn+f/p9C3TRYmJLNi8SEO7vytCetC+d9YsGggKACIa4kzaoOMIc4AAA5B/IPcpXSGz4ef5/+n0LdNFiYks2LxIQ7u/K0J60L531iwaCAoAIhriTNqg4whzgAADkH8g9yldIbPh5/n/6fQt00WJiSzYvEhDu78rQnrQvnfWLBoICgAiGuJM2qDjCHOAAAOQfyD3KV0hs+Hn+f/p9C3TRYmJLNi8SEO7vytCetC+d9YsGggKACIa4kzaoOMIc4AAA5B/IPcpXSGz4ef5/+n0LdNFiYks2LxIQ7u/K0J60L531iwaCAoAIhriTNqg4whzgAADkH8g9yldIbPh5/n/6fQt00WJiSzYvEhDu78rQnrQvnfWLBoICgAiGuJM2qDjCHOAAAOQfyD3KV0hs+Hn+f/p9C3TRYmJLNi8SEO7vytCetC+d9YsGggKACIa4kzaoOMIc4AAA5B/IPcpXSGz4ef5/+n0LdNFiYks2LxIQ7u/K0J60L531iwaCAoAIhriTNqg4whzgAADkH8g9yldIbPh5/n/6fQt00WJiSzYvEhDu78rQnrQvnfWLBoICgAiGuJM2qDjCHOAAAOQfyD3KV0hs+Hn+f/p9C3TRYmJLNi8SEO7vytCetC+d9YsGggKACIa4kzaoOMIc4AAA5B/IPcpXSGz4ef5/+n0LdNFiYks2LxIQ7u/K0J60L531iwaCAoAIhriTNqg4whzgAADkH8g9yldIbPh5/n/6fQt00WJiSzYvEhDu78rQnrQvnfWLBoICgAiGuJM2qDjCHOAAAOQfyD3KV0hs+Hn+f/p9C3TRYmJLNi8SEO7vytCetC+d9YsGggKACIa4kzaoOMIc4AAA5B/IPcpXSGz4ef5/+n0LdNFiYks2LxIQ7u/K0J60L531iwaCAoAIhriTNqg4whzgAADkH8g9yldIbPh5/n/6fQt00WJiSzYvEhDu78rQnrQvnfWLBoICgAiGuJM2qDjCHOAAAOQfyD3KV0hs+Hn+f/p9C3TRYmJLNi8SEO7vytCetC+d9YsGggKACIa4kzaoOMIc4AAA5B/IPcpXSGz4ef5/+n0LdNFiYks2LxIQ7u/K0J60L531iwaCAoAIhriTNqg4whzgAADkH8g9yldIbPh5/n/6fQt00WJiSzYvEhDu78rQnrQvnfWLBoICgAiGuJM2qDjCHOAAAOQfyD3KV0hs+Hn+f/p9C3TRYmJLNi8SEO7vytCetC+d9YsGggKACIa4kzaoOMIc4AAA5B/IPcpXSGz4ef5/+n0LdNFiYks2LxIQ7u/K0J60L531iwaCAoAIhriTNqg4whzgAADkH8g9yldIbPh5/n/6fQt00WJiSzYvEhDu78rQnrQvnfWLBoICgAiGuJM2qDjCHOAAAOQfyD3KV0hs+Hn+f/p9C3TRYmJLNi8SEO7vytCetC+d9YsGggKACIa4kzaoOMIc4AAA5B/IPcpXSGz4ef5/+n0LdNFiYks2LxIQ7u/K0J60L531iwaCAoAIhriTNqg4whzgAADkH8g9yldIbPh5/n/6fQt00WJiSzYvEhDu78rQnrQvnfWLBoICgAiGuJM2qDjCHOAAAOQfyD3KV0hs+Hn+f/p9C3TRYmJLNi8SEO7vytCetC+d9YsGggKACIa4kzaoOMIc4AAA5B/IPcpXSGz4ef5/+n0LdNFiYks2LxIQ7u/K0J60L531iwaCAoAIhriTNqg4whzgAADkH8g9yldIbPh5/n/6fQt00WJiSzYvEhDu78rQnrQvnfWLBoICgAiGuJM2qDjCHOAAAOQfyD3KV0hs+Hn+f/p9C3TRYmJLNi8SEO7vytCetC+d9YsGggKACIa4kzaoOMIc4AAA5B/IPcpXSGz4ef5/+n0LdNFiYks2LxIQ7u/K0J60L531iwaCAoAIhriTNqg4whzgAADkH8g9yldIbPh5/n/6fQt00WJiSzYvEhDu78rQnrQvnfWLBoICgAiGuJM2qDjCHOAAAOQfyD3KV0hs+Hn+f/p9C3TRYmJLNi8SEO7vytCetC+d9YsGggKACIa4kzaoOMIc4AAA5B/IPcpXSGz4ef5/+n0LdNFiYks2LxIQ7u/K0J60L531iwaCAoAIhriTNqg4whzgAADkH8g9yldIbPh5/n/6fQt00WJiSzYvEhDu78rQnrQvnfWLBoICgAiGuJM2qDjCHOAAAOQfyD3KV0hs+Hn+f/p9C3TRYmJLNi8SEO7vytCetC+d9YsGggKACIa4kzaoOMIc4AAA5B/IPcpXSGz4ef5/+n0LdNFiYks2LxIQ7u/K0J60L531iwaCAoAIhriTNqg4whzgAADkH8g9yldIbPh5/n/6fQt00WJiSzYvEhDu78rQnrQvnfWLBoICgAiGuJM2qDjCHOAAAOQfyD3KV0hs+Hn+f/p9C3TRYmJLNi8SEO7vytCetC+d9YsGggKACIa4kzaoOMIc4AAA5B/IPcpXSGz4ef5/+n0LdNFiYks2LxIQ7u/K0J60L531iwaCAoAIhriTNqg4whzgAADkH8g9yldIbPh5/n/6fQt00WJiSzYvEhDu78rQnrQvnfWLBoICgAiGuJM2qDjCHOAAAOQfyD3KV0hs+Hn+f/p9C3TRYmJLNi8SEO7vytCetC+d9YsGggKACIa4kzaoOMIc4AAA5B/IPcpXSGz4ef5/+n0LdNFiYks2LxIQ7u/K0J60L531iwaCAoAIhriTNqg4whzgAADkH8g9yldIbPh5/n/6fQt00WJiSzYvEhDu78rQnrQvnfWLBoICgAiGuJM2qDjCHOAAAOQfyD3KV0hs+Hn+f/p9C3TRYmJLNi8SEO7vytCetC+d9YsGggKACIa4kzaoOMIc4AAA5B/IPcpXSGz4ef5/+n0LdNFiYks2LxIQ7u/K0J60L531iwaCAoAIhriTNqg4whzgAADkH8g9yldIbPh5/n/6fQt00WJiSzYvEhDu78rQnrQvnfWLBoICgAiGuJM2qDjCHOAAAOQfyD3KV0hs+Hn+f/p9C3TRYmJLNi8SEO7vytCetC+d9YsGggKACIa4kzaoOMIc4AAA5B/IPcpXSGz4ef5/+n0LdNFiYks2LxIQ7u/K0J60L531iwaCAoAIhriTNqg4whzgAADkH8g9yldIbPh5/n/6fQt00WJiSzYvEhDu78rQnrQvnfWLBoICgAiGuJM2qDjCHOAAAOQfyD3KV0hs+Hn+f/p9C3TRYmJLNi8SEO7vytCetC+d9YsGggKACIa4kzaoOMIc4AAA5B/IPcpXSGz4ef5/+n0LdNFiYks2LxIQ7u/K0J60L531iwaCAoAIhriTNqg4whzgAADkH8g9yldIbPh5/n/6fQt00WJiSzYvEhDu78rQnrQvnfWLBoICgAiGuJM2qDjCHOAAAOQfyD3KV0hs+Hn+f/p9C3TRYmJLNi8SEO7vytCetC+d9YsGggKACIa4kzaoOMIc4AAA5B/IPcpXSGz4ef5/+n0LdNFiYks2LxIQ7u/K0J60L531iwaCAoAIhriTNqg4whzgAADkH8g9yldIbPh5/n/6fQt00WJiSzYvEhDu78rQnrQvnfWLBoICgAiGuJM2qDjCHOAAAOQfyD3KV0hs+Hn+f/p9C3TRYmJLNi8SEO7vytCetC+d9YsGggKACIa4kzaoOMIc4AAA5B/IPcpXSGz4ef5/+n0LdNFiYks2LxIQ7u/K0J60L531iwaCAoAIhriTNqg4whzgAADkH8g9yldIbPh5/n/6fQt00WJiSzYvEhDu78rQnrQvnfWLBoICgAiGuJM2qDjCHOAAAOQfyD3KV0hs+Hn+f/p9C3TRYmJLNi8SEO7vytCetC+d9YsGggKACIa4kzaoOMIc4AAA5B/IPcpXSGz4ef5/+n0LdNFiYks2LxIQ7u/K0J60L531iwaCAoAIhriTNqg4whzgAADkH8g9yldIbPh5/n/6fQt00WJiSzYvEhDu78rQnrQvnfWLBoICgAiGuJM2qDjCHOAAAOQfyD3KV0hs+Hn+f/p9C3TRYmJLNi8SEO7vytCetC+d9YsGggKACIa4kzaoOMIc4AAA5B/IPcpXSGz4ef5/+n0LdNFiYks2LxIQ7u/K0J60L531iwaCAoAIhriTNqg4whzgAADkH8g9yldIbPh5/n/6fQt00WJiSzYvEhDu78rQnrQvnfWLBoICgAiGuJM2qDjCHOAAAOQfyD3KV0hs+Hn+f/p9C3TRYmJLNi8SEO7vytCetC+d9YsGggKACIa4kzaoOMIc4AAA5B/IPcpXSGz4ef5/+n0LdNFiYks2LxIQ7u/K0J60L531iwaCAoAIhriTNqg4whzgAADkH8g9yldIbPh5/n/6fQt00WJiSzYvEhDu78rQnrQvnfWLBoICgAiGuJM2qDjCHOAAAOQfyD3KV0hs+Hn+f/p9C3TRYmJLNi8SEO7vytCetC+d9YsGggKACIa4kzaoOMIc4AAA5B/IPcpXSGz4ef5/+n0LdNFiYks2LxIQ7u/K0J60L531iwaCAoAIhriTNqg4whzgAADkH8g9yldIbPh5/n/6fQt00WJiSzYvEhDu78rQnrQvnfWLBoICgAiGuJM2qDjCHOAAAOQfyD3KV0hs+Hn+f/p9C3TRYmJLNi8SEO7vytCetC+d9YsGggKACIa4kzaoOMIc4AAA5B/IPcpXSGz4ef5/+n0LdNFiYks2LxIQ7u/K0J60L531iwaCAoAIhriTNqg4whzgAADkH8g9yldIbPh5/n/6fQt00WJiSzYvEhDu78rQnrQvnfWLBoICgAiGuJM2qDjCHOAAAOQfyD3KV0hs+Hn+f/p9C3TRYmJLNi8SEO7vytCetC+d9YsGggKACIa4kzaoOMIc4AAA5B/IPcpXSGz4ef5/+n0LdNFiYks2LxIQ7u/K0J60L531iwaCAoAIhriTNqg4whzgAADkH8g9yldIbPh5/n/6fQt00WJiSzYvEhDu78rQnrQvnfWLBoICgAiGuJM2qDjCHOAAAOQfyD3KV0hs+Hn+f/p9C3TRYmJLNi8SEO7vytCetC+d9YsGggKACIa4kzaoOMIc4AAA5B/IPcpXSGz4ef5/+n0LdNFiYks2LxIQ7u/K0J60L531iwaCAoAIhriTNqg4whzgAADkH8g9yldIbPh5/n/6fQt00WJiSzYvEhDu78rQnrQvnfWLBoICgAiGuJM2qDjCHOAAAOQfyD3KV0hs+Hn+f/p9C3TRYmJLNi8SEO7vytCetC+d9YsGggKACIa4kzaoOMIc4AAA5B/IPcpXSGz4ef5/+n0LdNFiYks2LxIQ7u/K0J60L531iwaCAoAIhriTNqg4whzgAADkH8g9yldIbPh5/n/6fQt00WJiSzYvEhDu78rQnrQvnfWLBoICgAiGuJM2qDjCHOAAAOQfyD3KV0hs+Hn+f/p9C3TRYmJLNi8SEO7vytCetC+d9YsGggKACIa4kzaoOMIc4AAA5B/IPcpXSGz4ef5/+n0LdNFiYks2LxIQ7u/K0J60L531iwaCAoAIhriTNqg4whzgAADkH8g9yldIbPh5/n/6fQt00WJiSzYvEhDu78rQnrQvnfWLBoICgAiGuJM2qDjCHOAAAOQfyD3KV0hs+Hn+f/p9C3TRYmJLNi8SEO7vytCetC+d9YsGggKACIa4kzaoOMIc4AAA5B/IPcpXSGz4ef5/+n0LdNFiYks2LxIQ7u/K0J60L531iwaCAoAIhriTNqg4whzgAADkH8g9yldIbPh5/n/6fQt00WJiSzYvEhDu78rQnrQvnfWLBoICgAiGuJM2qDjCHOAAAOQfyD3KV0hs+Hn+f/p9C3TRYmJLNi8SEO7vytCetC+d9YsGggKACIa4kzaoOMIc4AAA5B/IPcpXSGz4ef5/+n0LdNFiYks2LxIQ7u/K0J60L531iwaCAoAIhriTNqg4whzgAADkH8g9yldIbPh5/n/6fQt00WJiSzYvEhDu78rQnrQvnfWLBoICgAiGuJM2qDjCHOAAAOQfyD3KV0hs+Hn+f/p9C3TRYmJLNi8SEO7vytCetC+d9YsGggKACIa4kzaoOMIc4AAA5B/IPcpXSGz4ef5/+n0LdNFiYks2LxIQ7u/K0J60L531iwaCAoAIhriTNqg4whzgAADkH8g9yldIbPh5/n/6fQt00WJiSzYvEhDu78rQnrQvnfWLBoICgAiGuJM2qDjCHOAAAOQfyD3KV0hs+Hn+f/p9C3TRYmJLNi8SEO7vytCetC+d9YsGggKACIa4kzaoOMIc4AAA5B/IPcpXSGz4ef5/+n0LdNFiYks2LxIQ7u/K0J60L531iwaCAoAIhriTNqg4whzgAADkH8g9yldIbPh5/n/6fQt00WJiSzYvEhDu78rQnrQvnfWLBoICgAiGuJM2qDjCHOAAAOQfyD3KV0hs+Hn+f/p9C3TRYmJLNi8SEO7vytCetC+d9YsGggKACIa4kzaoOMIc4AAA5B/IPcpXSGz4ef5/+n0LdNFiYks2LxIQ7u/K0J60L531iwaCAoAIhriTNqg4whzgAADkH8g9yldIbPh5/n/6fQt00WJiSzYvEhDu78rQnrQvnfWLBoICgAiGuJM2qDjCHOAAAOQfyD3KV0hs+Hn+f/p9C3TRYmJLNi8SEO7vytCetC+d9YsGggKACIa4kzaoOMIc4AAA5B/IPcpXSGz4ef5/+n0LdNFiYks2LxIQ7u/K0J60L531iwaCAoAIhriTNqg4whzgAADkH8g9yldIbPh5/n/6fQt00WJiSzYvEhDu78rQnrQvnfWLBoICgAiGuJM2qDjCHOAAAOQfyD3KV0hs+Hn+f/p9C3TRYmJLNi8SEO7vytCetC+d9YsGggKACIa4kzaoOMIc4AAA5B/IPcpXSGz4ef5/+n0LdNFiYks2LxIQ7u/K0J60L531iwaCAoAIhriTNqg4whzgAADkH8g9yldIbPh5/n/6fQt00WJiSzYvEhDu78rQnrQvnfWLBoICgAiGuJM2qDjCHOAAAOQfyD3KV0hs+Hn+f/p9C3TRYmJLNi8SEO7vytCetC+d9YsGggKACIa4kzaoOMIc4AAA5B/IPcpXSGz4ef5/+n0LdNFiYks2LxIQ7u/K0J60L531iwaCAoAIhriTNqg4whzgAADkH8g9yldIbPh5/n/6fQt00WJiSzYvEhDu78rQnrQvnfWLBoICgAiGuJM2qDjCHOAAAOQfyD3KV0hs+Hn+f/p9C3TRYmJLNi8SEO7vytCetC+d9YsGggKACIa4kzaoOMIc4AAA5B/IPcpXSGz4ef5/+n0LdNFiYks2LxIQ7u/K0J60L531iwaCAoAIhriTNqg4whzgAADkH8g9yldIbPh5/n/6fQt00WJiSzYvEhDu78rQnrQvnfWLBoICgAiGuJM2qDjCHOAAAOQfyD3KV0hs+Hn+f/p9C3TRYmJLNi8SEO7vytCetC+d9YsGggKACIa4kzaoOMIc4AAA5B/IPcpXSGz4ef5/+n0LdNFiYks2LxIQ7u/K0J60L531iwaCAoAIhriTNqg4whzgAADkH8g9yldIbPh5/n/6fQt00WJiSzYvEhDu78rQnrQvnfWLBoICgAiGuJM2qDjCHOAAAOQfyD3KV0hs+Hn+f/p9C3TRYmJLNi8SEO7vytCetC+d9YsGggKACIa4kzaoOMIc4AAA5B/IPcpXSGz4ef5/+n0LdNFiYks2LxIQ7u/K0J60L531iwaCAoAIhriTNqg4whzgAADkH8g9yldIbPh5/n/6fQt00WJiSzYvEhDu78rQnrQvnfWLBoICgAiGuJM2qDjCHOAAAOQfyD3KV0hs+Hn+f/p9C3TRYmJLNi8SEO7vytCetC+d9YsGggKACIa4kzaoOMIc4AAA5B/IPcpXSGz4ef5/+n0LdNFiYks2LxIQ7u/K0J60L531iwaCAoAIhriTNqg4whzgAADkH8g9yldIbPh5/n/6fQt00WJiSzYvEhDu78rQnrQvnfWLBoICgAiGuJM2qDjCHOAAAOQfyD3KV0hs+Hn+f/p9C3TRYmJLNi8SEO7vytCetC+d9YsGggKACIa4kzaoOMIc4AAA5B/IPcpXSGz4ef5/+n0LdNFiYks2LxIQ7u/K0J60L531iwaCAoAIhriTNqg4whzgAADkH8g9yldIbPh5/n/6fQt00WJiSzYvEhDu78rQnrQvnfWLBoICgAiGuJM2qDjCHOAAAOQfyD3KV0hs+Hn+f/p9C3TRYmJLNi8SEO7vytCetC+d9YsGggKACIa4kzaoOMIc4AAA5B/IPcpXSGz4ef5/+n0LdNFiYks2LxIQ7u/K0J60L531iwaCAoAIhriTNqg4whzgAADkH8g9yldIbPh5/n/6fQt00WJiSzYvEhDu78rQnrQvnfWLBoICgAiGuJM2qDjCHOAAAOQfyD3KV0hs+Hn+f/p9C3TRYmJLNi8SEO7vytCetC+d9YsGggKACIa4kzaoOMIc4AAA5B/IPcpXSGz4ef5/+n0LdNFiYks2LxIQ7u/K0J60L531iwaCAoAIhriTNqg4whzgAADkH8g9yldIbPh5/n/6fQt00WJiSzYvEhDu78rQnrQvnfWLBoICgAiGuJM2qDjCHOAAAOQfyD3KV0hs+Hn+f/p9C3TRYmJLNi8SEO7vytCetC+d9YsGggKACIa4kzaoOMIc4AAA5B/IPcpXSGz4ef5/+n0LdNFiYks2LxIQ7u/K0J60L531iwaCAoAIhriTNqg4whzgAADkH8g9yldIbPh5/n/6fQt00WJiSzYvEhDu78rQnrQvnfWLBoICgAiGuJM2qDjCHOAAAOQfyD3KV0hs+Hn+f/p9C3TRYmJLNi8SEO7vytCetC+d9YsGggKACIa4kzaoOMIc4AAA5B/IPcpXSGz4ef5/+n0LdNFiYks2LxIQ7u/K0J60L531iwaCAoAIhriTNqg4whzgAADkH8g9yldIbPh5/n/6fQt00WJiSzYvEhDu78rQnrQvnfWLBoICgAiGuJM2qDjCHOAAAOQfyD3KV0hs+Hn+f/p9C3TRYmJLNi8SEO7vytCetC+d9YsGggKACIa4kzaoOMIc4AAA5B/IPcpXSGz4ef5/+n0LdNFiYks2LxIQ7u/K0J60L531iwaCAoAIhriTNqg4whzgAADkH8g9yldIbPh5/n/6fQt00WJiSzYvEhDu78rQnrQvnfWLBoICgAiGuJM2qDjCHOAAAOQfyD3KV0hs+Hn+f/p9C3TRYmJLNi8SEO7vytCetC+d9YsGggKACIa4kzaoOMIc4AAA5B/IPcpXSGz4ef5/+n0LdNFiYks2LxIQ7u/K0J60L531iwaCAoAIhriTNqg4whzgAADkH8g9yldIbPh5/n/6fQt00WJiSzYvEhDu78rQnrQvnfWLBoICgAiGuJM2qDjCHOAAAOQfyD3KV0hs+Hn+f/p9C3TRYmJLNi8SEO7vytCetC+d9YsGggKACIa4kzaoOMIc4AAA5B/IPcpXSGz4ef5/+n0LdNFiYks2LxIQ7u/K0J60L531iwaCAoAIhriTNqg4whzgAADkH8g9yldIbPh5/n/6fQt00WJiSzYvEhDu78rQnrQvnfWLBoICgAiGuJM2qDjCHOAAAOQfyD3KV0hs+Hn+f/p9C3TRYmJLNi8SEO7vytCetC+d9YsGggKACIa4kzaoOMIc4AAA5B/IPcpXSGz4ef5/+n0LdNFiYks2LxIQ7u/K0J60L531iwaCAoAIhriTNqg4whzgAADkH8g9yldIbPh5/n/6fQt00WJiSzYvEhDu78rQnrQvnfWLBoICgAiGuJM2qDjCHOAAAOQfyD3KV0hs+Hn+f/p9C3TRYmJLNi8SEO7vytCetC+d9YsGggKACIa4kzaoOMIc4AAA5B/IPcpXSGz4ef5/+n0LdNFiYks2LxIQ7u/K0J60L531iwaCAoAIhriTNqg4whzgAADkH8g9yldIbPh5/n/6fQt00WJiSzYvEhDu78rQnrQvnfWLBoICgAiGuJM2qDjCHOAAAOQfyD3KV0hs+Hn+f/p9C3TRYmJLNi8SEO7vytCetC+d9YsGggKACIa4kzaoOMIc4AAA5B/IPcpXSGz4ef5/+n0LdNFiYks2LxIQ7u/K0J60L531iwaCAoAIhriTNqg4whzgAADkH8g9yldIbPh5/n/6fQt00WJiSzYvEhDu78rQnrQvnfWLBoICgAiGuJM2qDjCHOAAAOQfyD3KV0hs+Hn+f/p9C3TRYmJLNi8SEO7vytCetC+d9YsGggKACIa4kzaoOMIc4AAA5B/IPcpXSGz4ef5/+n0LdNFiYks2LxIQ7u/K0J60L531iwaCAoAIhriTNqg4whzgAADkH8g9yldIbPh5/n/6fQt00WJiSzYvEhDu78rQnrQvnfWLBoICgAiGuJM2qDjCHOAAAOQfyD3KV0hs+Hn+f/p9C3TRYmJLNi8SEO7vytCetC+d9YsGggKACIa4kzaoOMIc4AAA5B/IPcpXSGz4ef5/+n0LdNFiYks2LxIQ7u/K0J60L531iwaCAoAIhriTNqg4whzgAADkH8g9yldIbPh5/n/6fQt00WJiSzYvEhDu78rQnrQvnfWLBoICgAiGuJM2qDjCHOAAAOQfyD3KV0hs+Hn+f/p9C3TRYmJLNi8SEO7vytCetC+d9YsGggKACIa4kzaoOMIc4AAA5B/IPcpXSGz4ef5/+n0LdNFiYks2LxIQ7u/K0J60L531iwaCAoAIhriTNqg4whzgAADkH8g9yldIbPh5/n/6fQt00WJiSzYvEhDu78rQnrQvnfWLBoICgAiGuJM2qDjCHOAAAOQfyD3KV0hs+Hn+f/p9C3TRYmJLNi8SEO7vytCetC+d9YsGggKACIa4kzaoOMIc4AAA5B/IPcpXSGz4ef5/+n0LdNFiYks2LxIQ7u/K0J60L531iwaCAoAIhriTNqg4whzgAADkH8g9yldIbPh5/n/6fQt00WJiSzYvEhDu78rQnrQvnfWLBoICgAiGuJM2qDjCHOAAAOQfyD3KV0hs+Hn+f/p9C3TRYmJLNi8SEO7vytCetC+d9YsGggKACIa4kzaoOMIc4AAA5B/IPcpXSGz4ef5/+n0LdNFiYks2LxIQ7u/K0J60L531iwaCAoAIhriTNqg4whzgAADkH8g9yldIbPh5/n/6fQt00WJiSzYvEhDu78rQnrQvnfWLBoICgAiGuJM2qDjCHOAAAOQfyD3KV0hs+Hn/f/p9C3TRYmJLNi8SEO7vytCetC+d9YsGggKACIa4kzaoOMIc4AAA5B/IPcpXSGz4ef5/+n0LdNFiYks2LxIQ7u/K0J60L531iwaCAoAIhriTNqg4whzgAADkH8g9yldIbPh5/n/6fQt00WJiSzYvEhDu78rQnrQvnfWLBoICgAiGuJM2qDjCHOAAAOQfyD3KV0hs+Hn+f/p9C3TRYmJLNi8SEO7vytCetC+d9YsGggKACIa4kzaoOMIc4AAA5B/IPcpXSGz4ef5/+n0LdNFiYks2LxIQ7u/K0J60L531iwaCAoAIhriTNqg4whzgAADkH8g9yldIbPh5/n/6fQt00WJiSzYvEhDu78rQnrQvnfWLBoICgAiGuJM2qDjCHOAAAOQfyD3KV0hs+Hn+f/p9C3TRYmJLNi8SEO7vytCetC+d9YsGggKACIa4kzaoOMIc4AAA5B/IPcpXSGz4ef5/+n0LdNFiYks2LxIQ7u/K0J60L531iwaCAoAIhriTNqg4whzgAADkH8g9yldIbPh5/n/6fQt00WJiSzYvEhDu78rQnrQvnfWLBoICgAiGuJM2qDjCHOAAAOQfyD3KV0hs+Hn+f/p9C3TRYmJLNi8SEO7vytCetC+d9YsGggKACIa4kzaoOMIc4AAA5B/IPcpXSGz4ef5/+n0LdNFiYks2LxIQ7u/K0J60L531iwaCAoAIhriTNqg4whzgAADkH8g9yldIbPh5/n/6fQt00WJiSzYvEhDu78rQnrQvnfWLBoICgAiGuJM2qDjCHOAAAOQfyD3KV0hs+Hn+f/p9C3TRYmJLNi8SEO7vytCetC+d9YsGggKACIa4kzaoOMIc4AAA5B/IPcpXSGz4ef5/+n0LdNFiYks2LxIQ7u/K0J60L531iwaCAoAIhriTNqg4whzgAADkH8g9yldIbPh5/n/6fQt00WJiSzYvEhDu78rQnrQvnfWLBoICgAiGuJM2qDjCHOAAAOQfyD3KV0hs+Hn+f/p9C3TRYmJLNi8SEO7vytCetC+d9YsGggKACIa4kzaoOMIc4AAA5B/IPcpXSGz4ef5/+n0LdNFiYks2LxIQ7u/K0J60L531iwaCAoAIhriTNqg4whzgAADkH8g9yldIbPh5/n/6fQt00WJiSzYvEhDu78rQnrQvnfWLBoICgAiGuJM2qDjCHOAAAOQfyD3KV0hs+Hn+f/p9C3TRYmJLNi8SEO7vytCetC+d9YsGggKACIa4kzaoOMIc4AAA5B/IPcpXSGz4ef5/+n0LdNFiYks2LxIQ7u/K0J60L531iwaCAoAIhriTNqg4whzg\" type=\"audio/wav\" />\n",
       "                    Your browser does not support the audio element.\n",
       "                </audio>\n",
       "              "
      ],
      "text/plain": [
       "<IPython.lib.display.Audio object>"
      ]
     },
     "execution_count": 39,
     "metadata": {},
     "output_type": "execute_result"
    }
   ],
   "source": [
    "%%time\n",
    "\n",
    "catboost = CatBoostRegressor(loss_function='RMSE', random_seed=42)\n",
    "parameters_cat = {'depth':[10], 'learning_rate':np.arange(0.1, 0.8)}\n",
    "catboost_grid = catboost.grid_search(parameters_cat,\n",
    "            Pool(trainX_wo_ohe, trainY_wo_ohe, cat_features=[\"VehicleType\",\"Gearbox\",\n",
    "                                                             \"Model\",\"FuelType\",\n",
    "                                                             \"Brand\",\"Repaired\"]),\n",
    "            cv=3,\n",
    "            partition_random_seed=42,                             \n",
    "            verbose=True,\n",
    "            plot=False)\n",
    "\n",
    "Audio(wave, rate=10000, autoplay=True)"
   ]
  },
  {
   "cell_type": "code",
   "execution_count": 40,
   "metadata": {},
   "outputs": [
    {
     "data": {
      "text/plain": [
       "{'depth': 10, 'learning_rate': 0.1}"
      ]
     },
     "execution_count": 40,
     "metadata": {},
     "output_type": "execute_result"
    }
   ],
   "source": [
    "catboost_grid[\"params\"]\n",
    "# {'depth': 10, 'learning_rate': 0.1}"
   ]
  },
  {
   "cell_type": "code",
   "execution_count": 41,
   "metadata": {},
   "outputs": [
    {
     "data": {
      "text/html": [
       "<div>\n",
       "<style scoped>\n",
       "    .dataframe tbody tr th:only-of-type {\n",
       "        vertical-align: middle;\n",
       "    }\n",
       "\n",
       "    .dataframe tbody tr th {\n",
       "        vertical-align: top;\n",
       "    }\n",
       "\n",
       "    .dataframe thead th {\n",
       "        text-align: right;\n",
       "    }\n",
       "</style>\n",
       "<table border=\"1\" class=\"dataframe\">\n",
       "  <thead>\n",
       "    <tr style=\"text-align: right;\">\n",
       "      <th></th>\n",
       "      <th>iterations</th>\n",
       "      <th>test-RMSE-mean</th>\n",
       "      <th>test-RMSE-std</th>\n",
       "      <th>train-RMSE-mean</th>\n",
       "      <th>train-RMSE-std</th>\n",
       "    </tr>\n",
       "  </thead>\n",
       "  <tbody>\n",
       "    <tr>\n",
       "      <th>999</th>\n",
       "      <td>999</td>\n",
       "      <td>1534.973538</td>\n",
       "      <td>5.548693</td>\n",
       "      <td>1284.429503</td>\n",
       "      <td>0.676068</td>\n",
       "    </tr>\n",
       "  </tbody>\n",
       "</table>\n",
       "</div>"
      ],
      "text/plain": [
       "     iterations  test-RMSE-mean  test-RMSE-std  train-RMSE-mean  \\\n",
       "999         999     1534.973538       5.548693      1284.429503   \n",
       "\n",
       "     train-RMSE-std  \n",
       "999        0.676068  "
      ]
     },
     "execution_count": 41,
     "metadata": {},
     "output_type": "execute_result"
    }
   ],
   "source": [
    "results = pd.DataFrame(catboost_grid['cv_results'])\n",
    "results.sort_values(by='test-RMSE-mean', ascending=True)[0:1]\n",
    "#rmse = np.min(results['test-RMSE-mean'])"
   ]
  },
  {
   "cell_type": "markdown",
   "metadata": {},
   "source": [
    "Проверим время обучения с найденными параметрами для каждой модели"
   ]
  },
  {
   "cell_type": "code",
   "execution_count": 42,
   "metadata": {
    "scrolled": true
   },
   "outputs": [
    {
     "name": "stdout",
     "output_type": "stream",
     "text": [
      "0:\tlearn: 4239.2854701\ttotal: 389ms\tremaining: 6m 28s\n",
      "100:\tlearn: 1587.2148899\ttotal: 32s\tremaining: 4m 45s\n",
      "200:\tlearn: 1513.5185161\ttotal: 1m 2s\tremaining: 4m 8s\n",
      "300:\tlearn: 1466.4412847\ttotal: 1m 36s\tremaining: 3m 43s\n",
      "400:\tlearn: 1433.5689022\ttotal: 2m 10s\tremaining: 3m 14s\n",
      "500:\tlearn: 1404.7981559\ttotal: 2m 44s\tremaining: 2m 43s\n",
      "600:\tlearn: 1385.1619073\ttotal: 3m 19s\tremaining: 2m 12s\n",
      "700:\tlearn: 1364.4367890\ttotal: 3m 52s\tremaining: 1m 39s\n",
      "800:\tlearn: 1348.2594814\ttotal: 4m 28s\tremaining: 1m 6s\n",
      "900:\tlearn: 1333.4693610\ttotal: 5m 2s\tremaining: 33.2s\n",
      "999:\tlearn: 1319.1545371\ttotal: 5m 37s\tremaining: 0us\n",
      "CPU times: user 5min 37s, sys: 1.59 s, total: 5min 39s\n",
      "Wall time: 5min 40s\n"
     ]
    },
    {
     "data": {
      "text/html": [
       "\n",
       "                <audio  controls=\"controls\" autoplay=\"autoplay\">\n",
       "                    <source src=\"data:audio/wav;base64,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\" type=\"audio/wav\" />\n",
       "                    Your browser does not support the audio element.\n",
       "                </audio>\n",
       "              "
      ],
      "text/plain": [
       "<IPython.lib.display.Audio object>"
      ]
     },
     "execution_count": 42,
     "metadata": {},
     "output_type": "execute_result"
    }
   ],
   "source": [
    "%%time\n",
    "final_cat = CatBoostRegressor(depth=catboost_grid[\"params\"][\"depth\"], \n",
    "                              learning_rate=catboost_grid[\"params\"]['learning_rate'],\n",
    "                              loss_function='RMSE',verbose=100)\n",
    "final_cat.fit(Pool(trainX_wo_ohe,trainY_wo_ohe,\n",
    "                   cat_features=[\"VehicleType\",\"Gearbox\",\"Model\",\"FuelType\",\"Brand\",\"Repaired\"]))\n",
    "\n",
    "Audio(wave, rate=10000, autoplay=True)\n"
   ]
  },
  {
   "cell_type": "markdown",
   "metadata": {},
   "source": [
    "#### RandomForest"
   ]
  },
  {
   "cell_type": "code",
   "execution_count": 44,
   "metadata": {},
   "outputs": [
    {
     "name": "stdout",
     "output_type": "stream",
     "text": [
      "CPU times: user 57min 13s, sys: 19.7 s, total: 57min 33s\n",
      "Wall time: 57min 35s\n"
     ]
    },
    {
     "data": {
      "text/html": [
       "\n",
       "                <audio  controls=\"controls\" autoplay=\"autoplay\">\n",
       "                    <source src=\"data:audio/wav;base64,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\" type=\"audio/wav\" />\n",
       "                    Your browser does not support the audio element.\n",
       "                </audio>\n",
       "              "
      ],
      "text/plain": [
       "<IPython.lib.display.Audio object>"
      ]
     },
     "execution_count": 44,
     "metadata": {},
     "output_type": "execute_result"
    }
   ],
   "source": [
    "%%time\n",
    "\n",
    "#авоматизизированный перебор параметров для проверки результата с помощью GridSearchCV\n",
    "\n",
    "\n",
    "model_RandForest_t = RandomForestRegressor(random_state = 42)\n",
    "\n",
    "#Параметры для GridSearch\n",
    "parametrs_grid = {'n_estimators': [49, 50],'max_depth' : [49, 50]}\n",
    "\n",
    "grid_cv = GridSearchCV(model_RandForest_t, parametrs_grid)\n",
    "\n",
    "grid_cv.fit(trainX, trainY)\n",
    "\n",
    "Audio(wave, rate=10000, autoplay=True)"
   ]
  },
  {
   "cell_type": "code",
   "execution_count": 45,
   "metadata": {},
   "outputs": [
    {
     "data": {
      "text/plain": [
       "{'max_depth': 50, 'n_estimators': 50}"
      ]
     },
     "execution_count": 45,
     "metadata": {},
     "output_type": "execute_result"
    }
   ],
   "source": [
    "grid_cv.best_params_\n",
    "#{'max_depth': 50, 'n_estimators': 50}\n",
    "\n",
    "#grid_cv.best_score_\n",
    "#0.8816496602808144"
   ]
  },
  {
   "cell_type": "code",
   "execution_count": 46,
   "metadata": {
    "scrolled": false
   },
   "outputs": [
    {
     "data": {
      "text/html": [
       "<div>\n",
       "<style scoped>\n",
       "    .dataframe tbody tr th:only-of-type {\n",
       "        vertical-align: middle;\n",
       "    }\n",
       "\n",
       "    .dataframe tbody tr th {\n",
       "        vertical-align: top;\n",
       "    }\n",
       "\n",
       "    .dataframe thead th {\n",
       "        text-align: right;\n",
       "    }\n",
       "</style>\n",
       "<table border=\"1\" class=\"dataframe\">\n",
       "  <thead>\n",
       "    <tr style=\"text-align: right;\">\n",
       "      <th></th>\n",
       "      <th>mean_fit_time</th>\n",
       "      <th>std_fit_time</th>\n",
       "      <th>mean_score_time</th>\n",
       "      <th>std_score_time</th>\n",
       "      <th>param_max_depth</th>\n",
       "      <th>param_n_estimators</th>\n",
       "      <th>params</th>\n",
       "      <th>split0_test_score</th>\n",
       "      <th>split1_test_score</th>\n",
       "      <th>split2_test_score</th>\n",
       "      <th>split3_test_score</th>\n",
       "      <th>split4_test_score</th>\n",
       "      <th>mean_test_score</th>\n",
       "      <th>std_test_score</th>\n",
       "      <th>rank_test_score</th>\n",
       "    </tr>\n",
       "  </thead>\n",
       "  <tbody>\n",
       "    <tr>\n",
       "      <th>0</th>\n",
       "      <td>160.486678</td>\n",
       "      <td>4.158870</td>\n",
       "      <td>1.126061</td>\n",
       "      <td>0.045127</td>\n",
       "      <td>49</td>\n",
       "      <td>49</td>\n",
       "      <td>{'max_depth': 49, 'n_estimators': 49}</td>\n",
       "      <td>0.885880</td>\n",
       "      <td>0.883097</td>\n",
       "      <td>0.878260</td>\n",
       "      <td>0.880034</td>\n",
       "      <td>0.880741</td>\n",
       "      <td>0.881602</td>\n",
       "      <td>0.002642</td>\n",
       "      <td>4</td>\n",
       "    </tr>\n",
       "    <tr>\n",
       "      <th>1</th>\n",
       "      <td>159.738715</td>\n",
       "      <td>3.330507</td>\n",
       "      <td>1.152224</td>\n",
       "      <td>0.017295</td>\n",
       "      <td>49</td>\n",
       "      <td>50</td>\n",
       "      <td>{'max_depth': 49, 'n_estimators': 50}</td>\n",
       "      <td>0.885925</td>\n",
       "      <td>0.883074</td>\n",
       "      <td>0.878303</td>\n",
       "      <td>0.880056</td>\n",
       "      <td>0.880675</td>\n",
       "      <td>0.881606</td>\n",
       "      <td>0.002645</td>\n",
       "      <td>3</td>\n",
       "    </tr>\n",
       "    <tr>\n",
       "      <th>2</th>\n",
       "      <td>165.099127</td>\n",
       "      <td>3.498152</td>\n",
       "      <td>1.188185</td>\n",
       "      <td>0.036536</td>\n",
       "      <td>50</td>\n",
       "      <td>49</td>\n",
       "      <td>{'max_depth': 50, 'n_estimators': 49}</td>\n",
       "      <td>0.885764</td>\n",
       "      <td>0.883079</td>\n",
       "      <td>0.878364</td>\n",
       "      <td>0.880153</td>\n",
       "      <td>0.880841</td>\n",
       "      <td>0.881640</td>\n",
       "      <td>0.002556</td>\n",
       "      <td>2</td>\n",
       "    </tr>\n",
       "    <tr>\n",
       "      <th>3</th>\n",
       "      <td>159.652383</td>\n",
       "      <td>2.028951</td>\n",
       "      <td>1.147343</td>\n",
       "      <td>0.016121</td>\n",
       "      <td>50</td>\n",
       "      <td>50</td>\n",
       "      <td>{'max_depth': 50, 'n_estimators': 50}</td>\n",
       "      <td>0.885819</td>\n",
       "      <td>0.883089</td>\n",
       "      <td>0.878390</td>\n",
       "      <td>0.880187</td>\n",
       "      <td>0.880763</td>\n",
       "      <td>0.881650</td>\n",
       "      <td>0.002569</td>\n",
       "      <td>1</td>\n",
       "    </tr>\n",
       "  </tbody>\n",
       "</table>\n",
       "</div>"
      ],
      "text/plain": [
       "   mean_fit_time  std_fit_time  mean_score_time  std_score_time  \\\n",
       "0     160.486678      4.158870         1.126061        0.045127   \n",
       "1     159.738715      3.330507         1.152224        0.017295   \n",
       "2     165.099127      3.498152         1.188185        0.036536   \n",
       "3     159.652383      2.028951         1.147343        0.016121   \n",
       "\n",
       "  param_max_depth param_n_estimators                                 params  \\\n",
       "0              49                 49  {'max_depth': 49, 'n_estimators': 49}   \n",
       "1              49                 50  {'max_depth': 49, 'n_estimators': 50}   \n",
       "2              50                 49  {'max_depth': 50, 'n_estimators': 49}   \n",
       "3              50                 50  {'max_depth': 50, 'n_estimators': 50}   \n",
       "\n",
       "   split0_test_score  split1_test_score  split2_test_score  split3_test_score  \\\n",
       "0           0.885880           0.883097           0.878260           0.880034   \n",
       "1           0.885925           0.883074           0.878303           0.880056   \n",
       "2           0.885764           0.883079           0.878364           0.880153   \n",
       "3           0.885819           0.883089           0.878390           0.880187   \n",
       "\n",
       "   split4_test_score  mean_test_score  std_test_score  rank_test_score  \n",
       "0           0.880741         0.881602        0.002642                4  \n",
       "1           0.880675         0.881606        0.002645                3  \n",
       "2           0.880841         0.881640        0.002556                2  \n",
       "3           0.880763         0.881650        0.002569                1  "
      ]
     },
     "metadata": {},
     "output_type": "display_data"
    },
    {
     "data": {
      "text/html": [
       "<div>\n",
       "<style scoped>\n",
       "    .dataframe tbody tr th:only-of-type {\n",
       "        vertical-align: middle;\n",
       "    }\n",
       "\n",
       "    .dataframe tbody tr th {\n",
       "        vertical-align: top;\n",
       "    }\n",
       "\n",
       "    .dataframe thead th {\n",
       "        text-align: right;\n",
       "    }\n",
       "</style>\n",
       "<table border=\"1\" class=\"dataframe\">\n",
       "  <thead>\n",
       "    <tr style=\"text-align: right;\">\n",
       "      <th></th>\n",
       "      <th>mean_fit_time</th>\n",
       "      <th>std_fit_time</th>\n",
       "      <th>mean_score_time</th>\n",
       "      <th>std_score_time</th>\n",
       "      <th>param_max_depth</th>\n",
       "      <th>param_n_estimators</th>\n",
       "      <th>params</th>\n",
       "      <th>split0_test_score</th>\n",
       "      <th>split1_test_score</th>\n",
       "      <th>split2_test_score</th>\n",
       "      <th>split3_test_score</th>\n",
       "      <th>split4_test_score</th>\n",
       "      <th>mean_test_score</th>\n",
       "      <th>std_test_score</th>\n",
       "      <th>rank_test_score</th>\n",
       "    </tr>\n",
       "  </thead>\n",
       "  <tbody>\n",
       "    <tr>\n",
       "      <th>3</th>\n",
       "      <td>159.652383</td>\n",
       "      <td>2.028951</td>\n",
       "      <td>1.147343</td>\n",
       "      <td>0.016121</td>\n",
       "      <td>50</td>\n",
       "      <td>50</td>\n",
       "      <td>{'max_depth': 50, 'n_estimators': 50}</td>\n",
       "      <td>0.885819</td>\n",
       "      <td>0.883089</td>\n",
       "      <td>0.87839</td>\n",
       "      <td>0.880187</td>\n",
       "      <td>0.880763</td>\n",
       "      <td>0.88165</td>\n",
       "      <td>0.002569</td>\n",
       "      <td>1</td>\n",
       "    </tr>\n",
       "  </tbody>\n",
       "</table>\n",
       "</div>"
      ],
      "text/plain": [
       "   mean_fit_time  std_fit_time  mean_score_time  std_score_time  \\\n",
       "3     159.652383      2.028951         1.147343        0.016121   \n",
       "\n",
       "  param_max_depth param_n_estimators                                 params  \\\n",
       "3              50                 50  {'max_depth': 50, 'n_estimators': 50}   \n",
       "\n",
       "   split0_test_score  split1_test_score  split2_test_score  split3_test_score  \\\n",
       "3           0.885819           0.883089            0.87839           0.880187   \n",
       "\n",
       "   split4_test_score  mean_test_score  std_test_score  rank_test_score  \n",
       "3           0.880763          0.88165        0.002569                1  "
      ]
     },
     "metadata": {},
     "output_type": "display_data"
    },
    {
     "name": "stdout",
     "output_type": "stream",
     "text": [
      "Fit time: 159.6523832321167, predict time:1.147342824935913\n"
     ]
    }
   ],
   "source": [
    "results = pd.DataFrame(grid_cv.cv_results_)\n",
    "display(results)\n",
    "display(results[results['rank_test_score'] == 1])\n",
    "fit_time = results[results['rank_test_score'] == 1]['mean_fit_time'].values[0]\n",
    "predict_time = results[results['rank_test_score'] == 1]['mean_score_time'].values[0]\n",
    "print(f'Fit time: {fit_time}, predict time:{predict_time}')"
   ]
  },
  {
   "cell_type": "markdown",
   "metadata": {},
   "source": [
    "#### LightGBM "
   ]
  },
  {
   "cell_type": "code",
   "execution_count": 48,
   "metadata": {},
   "outputs": [
    {
     "name": "stdout",
     "output_type": "stream",
     "text": [
      "Fitting 3 folds for each of 1 candidates, totalling 3 fits\n",
      "[CV 1/3; 1/1] START learning_rate=0.1, max_depth=10.............................\n",
      "[CV 1/3; 1/1] END ...........learning_rate=0.1, max_depth=10; total time=   7.4s\n",
      "[CV 2/3; 1/1] START learning_rate=0.1, max_depth=10.............................\n",
      "[CV 2/3; 1/1] END ...........learning_rate=0.1, max_depth=10; total time=   4.7s\n",
      "[CV 3/3; 1/1] START learning_rate=0.1, max_depth=10.............................\n",
      "[CV 3/3; 1/1] END ...........learning_rate=0.1, max_depth=10; total time=   4.5s\n",
      "best params\n",
      " {'learning_rate': 0.1, 'max_depth': 10}\n",
      "CPU times: user 21.1 s, sys: 144 ms, total: 21.2 s\n",
      "Wall time: 21.4 s\n"
     ]
    },
    {
     "data": {
      "text/html": [
       "\n",
       "                <audio  controls=\"controls\" autoplay=\"autoplay\">\n",
       "                    <source src=\"data:audio/wav;base64,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\" type=\"audio/wav\" />\n",
       "                    Your browser does not support the audio element.\n",
       "                </audio>\n",
       "              "
      ],
      "text/plain": [
       "<IPython.lib.display.Audio object>"
      ]
     },
     "execution_count": 48,
     "metadata": {},
     "output_type": "execute_result"
    }
   ],
   "source": [
    "%%time\n",
    "\n",
    "#Параметры для GridSearch\n",
    "param_grid = {'max_depth':[10],\n",
    "              'learning_rate': [0.1],\n",
    "              }\n",
    "\n",
    "model_lightgbm = lgb.LGBMRegressor(random_state = 42)\n",
    "                                  \n",
    "\n",
    "lgb_grid_cv = GridSearchCV(model_lightgbm,\\\n",
    "                               param_grid = param_grid,\\\n",
    "                               n_jobs=1,\\\n",
    "                               verbose=10,\\\n",
    "                               cv=3)\n",
    "\n",
    "lgb_grid_cv.fit(trainX_wo_ohe_light, trainY_wo_ohe_light)\n",
    "\n",
    "print('best params\\n', lgb_grid_cv.best_params_)\n",
    "#best params {'learning_rate': 0.1, 'max_depth': 10}\n",
    "\n",
    "# parametrs_grid = {'n_estimators': np.arange(37, 45),\n",
    "#                   'max_depth' : np.arange(2, 10), \n",
    "#                   'learning_rate' : [0.1, 0.8]}\n",
    "\n",
    "\n",
    "Audio(wave, rate=10000, autoplay=True)\n",
    "\n"
   ]
  },
  {
   "cell_type": "code",
   "execution_count": 69,
   "metadata": {
    "scrolled": true
   },
   "outputs": [
    {
     "data": {
      "text/html": [
       "<div>\n",
       "<style scoped>\n",
       "    .dataframe tbody tr th:only-of-type {\n",
       "        vertical-align: middle;\n",
       "    }\n",
       "\n",
       "    .dataframe tbody tr th {\n",
       "        vertical-align: top;\n",
       "    }\n",
       "\n",
       "    .dataframe thead th {\n",
       "        text-align: right;\n",
       "    }\n",
       "</style>\n",
       "<table border=\"1\" class=\"dataframe\">\n",
       "  <thead>\n",
       "    <tr style=\"text-align: right;\">\n",
       "      <th></th>\n",
       "      <th>mean_fit_time</th>\n",
       "      <th>std_fit_time</th>\n",
       "      <th>mean_score_time</th>\n",
       "      <th>std_score_time</th>\n",
       "      <th>param_learning_rate</th>\n",
       "      <th>param_max_depth</th>\n",
       "      <th>params</th>\n",
       "      <th>split0_test_score</th>\n",
       "      <th>split1_test_score</th>\n",
       "      <th>split2_test_score</th>\n",
       "      <th>mean_test_score</th>\n",
       "      <th>std_test_score</th>\n",
       "      <th>rank_test_score</th>\n",
       "    </tr>\n",
       "  </thead>\n",
       "  <tbody>\n",
       "    <tr>\n",
       "      <th>0</th>\n",
       "      <td>4.781945</td>\n",
       "      <td>1.264471</td>\n",
       "      <td>0.742129</td>\n",
       "      <td>0.040491</td>\n",
       "      <td>0.1</td>\n",
       "      <td>10</td>\n",
       "      <td>{'learning_rate': 0.1, 'max_depth': 10}</td>\n",
       "      <td>0.88091</td>\n",
       "      <td>0.874954</td>\n",
       "      <td>0.878931</td>\n",
       "      <td>0.878265</td>\n",
       "      <td>0.002476</td>\n",
       "      <td>1</td>\n",
       "    </tr>\n",
       "  </tbody>\n",
       "</table>\n",
       "</div>"
      ],
      "text/plain": [
       "   mean_fit_time  std_fit_time  mean_score_time  std_score_time  \\\n",
       "0       4.781945      1.264471         0.742129        0.040491   \n",
       "\n",
       "  param_learning_rate param_max_depth  \\\n",
       "0                 0.1              10   \n",
       "\n",
       "                                    params  split0_test_score  \\\n",
       "0  {'learning_rate': 0.1, 'max_depth': 10}            0.88091   \n",
       "\n",
       "   split1_test_score  split2_test_score  mean_test_score  std_test_score  \\\n",
       "0           0.874954           0.878931         0.878265        0.002476   \n",
       "\n",
       "   rank_test_score  \n",
       "0                1  "
      ]
     },
     "metadata": {},
     "output_type": "display_data"
    },
    {
     "data": {
      "text/html": [
       "<div>\n",
       "<style scoped>\n",
       "    .dataframe tbody tr th:only-of-type {\n",
       "        vertical-align: middle;\n",
       "    }\n",
       "\n",
       "    .dataframe tbody tr th {\n",
       "        vertical-align: top;\n",
       "    }\n",
       "\n",
       "    .dataframe thead th {\n",
       "        text-align: right;\n",
       "    }\n",
       "</style>\n",
       "<table border=\"1\" class=\"dataframe\">\n",
       "  <thead>\n",
       "    <tr style=\"text-align: right;\">\n",
       "      <th></th>\n",
       "      <th>mean_fit_time</th>\n",
       "      <th>std_fit_time</th>\n",
       "      <th>mean_score_time</th>\n",
       "      <th>std_score_time</th>\n",
       "      <th>param_learning_rate</th>\n",
       "      <th>param_max_depth</th>\n",
       "      <th>params</th>\n",
       "      <th>split0_test_score</th>\n",
       "      <th>split1_test_score</th>\n",
       "      <th>split2_test_score</th>\n",
       "      <th>mean_test_score</th>\n",
       "      <th>std_test_score</th>\n",
       "      <th>rank_test_score</th>\n",
       "    </tr>\n",
       "  </thead>\n",
       "  <tbody>\n",
       "    <tr>\n",
       "      <th>0</th>\n",
       "      <td>4.781945</td>\n",
       "      <td>1.264471</td>\n",
       "      <td>0.742129</td>\n",
       "      <td>0.040491</td>\n",
       "      <td>0.1</td>\n",
       "      <td>10</td>\n",
       "      <td>{'learning_rate': 0.1, 'max_depth': 10}</td>\n",
       "      <td>0.88091</td>\n",
       "      <td>0.874954</td>\n",
       "      <td>0.878931</td>\n",
       "      <td>0.878265</td>\n",
       "      <td>0.002476</td>\n",
       "      <td>1</td>\n",
       "    </tr>\n",
       "  </tbody>\n",
       "</table>\n",
       "</div>"
      ],
      "text/plain": [
       "   mean_fit_time  std_fit_time  mean_score_time  std_score_time  \\\n",
       "0       4.781945      1.264471         0.742129        0.040491   \n",
       "\n",
       "  param_learning_rate param_max_depth  \\\n",
       "0                 0.1              10   \n",
       "\n",
       "                                    params  split0_test_score  \\\n",
       "0  {'learning_rate': 0.1, 'max_depth': 10}            0.88091   \n",
       "\n",
       "   split1_test_score  split2_test_score  mean_test_score  std_test_score  \\\n",
       "0           0.874954           0.878931         0.878265        0.002476   \n",
       "\n",
       "   rank_test_score  \n",
       "0                1  "
      ]
     },
     "metadata": {},
     "output_type": "display_data"
    },
    {
     "name": "stdout",
     "output_type": "stream",
     "text": [
      "Fit time: 4.78194530804952, predict time:0.742129405339559\n"
     ]
    },
    {
     "data": {
      "text/plain": [
       "0.8782647915720463"
      ]
     },
     "execution_count": 69,
     "metadata": {},
     "output_type": "execute_result"
    }
   ],
   "source": [
    "results = pd.DataFrame(lgb_grid_cv.cv_results_)\n",
    "display(results)\n",
    "display(results[results['rank_test_score'] == 1])\n",
    "fit_time = results[results['rank_test_score'] == 1]['mean_fit_time'].values[0]\n",
    "predict_time = results[results['rank_test_score'] == 1]['mean_score_time'].values[0]\n",
    "print(f'Fit time: {fit_time}, predict time:{predict_time}')\n",
    "\n",
    "lgb_grid_cv.best_score_\n",
    "# 0.8782647915720463"
   ]
  },
  {
   "cell_type": "code",
   "execution_count": 78,
   "metadata": {},
   "outputs": [
    {
     "name": "stdout",
     "output_type": "stream",
     "text": [
      "Лучшую из этих двух моделей савним с catboost:\n"
     ]
    },
    {
     "data": {
      "text/html": [
       "<div>\n",
       "<style scoped>\n",
       "    .dataframe tbody tr th:only-of-type {\n",
       "        vertical-align: middle;\n",
       "    }\n",
       "\n",
       "    .dataframe tbody tr th {\n",
       "        vertical-align: top;\n",
       "    }\n",
       "\n",
       "    .dataframe thead th {\n",
       "        text-align: right;\n",
       "    }\n",
       "</style>\n",
       "<table border=\"1\" class=\"dataframe\">\n",
       "  <thead>\n",
       "    <tr style=\"text-align: right;\">\n",
       "      <th></th>\n",
       "      <th>Модель</th>\n",
       "      <th>Fit time</th>\n",
       "      <th>Predict time</th>\n",
       "      <th>Best score</th>\n",
       "    </tr>\n",
       "  </thead>\n",
       "  <tbody>\n",
       "    <tr>\n",
       "      <th>0</th>\n",
       "      <td>Random Forest</td>\n",
       "      <td>159.65</td>\n",
       "      <td>1.140</td>\n",
       "      <td>0.881</td>\n",
       "    </tr>\n",
       "    <tr>\n",
       "      <th>1</th>\n",
       "      <td>LGBM</td>\n",
       "      <td>4.78</td>\n",
       "      <td>0.742</td>\n",
       "      <td>0.878</td>\n",
       "    </tr>\n",
       "  </tbody>\n",
       "</table>\n",
       "</div>"
      ],
      "text/plain": [
       "          Модель  Fit time  Predict time  Best score\n",
       "0  Random Forest    159.65         1.140       0.881\n",
       "1           LGBM      4.78         0.742       0.878"
      ]
     },
     "metadata": {},
     "output_type": "display_data"
    }
   ],
   "source": [
    "score = {'Модель':['Random Forest', 'LGBM'], 'Fit time':[159.65, 4.78], \n",
    "        'Predict time':[1.14, 0.742], 'Best score':[0.881,  0.878]} \n",
    "\n",
    "df_score = pd.DataFrame(score) \n",
    "print('Лучшую из этих двух моделей савним с catboost:')\n",
    "display(df_score)\n",
    "\n",
    "#{'learn': {'RMSE': 1319.1545370670383}}\n",
    "#1319.15, 337 секунд"
   ]
  },
  {
   "cell_type": "markdown",
   "metadata": {},
   "source": [
    "Посчитаем ошибку  и определим время предсказаний"
   ]
  },
  {
   "cell_type": "code",
   "execution_count": 79,
   "metadata": {},
   "outputs": [
    {
     "name": "stdout",
     "output_type": "stream",
     "text": [
      "CatBoost: 1507.072082556892\n",
      "CPU times: user 1.16 s, sys: 7.98 ms, total: 1.17 s\n",
      "Wall time: 1.16 s\n"
     ]
    }
   ],
   "source": [
    "\n",
    "%%time\n",
    "print(\"CatBoost:\",mean_squared_error(testY,final_cat.predict(testX_wo_ohe),squared=False))\n",
    "\n"
   ]
  },
  {
   "cell_type": "code",
   "execution_count": 80,
   "metadata": {
    "scrolled": true
   },
   "outputs": [
    {
     "name": "stdout",
     "output_type": "stream",
     "text": [
      "LightGBM: 1583.4523899866479\n",
      "CPU times: user 783 ms, sys: 7.68 ms, total: 790 ms\n",
      "Wall time: 742 ms\n"
     ]
    }
   ],
   "source": [
    "%%time\n",
    "print(\"LightGBM:\",(mean_squared_error(testY,lgb_grid_cv.predict(testX_wo_ohe_light),squared=False)))\n",
    "\n"
   ]
  },
  {
   "cell_type": "markdown",
   "metadata": {},
   "source": [
    "## Анализ моделей"
   ]
  },
  {
   "cell_type": "markdown",
   "metadata": {},
   "source": [
    "Исходя из полученных результатов можно сделать вывод, что: \n",
    "* CatBoost: среднеквадратичная ошибка - 1319.15, на тренировку данной модели ушло 5min 37\n",
    "* Случайный лес: тренеруется очень долго, fit time в 159.65, что в ~ 30 раз выше, чем у LightGBM 4.78, при этом метрика best_score - 0.881, что чуть лучше, чем у LightGBG - 0.878, в силу чего RMSE у случайного леса - 1539.61.\n",
    "* LightGBM: RMSE - 1583.45, на тренировку ушло 21.1s c. \n",
    "<br><br>\n",
    "\n",
    "* RMSE моделей CatBoost и LightGBM почти совпадают, но CatBoost тренировался быстрее всех.(если смотреть без времени затраченного на подбор оптимальных параметров для CatBoost)\n",
    "<br><br>\n",
    "\n",
    "Согласно поставленным условиям, решающим факторами при выборе модели являются следующие показатели:\n",
    "\n",
    "* Время обучения\n",
    "* Время предсказания\n",
    "* Качество предсказаний\n",
    "<br><br>\n",
    "Таким образом, если для наших задач важнее всего время - наш выбор - LightGMB, она обходит CatBoost по двум критериям из трех.\n",
    "Однако, если нужна точность - лучше заряжать CatBoost. \n",
    "<br><br>\n",
    "\n",
    "* **И победителем объявляется: LightGMB!**"
   ]
  }
 ],
 "metadata": {
  "ExecuteTimeLog": [
   {
    "duration": 1853,
    "start_time": "2022-12-08T05:59:04.509Z"
   },
   {
    "duration": 3503,
    "start_time": "2022-12-08T06:01:14.364Z"
   },
   {
    "duration": 24,
    "start_time": "2022-12-08T06:01:26.417Z"
   },
   {
    "duration": 115,
    "start_time": "2022-12-08T06:01:49.767Z"
   },
   {
    "duration": 108,
    "start_time": "2022-12-08T06:02:56.172Z"
   },
   {
    "duration": 127,
    "start_time": "2022-12-08T06:03:10.070Z"
   },
   {
    "duration": 155,
    "start_time": "2022-12-08T06:03:26.362Z"
   },
   {
    "duration": 605,
    "start_time": "2022-12-08T06:04:18.916Z"
   },
   {
    "duration": 118,
    "start_time": "2022-12-08T06:04:47.171Z"
   },
   {
    "duration": 117,
    "start_time": "2022-12-08T06:13:34.107Z"
   },
   {
    "duration": 116,
    "start_time": "2022-12-08T06:14:32.475Z"
   },
   {
    "duration": 119,
    "start_time": "2022-12-08T06:14:42.024Z"
   },
   {
    "duration": 21,
    "start_time": "2022-12-08T06:14:59.442Z"
   },
   {
    "duration": 67,
    "start_time": "2022-12-08T06:17:05.649Z"
   },
   {
    "duration": 9,
    "start_time": "2022-12-08T06:17:12.327Z"
   },
   {
    "duration": 14,
    "start_time": "2022-12-08T06:22:40.656Z"
   },
   {
    "duration": 30,
    "start_time": "2022-12-08T06:22:54.565Z"
   },
   {
    "duration": 30,
    "start_time": "2022-12-08T06:23:39.567Z"
   },
   {
    "duration": 307,
    "start_time": "2022-12-08T06:27:22.884Z"
   },
   {
    "duration": 52,
    "start_time": "2022-12-08T06:28:00.419Z"
   },
   {
    "duration": 73,
    "start_time": "2022-12-08T06:28:30.055Z"
   },
   {
    "duration": 117,
    "start_time": "2022-12-08T06:29:31.617Z"
   },
   {
    "duration": 10,
    "start_time": "2022-12-08T06:30:06.034Z"
   },
   {
    "duration": 13,
    "start_time": "2022-12-08T06:30:25.473Z"
   },
   {
    "duration": 7,
    "start_time": "2022-12-08T06:30:31.988Z"
   },
   {
    "duration": 6,
    "start_time": "2022-12-08T06:30:56.488Z"
   },
   {
    "duration": 9,
    "start_time": "2022-12-08T06:31:09.944Z"
   },
   {
    "duration": 6,
    "start_time": "2022-12-08T06:31:33.590Z"
   },
   {
    "duration": 11,
    "start_time": "2022-12-08T06:32:47.422Z"
   },
   {
    "duration": 61,
    "start_time": "2022-12-08T06:32:52.849Z"
   },
   {
    "duration": 10,
    "start_time": "2022-12-08T06:34:30.834Z"
   },
   {
    "duration": 24,
    "start_time": "2022-12-08T06:34:40.500Z"
   },
   {
    "duration": 14,
    "start_time": "2022-12-08T06:36:44.251Z"
   },
   {
    "duration": 318,
    "start_time": "2022-12-08T06:37:16.772Z"
   },
   {
    "duration": 31,
    "start_time": "2022-12-08T06:37:24.335Z"
   },
   {
    "duration": 119,
    "start_time": "2022-12-08T06:38:23.473Z"
   },
   {
    "duration": 20,
    "start_time": "2022-12-08T06:38:55.574Z"
   },
   {
    "duration": 100,
    "start_time": "2022-12-08T06:40:17.447Z"
   },
   {
    "duration": 89,
    "start_time": "2022-12-08T06:40:32.494Z"
   },
   {
    "duration": 270,
    "start_time": "2022-12-08T06:47:07.053Z"
   },
   {
    "duration": 1695,
    "start_time": "2022-12-08T06:48:34.760Z"
   },
   {
    "duration": 20,
    "start_time": "2022-12-08T06:52:38.923Z"
   },
   {
    "duration": 12,
    "start_time": "2022-12-08T06:58:54.400Z"
   },
   {
    "duration": 39,
    "start_time": "2022-12-08T06:59:01.638Z"
   },
   {
    "duration": 36,
    "start_time": "2022-12-08T07:00:07.234Z"
   },
   {
    "duration": 3670,
    "start_time": "2022-12-08T07:01:13.537Z"
   },
   {
    "duration": 107,
    "start_time": "2022-12-08T07:01:55.094Z"
   },
   {
    "duration": 403,
    "start_time": "2022-12-08T07:02:17.755Z"
   },
   {
    "duration": 29,
    "start_time": "2022-12-08T07:25:50.767Z"
   },
   {
    "duration": 16,
    "start_time": "2022-12-08T07:26:00.038Z"
   },
   {
    "duration": 13,
    "start_time": "2022-12-08T07:26:11.113Z"
   },
   {
    "duration": 15,
    "start_time": "2022-12-08T07:26:29.217Z"
   },
   {
    "duration": 1469,
    "start_time": "2022-12-08T07:26:37.620Z"
   },
   {
    "duration": 889,
    "start_time": "2022-12-08T07:26:39.091Z"
   },
   {
    "duration": 16,
    "start_time": "2022-12-08T07:26:39.982Z"
   },
   {
    "duration": 151,
    "start_time": "2022-12-08T07:26:40.000Z"
   },
   {
    "duration": 523,
    "start_time": "2022-12-08T07:26:40.153Z"
   },
   {
    "duration": 108,
    "start_time": "2022-12-08T07:26:40.678Z"
   },
   {
    "duration": 13,
    "start_time": "2022-12-08T07:26:40.788Z"
   },
   {
    "duration": 60,
    "start_time": "2022-12-08T07:26:40.802Z"
   },
   {
    "duration": 28,
    "start_time": "2022-12-08T07:26:40.864Z"
   },
   {
    "duration": 20,
    "start_time": "2022-12-08T07:26:40.894Z"
   },
   {
    "duration": 7,
    "start_time": "2022-12-08T07:26:40.915Z"
   },
   {
    "duration": 82,
    "start_time": "2022-12-08T07:26:40.923Z"
   },
   {
    "duration": 25,
    "start_time": "2022-12-08T07:26:41.007Z"
   },
   {
    "duration": 783,
    "start_time": "2022-12-08T07:26:41.035Z"
   },
   {
    "duration": 0,
    "start_time": "2022-12-08T07:26:41.820Z"
   },
   {
    "duration": 0,
    "start_time": "2022-12-08T07:26:41.821Z"
   },
   {
    "duration": 0,
    "start_time": "2022-12-08T07:26:41.822Z"
   },
   {
    "duration": 0,
    "start_time": "2022-12-08T07:26:41.823Z"
   },
   {
    "duration": 0,
    "start_time": "2022-12-08T07:26:41.824Z"
   },
   {
    "duration": 0,
    "start_time": "2022-12-08T07:26:41.825Z"
   },
   {
    "duration": 0,
    "start_time": "2022-12-08T07:26:41.826Z"
   },
   {
    "duration": 0,
    "start_time": "2022-12-08T07:26:41.827Z"
   },
   {
    "duration": 0,
    "start_time": "2022-12-08T07:26:41.828Z"
   },
   {
    "duration": 0,
    "start_time": "2022-12-08T07:26:41.829Z"
   },
   {
    "duration": 129,
    "start_time": "2022-12-08T07:26:53.447Z"
   },
   {
    "duration": 1476,
    "start_time": "2022-12-08T07:27:50.576Z"
   },
   {
    "duration": 835,
    "start_time": "2022-12-08T07:27:52.054Z"
   },
   {
    "duration": 24,
    "start_time": "2022-12-08T07:27:52.890Z"
   },
   {
    "duration": 148,
    "start_time": "2022-12-08T07:27:52.916Z"
   },
   {
    "duration": 489,
    "start_time": "2022-12-08T07:27:53.066Z"
   },
   {
    "duration": 105,
    "start_time": "2022-12-08T07:27:53.557Z"
   },
   {
    "duration": 13,
    "start_time": "2022-12-08T07:27:53.664Z"
   },
   {
    "duration": 46,
    "start_time": "2022-12-08T07:27:53.679Z"
   },
   {
    "duration": 43,
    "start_time": "2022-12-08T07:27:53.727Z"
   },
   {
    "duration": 21,
    "start_time": "2022-12-08T07:27:53.773Z"
   },
   {
    "duration": 6,
    "start_time": "2022-12-08T07:27:53.796Z"
   },
   {
    "duration": 76,
    "start_time": "2022-12-08T07:27:53.803Z"
   },
   {
    "duration": 26,
    "start_time": "2022-12-08T07:27:53.881Z"
   },
   {
    "duration": 821,
    "start_time": "2022-12-08T07:27:53.908Z"
   },
   {
    "duration": 0,
    "start_time": "2022-12-08T07:27:54.731Z"
   },
   {
    "duration": 0,
    "start_time": "2022-12-08T07:27:54.733Z"
   },
   {
    "duration": 0,
    "start_time": "2022-12-08T07:27:54.733Z"
   },
   {
    "duration": 0,
    "start_time": "2022-12-08T07:27:54.735Z"
   },
   {
    "duration": 0,
    "start_time": "2022-12-08T07:27:54.737Z"
   },
   {
    "duration": 0,
    "start_time": "2022-12-08T07:27:54.738Z"
   },
   {
    "duration": 0,
    "start_time": "2022-12-08T07:27:54.739Z"
   },
   {
    "duration": 0,
    "start_time": "2022-12-08T07:27:54.740Z"
   },
   {
    "duration": 0,
    "start_time": "2022-12-08T07:27:54.740Z"
   },
   {
    "duration": 0,
    "start_time": "2022-12-08T07:27:54.742Z"
   },
   {
    "duration": 0,
    "start_time": "2022-12-08T07:27:54.743Z"
   },
   {
    "duration": 40,
    "start_time": "2022-12-08T07:30:50.671Z"
   },
   {
    "duration": 44,
    "start_time": "2022-12-08T07:31:16.917Z"
   },
   {
    "duration": 58,
    "start_time": "2022-12-08T07:31:30.844Z"
   },
   {
    "duration": 27,
    "start_time": "2022-12-08T07:31:35.069Z"
   },
   {
    "duration": 18,
    "start_time": "2022-12-08T07:31:38.212Z"
   },
   {
    "duration": 5,
    "start_time": "2022-12-08T07:31:54.617Z"
   },
   {
    "duration": 49,
    "start_time": "2022-12-08T07:34:50.929Z"
   },
   {
    "duration": 1563,
    "start_time": "2022-12-08T07:35:33.748Z"
   },
   {
    "duration": 897,
    "start_time": "2022-12-08T07:35:35.313Z"
   },
   {
    "duration": 18,
    "start_time": "2022-12-08T07:35:36.212Z"
   },
   {
    "duration": 148,
    "start_time": "2022-12-08T07:35:36.232Z"
   },
   {
    "duration": 555,
    "start_time": "2022-12-08T07:35:36.381Z"
   },
   {
    "duration": 113,
    "start_time": "2022-12-08T07:35:36.938Z"
   },
   {
    "duration": 17,
    "start_time": "2022-12-08T07:35:37.053Z"
   },
   {
    "duration": 51,
    "start_time": "2022-12-08T07:35:37.072Z"
   },
   {
    "duration": 52,
    "start_time": "2022-12-08T07:35:37.125Z"
   },
   {
    "duration": 35,
    "start_time": "2022-12-08T07:35:37.180Z"
   },
   {
    "duration": 7,
    "start_time": "2022-12-08T07:35:37.217Z"
   },
   {
    "duration": 76,
    "start_time": "2022-12-08T07:35:37.250Z"
   },
   {
    "duration": 47,
    "start_time": "2022-12-08T07:35:37.328Z"
   },
   {
    "duration": 40,
    "start_time": "2022-12-08T07:35:37.377Z"
   },
   {
    "duration": 32,
    "start_time": "2022-12-08T07:35:37.419Z"
   },
   {
    "duration": 123,
    "start_time": "2022-12-08T07:35:37.453Z"
   },
   {
    "duration": 43,
    "start_time": "2022-12-08T07:35:37.579Z"
   },
   {
    "duration": 84,
    "start_time": "2022-12-08T07:35:37.624Z"
   },
   {
    "duration": 300,
    "start_time": "2022-12-08T07:35:37.710Z"
   },
   {
    "duration": 18,
    "start_time": "2022-12-08T07:35:38.012Z"
   },
   {
    "duration": 36,
    "start_time": "2022-12-08T07:35:38.032Z"
   },
   {
    "duration": 3434,
    "start_time": "2022-12-08T07:35:38.071Z"
   },
   {
    "duration": 508,
    "start_time": "2022-12-08T07:35:41.506Z"
   },
   {
    "duration": 73,
    "start_time": "2022-12-08T07:35:42.015Z"
   },
   {
    "duration": 95,
    "start_time": "2022-12-08T07:35:42.089Z"
   },
   {
    "duration": 80,
    "start_time": "2022-12-08T07:37:43.446Z"
   },
   {
    "duration": 2,
    "start_time": "2022-12-08T07:40:15.817Z"
   },
   {
    "duration": 859,
    "start_time": "2022-12-08T07:41:57.529Z"
   },
   {
    "duration": 4,
    "start_time": "2022-12-08T07:43:59.412Z"
   },
   {
    "duration": 2148,
    "start_time": "2022-12-08T07:44:28.472Z"
   },
   {
    "duration": 1878,
    "start_time": "2022-12-08T07:44:44.437Z"
   },
   {
    "duration": 3,
    "start_time": "2022-12-08T07:47:25.527Z"
   },
   {
    "duration": 1820,
    "start_time": "2022-12-08T07:47:27.208Z"
   },
   {
    "duration": 4,
    "start_time": "2022-12-08T07:48:20.873Z"
   },
   {
    "duration": 1708,
    "start_time": "2022-12-08T07:48:22.158Z"
   },
   {
    "duration": 21,
    "start_time": "2022-12-08T07:55:19.636Z"
   },
   {
    "duration": 1579,
    "start_time": "2022-12-08T07:56:21.017Z"
   },
   {
    "duration": 868,
    "start_time": "2022-12-08T07:56:22.598Z"
   },
   {
    "duration": 20,
    "start_time": "2022-12-08T07:56:23.467Z"
   },
   {
    "duration": 164,
    "start_time": "2022-12-08T07:56:23.488Z"
   },
   {
    "duration": 548,
    "start_time": "2022-12-08T07:56:23.655Z"
   },
   {
    "duration": 112,
    "start_time": "2022-12-08T07:56:24.205Z"
   },
   {
    "duration": 14,
    "start_time": "2022-12-08T07:56:24.319Z"
   },
   {
    "duration": 58,
    "start_time": "2022-12-08T07:56:24.335Z"
   },
   {
    "duration": 30,
    "start_time": "2022-12-08T07:56:24.395Z"
   },
   {
    "duration": 39,
    "start_time": "2022-12-08T07:56:24.427Z"
   },
   {
    "duration": 6,
    "start_time": "2022-12-08T07:56:24.468Z"
   },
   {
    "duration": 75,
    "start_time": "2022-12-08T07:56:24.476Z"
   },
   {
    "duration": 27,
    "start_time": "2022-12-08T07:56:24.553Z"
   },
   {
    "duration": 37,
    "start_time": "2022-12-08T07:56:24.583Z"
   },
   {
    "duration": 37,
    "start_time": "2022-12-08T07:56:24.621Z"
   },
   {
    "duration": 108,
    "start_time": "2022-12-08T07:56:24.660Z"
   },
   {
    "duration": 36,
    "start_time": "2022-12-08T07:56:24.770Z"
   },
   {
    "duration": 80,
    "start_time": "2022-12-08T07:56:24.809Z"
   },
   {
    "duration": 271,
    "start_time": "2022-12-08T07:56:24.891Z"
   },
   {
    "duration": 19,
    "start_time": "2022-12-08T07:56:25.164Z"
   },
   {
    "duration": 41,
    "start_time": "2022-12-08T07:56:25.185Z"
   },
   {
    "duration": 3168,
    "start_time": "2022-12-08T07:56:25.228Z"
   },
   {
    "duration": 457,
    "start_time": "2022-12-08T07:56:28.397Z"
   },
   {
    "duration": 39,
    "start_time": "2022-12-08T07:56:28.855Z"
   },
   {
    "duration": 96,
    "start_time": "2022-12-08T07:56:28.896Z"
   },
   {
    "duration": 95,
    "start_time": "2022-12-08T07:56:28.993Z"
   },
   {
    "duration": 12,
    "start_time": "2022-12-08T07:56:29.090Z"
   },
   {
    "duration": 139,
    "start_time": "2022-12-08T08:02:18.045Z"
   },
   {
    "duration": 1543,
    "start_time": "2022-12-08T08:02:29.676Z"
   },
   {
    "duration": 872,
    "start_time": "2022-12-08T08:02:31.221Z"
   },
   {
    "duration": 19,
    "start_time": "2022-12-08T08:02:32.095Z"
   },
   {
    "duration": 162,
    "start_time": "2022-12-08T08:02:32.116Z"
   },
   {
    "duration": 552,
    "start_time": "2022-12-08T08:02:32.280Z"
   },
   {
    "duration": 104,
    "start_time": "2022-12-08T08:02:32.834Z"
   },
   {
    "duration": 15,
    "start_time": "2022-12-08T08:02:32.950Z"
   },
   {
    "duration": 46,
    "start_time": "2022-12-08T08:02:32.967Z"
   },
   {
    "duration": 44,
    "start_time": "2022-12-08T08:02:33.015Z"
   },
   {
    "duration": 20,
    "start_time": "2022-12-08T08:02:33.061Z"
   },
   {
    "duration": 7,
    "start_time": "2022-12-08T08:02:33.083Z"
   },
   {
    "duration": 81,
    "start_time": "2022-12-08T08:02:33.091Z"
   },
   {
    "duration": 26,
    "start_time": "2022-12-08T08:02:33.174Z"
   },
   {
    "duration": 52,
    "start_time": "2022-12-08T08:02:33.203Z"
   },
   {
    "duration": 17,
    "start_time": "2022-12-08T08:02:33.257Z"
   },
   {
    "duration": 112,
    "start_time": "2022-12-08T08:02:33.276Z"
   },
   {
    "duration": 36,
    "start_time": "2022-12-08T08:02:33.390Z"
   },
   {
    "duration": 71,
    "start_time": "2022-12-08T08:02:33.428Z"
   },
   {
    "duration": 285,
    "start_time": "2022-12-08T08:02:33.501Z"
   },
   {
    "duration": 18,
    "start_time": "2022-12-08T08:02:33.787Z"
   },
   {
    "duration": 46,
    "start_time": "2022-12-08T08:02:33.807Z"
   },
   {
    "duration": 82,
    "start_time": "2022-12-08T08:02:33.855Z"
   },
   {
    "duration": 56,
    "start_time": "2022-12-08T08:02:33.951Z"
   },
   {
    "duration": 11,
    "start_time": "2022-12-08T08:02:34.009Z"
   },
   {
    "duration": 34,
    "start_time": "2022-12-08T08:03:52.727Z"
   },
   {
    "duration": 18,
    "start_time": "2022-12-08T08:04:37.496Z"
   },
   {
    "duration": 14,
    "start_time": "2022-12-08T08:06:46.316Z"
   },
   {
    "duration": 4,
    "start_time": "2022-12-08T08:06:59.385Z"
   },
   {
    "duration": 429,
    "start_time": "2022-12-08T08:09:15.529Z"
   },
   {
    "duration": 3,
    "start_time": "2022-12-08T08:10:00.145Z"
   },
   {
    "duration": 3,
    "start_time": "2022-12-08T08:10:22.840Z"
   },
   {
    "duration": 1141681,
    "start_time": "2022-12-08T08:10:38.446Z"
   },
   {
    "duration": 92074,
    "start_time": "2022-12-08T08:29:40.130Z"
   },
   {
    "duration": 802,
    "start_time": "2022-12-08T08:31:12.206Z"
   },
   {
    "duration": 505,
    "start_time": "2022-12-08T08:31:13.010Z"
   },
   {
    "duration": 1170522,
    "start_time": "2022-12-08T08:31:13.517Z"
   },
   {
    "duration": 1704,
    "start_time": "2022-12-08T09:05:15.629Z"
   },
   {
    "duration": 3328,
    "start_time": "2022-12-08T09:05:17.335Z"
   },
   {
    "duration": 24,
    "start_time": "2022-12-08T09:05:20.669Z"
   },
   {
    "duration": 168,
    "start_time": "2022-12-08T09:05:20.695Z"
   },
   {
    "duration": 566,
    "start_time": "2022-12-08T09:05:20.867Z"
   },
   {
    "duration": 128,
    "start_time": "2022-12-08T09:05:21.434Z"
   },
   {
    "duration": 40,
    "start_time": "2022-12-08T09:05:21.566Z"
   },
   {
    "duration": 57,
    "start_time": "2022-12-08T09:05:21.608Z"
   },
   {
    "duration": 32,
    "start_time": "2022-12-08T09:05:21.669Z"
   },
   {
    "duration": 23,
    "start_time": "2022-12-08T09:05:21.703Z"
   },
   {
    "duration": 30,
    "start_time": "2022-12-08T09:05:21.728Z"
   },
   {
    "duration": 83,
    "start_time": "2022-12-08T09:05:21.760Z"
   },
   {
    "duration": 43,
    "start_time": "2022-12-08T09:05:21.844Z"
   },
   {
    "duration": 42,
    "start_time": "2022-12-08T09:05:21.891Z"
   },
   {
    "duration": 38,
    "start_time": "2022-12-08T09:05:21.935Z"
   },
   {
    "duration": 123,
    "start_time": "2022-12-08T09:05:21.975Z"
   },
   {
    "duration": 40,
    "start_time": "2022-12-08T09:05:22.100Z"
   },
   {
    "duration": 94,
    "start_time": "2022-12-08T09:05:22.142Z"
   },
   {
    "duration": 332,
    "start_time": "2022-12-08T09:05:22.238Z"
   },
   {
    "duration": 21,
    "start_time": "2022-12-08T09:05:22.574Z"
   },
   {
    "duration": 66,
    "start_time": "2022-12-08T09:05:22.599Z"
   },
   {
    "duration": 101,
    "start_time": "2022-12-08T09:05:22.666Z"
   },
   {
    "duration": 60,
    "start_time": "2022-12-08T09:05:22.770Z"
   },
   {
    "duration": 34,
    "start_time": "2022-12-08T09:05:22.832Z"
   },
   {
    "duration": 39,
    "start_time": "2022-12-08T09:05:22.868Z"
   },
   {
    "duration": 21,
    "start_time": "2022-12-08T09:05:22.909Z"
   },
   {
    "duration": 25,
    "start_time": "2022-12-08T09:05:22.933Z"
   },
   {
    "duration": 452,
    "start_time": "2022-12-08T09:05:22.960Z"
   },
   {
    "duration": 3,
    "start_time": "2022-12-08T09:05:23.414Z"
   },
   {
    "duration": 11,
    "start_time": "2022-12-08T09:05:23.418Z"
   },
   {
    "duration": 8,
    "start_time": "2022-12-08T09:05:23.431Z"
   },
   {
    "duration": 104705,
    "start_time": "2022-12-08T09:05:23.440Z"
   },
   {
    "duration": 1018,
    "start_time": "2022-12-08T09:07:08.147Z"
   },
   {
    "duration": 551,
    "start_time": "2022-12-08T09:07:09.168Z"
   },
   {
    "duration": 1267195,
    "start_time": "2022-12-08T09:07:09.722Z"
   },
   {
    "duration": 833573,
    "start_time": "2022-12-08T09:28:16.919Z"
   },
   {
    "duration": 181466,
    "start_time": "2022-12-08T09:42:10.494Z"
   },
   {
    "duration": 431,
    "start_time": "2022-12-08T09:45:11.962Z"
   },
   {
    "duration": 8445,
    "start_time": "2022-12-08T09:45:12.395Z"
   },
   {
    "duration": 234,
    "start_time": "2022-12-08T09:45:20.842Z"
   },
   {
    "duration": 747258,
    "start_time": "2022-12-08T09:53:37.816Z"
   },
   {
    "duration": 200704,
    "start_time": "2022-12-08T10:06:05.076Z"
   },
   {
    "duration": 190,
    "start_time": "2022-12-08T10:09:25.782Z"
   },
   {
    "duration": 115,
    "start_time": "2022-12-08T10:13:36.933Z"
   },
   {
    "duration": 161593,
    "start_time": "2022-12-08T10:16:29.214Z"
   },
   {
    "duration": 260,
    "start_time": "2022-12-08T10:22:33.675Z"
   },
   {
    "duration": 161630,
    "start_time": "2022-12-08T10:22:33.940Z"
   },
   {
    "duration": 26896,
    "start_time": "2022-12-08T10:25:15.572Z"
   },
   {
    "duration": 129,
    "start_time": "2022-12-08T10:25:42.470Z"
   },
   {
    "duration": 1759,
    "start_time": "2022-12-08T11:24:30.933Z"
   },
   {
    "duration": 1076,
    "start_time": "2022-12-08T11:24:32.694Z"
   },
   {
    "duration": 20,
    "start_time": "2022-12-08T11:24:33.772Z"
   },
   {
    "duration": 226,
    "start_time": "2022-12-08T11:24:33.794Z"
   },
   {
    "duration": 633,
    "start_time": "2022-12-08T11:24:34.023Z"
   },
   {
    "duration": 124,
    "start_time": "2022-12-08T11:24:34.660Z"
   },
   {
    "duration": 16,
    "start_time": "2022-12-08T11:24:34.785Z"
   },
   {
    "duration": 72,
    "start_time": "2022-12-08T11:24:34.803Z"
   },
   {
    "duration": 34,
    "start_time": "2022-12-08T11:24:34.877Z"
   },
   {
    "duration": 54,
    "start_time": "2022-12-08T11:24:34.913Z"
   },
   {
    "duration": 51,
    "start_time": "2022-12-08T11:24:34.975Z"
   },
   {
    "duration": 96,
    "start_time": "2022-12-08T11:24:35.028Z"
   },
   {
    "duration": 36,
    "start_time": "2022-12-08T11:24:35.126Z"
   },
   {
    "duration": 49,
    "start_time": "2022-12-08T11:24:35.172Z"
   },
   {
    "duration": 30,
    "start_time": "2022-12-08T11:24:35.223Z"
   },
   {
    "duration": 115,
    "start_time": "2022-12-08T11:24:35.260Z"
   },
   {
    "duration": 50,
    "start_time": "2022-12-08T11:24:35.377Z"
   },
   {
    "duration": 105,
    "start_time": "2022-12-08T11:24:35.429Z"
   },
   {
    "duration": 327,
    "start_time": "2022-12-08T11:24:35.536Z"
   },
   {
    "duration": 21,
    "start_time": "2022-12-08T11:24:35.869Z"
   },
   {
    "duration": 53,
    "start_time": "2022-12-08T11:24:35.893Z"
   },
   {
    "duration": 121,
    "start_time": "2022-12-08T11:24:35.949Z"
   },
   {
    "duration": 67,
    "start_time": "2022-12-08T11:24:36.072Z"
   },
   {
    "duration": 34,
    "start_time": "2022-12-08T11:24:36.141Z"
   },
   {
    "duration": 55,
    "start_time": "2022-12-08T11:24:36.178Z"
   },
   {
    "duration": 32,
    "start_time": "2022-12-08T11:24:36.235Z"
   },
   {
    "duration": 32,
    "start_time": "2022-12-08T11:24:36.268Z"
   },
   {
    "duration": 477,
    "start_time": "2022-12-08T11:24:36.302Z"
   },
   {
    "duration": 3,
    "start_time": "2022-12-08T11:24:36.783Z"
   },
   {
    "duration": 9,
    "start_time": "2022-12-08T11:24:36.788Z"
   },
   {
    "duration": 1358272,
    "start_time": "2022-12-08T11:24:36.799Z"
   },
   {
    "duration": 117573,
    "start_time": "2022-12-08T11:47:15.073Z"
   },
   {
    "duration": 1127,
    "start_time": "2022-12-08T11:49:12.648Z"
   },
   {
    "duration": 552,
    "start_time": "2022-12-08T11:49:13.777Z"
   },
   {
    "duration": 1279865,
    "start_time": "2022-12-08T11:49:14.331Z"
   },
   {
    "duration": 82,
    "start_time": "2022-12-08T12:11:44.147Z"
   },
   {
    "duration": 7,
    "start_time": "2022-12-08T12:12:01.332Z"
   },
   {
    "duration": 1727,
    "start_time": "2022-12-08T12:12:36.204Z"
   },
   {
    "duration": 3405,
    "start_time": "2022-12-08T12:12:37.933Z"
   },
   {
    "duration": 32,
    "start_time": "2022-12-08T12:12:41.340Z"
   },
   {
    "duration": 191,
    "start_time": "2022-12-08T12:12:41.374Z"
   },
   {
    "duration": 650,
    "start_time": "2022-12-08T12:12:41.571Z"
   },
   {
    "duration": 132,
    "start_time": "2022-12-08T12:12:42.223Z"
   },
   {
    "duration": 19,
    "start_time": "2022-12-08T12:12:42.358Z"
   },
   {
    "duration": 56,
    "start_time": "2022-12-08T12:12:42.379Z"
   },
   {
    "duration": 49,
    "start_time": "2022-12-08T12:12:42.437Z"
   },
   {
    "duration": 28,
    "start_time": "2022-12-08T12:12:42.488Z"
   },
   {
    "duration": 11,
    "start_time": "2022-12-08T12:12:42.518Z"
   },
   {
    "duration": 111,
    "start_time": "2022-12-08T12:12:42.531Z"
   },
   {
    "duration": 43,
    "start_time": "2022-12-08T12:12:42.644Z"
   },
   {
    "duration": 42,
    "start_time": "2022-12-08T12:12:42.691Z"
   },
   {
    "duration": 62,
    "start_time": "2022-12-08T12:12:42.735Z"
   },
   {
    "duration": 122,
    "start_time": "2022-12-08T12:12:42.799Z"
   },
   {
    "duration": 51,
    "start_time": "2022-12-08T12:12:42.923Z"
   },
   {
    "duration": 90,
    "start_time": "2022-12-08T12:12:42.976Z"
   },
   {
    "duration": 321,
    "start_time": "2022-12-08T12:12:43.068Z"
   },
   {
    "duration": 22,
    "start_time": "2022-12-08T12:12:43.391Z"
   },
   {
    "duration": 56,
    "start_time": "2022-12-08T12:12:43.415Z"
   },
   {
    "duration": 152,
    "start_time": "2022-12-08T12:12:43.473Z"
   },
   {
    "duration": 76,
    "start_time": "2022-12-08T12:12:43.627Z"
   },
   {
    "duration": 12,
    "start_time": "2022-12-08T12:12:43.705Z"
   },
   {
    "duration": 56,
    "start_time": "2022-12-08T12:12:43.719Z"
   },
   {
    "duration": 16,
    "start_time": "2022-12-08T12:12:43.777Z"
   },
   {
    "duration": 4,
    "start_time": "2022-12-08T12:12:43.795Z"
   },
   {
    "duration": 483,
    "start_time": "2022-12-08T12:12:43.801Z"
   },
   {
    "duration": 3,
    "start_time": "2022-12-08T12:12:44.286Z"
   },
   {
    "duration": 15,
    "start_time": "2022-12-08T12:12:44.291Z"
   },
   {
    "duration": 1326638,
    "start_time": "2022-12-08T12:12:44.308Z"
   },
   {
    "duration": 147,
    "start_time": "2022-12-08T12:34:50.948Z"
   },
   {
    "duration": 0,
    "start_time": "2022-12-08T12:34:51.097Z"
   },
   {
    "duration": 0,
    "start_time": "2022-12-08T12:34:51.099Z"
   },
   {
    "duration": 0,
    "start_time": "2022-12-08T12:34:51.101Z"
   },
   {
    "duration": 0,
    "start_time": "2022-12-08T12:34:51.102Z"
   },
   {
    "duration": 0,
    "start_time": "2022-12-08T12:34:51.104Z"
   },
   {
    "duration": 0,
    "start_time": "2022-12-08T12:34:51.105Z"
   },
   {
    "duration": 0,
    "start_time": "2022-12-08T12:34:51.106Z"
   },
   {
    "duration": 0,
    "start_time": "2022-12-08T12:34:51.108Z"
   },
   {
    "duration": 0,
    "start_time": "2022-12-08T12:34:51.109Z"
   },
   {
    "duration": 108407,
    "start_time": "2022-12-08T12:39:32.574Z"
   },
   {
    "duration": 769,
    "start_time": "2022-12-08T12:41:20.983Z"
   },
   {
    "duration": 515,
    "start_time": "2022-12-08T12:41:21.753Z"
   },
   {
    "duration": 1218619,
    "start_time": "2022-12-08T12:41:22.271Z"
   },
   {
    "duration": 177,
    "start_time": "2022-12-08T13:02:38.527Z"
   },
   {
    "duration": 1826,
    "start_time": "2022-12-08T13:02:49.268Z"
   },
   {
    "duration": 3236,
    "start_time": "2022-12-08T13:02:51.096Z"
   },
   {
    "duration": 32,
    "start_time": "2022-12-08T13:02:54.334Z"
   },
   {
    "duration": 176,
    "start_time": "2022-12-08T13:02:54.368Z"
   },
   {
    "duration": 615,
    "start_time": "2022-12-08T13:02:54.550Z"
   },
   {
    "duration": 107,
    "start_time": "2022-12-08T13:02:55.167Z"
   },
   {
    "duration": 14,
    "start_time": "2022-12-08T13:02:55.276Z"
   },
   {
    "duration": 78,
    "start_time": "2022-12-08T13:02:55.291Z"
   },
   {
    "duration": 30,
    "start_time": "2022-12-08T13:02:55.371Z"
   },
   {
    "duration": 39,
    "start_time": "2022-12-08T13:02:55.402Z"
   },
   {
    "duration": 33,
    "start_time": "2022-12-08T13:02:55.443Z"
   },
   {
    "duration": 90,
    "start_time": "2022-12-08T13:02:55.477Z"
   },
   {
    "duration": 29,
    "start_time": "2022-12-08T13:02:55.569Z"
   },
   {
    "duration": 62,
    "start_time": "2022-12-08T13:02:55.601Z"
   },
   {
    "duration": 20,
    "start_time": "2022-12-08T13:02:55.665Z"
   },
   {
    "duration": 125,
    "start_time": "2022-12-08T13:02:55.687Z"
   },
   {
    "duration": 55,
    "start_time": "2022-12-08T13:02:55.814Z"
   },
   {
    "duration": 85,
    "start_time": "2022-12-08T13:02:55.878Z"
   },
   {
    "duration": 320,
    "start_time": "2022-12-08T13:02:55.967Z"
   },
   {
    "duration": 23,
    "start_time": "2022-12-08T13:02:56.289Z"
   },
   {
    "duration": 53,
    "start_time": "2022-12-08T13:02:56.314Z"
   },
   {
    "duration": 115,
    "start_time": "2022-12-08T13:02:56.371Z"
   },
   {
    "duration": 81,
    "start_time": "2022-12-08T13:02:56.488Z"
   },
   {
    "duration": 13,
    "start_time": "2022-12-08T13:02:56.571Z"
   },
   {
    "duration": 43,
    "start_time": "2022-12-08T13:02:56.586Z"
   },
   {
    "duration": 54,
    "start_time": "2022-12-08T13:02:56.632Z"
   },
   {
    "duration": 6,
    "start_time": "2022-12-08T13:02:56.687Z"
   },
   {
    "duration": 474,
    "start_time": "2022-12-08T13:02:56.694Z"
   },
   {
    "duration": 3,
    "start_time": "2022-12-08T13:02:57.170Z"
   },
   {
    "duration": 6,
    "start_time": "2022-12-08T13:02:57.175Z"
   },
   {
    "duration": 6,
    "start_time": "2022-12-08T13:02:57.183Z"
   },
   {
    "duration": 101586,
    "start_time": "2022-12-08T13:02:57.191Z"
   },
   {
    "duration": 956,
    "start_time": "2022-12-08T13:04:38.779Z"
   },
   {
    "duration": 543,
    "start_time": "2022-12-08T13:04:39.738Z"
   },
   {
    "duration": 1173197,
    "start_time": "2022-12-08T13:04:40.283Z"
   },
   {
    "duration": 21385,
    "start_time": "2022-12-08T13:24:13.482Z"
   },
   {
    "duration": 11292,
    "start_time": "2022-12-08T13:24:34.869Z"
   },
   {
    "duration": 311,
    "start_time": "2022-12-08T13:24:46.163Z"
   },
   {
    "duration": 7682,
    "start_time": "2022-12-08T13:24:46.476Z"
   },
   {
    "duration": 245,
    "start_time": "2022-12-08T13:24:54.161Z"
   },
   {
    "duration": 139998,
    "start_time": "2022-12-08T13:30:00.896Z"
   },
   {
    "duration": 88,
    "start_time": "2022-12-08T13:32:37.412Z"
   },
   {
    "duration": 989,
    "start_time": "2022-12-08T14:03:55.995Z"
   },
   {
    "duration": 994,
    "start_time": "2022-12-08T14:04:06.766Z"
   },
   {
    "duration": 604,
    "start_time": "2022-12-08T14:06:25.979Z"
   },
   {
    "duration": 209563,
    "start_time": "2022-12-08T14:08:18.302Z"
   },
   {
    "duration": 14,
    "start_time": "2022-12-08T14:11:47.868Z"
   },
   {
    "duration": 0,
    "start_time": "2022-12-08T14:11:47.884Z"
   },
   {
    "duration": 0,
    "start_time": "2022-12-08T14:11:47.885Z"
   },
   {
    "duration": 76,
    "start_time": "2022-12-08T14:12:55.117Z"
   },
   {
    "duration": 100,
    "start_time": "2022-12-08T14:13:09.149Z"
   },
   {
    "duration": 10815,
    "start_time": "2022-12-08T14:13:18.549Z"
   },
   {
    "duration": 86,
    "start_time": "2022-12-08T14:13:34.883Z"
   },
   {
    "duration": 1598,
    "start_time": "2022-12-08T14:13:50.521Z"
   },
   {
    "duration": 971,
    "start_time": "2022-12-08T14:13:52.121Z"
   },
   {
    "duration": 34,
    "start_time": "2022-12-08T14:13:53.094Z"
   },
   {
    "duration": 164,
    "start_time": "2022-12-08T14:13:53.131Z"
   },
   {
    "duration": 579,
    "start_time": "2022-12-08T14:13:53.297Z"
   },
   {
    "duration": 120,
    "start_time": "2022-12-08T14:13:53.878Z"
   },
   {
    "duration": 17,
    "start_time": "2022-12-08T14:13:54.001Z"
   },
   {
    "duration": 74,
    "start_time": "2022-12-08T14:13:54.020Z"
   },
   {
    "duration": 34,
    "start_time": "2022-12-08T14:13:54.096Z"
   },
   {
    "duration": 40,
    "start_time": "2022-12-08T14:13:54.132Z"
   },
   {
    "duration": 16,
    "start_time": "2022-12-08T14:13:54.174Z"
   },
   {
    "duration": 86,
    "start_time": "2022-12-08T14:13:54.192Z"
   },
   {
    "duration": 30,
    "start_time": "2022-12-08T14:13:54.280Z"
   },
   {
    "duration": 58,
    "start_time": "2022-12-08T14:13:54.313Z"
   },
   {
    "duration": 21,
    "start_time": "2022-12-08T14:13:54.373Z"
   },
   {
    "duration": 128,
    "start_time": "2022-12-08T14:13:54.396Z"
   },
   {
    "duration": 44,
    "start_time": "2022-12-08T14:13:54.526Z"
   },
   {
    "duration": 79,
    "start_time": "2022-12-08T14:13:54.572Z"
   },
   {
    "duration": 306,
    "start_time": "2022-12-08T14:13:54.653Z"
   },
   {
    "duration": 20,
    "start_time": "2022-12-08T14:13:54.961Z"
   },
   {
    "duration": 63,
    "start_time": "2022-12-08T14:13:54.984Z"
   },
   {
    "duration": 101,
    "start_time": "2022-12-08T14:13:55.049Z"
   },
   {
    "duration": 64,
    "start_time": "2022-12-08T14:13:55.152Z"
   },
   {
    "duration": 1130,
    "start_time": "2022-12-08T14:13:55.218Z"
   },
   {
    "duration": 647,
    "start_time": "2022-12-08T14:13:56.351Z"
   },
   {
    "duration": 4622118,
    "start_time": "2022-12-08T14:13:57.000Z"
   },
   {
    "duration": 5,
    "start_time": "2022-12-08T15:30:59.121Z"
   },
   {
    "duration": 477793,
    "start_time": "2022-12-08T15:30:59.128Z"
   },
   {
    "duration": 570888,
    "start_time": "2022-12-08T15:38:56.923Z"
   },
   {
    "duration": 1775350,
    "start_time": "2022-12-08T15:48:27.813Z"
   },
   {
    "duration": 1718,
    "start_time": "2022-12-08T16:18:03.165Z"
   },
   {
    "duration": 4711,
    "start_time": "2022-12-08T16:18:04.885Z"
   },
   {
    "duration": 10589,
    "start_time": "2022-12-08T16:18:09.599Z"
   },
   {
    "duration": 87385,
    "start_time": "2022-12-08T16:38:49.914Z"
   },
   {
    "duration": 555855,
    "start_time": "2022-12-08T16:41:07.220Z"
   },
   {
    "duration": 1544,
    "start_time": "2022-12-08T16:50:23.078Z"
   },
   {
    "duration": 4971,
    "start_time": "2022-12-08T16:50:24.624Z"
   },
   {
    "duration": 11488,
    "start_time": "2022-12-08T16:50:29.598Z"
   },
   {
    "duration": 76,
    "start_time": "2022-12-09T18:01:33.345Z"
   },
   {
    "duration": 96,
    "start_time": "2022-12-09T18:14:23.615Z"
   },
   {
    "duration": 87,
    "start_time": "2022-12-09T18:17:37.324Z"
   },
   {
    "duration": 44,
    "start_time": "2022-12-09T18:20:29.174Z"
   },
   {
    "duration": 1791,
    "start_time": "2022-12-09T18:23:45.357Z"
   },
   {
    "duration": 83,
    "start_time": "2022-12-09T18:23:56.935Z"
   },
   {
    "duration": 1473,
    "start_time": "2022-12-09T18:24:29.839Z"
   },
   {
    "duration": 3083,
    "start_time": "2022-12-09T18:24:34.954Z"
   },
   {
    "duration": 20,
    "start_time": "2022-12-09T18:24:38.039Z"
   },
   {
    "duration": 138,
    "start_time": "2022-12-09T18:24:44.283Z"
   },
   {
    "duration": 468,
    "start_time": "2022-12-09T18:24:50.346Z"
   },
   {
    "duration": 87,
    "start_time": "2022-12-09T18:24:55.784Z"
   },
   {
    "duration": 13,
    "start_time": "2022-12-09T18:25:00.677Z"
   },
   {
    "duration": 45,
    "start_time": "2022-12-09T18:25:05.179Z"
   },
   {
    "duration": 190,
    "start_time": "2022-12-09T18:25:07.300Z"
   },
   {
    "duration": 173,
    "start_time": "2022-12-09T18:25:22.199Z"
   },
   {
    "duration": 169,
    "start_time": "2022-12-09T18:29:13.150Z"
   },
   {
    "duration": 248,
    "start_time": "2022-12-09T18:30:00.085Z"
   },
   {
    "duration": 1616,
    "start_time": "2022-12-09T18:34:11.238Z"
   },
   {
    "duration": 85,
    "start_time": "2022-12-09T18:35:50.647Z"
   },
   {
    "duration": 155,
    "start_time": "2022-12-09T18:41:18.893Z"
   },
   {
    "duration": 34,
    "start_time": "2022-12-09T18:41:39.320Z"
   },
   {
    "duration": 431,
    "start_time": "2022-12-09T18:43:26.821Z"
   },
   {
    "duration": 67,
    "start_time": "2022-12-09T18:43:59.227Z"
   },
   {
    "duration": 4,
    "start_time": "2022-12-09T18:44:08.225Z"
   },
   {
    "duration": 0,
    "start_time": "2022-12-09T18:45:46.217Z"
   },
   {
    "duration": 30,
    "start_time": "2022-12-09T18:46:22.313Z"
   },
   {
    "duration": 1719,
    "start_time": "2022-12-09T18:47:52.743Z"
   },
   {
    "duration": 752,
    "start_time": "2022-12-09T18:54:59.112Z"
   },
   {
    "duration": 790,
    "start_time": "2022-12-09T18:56:49.063Z"
   },
   {
    "duration": 816,
    "start_time": "2022-12-09T18:57:04.936Z"
   },
   {
    "duration": 7,
    "start_time": "2022-12-09T18:59:45.688Z"
   },
   {
    "duration": 6,
    "start_time": "2022-12-09T19:00:33.060Z"
   },
   {
    "duration": 7,
    "start_time": "2022-12-09T19:01:23.574Z"
   },
   {
    "duration": 7,
    "start_time": "2022-12-09T19:01:34.529Z"
   },
   {
    "duration": 6,
    "start_time": "2022-12-09T19:02:07.507Z"
   },
   {
    "duration": 6,
    "start_time": "2022-12-09T19:02:18.005Z"
   },
   {
    "duration": 7,
    "start_time": "2022-12-09T19:02:38.922Z"
   },
   {
    "duration": 176,
    "start_time": "2022-12-09T19:04:06.970Z"
   },
   {
    "duration": 343,
    "start_time": "2022-12-09T19:04:15.000Z"
   },
   {
    "duration": 6,
    "start_time": "2022-12-09T19:04:24.563Z"
   },
   {
    "duration": 11,
    "start_time": "2022-12-09T19:05:01.932Z"
   },
   {
    "duration": 11,
    "start_time": "2022-12-09T19:05:07.326Z"
   },
   {
    "duration": 13,
    "start_time": "2022-12-09T19:05:15.880Z"
   },
   {
    "duration": 567,
    "start_time": "2022-12-09T19:08:22.156Z"
   },
   {
    "duration": 2252,
    "start_time": "2022-12-09T19:12:50.937Z"
   },
   {
    "duration": 2347,
    "start_time": "2022-12-09T19:13:11.534Z"
   },
   {
    "duration": 89,
    "start_time": "2022-12-09T19:13:36.468Z"
   },
   {
    "duration": 2290,
    "start_time": "2022-12-09T19:13:47.300Z"
   },
   {
    "duration": 704,
    "start_time": "2022-12-09T19:14:26.432Z"
   },
   {
    "duration": 737,
    "start_time": "2022-12-09T19:15:36.403Z"
   },
   {
    "duration": 47,
    "start_time": "2022-12-10T04:16:55.444Z"
   },
   {
    "duration": 0,
    "start_time": "2022-12-10T04:16:55.492Z"
   },
   {
    "duration": 0,
    "start_time": "2022-12-10T04:16:55.493Z"
   },
   {
    "duration": 0,
    "start_time": "2022-12-10T04:16:55.495Z"
   },
   {
    "duration": 0,
    "start_time": "2022-12-10T04:16:55.496Z"
   },
   {
    "duration": 0,
    "start_time": "2022-12-10T04:16:55.497Z"
   },
   {
    "duration": 0,
    "start_time": "2022-12-10T04:16:55.498Z"
   },
   {
    "duration": 16,
    "start_time": "2022-12-10T04:16:55.500Z"
   },
   {
    "duration": 0,
    "start_time": "2022-12-10T04:16:55.517Z"
   },
   {
    "duration": 0,
    "start_time": "2022-12-10T04:16:55.518Z"
   },
   {
    "duration": 6,
    "start_time": "2022-12-10T04:16:55.523Z"
   },
   {
    "duration": 8,
    "start_time": "2022-12-10T04:16:55.531Z"
   },
   {
    "duration": 7,
    "start_time": "2022-12-10T04:16:55.541Z"
   },
   {
    "duration": 0,
    "start_time": "2022-12-10T04:16:55.550Z"
   },
   {
    "duration": 8,
    "start_time": "2022-12-10T04:16:55.555Z"
   },
   {
    "duration": 7,
    "start_time": "2022-12-10T04:16:55.580Z"
   },
   {
    "duration": 28,
    "start_time": "2022-12-10T04:16:55.592Z"
   },
   {
    "duration": 41,
    "start_time": "2022-12-10T04:16:55.626Z"
   },
   {
    "duration": 5,
    "start_time": "2022-12-10T04:16:55.669Z"
   },
   {
    "duration": 0,
    "start_time": "2022-12-10T04:16:55.675Z"
   },
   {
    "duration": 0,
    "start_time": "2022-12-10T04:16:55.676Z"
   },
   {
    "duration": 0,
    "start_time": "2022-12-10T04:16:55.677Z"
   },
   {
    "duration": 0,
    "start_time": "2022-12-10T04:16:55.678Z"
   },
   {
    "duration": 59,
    "start_time": "2022-12-10T04:16:55.681Z"
   },
   {
    "duration": 48,
    "start_time": "2022-12-10T04:16:55.742Z"
   },
   {
    "duration": 6,
    "start_time": "2022-12-10T05:04:56.440Z"
   },
   {
    "duration": 8,
    "start_time": "2022-12-10T05:07:43.934Z"
   },
   {
    "duration": 1564,
    "start_time": "2022-12-10T05:07:53.465Z"
   },
   {
    "duration": 998,
    "start_time": "2022-12-10T05:07:55.228Z"
   },
   {
    "duration": 16,
    "start_time": "2022-12-10T05:07:56.547Z"
   },
   {
    "duration": 133,
    "start_time": "2022-12-10T05:08:00.036Z"
   },
   {
    "duration": 84,
    "start_time": "2022-12-10T05:08:03.660Z"
   },
   {
    "duration": 13,
    "start_time": "2022-12-10T05:08:15.289Z"
   },
   {
    "duration": 44,
    "start_time": "2022-12-10T05:08:17.786Z"
   },
   {
    "duration": 737,
    "start_time": "2022-12-10T05:08:21.838Z"
   },
   {
    "duration": 812,
    "start_time": "2022-12-10T05:10:51.137Z"
   },
   {
    "duration": 169,
    "start_time": "2022-12-10T05:14:38.793Z"
   },
   {
    "duration": 158,
    "start_time": "2022-12-10T05:17:33.359Z"
   },
   {
    "duration": 75,
    "start_time": "2022-12-10T05:17:47.264Z"
   },
   {
    "duration": 45,
    "start_time": "2022-12-10T05:18:21.369Z"
   },
   {
    "duration": 4,
    "start_time": "2022-12-10T05:20:04.787Z"
   },
   {
    "duration": 6,
    "start_time": "2022-12-10T05:23:15.678Z"
   },
   {
    "duration": 84,
    "start_time": "2022-12-10T05:30:45.006Z"
   },
   {
    "duration": 116,
    "start_time": "2022-12-10T05:34:33.245Z"
   },
   {
    "duration": 13,
    "start_time": "2022-12-10T05:35:09.102Z"
   },
   {
    "duration": 69,
    "start_time": "2022-12-10T05:35:53.882Z"
   },
   {
    "duration": 107,
    "start_time": "2022-12-10T05:36:03.327Z"
   },
   {
    "duration": 126,
    "start_time": "2022-12-10T05:36:17.909Z"
   },
   {
    "duration": 29,
    "start_time": "2022-12-10T05:38:23.138Z"
   },
   {
    "duration": 123,
    "start_time": "2022-12-10T05:38:24.501Z"
   },
   {
    "duration": 26,
    "start_time": "2022-12-10T05:38:37.989Z"
   },
   {
    "duration": 1400,
    "start_time": "2022-12-10T05:39:45.890Z"
   },
   {
    "duration": 742,
    "start_time": "2022-12-10T05:39:47.292Z"
   },
   {
    "duration": 16,
    "start_time": "2022-12-10T05:39:48.035Z"
   },
   {
    "duration": 149,
    "start_time": "2022-12-10T05:39:48.053Z"
   },
   {
    "duration": 469,
    "start_time": "2022-12-10T05:39:48.204Z"
   },
   {
    "duration": 104,
    "start_time": "2022-12-10T05:39:48.674Z"
   },
   {
    "duration": 12,
    "start_time": "2022-12-10T05:39:48.780Z"
   },
   {
    "duration": 67,
    "start_time": "2022-12-10T05:39:48.794Z"
   },
   {
    "duration": 698,
    "start_time": "2022-12-10T05:39:48.863Z"
   },
   {
    "duration": 76,
    "start_time": "2022-12-10T05:39:49.564Z"
   },
   {
    "duration": 35,
    "start_time": "2022-12-10T05:39:49.642Z"
   },
   {
    "duration": 18,
    "start_time": "2022-12-10T05:39:49.679Z"
   },
   {
    "duration": 21,
    "start_time": "2022-12-10T05:39:49.698Z"
   },
   {
    "duration": 46,
    "start_time": "2022-12-10T05:39:49.722Z"
   },
   {
    "duration": 153,
    "start_time": "2022-12-10T05:39:49.770Z"
   },
   {
    "duration": 98,
    "start_time": "2022-12-10T05:39:49.925Z"
   },
   {
    "duration": 129,
    "start_time": "2022-12-10T05:39:50.024Z"
   },
   {
    "duration": 98,
    "start_time": "2022-12-10T05:41:46.160Z"
   },
   {
    "duration": 46,
    "start_time": "2022-12-10T06:12:32.387Z"
   },
   {
    "duration": 114,
    "start_time": "2022-12-10T06:12:33.532Z"
   },
   {
    "duration": 1402,
    "start_time": "2022-12-10T06:13:35.025Z"
   },
   {
    "duration": 789,
    "start_time": "2022-12-10T06:13:36.429Z"
   },
   {
    "duration": 17,
    "start_time": "2022-12-10T06:13:37.219Z"
   },
   {
    "duration": 140,
    "start_time": "2022-12-10T06:13:37.238Z"
   },
   {
    "duration": 492,
    "start_time": "2022-12-10T06:13:37.381Z"
   },
   {
    "duration": 105,
    "start_time": "2022-12-10T06:13:37.875Z"
   },
   {
    "duration": 14,
    "start_time": "2022-12-10T06:13:37.982Z"
   },
   {
    "duration": 58,
    "start_time": "2022-12-10T06:13:37.997Z"
   },
   {
    "duration": 811,
    "start_time": "2022-12-10T06:13:38.056Z"
   },
   {
    "duration": 64,
    "start_time": "2022-12-10T06:13:38.869Z"
   },
   {
    "duration": 35,
    "start_time": "2022-12-10T06:13:38.934Z"
   },
   {
    "duration": 19,
    "start_time": "2022-12-10T06:13:38.971Z"
   },
   {
    "duration": 23,
    "start_time": "2022-12-10T06:13:38.992Z"
   },
   {
    "duration": 50,
    "start_time": "2022-12-10T06:13:39.018Z"
   },
   {
    "duration": 140,
    "start_time": "2022-12-10T06:13:39.069Z"
   },
   {
    "duration": 82,
    "start_time": "2022-12-10T06:13:39.215Z"
   },
   {
    "duration": 134,
    "start_time": "2022-12-10T06:13:39.299Z"
   },
   {
    "duration": 31,
    "start_time": "2022-12-10T06:13:59.233Z"
   },
   {
    "duration": 65,
    "start_time": "2022-12-10T06:14:42.259Z"
   },
   {
    "duration": 4,
    "start_time": "2022-12-10T06:14:53.379Z"
   },
   {
    "duration": 35,
    "start_time": "2022-12-10T06:16:41.744Z"
   },
   {
    "duration": 29,
    "start_time": "2022-12-10T06:16:58.232Z"
   },
   {
    "duration": 28,
    "start_time": "2022-12-10T06:18:12.760Z"
   },
   {
    "duration": 124,
    "start_time": "2022-12-10T06:22:12.157Z"
   },
   {
    "duration": 21,
    "start_time": "2022-12-10T06:22:43.386Z"
   },
   {
    "duration": 7,
    "start_time": "2022-12-10T06:23:37.757Z"
   },
   {
    "duration": 17,
    "start_time": "2022-12-10T06:24:20.045Z"
   },
   {
    "duration": 81,
    "start_time": "2022-12-10T06:27:32.727Z"
   },
   {
    "duration": 15,
    "start_time": "2022-12-10T06:27:53.843Z"
   },
   {
    "duration": 140,
    "start_time": "2022-12-10T06:53:11.783Z"
   },
   {
    "duration": 5,
    "start_time": "2022-12-10T06:53:51.041Z"
   },
   {
    "duration": 117,
    "start_time": "2022-12-10T06:54:48.892Z"
   },
   {
    "duration": 1405,
    "start_time": "2022-12-10T06:55:35.976Z"
   },
   {
    "duration": 796,
    "start_time": "2022-12-10T06:55:37.384Z"
   },
   {
    "duration": 17,
    "start_time": "2022-12-10T06:55:38.182Z"
   },
   {
    "duration": 145,
    "start_time": "2022-12-10T06:55:38.201Z"
   },
   {
    "duration": 501,
    "start_time": "2022-12-10T06:55:38.349Z"
   },
   {
    "duration": 101,
    "start_time": "2022-12-10T06:55:38.852Z"
   },
   {
    "duration": 14,
    "start_time": "2022-12-10T06:55:38.954Z"
   },
   {
    "duration": 61,
    "start_time": "2022-12-10T06:55:38.969Z"
   },
   {
    "duration": 866,
    "start_time": "2022-12-10T06:55:39.032Z"
   },
   {
    "duration": 68,
    "start_time": "2022-12-10T06:55:39.900Z"
   },
   {
    "duration": 27,
    "start_time": "2022-12-10T06:55:39.970Z"
   },
   {
    "duration": 60,
    "start_time": "2022-12-10T06:55:39.999Z"
   },
   {
    "duration": 18,
    "start_time": "2022-12-10T06:55:40.061Z"
   },
   {
    "duration": 77,
    "start_time": "2022-12-10T06:55:40.083Z"
   },
   {
    "duration": 105,
    "start_time": "2022-12-10T06:55:40.162Z"
   },
   {
    "duration": 53,
    "start_time": "2022-12-10T06:55:40.269Z"
   },
   {
    "duration": 126,
    "start_time": "2022-12-10T06:55:40.324Z"
   },
   {
    "duration": 164,
    "start_time": "2022-12-10T06:55:40.453Z"
   },
   {
    "duration": 10,
    "start_time": "2022-12-10T06:55:40.619Z"
   },
   {
    "duration": 4,
    "start_time": "2022-12-10T06:57:19.487Z"
   },
   {
    "duration": 760,
    "start_time": "2022-12-10T06:57:19.493Z"
   },
   {
    "duration": 13,
    "start_time": "2022-12-10T06:57:20.254Z"
   },
   {
    "duration": 154,
    "start_time": "2022-12-10T06:57:20.269Z"
   },
   {
    "duration": 464,
    "start_time": "2022-12-10T06:57:20.425Z"
   },
   {
    "duration": 179,
    "start_time": "2022-12-10T06:57:20.891Z"
   },
   {
    "duration": 12,
    "start_time": "2022-12-10T06:57:21.072Z"
   },
   {
    "duration": 58,
    "start_time": "2022-12-10T06:57:21.086Z"
   },
   {
    "duration": 744,
    "start_time": "2022-12-10T06:57:21.146Z"
   },
   {
    "duration": 51,
    "start_time": "2022-12-10T06:57:21.892Z"
   },
   {
    "duration": 27,
    "start_time": "2022-12-10T06:57:21.944Z"
   },
   {
    "duration": 18,
    "start_time": "2022-12-10T06:57:21.973Z"
   },
   {
    "duration": 27,
    "start_time": "2022-12-10T06:57:21.993Z"
   },
   {
    "duration": 45,
    "start_time": "2022-12-10T06:57:22.022Z"
   },
   {
    "duration": 118,
    "start_time": "2022-12-10T06:57:22.069Z"
   },
   {
    "duration": 55,
    "start_time": "2022-12-10T06:57:22.189Z"
   },
   {
    "duration": 111,
    "start_time": "2022-12-10T06:57:22.246Z"
   },
   {
    "duration": 169,
    "start_time": "2022-12-10T06:57:22.358Z"
   },
   {
    "duration": 6,
    "start_time": "2022-12-10T06:57:22.529Z"
   },
   {
    "duration": 5,
    "start_time": "2022-12-10T06:58:42.913Z"
   },
   {
    "duration": 745,
    "start_time": "2022-12-10T06:58:42.920Z"
   },
   {
    "duration": 13,
    "start_time": "2022-12-10T06:58:43.667Z"
   },
   {
    "duration": 151,
    "start_time": "2022-12-10T06:58:43.682Z"
   },
   {
    "duration": 452,
    "start_time": "2022-12-10T06:58:43.835Z"
   },
   {
    "duration": 93,
    "start_time": "2022-12-10T06:58:44.288Z"
   },
   {
    "duration": 11,
    "start_time": "2022-12-10T06:58:44.382Z"
   },
   {
    "duration": 50,
    "start_time": "2022-12-10T06:58:44.395Z"
   },
   {
    "duration": 839,
    "start_time": "2022-12-10T06:58:44.448Z"
   },
   {
    "duration": 46,
    "start_time": "2022-12-10T06:58:45.289Z"
   },
   {
    "duration": 27,
    "start_time": "2022-12-10T06:58:45.337Z"
   },
   {
    "duration": 19,
    "start_time": "2022-12-10T06:58:45.366Z"
   },
   {
    "duration": 6,
    "start_time": "2022-12-10T06:58:45.387Z"
   },
   {
    "duration": 43,
    "start_time": "2022-12-10T06:58:45.417Z"
   },
   {
    "duration": 103,
    "start_time": "2022-12-10T06:58:45.462Z"
   },
   {
    "duration": 40,
    "start_time": "2022-12-10T06:58:45.566Z"
   },
   {
    "duration": 122,
    "start_time": "2022-12-10T06:58:45.616Z"
   },
   {
    "duration": 101,
    "start_time": "2022-12-10T06:58:45.740Z"
   },
   {
    "duration": 14,
    "start_time": "2022-12-10T06:58:45.843Z"
   },
   {
    "duration": 90,
    "start_time": "2022-12-10T07:01:08.347Z"
   },
   {
    "duration": 4,
    "start_time": "2022-12-10T07:01:13.796Z"
   },
   {
    "duration": 74,
    "start_time": "2022-12-10T07:01:19.322Z"
   },
   {
    "duration": 11,
    "start_time": "2022-12-10T07:01:27.952Z"
   },
   {
    "duration": 86,
    "start_time": "2022-12-10T07:03:17.300Z"
   },
   {
    "duration": 4,
    "start_time": "2022-12-10T07:03:34.269Z"
   },
   {
    "duration": 758,
    "start_time": "2022-12-10T07:03:34.291Z"
   },
   {
    "duration": 13,
    "start_time": "2022-12-10T07:03:35.051Z"
   },
   {
    "duration": 143,
    "start_time": "2022-12-10T07:03:35.065Z"
   },
   {
    "duration": 403,
    "start_time": "2022-12-10T07:03:35.210Z"
   },
   {
    "duration": 83,
    "start_time": "2022-12-10T07:03:35.615Z"
   },
   {
    "duration": 27,
    "start_time": "2022-12-10T07:03:35.700Z"
   },
   {
    "duration": 33,
    "start_time": "2022-12-10T07:03:35.729Z"
   },
   {
    "duration": 877,
    "start_time": "2022-12-10T07:03:35.764Z"
   },
   {
    "duration": 37,
    "start_time": "2022-12-10T07:03:36.643Z"
   },
   {
    "duration": 39,
    "start_time": "2022-12-10T07:03:36.682Z"
   },
   {
    "duration": 26,
    "start_time": "2022-12-10T07:03:36.723Z"
   },
   {
    "duration": 9,
    "start_time": "2022-12-10T07:03:36.750Z"
   },
   {
    "duration": 38,
    "start_time": "2022-12-10T07:03:36.760Z"
   },
   {
    "duration": 117,
    "start_time": "2022-12-10T07:03:36.799Z"
   },
   {
    "duration": 43,
    "start_time": "2022-12-10T07:03:36.918Z"
   },
   {
    "duration": 132,
    "start_time": "2022-12-10T07:03:36.962Z"
   },
   {
    "duration": 21,
    "start_time": "2022-12-10T07:03:37.096Z"
   },
   {
    "duration": 116,
    "start_time": "2022-12-10T07:03:37.119Z"
   },
   {
    "duration": 15,
    "start_time": "2022-12-10T07:03:37.237Z"
   },
   {
    "duration": 71,
    "start_time": "2022-12-10T07:07:17.601Z"
   },
   {
    "duration": 6,
    "start_time": "2022-12-10T07:07:31.484Z"
   },
   {
    "duration": 759,
    "start_time": "2022-12-10T07:07:31.492Z"
   },
   {
    "duration": 13,
    "start_time": "2022-12-10T07:07:32.253Z"
   },
   {
    "duration": 130,
    "start_time": "2022-12-10T07:07:32.268Z"
   },
   {
    "duration": 422,
    "start_time": "2022-12-10T07:07:32.400Z"
   },
   {
    "duration": 95,
    "start_time": "2022-12-10T07:07:32.824Z"
   },
   {
    "duration": 13,
    "start_time": "2022-12-10T07:07:32.920Z"
   },
   {
    "duration": 31,
    "start_time": "2022-12-10T07:07:32.934Z"
   },
   {
    "duration": 802,
    "start_time": "2022-12-10T07:07:32.967Z"
   },
   {
    "duration": 48,
    "start_time": "2022-12-10T07:07:33.772Z"
   },
   {
    "duration": 26,
    "start_time": "2022-12-10T07:07:33.821Z"
   },
   {
    "duration": 18,
    "start_time": "2022-12-10T07:07:33.849Z"
   },
   {
    "duration": 5,
    "start_time": "2022-12-10T07:07:33.869Z"
   },
   {
    "duration": 61,
    "start_time": "2022-12-10T07:07:33.876Z"
   },
   {
    "duration": 93,
    "start_time": "2022-12-10T07:07:33.939Z"
   },
   {
    "duration": 42,
    "start_time": "2022-12-10T07:07:34.034Z"
   },
   {
    "duration": 132,
    "start_time": "2022-12-10T07:07:34.077Z"
   },
   {
    "duration": 12,
    "start_time": "2022-12-10T07:07:34.215Z"
   },
   {
    "duration": 95,
    "start_time": "2022-12-10T07:07:34.228Z"
   },
   {
    "duration": 14,
    "start_time": "2022-12-10T07:07:34.324Z"
   },
   {
    "duration": 123,
    "start_time": "2022-12-10T07:07:45.289Z"
   },
   {
    "duration": 1433,
    "start_time": "2022-12-10T07:09:06.548Z"
   },
   {
    "duration": 798,
    "start_time": "2022-12-10T07:09:07.983Z"
   },
   {
    "duration": 19,
    "start_time": "2022-12-10T07:09:08.783Z"
   },
   {
    "duration": 131,
    "start_time": "2022-12-10T07:09:08.803Z"
   },
   {
    "duration": 449,
    "start_time": "2022-12-10T07:09:08.937Z"
   },
   {
    "duration": 103,
    "start_time": "2022-12-10T07:09:09.387Z"
   },
   {
    "duration": 13,
    "start_time": "2022-12-10T07:09:09.492Z"
   },
   {
    "duration": 46,
    "start_time": "2022-12-10T07:09:09.515Z"
   },
   {
    "duration": 724,
    "start_time": "2022-12-10T07:09:09.563Z"
   },
   {
    "duration": 58,
    "start_time": "2022-12-10T07:09:10.289Z"
   },
   {
    "duration": 26,
    "start_time": "2022-12-10T07:09:10.348Z"
   },
   {
    "duration": 18,
    "start_time": "2022-12-10T07:09:10.375Z"
   },
   {
    "duration": 25,
    "start_time": "2022-12-10T07:09:10.395Z"
   },
   {
    "duration": 55,
    "start_time": "2022-12-10T07:09:10.424Z"
   },
   {
    "duration": 116,
    "start_time": "2022-12-10T07:09:10.481Z"
   },
   {
    "duration": 56,
    "start_time": "2022-12-10T07:09:10.599Z"
   },
   {
    "duration": 112,
    "start_time": "2022-12-10T07:09:10.656Z"
   },
   {
    "duration": 12,
    "start_time": "2022-12-10T07:09:10.770Z"
   },
   {
    "duration": 240,
    "start_time": "2022-12-10T07:09:10.783Z"
   },
   {
    "duration": 946,
    "start_time": "2022-12-10T07:10:08.318Z"
   },
   {
    "duration": 76,
    "start_time": "2022-12-10T07:10:31.849Z"
   },
   {
    "duration": 44,
    "start_time": "2022-12-10T07:10:38.748Z"
   },
   {
    "duration": 75,
    "start_time": "2022-12-10T07:10:44.563Z"
   },
   {
    "duration": 73,
    "start_time": "2022-12-10T07:10:59.068Z"
   },
   {
    "duration": 69,
    "start_time": "2022-12-10T07:11:07.268Z"
   },
   {
    "duration": 10,
    "start_time": "2022-12-10T07:14:39.075Z"
   },
   {
    "duration": 6,
    "start_time": "2022-12-10T07:14:53.179Z"
   },
   {
    "duration": 4,
    "start_time": "2022-12-10T07:15:24.950Z"
   },
   {
    "duration": 797,
    "start_time": "2022-12-10T07:15:24.955Z"
   },
   {
    "duration": 12,
    "start_time": "2022-12-10T07:15:25.754Z"
   },
   {
    "duration": 166,
    "start_time": "2022-12-10T07:15:25.768Z"
   },
   {
    "duration": 460,
    "start_time": "2022-12-10T07:15:25.936Z"
   },
   {
    "duration": 99,
    "start_time": "2022-12-10T07:15:26.398Z"
   },
   {
    "duration": 24,
    "start_time": "2022-12-10T07:15:26.499Z"
   },
   {
    "duration": 38,
    "start_time": "2022-12-10T07:15:26.525Z"
   },
   {
    "duration": 744,
    "start_time": "2022-12-10T07:15:26.566Z"
   },
   {
    "duration": 55,
    "start_time": "2022-12-10T07:15:27.311Z"
   },
   {
    "duration": 26,
    "start_time": "2022-12-10T07:15:27.368Z"
   },
   {
    "duration": 45,
    "start_time": "2022-12-10T07:15:27.396Z"
   },
   {
    "duration": 11,
    "start_time": "2022-12-10T07:15:27.443Z"
   },
   {
    "duration": 46,
    "start_time": "2022-12-10T07:15:27.455Z"
   },
   {
    "duration": 113,
    "start_time": "2022-12-10T07:15:27.503Z"
   },
   {
    "duration": 31,
    "start_time": "2022-12-10T07:15:27.617Z"
   },
   {
    "duration": 12,
    "start_time": "2022-12-10T07:15:27.650Z"
   },
   {
    "duration": 131,
    "start_time": "2022-12-10T07:15:27.663Z"
   },
   {
    "duration": 19,
    "start_time": "2022-12-10T07:15:27.796Z"
   },
   {
    "duration": 133,
    "start_time": "2022-12-10T07:15:27.817Z"
   },
   {
    "duration": 18,
    "start_time": "2022-12-10T07:16:25.208Z"
   },
   {
    "duration": 4,
    "start_time": "2022-12-10T07:17:06.397Z"
   },
   {
    "duration": 8,
    "start_time": "2022-12-10T07:17:17.179Z"
   },
   {
    "duration": 53,
    "start_time": "2022-12-10T07:17:47.772Z"
   },
   {
    "duration": 53,
    "start_time": "2022-12-10T07:18:17.562Z"
   },
   {
    "duration": 10,
    "start_time": "2022-12-10T07:18:30.451Z"
   },
   {
    "duration": 19,
    "start_time": "2022-12-10T07:18:56.337Z"
   },
   {
    "duration": 4,
    "start_time": "2022-12-10T07:19:05.793Z"
   },
   {
    "duration": 12,
    "start_time": "2022-12-10T07:19:24.026Z"
   },
   {
    "duration": 11,
    "start_time": "2022-12-10T07:19:41.774Z"
   },
   {
    "duration": 13,
    "start_time": "2022-12-10T07:20:10.975Z"
   },
   {
    "duration": 12,
    "start_time": "2022-12-10T07:20:21.492Z"
   },
   {
    "duration": 36,
    "start_time": "2022-12-10T07:22:54.473Z"
   },
   {
    "duration": 4,
    "start_time": "2022-12-10T07:23:08.746Z"
   },
   {
    "duration": 702,
    "start_time": "2022-12-10T07:23:08.752Z"
   },
   {
    "duration": 13,
    "start_time": "2022-12-10T07:23:09.455Z"
   },
   {
    "duration": 128,
    "start_time": "2022-12-10T07:23:09.471Z"
   },
   {
    "duration": 377,
    "start_time": "2022-12-10T07:23:09.601Z"
   },
   {
    "duration": 95,
    "start_time": "2022-12-10T07:23:09.980Z"
   },
   {
    "duration": 11,
    "start_time": "2022-12-10T07:23:10.076Z"
   },
   {
    "duration": 42,
    "start_time": "2022-12-10T07:23:10.088Z"
   },
   {
    "duration": 720,
    "start_time": "2022-12-10T07:23:10.132Z"
   },
   {
    "duration": 36,
    "start_time": "2022-12-10T07:23:10.853Z"
   },
   {
    "duration": 33,
    "start_time": "2022-12-10T07:23:10.891Z"
   },
   {
    "duration": 18,
    "start_time": "2022-12-10T07:23:10.925Z"
   },
   {
    "duration": 6,
    "start_time": "2022-12-10T07:23:10.944Z"
   },
   {
    "duration": 37,
    "start_time": "2022-12-10T07:23:10.952Z"
   },
   {
    "duration": 112,
    "start_time": "2022-12-10T07:23:10.990Z"
   },
   {
    "duration": 41,
    "start_time": "2022-12-10T07:23:11.104Z"
   },
   {
    "duration": 13,
    "start_time": "2022-12-10T07:23:11.147Z"
   },
   {
    "duration": 55,
    "start_time": "2022-12-10T07:23:11.161Z"
   },
   {
    "duration": 111,
    "start_time": "2022-12-10T07:23:11.217Z"
   },
   {
    "duration": 7,
    "start_time": "2022-12-10T07:23:55.034Z"
   },
   {
    "duration": 1410,
    "start_time": "2022-12-10T07:24:35.141Z"
   },
   {
    "duration": 778,
    "start_time": "2022-12-10T07:24:36.553Z"
   },
   {
    "duration": 18,
    "start_time": "2022-12-10T07:24:37.332Z"
   },
   {
    "duration": 145,
    "start_time": "2022-12-10T07:24:37.351Z"
   },
   {
    "duration": 468,
    "start_time": "2022-12-10T07:24:37.499Z"
   },
   {
    "duration": 103,
    "start_time": "2022-12-10T07:24:37.969Z"
   },
   {
    "duration": 15,
    "start_time": "2022-12-10T07:24:38.074Z"
   },
   {
    "duration": 60,
    "start_time": "2022-12-10T07:24:38.090Z"
   },
   {
    "duration": 713,
    "start_time": "2022-12-10T07:24:38.152Z"
   },
   {
    "duration": 65,
    "start_time": "2022-12-10T07:24:38.866Z"
   },
   {
    "duration": 29,
    "start_time": "2022-12-10T07:24:38.933Z"
   },
   {
    "duration": 18,
    "start_time": "2022-12-10T07:24:38.964Z"
   },
   {
    "duration": 8,
    "start_time": "2022-12-10T07:24:38.983Z"
   },
   {
    "duration": 66,
    "start_time": "2022-12-10T07:24:38.994Z"
   },
   {
    "duration": 99,
    "start_time": "2022-12-10T07:24:39.061Z"
   },
   {
    "duration": 33,
    "start_time": "2022-12-10T07:24:39.161Z"
   },
   {
    "duration": 136,
    "start_time": "2022-12-10T07:24:39.196Z"
   },
   {
    "duration": 13,
    "start_time": "2022-12-10T07:24:39.334Z"
   },
   {
    "duration": 43,
    "start_time": "2022-12-10T07:24:39.348Z"
   },
   {
    "duration": 125,
    "start_time": "2022-12-10T07:24:39.393Z"
   },
   {
    "duration": 5,
    "start_time": "2022-12-10T07:24:39.520Z"
   },
   {
    "duration": 5,
    "start_time": "2022-12-10T07:27:07.807Z"
   },
   {
    "duration": 4,
    "start_time": "2022-12-10T07:27:31.309Z"
   },
   {
    "duration": 1434,
    "start_time": "2022-12-10T07:33:42.060Z"
   },
   {
    "duration": 851,
    "start_time": "2022-12-10T07:33:43.496Z"
   },
   {
    "duration": 22,
    "start_time": "2022-12-10T07:33:44.349Z"
   },
   {
    "duration": 145,
    "start_time": "2022-12-10T07:33:44.373Z"
   },
   {
    "duration": 509,
    "start_time": "2022-12-10T07:33:44.520Z"
   },
   {
    "duration": 98,
    "start_time": "2022-12-10T07:33:45.031Z"
   },
   {
    "duration": 15,
    "start_time": "2022-12-10T07:33:45.131Z"
   },
   {
    "duration": 70,
    "start_time": "2022-12-10T07:33:45.148Z"
   },
   {
    "duration": 766,
    "start_time": "2022-12-10T07:33:45.220Z"
   },
   {
    "duration": 68,
    "start_time": "2022-12-10T07:33:45.988Z"
   },
   {
    "duration": 27,
    "start_time": "2022-12-10T07:33:46.058Z"
   },
   {
    "duration": 31,
    "start_time": "2022-12-10T07:33:46.086Z"
   },
   {
    "duration": 7,
    "start_time": "2022-12-10T07:33:46.119Z"
   },
   {
    "duration": 64,
    "start_time": "2022-12-10T07:33:46.128Z"
   },
   {
    "duration": 127,
    "start_time": "2022-12-10T07:33:46.194Z"
   },
   {
    "duration": 40,
    "start_time": "2022-12-10T07:33:46.324Z"
   },
   {
    "duration": 165,
    "start_time": "2022-12-10T07:33:46.367Z"
   },
   {
    "duration": 36,
    "start_time": "2022-12-10T07:33:46.534Z"
   },
   {
    "duration": 12,
    "start_time": "2022-12-10T07:33:46.571Z"
   },
   {
    "duration": 41,
    "start_time": "2022-12-10T07:33:46.584Z"
   },
   {
    "duration": 12,
    "start_time": "2022-12-10T07:33:46.627Z"
   },
   {
    "duration": 0,
    "start_time": "2022-12-10T07:33:46.715Z"
   },
   {
    "duration": 0,
    "start_time": "2022-12-10T07:33:46.716Z"
   },
   {
    "duration": 17,
    "start_time": "2022-12-10T07:35:26.826Z"
   },
   {
    "duration": 9,
    "start_time": "2022-12-10T07:35:33.139Z"
   },
   {
    "duration": 5,
    "start_time": "2022-12-10T07:35:43.237Z"
   },
   {
    "duration": 8,
    "start_time": "2022-12-10T07:35:45.759Z"
   },
   {
    "duration": 4,
    "start_time": "2022-12-10T07:54:16.114Z"
   },
   {
    "duration": 9,
    "start_time": "2022-12-10T07:54:26.444Z"
   },
   {
    "duration": 8,
    "start_time": "2022-12-10T07:56:19.971Z"
   },
   {
    "duration": 1349,
    "start_time": "2022-12-10T07:56:42.861Z"
   },
   {
    "duration": 820,
    "start_time": "2022-12-10T07:56:44.212Z"
   },
   {
    "duration": 18,
    "start_time": "2022-12-10T07:56:45.034Z"
   },
   {
    "duration": 167,
    "start_time": "2022-12-10T07:56:45.054Z"
   },
   {
    "duration": 523,
    "start_time": "2022-12-10T07:56:45.223Z"
   },
   {
    "duration": 104,
    "start_time": "2022-12-10T07:56:45.748Z"
   },
   {
    "duration": 13,
    "start_time": "2022-12-10T07:56:45.854Z"
   },
   {
    "duration": 59,
    "start_time": "2022-12-10T07:56:45.868Z"
   },
   {
    "duration": 781,
    "start_time": "2022-12-10T07:56:45.929Z"
   },
   {
    "duration": 55,
    "start_time": "2022-12-10T07:56:46.716Z"
   },
   {
    "duration": 25,
    "start_time": "2022-12-10T07:56:46.773Z"
   },
   {
    "duration": 32,
    "start_time": "2022-12-10T07:56:46.799Z"
   },
   {
    "duration": 13,
    "start_time": "2022-12-10T07:56:46.833Z"
   },
   {
    "duration": 48,
    "start_time": "2022-12-10T07:56:46.848Z"
   },
   {
    "duration": 123,
    "start_time": "2022-12-10T07:56:46.897Z"
   },
   {
    "duration": 33,
    "start_time": "2022-12-10T07:56:47.022Z"
   },
   {
    "duration": 193,
    "start_time": "2022-12-10T07:56:47.056Z"
   },
   {
    "duration": 5,
    "start_time": "2022-12-10T07:56:47.251Z"
   },
   {
    "duration": 8,
    "start_time": "2022-12-10T07:56:47.257Z"
   },
   {
    "duration": 13,
    "start_time": "2022-12-10T07:56:47.267Z"
   },
   {
    "duration": 118,
    "start_time": "2022-12-10T07:56:47.282Z"
   },
   {
    "duration": 87,
    "start_time": "2022-12-10T07:56:47.402Z"
   },
   {
    "duration": 34,
    "start_time": "2022-12-10T07:56:47.491Z"
   },
   {
    "duration": 1443,
    "start_time": "2022-12-10T07:58:29.624Z"
   },
   {
    "duration": 777,
    "start_time": "2022-12-10T07:58:31.069Z"
   },
   {
    "duration": 15,
    "start_time": "2022-12-10T07:58:31.848Z"
   },
   {
    "duration": 168,
    "start_time": "2022-12-10T07:58:31.864Z"
   },
   {
    "duration": 496,
    "start_time": "2022-12-10T07:58:32.034Z"
   },
   {
    "duration": 101,
    "start_time": "2022-12-10T07:58:32.532Z"
   },
   {
    "duration": 15,
    "start_time": "2022-12-10T07:58:32.635Z"
   },
   {
    "duration": 66,
    "start_time": "2022-12-10T07:58:32.652Z"
   },
   {
    "duration": 755,
    "start_time": "2022-12-10T07:58:32.720Z"
   },
   {
    "duration": 64,
    "start_time": "2022-12-10T07:58:33.477Z"
   },
   {
    "duration": 26,
    "start_time": "2022-12-10T07:58:33.543Z"
   },
   {
    "duration": 17,
    "start_time": "2022-12-10T07:58:33.570Z"
   },
   {
    "duration": 5,
    "start_time": "2022-12-10T07:58:33.589Z"
   },
   {
    "duration": 49,
    "start_time": "2022-12-10T07:58:33.615Z"
   },
   {
    "duration": 101,
    "start_time": "2022-12-10T07:58:33.666Z"
   },
   {
    "duration": 32,
    "start_time": "2022-12-10T07:58:33.768Z"
   },
   {
    "duration": 123,
    "start_time": "2022-12-10T07:58:33.802Z"
   },
   {
    "duration": 5,
    "start_time": "2022-12-10T07:58:33.927Z"
   },
   {
    "duration": 7,
    "start_time": "2022-12-10T07:58:33.935Z"
   },
   {
    "duration": 12,
    "start_time": "2022-12-10T07:58:33.943Z"
   },
   {
    "duration": 147,
    "start_time": "2022-12-10T07:58:33.956Z"
   },
   {
    "duration": 116,
    "start_time": "2022-12-10T07:58:34.105Z"
   },
   {
    "duration": 5,
    "start_time": "2022-12-10T07:58:34.223Z"
   },
   {
    "duration": 305,
    "start_time": "2022-12-10T09:26:01.639Z"
   },
   {
    "duration": 54,
    "start_time": "2022-12-10T09:26:25.265Z"
   },
   {
    "duration": 110,
    "start_time": "2022-12-10T09:26:37.435Z"
   },
   {
    "duration": 11,
    "start_time": "2022-12-10T09:26:52.027Z"
   },
   {
    "duration": 712,
    "start_time": "2022-12-10T09:26:59.366Z"
   },
   {
    "duration": 41,
    "start_time": "2022-12-10T09:34:04.606Z"
   },
   {
    "duration": 118,
    "start_time": "2022-12-10T09:34:05.669Z"
   },
   {
    "duration": 5,
    "start_time": "2022-12-10T09:34:09.180Z"
   },
   {
    "duration": 752,
    "start_time": "2022-12-10T09:37:17.170Z"
   },
   {
    "duration": 873,
    "start_time": "2022-12-10T09:40:23.506Z"
   },
   {
    "duration": 838,
    "start_time": "2022-12-10T09:40:44.563Z"
   },
   {
    "duration": 772,
    "start_time": "2022-12-10T09:41:04.712Z"
   },
   {
    "duration": 169,
    "start_time": "2022-12-10T09:46:16.215Z"
   },
   {
    "duration": 26,
    "start_time": "2022-12-10T09:46:45.660Z"
   },
   {
    "duration": 102,
    "start_time": "2022-12-10T09:47:10.486Z"
   },
   {
    "duration": 795,
    "start_time": "2022-12-10T09:47:54.085Z"
   },
   {
    "duration": 4,
    "start_time": "2022-12-10T09:48:14.784Z"
   },
   {
    "duration": 756,
    "start_time": "2022-12-10T09:48:14.790Z"
   },
   {
    "duration": 13,
    "start_time": "2022-12-10T09:48:15.548Z"
   },
   {
    "duration": 132,
    "start_time": "2022-12-10T09:48:15.563Z"
   },
   {
    "duration": 403,
    "start_time": "2022-12-10T09:48:15.697Z"
   },
   {
    "duration": 86,
    "start_time": "2022-12-10T09:48:16.101Z"
   },
   {
    "duration": 12,
    "start_time": "2022-12-10T09:48:16.188Z"
   },
   {
    "duration": 47,
    "start_time": "2022-12-10T09:48:16.201Z"
   },
   {
    "duration": 908,
    "start_time": "2022-12-10T09:48:16.251Z"
   },
   {
    "duration": 39,
    "start_time": "2022-12-10T09:48:17.160Z"
   },
   {
    "duration": 383,
    "start_time": "2022-12-10T09:48:17.201Z"
   },
   {
    "duration": 722,
    "start_time": "2022-12-10T09:48:17.586Z"
   },
   {
    "duration": 25,
    "start_time": "2022-12-10T09:48:18.310Z"
   },
   {
    "duration": 17,
    "start_time": "2022-12-10T09:48:18.336Z"
   },
   {
    "duration": 5,
    "start_time": "2022-12-10T09:48:18.355Z"
   },
   {
    "duration": 57,
    "start_time": "2022-12-10T09:48:18.362Z"
   },
   {
    "duration": 96,
    "start_time": "2022-12-10T09:48:18.421Z"
   },
   {
    "duration": 32,
    "start_time": "2022-12-10T09:48:18.519Z"
   },
   {
    "duration": 11,
    "start_time": "2022-12-10T09:48:18.553Z"
   },
   {
    "duration": 56,
    "start_time": "2022-12-10T09:48:18.565Z"
   },
   {
    "duration": 22,
    "start_time": "2022-12-10T09:48:18.623Z"
   },
   {
    "duration": 30,
    "start_time": "2022-12-10T09:48:18.647Z"
   },
   {
    "duration": 37,
    "start_time": "2022-12-10T09:48:18.679Z"
   },
   {
    "duration": 74,
    "start_time": "2022-12-10T09:48:18.718Z"
   },
   {
    "duration": 822,
    "start_time": "2022-12-10T09:48:18.793Z"
   },
   {
    "duration": 148,
    "start_time": "2022-12-10T09:48:19.617Z"
   },
   {
    "duration": 803,
    "start_time": "2022-12-10T09:49:17.185Z"
   },
   {
    "duration": 1449,
    "start_time": "2022-12-10T09:50:01.170Z"
   },
   {
    "duration": 795,
    "start_time": "2022-12-10T09:50:02.621Z"
   },
   {
    "duration": 23,
    "start_time": "2022-12-10T09:50:03.418Z"
   },
   {
    "duration": 145,
    "start_time": "2022-12-10T09:50:03.444Z"
   },
   {
    "duration": 446,
    "start_time": "2022-12-10T09:50:03.590Z"
   },
   {
    "duration": 106,
    "start_time": "2022-12-10T09:50:04.038Z"
   },
   {
    "duration": 12,
    "start_time": "2022-12-10T09:50:04.146Z"
   },
   {
    "duration": 55,
    "start_time": "2022-12-10T09:50:04.160Z"
   },
   {
    "duration": 759,
    "start_time": "2022-12-10T09:50:04.217Z"
   },
   {
    "duration": 56,
    "start_time": "2022-12-10T09:50:04.979Z"
   },
   {
    "duration": 386,
    "start_time": "2022-12-10T09:50:05.037Z"
   },
   {
    "duration": 752,
    "start_time": "2022-12-10T09:50:05.425Z"
   },
   {
    "duration": 24,
    "start_time": "2022-12-10T09:50:06.179Z"
   },
   {
    "duration": 42,
    "start_time": "2022-12-10T09:50:06.205Z"
   },
   {
    "duration": 14,
    "start_time": "2022-12-10T09:50:06.249Z"
   },
   {
    "duration": 67,
    "start_time": "2022-12-10T09:50:06.265Z"
   },
   {
    "duration": 129,
    "start_time": "2022-12-10T09:50:06.335Z"
   },
   {
    "duration": 112,
    "start_time": "2022-12-10T09:50:06.465Z"
   },
   {
    "duration": 14,
    "start_time": "2022-12-10T09:50:06.579Z"
   },
   {
    "duration": 69,
    "start_time": "2022-12-10T09:50:06.595Z"
   },
   {
    "duration": 26,
    "start_time": "2022-12-10T09:50:06.666Z"
   },
   {
    "duration": 51,
    "start_time": "2022-12-10T09:50:06.693Z"
   },
   {
    "duration": 22,
    "start_time": "2022-12-10T09:50:06.745Z"
   },
   {
    "duration": 123,
    "start_time": "2022-12-10T09:50:06.768Z"
   },
   {
    "duration": 843,
    "start_time": "2022-12-10T09:50:06.892Z"
   },
   {
    "duration": 101,
    "start_time": "2022-12-10T09:50:07.737Z"
   },
   {
    "duration": 159,
    "start_time": "2022-12-10T09:50:07.840Z"
   },
   {
    "duration": 1593,
    "start_time": "2022-12-10T09:57:10.470Z"
   },
   {
    "duration": 830,
    "start_time": "2022-12-10T09:57:12.065Z"
   },
   {
    "duration": 23,
    "start_time": "2022-12-10T09:57:12.897Z"
   },
   {
    "duration": 143,
    "start_time": "2022-12-10T09:57:12.922Z"
   },
   {
    "duration": 512,
    "start_time": "2022-12-10T09:57:13.068Z"
   },
   {
    "duration": 107,
    "start_time": "2022-12-10T09:57:13.582Z"
   },
   {
    "duration": 25,
    "start_time": "2022-12-10T09:57:13.691Z"
   },
   {
    "duration": 54,
    "start_time": "2022-12-10T09:57:13.718Z"
   },
   {
    "duration": 811,
    "start_time": "2022-12-10T09:57:13.774Z"
   },
   {
    "duration": 61,
    "start_time": "2022-12-10T09:57:14.586Z"
   },
   {
    "duration": 420,
    "start_time": "2022-12-10T09:57:14.649Z"
   },
   {
    "duration": 786,
    "start_time": "2022-12-10T09:57:15.071Z"
   },
   {
    "duration": 27,
    "start_time": "2022-12-10T09:57:15.859Z"
   },
   {
    "duration": 32,
    "start_time": "2022-12-10T09:57:15.890Z"
   },
   {
    "duration": 12,
    "start_time": "2022-12-10T09:57:15.923Z"
   },
   {
    "duration": 41,
    "start_time": "2022-12-10T09:57:15.937Z"
   },
   {
    "duration": 120,
    "start_time": "2022-12-10T09:57:15.979Z"
   },
   {
    "duration": 47,
    "start_time": "2022-12-10T09:57:16.101Z"
   },
   {
    "duration": 13,
    "start_time": "2022-12-10T09:57:16.149Z"
   },
   {
    "duration": 57,
    "start_time": "2022-12-10T09:57:16.163Z"
   },
   {
    "duration": 23,
    "start_time": "2022-12-10T09:57:16.222Z"
   },
   {
    "duration": 30,
    "start_time": "2022-12-10T09:57:16.247Z"
   },
   {
    "duration": 42,
    "start_time": "2022-12-10T09:57:16.279Z"
   },
   {
    "duration": 184,
    "start_time": "2022-12-10T09:57:16.323Z"
   },
   {
    "duration": 967,
    "start_time": "2022-12-10T09:57:16.509Z"
   },
   {
    "duration": 115,
    "start_time": "2022-12-10T09:57:17.479Z"
   },
   {
    "duration": 4,
    "start_time": "2022-12-10T09:57:17.595Z"
   },
   {
    "duration": 37,
    "start_time": "2022-12-10T09:58:24.182Z"
   },
   {
    "duration": 98,
    "start_time": "2022-12-10T09:58:25.472Z"
   },
   {
    "duration": 1401,
    "start_time": "2022-12-10T10:02:48.965Z"
   },
   {
    "duration": 836,
    "start_time": "2022-12-10T10:02:50.368Z"
   },
   {
    "duration": 20,
    "start_time": "2022-12-10T10:02:51.206Z"
   },
   {
    "duration": 151,
    "start_time": "2022-12-10T10:02:51.229Z"
   },
   {
    "duration": 490,
    "start_time": "2022-12-10T10:02:51.382Z"
   },
   {
    "duration": 99,
    "start_time": "2022-12-10T10:02:51.874Z"
   },
   {
    "duration": 13,
    "start_time": "2022-12-10T10:02:51.975Z"
   },
   {
    "duration": 61,
    "start_time": "2022-12-10T10:02:51.989Z"
   },
   {
    "duration": 824,
    "start_time": "2022-12-10T10:02:52.053Z"
   },
   {
    "duration": 70,
    "start_time": "2022-12-10T10:02:52.881Z"
   },
   {
    "duration": 416,
    "start_time": "2022-12-10T10:02:52.954Z"
   },
   {
    "duration": 735,
    "start_time": "2022-12-10T10:02:53.372Z"
   },
   {
    "duration": 26,
    "start_time": "2022-12-10T10:02:54.109Z"
   },
   {
    "duration": 17,
    "start_time": "2022-12-10T10:02:54.137Z"
   },
   {
    "duration": 7,
    "start_time": "2022-12-10T10:02:54.155Z"
   },
   {
    "duration": 60,
    "start_time": "2022-12-10T10:02:54.164Z"
   },
   {
    "duration": 98,
    "start_time": "2022-12-10T10:02:54.225Z"
   },
   {
    "duration": 117,
    "start_time": "2022-12-10T10:02:54.325Z"
   },
   {
    "duration": 12,
    "start_time": "2022-12-10T10:02:54.443Z"
   },
   {
    "duration": 35,
    "start_time": "2022-12-10T10:02:54.457Z"
   },
   {
    "duration": 34,
    "start_time": "2022-12-10T10:02:54.493Z"
   },
   {
    "duration": 52,
    "start_time": "2022-12-10T10:02:54.528Z"
   },
   {
    "duration": 35,
    "start_time": "2022-12-10T10:02:54.581Z"
   },
   {
    "duration": 28,
    "start_time": "2022-12-10T10:02:54.617Z"
   },
   {
    "duration": 14,
    "start_time": "2022-12-10T10:02:54.647Z"
   },
   {
    "duration": 99,
    "start_time": "2022-12-10T10:02:54.663Z"
   },
   {
    "duration": 863,
    "start_time": "2022-12-10T10:02:54.764Z"
   },
   {
    "duration": 158,
    "start_time": "2022-12-10T10:04:17.588Z"
   },
   {
    "duration": 98,
    "start_time": "2022-12-10T10:04:19.604Z"
   },
   {
    "duration": 1342,
    "start_time": "2022-12-10T10:05:19.632Z"
   },
   {
    "duration": 805,
    "start_time": "2022-12-10T10:05:20.975Z"
   },
   {
    "duration": 16,
    "start_time": "2022-12-10T10:05:21.781Z"
   },
   {
    "duration": 147,
    "start_time": "2022-12-10T10:05:21.799Z"
   },
   {
    "duration": 528,
    "start_time": "2022-12-10T10:05:21.948Z"
   },
   {
    "duration": 123,
    "start_time": "2022-12-10T10:05:22.478Z"
   },
   {
    "duration": 19,
    "start_time": "2022-12-10T10:05:22.603Z"
   },
   {
    "duration": 46,
    "start_time": "2022-12-10T10:05:22.624Z"
   },
   {
    "duration": 789,
    "start_time": "2022-12-10T10:05:22.672Z"
   },
   {
    "duration": 72,
    "start_time": "2022-12-10T10:05:23.464Z"
   },
   {
    "duration": 416,
    "start_time": "2022-12-10T10:05:23.537Z"
   },
   {
    "duration": 787,
    "start_time": "2022-12-10T10:05:23.955Z"
   },
   {
    "duration": 26,
    "start_time": "2022-12-10T10:05:24.744Z"
   },
   {
    "duration": 44,
    "start_time": "2022-12-10T10:05:24.772Z"
   },
   {
    "duration": 7,
    "start_time": "2022-12-10T10:05:24.819Z"
   },
   {
    "duration": 68,
    "start_time": "2022-12-10T10:05:24.828Z"
   },
   {
    "duration": 175,
    "start_time": "2022-12-10T10:05:24.898Z"
   },
   {
    "duration": 44,
    "start_time": "2022-12-10T10:05:25.075Z"
   },
   {
    "duration": 13,
    "start_time": "2022-12-10T10:05:25.120Z"
   },
   {
    "duration": 38,
    "start_time": "2022-12-10T10:05:25.134Z"
   },
   {
    "duration": 42,
    "start_time": "2022-12-10T10:05:25.174Z"
   },
   {
    "duration": 49,
    "start_time": "2022-12-10T10:05:25.217Z"
   },
   {
    "duration": 22,
    "start_time": "2022-12-10T10:05:25.267Z"
   },
   {
    "duration": 51,
    "start_time": "2022-12-10T10:05:25.291Z"
   },
   {
    "duration": 19,
    "start_time": "2022-12-10T10:05:25.344Z"
   },
   {
    "duration": 95,
    "start_time": "2022-12-10T10:05:25.365Z"
   },
   {
    "duration": 892,
    "start_time": "2022-12-10T10:05:25.462Z"
   },
   {
    "duration": 131,
    "start_time": "2022-12-10T10:05:26.358Z"
   },
   {
    "duration": 56,
    "start_time": "2022-12-10T10:05:42.396Z"
   },
   {
    "duration": 116,
    "start_time": "2022-12-10T10:05:43.675Z"
   },
   {
    "duration": 39,
    "start_time": "2022-12-10T10:05:48.559Z"
   },
   {
    "duration": 111,
    "start_time": "2022-12-10T10:05:50.482Z"
   },
   {
    "duration": 4,
    "start_time": "2022-12-10T10:07:17.450Z"
   },
   {
    "duration": 734,
    "start_time": "2022-12-10T10:07:17.455Z"
   },
   {
    "duration": 13,
    "start_time": "2022-12-10T10:07:18.191Z"
   },
   {
    "duration": 135,
    "start_time": "2022-12-10T10:07:18.206Z"
   },
   {
    "duration": 409,
    "start_time": "2022-12-10T10:07:18.342Z"
   },
   {
    "duration": 91,
    "start_time": "2022-12-10T10:07:18.753Z"
   },
   {
    "duration": 12,
    "start_time": "2022-12-10T10:07:18.846Z"
   },
   {
    "duration": 39,
    "start_time": "2022-12-10T10:07:18.860Z"
   },
   {
    "duration": 736,
    "start_time": "2022-12-10T10:07:18.917Z"
   },
   {
    "duration": 47,
    "start_time": "2022-12-10T10:07:19.656Z"
   },
   {
    "duration": 380,
    "start_time": "2022-12-10T10:07:19.704Z"
   },
   {
    "duration": 742,
    "start_time": "2022-12-10T10:07:20.086Z"
   },
   {
    "duration": 27,
    "start_time": "2022-12-10T10:07:20.831Z"
   },
   {
    "duration": 26,
    "start_time": "2022-12-10T10:07:20.860Z"
   },
   {
    "duration": 7,
    "start_time": "2022-12-10T10:07:20.888Z"
   },
   {
    "duration": 54,
    "start_time": "2022-12-10T10:07:20.896Z"
   },
   {
    "duration": 105,
    "start_time": "2022-12-10T10:07:20.952Z"
   },
   {
    "duration": 29,
    "start_time": "2022-12-10T10:07:21.059Z"
   },
   {
    "duration": 25,
    "start_time": "2022-12-10T10:07:21.090Z"
   },
   {
    "duration": 36,
    "start_time": "2022-12-10T10:07:21.117Z"
   },
   {
    "duration": 22,
    "start_time": "2022-12-10T10:07:21.155Z"
   },
   {
    "duration": 66,
    "start_time": "2022-12-10T10:07:21.179Z"
   },
   {
    "duration": 20,
    "start_time": "2022-12-10T10:07:21.247Z"
   },
   {
    "duration": 45,
    "start_time": "2022-12-10T10:07:21.270Z"
   },
   {
    "duration": 16,
    "start_time": "2022-12-10T10:07:21.317Z"
   },
   {
    "duration": 86,
    "start_time": "2022-12-10T10:07:21.335Z"
   },
   {
    "duration": 817,
    "start_time": "2022-12-10T10:07:21.423Z"
   },
   {
    "duration": 151,
    "start_time": "2022-12-10T10:07:22.242Z"
   },
   {
    "duration": 257,
    "start_time": "2022-12-10T10:07:22.395Z"
   },
   {
    "duration": 15,
    "start_time": "2022-12-10T10:07:22.654Z"
   },
   {
    "duration": 44,
    "start_time": "2022-12-10T10:07:22.671Z"
   },
   {
    "duration": 71,
    "start_time": "2022-12-10T10:07:22.717Z"
   },
   {
    "duration": 59,
    "start_time": "2022-12-10T10:10:10.426Z"
   },
   {
    "duration": 998,
    "start_time": "2022-12-10T10:49:18.624Z"
   },
   {
    "duration": 46,
    "start_time": "2022-12-10T10:51:59.722Z"
   },
   {
    "duration": 57,
    "start_time": "2022-12-10T10:52:19.893Z"
   },
   {
    "duration": 77,
    "start_time": "2022-12-10T10:52:21.043Z"
   },
   {
    "duration": 860,
    "start_time": "2022-12-10T11:02:04.341Z"
   },
   {
    "duration": 3,
    "start_time": "2022-12-10T11:02:13.594Z"
   },
   {
    "duration": 2,
    "start_time": "2022-12-10T11:03:41.486Z"
   },
   {
    "duration": 18,
    "start_time": "2022-12-10T11:06:40.163Z"
   },
   {
    "duration": 3,
    "start_time": "2022-12-10T11:15:06.453Z"
   },
   {
    "duration": 1516,
    "start_time": "2022-12-10T11:45:42.310Z"
   },
   {
    "duration": 879,
    "start_time": "2022-12-10T11:45:43.828Z"
   },
   {
    "duration": 25,
    "start_time": "2022-12-10T11:45:44.708Z"
   },
   {
    "duration": 145,
    "start_time": "2022-12-10T11:45:44.736Z"
   },
   {
    "duration": 570,
    "start_time": "2022-12-10T11:45:44.882Z"
   },
   {
    "duration": 108,
    "start_time": "2022-12-10T11:45:45.453Z"
   },
   {
    "duration": 13,
    "start_time": "2022-12-10T11:45:45.562Z"
   },
   {
    "duration": 67,
    "start_time": "2022-12-10T11:45:45.577Z"
   },
   {
    "duration": 761,
    "start_time": "2022-12-10T11:45:45.645Z"
   },
   {
    "duration": 72,
    "start_time": "2022-12-10T11:45:46.409Z"
   },
   {
    "duration": 496,
    "start_time": "2022-12-10T11:45:46.483Z"
   },
   {
    "duration": 855,
    "start_time": "2022-12-10T11:45:46.981Z"
   },
   {
    "duration": 35,
    "start_time": "2022-12-10T11:45:47.842Z"
   },
   {
    "duration": 18,
    "start_time": "2022-12-10T11:45:47.878Z"
   },
   {
    "duration": 24,
    "start_time": "2022-12-10T11:45:47.897Z"
   },
   {
    "duration": 44,
    "start_time": "2022-12-10T11:45:47.923Z"
   },
   {
    "duration": 196,
    "start_time": "2022-12-10T11:45:47.969Z"
   },
   {
    "duration": 50,
    "start_time": "2022-12-10T11:45:48.167Z"
   },
   {
    "duration": 19,
    "start_time": "2022-12-10T11:45:48.218Z"
   },
   {
    "duration": 43,
    "start_time": "2022-12-10T11:45:48.239Z"
   },
   {
    "duration": 37,
    "start_time": "2022-12-10T11:45:48.284Z"
   },
   {
    "duration": 58,
    "start_time": "2022-12-10T11:45:48.323Z"
   },
   {
    "duration": 34,
    "start_time": "2022-12-10T11:45:48.383Z"
   },
   {
    "duration": 46,
    "start_time": "2022-12-10T11:45:48.419Z"
   },
   {
    "duration": 17,
    "start_time": "2022-12-10T11:45:48.467Z"
   },
   {
    "duration": 96,
    "start_time": "2022-12-10T11:45:48.485Z"
   },
   {
    "duration": 907,
    "start_time": "2022-12-10T11:45:48.583Z"
   },
   {
    "duration": 182,
    "start_time": "2022-12-10T11:45:49.493Z"
   },
   {
    "duration": 288,
    "start_time": "2022-12-10T11:45:49.677Z"
   },
   {
    "duration": 16,
    "start_time": "2022-12-10T11:45:49.967Z"
   },
   {
    "duration": 44,
    "start_time": "2022-12-10T11:45:49.984Z"
   },
   {
    "duration": 98,
    "start_time": "2022-12-10T11:45:50.030Z"
   },
   {
    "duration": 61,
    "start_time": "2022-12-10T11:45:50.131Z"
   },
   {
    "duration": 780,
    "start_time": "2022-12-10T11:45:50.194Z"
   },
   {
    "duration": 589,
    "start_time": "2022-12-10T11:45:50.976Z"
   },
   {
    "duration": 3258045,
    "start_time": "2022-12-10T11:45:51.567Z"
   },
   {
    "duration": 4,
    "start_time": "2022-12-10T12:40:09.614Z"
   },
   {
    "duration": 357086,
    "start_time": "2022-12-10T12:40:09.619Z"
   },
   {
    "duration": 444219,
    "start_time": "2022-12-10T12:46:06.707Z"
   },
   {
    "duration": 160,
    "start_time": "2022-12-10T12:53:30.929Z"
   },
   {
    "duration": 52,
    "start_time": "2022-12-10T12:53:31.091Z"
   },
   {
    "duration": 5,
    "start_time": "2022-12-10T12:55:05.387Z"
   },
   {
    "duration": 5,
    "start_time": "2022-12-10T12:55:14.042Z"
   },
   {
    "duration": 16239065,
    "start_time": "2022-12-10T12:55:16.535Z"
   },
   {
    "duration": 17,
    "start_time": "2022-12-10T17:25:55.602Z"
   },
   {
    "duration": 15,
    "start_time": "2022-12-10T17:25:55.620Z"
   },
   {
    "duration": 0,
    "start_time": "2022-12-10T17:25:55.636Z"
   },
   {
    "duration": 42,
    "start_time": "2022-12-10T17:30:16.586Z"
   },
   {
    "duration": 55,
    "start_time": "2022-12-10T17:30:37.376Z"
   },
   {
    "duration": 60,
    "start_time": "2022-12-10T17:31:13.967Z"
   },
   {
    "duration": 51,
    "start_time": "2022-12-10T17:31:30.293Z"
   },
   {
    "duration": 50,
    "start_time": "2022-12-10T17:32:28.817Z"
   },
   {
    "duration": 65,
    "start_time": "2022-12-10T17:33:14.312Z"
   },
   {
    "duration": 4,
    "start_time": "2022-12-10T17:33:59.717Z"
   },
   {
    "duration": 17,
    "start_time": "2022-12-10T17:34:27.904Z"
   },
   {
    "duration": 63,
    "start_time": "2022-12-10T17:43:40.213Z"
   },
   {
    "duration": 1020433,
    "start_time": "2022-12-10T17:44:07.184Z"
   },
   {
    "duration": 4,
    "start_time": "2022-12-10T18:02:30.842Z"
   },
   {
    "duration": 28398,
    "start_time": "2022-12-10T18:04:04.390Z"
   },
   {
    "duration": 13,
    "start_time": "2022-12-10T18:04:47.731Z"
   },
   {
    "duration": 50,
    "start_time": "2022-12-10T18:06:17.670Z"
   },
   {
    "duration": 64,
    "start_time": "2022-12-10T18:22:36.079Z"
   },
   {
    "duration": 78,
    "start_time": "2022-12-10T18:23:24.075Z"
   },
   {
    "duration": 56,
    "start_time": "2022-12-10T18:39:23.158Z"
   },
   {
    "duration": 58,
    "start_time": "2022-12-10T18:43:19.423Z"
   },
   {
    "duration": 495866,
    "start_time": "2022-12-10T18:44:28.652Z"
   },
   {
    "duration": 4,
    "start_time": "2022-12-10T18:57:38.423Z"
   },
   {
    "duration": 16,
    "start_time": "2022-12-10T18:58:15.114Z"
   },
   {
    "duration": 10,
    "start_time": "2022-12-10T18:59:03.764Z"
   },
   {
    "duration": 10,
    "start_time": "2022-12-10T18:59:17.250Z"
   },
   {
    "duration": 9,
    "start_time": "2022-12-10T19:01:39.686Z"
   },
   {
    "duration": 9,
    "start_time": "2022-12-10T19:02:12.878Z"
   },
   {
    "duration": 9,
    "start_time": "2022-12-10T19:03:52.372Z"
   },
   {
    "duration": 10,
    "start_time": "2022-12-10T19:05:31.547Z"
   },
   {
    "duration": 9,
    "start_time": "2022-12-10T19:06:21.179Z"
   },
   {
    "duration": 15,
    "start_time": "2022-12-10T19:26:08.614Z"
   },
   {
    "duration": 40,
    "start_time": "2022-12-10T19:26:24.322Z"
   },
   {
    "duration": 16,
    "start_time": "2022-12-10T19:27:24.590Z"
   },
   {
    "duration": 19,
    "start_time": "2022-12-10T19:27:33.818Z"
   },
   {
    "duration": 16,
    "start_time": "2022-12-10T19:28:02.861Z"
   },
   {
    "duration": 27,
    "start_time": "2022-12-10T19:29:14.677Z"
   },
   {
    "duration": 10,
    "start_time": "2022-12-10T19:31:31.273Z"
   },
   {
    "duration": 28363614,
    "start_time": "2022-12-10T19:32:45.092Z"
   },
   {
    "duration": 10,
    "start_time": "2022-12-11T03:25:28.708Z"
   },
   {
    "duration": 0,
    "start_time": "2022-12-11T03:25:28.719Z"
   },
   {
    "duration": 57,
    "start_time": "2022-12-11T03:26:19.990Z"
   },
   {
    "duration": 31,
    "start_time": "2022-12-11T03:28:00.834Z"
   },
   {
    "duration": 3306231,
    "start_time": "2022-12-11T03:28:36.988Z"
   },
   {
    "duration": 3,
    "start_time": "2022-12-11T04:43:41.576Z"
   },
   {
    "duration": 29,
    "start_time": "2022-12-11T04:43:45.914Z"
   },
   {
    "duration": 10,
    "start_time": "2022-12-11T04:48:01.830Z"
   },
   {
    "duration": 11,
    "start_time": "2022-12-11T04:48:59.629Z"
   },
   {
    "duration": 276,
    "start_time": "2022-12-11T04:55:17.237Z"
   },
   {
    "duration": 55,
    "start_time": "2022-12-11T05:03:10.462Z"
   },
   {
    "duration": 25,
    "start_time": "2022-12-11T05:03:15.747Z"
   },
   {
    "duration": 242,
    "start_time": "2022-12-11T05:09:29.686Z"
   },
   {
    "duration": 41,
    "start_time": "2022-12-11T05:10:51.094Z"
   },
   {
    "duration": 255,
    "start_time": "2022-12-11T05:18:43.299Z"
   },
   {
    "duration": 715,
    "start_time": "2022-12-11T05:19:12.350Z"
   },
   {
    "duration": 682,
    "start_time": "2022-12-11T05:19:38.143Z"
   },
   {
    "duration": 37,
    "start_time": "2022-12-11T05:19:55.464Z"
   },
   {
    "duration": 688,
    "start_time": "2022-12-11T05:21:04.182Z"
   },
   {
    "duration": 14,
    "start_time": "2022-12-11T05:23:40.331Z"
   },
   {
    "duration": 10,
    "start_time": "2022-12-11T05:28:52.418Z"
   },
   {
    "duration": 701,
    "start_time": "2022-12-11T05:30:36.426Z"
   },
   {
    "duration": 13,
    "start_time": "2022-12-11T05:30:50.475Z"
   },
   {
    "duration": 672,
    "start_time": "2022-12-11T05:31:10.525Z"
   },
   {
    "duration": 704,
    "start_time": "2022-12-11T05:31:19.080Z"
   },
   {
    "duration": 7,
    "start_time": "2022-12-11T05:31:36.105Z"
   },
   {
    "duration": 7,
    "start_time": "2022-12-11T05:33:00.687Z"
   },
   {
    "duration": 7,
    "start_time": "2022-12-11T05:34:20.214Z"
   },
   {
    "duration": 9,
    "start_time": "2022-12-11T05:36:31.579Z"
   },
   {
    "duration": 4,
    "start_time": "2022-12-11T05:36:39.171Z"
   },
   {
    "duration": 5,
    "start_time": "2022-12-11T05:36:52.933Z"
   },
   {
    "duration": 12,
    "start_time": "2022-12-11T05:38:36.854Z"
   },
   {
    "duration": 14,
    "start_time": "2022-12-11T05:38:48.960Z"
   },
   {
    "duration": 9,
    "start_time": "2022-12-11T05:39:06.146Z"
   },
   {
    "duration": 5,
    "start_time": "2022-12-11T05:39:36.252Z"
   },
   {
    "duration": 11,
    "start_time": "2022-12-11T05:39:45.351Z"
   },
   {
    "duration": 2,
    "start_time": "2022-12-11T05:43:12.440Z"
   },
   {
    "duration": 11,
    "start_time": "2022-12-11T05:43:28.891Z"
   },
   {
    "duration": 15,
    "start_time": "2022-12-11T05:45:35.617Z"
   },
   {
    "duration": 651,
    "start_time": "2022-12-11T05:51:48.648Z"
   },
   {
    "duration": 583,
    "start_time": "2022-12-11T05:52:26.535Z"
   },
   {
    "duration": 665,
    "start_time": "2022-12-11T05:52:50.689Z"
   },
   {
    "duration": 657,
    "start_time": "2022-12-11T05:53:05.763Z"
   },
   {
    "duration": 645,
    "start_time": "2022-12-11T05:53:56.339Z"
   },
   {
    "duration": 3,
    "start_time": "2022-12-11T05:54:49.992Z"
   },
   {
    "duration": 3,
    "start_time": "2022-12-11T05:59:08.398Z"
   },
   {
    "duration": 4,
    "start_time": "2022-12-11T05:59:16.847Z"
   },
   {
    "duration": 4,
    "start_time": "2022-12-11T05:59:32.824Z"
   },
   {
    "duration": 6,
    "start_time": "2022-12-11T06:01:36.782Z"
   },
   {
    "duration": 15,
    "start_time": "2022-12-11T06:01:56.286Z"
   },
   {
    "duration": 12,
    "start_time": "2022-12-11T06:02:28.727Z"
   },
   {
    "duration": 50,
    "start_time": "2022-12-11T06:08:19.918Z"
   },
   {
    "duration": 3,
    "start_time": "2022-12-11T06:08:36.850Z"
   },
   {
    "duration": 1498,
    "start_time": "2022-12-11T06:14:51.211Z"
   },
   {
    "duration": 791,
    "start_time": "2022-12-11T06:14:52.711Z"
   },
   {
    "duration": 23,
    "start_time": "2022-12-11T06:14:53.504Z"
   },
   {
    "duration": 157,
    "start_time": "2022-12-11T06:14:53.529Z"
   },
   {
    "duration": 498,
    "start_time": "2022-12-11T06:14:53.688Z"
   },
   {
    "duration": 107,
    "start_time": "2022-12-11T06:14:54.189Z"
   },
   {
    "duration": 22,
    "start_time": "2022-12-11T06:14:54.297Z"
   },
   {
    "duration": 46,
    "start_time": "2022-12-11T06:14:54.321Z"
   },
   {
    "duration": 829,
    "start_time": "2022-12-11T06:14:54.369Z"
   },
   {
    "duration": 78,
    "start_time": "2022-12-11T06:14:55.202Z"
   },
   {
    "duration": 428,
    "start_time": "2022-12-11T06:14:55.282Z"
   },
   {
    "duration": 817,
    "start_time": "2022-12-11T06:14:55.712Z"
   },
   {
    "duration": 28,
    "start_time": "2022-12-11T06:14:56.531Z"
   },
   {
    "duration": 18,
    "start_time": "2022-12-11T06:14:56.560Z"
   },
   {
    "duration": 6,
    "start_time": "2022-12-11T06:14:56.580Z"
   },
   {
    "duration": 61,
    "start_time": "2022-12-11T06:14:56.588Z"
   },
   {
    "duration": 173,
    "start_time": "2022-12-11T06:14:56.651Z"
   },
   {
    "duration": 40,
    "start_time": "2022-12-11T06:14:56.825Z"
   },
   {
    "duration": 12,
    "start_time": "2022-12-11T06:14:56.867Z"
   },
   {
    "duration": 54,
    "start_time": "2022-12-11T06:14:56.881Z"
   },
   {
    "duration": 22,
    "start_time": "2022-12-11T06:14:56.937Z"
   },
   {
    "duration": 61,
    "start_time": "2022-12-11T06:14:56.960Z"
   },
   {
    "duration": 21,
    "start_time": "2022-12-11T06:14:57.023Z"
   },
   {
    "duration": 30,
    "start_time": "2022-12-11T06:14:57.045Z"
   },
   {
    "duration": 15,
    "start_time": "2022-12-11T06:14:57.077Z"
   },
   {
    "duration": 104,
    "start_time": "2022-12-11T06:14:57.093Z"
   },
   {
    "duration": 827,
    "start_time": "2022-12-11T06:14:57.199Z"
   },
   {
    "duration": 171,
    "start_time": "2022-12-11T06:14:58.030Z"
   },
   {
    "duration": 239,
    "start_time": "2022-12-11T06:14:58.203Z"
   },
   {
    "duration": 17,
    "start_time": "2022-12-11T06:14:58.444Z"
   },
   {
    "duration": 70,
    "start_time": "2022-12-11T06:14:58.463Z"
   },
   {
    "duration": 81,
    "start_time": "2022-12-11T06:14:58.535Z"
   },
   {
    "duration": 57,
    "start_time": "2022-12-11T06:14:58.618Z"
   },
   {
    "duration": 702,
    "start_time": "2022-12-11T06:14:58.677Z"
   },
   {
    "duration": 548,
    "start_time": "2022-12-11T06:14:59.381Z"
   },
   {
    "duration": 783,
    "start_time": "2022-12-11T06:14:59.931Z"
   },
   {
    "duration": 11,
    "start_time": "2022-12-11T06:15:00.715Z"
   },
   {
    "duration": 0,
    "start_time": "2022-12-11T06:15:00.728Z"
   },
   {
    "duration": 0,
    "start_time": "2022-12-11T06:15:00.729Z"
   },
   {
    "duration": 0,
    "start_time": "2022-12-11T06:15:00.730Z"
   },
   {
    "duration": 0,
    "start_time": "2022-12-11T06:15:00.731Z"
   },
   {
    "duration": 0,
    "start_time": "2022-12-11T06:15:00.732Z"
   },
   {
    "duration": 0,
    "start_time": "2022-12-11T06:15:00.732Z"
   },
   {
    "duration": 0,
    "start_time": "2022-12-11T06:15:00.734Z"
   },
   {
    "duration": 0,
    "start_time": "2022-12-11T06:15:00.735Z"
   },
   {
    "duration": 0,
    "start_time": "2022-12-11T06:15:00.736Z"
   },
   {
    "duration": 0,
    "start_time": "2022-12-11T06:15:00.737Z"
   },
   {
    "duration": 0,
    "start_time": "2022-12-11T06:15:00.737Z"
   },
   {
    "duration": 0,
    "start_time": "2022-12-11T06:15:00.739Z"
   },
   {
    "duration": 0,
    "start_time": "2022-12-11T06:15:00.740Z"
   },
   {
    "duration": 667,
    "start_time": "2022-12-11T06:17:54.207Z"
   },
   {
    "duration": 1442562,
    "start_time": "2022-12-11T06:19:34.747Z"
   },
   {
    "duration": 4,
    "start_time": "2022-12-11T07:15:25.947Z"
   },
   {
    "duration": 11,
    "start_time": "2022-12-11T07:15:35.818Z"
   },
   {
    "duration": 340569,
    "start_time": "2022-12-11T07:17:28.313Z"
   },
   {
    "duration": 3,
    "start_time": "2022-12-11T07:23:49.557Z"
   },
   {
    "duration": 3455202,
    "start_time": "2022-12-11T07:24:09.773Z"
   },
   {
    "duration": 3,
    "start_time": "2022-12-11T08:22:25.477Z"
   },
   {
    "duration": 31,
    "start_time": "2022-12-11T08:22:27.967Z"
   },
   {
    "duration": 62,
    "start_time": "2022-12-11T08:30:42.104Z"
   },
   {
    "duration": 21383,
    "start_time": "2022-12-11T08:45:27.446Z"
   },
   {
    "duration": 28,
    "start_time": "2022-12-11T08:46:23.561Z"
   },
   {
    "duration": 5,
    "start_time": "2022-12-11T08:57:31.319Z"
   },
   {
    "duration": 13,
    "start_time": "2022-12-11T08:57:40.358Z"
   },
   {
    "duration": 10,
    "start_time": "2022-12-11T08:59:12.190Z"
   },
   {
    "duration": 1315,
    "start_time": "2022-12-11T08:59:53.187Z"
   },
   {
    "duration": 51,
    "start_time": "2022-12-11T09:00:22.967Z"
   },
   {
    "duration": 64,
    "start_time": "2022-12-11T09:00:30.180Z"
   },
   {
    "duration": 2079,
    "start_time": "2022-12-11T09:00:58.596Z"
   },
   {
    "duration": 737,
    "start_time": "2022-12-11T09:01:25.103Z"
   },
   {
    "duration": 4,
    "start_time": "2022-12-11T09:17:13.615Z"
   },
   {
    "duration": 4,
    "start_time": "2022-12-11T09:18:34.977Z"
   },
   {
    "duration": 12,
    "start_time": "2022-12-11T09:21:07.624Z"
   },
   {
    "duration": 12,
    "start_time": "2022-12-11T09:21:48.821Z"
   },
   {
    "duration": 9,
    "start_time": "2022-12-11T09:22:18.584Z"
   },
   {
    "duration": 5,
    "start_time": "2022-12-11T09:24:56.158Z"
   },
   {
    "duration": 3,
    "start_time": "2022-12-11T09:25:53.885Z"
   },
   {
    "duration": 3,
    "start_time": "2022-12-11T09:26:29.123Z"
   },
   {
    "duration": 40,
    "start_time": "2022-12-11T09:50:18.004Z"
   },
   {
    "duration": 10,
    "start_time": "2022-12-11T09:50:40.236Z"
   },
   {
    "duration": 39,
    "start_time": "2022-12-11T10:00:52.960Z"
   },
   {
    "duration": 29,
    "start_time": "2022-12-11T10:01:18.381Z"
   },
   {
    "duration": 43,
    "start_time": "2022-12-11T10:02:28.154Z"
   },
   {
    "duration": 14,
    "start_time": "2022-12-11T10:02:46.478Z"
   },
   {
    "duration": 7,
    "start_time": "2022-12-11T10:03:21.660Z"
   },
   {
    "duration": 8,
    "start_time": "2022-12-11T10:03:46.230Z"
   },
   {
    "duration": 13,
    "start_time": "2022-12-11T10:04:09.350Z"
   },
   {
    "duration": 9,
    "start_time": "2022-12-11T10:06:30.429Z"
   },
   {
    "duration": 10,
    "start_time": "2022-12-11T10:06:59.549Z"
   },
   {
    "duration": 10,
    "start_time": "2022-12-11T10:07:38.625Z"
   },
   {
    "duration": 10,
    "start_time": "2022-12-11T10:07:47.628Z"
   },
   {
    "duration": 1168,
    "start_time": "2022-12-11T10:09:33.687Z"
   },
   {
    "duration": 746,
    "start_time": "2022-12-11T10:09:36.512Z"
   },
   {
    "duration": 1870,
    "start_time": "2022-12-11T10:22:36.530Z"
   }
  ],
  "kernelspec": {
   "display_name": "Python 3 (ipykernel)",
   "language": "python",
   "name": "python3"
  },
  "language_info": {
   "codemirror_mode": {
    "name": "ipython",
    "version": 3
   },
   "file_extension": ".py",
   "mimetype": "text/x-python",
   "name": "python",
   "nbconvert_exporter": "python",
   "pygments_lexer": "ipython3",
   "version": "3.9.7"
  },
  "toc": {
   "base_numbering": 1,
   "nav_menu": {
    "height": "228.984px",
    "width": "790px"
   },
   "number_sections": true,
   "sideBar": true,
   "skip_h1_title": true,
   "title_cell": "Table of Contents",
   "title_sidebar": "Contents",
   "toc_cell": false,
   "toc_position": {},
   "toc_section_display": true,
   "toc_window_display": false
  }
 },
 "nbformat": 4,
 "nbformat_minor": 2
}
